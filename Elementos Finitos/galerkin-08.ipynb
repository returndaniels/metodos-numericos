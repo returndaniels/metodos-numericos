{
 "cells": [
  {
   "cell_type": "markdown",
   "metadata": {},
   "source": [
    "## Definição da formulação forte"
   ]
  },
  {
   "cell_type": "markdown",
   "metadata": {},
   "source": [
    "Considere $V$ como o espaço formado por funções $v:\\overline{\\Omega}\\rightarrow\\mathbb{R}$, com $v$ suficientemente regular e satisfazendo a condição $v(x)=0,\\; \\forall x\\in\\Gamma$.\n",
    "\n",
    "\\begin{align}\n",
    "\\left\\{\n",
    "\\begin{aligned}\n",
    "&-\\alpha \\Delta u(x) + \\beta u(x) = f(x),\\quad x\\in\\Omega,\n",
    "\\\\[4pt]\n",
    "&u(x) = 0, \\quad x\\in\\Gamma,\n",
    "\\end{aligned}\\right.\n",
    "\\end{align}\n",
    "\n",
    "em que, $\\Omega$ é um subconjunto do $\\mathbb{R}^2$, $\\Gamma$ é a fronteira de $\\Omega$ e $\\overline{\\Omega}=\\Omega\\cup\\Gamma$.\n"
   ]
  },
  {
   "cell_type": "markdown",
   "metadata": {},
   "source": [
    "### Transição entre a formulação forte e fraca"
   ]
  },
  {
   "cell_type": "markdown",
   "metadata": {},
   "source": [
    "Considere $V$ como o espaço formado por funções $v:\\overline{\\Omega}\\rightarrow\\mathbb{R}$, com $v$ suficientemente regular e satisfazendo a condição $v(x)=0,\\; \\forall x\\in\\Gamma$.\n",
    "\n",
    "Dado $v \\in V$, ao multiplicar a equação diferencial da formulação forte por $v$ e integrar sobre $\\Omega$, obtemos\n",
    "\n",
    "\n",
    "\\begin{align*}\n",
    "-\\alpha\\int_\\Omega u_{x_1^{}x_1^{}}^{}(x)v(x)d\\Omega\n",
    "-\\alpha\\int_\\Omega u_{x_2^{}x_2^{}}^{}(x)v(x)d\\Omega\n",
    "+\\beta\\int_\\Omega u(x)v(x)d\\Omega\n",
    "= \n",
    "  \\int_\\Omega f(x)v(x)d\\Omega .\n",
    "\\end{align*}\n",
    "\n",
    "Com isso, dado que\n",
    "\n",
    "\\begin{align*}\n",
    "- \\int_\\Omega u_{x_i^{}x_i^{}}^{}(x)v(x)d\\Omega =\n",
    "  \\int_\\Omega u_{x_i^{}}^{}(x)v_{x_i^{}}^{}(x)d\\Omega,\n",
    "\\end{align*}\n",
    "\n",
    "\n",
    "Dessa forma temos\n",
    "\n",
    "\\begin{align*}\n",
    "\\alpha\\int_\\Omega u_{x_1^{}}^{}(x)v_{x_1^{}}^{}(x)d\\Omega\n",
    "+\\alpha\\int_\\Omega u_{x_2^{}}^{}(x)v_{x_2^{}}^{}(x)d\\Omega\n",
    "+\\beta\\int_\\Omega u(x)v(x)d\\Omega\n",
    "= \n",
    "  \\int_\\Omega f(x)v(x)d\\Omega.\n",
    "\\end{align*}"
   ]
  },
  {
   "cell_type": "markdown",
   "metadata": {},
   "source": [
    "## Definição da formulação fraca"
   ]
  },
  {
   "cell_type": "markdown",
   "metadata": {},
   "source": [
    "Dada uma função $f:\\overline{\\Omega}\\rightarrow\\mathbb{R}$ e constantes reais $\\alpha>0$ e $\\beta\\geq 0$, determine $u\\in V$ tal que\n",
    "\n",
    "\\begin{align*}\n",
    "\\kappa(u,v) = (f,v),\\quad \\forall v\\in V.\n",
    "\\end{align*}"
   ]
  },
  {
   "cell_type": "code",
   "execution_count": 15,
   "metadata": {},
   "outputs": [],
   "source": [
    "using LinearAlgebra\n",
    "using Plots\n",
    "using GaussQuadrature\n",
    "using SparseArrays\n",
    "using DataFrames"
   ]
  },
  {
   "cell_type": "markdown",
   "metadata": {},
   "source": [
    "### Exemplos de solução exata para o problema acima:\n"
   ]
  },
  {
   "cell_type": "code",
   "execution_count": 16,
   "metadata": {},
   "outputs": [
    {
     "data": {
      "text/plain": [
       "dados_de_entrada"
      ]
     },
     "metadata": {},
     "output_type": "display_data"
    }
   ],
   "source": [
    "function Exemplo1()\n",
    "    alpha = 1.0 \n",
    "    beta = 1.0\n",
    "    gamma = 1.0\n",
    "    f(x) = (alpha*π^2 + beta) * sin(π*x) + gamma * π * cos(π*x)\n",
    "    u(x) = sin(π*x)\n",
    "    return alpha, beta, gamma, f, u\n",
    "end\n",
    "\n",
    "function Exemplo2()\n",
    "    alpha = 1.0 \n",
    "    beta = 0.0\n",
    "    gamma = 0.0\n",
    "    f(x) = 8.0\n",
    "    u(x) = -4.0 * x * (x - 1.0)\n",
    "    return alpha, beta, gamma, f, u\n",
    "end\n",
    "\n",
    "\"Retorna os valores de `alpha`, `beta`, `f` e `u` de acordo com o exemplo escolhido.\"\n",
    "function dados_de_entrada(exemplo::Int)\n",
    "    if exemplo == 1\n",
    "        return Exemplo1()\n",
    "    elseif exemplo == 2\n",
    "        return Exemplo2()\n",
    "    else\n",
    "        error(\"Exemplo inválido. Escolha 1, 2, 3 ou 4.\")\n",
    "    end\n",
    "end\n",
    "     "
   ]
  },
  {
   "cell_type": "markdown",
   "metadata": {},
   "source": [
    "## Problema aproximado - Galerkin"
   ]
  },
  {
   "cell_type": "markdown",
   "metadata": {},
   "source": [
    "Dada uma função $f:\\overline{\\Omega}\\rightarrow\\mathbb{R}$ e constantes reais $\\alpha>0$ e $\\beta\\geq 0$, determine $u\\in V_m$ tal que\n",
    "\n",
    "\\begin{align*}\n",
    "\\kappa(u,v) = (f,v),\\quad \\forall v\\in V_m.\n",
    "\\end{align*}\n",
    "\n",
    "sendo $V_m$ um subespaço vetorial de $V$ com dimensão finita $m$."
   ]
  },
  {
   "cell_type": "markdown",
   "metadata": {},
   "source": [
    "### Transição entre o problema aproximado e sua forma matriz-vetor"
   ]
  },
  {
   "cell_type": "markdown",
   "metadata": {},
   "source": [
    "\n",
    "A formulação matricial é dada por $\\displaystyle u_h(x) = \\sum_{j=1}^{m} c_j\\varphi_j(x)$ para $i=1,2,\\dots,m$. Do sistema resultante obtemos:\n",
    "\n",
    "\\begin{align*}\n",
    "\\left\\{\n",
    "\\begin{aligned}\n",
    "& \\kappa\\big(\\sum_{j=1}^mc_j\\varphi_j,\\varphi_1 \\big) = (f,\\varphi_1), \n",
    "\\\\\n",
    "& \\kappa\\big(\\sum_{j=1}^mc_j\\varphi_j,\\varphi_2 \\big) = (f,\\varphi_2),\n",
    "\\\\\n",
    "& \\kappa\\big(\\sum_{j=1}^mc_j\\varphi_j,\\varphi_3 \\big) = (f,\\varphi_3),\n",
    "\\\\\n",
    "& \\vdots\n",
    "\\\\\n",
    "& \\kappa\\big(\\sum_{j=1}^mc_j\\varphi_j,\\varphi_m \\big) = (f,\\varphi_m).\n",
    "\\end{aligned}\\right.\n",
    "\\end{align*}\n",
    "\n",
    "Com isso, dado que o operador k é linear em cada componente, temos:\n",
    "\n",
    "\\begin{align*}\n",
    "\\left\\{\n",
    "\\begin{aligned}\n",
    "& \\kappa\\big(\\varphi_1,\\varphi_1\\big)c_1 + \\kappa\\big(\\varphi_2,\\varphi_1\\big)c_2 + \\kappa\\big(\\varphi_3,\\varphi_1\\big)c_3 + \\dots + \\kappa\\big(\\varphi_m,\\varphi_1\\big)c_m = (f,\\varphi_1), \n",
    "\\\\\n",
    "& \\kappa\\big(\\varphi_1,\\varphi_2\\big)c_1 + \\kappa\\big(\\varphi_2,\\varphi_2\\big)c_2 + \\kappa\\big(\\varphi_3,\\varphi_2\\big)c_3 + \\dots + \\kappa\\big(\\varphi_m,\\varphi_2\\big)c_m = (f,\\varphi_2), \n",
    "\\\\\n",
    "& \\kappa\\big(\\varphi_1,\\varphi_3\\big)c_1 + \\kappa\\big(\\varphi_2,\\varphi_3\\big)c_2 + \\kappa\\big(\\varphi_3,\\varphi_3\\big)c_3 + \\dots + \\kappa\\big(\\varphi_m,\\varphi_3\\big)c_m = (f,\\varphi_3), \n",
    "\\\\\n",
    "& \\vdots\n",
    "\\\\\n",
    "& \\kappa\\big(\\varphi_1,\\varphi_m\\big)c_1 + \\kappa\\big(\\varphi_2,\\varphi_m\\big)c_2 + \\kappa\\big(\\varphi_3,\\varphi_m\\big)c_3 + \\dots + \\kappa\\big(\\varphi_m,\\varphi_m\\big)c_m = (f,\\varphi_m).\n",
    "\\end{aligned}\\right.\n",
    "\\end{align*}\n",
    "\n",
    "Daí podemos transfomar na forma de matrizes\n",
    "\n",
    "\\begin{align*}\n",
    "\\begin{bmatrix}\n",
    "\\kappa\\big(\\varphi_1,\\varphi_1\\big)&\\kappa\\big(\\varphi_2,\\varphi_1\\big)&\\kappa\\big(\\varphi_3,\\varphi_1\\big)&\\dots&\\kappa\\big(\\varphi_m,\\varphi_1\\big)\\\\\n",
    "\\kappa\\big(\\varphi_1,\\varphi_2\\big)&\\kappa\\big(\\varphi_2,\\varphi_2\\big)&\\kappa\\big(\\varphi_3,\\varphi_2\\big)&\\dots&\\kappa\\big(\\varphi_m,\\varphi_2\\big)\\\\\n",
    "\\kappa\\big(\\varphi_1,\\varphi_3\\big)&\\kappa\\big(\\varphi_2,\\varphi_3\\big)&\\kappa\\big(\\varphi_3,\\varphi_3\\big)&\\dots&\\kappa\\big(\\varphi_m,\\varphi_3\\big)\\\\\n",
    "\\vdots&\\vdots&\\vdots&\\ddots& \\vdots  \\\\\n",
    "\\kappa\\big(\\varphi_1,\\varphi_m\\big)&\\kappa\\big(\\varphi_2,\\varphi_m\\big)&\\kappa\\big(\\varphi_3,\\varphi_m\\big)&\\dots&\\kappa\\big(\\varphi_m,\\varphi_m\\big)\\\\\n",
    "\\end{bmatrix}\n",
    "\\begin{bmatrix}\n",
    "c_1\\\\\n",
    "c_2\\\\\n",
    "c_3\\\\\n",
    "\\vdots\\\\\n",
    "c_m\n",
    "\\end{bmatrix}\n",
    "=\n",
    "\\begin{bmatrix}\n",
    "(f,\\varphi_1)\\\\\n",
    "(f,\\varphi_2)\\\\\n",
    "(f,\\varphi_3)\\\\\n",
    "\\vdots\\\\\n",
    "(f,\\varphi_m)\\\\\n",
    "\\end{bmatrix}.\n",
    "\\end{align*}\n"
   ]
  },
  {
   "cell_type": "markdown",
   "metadata": {},
   "source": [
    "## Definição da forma matriz-vetor do problema aproximado"
   ]
  },
  {
   "cell_type": "markdown",
   "metadata": {},
   "source": [
    "Dada a matriz $K$ e o vetor $F$, determine o vetor $c\\in\\mathbb{R}^m$ tal que\n",
    "\n",
    "\\begin{align*}\n",
    "Kc=F,\n",
    "\\end{align*}\n",
    "\n",
    "onde\n",
    "\n",
    "\\begin{align*}\n",
    "K_{i,j} = \\kappa\\big(\\varphi_j,\\varphi_i\\big)\n",
    "\\quad\\text{e}\\quad\n",
    "F_i = (f,\\varphi_i), \n",
    "\\quad\\text{com}\\quad\n",
    "i,j\\in\\{1,2,\\dots,m\\}.\n",
    "\\end{align*}\n"
   ]
  },
  {
   "cell_type": "code",
   "execution_count": 17,
   "metadata": {},
   "outputs": [
    {
     "data": {
      "text/plain": [
       "dphi_dcsi2 (generic function with 1 method)"
      ]
     },
     "metadata": {},
     "output_type": "display_data"
    }
   ],
   "source": [
    "\"\"\"\n",
    "Mapeia um ponto `ξ` do intervalo padrão `[-1, 1]` para o intervalo físico\n",
    "\"\"\"\n",
    "function X(csi::Float64, h::Float64, p::Float64)\n",
    "    return (csi + 1.0) * (h / 2.0) + p\n",
    "end\n",
    "\n",
    "function phi(csi1, csi2, a)\n",
    "\tif a == 1\n",
    "\t\treturn (1-csi1)*(1-csi2)/4\n",
    "\telseif a == 2\n",
    "\t\treturn (1+csi1)*(1-csi2)/4\n",
    "\telseif a == 3\n",
    "\t\treturn (1+csi1)*(1+csi2)/4\n",
    "\telseif a == 4\n",
    "\t\treturn (1-csi1)*(1+csi2)/4\n",
    "\telse\n",
    "\t\terror(\"a deve ser 1, 2, 3 ou 4.\")\n",
    "\tend\n",
    "end\n",
    "\n",
    "function dphi_dcsi1(csi1, csi2, a) \n",
    "\tif a == 1\n",
    "\t\treturn -(1-csi2)/4\n",
    "\telseif a == 2\n",
    "\t\treturn  (1-csi2)/4\n",
    "\telseif a == 3\n",
    "\t\treturn  (1+csi2)/4\n",
    "\telseif a == 4\n",
    "\t\treturn -(1+csi2)/4\n",
    "\telse\n",
    "\t\terror(\"a deve ser 1, 2, 3 ou 4.\")\n",
    "\tend\n",
    "end\n",
    "\n",
    "function dphi_dcsi2(csi1, csi2, a)\n",
    "\tif a == 1\n",
    "\t\treturn -(1-csi1)/4\n",
    "\telseif a == 2\n",
    "\t\treturn -(1+csi1)/4\n",
    "\telseif a == 3\n",
    "\t\treturn  (1+csi1)/4\n",
    "\telseif a == 4\n",
    "\t\treturn  (1-csi1)/4\n",
    "\telse\n",
    "\t\terror(\"a deve ser 1, 2, 3 ou 4.\")\n",
    "\tend\n",
    "end\n",
    "\n"
   ]
  },
  {
   "cell_type": "markdown",
   "metadata": {},
   "source": [
    "## Calculo das matrizes LG e EQ a partir do número de elementos"
   ]
  },
  {
   "cell_type": "markdown",
   "metadata": {},
   "source": [
    "\n",
    "A matriz $LG$ armazena a correspondência entre a nomenclatura local e global de cada elemento finito. Assim, ela possui $n_e$ colunas, cada uma relativa a um elemento finito.\n",
    "\n",
    "\\begin{align*}\n",
    "LG = \n",
    "\\begin{bmatrix}\n",
    "%%%%%%%%%%%%%%% Bloco 1\n",
    "\\begin{bmatrix}\n",
    "\\\\\n",
    "\\hbox{Bloco }1\\\\\n",
    "\\\\\n",
    "\\end{bmatrix}_{4\\times N_{x_1}},\n",
    "%%%%%%%%%%%%%%% Bloco 2\n",
    "\\begin{bmatrix}\n",
    "\\\\\n",
    "\\hbox{Bloco }2\\\\\n",
    "\\\\\n",
    "\\end{bmatrix}_{4\\times N_{x_1}},\n",
    "\\dots,\n",
    "%%%%%%%%%%%%%%% Bloco N_{x_2}\n",
    "\\begin{bmatrix}\n",
    "\\\\\n",
    "\\hbox{Bloco }N_{x_2}\\\\\n",
    "\\\\\n",
    "\\end{bmatrix}_{4\\times N_{x_1}}\n",
    "\\end{bmatrix}\n",
    "\\end{align*}\n",
    "\n",
    "Cada bloco da matriz $LG$ é dada por\n",
    "\\begin{align}\n",
    "%%%%%%%%%%%%%%%%%%%%%%%% Primeiro bloco, i.e., e=1,..., N_{x_1}\n",
    "\\hbox{Bloco }1 = &\n",
    "\\begin{bmatrix}\n",
    "1         & 2         & \\dots &  n_{x_1}-1 \\\\\n",
    "2         & 3         & \\dots &  n_{x_1}   \\\\\n",
    "n_{x_1}+2 & n_{x_1}+3 & \\dots & 2n_{x_1}   \\\\\n",
    "n_{x_1}+1 & n_{x_1}+2 & \\dots & 2n_{x_1}-1\n",
    "\\end{bmatrix}_{4\\times N_{x_1}},\n",
    "\\\\[10pt]\n",
    "%%%%%%%%%%%%%%%%%%%%%%%% Segundo bloco, i.e., e=N_{x_1}+1,..., 2N_{x_1}\n",
    "\\hbox{Bloco }2 = &\n",
    "\\begin{bmatrix}\n",
    " n_{x_1}+1 &  n_{x_1}+2 & \\dots & 2n_{x_1}-1 \\\\\n",
    " n_{x_1}+2 &  n_{x_1}+3 & \\dots & 2n_{x_1}   \\\\\n",
    "2n_{x_1}+2 & 2n_{x_1}+3 & \\dots & 3n_{x_1}   \\\\\n",
    "2n_{x_1}+1 & 2n_{x_1}+2 & \\dots & 3n_{x_1}-1\n",
    "\\end{bmatrix}_{4\\times N_{x_1}},\n",
    "\\\\[10pt]\n",
    "%%%%%%%%%%%%%%%%%%%%%%%% \n",
    "\\vdots\n",
    "\\\\[10pt]\n",
    "%%%%%%%%%%%%%%%%%%%%%%%% Último bloco, i.e., e=N_{x_2}-1)N_{x_1}+1,...,N_{x_2}N_{x_1}\n",
    "\\hbox{Bloco }N_{x_2} = &\n",
    "\\begin{bmatrix}\n",
    "(n_{x_2}-2)n_{x_1}+1 & (n_{x_2}-2)n_{x_1}+2 & \\dots & (n_{x_2}-1)n_{x_1}-1 \\\\\n",
    "(n_{x_2}-2)n_{x_1}+2 & (n_{x_2}-2)n_{x_1}+3 & \\dots & (n_{x_2}-1)n_{x_1}   \\\\\n",
    "(n_{x_2}-1)n_{x_1}+2 & (n_{x_2}-1)n_{x_1}+3 & \\dots &  n_{x_2}   n_{x_1}   \\\\\n",
    "(n_{x_2}-1)n_{x_1}+1 & (n_{x_2}-1)n_{x_1}+2 & \\dots &  n_{x_2}   n_{x_1}-1 \\\\\n",
    "\\end{bmatrix}_{4\\times N_{x_1}}.\n",
    "\\end{align}"
   ]
  },
  {
   "cell_type": "code",
   "execution_count": 18,
   "metadata": {},
   "outputs": [
    {
     "data": {
      "text/plain": [
       "make_EQ (generic function with 1 method)"
      ]
     },
     "metadata": {},
     "output_type": "display_data"
    }
   ],
   "source": [
    "function make_partial_LG(nx1, nx2)\n",
    "    return transpose(\n",
    "        hcat(\n",
    "            (nx2 - 2) * nx1 + 1:(nx2 - 1) * nx1 - 1, \n",
    "            (nx2 - 2) * nx1 + 2:(nx2 - 1) * nx1, \n",
    "            (nx2 - 1) * nx1 + 2:nx2 * nx1, \n",
    "            (nx2 - 1) * nx1 + 1:nx2 * nx1 - 1\n",
    "        )\n",
    "    )\n",
    "end\n",
    "\n",
    "function make_LG(Nx1::Int, Nx2::Int) :: Matrix{Int}\n",
    "    LG = make_partial_LG(Nx1 + 1, 2)\n",
    "\n",
    "    for i = 3:Nx2 + 1\n",
    "        LG = hcat(LG, make_partial_LG(Nx1 + 1, i))\n",
    "    end\n",
    "    return LG\n",
    "end\n",
    "\n",
    "function make_EQ(Nx1::Int64, Nx2::Int64) :: Tuple{Int64,Vector{Int64}}\n",
    "    nx1 = Nx1 + 1\n",
    "    nx2 = Nx2 + 1\n",
    "    m = (nx1 - 2) * (nx2 - 2)\n",
    "    EQ = fill(m + 1, nx1 * nx2)\n",
    "    L = []\n",
    "    for j in 1:nx2-2\n",
    "        for i in 0:nx1-3\n",
    "            push!(L, i + (j * nx1) + 2)\n",
    "        end\n",
    "    end\n",
    "    EQ[L] .= 1:m\n",
    "    \n",
    "    return m, EQ\n",
    "end"
   ]
  },
  {
   "cell_type": "markdown",
   "metadata": {},
   "source": [
    "### Cálculo da matriz local $K^e$ - via quadratura gaussia"
   ]
  },
  {
   "cell_type": "markdown",
   "metadata": {},
   "source": [
    "\\begin{align}\n",
    "K_{a,b}^e \n",
    "=&\n",
    " \\alpha\\int_{\\Omega^e} \n",
    "\\frac{\\partial\\varphi_b^e}{\\partial x_1}(x)\n",
    "\\frac{\\partial\\varphi_a^e}{\\partial x_1}(x)\n",
    "d\\Omega\n",
    "+\\alpha\\int_{\\Omega^e} \n",
    "\\frac{\\partial\\varphi_b^e}{\\partial x_2}(x)\n",
    "\\frac{\\partial\\varphi_a^e}{\\partial x_2}(x)\n",
    "d\\Omega\n",
    "+\\beta \\int_{\\Omega^e} \n",
    "\\varphi_b^e(x)\n",
    "\\varphi_a^e(x)\n",
    "d\\Omega\n",
    "\n",
    "\\\\[20pt]\n",
    "= &\n",
    "\\alpha\\int_{-1}^1\\int_{-1}^1\n",
    "\\frac{\\partial\\varphi_b^e}{\\partial x_1}\\big(x(\\xi)\\big)\n",
    "\\frac{\\partial\\varphi_a^e}{\\partial x_1}\\big(x(\\xi)\\big)\n",
    "\\left|\\frac{\\partial(x_1,x_2)}{\\partial(\\xi_1,\\xi_2)}\\right| d\\xi_1\\,d\\xi_2\n",
    "\\\\[10pt]\n",
    "& +\n",
    "\\alpha\\int_{-1}^1\\int_{-1}^1\n",
    "\\frac{\\partial\\varphi_b^e}{\\partial x_2}\\big(x(\\xi)\\big)\n",
    "\\frac{\\partial\\varphi_a^e}{\\partial x_2}\\big(x(\\xi)\\big)\n",
    "\\left|\\frac{\\partial(x_1,x_2)}{\\partial(\\xi_1,\\xi_2)}\\right| d\\xi_1\\,d\\xi_2\n",
    "\\\\[10pt]\n",
    "& +\n",
    "\\beta \\int_{-1}^1\\int_{-1}^1\n",
    "\\varphi_b^e\\big(x(\\xi)\\big)\n",
    "\\varphi_a^e\\big(x(\\xi)\\big)\n",
    "\\left|\\frac{\\partial(x_1,x_2)}{\\partial(\\xi_1,\\xi_2)}\\right| d\\xi_1\\,d\\xi_2\n",
    "\n",
    "\\\\[20pt]\n",
    "=&\n",
    "\\alpha\\int_{-1}^1\\int_{-1}^1\n",
    "\\frac{\\partial\\phi_b}{\\partial \\xi_1}(\\xi)\\frac{2}{h_1}\n",
    "\\frac{\\partial\\phi_a}{\\partial \\xi_1}(\\xi)\\frac{2}{h_1}\n",
    "\\frac{h_1h_2}{4} d\\xi_1\\,d\\xi_2\n",
    "\\\\[10pt]\n",
    "& +\n",
    "\\alpha\\int_{-1}^1\\int_{-1}^1\n",
    "\\frac{\\partial\\phi_b}{\\partial \\xi_2}(\\xi)\\frac{2}{h_2}\n",
    "\\frac{\\partial\\phi_a}{\\partial \\xi_2}(\\xi)\\frac{2}{h_2}\n",
    "\\frac{h_1h_2}{4} d\\xi_1\\,d\\xi_2\n",
    "\\\\[10pt]\n",
    "& +\n",
    "\\beta \\int_{-1}^1\\int_{-1}^1\n",
    "\\phi_b(\\xi)\n",
    "\\phi_a(\\xi)\n",
    "\\frac{h_1h_2}{4} d\\xi_1\\,d\\xi_2\n",
    "\n",
    "\\\\[20pt]\n",
    "=&\n",
    "\\alpha\n",
    "\\frac{h_2}{h_1}\n",
    "\\int_{-1}^1\\int_{-1}^1\n",
    "\\frac{\\partial\\phi_b}{\\partial \\xi_1}(\\xi)\n",
    "\\frac{\\partial\\phi_a}{\\partial \\xi_1}(\\xi)\n",
    "d\\xi_1\\,d\\xi_2\n",
    "\\\\[10pt]\n",
    "& +\n",
    "\\alpha\n",
    "\\frac{h_1}{h_2}\n",
    "\\int_{-1}^1\\int_{-1}^1\n",
    "\\frac{\\partial\\phi_b}{\\partial \\xi_2}(\\xi)\n",
    "\\frac{\\partial\\phi_a}{\\partial \\xi_2}(\\xi)\n",
    "d\\xi_1\\,d\\xi_2\n",
    "\\\\[10pt]\n",
    "& +\n",
    "\\beta\n",
    "\\frac{h_1h_2}{4} \n",
    "\\int_{-1}^1\\int_{-1}^1\n",
    "\\phi_b(\\xi)\n",
    "\\phi_a(\\xi)\n",
    "d\\xi_1\\,d\\xi_2.\n",
    "\\end{align}"
   ]
  },
  {
   "cell_type": "code",
   "execution_count": 19,
   "metadata": {},
   "outputs": [
    {
     "data": {
      "text/plain": [
       "make_Ke (generic function with 1 method)"
      ]
     },
     "metadata": {},
     "output_type": "display_data"
    }
   ],
   "source": [
    "\n",
    "function make_Ke(alfa::Float64, beta::Float64, h1::Float64, h2::Float64, P::Vector{Float64}, W::Vector{Float64})\n",
    "    K = zeros(4, 4)\n",
    "    c1 = alfa * (h2 / h1)\n",
    "    c2 = alfa * (h1 / h2)\n",
    "    c3 = beta * (h1 * h2 / 4)\n",
    "\n",
    "    for a in 1:4\n",
    "        for b in 1:4\n",
    "            for gi in 1:length(P)\n",
    "                xi1 = P[gi]\n",
    "                for gj in 1:length(P)\n",
    "                    xi2 = P[gj]\n",
    "                    K[a, b] += W[gi] * W[gj] * (\n",
    "                        c1 * dphi_dcsi1(xi1, xi2, b) * dphi_dcsi1(xi1, xi2, a) + \n",
    "                        c2 * dphi_dcsi2(xi1, xi2, b) * dphi_dcsi2(xi1, xi2, a) + \n",
    "                        c3 * phi(xi1, xi2, b) * phi(xi1, xi2, a)\n",
    "                    )\n",
    "                end\n",
    "            end\n",
    "        end\n",
    "    end\n",
    "    return K\n",
    "end\n",
    "\n"
   ]
  },
  {
   "cell_type": "markdown",
   "metadata": {},
   "source": [
    "### Montagem da matriz global K a partir da matriz local $K^e$"
   ]
  },
  {
   "cell_type": "code",
   "execution_count": 20,
   "metadata": {},
   "outputs": [
    {
     "data": {
      "text/plain": [
       "make_K (generic function with 1 method)"
      ]
     },
     "metadata": {},
     "output_type": "display_data"
    }
   ],
   "source": [
    "function make_K(alpha::Float64, beta::Float64, n_x1::Int64, n_x2::Int64, m::Int64, EQoLG::Matrix{Int64})\n",
    "    h1 = 1 / n_x1\n",
    "    h2 = 1 / n_x2\n",
    "    ne = n_x1 * n_x2\n",
    "    P, W = legendre(2)\n",
    "\n",
    "    ke = monta_ke(alpha, beta, h1, h2, P, W)\n",
    "    K = spzeros(m+1, m+1)\n",
    "    for e = 1:ne\n",
    "        for b = 1:4\n",
    "            j = EQoLG[b,e]\n",
    "            for a = 1:4\n",
    "                i = EQoLG[a,e]\n",
    "                K[i,j] += ke[a,b]\n",
    "            end\n",
    "        end\n",
    "    end\n",
    "   \n",
    "    return K[1:m, 1:m]\n",
    "end"
   ]
  },
  {
   "cell_type": "markdown",
   "metadata": {},
   "source": [
    "### Cálculo do vetor local $F^e$ - via quadratura gaussiana"
   ]
  },
  {
   "cell_type": "markdown",
   "metadata": {},
   "source": [
    "\\begin{align}\n",
    "F_a^e \n",
    "=& \\int_{\\Omega^e}f(x)\\varphi_a^e(x)d\\Omega\n",
    "\\\\[5pt]\n",
    "=& \\int_{-1}^1\\int_{-1}^1 f\\big(x(\\xi)\\big)\\varphi_a^e\\big(x(\\xi)\\big)\n",
    "\\left|\\frac{\\partial(x_1,x_2)}{\\partial(\\xi_1,\\xi_2)}\\right| d\\xi_1\\,d\\xi_2\n",
    "\\\\[5pt]\n",
    "=& \\frac{h_1h_2}{4}\\int_{-1}^1\\int_{-1}^1 f\\big(x(\\xi)\\big) \\phi_a(\\xi) d\\xi_1\\,d\\xi_2.\n",
    "\\end{align}"
   ]
  },
  {
   "cell_type": "code",
   "execution_count": 21,
   "metadata": {},
   "outputs": [
    {
     "data": {
      "text/plain": [
       "make_Fe (generic function with 1 method)"
      ]
     },
     "metadata": {},
     "output_type": "display_data"
    }
   ],
   "source": [
    "function make_Fe(f::Function,  h1::Float64, h2::Float64, xi1::Float64, xi2::Float64, P::Vector{Float64}, W::Vector{Float64})\n",
    "    Fe = zeros(4)\n",
    "    J = h1*h2/4\n",
    "    for a in 1:4\n",
    "        for gi in 1:length(P)\n",
    "            for gj in 1:length(P)\n",
    "                x1 = X(P[gi], h1, xi1)\n",
    "                x2 = X(P[gj], h2, xi2)\n",
    "                Fe[a] += W[gi] * W[gj] * f(x1, x2) * phi(P[gi], P[gj], a) * J\n",
    "            end\n",
    "        end\n",
    "    end\n",
    "    \n",
    "    return Fe\n",
    "end"
   ]
  },
  {
   "cell_type": "markdown",
   "metadata": {},
   "source": [
    "### Montagem do vetor global F a partir do vetor local $F^e$\n"
   ]
  },
  {
   "cell_type": "code",
   "execution_count": 22,
   "metadata": {},
   "outputs": [
    {
     "data": {
      "text/plain": [
       "make_F (generic function with 2 methods)"
      ]
     },
     "metadata": {},
     "output_type": "display_data"
    }
   ],
   "source": [
    "function make_F(f::Function, ne::Int, m::Int, EQoLG::Matrix{Int}, npg::Int=5)\n",
    "    h = 1.0 / ne\n",
    "    F = zeros(m + 1)\n",
    "    P, W = legendre(npg)\n",
    "    \n",
    "    for e in 1:ne\n",
    "        Fe = make_Fe(f, h, (e-1)*h, P, W, npg)\n",
    "        for a = 1:2\n",
    "            F[EQoLG[a, e]] += Fe[a]\n",
    "        end\n",
    "    end\n",
    "    \n",
    "    return F[1:m]\n",
    "end"
   ]
  },
  {
   "cell_type": "markdown",
   "metadata": {},
   "source": [
    "### Cálculo do erro na norma L2 utilizando quadratura gaussiana"
   ]
  },
  {
   "cell_type": "code",
   "execution_count": 23,
   "metadata": {},
   "outputs": [
    {
     "data": {
      "text/plain": [
       "erro_norma_L2 (generic function with 1 method)"
      ]
     },
     "metadata": {},
     "output_type": "display_data"
    }
   ],
   "source": [
    "function erro_norma_L2(u::Function, c::Vector{Float64}, ne::Int, EQoLG::Matrix{Int})\n",
    "    h = 1.0 / ne       \n",
    "    erro = 0.0         \n",
    "    P, W = legendre(5) \n",
    "\n",
    "    phi_1P = phi.(P, 1)\n",
    "    phi_2P = phi.(P, 2)\n",
    "\n",
    "    for e = 1:ne\n",
    "        c1e = c[EQoLG[1,e]]\n",
    "        c2e = c[EQoLG[2,e]]\n",
    "\n",
    "        for j = 1:length(P)\n",
    "            x = X(P[j], h, (e-1)*h) \n",
    "            erro += W[j] * (u(x) - c1e*phi_1P[j] - c2e*phi_2P[j])^2\n",
    "        end\n",
    "    end\n",
    "\n",
    "    return sqrt(erro*h/2)\n",
    "end"
   ]
  },
  {
   "cell_type": "markdown",
   "metadata": {},
   "source": [
    "### Comparando a solução aproximada com a solução exata\n"
   ]
  },
  {
   "cell_type": "code",
   "execution_count": 24,
   "metadata": {},
   "outputs": [
    {
     "data": {
      "text/plain": [
       "show_solution (generic function with 1 method)"
      ]
     },
     "metadata": {},
     "output_type": "display_data"
    }
   ],
   "source": [
    "function show_solution(case::Int)\n",
    "    alfa, beta, gamma, f, u = dados_de_entrada(case)\n",
    "    npg = 5\n",
    "    # Define o número de elementos em que o domínio [0,1] é dividido\n",
    "    ne = 4\n",
    "    \n",
    "    # Define a matriz LG\n",
    "    LG = make_LG(ne)\n",
    "    \n",
    "    # Define a dimensão do espaço aproximado Vₘ e o vetor EQ\n",
    "    m, EQ = make_EQ(ne)\n",
    "    \n",
    "    # Define a matriz EQoLG\n",
    "    EQoLG = EQ[LG]\n",
    "    \n",
    "    # Exibe os valores ne, LG, m, EQ e EQoLG\n",
    "    display(\"ne = \"); display(ne)\n",
    "    display(\"LG = \"); display(LG)\n",
    "    display(\"m = \"); display(m)\n",
    "    display(\"EQ = \"); display(EQ)\n",
    "    display(\"EQoLG = \"); display(EQoLG)\n",
    "    \n",
    "    \n",
    "    # Constrói a matriz K e o vetor F\n",
    "    K = make_K(alfa, beta, gamma, ne, m, EQoLG)\n",
    "    F = make_F(f, ne, m, EQoLG, npg)\n",
    "    \n",
    "    # Exibe a matriz K (sistema linear) e o vetor F (vetor força)\n",
    "    display(\"Matriz K:\")\n",
    "    display(K)\n",
    "    display(\"Vetor F:\")\n",
    "    display(F)\n",
    "    \n",
    "    # Resolve o sistema linear K * c = F para obter os coeficientes solução aproximada u_h(x)\n",
    "    c = K \\ F\n",
    "    display(\"Solução aproximada U:\")\n",
    "    display(c)\n",
    "    \n",
    "    # Exibe a solução exata nos nos internos da malha\n",
    "    display(\"Solução exata nos nós internos:\")\n",
    "    h = 1.0 / ne  # Comprimento de cada elemento finito\n",
    "    display(u.(h:h:1-h))\n",
    "    \n",
    "    # Define a discretização da malha com N nós internos, incluindo os pontos de fronteira\n",
    "    malha = 0:h:1\n",
    "    \n",
    "    # Gera o gráfico comparando a solução aproximada com a solução exata\n",
    "    plt1 = plot(0:0.01:1, u.(0:0.01:1), label=\"Exata\", lw=3, title=\"Comparação: Solução Exata vs. Aproximada\")\n",
    "    plot!(plt1, malha, [0; c; 0], label=\"Aproximada\", lw=3, linestyle=:solid, markershape=:circle) # O \"!\" adiciona ao gráfico existente\n",
    "    xlabel!(\"x\")  # Adiciona o rótulo ao eixo x\n",
    "    \n",
    "    # Exibe o gráfico final\n",
    "    display(plt1) \n",
    "end"
   ]
  },
  {
   "cell_type": "markdown",
   "metadata": {},
   "source": [
    "### Estudo de convergência do erro."
   ]
  },
  {
   "cell_type": "code",
   "execution_count": 25,
   "metadata": {},
   "outputs": [
    {
     "data": {
      "text/plain": [
       "show_error (generic function with 1 method)"
      ]
     },
     "metadata": {},
     "output_type": "display_data"
    }
   ],
   "source": [
    "function show_error(case::Int)\n",
    "    alfa, beta, gamma, f, u = dados_de_entrada(case)\n",
    "\n",
    "    npg = 5\n",
    "\n",
    "    P, W = legendre(npg)\n",
    "\n",
    "    errors = zeros(9)\n",
    "    vec_h = zeros(9)\n",
    "\n",
    "    for p in 2:10\n",
    "        ne = 2^p - 1\n",
    "        h = 1.0 / ne\n",
    "        vec_h[p-1] = h\n",
    "\n",
    "        LG = make_LG(ne)\n",
    "        m, EQ = make_EQ(ne)\n",
    "        EQoLG = EQ[LG]\n",
    "\n",
    "        K = make_K(alfa, beta, gamma, ne, m, EQoLG)\n",
    "        F = make_F(f, ne, m, EQoLG, npg)\n",
    "\n",
    "        c = K \\ F\n",
    "\n",
    "        errors[p-1] = erro_norma_L2(u, [c;0], ne, EQoLG)\n",
    "    end\n",
    "\n",
    "\n",
    "    # Gera o gráfico comparando a solução aproximada com a solução exata\n",
    "    plt2 = Plots.plot(vec_h, errors, yscale=:log10, xscale=:log10, label=\"Errors\", xlabel=\"h\", ylabel=\"Erro\", title=\"Erros na solução do problema\")\n",
    "    plot!(plt2, vec_h, vec_h.^2, yscale=:log10, xscale=:log10, legend=:topleft, label=\"h^2\", xlabel=\"h\", ylabel=\"Erro\")\n",
    "    xlabel!(\"x\")  # Adiciona o rótulo ao eixo x\n",
    "\n",
    "    # Exibe o gráfico final\n",
    "    display(plt2)\n",
    "end"
   ]
  },
  {
   "cell_type": "code",
   "execution_count": 26,
   "metadata": {},
   "outputs": [
    {
     "ename": "MethodError",
     "evalue": "MethodError: no method matching make_LG(::Int64)\nClosest candidates are:\n  make_LG(::Int64, !Matched::Int64) at ~/Workspace/metodos-numericos/jl_notebook_cell_df34fa98e69747e1a8f8a730347b8e2f_X23sZmlsZQ==.jl:12",
     "output_type": "error",
     "traceback": [
      "MethodError: no method matching make_LG(::Int64)\n",
      "Closest candidates are:\n",
      "  make_LG(::Int64, !Matched::Int64) at ~/Workspace/metodos-numericos/jl_notebook_cell_df34fa98e69747e1a8f8a730347b8e2f_X23sZmlsZQ==.jl:12\n",
      "\n",
      "Stacktrace:\n",
      " [1] show_solution(case::Int64)\n",
      "   @ Main ~/Workspace/metodos-numericos/jl_notebook_cell_df34fa98e69747e1a8f8a730347b8e2f_X43sZmlsZQ==.jl:8\n",
      " [2] top-level scope\n",
      "   @ ~/Workspace/metodos-numericos/jl_notebook_cell_df34fa98e69747e1a8f8a730347b8e2f_X46sZmlsZQ==.jl:2"
     ]
    }
   ],
   "source": [
    "case = 1\n",
    "show_solution(case)"
   ]
  },
  {
   "cell_type": "code",
   "execution_count": 27,
   "metadata": {},
   "outputs": [
    {
     "ename": "MethodError",
     "evalue": "MethodError: no method matching make_LG(::Int64)\nClosest candidates are:\n  make_LG(::Int64, !Matched::Int64) at ~/Workspace/metodos-numericos/jl_notebook_cell_df34fa98e69747e1a8f8a730347b8e2f_X23sZmlsZQ==.jl:12",
     "output_type": "error",
     "traceback": [
      "MethodError: no method matching make_LG(::Int64)\n",
      "Closest candidates are:\n",
      "  make_LG(::Int64, !Matched::Int64) at ~/Workspace/metodos-numericos/jl_notebook_cell_df34fa98e69747e1a8f8a730347b8e2f_X23sZmlsZQ==.jl:12\n",
      "\n",
      "Stacktrace:\n",
      " [1] show_error(case::Int64)\n",
      "   @ Main ~/Workspace/metodos-numericos/jl_notebook_cell_df34fa98e69747e1a8f8a730347b8e2f_X45sZmlsZQ==.jl:16\n",
      " [2] top-level scope\n",
      "   @ ~/Workspace/metodos-numericos/jl_notebook_cell_df34fa98e69747e1a8f8a730347b8e2f_X50sZmlsZQ==.jl:2"
     ]
    }
   ],
   "source": [
    "case = 1\n",
    "show_error(case)"
   ]
  }
 ],
 "metadata": {
  "kernelspec": {
   "display_name": "Julia 1.8.1",
   "language": "julia",
   "name": "julia-1.8"
  },
  "language_info": {
   "file_extension": ".jl",
   "mimetype": "application/julia",
   "name": "julia",
   "version": "1.8.1"
  }
 },
 "nbformat": 4,
 "nbformat_minor": 2
}
