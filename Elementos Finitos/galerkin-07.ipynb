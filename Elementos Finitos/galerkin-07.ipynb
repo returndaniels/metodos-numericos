{
 "cells": [
  {
   "cell_type": "markdown",
   "metadata": {},
   "source": [
    "## Definição da formulação forte"
   ]
  },
  {
   "cell_type": "markdown",
   "metadata": {},
   "source": [
    "Dada uma função $f:[0,1]\\rightarrow\\mathbb{R}$ e constantes reais $\\alpha>0$, $\\beta \\geq 0$, $T \\geq 0$ determine $u:[0,1] \\times [0,T]\\rightarrow\\mathbb{R}$ e $u_0:[0,1]\\rightarrow\\mathbb{R}$, tal que\n",
    "\n",
    "\\begin{align*}\n",
    "\\left\\{\n",
    "\\begin{aligned}\n",
    "&u_t(x,t)-\\alpha u_{xx}(x,t) + \\beta u(x,t) + g(u(x,t)) = f(x,t),&& \\forall (x,t)\\in]0,1[\\times[0,T],\n",
    "\\\\\n",
    "&u(0,t)=u(1,t)=0,                                    && \\forall t\\in[0,T],\n",
    "\\\\\n",
    "&u(x,0) = u_0(x),                                    && \\forall x\\in[0,1].                \n",
    "\\end{aligned}\\right.\n",
    "\\end{align*}"
   ]
  },
  {
   "cell_type": "markdown",
   "metadata": {},
   "source": [
    "## Definição da formulação fraca"
   ]
  },
  {
   "cell_type": "markdown",
   "metadata": {},
   "source": [
    "Dadas as constantes reais $\\alpha > 0$, $\\beta \\geq 0$ e $T > 0$, e as funções $f:[0,1]\\times[0,T]\\rightarrow\\mathbb{R}$ e $u_0:[0,1]\\rightarrow\\mathbb{R}$, determine $u(t)\\in V$, $t\\in[0,T]$, tal que\n",
    "\n",
    "\n",
    "\\begin{align*}\n",
    "\\left\\{\n",
    "\\begin{aligned}\n",
    "& \\int_0^1 u'(x,t)v(x) dx\n",
    "+ \\alpha \\int_0^1\\frac{\\partial u}{\\partial x}(x,t)\\frac{\\partial v}{\\partial x}(x)dx\n",
    "+ \\beta  \\int_0^1 u(x,t)v(x)dx\n",
    "+ \\int_0^1 g(u(x, t))v(x)dx\n",
    "= \\int_0^1f(x,t)v(x)dx,\n",
    "\\quad \\forall v\\in V,\n",
    "\\\\[8pt]\n",
    "& u(x,0) = u_0(x), \n",
    "\\quad x\\in]0,1[.\n",
    "\\end{aligned}\n",
    "\\right.\n",
    "\\end{align*}"
   ]
  },
  {
   "cell_type": "markdown",
   "metadata": {},
   "source": [
    "### Definição dos operadores da formulação fraca"
   ]
  },
  {
   "cell_type": "markdown",
   "metadata": {},
   "source": [
    "Para simplificar a escrita, vamos reescrever a equação acima utilizando dois operadores. O primeiro, é dado por\n",
    "\n",
    "\\begin{align*}\n",
    "\\kappa:V\\times V\\rightarrow\\mathbb{R},\\;(w,v)\\mapsto \\kappa(w,v)=\n",
    "  \\alpha \\int_0^1\\frac{d w}{d x}(x)\\frac{d v}{d x}(x)dx\n",
    "+ \\beta  \\int_0^1 w(x)v(x)dx.\n",
    "\\end{align*}\n",
    "\n",
    "Quanto ao segundo operador, considere\n",
    "\n",
    "\\begin{align*}\n",
    "\\big(w,v\\big) = \\int_0^1 w(x) v(x)dx.\n",
    "\\end{align*}\n",
    "\n",
    "Utilizando esses operadores, a formulação fraca pode ser reescrita como: Dadas as constantes reais $\\alpha>0$, $\\beta \\geq 0$, $T \\geq 0$ e as funções $f:[0,1]\\times[0,T]\\rightarrow\\mathbb{R}$ e $u_0:[0,1]\\rightarrow\\mathbb{R}$, determine $u(t)\\in V$, $t\\in[0,T]$, tal que\n",
    "\n",
    "\\begin{align*}\n",
    "\\left\\{\n",
    "\\begin{aligned}\n",
    "& \\big(u'(t),v\\big) + \\kappa(u(t),v) + (g(u(t)), v) = \\big(f(t),v\\big),\n",
    "\\quad \\forall v\\in V,\n",
    "\\\\[8pt]\n",
    "& u(0) = u_0.\n",
    "\\end{aligned}\n",
    "\\right.\n",
    "\\end{align*}"
   ]
  },
  {
   "cell_type": "markdown",
   "metadata": {},
   "source": [
    "# Problema totalmente discreto - via o método de Galerkin no espaço e Crank-Nicolson no tempo"
   ]
  },
  {
   "cell_type": "markdown",
   "metadata": {},
   "source": [
    "No espaço, já está definido $V_m$, o subespaço de dimensão finita de $V$, gerado pelas funções base $\\varphi_1,\\varphi_2,\\dots,\\varphi_m$.\n",
    "No tempo, precisamos estabelecer a discretização temporal para aplicar o método de diferenças finitas escolhido. \n",
    "Nesse sentido, seja $\\tau>0$ uma constante real positiva, e considere $0=t_0<t_1<\\dots<t_N\\leq T$ uma discretização unifome no intervalo $[0,T]$.\n",
    "Além disso, defina $t_{n-\\frac{1}{2}}=\\frac{t_n+t_{n-1}}{2}$ como o ponto médio do intervalo $[t_{n-1},t_n]$. \n",
    "A seguir, apresentamos a ilustração de uma partição do intervalo de tempo $[0,T]$."
   ]
  },
  {
   "cell_type": "markdown",
   "metadata": {},
   "source": [
    "Ssegue a definição do problema aproximado: Dadas as constantes reais $\\alpha > 0$, $\\beta \\geq 0$ e $T > 0$, e as funções $f:[0,1]\\times[0,T]\\rightarrow\\mathbb{R}$, $u_0^{}:[0,1]\\rightarrow\\mathbb{R}$ e $u_{0h}^{}\\in V_m$ uma aproximação para $u_0^{}$, determine $U^n\\in V_m=[\\varphi_1,\\varphi_2,\\dots,\\varphi_{m}]$, tal que\n",
    "\n",
    "\\begin{align*}\n",
    "\\left\\{\n",
    "\\begin{aligned}\n",
    "& \\Big(\\frac{U^n-U^{n-1}}{\\tau},v_h\\Big) + \\kappa\\Big(\\frac{U^n+U^{n-1}}{2},v_h\\Big) + \\Big(g\\Big(\\frac{U^n-U^{n-1}}{2}\\Big),v\\Big) = \\big(f(t_{n-\\frac{1}{2}}),v_h\\big),\n",
    "\\quad \\forall v_h\\in V_m,\\quad n=1,2,\\dots,N,\n",
    "\\\\[8pt]\n",
    "& U^0 = u_{0h}.\n",
    "\\end{aligned}\n",
    "\\right.\n",
    "\\end{align*}"
   ]
  },
  {
   "cell_type": "markdown",
   "metadata": {},
   "source": [
    "## Passo a passo para a definição do problema totalmente discreto"
   ]
  },
  {
   "cell_type": "markdown",
   "metadata": {},
   "source": [
    "* Passo 1. Considerar a formulação fraca no instante de tempo $t_{n-\\frac{1}{2}}$, ou seja,\n",
    "\\begin{align*}\n",
    "& \\big(u'(t_{n-\\frac{1}{2}}),v\\big) + \\kappa(u(t_{n-\\frac{1}{2}}),v) + g(u(t_{n-\\frac{1}{2}}),v) = \\big(f(t_{n-\\frac{1}{2}}),v\\big),\n",
    "\\quad \\forall v\\in V.\n",
    "\\end{align*}\n",
    "\n",
    "* Passo 2. Definir as diferenças finitas que serão utilizadas. \n",
    "Fazendo uso de expansões de Taylor apropriadas, obtemos: \n",
    "\\begin{align*}\n",
    "\\frac{u(t_n)-u(t_{n-1})}{\\tau}=u'(t_{n-\\frac{1}{2}}) +\\mathcal{O}(\\tau^2),\n",
    "\\quad\n",
    "\\frac{u(t_n)+u(t_{n-1})}{2}=u(t_{n-\\frac{1}{2}}) + \\mathcal{O}(\\tau^2)\n",
    "\\quad\\hbox{e}\\quad\n",
    "\\frac{3u(t_{n-1})-u(t_{n-2})}{2}=u(t_{n-\\frac{1}{2}}) + \\mathcal{O}(\\tau^2)\n",
    "\\end{align*}\n",
    "\n",
    "* Passo 3. Utilizar as diferenças finitas na formulação fraca.\n",
    "Subtituindo $u'(t_{n-\\frac{1}{2}})$ e $u(t_{n-\\frac{1}{2}})$ na formulação fraca pelas diferenças finitas acima, temos que\n",
    "\\begin{align*}\n",
    "& \\big(\\frac{u(t_n)-u(t_{n-1})}{\\tau},v\\big) + \\kappa(\\frac{u(t_n)+u(t_{n-1})}{2},v) + g(\\frac{3u(t_{n-1})-u(t_{n-2})}{2},v) \\approx \\big(f(t_{n-\\frac{1}{2}}),v\\big),\n",
    "\\quad \\forall v\\in V.\n",
    "\\end{align*}\n",
    "\n",
    "* Passo 4. Definir o problema aproximado.\n",
    "O problema aproximado consiste em buscar uma função em $V_m$ que satisfaça a igualdade, em vez da aproximação definida no passo 3, ou seja, buscar por uma função $U^n\\in V_m$ tal que\n",
    "\\begin{align*}\n",
    "& \\big(\\frac{U^n-U^{n-1}}{\\tau},v\\big) + \\kappa(\\frac{U^n+U^{n-1}}{2},v)  + \\big(g(\\frac{3U^{n-1}-U^{n-2}}{2},v)\\big) = \\big(f(t_{n-\\frac{1}{2}}),v\\big),\n",
    "\\quad \\forall v\\in V_m.\n",
    "\\end{align*}\n"
   ]
  },
  {
   "cell_type": "markdown",
   "metadata": {},
   "source": [
    "## Formulação matricial"
   ]
  },
  {
   "cell_type": "markdown",
   "metadata": {},
   "source": [
    "### Definição da matriz $C$"
   ]
  },
  {
   "cell_type": "markdown",
   "metadata": {},
   "source": [
    "\\begin{align*}\n",
    "C = \n",
    "\\left\\{\n",
    "\\begin{aligned}\n",
    "& C^0, n=1, \\text{parte 1}\n",
    "\\\\[10pt]\n",
    "& \\frac{\\~{}C^1 + C^0}{2}, n=1, \\text{parte 2}\n",
    "\\\\\n",
    "& \\frac{3C^{n-1} - C^{n-2}}{2}, n \\geq 2\n",
    "\\end{aligned}\\right.\n",
    "\\end{align*}"
   ]
  },
  {
   "cell_type": "markdown",
   "metadata": {},
   "source": [
    "### Definição da $G_i(c)$"
   ]
  },
  {
   "cell_type": "markdown",
   "metadata": {},
   "source": [
    "\\begin{align*}\n",
    "G_i(C) = \\int_0^1 g(\\Sigma_{j=1}^m C_{j}\\varphi_{j})\\varphi_{i}dx\n",
    "\\end{align*}"
   ]
  },
  {
   "cell_type": "markdown",
   "metadata": {},
   "source": [
    "\n",
    "\\begin{align*}\n",
    "G_a^e(C) = \\int_{x_1^e}^{x_2^e} g(C\\varphi_{1}^e(x) + C\\varphi_{2}^e(x))\\varphi_{a}^e(x)dx\n",
    "\\end{align*}"
   ]
  },
  {
   "cell_type": "markdown",
   "metadata": {},
   "source": [
    "Tomando $\\displaystyle U^n(x) = \\sum_{j=1}^{m} C_j^{n}\\varphi_j(x)$ e $v_h=\\varphi_i$, para $i=1,2,\\dots,m$, temos o seguinte sistema:\n",
    "\n",
    "\\begin{align*}\n",
    "\\left\\{\n",
    "\\begin{aligned}\n",
    "& \\Big(\\frac{\\sum_{j=1}^{m}(C_j^n-C_j^{n-1})\\varphi_j}{\\tau},\\varphi_1\\Big) + \\kappa\\Big(\\frac{\\sum_{j=1}^{m}(C_j^n+C_j^{n-1})\\varphi_j}{2},\\varphi_1\\Big) + g\\Big(\\frac{\\sum_{j=1}^{m}(C_j^{n-1}+C_j^{n-2})\\varphi_j}{2},\\varphi_1\\Big) = \\big(f(t_{n-\\frac{1}{2}}),\\varphi_1\\big), \n",
    "\\\\[10pt]\n",
    "& \\Big(\\frac{\\sum_{j=1}^{m}(C_j^n-C_j^{n-1})\\varphi_j}{\\tau},\\varphi_2\\Big) + \\kappa\\Big(\\frac{\\sum_{j=1}^{m}(C_j^n+C_j^{n-1})\\varphi_j}{2},\\varphi_2\\Big) + g\\Big(\\frac{\\sum_{j=1}^{m}(C_j^{n-1}+C_j^{n-2})\\varphi_j}{2},\\varphi_2\\Big) = \\big(f(t_{n-\\frac{1}{2}}),\\varphi_2\\big), \n",
    "\\\\\n",
    "& \\vdots\n",
    "\\\\\n",
    "& \\Big(\\frac{\\sum_{j=1}^{m}(C_j^n-C_j^{n-1})\\varphi_j}{\\tau},\\varphi_m\\Big) + \\kappa\\Big(\\frac{\\sum_{j=1}^{m}(C_j^n+C_j^{n-1})\\varphi_j}{2},\\varphi_m\\Big) + g\\Big(\\frac{\\sum_{j=1}^{m}(C_j^{n-1}+C_j^{n-n})\\varphi_j}{2},\\varphi_m\\Big) = \\big(f(t_{n-\\frac{1}{2}}),\\varphi_m\\big).\n",
    "\\end{aligned}\\right.\n",
    "\\end{align*}\n",
    "\n",
    "Com isso, dado que os operadores $\\kappa$ e $\\big(\\cdot,\\cdot\\big)$ são lineares em cada componente, temos:\n",
    "\n",
    "\\begin{align*}\n",
    "\\left\\{\n",
    "\\begin{aligned}\n",
    "& \n",
    "      \\big(\\varphi_1,\\varphi_1\\big)\\frac{C_1^n-C_1^{n-1}}{\\tau}+      \\big(\\varphi_2,\\varphi_1\\big)\\frac{C_2^n-C_2^{n-1}}{\\tau} + \\dots +       \\big(\\varphi_m,\\varphi_1\\big)\\frac{C_m^n-C_m^{n-1}}{\\tau}\n",
    "\\quad+\\quad\n",
    "\\kappa\\big(\\varphi_1,\\varphi_1\\big)\\frac{C_1^n+C_1^{n-1}}{2   }+\\kappa\\big(\\varphi_2,\\varphi_1\\big)\\frac{C_2^n+C_2^{n-1}}{2   } + \\dots + \\kappa\\big(\\varphi_m,\\varphi_1\\big)\\frac{C_m^n+C_m^{n-1}}{2   } + g\\big(\\varphi_2,\\varphi_1\\big)\\frac{3C_2^{n-1}+C_2^{n-2}}{2   } + \\dots + g\\big(\\varphi_m,\\varphi_1\\big)\\frac{3C_m^{n-1}+C_m^{n-2}}{2   } \n",
    "= \\big(f(t_{n-\\frac{1}{2}}),\\varphi_1\\big), \n",
    "\\\\[10pt]\n",
    "&\n",
    "      \\big(\\varphi_1,\\varphi_2\\big)\\frac{C_1^n-C_1^{n-1}}{\\tau}+      \\big(\\varphi_2,\\varphi_2\\big)\\frac{C_2^n-C_2^{n-1}}{\\tau} + \\dots +       \\big(\\varphi_m,\\varphi_2\\big)\\frac{C_m^n-C_m^{n-1}}{\\tau}\n",
    "\\quad+\\quad\n",
    "\\kappa\\big(\\varphi_1,\\varphi_2\\big)\\frac{C_1^n+C_1^{n-1}}{2   }+\\kappa\\big(\\varphi_2,\\varphi_2\\big)\\frac{C_2^n+C_2^{n-1}}{2   } + \\dots + \\kappa\\big(\\varphi_m,\\varphi_2\\big)\\frac{C_m^n+C_m^{n-1}}{2   } + g\\big(\\varphi_2,\\varphi_2\\big)\\frac{3C_2^{n-1}+C_2^{n-2}}{2   } + \\dots + g\\big(\\varphi_m,\\varphi_2\\big)\\frac{3C_m^{n-1}+C_m^{n-2}}{2   } \n",
    "= \\big(f(t_{n-\\frac{1}{2}}),\\varphi_2\\big), \n",
    "\\\\\n",
    "& \\vdots\n",
    "\\\\\n",
    "& \n",
    "      \\big(\\varphi_1,\\varphi_m\\big)\\frac{C_1^n-C_1^{n-1}}{\\tau}+      \\big(\\varphi_2,\\varphi_m\\big)\\frac{C_2^n-C_2^{n-1}}{\\tau} + \\dots +       \\big(\\varphi_m,\\varphi_m\\big)\\frac{C_m^n-C_m^{n-1}}{\\tau}\n",
    "\\quad+\\quad\n",
    "\\kappa\\big(\\varphi_1,\\varphi_m\\big)\\frac{C_1^n+C_1^{n-1}}{2   }+\\kappa\\big(\\varphi_2,\\varphi_m\\big)\\frac{C_2^n+C_2^{n-1}}{2   } + \\dots + \\kappa\\big(\\varphi_m,\\varphi_m\\big)\\frac{C_m^n+C_m^{n-1}}{2   } +g\\big(\\varphi_2,\\varphi_m\\big)\\frac{3C_2^{n-1}+C_2^{n-2}}{2   } + \\dots + g\\big(\\varphi_m,\\varphi_m\\big)\\frac{3C_m^{n-1}+C_m^{n-2}}{2   } \n",
    "= \\big(f(t_{n-\\frac{1}{2}}),\\varphi_m\\big), .\n",
    "\\end{aligned}\\right.\n",
    "\\end{align*}\n",
    "\n",
    "\n",
    "Note que esse sistema pode ser reescrito na seguinte forma matricial:\n",
    "\n",
    "\\begin{align*}\n",
    "\\begin{bmatrix}\n",
    "\\big(\\varphi_1,\\varphi_1\\big)&\\big(\\varphi_2,\\varphi_1\\big)&\\dots&\\big(\\varphi_m,\\varphi_1\\big)\n",
    "\\\\[10pt]\n",
    "\\big(\\varphi_1,\\varphi_2\\big)&\\big(\\varphi_2,\\varphi_2\\big)&\\dots&\\big(\\varphi_m,\\varphi_2\\big)\n",
    "\\\\\n",
    "\\vdots&\\vdots&\\ddots& \\vdots  \n",
    "\\\\\n",
    "\\big(\\varphi_1,\\varphi_m\\big)&\\big(\\varphi_2,\\varphi_m\\big)&\\dots&\\big(\\varphi_m,\\varphi_m\\big)\n",
    "\\end{bmatrix}\n",
    "\\frac{C^n-C^{n-1}}{\\tau}\n",
    "\\quad+\\quad\n",
    "\\begin{bmatrix}\n",
    "\\kappa\\big(\\varphi_1,\\varphi_1\\big)&\\kappa\\big(\\varphi_2,\\varphi_1\\big)&\\dots&\\kappa\\big(\\varphi_m,\\varphi_1\\big)\n",
    "\\\\[10pt]\n",
    "\\kappa\\big(\\varphi_1,\\varphi_2\\big)&\\kappa\\big(\\varphi_2,\\varphi_2\\big)&\\dots&\\kappa\\big(\\varphi_m,\\varphi_2\\big)\n",
    "\\\\\n",
    "\\vdots&\\vdots&\\ddots& \\vdots  \n",
    "\\\\\n",
    "\\kappa\\big(\\varphi_1,\\varphi_m\\big)&\\kappa\\big(\\varphi_2,\\varphi_m\\big)&\\dots&\\kappa\\big(\\varphi_m,\\varphi_m\\big)\n",
    "\\end{bmatrix}\n",
    "\\frac{C^n+C^{n-1}}{2   }\n",
    "\\quad+\\quad\n",
    "\\begin{align*}\n",
    "\\begin{bmatrix}\n",
    "g\\big(\\varphi_1,\\varphi_1\\big)& g\\big(\\varphi_2,\\varphi_1\\big)&\\dots& g\\big(\\varphi_m,\\varphi_1\\big)\n",
    "\\\\[10pt]\n",
    "g\\big(\\varphi_1,\\varphi_2\\big)& g\\big(\\varphi_2,\\varphi_2\\big)&\\dots& g\\big(\\varphi_m,\\varphi_2\\big)\n",
    "\\\\\n",
    "\\vdots&\\vdots&\\ddots& \\vdots  \n",
    "\\\\\n",
    "g\\big(\\varphi_1,\\varphi_m\\big)& g\\big(\\varphi_2,\\varphi_m\\big)&\\dots& g\\big(\\varphi_m,\\varphi_m\\big)\n",
    "\\end{bmatrix}\n",
    "\\frac{3C^{n-1}+C^{n-2}}{2}\n",
    "\\end{align*}\n",
    "=\n",
    "\\begin{bmatrix}\n",
    "\\big(f(t_{n-\\frac{1}{2}}),\\varphi_1\\big)\\\\[10pt]\n",
    "\\big(f(t_{n-\\frac{1}{2}}),\\varphi_2\\big)\\\\\n",
    "\\vdots\\\\\n",
    "\\big(f(t_{n-\\frac{1}{2}}),\\varphi_m\\big)\\\\\n",
    "\\end{bmatrix}.\n",
    "\\end{align*}"
   ]
  },
  {
   "cell_type": "markdown",
   "metadata": {},
   "source": [
    "Por fim, definindo \n",
    "\n",
    "\\begin{align*}\n",
    "M_{i,j} = (\\varphi_j,\\varphi_i),\n",
    "\\quad\n",
    "K_{i,j} = \\kappa(\\varphi_j,\\varphi_i)\n",
    "\\quad\\text{e}\\quad\n",
    "F_i^{n-\\frac{1}{2}} = \\big(f(t_{n-\\frac{1}{2}}),\\varphi_i\\big), \n",
    "\\quad\\text{com}\\quad\n",
    "i,j\\in\\{1,2,3,\\dots,m\\},\n",
    "\\end{align*}\n",
    "\n",
    "obtemos a formulação matriz-vetor do problema aproximado, que consiste em determinar $C^n\\in\\mathbb{R}^m$ tal que\n",
    "\\begin{align*}\n",
    "\\left\\{\n",
    "\\begin{aligned}\n",
    "& M\\frac{C^n-C^{n-1}}{\\tau}\n",
    "+K\\frac{C^n+C^{n-1}}{2}\n",
    "+G(\\frac{3C^{n-1}-C^{n-2}}{2})=F^{n-\\frac{1}{2}},\n",
    "\\quad n=1,2,\\dots,N,\n",
    "\\\\\n",
    "& C^0=???.\n",
    "\\end{aligned}\n",
    "\\right.\n",
    "\\end{align*}"
   ]
  },
  {
   "cell_type": "markdown",
   "metadata": {},
   "source": [
    "## Aproximação de $u_0$: exemplos de escolhas de $U^0 \\in V_m$"
   ]
  },
  {
   "cell_type": "markdown",
   "metadata": {},
   "source": [
    "Qualquer função $U^0 \\in V_m$ que esteja suficientemente próxima de $u_0$ é uma escolha viável. \n",
    "O quão próxima ela deve estar, e em qual norma essa distância é medida, só fica claro quando realizamos a demonstração da estimativa de erro entre a solução aproximada e a solução exata.\n",
    "Não vamos entrar nesses detalhes aqui. \n",
    "Contudo, a escolha que apresentaremos a seguir usualmente satisfaz tais condições."
   ]
  },
  {
   "cell_type": "markdown",
   "metadata": {},
   "source": [
    "### Tomando $U^0$ como a interpolante de $u_0$ - se a base satisfaz a propriedade $\\varphi_j(x_i) = \\delta_{i,j}$"
   ]
  },
  {
   "cell_type": "markdown",
   "metadata": {},
   "source": [
    "Quando a base satisfaz a propriedade $\\varphi_j(x_i) = \\delta_{i,j}$, onde $x_i$ é um nó da malha espacial, temos que \n",
    "$$\n",
    "U^0(x_i) = \\sum_{j=1}^m C_j^0 \\varphi_j(x_i) = C_i^0.\n",
    "$$\n",
    "\n",
    "Consequentemente, para esse tipo de base, se tomarmos $C_i^0$ como $u_0(x_i)$, então $U^0$ interpola $u_0$.\n",
    "Assim sendo, nesse caso, vamos definir\n",
    "$$\n",
    "C^0 =\n",
    "\\begin{bmatrix}\n",
    "u_0(x_1)\\\\\n",
    "u_0(x_2)\\\\\n",
    "\\vdots\\\\\n",
    "u_0(x_m)\n",
    "\\end{bmatrix}.\n",
    "$$"
   ]
  },
  {
   "cell_type": "code",
   "execution_count": 86,
   "metadata": {},
   "outputs": [],
   "source": [
    "using LinearAlgebra\n",
    "using Plots\n",
    "using GaussQuadrature\n",
    "using DataFrames\n",
    "using SparseArrays"
   ]
  },
  {
   "cell_type": "markdown",
   "metadata": {},
   "source": [
    "### Exemplos de solução exata para o problema acima:\n"
   ]
  },
  {
   "cell_type": "code",
   "execution_count": 87,
   "metadata": {},
   "outputs": [
    {
     "data": {
      "text/plain": [
       "dados_de_entrada"
      ]
     },
     "metadata": {},
     "output_type": "display_data"
    }
   ],
   "source": [
    "function exemplo1()\n",
    "    T = 1.0\n",
    "    α = 1.0\n",
    "    β = 1.0\n",
    "    u₀(x) = sin(π * x) / π^2\n",
    "    u(x, t) = sin(π * x) * (exp(-t) / π^2)\n",
    "    g(s) = s^3 - 2*s\n",
    "    f(x, t) = ((-1 + α * π^2 + β) * sin(π * x) / (π^2)) + g(u(x, t))\n",
    "    return T, α, β, f, u₀, u, g\n",
    "end\n",
    "\n",
    "function exemplo2()\n",
    "    T = 1.0\n",
    "    α = 1.0\n",
    "    β = 1.0\n",
    "    u₀(x) = sin(π * x) / π^2\n",
    "    g(s) = s^3 - 2*s\n",
    "    f(x, t) = 0\n",
    "    return T, α, β, f, u₀, g\n",
    "end\n",
    "\n",
    "\"Retorna os valores de `T`, `α`, `β`, `f`, `u₀`, `u` e `g` de acordo com o exemplo escolhido.\"\n",
    "function dados_de_entrada(exemplo::Int)\n",
    "    if exemplo == 1\n",
    "        return exemplo1()\n",
    "    elseif exemplo == 2\n",
    "        return exemplo2()\n",
    "    else\n",
    "        error(\"Exemplo inválido. Escolha 1 ou 2.\")\n",
    "    end\n",
    "end"
   ]
  },
  {
   "cell_type": "code",
   "execution_count": 88,
   "metadata": {},
   "outputs": [
    {
     "data": {
      "text/plain": [
       "d_phi (generic function with 1 method)"
      ]
     },
     "metadata": {},
     "output_type": "display_data"
    }
   ],
   "source": [
    "\"\"\"\n",
    "Mapeia um ponto `psi` do intervalo padrão `[-1, 1]` para o intervalo físico\n",
    "\"\"\"\n",
    "function X(psi::Float64, h::Float64, x1e::Float64)\n",
    "    return (psi + 1.0) * h / 2.0 + x1e\n",
    "end\n",
    "\n",
    "function phi(psi::Float64, a::Int)\n",
    "    if a == 1\n",
    "        return (1.0 - psi) / 2.0\n",
    "    elseif a == 2\n",
    "        return (1.0 + psi) / 2.0\n",
    "    else\n",
    "        error(\"a deve ser 1 ou 2.\")\n",
    "    end\n",
    "end\n",
    "\n",
    "function d_phi(psi::Float64, a::Int)\n",
    "    if a == 1\n",
    "        return -1.0 / 2.0\n",
    "    elseif a == 2\n",
    "        return 1.0 / 2.0\n",
    "    else\n",
    "        error(\"a deve ser 1 ou 2.\")\n",
    "    end\n",
    "end\n",
    "\n"
   ]
  },
  {
   "cell_type": "markdown",
   "metadata": {},
   "source": [
    "## Calculo das matrizes LG e EQ a partir do número de elementos\n",
    "\n",
    "A matriz $LG$ armazena a correspondência entre a nomenclatura local e global de cada elemento finito. Assim, ela possui $n_e$ colunas, cada uma relativa a um elemento finito.\n",
    "\n",
    "\\begin{align*}\n",
    "LG(a,e) = \n",
    "\\begin{cases}\n",
    "e,&\\quad\\text{se } a=1,\n",
    "\\\\ \n",
    "e+1,&\\quad\\text{se } a=2.\n",
    "\\end{cases}\n",
    "\\end{align*}\n",
    "\n",
    "Dessa forma, a matriz $LG$ é dada por\n",
    "\\begin{align*}\n",
    "LG = \n",
    "\\begin{bmatrix}\n",
    "1 & 2 & \\dots & e-1 & e   & \\dots & n_e  \\\\\n",
    "2 & 3 & \\dots & e   & e+1 & \\dots & n_e+1\\\\\n",
    "\\end{bmatrix}_{2\\times n_e}.\n",
    "\\end{align*}\n",
    "\n",
    " Cada entrada do vetor $EQ$ possui a nova numeração de uma função global. Portanto, o tamanho do vetor $EQ$\n",
    " é dado pelo número de funções globais, ou seja, $n_e + 1$.\n",
    "\n",
    "\\begin{align*}\n",
    "EQ = \n",
    "\\begin{bmatrix}\n",
    "m+1 & 1 & 2 &\\dots & m & m+1 \n",
    "\\end{bmatrix}_{(n_e+1)}\n",
    "\\end{align*}"
   ]
  },
  {
   "cell_type": "code",
   "execution_count": 89,
   "metadata": {},
   "outputs": [
    {
     "data": {
      "text/plain": [
       "make_EQ (generic function with 1 method)"
      ]
     },
     "metadata": {},
     "output_type": "display_data"
    }
   ],
   "source": [
    "function make_LG(ne::Int) :: Matrix{Int}\n",
    "    return transpose(hcat(1:ne, 2:ne+1))\n",
    "end\n",
    "\n",
    "function make_EQ(ne::Int) :: Tuple{Int,Vector{Int}}\n",
    "    m = ne - 1         \n",
    "    EQ = vcat(m+1,1:m,m+1)\n",
    "    return m, EQ\n",
    "end"
   ]
  },
  {
   "cell_type": "markdown",
   "metadata": {},
   "source": [
    "### Cálculo da matriz local $K^e$ - via quadratura gaussia"
   ]
  },
  {
   "cell_type": "markdown",
   "metadata": {},
   "source": [
    "\\begin{align*}\n",
    "K^e_{a,b} \n",
    " = \n",
    "  \\alpha \\int_{x_{1}^e}^{x_2^e}\\frac{d\\varphi_b^e}{dx}(x)\\frac{d\\varphi_a^e}{dx}(x)dx\n",
    "+ \\beta  \\int_{x_{1}^e}^{x_2^e}\\varphi_b^e(x)\\varphi_a^e(x)dx\n",
    " =\n",
    "\\frac{2\\alpha}{h} \\int_{-1}^{1}\n",
    "\\frac{d\\phi_b}{d\\xi}(\\xi)\\frac{d\\phi_a}{d\\xi}(\\xi)d\\xi\n",
    "+ \\frac{\\beta h}{2}  \\int_{-1}^{1}\n",
    "\\phi_b(\\xi)\\phi_a(\\xi) d\\xi\n",
    "=\n",
    "\\frac{2\\alpha}{h} \\sum_{j=1}^{n_{pg}} W_j \\frac{d\\phi_b}{d\\xi}(P_j)\\frac{d\\phi_a}{d\\xi}(P_j)\n",
    "+ \\frac{\\beta h}{2} \\sum_{j=1}^{n_{pg}} W_j \\phi_b(P_j)\\phi_a(P_j)\n",
    "\\end{align*}"
   ]
  },
  {
   "cell_type": "code",
   "execution_count": 90,
   "metadata": {},
   "outputs": [
    {
     "data": {
      "text/plain": [
       "make_Ke (generic function with 2 methods)"
      ]
     },
     "metadata": {},
     "output_type": "display_data"
    }
   ],
   "source": [
    "\n",
    "function make_Ke(alfa::Float64, beta::Float64, h::Float64, npg::Int=2)\n",
    "    P, W = legendre(npg)\n",
    "    K = zeros(2, 2)\n",
    "    c1 = 2*alfa/h\n",
    "    c2 = beta*h/2\n",
    "\n",
    "    for a in 1:2\n",
    "        for b in 1:2\n",
    "            for j in 1:npg\n",
    "                K[a, b] += W[j] * (d_phi(P[j], a) * d_phi(P[j], b) * c1 + phi(P[j], a) * phi(P[j], b) * c2)\n",
    "            end\n",
    "        end\n",
    "    end\n",
    "\n",
    "    return K\n",
    "end"
   ]
  },
  {
   "cell_type": "markdown",
   "metadata": {},
   "source": [
    "### Montagem da matriz global K a partir da matriz local $K^e$"
   ]
  },
  {
   "cell_type": "code",
   "execution_count": 91,
   "metadata": {},
   "outputs": [
    {
     "data": {
      "text/plain": [
       "make_K (generic function with 1 method)"
      ]
     },
     "metadata": {},
     "output_type": "display_data"
    }
   ],
   "source": [
    "function make_K(alfa::Float64, beta::Float64, ne::Int, m::Int, EQoLG::Matrix{Int})\n",
    "    h = 1.0 / ne\n",
    "    K = spzeros(m+1, m+1)\n",
    "    Ke = make_Ke(alfa, beta, h)\n",
    "\n",
    "    for e in 1:ne\n",
    "        for a in 1:2\n",
    "            i = EQoLG[a, e]\n",
    "            for b in 1:2\n",
    "                K[i, EQoLG[b, e]] += Ke[a, b]\n",
    "            end\n",
    "        end\n",
    "    end\n",
    "\n",
    "    return K[1:m, 1:m]\n",
    "end"
   ]
  },
  {
   "cell_type": "markdown",
   "metadata": {},
   "source": [
    "### Cálculo do vetor local $F^e$ - via quadratura gaussiana"
   ]
  },
  {
   "cell_type": "markdown",
   "metadata": {},
   "source": [
    "\\begin{align*}\n",
    "F_a^e \n",
    " = \n",
    "\\int_{x_1^e}^{x_2^e}f(x)\\varphi_a^e(x)dx\n",
    " =\n",
    "\\frac{h}{2} \\int_{-1}^{1}f\\big(x(\\xi,e)\\big)\\phi_a(\\xi)d\\xi\n",
    " \\approx\n",
    "\\frac{h}{2} \\sum_{j=1}^{n_{pg}} W_j f\\big(x(P_j,e)\\big)\\phi_a(P_j).\n",
    "\\end{align*}"
   ]
  },
  {
   "cell_type": "code",
   "execution_count": 92,
   "metadata": {},
   "outputs": [
    {
     "data": {
      "text/plain": [
       "make_Fe (generic function with 2 methods)"
      ]
     },
     "metadata": {},
     "output_type": "display_data"
    }
   ],
   "source": [
    "function make_Fe(f::Function, h::Float64, xle::Float64, P::Vector{Float64}, W::Vector{Float64}, npg::Int=5)\n",
    "    Fe = zeros(2)     \n",
    "    for a in 1:2\n",
    "        for j = 1:npg\n",
    "            x = X(P[j], h, xle)\n",
    "            Fe[a] += W[j] * f(x) * phi(P[j], a) * h/2\n",
    "        end\n",
    "    end\n",
    "    \n",
    "    return Fe\n",
    "end"
   ]
  },
  {
   "cell_type": "markdown",
   "metadata": {},
   "source": [
    "### Montagem do vetor global F a partir do vetor local $F^e$\n"
   ]
  },
  {
   "cell_type": "code",
   "execution_count": 93,
   "metadata": {},
   "outputs": [
    {
     "data": {
      "text/plain": [
       "make_F (generic function with 2 methods)"
      ]
     },
     "metadata": {},
     "output_type": "display_data"
    }
   ],
   "source": [
    "function make_F(f::Function, ne::Int, m::Int, EQoLG::Matrix{Int}, npg::Int=5)\n",
    "    h = 1.0 / ne\n",
    "    F = zeros(m + 1)\n",
    "    P, W = legendre(npg)\n",
    "    \n",
    "    for e in 1:ne\n",
    "        Fe = make_Fe(f, h, (e-1)*h, P, W, npg)\n",
    "        for a = 1:2\n",
    "            F[EQoLG[a, e]] += Fe[a]\n",
    "        end\n",
    "    end\n",
    "    \n",
    "    return F[1:m]\n",
    "end"
   ]
  },
  {
   "cell_type": "markdown",
   "metadata": {},
   "source": [
    "### Montagem do vetor local $Ge$"
   ]
  },
  {
   "cell_type": "markdown",
   "metadata": {},
   "source": [
    "\n",
    "\\begin{align*}\n",
    "G_a^e(C) = \\int_{x_1^e}^{x_2^e} g(C\\varphi_{1}^e(x) + C\\varphi_{2}^e(x))\\varphi_{a}^e(x)dx\n",
    "\\end{align*}"
   ]
  },
  {
   "cell_type": "code",
   "execution_count": 94,
   "metadata": {},
   "outputs": [
    {
     "data": {
      "text/plain": [
       "make_Ge (generic function with 2 methods)"
      ]
     },
     "metadata": {},
     "output_type": "display_data"
    }
   ],
   "source": [
    "function make_Ge(C_ext::Vector{Float64}, g::Function, EQoLG::Matrix{Int}, e::Int, h::Float64, X::Vector{Float64}, W::Vector{Float64})\n",
    "    Ge = zeros(2)\n",
    "\n",
    "    Ce_phi = C_ext[EQoLG[1, e]] * phi.(X, 1) .+ C_ext[EQoLG[2, e]] * phi.(X, 2)\n",
    "    g_Ce_phi = g.(Ce_phi)\n",
    "\n",
    "    # Cálculo de Ge para o elemento e\n",
    "    Ge[1] = dot(W, g_Ce_phi .* phi.(X, 1)) * h / 2\n",
    "    Ge[2] = dot(W, g_Ce_phi .* phi.(X, 2)) * h / 2\n",
    "\n",
    "    return Ge\n",
    "end\n"
   ]
  },
  {
   "cell_type": "markdown",
   "metadata": {},
   "source": [
    "### Montagem do vetor global $G$"
   ]
  },
  {
   "cell_type": "code",
   "execution_count": 95,
   "metadata": {},
   "outputs": [
    {
     "data": {
      "text/plain": [
       "make_G (generic function with 4 methods)"
      ]
     },
     "metadata": {},
     "output_type": "display_data"
    }
   ],
   "source": [
    "function make_G(C::Vector{Float64}, g::Function, ne::Int, m::Int, EQoLG::Matrix{Int}, npg::Int=5)\n",
    "    h = 1.0 / ne\n",
    "    X, W = legendre(npg)\n",
    "    G = zeros(ne)\n",
    "    \n",
    "    C_ext = [C; 0]\n",
    "\n",
    "    for e in 1:ne\n",
    "        # Chamada à função make_Ge para obter o vetor local Ge\n",
    "        Ge = make_Ge(C_ext, g, EQoLG, e, h, X, W)\n",
    "        \n",
    "        # Soma ao vetor global G\n",
    "        for a in 1:2\n",
    "            i = EQoLG[a, e]\n",
    "            G[i] += Ge[a]\n",
    "        end\n",
    "    end\n",
    "    \n",
    "    return G[1:(ne-1)]\n",
    "end\n"
   ]
  },
  {
   "cell_type": "markdown",
   "metadata": {},
   "source": [
    "## Cálculo do erro no tempo $t_n$"
   ]
  },
  {
   "cell_type": "markdown",
   "metadata": {},
   "source": [
    "O erro na norma do espaço $L^2(]0,1[)$ entre a solução exata $u(x,t_n)$ e a solução aproximada $U^n(x)$, definida por $\\displaystyle U^n(x) = \\sum_{j=1}^m C_j^n\\varphi_j(x)$, é dado por \n",
    "$\\displaystyle\\|u(t_n)-U^n\\|=\\sqrt{\\int_0^1|u(x,t_n)-U^n(x)|^2dx}$.\n",
    "\n",
    "Dessa forma, denotando $\\mathcal{E}_h^n=\\|u(t_n)-U^n\\|$ e $\\bar{C}^n=[C^n;0]$, temos que:\n",
    "\n",
    "\\begin{align*}\n",
    "(\\mathcal{E}_h^n)^2 \n",
    "\\approx\n",
    "\\frac{h}{2} \\sum_{e=1}^{n_e} \\sum_{j=1}^{n_{pg}} \n",
    "W_j|u\\big(x(P_j,e),t_n\\big) - \\bar{C}_{EQoLG(1,e)}^n\\phi_1(P_j) - \\bar{C}_{EQoLG(2,e)}^n\\phi_2(P_j) |^2.\n",
    "\\end{align*}"
   ]
  },
  {
   "cell_type": "code",
   "execution_count": 96,
   "metadata": {},
   "outputs": [
    {
     "data": {
      "text/plain": [
       "erro_norma_L2"
      ]
     },
     "metadata": {},
     "output_type": "display_data"
    }
   ],
   "source": [
    "@doc raw\"\"\"\n",
    "Calcula a norma L² da diferença entre duas funções, `z(x)` e `Z(x)`, \n",
    "onde `Z(x)` pertence ao espaço aproximado `Vₘ`, sendo expressa como `Z(x) = Σ_{j=1}^{m} C_j φ_j(x)`. \n",
    "A integral da diferença é aproximada em cada elemento finito por meio da quadratura de Gauss-Legendre.\n",
    "\n",
    "# Parâmetros:\n",
    "- `z::Function`: Função `z(x)` que representa a solução exata no domínio.\n",
    "- `coeff::Vector{Float64}`: Vetor de coeficientes estendido, `C̄ = [C; 0]`, onde `C` é o vetor de coeficientes que define a função aproximada `Z(x)`.\n",
    "- `ne::Int`: Número total de elementos (ou intervalos) em que o domínio `[0,1]` é dividido.\n",
    "- `EQoLG::Matrix{Int}`: ≡ EQ[LG].\n",
    "\n",
    "# Retorno:\n",
    "- `Float64`: O valor do erro calculado na norma L² entre `z(x)` e a aproximação `Z(x)`.\n",
    "\"\"\"\n",
    "function erro_norma_L2(z::Function, coeff::Vector{Float64}, ne::Int, EQoLG::Matrix{Int})::Float64\n",
    "    h = 1.0 / ne       # Comprimento de cada elemento finito\n",
    "    erro = 0.0         # Inicializa o erro\n",
    "    P, W = legendre(5) # Pontos e pesos da quadratura de Gauss-Legendre (5 pontos)\n",
    "\n",
    "    # Calcula as funções de base ϕ₁ e ϕ₂ nos pontos de quadratura P\n",
    "    phi_1P = phi.(P, 1)\n",
    "    phi_2P = phi.(P, 2)\n",
    "\n",
    "    # Loop sobre todos os elementos finitos\n",
    "    for e = 1:ne\n",
    "        # Coeficientes da solução aproximada para o elemento `e`\n",
    "        c1e = coeff[EQoLG[1, e]]\n",
    "        c2e = coeff[EQoLG[2, e]]\n",
    "\n",
    "        # Loop sobre os pontos de quadratura\n",
    "        for j = 1:length(P)\n",
    "            x = X(P[j], h, (e - 1) * h) # Mapeia o ponto de quadratura `P[j]` de [-1,1] para [x1e,x2e]\n",
    "            erro += W[j] * (z(x) - c1e * phi_1P[j] - c2e * phi_2P[j])^2\n",
    "        end\n",
    "    end\n",
    "\n",
    "    return sqrt(erro * h / 2)\n",
    "end"
   ]
  },
  {
   "cell_type": "markdown",
   "metadata": {},
   "source": [
    "## Cálculo de $C^0$"
   ]
  },
  {
   "cell_type": "code",
   "execution_count": 97,
   "metadata": {},
   "outputs": [
    {
     "data": {
      "text/plain": [
       "calcule_C0 (generic function with 1 method)"
      ]
     },
     "metadata": {},
     "output_type": "display_data"
    }
   ],
   "source": [
    "function calcule_C0(C::Vector{Float64}, f::Function, ne::Int, m::Int, EQoLG::Matrix{Int}; C0_case::Int=2)\n",
    "    if C0_case == 1\n",
    "        h = 1.0 / ne\n",
    "        @. C = f(h:h:1.0-h)\n",
    "    elseif C0_case == 2\n",
    "        C .= make_K(0.0, 1.0, ne, m, EQoLG) \\ make_F(f, ne, m, EQoLG)\n",
    "    else\n",
    "        error(\"C0_case deve ser 1 ou 2.\")\n",
    "    end\n",
    "end"
   ]
  },
  {
   "cell_type": "markdown",
   "metadata": {},
   "source": [
    "## Calculo de $\\overline{C}$"
   ]
  },
  {
   "cell_type": "code",
   "execution_count": 98,
   "metadata": {},
   "outputs": [
    {
     "data": {
      "text/plain": [
       "calcule_C_til (generic function with 2 methods)"
      ]
     },
     "metadata": {},
     "output_type": "display_data"
    }
   ],
   "source": [
    "function calcule_C_til(C::Vector{Float64}, C_previus::Vector{Float64}, g::Function, A, B::SparseMatrixCSC{Float64,Int64}, ne::Int, m::Int, EQoLG::Matrix{Int}, tau::Float64, n::Int, f::Function)\n",
    "    t_medium = n * tau - tau / 2\n",
    "    F = make_F(x -> f(x, t_medium), ne, m, EQoLG)\n",
    "    G = make_G(C_previus, g, ne, m, EQoLG)\n",
    "    C_til = A \\ (B * C_previus + tau * (F - G))\n",
    "    return C_til\n",
    "end"
   ]
  },
  {
   "cell_type": "markdown",
   "metadata": {},
   "source": [
    "## Cálculo de $C^1$"
   ]
  },
  {
   "cell_type": "code",
   "execution_count": 99,
   "metadata": {},
   "outputs": [
    {
     "data": {
      "text/plain": [
       "calcule_C1 (generic function with 2 methods)"
      ]
     },
     "metadata": {},
     "output_type": "display_data"
    }
   ],
   "source": [
    "function calcule_C1(C_til::Vector{Float64}, C_previus::Vector{Float64}, g::Function, A, B::SparseMatrixCSC{Float64,Int64}, ne::Int, m::Int, EQoLG::Matrix{Int}, tau::Float64, n::Int, f::Function)\n",
    "    t_medium = n * tau - tau / 2\n",
    "    C_arg = (C_previus + C_til) / 2\n",
    "    F = make_F(x -> f(x, t_medium), ne, m, EQoLG)\n",
    "    G = make_G(C_arg, g, ne, m, EQoLG)\n",
    "    C = A \\ (B * C_previus + tau * (F - G))\n",
    "    return C\n",
    "end"
   ]
  },
  {
   "cell_type": "markdown",
   "metadata": {},
   "source": [
    "## Cálculo de $C^n$"
   ]
  },
  {
   "cell_type": "code",
   "execution_count": 100,
   "metadata": {},
   "outputs": [
    {
     "data": {
      "text/plain": [
       "calcule_Cn (generic function with 2 methods)"
      ]
     },
     "metadata": {},
     "output_type": "display_data"
    }
   ],
   "source": [
    "function calcule_Cn(C::Vector{Float64}, C_previus::Vector{Float64}, g::Function, A, B::SparseMatrixCSC{Float64,Int64}, ne::Int, m::Int, EQoLG::Matrix{Int}, tau::Float64, n::Int, f::Function)\n",
    "    t_medium = n * tau - tau / 2\n",
    "    C_arg = (3 * C - C_previus) / 2\n",
    "    F = make_F(x -> f(x, t_medium), ne, m, EQoLG)\n",
    "    G = make_G(C_previus, g, ne, m, EQoLG)\n",
    "    C .= A \\ (B * C_previus + tau * (F - G))\n",
    "end"
   ]
  },
  {
   "cell_type": "markdown",
   "metadata": {},
   "source": [
    "### Comparando a solução aproximada com a solução exata\n"
   ]
  },
  {
   "cell_type": "code",
   "execution_count": 101,
   "metadata": {},
   "outputs": [
    {
     "data": {
      "text/plain": [
       "show_solution (generic function with 1 method)"
      ]
     },
     "metadata": {},
     "output_type": "display_data"
    }
   ],
   "source": [
    "function show_solution(example::Int, case::Int)\n",
    "    if example == 1\n",
    "        T, alfa, beta, f, u0, u, g = exemplo1()\n",
    "    elseif example == 2\n",
    "        T, alfa, beta, f, u0, g = exemplo2()\n",
    "    else\n",
    "        error(\"Exemplo inválido. Escolha 1 ou 2.\")\n",
    "    end\n",
    "\n",
    "    npg = 5\n",
    "    ne = 4\n",
    "    h = 1.0 / ne\n",
    "    tau = h\n",
    "    t = 0:tau:T\n",
    "    N = length(t) - 1\n",
    "\n",
    "    LG = make_LG(ne)\n",
    "    m, EQ = make_EQ(ne)\n",
    "    EQoLG = EQ[LG]\n",
    "\n",
    "    M = make_K(0.0, 1.0, ne, m, EQoLG)\n",
    "    K = make_K(alfa, beta, ne, m, EQoLG)\n",
    "    \n",
    "    A = M + (tau / 2) * K\n",
    "    B = M - (tau / 2) * K\n",
    "    \n",
    "    # Exibe os valores ne, LG, m, EQ e EQoLG\n",
    "    display(\"ne = \"); display(ne)\n",
    "    display(\"LG = \"); display(LG)\n",
    "    display(\"m = \"); display(m)\n",
    "    display(\"EQ = \"); display(EQ)\n",
    "    display(\"Matriz K:\")\n",
    "    display(M)\n",
    "    display(\"Matriz K:\")\n",
    "    display(K)\n",
    "    display(\"A = \"); display(A)\n",
    "    display(\"B = \"); display(B)\n",
    "\n",
    "    C_previus = zeros(m)\n",
    "    C_til = zeros(m)\n",
    "    C   = zeros(m)\n",
    "\n",
    "    malha_solucao_exata = 0:0.01:1\n",
    "    malha_solucao_aproximada = 0:h:1\n",
    "\n",
    "    values = [u(x,t) for x in malha_solucao_exata, t in t]\n",
    "    y_lower_limit = minimum(values) \n",
    "    y_upper_limit = maximum(values) \n",
    "\n",
    "    errors = zeros(N + 1)    \n",
    "    \n",
    "    # Cria uma animação\n",
    "    anim = @animate for n = 0:N\n",
    "        if n == 0\n",
    "            calcule_C0(C_previus, u0, ne, m, EQoLG; C0_case=case)\n",
    "        elseif n == 1\n",
    "            C_til .= calcule_C_til(C, C_previus, g, A, B, ne, m, EQoLG, tau, n, f)\n",
    "            C .= calcule_C1(C_til, C_previus, g, A, B, ne, m, EQoLG, tau, n, f)\n",
    "        else\n",
    "            calcule_Cn(C, C_previus, g, A, B, ne, m, EQoLG, tau, n, f)\n",
    "            C_previus .= C\n",
    "        end\n",
    "\n",
    "        errors[n+1] = erro_norma_L2(x -> u(x, t[n+1]), [C_previus; 0], ne, EQoLG)\n",
    "\n",
    "        # Cria a figura com layout único\n",
    "        plt = plot(size=(800, 400),\n",
    "            title=\"Soluções Exata e Aproximada em t_$(n)= $(t[n+1])\",\n",
    "            xlabel=\"x\",\n",
    "            legend=:topright,\n",
    "            ylim=(y_lower_limit, y_upper_limit))\n",
    "\n",
    "        # Gráfico da solução exata u(x, t[n+1])\n",
    "        plot!(plt, malha_solucao_exata, u.(malha_solucao_exata, t[n+1]),\n",
    "            lw=3, color=:blue, label=\"u(x,t_$(n))\")\n",
    "\n",
    "        # Gráfico da solução aproximada Uⁿ(x)\n",
    "        plot!(plt, malha_solucao_aproximada, [0; C_previus; 0],\n",
    "            lw=3, color=:red, linestyle=:dash, markershape=:circle, label=\"U^$(n)(x)\")\n",
    "    end\n",
    "\n",
    "\n",
    "    display(\"Erros na norma L2:\")\n",
    "    display(errors)\n",
    "\n",
    "    display(\"Erro máximo na norma L2:\")\n",
    "    display(maximum(errors))\n",
    "\n",
    "    gif(anim, \"imagens/solucao_exata_vs_aproximada.gif\", fps=1)\n",
    "end"
   ]
  },
  {
   "cell_type": "code",
   "execution_count": 102,
   "metadata": {},
   "outputs": [
    {
     "data": {
      "text/plain": [
       "\"ne = \""
      ]
     },
     "metadata": {},
     "output_type": "display_data"
    },
    {
     "data": {
      "text/plain": [
       "4"
      ]
     },
     "metadata": {},
     "output_type": "display_data"
    },
    {
     "data": {
      "text/plain": [
       "\"LG = \""
      ]
     },
     "metadata": {},
     "output_type": "display_data"
    },
    {
     "data": {
      "text/plain": [
       "2×4 Matrix{Int64}:\n",
       " 1  2  3  4\n",
       " 2  3  4  5"
      ]
     },
     "metadata": {},
     "output_type": "display_data"
    },
    {
     "data": {
      "text/plain": [
       "\"m = \""
      ]
     },
     "metadata": {},
     "output_type": "display_data"
    },
    {
     "data": {
      "text/plain": [
       "3"
      ]
     },
     "metadata": {},
     "output_type": "display_data"
    },
    {
     "data": {
      "text/plain": [
       "\"EQ = \""
      ]
     },
     "metadata": {},
     "output_type": "display_data"
    },
    {
     "data": {
      "text/plain": [
       "5-element Vector{Int64}:\n",
       " 4\n",
       " 1\n",
       " 2\n",
       " 3\n",
       " 4"
      ]
     },
     "metadata": {},
     "output_type": "display_data"
    },
    {
     "data": {
      "text/plain": [
       "\"Matriz K:\""
      ]
     },
     "metadata": {},
     "output_type": "display_data"
    },
    {
     "data": {
      "text/plain": [
       "3×3 SparseMatrixCSC{Float64, Int64} with 7 stored entries:\n",
       " 0.166667   0.0416667   ⋅ \n",
       " 0.0416667  0.166667   0.0416667\n",
       "  ⋅         0.0416667  0.166667"
      ]
     },
     "metadata": {},
     "output_type": "display_data"
    },
    {
     "data": {
      "text/plain": [
       "\"Matriz K:\""
      ]
     },
     "metadata": {},
     "output_type": "display_data"
    },
    {
     "data": {
      "text/plain": [
       "3×3 SparseMatrixCSC{Float64, Int64} with 7 stored entries:\n",
       "  8.16667  -3.95833    ⋅ \n",
       " -3.95833   8.16667  -3.95833\n",
       "   ⋅       -3.95833   8.16667"
      ]
     },
     "metadata": {},
     "output_type": "display_data"
    },
    {
     "data": {
      "text/plain": [
       "\"A = \""
      ]
     },
     "metadata": {},
     "output_type": "display_data"
    },
    {
     "data": {
      "text/plain": [
       "3×3 SparseMatrixCSC{Float64, Int64} with 7 stored entries:\n",
       "  4.75    -1.8125    ⋅ \n",
       " -1.8125   4.75    -1.8125\n",
       "   ⋅      -1.8125   4.75"
      ]
     },
     "metadata": {},
     "output_type": "display_data"
    },
    {
     "data": {
      "text/plain": [
       "\"B = \""
      ]
     },
     "metadata": {},
     "output_type": "display_data"
    },
    {
     "data": {
      "text/plain": [
       "3×3 SparseMatrixCSC{Float64, Int64} with 7 stored entries:\n",
       " -3.41667   2.14583    ⋅ \n",
       "  2.14583  -3.41667   2.14583\n",
       "   ⋅        2.14583  -3.41667"
      ]
     },
     "metadata": {},
     "output_type": "display_data"
    },
    {
     "data": {
      "text/plain": [
       "\"Erros na norma L2:\""
      ]
     },
     "metadata": {},
     "output_type": "display_data"
    },
    {
     "data": {
      "text/plain": [
       "5-element Vector{Float64}:\n",
       " 0.003980336614548407\n",
       " 0.012354738208216465\n",
       " 0.03615129262676243\n",
       " 0.018494614775198693\n",
       " 0.011565287381038068"
      ]
     },
     "metadata": {},
     "output_type": "display_data"
    },
    {
     "data": {
      "text/plain": [
       "\"Erro máximo na norma L2:\""
      ]
     },
     "metadata": {},
     "output_type": "display_data"
    },
    {
     "data": {
      "text/plain": [
       "0.03615129262676243"
      ]
     },
     "metadata": {},
     "output_type": "display_data"
    },
    {
     "name": "stderr",
     "output_type": "stream",
     "text": [
      "┌ Info: Saved animation to /home/daniel/Workspace/metodos-numericos/Elementos Finitos/imagens/solucao_exata_vs_aproximada.gif\n",
      "└ @ Plots /home/daniel/.julia/packages/Plots/du2dt/src/animation.jl:156\n"
     ]
    },
    {
     "data": {
      "text/html": [
       "<img src=\"data:image/gif;base64,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\" />"
      ],
      "text/plain": [
       "Plots.AnimatedGif(\"/home/daniel/Workspace/metodos-numericos/Elementos Finitos/imagens/solucao_exata_vs_aproximada.gif\")"
      ]
     },
     "metadata": {},
     "output_type": "display_data"
    }
   ],
   "source": [
    "example = 1\n",
    "case = 1\n",
    "\n",
    "show_solution(example, case)"
   ]
  },
  {
   "cell_type": "markdown",
   "metadata": {},
   "source": [
    "### Estudo de convergência do erro."
   ]
  },
  {
   "cell_type": "code",
   "execution_count": 103,
   "metadata": {},
   "outputs": [
    {
     "data": {
      "text/plain": [
       "show_error (generic function with 1 method)"
      ]
     },
     "metadata": {},
     "output_type": "display_data"
    }
   ],
   "source": [
    "function calcule_error(example::Int, case::Int)\n",
    "    if example == 1\n",
    "        T, alfa, beta, f, u0, u, g = exemplo1()\n",
    "    elseif example == 2\n",
    "        T, alfa, beta, f, u0, g = exemplo2()\n",
    "    else\n",
    "        error(\"Exemplo inválido. Escolha 1 ou 2.\")\n",
    "    end\n",
    "\n",
    "    vec_ne = [2^i for i = 2:11]\n",
    "    vec_h = 1.0 ./ vec_ne\n",
    "    vec_tau = vec_h\n",
    "    vec_erros = zeros(length(vec_ne))\n",
    "\n",
    "    npg = 5\n",
    "    for i = 1:length(vec_ne)\n",
    "        ne = vec_ne[i]\n",
    "        h = vec_h[i]\n",
    "        tau = vec_tau[i]\n",
    "        t = 0:tau:T\n",
    "        N = length(t) - 1\n",
    "\n",
    "        LG = make_LG(ne)\n",
    "        m, EQ = make_EQ(ne)\n",
    "        EQoLG = EQ[LG]\n",
    "\n",
    "        M = make_K(0.0, 1.0, ne, m, EQoLG)\n",
    "        K = make_K(alfa, beta, ne, m, EQoLG)\n",
    "        P, W = legendre(npg)\n",
    "\n",
    "        A = M + (tau / 2) * K\n",
    "        B = M - (tau / 2) * K\n",
    "\n",
    "        LU_A = lu(A)\n",
    "\n",
    "        C_previus = zeros(m);  \n",
    "        C = zeros(m)\n",
    "\n",
    "        erros = zeros(N + 1)\n",
    "\n",
    "        calcule_C0(C_previus, u0, ne, m, EQoLG; C0_case=case)\n",
    "        erros[1] = erro_norma_L2(u0, [C_previus; 0], ne, EQoLG)\n",
    "\n",
    "        for n = 1:N\n",
    "            calcule_Cn(C, C_previus, g, LU_A, B, ne, m, EQoLG, tau, n, f)\n",
    "\n",
    "            C_previus .= C\n",
    "            erros[n+1] = erro_norma_L2(x -> u(x, t[n+1]), [C_previus; 0], ne, EQoLG)\n",
    "        end\n",
    "\n",
    "        vec_erros[i] = maximum(erros)\n",
    "    end\n",
    "\n",
    "    return vec_h, vec_erros\n",
    "end\n",
    "\n",
    "function show_error(vec_h, vec_erros, exemplo, case)\n",
    "    # Cria o gráfico do erro em função de h em escala logarítmica\n",
    "    plt = plot(\n",
    "        vec_h, vec_erros, lw=3, linestyle=:solid, markershape=:circle,\n",
    "        label=\"Erro\", title=\"Estudo do erro - exemplo $exemplo - case = $case\",\n",
    "        xscale=:log10, yscale=:log10, legend=:topleft\n",
    "    )\n",
    "\n",
    "    # Adiciona a curva teórica de h² ao gráfico\n",
    "    plot!(plt, vec_h, vec_h .^ 2, lw=3, linestyle=:solid, label=\"h²\")\n",
    "\n",
    "    # Adiciona rótulos aos eixos\n",
    "    xlabel!(\"h\")\n",
    "    ylabel!(\"Erro\")\n",
    "\n",
    "    # Exibe o gráfico\n",
    "    display(plt)\n",
    "\n",
    "    # Exibe a tabela com os valores de h e erro\n",
    "    display(\"Tabela com os valores de h e erro - exemplo \" * string(exemplo) * \" - caso_C⁰ = \" * string(case))\n",
    "    display(DataFrame(h=vec_h, erro=vec_erros))\n",
    "end"
   ]
  },
  {
   "cell_type": "code",
   "execution_count": 104,
   "metadata": {},
   "outputs": [
    {
     "data": {
      "image/png": "[encoded data removed]",
      "image/svg+xml": [
       "<?xml version=\"1.0\" encoding=\"utf-8\"?>\n",
       "<svg xmlns=\"http://www.w3.org/2000/svg\" xmlns:xlink=\"http://www.w3.org/1999/xlink\" width=\"600\" height=\"400\" viewBox=\"0 0 2400 1600\">\n",
       "<defs>\n",
       "  <clipPath id=\"clip290\">\n",
       "    <rect x=\"0\" y=\"0\" width=\"2400\" height=\"1600\"/>\n",
       "  </clipPath>\n",
       "</defs>\n",
       "<path clip-path=\"url(#clip290)\" d=\"M0 1600 L2400 1600 L2400 0 L0 0  Z\" fill=\"#ffffff\" fill-rule=\"evenodd\" fill-opacity=\"1\"/>\n",
       "<defs>\n",
       "  <clipPath id=\"clip291\">\n",
       "    <rect x=\"480\" y=\"0\" width=\"1681\" height=\"1600\"/>\n",
       "  </clipPath>\n",
       "</defs>\n",
       "<path clip-path=\"url(#clip290)\" d=\"M252.764 1410.9 L2352.76 1410.9 L2352.76 123.472 L252.764 123.472  Z\" fill=\"#ffffff\" fill-rule=\"evenodd\" fill-opacity=\"1\"/>\n",
       "<defs>\n",
       "  <clipPath id=\"clip292\">\n",
       "    <rect x=\"252\" y=\"123\" width=\"2101\" height=\"1288\"/>\n",
       "  </clipPath>\n",
       "</defs>\n",
       "<polyline clip-path=\"url(#clip292)\" style=\"stroke:#000000; stroke-linecap:round; stroke-linejoin:round; stroke-width:2; stroke-opacity:0.1; fill:none\" points=\"539.854,1410.9 539.854,123.472 \"/>\n",
       "<polyline clip-path=\"url(#clip292)\" style=\"stroke:#000000; stroke-linecap:round; stroke-linejoin:round; stroke-width:2; stroke-opacity:0.1; fill:none\" points=\"1271.09,1410.9 1271.09,123.472 \"/>\n",
       "<polyline clip-path=\"url(#clip292)\" style=\"stroke:#000000; stroke-linecap:round; stroke-linejoin:round; stroke-width:2; stroke-opacity:0.1; fill:none\" points=\"2002.33,1410.9 2002.33,123.472 \"/>\n",
       "<polyline clip-path=\"url(#clip290)\" style=\"stroke:#000000; stroke-linecap:round; stroke-linejoin:round; stroke-width:4; stroke-opacity:1; fill:none\" points=\"252.764,1410.9 2352.76,1410.9 \"/>\n",
       "<polyline clip-path=\"url(#clip290)\" style=\"stroke:#000000; stroke-linecap:round; stroke-linejoin:round; stroke-width:4; stroke-opacity:1; fill:none\" points=\"539.854,1410.9 539.854,1392 \"/>\n",
       "<polyline clip-path=\"url(#clip290)\" style=\"stroke:#000000; stroke-linecap:round; stroke-linejoin:round; stroke-width:4; stroke-opacity:1; fill:none\" points=\"1271.09,1410.9 1271.09,1392 \"/>\n",
       "<polyline clip-path=\"url(#clip290)\" style=\"stroke:#000000; stroke-linecap:round; stroke-linejoin:round; stroke-width:4; stroke-opacity:1; fill:none\" points=\"2002.33,1410.9 2002.33,1392 \"/>\n",
       "<path clip-path=\"url(#clip290)\" d=\"M489.735 1485.02 L497.373 1485.02 L497.373 1458.66 L489.063 1460.32 L489.063 1456.06 L497.327 1454.4 L502.003 1454.4 L502.003 1485.02 L509.642 1485.02 L509.642 1488.96 L489.735 1488.96 L489.735 1485.02 Z\" fill=\"#000000\" fill-rule=\"nonzero\" fill-opacity=\"1\" /><path clip-path=\"url(#clip290)\" d=\"M529.086 1457.48 Q525.475 1457.48 523.646 1461.04 Q521.841 1464.58 521.841 1471.71 Q521.841 1478.82 523.646 1482.38 Q525.475 1485.92 529.086 1485.92 Q532.72 1485.92 534.526 1482.38 Q536.355 1478.82 536.355 1471.71 Q536.355 1464.58 534.526 1461.04 Q532.72 1457.48 529.086 1457.48 M529.086 1453.77 Q534.896 1453.77 537.952 1458.38 Q541.031 1462.96 541.031 1471.71 Q541.031 1480.44 537.952 1485.04 Q534.896 1489.63 529.086 1489.63 Q523.276 1489.63 520.197 1485.04 Q517.142 1480.44 517.142 1471.71 Q517.142 1462.96 520.197 1458.38 Q523.276 1453.77 529.086 1453.77 Z\" fill=\"#000000\" fill-rule=\"nonzero\" fill-opacity=\"1\" /><path clip-path=\"url(#clip290)\" d=\"M541.031 1447.87 L565.142 1447.87 L565.142 1451.07 L541.031 1451.07 L541.031 1447.87 Z\" fill=\"#000000\" fill-rule=\"nonzero\" fill-opacity=\"1\" /><path clip-path=\"url(#clip290)\" d=\"M584.853 1446.41 Q587.58 1446.99 589.103 1448.83 Q590.645 1450.68 590.645 1453.38 Q590.645 1457.54 587.787 1459.82 Q584.928 1462.09 579.662 1462.09 Q577.894 1462.09 576.013 1461.73 Q574.151 1461.4 572.157 1460.7 L572.157 1457.03 Q573.737 1457.95 575.618 1458.42 Q577.499 1458.89 579.549 1458.89 Q583.122 1458.89 584.984 1457.48 Q586.865 1456.07 586.865 1453.38 Q586.865 1450.9 585.116 1449.51 Q583.386 1448.1 580.282 1448.1 L577.01 1448.1 L577.01 1444.98 L580.433 1444.98 Q583.235 1444.98 584.721 1443.87 Q586.207 1442.74 586.207 1440.63 Q586.207 1438.47 584.665 1437.32 Q583.141 1436.16 580.282 1436.16 Q578.721 1436.16 576.935 1436.49 Q575.148 1436.83 573.004 1437.55 L573.004 1434.16 Q575.167 1433.56 577.047 1433.26 Q578.947 1432.96 580.621 1432.96 Q584.947 1432.96 587.467 1434.93 Q589.987 1436.89 589.987 1440.24 Q589.987 1442.57 588.652 1444.19 Q587.316 1445.79 584.853 1446.41 Z\" fill=\"#000000\" fill-rule=\"nonzero\" fill-opacity=\"1\" /><path clip-path=\"url(#clip290)\" d=\"M1221.36 1485.02 L1229 1485.02 L1229 1458.66 L1220.69 1460.32 L1220.69 1456.06 L1228.95 1454.4 L1233.63 1454.4 L1233.63 1485.02 L1241.27 1485.02 L1241.27 1488.96 L1221.36 1488.96 L1221.36 1485.02 Z\" fill=\"#000000\" fill-rule=\"nonzero\" fill-opacity=\"1\" /><path clip-path=\"url(#clip290)\" d=\"M1260.71 1457.48 Q1257.1 1457.48 1255.27 1461.04 Q1253.47 1464.58 1253.47 1471.71 Q1253.47 1478.82 1255.27 1482.38 Q1257.1 1485.92 1260.71 1485.92 Q1264.35 1485.92 1266.15 1482.38 Q1267.98 1478.82 1267.98 1471.71 Q1267.98 1464.58 1266.15 1461.04 Q1264.35 1457.48 1260.71 1457.48 M1260.71 1453.77 Q1266.52 1453.77 1269.58 1458.38 Q1272.66 1462.96 1272.66 1471.71 Q1272.66 1480.44 1269.58 1485.04 Q1266.52 1489.63 1260.71 1489.63 Q1254.9 1489.63 1251.82 1485.04 Q1248.77 1480.44 1248.77 1471.71 Q1248.77 1462.96 1251.82 1458.38 Q1254.9 1453.77 1260.71 1453.77 Z\" fill=\"#000000\" fill-rule=\"nonzero\" fill-opacity=\"1\" /><path clip-path=\"url(#clip290)\" d=\"M1272.66 1447.87 L1296.77 1447.87 L1296.77 1451.07 L1272.66 1451.07 L1272.66 1447.87 Z\" fill=\"#000000\" fill-rule=\"nonzero\" fill-opacity=\"1\" /><path clip-path=\"url(#clip290)\" d=\"M1308.24 1458.35 L1321.5 1458.35 L1321.5 1461.55 L1303.67 1461.55 L1303.67 1458.35 Q1305.83 1456.11 1309.56 1452.35 Q1313.3 1448.57 1314.26 1447.48 Q1316.08 1445.43 1316.8 1444.02 Q1317.53 1442.59 1317.53 1441.22 Q1317.53 1438.98 1315.95 1437.57 Q1314.39 1436.16 1311.87 1436.16 Q1310.08 1436.16 1308.09 1436.78 Q1306.11 1437.4 1303.86 1438.66 L1303.86 1434.82 Q1306.15 1433.9 1308.15 1433.43 Q1310.14 1432.96 1311.79 1432.96 Q1316.16 1432.96 1318.75 1435.14 Q1321.35 1437.32 1321.35 1440.97 Q1321.35 1442.7 1320.69 1444.26 Q1320.05 1445.8 1318.34 1447.91 Q1317.87 1448.46 1315.35 1451.07 Q1312.83 1453.67 1308.24 1458.35 Z\" fill=\"#000000\" fill-rule=\"nonzero\" fill-opacity=\"1\" /><path clip-path=\"url(#clip290)\" d=\"M1952.45 1485.02 L1960.09 1485.02 L1960.09 1458.66 L1951.78 1460.32 L1951.78 1456.06 L1960.04 1454.4 L1964.72 1454.4 L1964.72 1485.02 L1972.36 1485.02 L1972.36 1488.96 L1952.45 1488.96 L1952.45 1485.02 Z\" fill=\"#000000\" fill-rule=\"nonzero\" fill-opacity=\"1\" /><path clip-path=\"url(#clip290)\" d=\"M1991.8 1457.48 Q1988.19 1457.48 1986.36 1461.04 Q1984.55 1464.58 1984.55 1471.71 Q1984.55 1478.82 1986.36 1482.38 Q1988.19 1485.92 1991.8 1485.92 Q1995.43 1485.92 1997.24 1482.38 Q1999.07 1478.82 1999.07 1471.71 Q1999.07 1464.58 1997.24 1461.04 Q1995.43 1457.48 1991.8 1457.48 M1991.8 1453.77 Q1997.61 1453.77 2000.67 1458.38 Q2003.74 1462.96 2003.74 1471.71 Q2003.74 1480.44 2000.67 1485.04 Q1997.61 1489.63 1991.8 1489.63 Q1985.99 1489.63 1982.91 1485.04 Q1979.86 1480.44 1979.86 1471.71 Q1979.86 1462.96 1982.91 1458.38 Q1985.99 1453.77 1991.8 1453.77 Z\" fill=\"#000000\" fill-rule=\"nonzero\" fill-opacity=\"1\" /><path clip-path=\"url(#clip290)\" d=\"M2003.74 1447.87 L2027.86 1447.87 L2027.86 1451.07 L2003.74 1451.07 L2003.74 1447.87 Z\" fill=\"#000000\" fill-rule=\"nonzero\" fill-opacity=\"1\" /><path clip-path=\"url(#clip290)\" d=\"M2036.71 1458.35 L2042.92 1458.35 L2042.92 1436.93 L2036.17 1438.28 L2036.17 1434.82 L2042.88 1433.47 L2046.68 1433.47 L2046.68 1458.35 L2052.89 1458.35 L2052.89 1461.55 L2036.71 1461.55 L2036.71 1458.35 Z\" fill=\"#000000\" fill-rule=\"nonzero\" fill-opacity=\"1\" /><path clip-path=\"url(#clip290)\" d=\"M1317.69 1552.67 L1317.69 1574.19 L1311.83 1574.19 L1311.83 1552.86 Q1311.83 1547.8 1309.86 1545.29 Q1307.88 1542.77 1303.94 1542.77 Q1299.2 1542.77 1296.46 1545.79 Q1293.72 1548.82 1293.72 1554.04 L1293.72 1574.19 L1287.83 1574.19 L1287.83 1524.66 L1293.72 1524.66 L1293.72 1544.08 Q1295.82 1540.86 1298.65 1539.27 Q1301.52 1537.68 1305.24 1537.68 Q1311.39 1537.68 1314.54 1541.5 Q1317.69 1545.29 1317.69 1552.67 Z\" fill=\"#000000\" fill-rule=\"nonzero\" fill-opacity=\"1\" /><polyline clip-path=\"url(#clip292)\" style=\"stroke:#000000; stroke-linecap:round; stroke-linejoin:round; stroke-width:2; stroke-opacity:0.1; fill:none\" points=\"252.764,1234.89 2352.76,1234.89 \"/>\n",
       "<polyline clip-path=\"url(#clip292)\" style=\"stroke:#000000; stroke-linecap:round; stroke-linejoin:round; stroke-width:2; stroke-opacity:0.1; fill:none\" points=\"252.764,1010.75 2352.76,1010.75 \"/>\n",
       "<polyline clip-path=\"url(#clip292)\" style=\"stroke:#000000; stroke-linecap:round; stroke-linejoin:round; stroke-width:2; stroke-opacity:0.1; fill:none\" points=\"252.764,786.598 2352.76,786.598 \"/>\n",
       "<polyline clip-path=\"url(#clip292)\" style=\"stroke:#000000; stroke-linecap:round; stroke-linejoin:round; stroke-width:2; stroke-opacity:0.1; fill:none\" points=\"252.764,562.45 2352.76,562.45 \"/>\n",
       "<polyline clip-path=\"url(#clip292)\" style=\"stroke:#000000; stroke-linecap:round; stroke-linejoin:round; stroke-width:2; stroke-opacity:0.1; fill:none\" points=\"252.764,338.303 2352.76,338.303 \"/>\n",
       "<polyline clip-path=\"url(#clip290)\" style=\"stroke:#000000; stroke-linecap:round; stroke-linejoin:round; stroke-width:4; stroke-opacity:1; fill:none\" points=\"252.764,1410.9 252.764,123.472 \"/>\n",
       "<polyline clip-path=\"url(#clip290)\" style=\"stroke:#000000; stroke-linecap:round; stroke-linejoin:round; stroke-width:4; stroke-opacity:1; fill:none\" points=\"252.764,1234.89 271.662,1234.89 \"/>\n",
       "<polyline clip-path=\"url(#clip290)\" style=\"stroke:#000000; stroke-linecap:round; stroke-linejoin:round; stroke-width:4; stroke-opacity:1; fill:none\" points=\"252.764,1010.75 271.662,1010.75 \"/>\n",
       "<polyline clip-path=\"url(#clip290)\" style=\"stroke:#000000; stroke-linecap:round; stroke-linejoin:round; stroke-width:4; stroke-opacity:1; fill:none\" points=\"252.764,786.598 271.662,786.598 \"/>\n",
       "<polyline clip-path=\"url(#clip290)\" style=\"stroke:#000000; stroke-linecap:round; stroke-linejoin:round; stroke-width:4; stroke-opacity:1; fill:none\" points=\"252.764,562.45 271.662,562.45 \"/>\n",
       "<polyline clip-path=\"url(#clip290)\" style=\"stroke:#000000; stroke-linecap:round; stroke-linejoin:round; stroke-width:4; stroke-opacity:1; fill:none\" points=\"252.764,338.303 271.662,338.303 \"/>\n",
       "<path clip-path=\"url(#clip290)\" d=\"M115.195 1254.68 L122.834 1254.68 L122.834 1228.32 L114.523 1229.99 L114.523 1225.73 L122.787 1224.06 L127.463 1224.06 L127.463 1254.68 L135.102 1254.68 L135.102 1258.62 L115.195 1258.62 L115.195 1254.68 Z\" fill=\"#000000\" fill-rule=\"nonzero\" fill-opacity=\"1\" /><path clip-path=\"url(#clip290)\" d=\"M154.546 1227.14 Q150.935 1227.14 149.107 1230.7 Q147.301 1234.25 147.301 1241.37 Q147.301 1248.48 149.107 1252.05 Q150.935 1255.59 154.546 1255.59 Q158.181 1255.59 159.986 1252.05 Q161.815 1248.48 161.815 1241.37 Q161.815 1234.25 159.986 1230.7 Q158.181 1227.14 154.546 1227.14 M154.546 1223.44 Q160.357 1223.44 163.412 1228.04 Q166.491 1232.62 166.491 1241.37 Q166.491 1250.1 163.412 1254.71 Q160.357 1259.29 154.546 1259.29 Q148.736 1259.29 145.658 1254.71 Q142.602 1250.1 142.602 1241.37 Q142.602 1232.62 145.658 1228.04 Q148.736 1223.44 154.546 1223.44 Z\" fill=\"#000000\" fill-rule=\"nonzero\" fill-opacity=\"1\" /><path clip-path=\"url(#clip290)\" d=\"M166.491 1217.54 L190.602 1217.54 L190.602 1220.73 L166.491 1220.73 L166.491 1217.54 Z\" fill=\"#000000\" fill-rule=\"nonzero\" fill-opacity=\"1\" /><path clip-path=\"url(#clip290)\" d=\"M207.398 1215.66 Q204.84 1215.66 203.335 1217.4 Q201.849 1219.15 201.849 1222.2 Q201.849 1225.23 203.335 1227 Q204.84 1228.75 207.398 1228.75 Q209.956 1228.75 211.441 1227 Q212.946 1225.23 212.946 1222.2 Q212.946 1219.15 211.441 1217.4 Q209.956 1215.66 207.398 1215.66 M214.94 1203.75 L214.94 1207.21 Q213.51 1206.53 212.043 1206.18 Q210.595 1205.82 209.166 1205.82 Q205.404 1205.82 203.41 1208.36 Q201.436 1210.9 201.153 1216.03 Q202.263 1214.4 203.937 1213.53 Q205.611 1212.65 207.623 1212.65 Q211.855 1212.65 214.3 1215.22 Q216.764 1217.78 216.764 1222.2 Q216.764 1226.53 214.206 1229.14 Q211.648 1231.76 207.398 1231.76 Q202.526 1231.76 199.95 1228.03 Q197.373 1224.29 197.373 1217.2 Q197.373 1210.54 200.533 1206.59 Q203.693 1202.62 209.015 1202.62 Q210.445 1202.62 211.893 1202.9 Q213.36 1203.19 214.94 1203.75 Z\" fill=\"#000000\" fill-rule=\"nonzero\" fill-opacity=\"1\" /><path clip-path=\"url(#clip290)\" d=\"M116.135 1030.54 L123.774 1030.54 L123.774 1004.17 L115.464 1005.84 L115.464 1001.58 L123.728 999.913 L128.404 999.913 L128.404 1030.54 L136.042 1030.54 L136.042 1034.47 L116.135 1034.47 L116.135 1030.54 Z\" fill=\"#000000\" fill-rule=\"nonzero\" fill-opacity=\"1\" /><path clip-path=\"url(#clip290)\" d=\"M155.487 1002.99 Q151.876 1002.99 150.047 1006.56 Q148.241 1010.1 148.241 1017.23 Q148.241 1024.33 150.047 1027.9 Q151.876 1031.44 155.487 1031.44 Q159.121 1031.44 160.927 1027.9 Q162.755 1024.33 162.755 1017.23 Q162.755 1010.1 160.927 1006.56 Q159.121 1002.99 155.487 1002.99 M155.487 999.288 Q161.297 999.288 164.352 1003.89 Q167.431 1008.48 167.431 1017.23 Q167.431 1025.95 164.352 1030.56 Q161.297 1035.14 155.487 1035.14 Q149.677 1035.14 146.598 1030.56 Q143.542 1025.95 143.542 1017.23 Q143.542 1008.48 146.598 1003.89 Q149.677 999.288 155.487 999.288 Z\" fill=\"#000000\" fill-rule=\"nonzero\" fill-opacity=\"1\" /><path clip-path=\"url(#clip290)\" d=\"M167.431 993.389 L191.543 993.389 L191.543 996.586 L167.431 996.586 L167.431 993.389 Z\" fill=\"#000000\" fill-rule=\"nonzero\" fill-opacity=\"1\" /><path clip-path=\"url(#clip290)\" d=\"M199.781 978.982 L214.695 978.982 L214.695 982.18 L203.26 982.18 L203.26 989.063 Q204.088 988.781 204.915 988.65 Q205.743 988.499 206.57 988.499 Q211.272 988.499 214.018 991.076 Q216.764 993.652 216.764 998.053 Q216.764 1002.59 213.943 1005.11 Q211.122 1007.61 205.987 1007.61 Q204.219 1007.61 202.376 1007.31 Q200.552 1007.01 198.596 1006.4 L198.596 1002.59 Q200.288 1003.51 202.094 1003.96 Q203.899 1004.41 205.912 1004.41 Q209.166 1004.41 211.065 1002.7 Q212.965 1000.99 212.965 998.053 Q212.965 995.119 211.065 993.408 Q209.166 991.696 205.912 991.696 Q204.388 991.696 202.865 992.035 Q201.36 992.373 199.781 993.088 L199.781 978.982 Z\" fill=\"#000000\" fill-rule=\"nonzero\" fill-opacity=\"1\" /><path clip-path=\"url(#clip290)\" d=\"M114.931 806.39 L122.57 806.39 L122.57 780.025 L114.26 781.691 L114.26 777.432 L122.524 775.765 L127.2 775.765 L127.2 806.39 L134.839 806.39 L134.839 810.325 L114.931 810.325 L114.931 806.39 Z\" fill=\"#000000\" fill-rule=\"nonzero\" fill-opacity=\"1\" /><path clip-path=\"url(#clip290)\" d=\"M154.283 778.844 Q150.672 778.844 148.843 782.409 Q147.038 785.951 147.038 793.08 Q147.038 800.187 148.843 803.751 Q150.672 807.293 154.283 807.293 Q157.917 807.293 159.723 803.751 Q161.552 800.187 161.552 793.08 Q161.552 785.951 159.723 782.409 Q157.917 778.844 154.283 778.844 M154.283 775.14 Q160.093 775.14 163.149 779.747 Q166.227 784.33 166.227 793.08 Q166.227 801.807 163.149 806.413 Q160.093 810.997 154.283 810.997 Q148.473 810.997 145.394 806.413 Q142.339 801.807 142.339 793.08 Q142.339 784.33 145.394 779.747 Q148.473 775.14 154.283 775.14 Z\" fill=\"#000000\" fill-rule=\"nonzero\" fill-opacity=\"1\" /><path clip-path=\"url(#clip290)\" d=\"M166.227 769.242 L190.339 769.242 L190.339 772.439 L166.227 772.439 L166.227 769.242 Z\" fill=\"#000000\" fill-rule=\"nonzero\" fill-opacity=\"1\" /><path clip-path=\"url(#clip290)\" d=\"M208.978 758.145 L199.386 773.135 L208.978 773.135 L208.978 758.145 M207.981 754.835 L212.758 754.835 L212.758 773.135 L216.764 773.135 L216.764 776.295 L212.758 776.295 L212.758 782.915 L208.978 782.915 L208.978 776.295 L196.301 776.295 L196.301 772.627 L207.981 754.835 Z\" fill=\"#000000\" fill-rule=\"nonzero\" fill-opacity=\"1\" /><path clip-path=\"url(#clip290)\" d=\"M115.853 582.243 L123.492 582.243 L123.492 555.877 L115.182 557.544 L115.182 553.285 L123.446 551.618 L128.121 551.618 L128.121 582.243 L135.76 582.243 L135.76 586.178 L115.853 586.178 L115.853 582.243 Z\" fill=\"#000000\" fill-rule=\"nonzero\" fill-opacity=\"1\" /><path clip-path=\"url(#clip290)\" d=\"M155.205 554.697 Q151.594 554.697 149.765 558.262 Q147.959 561.803 147.959 568.933 Q147.959 576.039 149.765 579.604 Q151.594 583.146 155.205 583.146 Q158.839 583.146 160.644 579.604 Q162.473 576.039 162.473 568.933 Q162.473 561.803 160.644 558.262 Q158.839 554.697 155.205 554.697 M155.205 550.993 Q161.015 550.993 164.07 555.599 Q167.149 560.183 167.149 568.933 Q167.149 577.66 164.07 582.266 Q161.015 586.849 155.205 586.849 Q149.395 586.849 146.316 582.266 Q143.26 577.66 143.26 568.933 Q143.26 560.183 146.316 555.599 Q149.395 550.993 155.205 550.993 Z\" fill=\"#000000\" fill-rule=\"nonzero\" fill-opacity=\"1\" /><path clip-path=\"url(#clip290)\" d=\"M167.149 545.094 L191.261 545.094 L191.261 548.292 L167.149 548.292 L167.149 545.094 Z\" fill=\"#000000\" fill-rule=\"nonzero\" fill-opacity=\"1\" /><path clip-path=\"url(#clip290)\" d=\"M210.971 543.627 Q213.698 544.21 215.222 546.054 Q216.764 547.897 216.764 550.605 Q216.764 554.762 213.905 557.037 Q211.046 559.313 205.78 559.313 Q204.012 559.313 202.132 558.956 Q200.27 558.617 198.276 557.921 L198.276 554.254 Q199.856 555.175 201.737 555.646 Q203.617 556.116 205.667 556.116 Q209.241 556.116 211.103 554.705 Q212.984 553.295 212.984 550.605 Q212.984 548.122 211.234 546.731 Q209.504 545.32 206.401 545.32 L203.128 545.32 L203.128 542.198 L206.551 542.198 Q209.354 542.198 210.84 541.088 Q212.325 539.96 212.325 537.853 Q212.325 535.691 210.783 534.543 Q209.26 533.377 206.401 533.377 Q204.84 533.377 203.053 533.716 Q201.266 534.054 199.122 534.769 L199.122 531.384 Q201.285 530.782 203.166 530.481 Q205.066 530.18 206.739 530.18 Q211.065 530.18 213.585 532.155 Q216.106 534.111 216.106 537.458 Q216.106 539.791 214.77 541.408 Q213.435 543.007 210.971 543.627 Z\" fill=\"#000000\" fill-rule=\"nonzero\" fill-opacity=\"1\" /><path clip-path=\"url(#clip290)\" d=\"M116.624 358.096 L124.263 358.096 L124.263 331.73 L115.953 333.397 L115.953 329.137 L124.217 327.471 L128.893 327.471 L128.893 358.096 L136.531 358.096 L136.531 362.031 L116.624 362.031 L116.624 358.096 Z\" fill=\"#000000\" fill-rule=\"nonzero\" fill-opacity=\"1\" /><path clip-path=\"url(#clip290)\" d=\"M155.976 330.549 Q152.365 330.549 150.536 334.114 Q148.73 337.656 148.73 344.785 Q148.73 351.892 150.536 355.457 Q152.365 358.998 155.976 358.998 Q159.61 358.998 161.416 355.457 Q163.244 351.892 163.244 344.785 Q163.244 337.656 161.416 334.114 Q159.61 330.549 155.976 330.549 M155.976 326.846 Q161.786 326.846 164.841 331.452 Q167.92 336.035 167.92 344.785 Q167.92 353.512 164.841 358.119 Q161.786 362.702 155.976 362.702 Q150.166 362.702 147.087 358.119 Q144.031 353.512 144.031 344.785 Q144.031 336.035 147.087 331.452 Q150.166 326.846 155.976 326.846 Z\" fill=\"#000000\" fill-rule=\"nonzero\" fill-opacity=\"1\" /><path clip-path=\"url(#clip290)\" d=\"M167.92 320.947 L192.032 320.947 L192.032 324.144 L167.92 324.144 L167.92 320.947 Z\" fill=\"#000000\" fill-rule=\"nonzero\" fill-opacity=\"1\" /><path clip-path=\"url(#clip290)\" d=\"M203.504 331.423 L216.764 331.423 L216.764 334.62 L198.934 334.62 L198.934 331.423 Q201.097 329.185 204.821 325.423 Q208.564 321.643 209.523 320.552 Q211.347 318.502 212.062 317.091 Q212.796 315.662 212.796 314.289 Q212.796 312.051 211.216 310.64 Q209.655 309.23 207.134 309.23 Q205.348 309.23 203.354 309.85 Q201.379 310.471 199.122 311.731 L199.122 307.894 Q201.417 306.973 203.41 306.503 Q205.404 306.032 207.059 306.032 Q211.423 306.032 214.018 308.214 Q216.613 310.396 216.613 314.045 Q216.613 315.775 215.955 317.336 Q215.316 318.878 213.604 320.985 Q213.134 321.53 210.614 324.144 Q208.094 326.74 203.504 331.423 Z\" fill=\"#000000\" fill-rule=\"nonzero\" fill-opacity=\"1\" /><path clip-path=\"url(#clip290)\" d=\"M16.4842 828.247 L16.4842 798.201 L21.895 798.201 L21.895 821.818 L35.9632 821.818 L35.9632 799.188 L41.3741 799.188 L41.3741 821.818 L58.5933 821.818 L58.5933 797.628 L64.0042 797.628 L64.0042 828.247 L16.4842 828.247 Z\" fill=\"#000000\" fill-rule=\"nonzero\" fill-opacity=\"1\" /><path clip-path=\"url(#clip290)\" d=\"M33.8307 766.659 Q33.2578 767.646 33.0032 768.824 Q32.7167 769.969 32.7167 771.37 Q32.7167 776.335 35.9632 779.009 Q39.1779 781.65 45.2253 781.65 L64.0042 781.65 L64.0042 787.539 L28.3562 787.539 L28.3562 781.65 L33.8944 781.65 Q30.6479 779.804 29.0883 776.844 Q27.4968 773.884 27.4968 769.651 Q27.4968 769.046 27.5923 768.314 Q27.656 767.582 27.8151 766.691 L33.8307 766.659 Z\" fill=\"#000000\" fill-rule=\"nonzero\" fill-opacity=\"1\" /><path clip-path=\"url(#clip290)\" d=\"M33.8307 741.005 Q33.2578 741.992 33.0032 743.17 Q32.7167 744.316 32.7167 745.716 Q32.7167 750.681 35.9632 753.355 Q39.1779 755.997 45.2253 755.997 L64.0042 755.997 L64.0042 761.885 L28.3562 761.885 L28.3562 755.997 L33.8944 755.997 Q30.6479 754.151 29.0883 751.191 Q27.4968 748.23 27.4968 743.997 Q27.4968 743.393 27.5923 742.66 Q27.656 741.928 27.8151 741.037 L33.8307 741.005 Z\" fill=\"#000000\" fill-rule=\"nonzero\" fill-opacity=\"1\" /><path clip-path=\"url(#clip290)\" d=\"M32.4621 722.481 Q32.4621 727.192 36.1542 729.929 Q39.8145 732.666 46.212 732.666 Q52.6095 732.666 56.3017 729.961 Q59.9619 727.224 59.9619 722.481 Q59.9619 717.802 56.2698 715.065 Q52.5777 712.328 46.212 712.328 Q39.8781 712.328 36.186 715.065 Q32.4621 717.802 32.4621 722.481 M27.4968 722.481 Q27.4968 714.842 32.4621 710.482 Q37.4273 706.121 46.212 706.121 Q54.9649 706.121 59.9619 710.482 Q64.9272 714.842 64.9272 722.481 Q64.9272 730.152 59.9619 734.512 Q54.9649 738.841 46.212 738.841 Q37.4273 738.841 32.4621 734.512 Q27.4968 730.152 27.4968 722.481 Z\" fill=\"#000000\" fill-rule=\"nonzero\" fill-opacity=\"1\" /><path clip-path=\"url(#clip290)\" d=\"M524.764 12.096 L563.004 12.096 L563.004 18.9825 L532.946 18.9825 L532.946 36.8875 L561.748 36.8875 L561.748 43.7741 L532.946 43.7741 L532.946 65.6895 L563.733 65.6895 L563.733 72.576 L524.764 72.576 L524.764 12.096 Z\" fill=\"#000000\" fill-rule=\"nonzero\" fill-opacity=\"1\" /><path clip-path=\"url(#clip290)\" d=\"M605.782 28.5427 L605.782 35.5912 Q602.622 33.9709 599.219 33.1607 Q595.816 32.3505 592.171 32.3505 Q586.621 32.3505 583.826 34.0519 Q581.071 35.7533 581.071 39.156 Q581.071 41.7486 583.056 43.2475 Q585.041 44.7058 591.036 46.0426 L593.588 46.6097 Q601.528 48.3111 604.85 51.4303 Q608.212 54.509 608.212 60.0587 Q608.212 66.3781 603.189 70.0644 Q598.206 73.7508 589.456 73.7508 Q585.811 73.7508 581.841 73.0216 Q577.911 72.3329 573.536 70.9151 L573.536 63.2184 Q577.668 65.3654 581.679 66.4591 Q585.689 67.5124 589.618 67.5124 Q594.885 67.5124 597.72 65.73 Q600.556 63.9071 600.556 60.6258 Q600.556 57.5877 598.49 55.9673 Q596.465 54.3469 589.537 52.8481 L586.945 52.2405 Q580.018 50.7821 576.939 47.7845 Q573.86 44.7463 573.86 39.4801 Q573.86 33.0797 578.397 29.5959 Q582.935 26.1121 591.279 26.1121 Q595.411 26.1121 599.057 26.7198 Q602.703 27.3274 605.782 28.5427 Z\" fill=\"#000000\" fill-rule=\"nonzero\" fill-opacity=\"1\" /><path clip-path=\"url(#clip290)\" d=\"M627.454 14.324 L627.454 27.2059 L642.807 27.2059 L642.807 32.9987 L627.454 32.9987 L627.454 57.6282 Q627.454 63.1779 628.953 64.7578 Q630.492 66.3376 635.151 66.3376 L642.807 66.3376 L642.807 72.576 L635.151 72.576 Q626.522 72.576 623.241 69.3758 Q619.96 66.1351 619.96 57.6282 L619.96 32.9987 L614.491 32.9987 L614.491 27.2059 L619.96 27.2059 L619.96 14.324 L627.454 14.324 Z\" fill=\"#000000\" fill-rule=\"nonzero\" fill-opacity=\"1\" /><path clip-path=\"url(#clip290)\" d=\"M651.84 54.671 L651.84 27.2059 L659.294 27.2059 L659.294 54.3874 Q659.294 60.8284 661.806 64.0691 Q664.317 67.2693 669.34 67.2693 Q675.376 67.2693 678.86 63.421 Q682.384 59.5726 682.384 52.9291 L682.384 27.2059 L689.838 27.2059 L689.838 72.576 L682.384 72.576 L682.384 65.6084 Q679.67 69.7404 676.065 71.7658 Q672.5 73.7508 667.76 73.7508 Q659.942 73.7508 655.891 68.8897 Q651.84 64.0286 651.84 54.671 M670.596 26.1121 L670.596 26.1121 Z\" fill=\"#000000\" fill-rule=\"nonzero\" fill-opacity=\"1\" /><path clip-path=\"url(#clip290)\" d=\"M735.046 34.0924 L735.046 9.54393 L742.5 9.54393 L742.5 72.576 L735.046 72.576 L735.046 65.7705 Q732.696 69.8214 729.091 71.8063 Q725.526 73.7508 720.503 73.7508 Q712.28 73.7508 707.095 67.1883 Q701.95 60.6258 701.95 49.9314 Q701.95 39.2371 707.095 32.6746 Q712.28 26.1121 720.503 26.1121 Q725.526 26.1121 729.091 28.0971 Q732.696 30.0415 735.046 34.0924 M709.647 49.9314 Q709.647 58.1548 713.009 62.8538 Q716.412 67.5124 722.326 67.5124 Q728.24 67.5124 731.643 62.8538 Q735.046 58.1548 735.046 49.9314 Q735.046 41.7081 731.643 37.0496 Q728.24 32.3505 722.326 32.3505 Q716.412 32.3505 713.009 37.0496 Q709.647 41.7081 709.647 49.9314 Z\" fill=\"#000000\" fill-rule=\"nonzero\" fill-opacity=\"1\" /><path clip-path=\"url(#clip290)\" d=\"M775.433 32.4315 Q769.438 32.4315 765.954 37.1306 Q762.471 41.7891 762.471 49.9314 Q762.471 58.0738 765.914 62.7728 Q769.398 67.4314 775.433 67.4314 Q781.388 67.4314 784.872 62.7323 Q788.356 58.0333 788.356 49.9314 Q788.356 41.8701 784.872 37.1711 Q781.388 32.4315 775.433 32.4315 M775.433 26.1121 Q785.156 26.1121 790.705 32.4315 Q796.255 38.7509 796.255 49.9314 Q796.255 61.0714 790.705 67.4314 Q785.156 73.7508 775.433 73.7508 Q765.671 73.7508 760.121 67.4314 Q754.612 61.0714 754.612 49.9314 Q754.612 38.7509 760.121 32.4315 Q765.671 26.1121 775.433 26.1121 Z\" fill=\"#000000\" fill-rule=\"nonzero\" fill-opacity=\"1\" /><path clip-path=\"url(#clip290)\" d=\"M864.837 34.0924 L864.837 9.54393 L872.291 9.54393 L872.291 72.576 L864.837 72.576 L864.837 65.7705 Q862.487 69.8214 858.882 71.8063 Q855.317 73.7508 850.294 73.7508 Q842.071 73.7508 836.886 67.1883 Q831.741 60.6258 831.741 49.9314 Q831.741 39.2371 836.886 32.6746 Q842.071 26.1121 850.294 26.1121 Q855.317 26.1121 858.882 28.0971 Q862.487 30.0415 864.837 34.0924 M839.438 49.9314 Q839.438 58.1548 842.8 62.8538 Q846.203 67.5124 852.117 67.5124 Q858.031 67.5124 861.434 62.8538 Q864.837 58.1548 864.837 49.9314 Q864.837 41.7081 861.434 37.0496 Q858.031 32.3505 852.117 32.3505 Q846.203 32.3505 842.8 37.0496 Q839.438 41.7081 839.438 49.9314 Z\" fill=\"#000000\" fill-rule=\"nonzero\" fill-opacity=\"1\" /><path clip-path=\"url(#clip290)\" d=\"M905.224 32.4315 Q899.229 32.4315 895.745 37.1306 Q892.262 41.7891 892.262 49.9314 Q892.262 58.0738 895.705 62.7728 Q899.189 67.4314 905.224 67.4314 Q911.179 67.4314 914.663 62.7323 Q918.147 58.0333 918.147 49.9314 Q918.147 41.8701 914.663 37.1711 Q911.179 32.4315 905.224 32.4315 M905.224 26.1121 Q914.947 26.1121 920.496 32.4315 Q926.046 38.7509 926.046 49.9314 Q926.046 61.0714 920.496 67.4314 Q914.947 73.7508 905.224 73.7508 Q895.462 73.7508 889.912 67.4314 Q884.403 61.0714 884.403 49.9314 Q884.403 38.7509 889.912 32.4315 Q895.462 26.1121 905.224 26.1121 Z\" fill=\"#000000\" fill-rule=\"nonzero\" fill-opacity=\"1\" /><path clip-path=\"url(#clip290)\" d=\"M1003.58 48.0275 L1003.58 51.6733 L969.31 51.6733 Q969.796 59.3701 973.928 63.421 Q978.1 67.4314 985.513 67.4314 Q989.807 67.4314 993.818 66.3781 Q997.869 65.3249 1001.84 63.2184 L1001.84 70.267 Q997.828 71.9684 993.615 72.8596 Q989.402 73.7508 985.068 73.7508 Q974.211 73.7508 967.851 67.4314 Q961.532 61.1119 961.532 50.3365 Q961.532 39.1965 967.527 32.6746 Q973.563 26.1121 983.771 26.1121 Q992.927 26.1121 998.233 32.0264 Q1003.58 37.9003 1003.58 48.0275 M996.127 45.84 Q996.046 39.7232 992.683 36.0774 Q989.362 32.4315 983.852 32.4315 Q977.614 32.4315 973.847 35.9558 Q970.12 39.4801 969.553 45.8805 L996.127 45.84 Z\" fill=\"#000000\" fill-rule=\"nonzero\" fill-opacity=\"1\" /><path clip-path=\"url(#clip290)\" d=\"M1042.1 34.1734 Q1040.85 33.4443 1039.35 33.1202 Q1037.89 32.7556 1036.11 32.7556 Q1029.79 32.7556 1026.39 36.8875 Q1023.02 40.9789 1023.02 48.6757 L1023.02 72.576 L1015.53 72.576 L1015.53 27.2059 L1023.02 27.2059 L1023.02 34.2544 Q1025.37 30.1225 1029.14 28.1376 Q1032.91 26.1121 1038.3 26.1121 Q1039.07 26.1121 1040 26.2337 Q1040.93 26.3147 1042.06 26.5172 L1042.1 34.1734 Z\" fill=\"#000000\" fill-rule=\"nonzero\" fill-opacity=\"1\" /><path clip-path=\"url(#clip290)\" d=\"M1074.75 34.1734 Q1073.5 33.4443 1072 33.1202 Q1070.54 32.7556 1068.76 32.7556 Q1062.44 32.7556 1059.04 36.8875 Q1055.68 40.9789 1055.68 48.6757 L1055.68 72.576 L1048.18 72.576 L1048.18 27.2059 L1055.68 27.2059 L1055.68 34.2544 Q1058.02 30.1225 1061.79 28.1376 Q1065.56 26.1121 1070.95 26.1121 Q1071.72 26.1121 1072.65 26.2337 Q1073.58 26.3147 1074.71 26.5172 L1074.75 34.1734 Z\" fill=\"#000000\" fill-rule=\"nonzero\" fill-opacity=\"1\" /><path clip-path=\"url(#clip290)\" d=\"M1098.33 32.4315 Q1092.34 32.4315 1088.85 37.1306 Q1085.37 41.7891 1085.37 49.9314 Q1085.37 58.0738 1088.81 62.7728 Q1092.3 67.4314 1098.33 67.4314 Q1104.29 67.4314 1107.77 62.7323 Q1111.25 58.0333 1111.25 49.9314 Q1111.25 41.8701 1107.77 37.1711 Q1104.29 32.4315 1098.33 32.4315 M1098.33 26.1121 Q1108.05 26.1121 1113.6 32.4315 Q1119.15 38.7509 1119.15 49.9314 Q1119.15 61.0714 1113.6 67.4314 Q1108.05 73.7508 1098.33 73.7508 Q1088.57 73.7508 1083.02 67.4314 Q1077.51 61.0714 1077.51 49.9314 Q1077.51 38.7509 1083.02 32.4315 Q1088.57 26.1121 1098.33 26.1121 Z\" fill=\"#000000\" fill-rule=\"nonzero\" fill-opacity=\"1\" /><path clip-path=\"url(#clip290)\" d=\"M1154.11 46.5287 L1175.95 46.5287 L1175.95 53.1722 L1154.11 53.1722 L1154.11 46.5287 Z\" fill=\"#000000\" fill-rule=\"nonzero\" fill-opacity=\"1\" /><path clip-path=\"url(#clip290)\" d=\"M1252.99 48.0275 L1252.99 51.6733 L1218.72 51.6733 Q1219.21 59.3701 1223.34 63.421 Q1227.51 67.4314 1234.93 67.4314 Q1239.22 67.4314 1243.23 66.3781 Q1247.28 65.3249 1251.25 63.2184 L1251.25 70.267 Q1247.24 71.9684 1243.03 72.8596 Q1238.82 73.7508 1234.48 73.7508 Q1223.63 73.7508 1217.27 67.4314 Q1210.95 61.1119 1210.95 50.3365 Q1210.95 39.1965 1216.94 32.6746 Q1222.98 26.1121 1233.19 26.1121 Q1242.34 26.1121 1247.65 32.0264 Q1252.99 37.9003 1252.99 48.0275 M1245.54 45.84 Q1245.46 39.7232 1242.1 36.0774 Q1238.78 32.4315 1233.27 32.4315 Q1227.03 32.4315 1223.26 35.9558 Q1219.53 39.4801 1218.97 45.8805 L1245.54 45.84 Z\" fill=\"#000000\" fill-rule=\"nonzero\" fill-opacity=\"1\" /><path clip-path=\"url(#clip290)\" d=\"M1301.48 27.2059 L1285.08 49.2833 L1302.33 72.576 L1293.54 72.576 L1280.34 54.752 L1267.13 72.576 L1258.34 72.576 L1275.96 48.8377 L1259.84 27.2059 L1268.63 27.2059 L1280.66 43.369 L1292.69 27.2059 L1301.48 27.2059 Z\" fill=\"#000000\" fill-rule=\"nonzero\" fill-opacity=\"1\" /><path clip-path=\"url(#clip290)\" d=\"M1349.12 48.0275 L1349.12 51.6733 L1314.85 51.6733 Q1315.34 59.3701 1319.47 63.421 Q1323.64 67.4314 1331.06 67.4314 Q1335.35 67.4314 1339.36 66.3781 Q1343.41 65.3249 1347.38 63.2184 L1347.38 70.267 Q1343.37 71.9684 1339.16 72.8596 Q1334.94 73.7508 1330.61 73.7508 Q1319.75 73.7508 1313.39 67.4314 Q1307.07 61.1119 1307.07 50.3365 Q1307.07 39.1965 1313.07 32.6746 Q1319.11 26.1121 1329.31 26.1121 Q1338.47 26.1121 1343.78 32.0264 Q1349.12 37.9003 1349.12 48.0275 M1341.67 45.84 Q1341.59 39.7232 1338.23 36.0774 Q1334.9 32.4315 1329.39 32.4315 Q1323.16 32.4315 1319.39 35.9558 Q1315.66 39.4801 1315.09 45.8805 L1341.67 45.84 Z\" fill=\"#000000\" fill-rule=\"nonzero\" fill-opacity=\"1\" /><path clip-path=\"url(#clip290)\" d=\"M1396.68 35.9153 Q1399.48 30.8922 1403.36 28.5022 Q1407.25 26.1121 1412.52 26.1121 Q1419.61 26.1121 1423.46 31.0947 Q1427.3 36.0368 1427.3 45.1919 L1427.3 72.576 L1419.81 72.576 L1419.81 45.4349 Q1419.81 38.913 1417.5 35.7533 Q1415.19 32.5936 1410.45 32.5936 Q1404.66 32.5936 1401.3 36.4419 Q1397.94 40.2903 1397.94 46.9338 L1397.94 72.576 L1390.44 72.576 L1390.44 45.4349 Q1390.44 38.8725 1388.13 35.7533 Q1385.82 32.5936 1381 32.5936 Q1375.29 32.5936 1371.93 36.4824 Q1368.57 40.3308 1368.57 46.9338 L1368.57 72.576 L1361.07 72.576 L1361.07 27.2059 L1368.57 27.2059 L1368.57 34.2544 Q1371.12 30.082 1374.68 28.0971 Q1378.25 26.1121 1383.15 26.1121 Q1388.09 26.1121 1391.54 28.6237 Q1395.02 31.1352 1396.68 35.9153 Z\" fill=\"#000000\" fill-rule=\"nonzero\" fill-opacity=\"1\" /><path clip-path=\"url(#clip290)\" d=\"M1449.38 65.7705 L1449.38 89.8329 L1441.89 89.8329 L1441.89 27.2059 L1449.38 27.2059 L1449.38 34.0924 Q1451.73 30.0415 1455.3 28.0971 Q1458.9 26.1121 1463.88 26.1121 Q1472.15 26.1121 1477.29 32.6746 Q1482.48 39.2371 1482.48 49.9314 Q1482.48 60.6258 1477.29 67.1883 Q1472.15 73.7508 1463.88 73.7508 Q1458.9 73.7508 1455.3 71.8063 Q1451.73 69.8214 1449.38 65.7705 M1474.74 49.9314 Q1474.74 41.7081 1471.34 37.0496 Q1467.98 32.3505 1462.06 32.3505 Q1456.15 32.3505 1452.74 37.0496 Q1449.38 41.7081 1449.38 49.9314 Q1449.38 58.1548 1452.74 62.8538 Q1456.15 67.5124 1462.06 67.5124 Q1467.98 67.5124 1471.34 62.8538 Q1474.74 58.1548 1474.74 49.9314 Z\" fill=\"#000000\" fill-rule=\"nonzero\" fill-opacity=\"1\" /><path clip-path=\"url(#clip290)\" d=\"M1494.83 9.54393 L1502.29 9.54393 L1502.29 72.576 L1494.83 72.576 L1494.83 9.54393 Z\" fill=\"#000000\" fill-rule=\"nonzero\" fill-opacity=\"1\" /><path clip-path=\"url(#clip290)\" d=\"M1535.46 32.4315 Q1529.47 32.4315 1525.99 37.1306 Q1522.5 41.7891 1522.5 49.9314 Q1522.5 58.0738 1525.94 62.7728 Q1529.43 67.4314 1535.46 67.4314 Q1541.42 67.4314 1544.9 62.7323 Q1548.39 58.0333 1548.39 49.9314 Q1548.39 41.8701 1544.9 37.1711 Q1541.42 32.4315 1535.46 32.4315 M1535.46 26.1121 Q1545.19 26.1121 1550.74 32.4315 Q1556.29 38.7509 1556.29 49.9314 Q1556.29 61.0714 1550.74 67.4314 Q1545.19 73.7508 1535.46 73.7508 Q1525.7 73.7508 1520.15 67.4314 Q1514.64 61.0714 1514.64 49.9314 Q1514.64 38.7509 1520.15 32.4315 Q1525.7 26.1121 1535.46 26.1121 Z\" fill=\"#000000\" fill-rule=\"nonzero\" fill-opacity=\"1\" /><path clip-path=\"url(#clip290)\" d=\"M1597.48 65.6895 L1610.85 65.6895 L1610.85 19.5497 L1596.31 22.4663 L1596.31 15.0127 L1610.77 12.096 L1618.95 12.096 L1618.95 65.6895 L1632.32 65.6895 L1632.32 72.576 L1597.48 72.576 L1597.48 65.6895 Z\" fill=\"#000000\" fill-rule=\"nonzero\" fill-opacity=\"1\" /><path clip-path=\"url(#clip290)\" d=\"M1670.4 46.5287 L1692.23 46.5287 L1692.23 53.1722 L1670.4 53.1722 L1670.4 46.5287 Z\" fill=\"#000000\" fill-rule=\"nonzero\" fill-opacity=\"1\" /><path clip-path=\"url(#clip290)\" d=\"M1763.12 28.9478 L1763.12 35.9153 Q1759.97 34.1734 1756.77 33.3227 Q1753.61 32.4315 1750.36 32.4315 Q1743.11 32.4315 1739.1 37.0496 Q1735.09 41.6271 1735.09 49.9314 Q1735.09 58.2358 1739.1 62.8538 Q1743.11 67.4314 1750.36 67.4314 Q1753.61 67.4314 1756.77 66.5807 Q1759.97 65.6895 1763.12 63.9476 L1763.12 70.8341 Q1760.01 72.2924 1756.64 73.0216 Q1753.32 73.7508 1749.55 73.7508 Q1739.31 73.7508 1733.27 67.3098 Q1727.23 60.8689 1727.23 49.9314 Q1727.23 38.832 1733.31 32.472 Q1739.43 26.1121 1750.04 26.1121 Q1753.48 26.1121 1756.77 26.8413 Q1760.05 27.5299 1763.12 28.9478 Z\" fill=\"#000000\" fill-rule=\"nonzero\" fill-opacity=\"1\" /><path clip-path=\"url(#clip290)\" d=\"M1796.71 49.7694 Q1787.67 49.7694 1784.19 51.8354 Q1780.71 53.9013 1780.71 58.8839 Q1780.71 62.8538 1783.3 65.2034 Q1785.93 67.5124 1790.43 67.5124 Q1796.63 67.5124 1800.35 63.1374 Q1804.12 58.7219 1804.12 51.4303 L1804.12 49.7694 L1796.71 49.7694 M1811.57 46.6907 L1811.57 72.576 L1804.12 72.576 L1804.12 65.6895 Q1801.57 69.8214 1797.76 71.8063 Q1793.95 73.7508 1788.44 73.7508 Q1781.48 73.7508 1777.34 69.8619 Q1773.25 65.9325 1773.25 59.3701 Q1773.25 51.7138 1778.36 47.825 Q1783.5 43.9361 1793.67 43.9361 L1804.12 43.9361 L1804.12 43.2069 Q1804.12 38.0623 1800.72 35.2672 Q1797.36 32.4315 1791.24 32.4315 Q1787.35 32.4315 1783.66 33.3632 Q1779.98 34.295 1776.57 36.1584 L1776.57 29.2718 Q1780.67 27.692 1784.51 26.9223 Q1788.36 26.1121 1792.01 26.1121 Q1801.85 26.1121 1806.71 31.2163 Q1811.57 36.3204 1811.57 46.6907 Z\" fill=\"#000000\" fill-rule=\"nonzero\" fill-opacity=\"1\" /><path clip-path=\"url(#clip290)\" d=\"M1855.85 28.5427 L1855.85 35.5912 Q1852.69 33.9709 1849.29 33.1607 Q1845.88 32.3505 1842.24 32.3505 Q1836.69 32.3505 1833.89 34.0519 Q1831.14 35.7533 1831.14 39.156 Q1831.14 41.7486 1833.12 43.2475 Q1835.11 44.7058 1841.1 46.0426 L1843.66 46.6097 Q1851.6 48.3111 1854.92 51.4303 Q1858.28 54.509 1858.28 60.0587 Q1858.28 66.3781 1853.26 70.0644 Q1848.27 73.7508 1839.52 73.7508 Q1835.88 73.7508 1831.91 73.0216 Q1827.98 72.3329 1823.6 70.9151 L1823.6 63.2184 Q1827.74 65.3654 1831.75 66.4591 Q1835.76 67.5124 1839.69 67.5124 Q1844.95 67.5124 1847.79 65.73 Q1850.62 63.9071 1850.62 60.6258 Q1850.62 57.5877 1848.56 55.9673 Q1846.53 54.3469 1839.61 52.8481 L1837.01 52.2405 Q1830.09 50.7821 1827.01 47.7845 Q1823.93 44.7463 1823.93 39.4801 Q1823.93 33.0797 1828.47 29.5959 Q1833 26.1121 1841.35 26.1121 Q1845.48 26.1121 1849.13 26.7198 Q1852.77 27.3274 1855.85 28.5427 Z\" fill=\"#000000\" fill-rule=\"nonzero\" fill-opacity=\"1\" /><path clip-path=\"url(#clip290)\" d=\"M1908.96 48.0275 L1908.96 51.6733 L1874.69 51.6733 Q1875.17 59.3701 1879.3 63.421 Q1883.48 67.4314 1890.89 67.4314 Q1895.18 67.4314 1899.19 66.3781 Q1903.25 65.3249 1907.22 63.2184 L1907.22 70.267 Q1903.21 71.9684 1898.99 72.8596 Q1894.78 73.7508 1890.44 73.7508 Q1879.59 73.7508 1873.23 67.4314 Q1866.91 61.1119 1866.91 50.3365 Q1866.91 39.1965 1872.9 32.6746 Q1878.94 26.1121 1889.15 26.1121 Q1898.3 26.1121 1903.61 32.0264 Q1908.96 37.9003 1908.96 48.0275 M1901.5 45.84 Q1901.42 39.7232 1898.06 36.0774 Q1894.74 32.4315 1889.23 32.4315 Q1882.99 32.4315 1879.22 35.9558 Q1875.5 39.4801 1874.93 45.8805 L1901.5 45.84 Z\" fill=\"#000000\" fill-rule=\"nonzero\" fill-opacity=\"1\" /><path clip-path=\"url(#clip290)\" d=\"M1948.53 34.9026 L2000.47 34.9026 L2000.47 41.7081 L1948.53 41.7081 L1948.53 34.9026 M1948.53 51.4303 L2000.47 51.4303 L2000.47 58.3168 L1948.53 58.3168 L1948.53 51.4303 Z\" fill=\"#000000\" fill-rule=\"nonzero\" fill-opacity=\"1\" /><path clip-path=\"url(#clip290)\" d=\"M2045.92 65.6895 L2059.29 65.6895 L2059.29 19.5497 L2044.74 22.4663 L2044.74 15.0127 L2059.21 12.096 L2067.39 12.096 L2067.39 65.6895 L2080.76 65.6895 L2080.76 72.576 L2045.92 72.576 L2045.92 65.6895 Z\" fill=\"#000000\" fill-rule=\"nonzero\" fill-opacity=\"1\" /><polyline clip-path=\"url(#clip292)\" style=\"stroke:#009af9; stroke-linecap:round; stroke-linejoin:round; stroke-width:12; stroke-opacity:1; fill:none\" points=\"2293.32,197.452 2073.2,190.808 1853.07,189.104 1632.95,188.652 1412.82,188.525 1192.7,188.487 972.573,188.474 752.448,188.469 532.323,188.467 312.198,188.466 \"/>\n",
       "<circle clip-path=\"url(#clip292)\" cx=\"2293.32\" cy=\"197.452\" r=\"14.4\" fill=\"#009af9\" fill-rule=\"evenodd\" fill-opacity=\"1\" stroke=\"#000000\" stroke-opacity=\"1\" stroke-width=\"3.2\"/>\n",
       "<circle clip-path=\"url(#clip292)\" cx=\"2073.2\" cy=\"190.808\" r=\"14.4\" fill=\"#009af9\" fill-rule=\"evenodd\" fill-opacity=\"1\" stroke=\"#000000\" stroke-opacity=\"1\" stroke-width=\"3.2\"/>\n",
       "<circle clip-path=\"url(#clip292)\" cx=\"1853.07\" cy=\"189.104\" r=\"14.4\" fill=\"#009af9\" fill-rule=\"evenodd\" fill-opacity=\"1\" stroke=\"#000000\" stroke-opacity=\"1\" stroke-width=\"3.2\"/>\n",
       "<circle clip-path=\"url(#clip292)\" cx=\"1632.95\" cy=\"188.652\" r=\"14.4\" fill=\"#009af9\" fill-rule=\"evenodd\" fill-opacity=\"1\" stroke=\"#000000\" stroke-opacity=\"1\" stroke-width=\"3.2\"/>\n",
       "<circle clip-path=\"url(#clip292)\" cx=\"1412.82\" cy=\"188.525\" r=\"14.4\" fill=\"#009af9\" fill-rule=\"evenodd\" fill-opacity=\"1\" stroke=\"#000000\" stroke-opacity=\"1\" stroke-width=\"3.2\"/>\n",
       "<circle clip-path=\"url(#clip292)\" cx=\"1192.7\" cy=\"188.487\" r=\"14.4\" fill=\"#009af9\" fill-rule=\"evenodd\" fill-opacity=\"1\" stroke=\"#000000\" stroke-opacity=\"1\" stroke-width=\"3.2\"/>\n",
       "<circle clip-path=\"url(#clip292)\" cx=\"972.573\" cy=\"188.474\" r=\"14.4\" fill=\"#009af9\" fill-rule=\"evenodd\" fill-opacity=\"1\" stroke=\"#000000\" stroke-opacity=\"1\" stroke-width=\"3.2\"/>\n",
       "<circle clip-path=\"url(#clip292)\" cx=\"752.448\" cy=\"188.469\" r=\"14.4\" fill=\"#009af9\" fill-rule=\"evenodd\" fill-opacity=\"1\" stroke=\"#000000\" stroke-opacity=\"1\" stroke-width=\"3.2\"/>\n",
       "<circle clip-path=\"url(#clip292)\" cx=\"532.323\" cy=\"188.467\" r=\"14.4\" fill=\"#009af9\" fill-rule=\"evenodd\" fill-opacity=\"1\" stroke=\"#000000\" stroke-opacity=\"1\" stroke-width=\"3.2\"/>\n",
       "<circle clip-path=\"url(#clip292)\" cx=\"312.198\" cy=\"188.466\" r=\"14.4\" fill=\"#009af9\" fill-rule=\"evenodd\" fill-opacity=\"1\" stroke=\"#000000\" stroke-opacity=\"1\" stroke-width=\"3.2\"/>\n",
       "<polyline clip-path=\"url(#clip292)\" style=\"stroke:#e26f46; stroke-linecap:round; stroke-linejoin:round; stroke-width:12; stroke-opacity:1; fill:none\" points=\"2293.32,159.909 2073.2,294.859 1853.07,429.809 1632.95,564.759 1412.82,699.709 1192.7,834.659 972.573,969.61 752.448,1104.56 532.323,1239.51 312.198,1374.46 \"/>\n",
       "<path clip-path=\"url(#clip290)\" d=\"M322.764 321.906 L621.582 321.906 L621.582 166.386 L322.764 166.386  Z\" fill=\"#ffffff\" fill-rule=\"evenodd\" fill-opacity=\"1\"/>\n",
       "<polyline clip-path=\"url(#clip290)\" style=\"stroke:#000000; stroke-linecap:round; stroke-linejoin:round; stroke-width:4; stroke-opacity:1; fill:none\" points=\"322.764,321.906 621.582,321.906 621.582,166.386 322.764,166.386 322.764,321.906 \"/>\n",
       "<polyline clip-path=\"url(#clip290)\" style=\"stroke:#009af9; stroke-linecap:round; stroke-linejoin:round; stroke-width:12; stroke-opacity:1; fill:none\" points=\"346.097,218.226 486.096,218.226 \"/>\n",
       "<circle clip-path=\"url(#clip290)\" cx=\"416.097\" cy=\"218.226\" r=\"19.4444\" fill=\"#009af9\" fill-rule=\"evenodd\" fill-opacity=\"1\" stroke=\"#000000\" stroke-opacity=\"1\" stroke-width=\"4.55111\"/>\n",
       "<path clip-path=\"url(#clip290)\" d=\"M509.43 200.946 L531.281 200.946 L531.281 204.881 L514.106 204.881 L514.106 215.113 L530.564 215.113 L530.564 219.048 L514.106 219.048 L514.106 231.571 L531.698 231.571 L531.698 235.506 L509.43 235.506 L509.43 200.946 Z\" fill=\"#000000\" fill-rule=\"nonzero\" fill-opacity=\"1\" /><path clip-path=\"url(#clip290)\" d=\"M554.221 213.562 Q553.503 213.145 552.647 212.96 Q551.814 212.752 550.795 212.752 Q547.184 212.752 545.24 215.113 Q543.318 217.451 543.318 221.849 L543.318 235.506 L539.036 235.506 L539.036 209.58 L543.318 209.58 L543.318 213.608 Q544.661 211.247 546.814 210.113 Q548.966 208.955 552.045 208.955 Q552.485 208.955 553.017 209.025 Q553.55 209.071 554.198 209.187 L554.221 213.562 Z\" fill=\"#000000\" fill-rule=\"nonzero\" fill-opacity=\"1\" /><path clip-path=\"url(#clip290)\" d=\"M572.878 213.562 Q572.161 213.145 571.304 212.96 Q570.471 212.752 569.452 212.752 Q565.841 212.752 563.897 215.113 Q561.976 217.451 561.976 221.849 L561.976 235.506 L557.693 235.506 L557.693 209.58 L561.976 209.58 L561.976 213.608 Q563.318 211.247 565.471 210.113 Q567.624 208.955 570.702 208.955 Q571.142 208.955 571.675 209.025 Q572.207 209.071 572.855 209.187 L572.878 213.562 Z\" fill=\"#000000\" fill-rule=\"nonzero\" fill-opacity=\"1\" /><path clip-path=\"url(#clip290)\" d=\"M586.351 212.567 Q582.925 212.567 580.934 215.252 Q578.943 217.914 578.943 222.567 Q578.943 227.219 580.911 229.904 Q582.901 232.566 586.351 232.566 Q589.753 232.566 591.744 229.881 Q593.735 227.196 593.735 222.567 Q593.735 217.96 591.744 215.275 Q589.753 212.567 586.351 212.567 M586.351 208.955 Q591.906 208.955 595.077 212.567 Q598.249 216.178 598.249 222.567 Q598.249 228.932 595.077 232.566 Q591.906 236.178 586.351 236.178 Q580.772 236.178 577.601 232.566 Q574.452 228.932 574.452 222.567 Q574.452 216.178 577.601 212.567 Q580.772 208.955 586.351 208.955 Z\" fill=\"#000000\" fill-rule=\"nonzero\" fill-opacity=\"1\" /><polyline clip-path=\"url(#clip290)\" style=\"stroke:#e26f46; stroke-linecap:round; stroke-linejoin:round; stroke-width:12; stroke-opacity:1; fill:none\" points=\"346.097,270.066 486.096,270.066 \"/>\n",
       "<path clip-path=\"url(#clip290)\" d=\"M531.142 271.698 L531.142 287.346 L526.883 287.346 L526.883 271.837 Q526.883 268.157 525.448 266.328 Q524.013 264.499 521.143 264.499 Q517.693 264.499 515.703 266.698 Q513.712 268.897 513.712 272.694 L513.712 287.346 L509.43 287.346 L509.43 251.328 L513.712 251.328 L513.712 265.448 Q515.24 263.11 517.3 261.953 Q519.383 260.795 522.092 260.795 Q526.559 260.795 528.851 263.573 Q531.142 266.328 531.142 271.698 Z\" fill=\"#000000\" fill-rule=\"nonzero\" fill-opacity=\"1\" /><path clip-path=\"url(#clip290)\" d=\"M541.374 269.245 L551.189 269.245 L551.189 271.883 L537.346 271.883 L537.346 269.337 Q538.133 268.62 539.592 267.323 Q547.554 260.263 547.554 258.087 Q547.554 256.559 546.351 255.633 Q545.147 254.684 543.179 254.684 Q541.976 254.684 540.564 255.101 Q539.152 255.495 537.485 256.305 L537.485 253.458 Q539.267 252.809 540.795 252.485 Q542.346 252.161 543.666 252.161 Q547.022 252.161 549.036 253.689 Q551.05 255.217 551.05 257.717 Q551.05 260.934 543.388 267.508 Q542.091 268.62 541.374 269.245 Z\" fill=\"#000000\" fill-rule=\"nonzero\" fill-opacity=\"1\" /></svg>\n"
      ],
      "text/html": [
       "<?xml version=\"1.0\" encoding=\"utf-8\"?>\n",
       "<svg xmlns=\"http://www.w3.org/2000/svg\" xmlns:xlink=\"http://www.w3.org/1999/xlink\" width=\"600\" height=\"400\" viewBox=\"0 0 2400 1600\">\n",
       "<defs>\n",
       "  <clipPath id=\"clip340\">\n",
       "    <rect x=\"0\" y=\"0\" width=\"2400\" height=\"1600\"/>\n",
       "  </clipPath>\n",
       "</defs>\n",
       "<path clip-path=\"url(#clip340)\" d=\"M0 1600 L2400 1600 L2400 0 L0 0  Z\" fill=\"#ffffff\" fill-rule=\"evenodd\" fill-opacity=\"1\"/>\n",
       "<defs>\n",
       "  <clipPath id=\"clip341\">\n",
       "    <rect x=\"480\" y=\"0\" width=\"1681\" height=\"1600\"/>\n",
       "  </clipPath>\n",
       "</defs>\n",
       "<path clip-path=\"url(#clip340)\" d=\"M252.764 1410.9 L2352.76 1410.9 L2352.76 123.472 L252.764 123.472  Z\" fill=\"#ffffff\" fill-rule=\"evenodd\" fill-opacity=\"1\"/>\n",
       "<defs>\n",
       "  <clipPath id=\"clip342\">\n",
       "    <rect x=\"252\" y=\"123\" width=\"2101\" height=\"1288\"/>\n",
       "  </clipPath>\n",
       "</defs>\n",
       "<polyline clip-path=\"url(#clip342)\" style=\"stroke:#000000; stroke-linecap:round; stroke-linejoin:round; stroke-width:2; stroke-opacity:0.1; fill:none\" points=\"539.854,1410.9 539.854,123.472 \"/>\n",
       "<polyline clip-path=\"url(#clip342)\" style=\"stroke:#000000; stroke-linecap:round; stroke-linejoin:round; stroke-width:2; stroke-opacity:0.1; fill:none\" points=\"1271.09,1410.9 1271.09,123.472 \"/>\n",
       "<polyline clip-path=\"url(#clip342)\" style=\"stroke:#000000; stroke-linecap:round; stroke-linejoin:round; stroke-width:2; stroke-opacity:0.1; fill:none\" points=\"2002.33,1410.9 2002.33,123.472 \"/>\n",
       "<polyline clip-path=\"url(#clip340)\" style=\"stroke:#000000; stroke-linecap:round; stroke-linejoin:round; stroke-width:4; stroke-opacity:1; fill:none\" points=\"252.764,1410.9 2352.76,1410.9 \"/>\n",
       "<polyline clip-path=\"url(#clip340)\" style=\"stroke:#000000; stroke-linecap:round; stroke-linejoin:round; stroke-width:4; stroke-opacity:1; fill:none\" points=\"539.854,1410.9 539.854,1392 \"/>\n",
       "<polyline clip-path=\"url(#clip340)\" style=\"stroke:#000000; stroke-linecap:round; stroke-linejoin:round; stroke-width:4; stroke-opacity:1; fill:none\" points=\"1271.09,1410.9 1271.09,1392 \"/>\n",
       "<polyline clip-path=\"url(#clip340)\" style=\"stroke:#000000; stroke-linecap:round; stroke-linejoin:round; stroke-width:4; stroke-opacity:1; fill:none\" points=\"2002.33,1410.9 2002.33,1392 \"/>\n",
       "<path clip-path=\"url(#clip340)\" d=\"M489.735 1485.02 L497.373 1485.02 L497.373 1458.66 L489.063 1460.32 L489.063 1456.06 L497.327 1454.4 L502.003 1454.4 L502.003 1485.02 L509.642 1485.02 L509.642 1488.96 L489.735 1488.96 L489.735 1485.02 Z\" fill=\"#000000\" fill-rule=\"nonzero\" fill-opacity=\"1\" /><path clip-path=\"url(#clip340)\" d=\"M529.086 1457.48 Q525.475 1457.48 523.646 1461.04 Q521.841 1464.58 521.841 1471.71 Q521.841 1478.82 523.646 1482.38 Q525.475 1485.92 529.086 1485.92 Q532.72 1485.92 534.526 1482.38 Q536.355 1478.82 536.355 1471.71 Q536.355 1464.58 534.526 1461.04 Q532.72 1457.48 529.086 1457.48 M529.086 1453.77 Q534.896 1453.77 537.952 1458.38 Q541.031 1462.96 541.031 1471.71 Q541.031 1480.44 537.952 1485.04 Q534.896 1489.63 529.086 1489.63 Q523.276 1489.63 520.197 1485.04 Q517.142 1480.44 517.142 1471.71 Q517.142 1462.96 520.197 1458.38 Q523.276 1453.77 529.086 1453.77 Z\" fill=\"#000000\" fill-rule=\"nonzero\" fill-opacity=\"1\" /><path clip-path=\"url(#clip340)\" d=\"M541.031 1447.87 L565.142 1447.87 L565.142 1451.07 L541.031 1451.07 L541.031 1447.87 Z\" fill=\"#000000\" fill-rule=\"nonzero\" fill-opacity=\"1\" /><path clip-path=\"url(#clip340)\" d=\"M584.853 1446.41 Q587.58 1446.99 589.103 1448.83 Q590.645 1450.68 590.645 1453.38 Q590.645 1457.54 587.787 1459.82 Q584.928 1462.09 579.662 1462.09 Q577.894 1462.09 576.013 1461.73 Q574.151 1461.4 572.157 1460.7 L572.157 1457.03 Q573.737 1457.95 575.618 1458.42 Q577.499 1458.89 579.549 1458.89 Q583.122 1458.89 584.984 1457.48 Q586.865 1456.07 586.865 1453.38 Q586.865 1450.9 585.116 1449.51 Q583.386 1448.1 580.282 1448.1 L577.01 1448.1 L577.01 1444.98 L580.433 1444.98 Q583.235 1444.98 584.721 1443.87 Q586.207 1442.74 586.207 1440.63 Q586.207 1438.47 584.665 1437.32 Q583.141 1436.16 580.282 1436.16 Q578.721 1436.16 576.935 1436.49 Q575.148 1436.83 573.004 1437.55 L573.004 1434.16 Q575.167 1433.56 577.047 1433.26 Q578.947 1432.96 580.621 1432.96 Q584.947 1432.96 587.467 1434.93 Q589.987 1436.89 589.987 1440.24 Q589.987 1442.57 588.652 1444.19 Q587.316 1445.79 584.853 1446.41 Z\" fill=\"#000000\" fill-rule=\"nonzero\" fill-opacity=\"1\" /><path clip-path=\"url(#clip340)\" d=\"M1221.36 1485.02 L1229 1485.02 L1229 1458.66 L1220.69 1460.32 L1220.69 1456.06 L1228.95 1454.4 L1233.63 1454.4 L1233.63 1485.02 L1241.27 1485.02 L1241.27 1488.96 L1221.36 1488.96 L1221.36 1485.02 Z\" fill=\"#000000\" fill-rule=\"nonzero\" fill-opacity=\"1\" /><path clip-path=\"url(#clip340)\" d=\"M1260.71 1457.48 Q1257.1 1457.48 1255.27 1461.04 Q1253.47 1464.58 1253.47 1471.71 Q1253.47 1478.82 1255.27 1482.38 Q1257.1 1485.92 1260.71 1485.92 Q1264.35 1485.92 1266.15 1482.38 Q1267.98 1478.82 1267.98 1471.71 Q1267.98 1464.58 1266.15 1461.04 Q1264.35 1457.48 1260.71 1457.48 M1260.71 1453.77 Q1266.52 1453.77 1269.58 1458.38 Q1272.66 1462.96 1272.66 1471.71 Q1272.66 1480.44 1269.58 1485.04 Q1266.52 1489.63 1260.71 1489.63 Q1254.9 1489.63 1251.82 1485.04 Q1248.77 1480.44 1248.77 1471.71 Q1248.77 1462.96 1251.82 1458.38 Q1254.9 1453.77 1260.71 1453.77 Z\" fill=\"#000000\" fill-rule=\"nonzero\" fill-opacity=\"1\" /><path clip-path=\"url(#clip340)\" d=\"M1272.66 1447.87 L1296.77 1447.87 L1296.77 1451.07 L1272.66 1451.07 L1272.66 1447.87 Z\" fill=\"#000000\" fill-rule=\"nonzero\" fill-opacity=\"1\" /><path clip-path=\"url(#clip340)\" d=\"M1308.24 1458.35 L1321.5 1458.35 L1321.5 1461.55 L1303.67 1461.55 L1303.67 1458.35 Q1305.83 1456.11 1309.56 1452.35 Q1313.3 1448.57 1314.26 1447.48 Q1316.08 1445.43 1316.8 1444.02 Q1317.53 1442.59 1317.53 1441.22 Q1317.53 1438.98 1315.95 1437.57 Q1314.39 1436.16 1311.87 1436.16 Q1310.08 1436.16 1308.09 1436.78 Q1306.11 1437.4 1303.86 1438.66 L1303.86 1434.82 Q1306.15 1433.9 1308.15 1433.43 Q1310.14 1432.96 1311.79 1432.96 Q1316.16 1432.96 1318.75 1435.14 Q1321.35 1437.32 1321.35 1440.97 Q1321.35 1442.7 1320.69 1444.26 Q1320.05 1445.8 1318.34 1447.91 Q1317.87 1448.46 1315.35 1451.07 Q1312.83 1453.67 1308.24 1458.35 Z\" fill=\"#000000\" fill-rule=\"nonzero\" fill-opacity=\"1\" /><path clip-path=\"url(#clip340)\" d=\"M1952.45 1485.02 L1960.09 1485.02 L1960.09 1458.66 L1951.78 1460.32 L1951.78 1456.06 L1960.04 1454.4 L1964.72 1454.4 L1964.72 1485.02 L1972.36 1485.02 L1972.36 1488.96 L1952.45 1488.96 L1952.45 1485.02 Z\" fill=\"#000000\" fill-rule=\"nonzero\" fill-opacity=\"1\" /><path clip-path=\"url(#clip340)\" d=\"M1991.8 1457.48 Q1988.19 1457.48 1986.36 1461.04 Q1984.55 1464.58 1984.55 1471.71 Q1984.55 1478.82 1986.36 1482.38 Q1988.19 1485.92 1991.8 1485.92 Q1995.43 1485.92 1997.24 1482.38 Q1999.07 1478.82 1999.07 1471.71 Q1999.07 1464.58 1997.24 1461.04 Q1995.43 1457.48 1991.8 1457.48 M1991.8 1453.77 Q1997.61 1453.77 2000.67 1458.38 Q2003.74 1462.96 2003.74 1471.71 Q2003.74 1480.44 2000.67 1485.04 Q1997.61 1489.63 1991.8 1489.63 Q1985.99 1489.63 1982.91 1485.04 Q1979.86 1480.44 1979.86 1471.71 Q1979.86 1462.96 1982.91 1458.38 Q1985.99 1453.77 1991.8 1453.77 Z\" fill=\"#000000\" fill-rule=\"nonzero\" fill-opacity=\"1\" /><path clip-path=\"url(#clip340)\" d=\"M2003.74 1447.87 L2027.86 1447.87 L2027.86 1451.07 L2003.74 1451.07 L2003.74 1447.87 Z\" fill=\"#000000\" fill-rule=\"nonzero\" fill-opacity=\"1\" /><path clip-path=\"url(#clip340)\" d=\"M2036.71 1458.35 L2042.92 1458.35 L2042.92 1436.93 L2036.17 1438.28 L2036.17 1434.82 L2042.88 1433.47 L2046.68 1433.47 L2046.68 1458.35 L2052.89 1458.35 L2052.89 1461.55 L2036.71 1461.55 L2036.71 1458.35 Z\" fill=\"#000000\" fill-rule=\"nonzero\" fill-opacity=\"1\" /><path clip-path=\"url(#clip340)\" d=\"M1317.69 1552.67 L1317.69 1574.19 L1311.83 1574.19 L1311.83 1552.86 Q1311.83 1547.8 1309.86 1545.29 Q1307.88 1542.77 1303.94 1542.77 Q1299.2 1542.77 1296.46 1545.79 Q1293.72 1548.82 1293.72 1554.04 L1293.72 1574.19 L1287.83 1574.19 L1287.83 1524.66 L1293.72 1524.66 L1293.72 1544.08 Q1295.82 1540.86 1298.65 1539.27 Q1301.52 1537.68 1305.24 1537.68 Q1311.39 1537.68 1314.54 1541.5 Q1317.69 1545.29 1317.69 1552.67 Z\" fill=\"#000000\" fill-rule=\"nonzero\" fill-opacity=\"1\" /><polyline clip-path=\"url(#clip342)\" style=\"stroke:#000000; stroke-linecap:round; stroke-linejoin:round; stroke-width:2; stroke-opacity:0.1; fill:none\" points=\"252.764,1234.89 2352.76,1234.89 \"/>\n",
       "<polyline clip-path=\"url(#clip342)\" style=\"stroke:#000000; stroke-linecap:round; stroke-linejoin:round; stroke-width:2; stroke-opacity:0.1; fill:none\" points=\"252.764,1010.75 2352.76,1010.75 \"/>\n",
       "<polyline clip-path=\"url(#clip342)\" style=\"stroke:#000000; stroke-linecap:round; stroke-linejoin:round; stroke-width:2; stroke-opacity:0.1; fill:none\" points=\"252.764,786.598 2352.76,786.598 \"/>\n",
       "<polyline clip-path=\"url(#clip342)\" style=\"stroke:#000000; stroke-linecap:round; stroke-linejoin:round; stroke-width:2; stroke-opacity:0.1; fill:none\" points=\"252.764,562.45 2352.76,562.45 \"/>\n",
       "<polyline clip-path=\"url(#clip342)\" style=\"stroke:#000000; stroke-linecap:round; stroke-linejoin:round; stroke-width:2; stroke-opacity:0.1; fill:none\" points=\"252.764,338.303 2352.76,338.303 \"/>\n",
       "<polyline clip-path=\"url(#clip340)\" style=\"stroke:#000000; stroke-linecap:round; stroke-linejoin:round; stroke-width:4; stroke-opacity:1; fill:none\" points=\"252.764,1410.9 252.764,123.472 \"/>\n",
       "<polyline clip-path=\"url(#clip340)\" style=\"stroke:#000000; stroke-linecap:round; stroke-linejoin:round; stroke-width:4; stroke-opacity:1; fill:none\" points=\"252.764,1234.89 271.662,1234.89 \"/>\n",
       "<polyline clip-path=\"url(#clip340)\" style=\"stroke:#000000; stroke-linecap:round; stroke-linejoin:round; stroke-width:4; stroke-opacity:1; fill:none\" points=\"252.764,1010.75 271.662,1010.75 \"/>\n",
       "<polyline clip-path=\"url(#clip340)\" style=\"stroke:#000000; stroke-linecap:round; stroke-linejoin:round; stroke-width:4; stroke-opacity:1; fill:none\" points=\"252.764,786.598 271.662,786.598 \"/>\n",
       "<polyline clip-path=\"url(#clip340)\" style=\"stroke:#000000; stroke-linecap:round; stroke-linejoin:round; stroke-width:4; stroke-opacity:1; fill:none\" points=\"252.764,562.45 271.662,562.45 \"/>\n",
       "<polyline clip-path=\"url(#clip340)\" style=\"stroke:#000000; stroke-linecap:round; stroke-linejoin:round; stroke-width:4; stroke-opacity:1; fill:none\" points=\"252.764,338.303 271.662,338.303 \"/>\n",
       "<path clip-path=\"url(#clip340)\" d=\"M115.195 1254.68 L122.834 1254.68 L122.834 1228.32 L114.523 1229.99 L114.523 1225.73 L122.787 1224.06 L127.463 1224.06 L127.463 1254.68 L135.102 1254.68 L135.102 1258.62 L115.195 1258.62 L115.195 1254.68 Z\" fill=\"#000000\" fill-rule=\"nonzero\" fill-opacity=\"1\" /><path clip-path=\"url(#clip340)\" d=\"M154.546 1227.14 Q150.935 1227.14 149.107 1230.7 Q147.301 1234.25 147.301 1241.37 Q147.301 1248.48 149.107 1252.05 Q150.935 1255.59 154.546 1255.59 Q158.181 1255.59 159.986 1252.05 Q161.815 1248.48 161.815 1241.37 Q161.815 1234.25 159.986 1230.7 Q158.181 1227.14 154.546 1227.14 M154.546 1223.44 Q160.357 1223.44 163.412 1228.04 Q166.491 1232.62 166.491 1241.37 Q166.491 1250.1 163.412 1254.71 Q160.357 1259.29 154.546 1259.29 Q148.736 1259.29 145.658 1254.71 Q142.602 1250.1 142.602 1241.37 Q142.602 1232.62 145.658 1228.04 Q148.736 1223.44 154.546 1223.44 Z\" fill=\"#000000\" fill-rule=\"nonzero\" fill-opacity=\"1\" /><path clip-path=\"url(#clip340)\" d=\"M166.491 1217.54 L190.602 1217.54 L190.602 1220.73 L166.491 1220.73 L166.491 1217.54 Z\" fill=\"#000000\" fill-rule=\"nonzero\" fill-opacity=\"1\" /><path clip-path=\"url(#clip340)\" d=\"M207.398 1215.66 Q204.84 1215.66 203.335 1217.4 Q201.849 1219.15 201.849 1222.2 Q201.849 1225.23 203.335 1227 Q204.84 1228.75 207.398 1228.75 Q209.956 1228.75 211.441 1227 Q212.946 1225.23 212.946 1222.2 Q212.946 1219.15 211.441 1217.4 Q209.956 1215.66 207.398 1215.66 M214.94 1203.75 L214.94 1207.21 Q213.51 1206.53 212.043 1206.18 Q210.595 1205.82 209.166 1205.82 Q205.404 1205.82 203.41 1208.36 Q201.436 1210.9 201.153 1216.03 Q202.263 1214.4 203.937 1213.53 Q205.611 1212.65 207.623 1212.65 Q211.855 1212.65 214.3 1215.22 Q216.764 1217.78 216.764 1222.2 Q216.764 1226.53 214.206 1229.14 Q211.648 1231.76 207.398 1231.76 Q202.526 1231.76 199.95 1228.03 Q197.373 1224.29 197.373 1217.2 Q197.373 1210.54 200.533 1206.59 Q203.693 1202.62 209.015 1202.62 Q210.445 1202.62 211.893 1202.9 Q213.36 1203.19 214.94 1203.75 Z\" fill=\"#000000\" fill-rule=\"nonzero\" fill-opacity=\"1\" /><path clip-path=\"url(#clip340)\" d=\"M116.135 1030.54 L123.774 1030.54 L123.774 1004.17 L115.464 1005.84 L115.464 1001.58 L123.728 999.913 L128.404 999.913 L128.404 1030.54 L136.042 1030.54 L136.042 1034.47 L116.135 1034.47 L116.135 1030.54 Z\" fill=\"#000000\" fill-rule=\"nonzero\" fill-opacity=\"1\" /><path clip-path=\"url(#clip340)\" d=\"M155.487 1002.99 Q151.876 1002.99 150.047 1006.56 Q148.241 1010.1 148.241 1017.23 Q148.241 1024.33 150.047 1027.9 Q151.876 1031.44 155.487 1031.44 Q159.121 1031.44 160.927 1027.9 Q162.755 1024.33 162.755 1017.23 Q162.755 1010.1 160.927 1006.56 Q159.121 1002.99 155.487 1002.99 M155.487 999.288 Q161.297 999.288 164.352 1003.89 Q167.431 1008.48 167.431 1017.23 Q167.431 1025.95 164.352 1030.56 Q161.297 1035.14 155.487 1035.14 Q149.677 1035.14 146.598 1030.56 Q143.542 1025.95 143.542 1017.23 Q143.542 1008.48 146.598 1003.89 Q149.677 999.288 155.487 999.288 Z\" fill=\"#000000\" fill-rule=\"nonzero\" fill-opacity=\"1\" /><path clip-path=\"url(#clip340)\" d=\"M167.431 993.389 L191.543 993.389 L191.543 996.586 L167.431 996.586 L167.431 993.389 Z\" fill=\"#000000\" fill-rule=\"nonzero\" fill-opacity=\"1\" /><path clip-path=\"url(#clip340)\" d=\"M199.781 978.982 L214.695 978.982 L214.695 982.18 L203.26 982.18 L203.26 989.063 Q204.088 988.781 204.915 988.65 Q205.743 988.499 206.57 988.499 Q211.272 988.499 214.018 991.076 Q216.764 993.652 216.764 998.053 Q216.764 1002.59 213.943 1005.11 Q211.122 1007.61 205.987 1007.61 Q204.219 1007.61 202.376 1007.31 Q200.552 1007.01 198.596 1006.4 L198.596 1002.59 Q200.288 1003.51 202.094 1003.96 Q203.899 1004.41 205.912 1004.41 Q209.166 1004.41 211.065 1002.7 Q212.965 1000.99 212.965 998.053 Q212.965 995.119 211.065 993.408 Q209.166 991.696 205.912 991.696 Q204.388 991.696 202.865 992.035 Q201.36 992.373 199.781 993.088 L199.781 978.982 Z\" fill=\"#000000\" fill-rule=\"nonzero\" fill-opacity=\"1\" /><path clip-path=\"url(#clip340)\" d=\"M114.931 806.39 L122.57 806.39 L122.57 780.025 L114.26 781.691 L114.26 777.432 L122.524 775.765 L127.2 775.765 L127.2 806.39 L134.839 806.39 L134.839 810.325 L114.931 810.325 L114.931 806.39 Z\" fill=\"#000000\" fill-rule=\"nonzero\" fill-opacity=\"1\" /><path clip-path=\"url(#clip340)\" d=\"M154.283 778.844 Q150.672 778.844 148.843 782.409 Q147.038 785.951 147.038 793.08 Q147.038 800.187 148.843 803.751 Q150.672 807.293 154.283 807.293 Q157.917 807.293 159.723 803.751 Q161.552 800.187 161.552 793.08 Q161.552 785.951 159.723 782.409 Q157.917 778.844 154.283 778.844 M154.283 775.14 Q160.093 775.14 163.149 779.747 Q166.227 784.33 166.227 793.08 Q166.227 801.807 163.149 806.413 Q160.093 810.997 154.283 810.997 Q148.473 810.997 145.394 806.413 Q142.339 801.807 142.339 793.08 Q142.339 784.33 145.394 779.747 Q148.473 775.14 154.283 775.14 Z\" fill=\"#000000\" fill-rule=\"nonzero\" fill-opacity=\"1\" /><path clip-path=\"url(#clip340)\" d=\"M166.227 769.242 L190.339 769.242 L190.339 772.439 L166.227 772.439 L166.227 769.242 Z\" fill=\"#000000\" fill-rule=\"nonzero\" fill-opacity=\"1\" /><path clip-path=\"url(#clip340)\" d=\"M208.978 758.145 L199.386 773.135 L208.978 773.135 L208.978 758.145 M207.981 754.835 L212.758 754.835 L212.758 773.135 L216.764 773.135 L216.764 776.295 L212.758 776.295 L212.758 782.915 L208.978 782.915 L208.978 776.295 L196.301 776.295 L196.301 772.627 L207.981 754.835 Z\" fill=\"#000000\" fill-rule=\"nonzero\" fill-opacity=\"1\" /><path clip-path=\"url(#clip340)\" d=\"M115.853 582.243 L123.492 582.243 L123.492 555.877 L115.182 557.544 L115.182 553.285 L123.446 551.618 L128.121 551.618 L128.121 582.243 L135.76 582.243 L135.76 586.178 L115.853 586.178 L115.853 582.243 Z\" fill=\"#000000\" fill-rule=\"nonzero\" fill-opacity=\"1\" /><path clip-path=\"url(#clip340)\" d=\"M155.205 554.697 Q151.594 554.697 149.765 558.262 Q147.959 561.803 147.959 568.933 Q147.959 576.039 149.765 579.604 Q151.594 583.146 155.205 583.146 Q158.839 583.146 160.644 579.604 Q162.473 576.039 162.473 568.933 Q162.473 561.803 160.644 558.262 Q158.839 554.697 155.205 554.697 M155.205 550.993 Q161.015 550.993 164.07 555.599 Q167.149 560.183 167.149 568.933 Q167.149 577.66 164.07 582.266 Q161.015 586.849 155.205 586.849 Q149.395 586.849 146.316 582.266 Q143.26 577.66 143.26 568.933 Q143.26 560.183 146.316 555.599 Q149.395 550.993 155.205 550.993 Z\" fill=\"#000000\" fill-rule=\"nonzero\" fill-opacity=\"1\" /><path clip-path=\"url(#clip340)\" d=\"M167.149 545.094 L191.261 545.094 L191.261 548.292 L167.149 548.292 L167.149 545.094 Z\" fill=\"#000000\" fill-rule=\"nonzero\" fill-opacity=\"1\" /><path clip-path=\"url(#clip340)\" d=\"M210.971 543.627 Q213.698 544.21 215.222 546.054 Q216.764 547.897 216.764 550.605 Q216.764 554.762 213.905 557.037 Q211.046 559.313 205.78 559.313 Q204.012 559.313 202.132 558.956 Q200.27 558.617 198.276 557.921 L198.276 554.254 Q199.856 555.175 201.737 555.646 Q203.617 556.116 205.667 556.116 Q209.241 556.116 211.103 554.705 Q212.984 553.295 212.984 550.605 Q212.984 548.122 211.234 546.731 Q209.504 545.32 206.401 545.32 L203.128 545.32 L203.128 542.198 L206.551 542.198 Q209.354 542.198 210.84 541.088 Q212.325 539.96 212.325 537.853 Q212.325 535.691 210.783 534.543 Q209.26 533.377 206.401 533.377 Q204.84 533.377 203.053 533.716 Q201.266 534.054 199.122 534.769 L199.122 531.384 Q201.285 530.782 203.166 530.481 Q205.066 530.18 206.739 530.18 Q211.065 530.18 213.585 532.155 Q216.106 534.111 216.106 537.458 Q216.106 539.791 214.77 541.408 Q213.435 543.007 210.971 543.627 Z\" fill=\"#000000\" fill-rule=\"nonzero\" fill-opacity=\"1\" /><path clip-path=\"url(#clip340)\" d=\"M116.624 358.096 L124.263 358.096 L124.263 331.73 L115.953 333.397 L115.953 329.137 L124.217 327.471 L128.893 327.471 L128.893 358.096 L136.531 358.096 L136.531 362.031 L116.624 362.031 L116.624 358.096 Z\" fill=\"#000000\" fill-rule=\"nonzero\" fill-opacity=\"1\" /><path clip-path=\"url(#clip340)\" d=\"M155.976 330.549 Q152.365 330.549 150.536 334.114 Q148.73 337.656 148.73 344.785 Q148.73 351.892 150.536 355.457 Q152.365 358.998 155.976 358.998 Q159.61 358.998 161.416 355.457 Q163.244 351.892 163.244 344.785 Q163.244 337.656 161.416 334.114 Q159.61 330.549 155.976 330.549 M155.976 326.846 Q161.786 326.846 164.841 331.452 Q167.92 336.035 167.92 344.785 Q167.92 353.512 164.841 358.119 Q161.786 362.702 155.976 362.702 Q150.166 362.702 147.087 358.119 Q144.031 353.512 144.031 344.785 Q144.031 336.035 147.087 331.452 Q150.166 326.846 155.976 326.846 Z\" fill=\"#000000\" fill-rule=\"nonzero\" fill-opacity=\"1\" /><path clip-path=\"url(#clip340)\" d=\"M167.92 320.947 L192.032 320.947 L192.032 324.144 L167.92 324.144 L167.92 320.947 Z\" fill=\"#000000\" fill-rule=\"nonzero\" fill-opacity=\"1\" /><path clip-path=\"url(#clip340)\" d=\"M203.504 331.423 L216.764 331.423 L216.764 334.62 L198.934 334.62 L198.934 331.423 Q201.097 329.185 204.821 325.423 Q208.564 321.643 209.523 320.552 Q211.347 318.502 212.062 317.091 Q212.796 315.662 212.796 314.289 Q212.796 312.051 211.216 310.64 Q209.655 309.23 207.134 309.23 Q205.348 309.23 203.354 309.85 Q201.379 310.471 199.122 311.731 L199.122 307.894 Q201.417 306.973 203.41 306.503 Q205.404 306.032 207.059 306.032 Q211.423 306.032 214.018 308.214 Q216.613 310.396 216.613 314.045 Q216.613 315.775 215.955 317.336 Q215.316 318.878 213.604 320.985 Q213.134 321.53 210.614 324.144 Q208.094 326.74 203.504 331.423 Z\" fill=\"#000000\" fill-rule=\"nonzero\" fill-opacity=\"1\" /><path clip-path=\"url(#clip340)\" d=\"M16.4842 828.247 L16.4842 798.201 L21.895 798.201 L21.895 821.818 L35.9632 821.818 L35.9632 799.188 L41.3741 799.188 L41.3741 821.818 L58.5933 821.818 L58.5933 797.628 L64.0042 797.628 L64.0042 828.247 L16.4842 828.247 Z\" fill=\"#000000\" fill-rule=\"nonzero\" fill-opacity=\"1\" /><path clip-path=\"url(#clip340)\" d=\"M33.8307 766.659 Q33.2578 767.646 33.0032 768.824 Q32.7167 769.969 32.7167 771.37 Q32.7167 776.335 35.9632 779.009 Q39.1779 781.65 45.2253 781.65 L64.0042 781.65 L64.0042 787.539 L28.3562 787.539 L28.3562 781.65 L33.8944 781.65 Q30.6479 779.804 29.0883 776.844 Q27.4968 773.884 27.4968 769.651 Q27.4968 769.046 27.5923 768.314 Q27.656 767.582 27.8151 766.691 L33.8307 766.659 Z\" fill=\"#000000\" fill-rule=\"nonzero\" fill-opacity=\"1\" /><path clip-path=\"url(#clip340)\" d=\"M33.8307 741.005 Q33.2578 741.992 33.0032 743.17 Q32.7167 744.316 32.7167 745.716 Q32.7167 750.681 35.9632 753.355 Q39.1779 755.997 45.2253 755.997 L64.0042 755.997 L64.0042 761.885 L28.3562 761.885 L28.3562 755.997 L33.8944 755.997 Q30.6479 754.151 29.0883 751.191 Q27.4968 748.23 27.4968 743.997 Q27.4968 743.393 27.5923 742.66 Q27.656 741.928 27.8151 741.037 L33.8307 741.005 Z\" fill=\"#000000\" fill-rule=\"nonzero\" fill-opacity=\"1\" /><path clip-path=\"url(#clip340)\" d=\"M32.4621 722.481 Q32.4621 727.192 36.1542 729.929 Q39.8145 732.666 46.212 732.666 Q52.6095 732.666 56.3017 729.961 Q59.9619 727.224 59.9619 722.481 Q59.9619 717.802 56.2698 715.065 Q52.5777 712.328 46.212 712.328 Q39.8781 712.328 36.186 715.065 Q32.4621 717.802 32.4621 722.481 M27.4968 722.481 Q27.4968 714.842 32.4621 710.482 Q37.4273 706.121 46.212 706.121 Q54.9649 706.121 59.9619 710.482 Q64.9272 714.842 64.9272 722.481 Q64.9272 730.152 59.9619 734.512 Q54.9649 738.841 46.212 738.841 Q37.4273 738.841 32.4621 734.512 Q27.4968 730.152 27.4968 722.481 Z\" fill=\"#000000\" fill-rule=\"nonzero\" fill-opacity=\"1\" /><path clip-path=\"url(#clip340)\" d=\"M524.764 12.096 L563.004 12.096 L563.004 18.9825 L532.946 18.9825 L532.946 36.8875 L561.748 36.8875 L561.748 43.7741 L532.946 43.7741 L532.946 65.6895 L563.733 65.6895 L563.733 72.576 L524.764 72.576 L524.764 12.096 Z\" fill=\"#000000\" fill-rule=\"nonzero\" fill-opacity=\"1\" /><path clip-path=\"url(#clip340)\" d=\"M605.782 28.5427 L605.782 35.5912 Q602.622 33.9709 599.219 33.1607 Q595.816 32.3505 592.171 32.3505 Q586.621 32.3505 583.826 34.0519 Q581.071 35.7533 581.071 39.156 Q581.071 41.7486 583.056 43.2475 Q585.041 44.7058 591.036 46.0426 L593.588 46.6097 Q601.528 48.3111 604.85 51.4303 Q608.212 54.509 608.212 60.0587 Q608.212 66.3781 603.189 70.0644 Q598.206 73.7508 589.456 73.7508 Q585.811 73.7508 581.841 73.0216 Q577.911 72.3329 573.536 70.9151 L573.536 63.2184 Q577.668 65.3654 581.679 66.4591 Q585.689 67.5124 589.618 67.5124 Q594.885 67.5124 597.72 65.73 Q600.556 63.9071 600.556 60.6258 Q600.556 57.5877 598.49 55.9673 Q596.465 54.3469 589.537 52.8481 L586.945 52.2405 Q580.018 50.7821 576.939 47.7845 Q573.86 44.7463 573.86 39.4801 Q573.86 33.0797 578.397 29.5959 Q582.935 26.1121 591.279 26.1121 Q595.411 26.1121 599.057 26.7198 Q602.703 27.3274 605.782 28.5427 Z\" fill=\"#000000\" fill-rule=\"nonzero\" fill-opacity=\"1\" /><path clip-path=\"url(#clip340)\" d=\"M627.454 14.324 L627.454 27.2059 L642.807 27.2059 L642.807 32.9987 L627.454 32.9987 L627.454 57.6282 Q627.454 63.1779 628.953 64.7578 Q630.492 66.3376 635.151 66.3376 L642.807 66.3376 L642.807 72.576 L635.151 72.576 Q626.522 72.576 623.241 69.3758 Q619.96 66.1351 619.96 57.6282 L619.96 32.9987 L614.491 32.9987 L614.491 27.2059 L619.96 27.2059 L619.96 14.324 L627.454 14.324 Z\" fill=\"#000000\" fill-rule=\"nonzero\" fill-opacity=\"1\" /><path clip-path=\"url(#clip340)\" d=\"M651.84 54.671 L651.84 27.2059 L659.294 27.2059 L659.294 54.3874 Q659.294 60.8284 661.806 64.0691 Q664.317 67.2693 669.34 67.2693 Q675.376 67.2693 678.86 63.421 Q682.384 59.5726 682.384 52.9291 L682.384 27.2059 L689.838 27.2059 L689.838 72.576 L682.384 72.576 L682.384 65.6084 Q679.67 69.7404 676.065 71.7658 Q672.5 73.7508 667.76 73.7508 Q659.942 73.7508 655.891 68.8897 Q651.84 64.0286 651.84 54.671 M670.596 26.1121 L670.596 26.1121 Z\" fill=\"#000000\" fill-rule=\"nonzero\" fill-opacity=\"1\" /><path clip-path=\"url(#clip340)\" d=\"M735.046 34.0924 L735.046 9.54393 L742.5 9.54393 L742.5 72.576 L735.046 72.576 L735.046 65.7705 Q732.696 69.8214 729.091 71.8063 Q725.526 73.7508 720.503 73.7508 Q712.28 73.7508 707.095 67.1883 Q701.95 60.6258 701.95 49.9314 Q701.95 39.2371 707.095 32.6746 Q712.28 26.1121 720.503 26.1121 Q725.526 26.1121 729.091 28.0971 Q732.696 30.0415 735.046 34.0924 M709.647 49.9314 Q709.647 58.1548 713.009 62.8538 Q716.412 67.5124 722.326 67.5124 Q728.24 67.5124 731.643 62.8538 Q735.046 58.1548 735.046 49.9314 Q735.046 41.7081 731.643 37.0496 Q728.24 32.3505 722.326 32.3505 Q716.412 32.3505 713.009 37.0496 Q709.647 41.7081 709.647 49.9314 Z\" fill=\"#000000\" fill-rule=\"nonzero\" fill-opacity=\"1\" /><path clip-path=\"url(#clip340)\" d=\"M775.433 32.4315 Q769.438 32.4315 765.954 37.1306 Q762.471 41.7891 762.471 49.9314 Q762.471 58.0738 765.914 62.7728 Q769.398 67.4314 775.433 67.4314 Q781.388 67.4314 784.872 62.7323 Q788.356 58.0333 788.356 49.9314 Q788.356 41.8701 784.872 37.1711 Q781.388 32.4315 775.433 32.4315 M775.433 26.1121 Q785.156 26.1121 790.705 32.4315 Q796.255 38.7509 796.255 49.9314 Q796.255 61.0714 790.705 67.4314 Q785.156 73.7508 775.433 73.7508 Q765.671 73.7508 760.121 67.4314 Q754.612 61.0714 754.612 49.9314 Q754.612 38.7509 760.121 32.4315 Q765.671 26.1121 775.433 26.1121 Z\" fill=\"#000000\" fill-rule=\"nonzero\" fill-opacity=\"1\" /><path clip-path=\"url(#clip340)\" d=\"M864.837 34.0924 L864.837 9.54393 L872.291 9.54393 L872.291 72.576 L864.837 72.576 L864.837 65.7705 Q862.487 69.8214 858.882 71.8063 Q855.317 73.7508 850.294 73.7508 Q842.071 73.7508 836.886 67.1883 Q831.741 60.6258 831.741 49.9314 Q831.741 39.2371 836.886 32.6746 Q842.071 26.1121 850.294 26.1121 Q855.317 26.1121 858.882 28.0971 Q862.487 30.0415 864.837 34.0924 M839.438 49.9314 Q839.438 58.1548 842.8 62.8538 Q846.203 67.5124 852.117 67.5124 Q858.031 67.5124 861.434 62.8538 Q864.837 58.1548 864.837 49.9314 Q864.837 41.7081 861.434 37.0496 Q858.031 32.3505 852.117 32.3505 Q846.203 32.3505 842.8 37.0496 Q839.438 41.7081 839.438 49.9314 Z\" fill=\"#000000\" fill-rule=\"nonzero\" fill-opacity=\"1\" /><path clip-path=\"url(#clip340)\" d=\"M905.224 32.4315 Q899.229 32.4315 895.745 37.1306 Q892.262 41.7891 892.262 49.9314 Q892.262 58.0738 895.705 62.7728 Q899.189 67.4314 905.224 67.4314 Q911.179 67.4314 914.663 62.7323 Q918.147 58.0333 918.147 49.9314 Q918.147 41.8701 914.663 37.1711 Q911.179 32.4315 905.224 32.4315 M905.224 26.1121 Q914.947 26.1121 920.496 32.4315 Q926.046 38.7509 926.046 49.9314 Q926.046 61.0714 920.496 67.4314 Q914.947 73.7508 905.224 73.7508 Q895.462 73.7508 889.912 67.4314 Q884.403 61.0714 884.403 49.9314 Q884.403 38.7509 889.912 32.4315 Q895.462 26.1121 905.224 26.1121 Z\" fill=\"#000000\" fill-rule=\"nonzero\" fill-opacity=\"1\" /><path clip-path=\"url(#clip340)\" d=\"M1003.58 48.0275 L1003.58 51.6733 L969.31 51.6733 Q969.796 59.3701 973.928 63.421 Q978.1 67.4314 985.513 67.4314 Q989.807 67.4314 993.818 66.3781 Q997.869 65.3249 1001.84 63.2184 L1001.84 70.267 Q997.828 71.9684 993.615 72.8596 Q989.402 73.7508 985.068 73.7508 Q974.211 73.7508 967.851 67.4314 Q961.532 61.1119 961.532 50.3365 Q961.532 39.1965 967.527 32.6746 Q973.563 26.1121 983.771 26.1121 Q992.927 26.1121 998.233 32.0264 Q1003.58 37.9003 1003.58 48.0275 M996.127 45.84 Q996.046 39.7232 992.683 36.0774 Q989.362 32.4315 983.852 32.4315 Q977.614 32.4315 973.847 35.9558 Q970.12 39.4801 969.553 45.8805 L996.127 45.84 Z\" fill=\"#000000\" fill-rule=\"nonzero\" fill-opacity=\"1\" /><path clip-path=\"url(#clip340)\" d=\"M1042.1 34.1734 Q1040.85 33.4443 1039.35 33.1202 Q1037.89 32.7556 1036.11 32.7556 Q1029.79 32.7556 1026.39 36.8875 Q1023.02 40.9789 1023.02 48.6757 L1023.02 72.576 L1015.53 72.576 L1015.53 27.2059 L1023.02 27.2059 L1023.02 34.2544 Q1025.37 30.1225 1029.14 28.1376 Q1032.91 26.1121 1038.3 26.1121 Q1039.07 26.1121 1040 26.2337 Q1040.93 26.3147 1042.06 26.5172 L1042.1 34.1734 Z\" fill=\"#000000\" fill-rule=\"nonzero\" fill-opacity=\"1\" /><path clip-path=\"url(#clip340)\" d=\"M1074.75 34.1734 Q1073.5 33.4443 1072 33.1202 Q1070.54 32.7556 1068.76 32.7556 Q1062.44 32.7556 1059.04 36.8875 Q1055.68 40.9789 1055.68 48.6757 L1055.68 72.576 L1048.18 72.576 L1048.18 27.2059 L1055.68 27.2059 L1055.68 34.2544 Q1058.02 30.1225 1061.79 28.1376 Q1065.56 26.1121 1070.95 26.1121 Q1071.72 26.1121 1072.65 26.2337 Q1073.58 26.3147 1074.71 26.5172 L1074.75 34.1734 Z\" fill=\"#000000\" fill-rule=\"nonzero\" fill-opacity=\"1\" /><path clip-path=\"url(#clip340)\" d=\"M1098.33 32.4315 Q1092.34 32.4315 1088.85 37.1306 Q1085.37 41.7891 1085.37 49.9314 Q1085.37 58.0738 1088.81 62.7728 Q1092.3 67.4314 1098.33 67.4314 Q1104.29 67.4314 1107.77 62.7323 Q1111.25 58.0333 1111.25 49.9314 Q1111.25 41.8701 1107.77 37.1711 Q1104.29 32.4315 1098.33 32.4315 M1098.33 26.1121 Q1108.05 26.1121 1113.6 32.4315 Q1119.15 38.7509 1119.15 49.9314 Q1119.15 61.0714 1113.6 67.4314 Q1108.05 73.7508 1098.33 73.7508 Q1088.57 73.7508 1083.02 67.4314 Q1077.51 61.0714 1077.51 49.9314 Q1077.51 38.7509 1083.02 32.4315 Q1088.57 26.1121 1098.33 26.1121 Z\" fill=\"#000000\" fill-rule=\"nonzero\" fill-opacity=\"1\" /><path clip-path=\"url(#clip340)\" d=\"M1154.11 46.5287 L1175.95 46.5287 L1175.95 53.1722 L1154.11 53.1722 L1154.11 46.5287 Z\" fill=\"#000000\" fill-rule=\"nonzero\" fill-opacity=\"1\" /><path clip-path=\"url(#clip340)\" d=\"M1252.99 48.0275 L1252.99 51.6733 L1218.72 51.6733 Q1219.21 59.3701 1223.34 63.421 Q1227.51 67.4314 1234.93 67.4314 Q1239.22 67.4314 1243.23 66.3781 Q1247.28 65.3249 1251.25 63.2184 L1251.25 70.267 Q1247.24 71.9684 1243.03 72.8596 Q1238.82 73.7508 1234.48 73.7508 Q1223.63 73.7508 1217.27 67.4314 Q1210.95 61.1119 1210.95 50.3365 Q1210.95 39.1965 1216.94 32.6746 Q1222.98 26.1121 1233.19 26.1121 Q1242.34 26.1121 1247.65 32.0264 Q1252.99 37.9003 1252.99 48.0275 M1245.54 45.84 Q1245.46 39.7232 1242.1 36.0774 Q1238.78 32.4315 1233.27 32.4315 Q1227.03 32.4315 1223.26 35.9558 Q1219.53 39.4801 1218.97 45.8805 L1245.54 45.84 Z\" fill=\"#000000\" fill-rule=\"nonzero\" fill-opacity=\"1\" /><path clip-path=\"url(#clip340)\" d=\"M1301.48 27.2059 L1285.08 49.2833 L1302.33 72.576 L1293.54 72.576 L1280.34 54.752 L1267.13 72.576 L1258.34 72.576 L1275.96 48.8377 L1259.84 27.2059 L1268.63 27.2059 L1280.66 43.369 L1292.69 27.2059 L1301.48 27.2059 Z\" fill=\"#000000\" fill-rule=\"nonzero\" fill-opacity=\"1\" /><path clip-path=\"url(#clip340)\" d=\"M1349.12 48.0275 L1349.12 51.6733 L1314.85 51.6733 Q1315.34 59.3701 1319.47 63.421 Q1323.64 67.4314 1331.06 67.4314 Q1335.35 67.4314 1339.36 66.3781 Q1343.41 65.3249 1347.38 63.2184 L1347.38 70.267 Q1343.37 71.9684 1339.16 72.8596 Q1334.94 73.7508 1330.61 73.7508 Q1319.75 73.7508 1313.39 67.4314 Q1307.07 61.1119 1307.07 50.3365 Q1307.07 39.1965 1313.07 32.6746 Q1319.11 26.1121 1329.31 26.1121 Q1338.47 26.1121 1343.78 32.0264 Q1349.12 37.9003 1349.12 48.0275 M1341.67 45.84 Q1341.59 39.7232 1338.23 36.0774 Q1334.9 32.4315 1329.39 32.4315 Q1323.16 32.4315 1319.39 35.9558 Q1315.66 39.4801 1315.09 45.8805 L1341.67 45.84 Z\" fill=\"#000000\" fill-rule=\"nonzero\" fill-opacity=\"1\" /><path clip-path=\"url(#clip340)\" d=\"M1396.68 35.9153 Q1399.48 30.8922 1403.36 28.5022 Q1407.25 26.1121 1412.52 26.1121 Q1419.61 26.1121 1423.46 31.0947 Q1427.3 36.0368 1427.3 45.1919 L1427.3 72.576 L1419.81 72.576 L1419.81 45.4349 Q1419.81 38.913 1417.5 35.7533 Q1415.19 32.5936 1410.45 32.5936 Q1404.66 32.5936 1401.3 36.4419 Q1397.94 40.2903 1397.94 46.9338 L1397.94 72.576 L1390.44 72.576 L1390.44 45.4349 Q1390.44 38.8725 1388.13 35.7533 Q1385.82 32.5936 1381 32.5936 Q1375.29 32.5936 1371.93 36.4824 Q1368.57 40.3308 1368.57 46.9338 L1368.57 72.576 L1361.07 72.576 L1361.07 27.2059 L1368.57 27.2059 L1368.57 34.2544 Q1371.12 30.082 1374.68 28.0971 Q1378.25 26.1121 1383.15 26.1121 Q1388.09 26.1121 1391.54 28.6237 Q1395.02 31.1352 1396.68 35.9153 Z\" fill=\"#000000\" fill-rule=\"nonzero\" fill-opacity=\"1\" /><path clip-path=\"url(#clip340)\" d=\"M1449.38 65.7705 L1449.38 89.8329 L1441.89 89.8329 L1441.89 27.2059 L1449.38 27.2059 L1449.38 34.0924 Q1451.73 30.0415 1455.3 28.0971 Q1458.9 26.1121 1463.88 26.1121 Q1472.15 26.1121 1477.29 32.6746 Q1482.48 39.2371 1482.48 49.9314 Q1482.48 60.6258 1477.29 67.1883 Q1472.15 73.7508 1463.88 73.7508 Q1458.9 73.7508 1455.3 71.8063 Q1451.73 69.8214 1449.38 65.7705 M1474.74 49.9314 Q1474.74 41.7081 1471.34 37.0496 Q1467.98 32.3505 1462.06 32.3505 Q1456.15 32.3505 1452.74 37.0496 Q1449.38 41.7081 1449.38 49.9314 Q1449.38 58.1548 1452.74 62.8538 Q1456.15 67.5124 1462.06 67.5124 Q1467.98 67.5124 1471.34 62.8538 Q1474.74 58.1548 1474.74 49.9314 Z\" fill=\"#000000\" fill-rule=\"nonzero\" fill-opacity=\"1\" /><path clip-path=\"url(#clip340)\" d=\"M1494.83 9.54393 L1502.29 9.54393 L1502.29 72.576 L1494.83 72.576 L1494.83 9.54393 Z\" fill=\"#000000\" fill-rule=\"nonzero\" fill-opacity=\"1\" /><path clip-path=\"url(#clip340)\" d=\"M1535.46 32.4315 Q1529.47 32.4315 1525.99 37.1306 Q1522.5 41.7891 1522.5 49.9314 Q1522.5 58.0738 1525.94 62.7728 Q1529.43 67.4314 1535.46 67.4314 Q1541.42 67.4314 1544.9 62.7323 Q1548.39 58.0333 1548.39 49.9314 Q1548.39 41.8701 1544.9 37.1711 Q1541.42 32.4315 1535.46 32.4315 M1535.46 26.1121 Q1545.19 26.1121 1550.74 32.4315 Q1556.29 38.7509 1556.29 49.9314 Q1556.29 61.0714 1550.74 67.4314 Q1545.19 73.7508 1535.46 73.7508 Q1525.7 73.7508 1520.15 67.4314 Q1514.64 61.0714 1514.64 49.9314 Q1514.64 38.7509 1520.15 32.4315 Q1525.7 26.1121 1535.46 26.1121 Z\" fill=\"#000000\" fill-rule=\"nonzero\" fill-opacity=\"1\" /><path clip-path=\"url(#clip340)\" d=\"M1597.48 65.6895 L1610.85 65.6895 L1610.85 19.5497 L1596.31 22.4663 L1596.31 15.0127 L1610.77 12.096 L1618.95 12.096 L1618.95 65.6895 L1632.32 65.6895 L1632.32 72.576 L1597.48 72.576 L1597.48 65.6895 Z\" fill=\"#000000\" fill-rule=\"nonzero\" fill-opacity=\"1\" /><path clip-path=\"url(#clip340)\" d=\"M1670.4 46.5287 L1692.23 46.5287 L1692.23 53.1722 L1670.4 53.1722 L1670.4 46.5287 Z\" fill=\"#000000\" fill-rule=\"nonzero\" fill-opacity=\"1\" /><path clip-path=\"url(#clip340)\" d=\"M1763.12 28.9478 L1763.12 35.9153 Q1759.97 34.1734 1756.77 33.3227 Q1753.61 32.4315 1750.36 32.4315 Q1743.11 32.4315 1739.1 37.0496 Q1735.09 41.6271 1735.09 49.9314 Q1735.09 58.2358 1739.1 62.8538 Q1743.11 67.4314 1750.36 67.4314 Q1753.61 67.4314 1756.77 66.5807 Q1759.97 65.6895 1763.12 63.9476 L1763.12 70.8341 Q1760.01 72.2924 1756.64 73.0216 Q1753.32 73.7508 1749.55 73.7508 Q1739.31 73.7508 1733.27 67.3098 Q1727.23 60.8689 1727.23 49.9314 Q1727.23 38.832 1733.31 32.472 Q1739.43 26.1121 1750.04 26.1121 Q1753.48 26.1121 1756.77 26.8413 Q1760.05 27.5299 1763.12 28.9478 Z\" fill=\"#000000\" fill-rule=\"nonzero\" fill-opacity=\"1\" /><path clip-path=\"url(#clip340)\" d=\"M1796.71 49.7694 Q1787.67 49.7694 1784.19 51.8354 Q1780.71 53.9013 1780.71 58.8839 Q1780.71 62.8538 1783.3 65.2034 Q1785.93 67.5124 1790.43 67.5124 Q1796.63 67.5124 1800.35 63.1374 Q1804.12 58.7219 1804.12 51.4303 L1804.12 49.7694 L1796.71 49.7694 M1811.57 46.6907 L1811.57 72.576 L1804.12 72.576 L1804.12 65.6895 Q1801.57 69.8214 1797.76 71.8063 Q1793.95 73.7508 1788.44 73.7508 Q1781.48 73.7508 1777.34 69.8619 Q1773.25 65.9325 1773.25 59.3701 Q1773.25 51.7138 1778.36 47.825 Q1783.5 43.9361 1793.67 43.9361 L1804.12 43.9361 L1804.12 43.2069 Q1804.12 38.0623 1800.72 35.2672 Q1797.36 32.4315 1791.24 32.4315 Q1787.35 32.4315 1783.66 33.3632 Q1779.98 34.295 1776.57 36.1584 L1776.57 29.2718 Q1780.67 27.692 1784.51 26.9223 Q1788.36 26.1121 1792.01 26.1121 Q1801.85 26.1121 1806.71 31.2163 Q1811.57 36.3204 1811.57 46.6907 Z\" fill=\"#000000\" fill-rule=\"nonzero\" fill-opacity=\"1\" /><path clip-path=\"url(#clip340)\" d=\"M1855.85 28.5427 L1855.85 35.5912 Q1852.69 33.9709 1849.29 33.1607 Q1845.88 32.3505 1842.24 32.3505 Q1836.69 32.3505 1833.89 34.0519 Q1831.14 35.7533 1831.14 39.156 Q1831.14 41.7486 1833.12 43.2475 Q1835.11 44.7058 1841.1 46.0426 L1843.66 46.6097 Q1851.6 48.3111 1854.92 51.4303 Q1858.28 54.509 1858.28 60.0587 Q1858.28 66.3781 1853.26 70.0644 Q1848.27 73.7508 1839.52 73.7508 Q1835.88 73.7508 1831.91 73.0216 Q1827.98 72.3329 1823.6 70.9151 L1823.6 63.2184 Q1827.74 65.3654 1831.75 66.4591 Q1835.76 67.5124 1839.69 67.5124 Q1844.95 67.5124 1847.79 65.73 Q1850.62 63.9071 1850.62 60.6258 Q1850.62 57.5877 1848.56 55.9673 Q1846.53 54.3469 1839.61 52.8481 L1837.01 52.2405 Q1830.09 50.7821 1827.01 47.7845 Q1823.93 44.7463 1823.93 39.4801 Q1823.93 33.0797 1828.47 29.5959 Q1833 26.1121 1841.35 26.1121 Q1845.48 26.1121 1849.13 26.7198 Q1852.77 27.3274 1855.85 28.5427 Z\" fill=\"#000000\" fill-rule=\"nonzero\" fill-opacity=\"1\" /><path clip-path=\"url(#clip340)\" d=\"M1908.96 48.0275 L1908.96 51.6733 L1874.69 51.6733 Q1875.17 59.3701 1879.3 63.421 Q1883.48 67.4314 1890.89 67.4314 Q1895.18 67.4314 1899.19 66.3781 Q1903.25 65.3249 1907.22 63.2184 L1907.22 70.267 Q1903.21 71.9684 1898.99 72.8596 Q1894.78 73.7508 1890.44 73.7508 Q1879.59 73.7508 1873.23 67.4314 Q1866.91 61.1119 1866.91 50.3365 Q1866.91 39.1965 1872.9 32.6746 Q1878.94 26.1121 1889.15 26.1121 Q1898.3 26.1121 1903.61 32.0264 Q1908.96 37.9003 1908.96 48.0275 M1901.5 45.84 Q1901.42 39.7232 1898.06 36.0774 Q1894.74 32.4315 1889.23 32.4315 Q1882.99 32.4315 1879.22 35.9558 Q1875.5 39.4801 1874.93 45.8805 L1901.5 45.84 Z\" fill=\"#000000\" fill-rule=\"nonzero\" fill-opacity=\"1\" /><path clip-path=\"url(#clip340)\" d=\"M1948.53 34.9026 L2000.47 34.9026 L2000.47 41.7081 L1948.53 41.7081 L1948.53 34.9026 M1948.53 51.4303 L2000.47 51.4303 L2000.47 58.3168 L1948.53 58.3168 L1948.53 51.4303 Z\" fill=\"#000000\" fill-rule=\"nonzero\" fill-opacity=\"1\" /><path clip-path=\"url(#clip340)\" d=\"M2045.92 65.6895 L2059.29 65.6895 L2059.29 19.5497 L2044.74 22.4663 L2044.74 15.0127 L2059.21 12.096 L2067.39 12.096 L2067.39 65.6895 L2080.76 65.6895 L2080.76 72.576 L2045.92 72.576 L2045.92 65.6895 Z\" fill=\"#000000\" fill-rule=\"nonzero\" fill-opacity=\"1\" /><polyline clip-path=\"url(#clip342)\" style=\"stroke:#009af9; stroke-linecap:round; stroke-linejoin:round; stroke-width:12; stroke-opacity:1; fill:none\" points=\"2293.32,197.452 2073.2,190.808 1853.07,189.104 1632.95,188.652 1412.82,188.525 1192.7,188.487 972.573,188.474 752.448,188.469 532.323,188.467 312.198,188.466 \"/>\n",
       "<circle clip-path=\"url(#clip342)\" cx=\"2293.32\" cy=\"197.452\" r=\"14.4\" fill=\"#009af9\" fill-rule=\"evenodd\" fill-opacity=\"1\" stroke=\"#000000\" stroke-opacity=\"1\" stroke-width=\"3.2\"/>\n",
       "<circle clip-path=\"url(#clip342)\" cx=\"2073.2\" cy=\"190.808\" r=\"14.4\" fill=\"#009af9\" fill-rule=\"evenodd\" fill-opacity=\"1\" stroke=\"#000000\" stroke-opacity=\"1\" stroke-width=\"3.2\"/>\n",
       "<circle clip-path=\"url(#clip342)\" cx=\"1853.07\" cy=\"189.104\" r=\"14.4\" fill=\"#009af9\" fill-rule=\"evenodd\" fill-opacity=\"1\" stroke=\"#000000\" stroke-opacity=\"1\" stroke-width=\"3.2\"/>\n",
       "<circle clip-path=\"url(#clip342)\" cx=\"1632.95\" cy=\"188.652\" r=\"14.4\" fill=\"#009af9\" fill-rule=\"evenodd\" fill-opacity=\"1\" stroke=\"#000000\" stroke-opacity=\"1\" stroke-width=\"3.2\"/>\n",
       "<circle clip-path=\"url(#clip342)\" cx=\"1412.82\" cy=\"188.525\" r=\"14.4\" fill=\"#009af9\" fill-rule=\"evenodd\" fill-opacity=\"1\" stroke=\"#000000\" stroke-opacity=\"1\" stroke-width=\"3.2\"/>\n",
       "<circle clip-path=\"url(#clip342)\" cx=\"1192.7\" cy=\"188.487\" r=\"14.4\" fill=\"#009af9\" fill-rule=\"evenodd\" fill-opacity=\"1\" stroke=\"#000000\" stroke-opacity=\"1\" stroke-width=\"3.2\"/>\n",
       "<circle clip-path=\"url(#clip342)\" cx=\"972.573\" cy=\"188.474\" r=\"14.4\" fill=\"#009af9\" fill-rule=\"evenodd\" fill-opacity=\"1\" stroke=\"#000000\" stroke-opacity=\"1\" stroke-width=\"3.2\"/>\n",
       "<circle clip-path=\"url(#clip342)\" cx=\"752.448\" cy=\"188.469\" r=\"14.4\" fill=\"#009af9\" fill-rule=\"evenodd\" fill-opacity=\"1\" stroke=\"#000000\" stroke-opacity=\"1\" stroke-width=\"3.2\"/>\n",
       "<circle clip-path=\"url(#clip342)\" cx=\"532.323\" cy=\"188.467\" r=\"14.4\" fill=\"#009af9\" fill-rule=\"evenodd\" fill-opacity=\"1\" stroke=\"#000000\" stroke-opacity=\"1\" stroke-width=\"3.2\"/>\n",
       "<circle clip-path=\"url(#clip342)\" cx=\"312.198\" cy=\"188.466\" r=\"14.4\" fill=\"#009af9\" fill-rule=\"evenodd\" fill-opacity=\"1\" stroke=\"#000000\" stroke-opacity=\"1\" stroke-width=\"3.2\"/>\n",
       "<polyline clip-path=\"url(#clip342)\" style=\"stroke:#e26f46; stroke-linecap:round; stroke-linejoin:round; stroke-width:12; stroke-opacity:1; fill:none\" points=\"2293.32,159.909 2073.2,294.859 1853.07,429.809 1632.95,564.759 1412.82,699.709 1192.7,834.659 972.573,969.61 752.448,1104.56 532.323,1239.51 312.198,1374.46 \"/>\n",
       "<path clip-path=\"url(#clip340)\" d=\"M322.764 321.906 L621.582 321.906 L621.582 166.386 L322.764 166.386  Z\" fill=\"#ffffff\" fill-rule=\"evenodd\" fill-opacity=\"1\"/>\n",
       "<polyline clip-path=\"url(#clip340)\" style=\"stroke:#000000; stroke-linecap:round; stroke-linejoin:round; stroke-width:4; stroke-opacity:1; fill:none\" points=\"322.764,321.906 621.582,321.906 621.582,166.386 322.764,166.386 322.764,321.906 \"/>\n",
       "<polyline clip-path=\"url(#clip340)\" style=\"stroke:#009af9; stroke-linecap:round; stroke-linejoin:round; stroke-width:12; stroke-opacity:1; fill:none\" points=\"346.097,218.226 486.096,218.226 \"/>\n",
       "<circle clip-path=\"url(#clip340)\" cx=\"416.097\" cy=\"218.226\" r=\"19.4444\" fill=\"#009af9\" fill-rule=\"evenodd\" fill-opacity=\"1\" stroke=\"#000000\" stroke-opacity=\"1\" stroke-width=\"4.55111\"/>\n",
       "<path clip-path=\"url(#clip340)\" d=\"M509.43 200.946 L531.281 200.946 L531.281 204.881 L514.106 204.881 L514.106 215.113 L530.564 215.113 L530.564 219.048 L514.106 219.048 L514.106 231.571 L531.698 231.571 L531.698 235.506 L509.43 235.506 L509.43 200.946 Z\" fill=\"#000000\" fill-rule=\"nonzero\" fill-opacity=\"1\" /><path clip-path=\"url(#clip340)\" d=\"M554.221 213.562 Q553.503 213.145 552.647 212.96 Q551.814 212.752 550.795 212.752 Q547.184 212.752 545.24 215.113 Q543.318 217.451 543.318 221.849 L543.318 235.506 L539.036 235.506 L539.036 209.58 L543.318 209.58 L543.318 213.608 Q544.661 211.247 546.814 210.113 Q548.966 208.955 552.045 208.955 Q552.485 208.955 553.017 209.025 Q553.55 209.071 554.198 209.187 L554.221 213.562 Z\" fill=\"#000000\" fill-rule=\"nonzero\" fill-opacity=\"1\" /><path clip-path=\"url(#clip340)\" d=\"M572.878 213.562 Q572.161 213.145 571.304 212.96 Q570.471 212.752 569.452 212.752 Q565.841 212.752 563.897 215.113 Q561.976 217.451 561.976 221.849 L561.976 235.506 L557.693 235.506 L557.693 209.58 L561.976 209.58 L561.976 213.608 Q563.318 211.247 565.471 210.113 Q567.624 208.955 570.702 208.955 Q571.142 208.955 571.675 209.025 Q572.207 209.071 572.855 209.187 L572.878 213.562 Z\" fill=\"#000000\" fill-rule=\"nonzero\" fill-opacity=\"1\" /><path clip-path=\"url(#clip340)\" d=\"M586.351 212.567 Q582.925 212.567 580.934 215.252 Q578.943 217.914 578.943 222.567 Q578.943 227.219 580.911 229.904 Q582.901 232.566 586.351 232.566 Q589.753 232.566 591.744 229.881 Q593.735 227.196 593.735 222.567 Q593.735 217.96 591.744 215.275 Q589.753 212.567 586.351 212.567 M586.351 208.955 Q591.906 208.955 595.077 212.567 Q598.249 216.178 598.249 222.567 Q598.249 228.932 595.077 232.566 Q591.906 236.178 586.351 236.178 Q580.772 236.178 577.601 232.566 Q574.452 228.932 574.452 222.567 Q574.452 216.178 577.601 212.567 Q580.772 208.955 586.351 208.955 Z\" fill=\"#000000\" fill-rule=\"nonzero\" fill-opacity=\"1\" /><polyline clip-path=\"url(#clip340)\" style=\"stroke:#e26f46; stroke-linecap:round; stroke-linejoin:round; stroke-width:12; stroke-opacity:1; fill:none\" points=\"346.097,270.066 486.096,270.066 \"/>\n",
       "<path clip-path=\"url(#clip340)\" d=\"M531.142 271.698 L531.142 287.346 L526.883 287.346 L526.883 271.837 Q526.883 268.157 525.448 266.328 Q524.013 264.499 521.143 264.499 Q517.693 264.499 515.703 266.698 Q513.712 268.897 513.712 272.694 L513.712 287.346 L509.43 287.346 L509.43 251.328 L513.712 251.328 L513.712 265.448 Q515.24 263.11 517.3 261.953 Q519.383 260.795 522.092 260.795 Q526.559 260.795 528.851 263.573 Q531.142 266.328 531.142 271.698 Z\" fill=\"#000000\" fill-rule=\"nonzero\" fill-opacity=\"1\" /><path clip-path=\"url(#clip340)\" d=\"M541.374 269.245 L551.189 269.245 L551.189 271.883 L537.346 271.883 L537.346 269.337 Q538.133 268.62 539.592 267.323 Q547.554 260.263 547.554 258.087 Q547.554 256.559 546.351 255.633 Q545.147 254.684 543.179 254.684 Q541.976 254.684 540.564 255.101 Q539.152 255.495 537.485 256.305 L537.485 253.458 Q539.267 252.809 540.795 252.485 Q542.346 252.161 543.666 252.161 Q547.022 252.161 549.036 253.689 Q551.05 255.217 551.05 257.717 Q551.05 260.934 543.388 267.508 Q542.091 268.62 541.374 269.245 Z\" fill=\"#000000\" fill-rule=\"nonzero\" fill-opacity=\"1\" /></svg>\n"
      ]
     },
     "metadata": {},
     "output_type": "display_data"
    },
    {
     "data": {
      "text/plain": [
       "\"Tabela com os valores de h e erro - exemplo 1 - caso_C⁰ = 1\""
      ]
     },
     "metadata": {},
     "output_type": "display_data"
    },
    {
     "data": {
      "text/html": [
       "<div><div style = \"float: left;\"><span>10×2 DataFrame</span></div><div style = \"clear: both;\"></div></div><div class = \"data-frame\" style = \"overflow-x: scroll;\"><table class = \"data-frame\" style = \"margin-bottom: 6px;\"><thead><tr class = \"header\"><th class = \"rowNumber\" style = \"font-weight: bold; text-align: right;\">Row</th><th style = \"text-align: left;\">h</th><th style = \"text-align: left;\">erro</th></tr><tr class = \"subheader headerLastRow\"><th class = \"rowNumber\" style = \"font-weight: bold; text-align: right;\"></th><th title = \"Float64\" style = \"text-align: left;\">Float64</th><th title = \"Float64\" style = \"text-align: left;\">Float64</th></tr></thead><tbody><tr><td class = \"rowNumber\" style = \"font-weight: bold; text-align: right;\">1</td><td style = \"text-align: right;\">0.25</td><td style = \"text-align: right;\">0.0424997</td></tr><tr><td class = \"rowNumber\" style = \"font-weight: bold; text-align: right;\">2</td><td style = \"text-align: right;\">0.125</td><td style = \"text-align: right;\">0.0455017</td></tr><tr><td class = \"rowNumber\" style = \"font-weight: bold; text-align: right;\">3</td><td style = \"text-align: right;\">0.0625</td><td style = \"text-align: right;\">0.0463053</td></tr><tr><td class = \"rowNumber\" style = \"font-weight: bold; text-align: right;\">4</td><td style = \"text-align: right;\">0.03125</td><td style = \"text-align: right;\">0.0465209</td></tr><tr><td class = \"rowNumber\" style = \"font-weight: bold; text-align: right;\">5</td><td style = \"text-align: right;\">0.015625</td><td style = \"text-align: right;\">0.0465813</td></tr><tr><td class = \"rowNumber\" style = \"font-weight: bold; text-align: right;\">6</td><td style = \"text-align: right;\">0.0078125</td><td style = \"text-align: right;\">0.0465996</td></tr><tr><td class = \"rowNumber\" style = \"font-weight: bold; text-align: right;\">7</td><td style = \"text-align: right;\">0.00390625</td><td style = \"text-align: right;\">0.0466058</td></tr><tr><td class = \"rowNumber\" style = \"font-weight: bold; text-align: right;\">8</td><td style = \"text-align: right;\">0.00195312</td><td style = \"text-align: right;\">0.0466082</td></tr><tr><td class = \"rowNumber\" style = \"font-weight: bold; text-align: right;\">9</td><td style = \"text-align: right;\">0.000976562</td><td style = \"text-align: right;\">0.0466092</td></tr><tr><td class = \"rowNumber\" style = \"font-weight: bold; text-align: right;\">10</td><td style = \"text-align: right;\">0.000488281</td><td style = \"text-align: right;\">0.0466096</td></tr></tbody></table></div>"
      ],
      "text/latex": [
       "\\begin{tabular}{r|cc}\n",
       "\t& h & erro\\\\\n",
       "\t\\hline\n",
       "\t& Float64 & Float64\\\\\n",
       "\t\\hline\n",
       "\t1 & 0.25 & 0.0424997 \\\\\n",
       "\t2 & 0.125 & 0.0455017 \\\\\n",
       "\t3 & 0.0625 & 0.0463053 \\\\\n",
       "\t4 & 0.03125 & 0.0465209 \\\\\n",
       "\t5 & 0.015625 & 0.0465813 \\\\\n",
       "\t6 & 0.0078125 & 0.0465996 \\\\\n",
       "\t7 & 0.00390625 & 0.0466058 \\\\\n",
       "\t8 & 0.00195312 & 0.0466082 \\\\\n",
       "\t9 & 0.000976562 & 0.0466092 \\\\\n",
       "\t10 & 0.000488281 & 0.0466096 \\\\\n",
       "\\end{tabular}\n"
      ],
      "text/plain": [
       "\u001b[1m10×2 DataFrame\u001b[0m\n",
       "\u001b[1m Row \u001b[0m│\u001b[1m h           \u001b[0m\u001b[1m erro      \u001b[0m\n",
       "     │\u001b[90m Float64     \u001b[0m\u001b[90m Float64   \u001b[0m\n",
       "─────┼────────────────────────\n",
       "   1 │ 0.25         0.0424997\n",
       "   2 │ 0.125        0.0455017\n",
       "   3 │ 0.0625       0.0463053\n",
       "   4 │ 0.03125      0.0465209\n",
       "   5 │ 0.015625     0.0465813\n",
       "   6 │ 0.0078125    0.0465996\n",
       "   7 │ 0.00390625   0.0466058\n",
       "   8 │ 0.00195312   0.0466082\n",
       "   9 │ 0.000976562  0.0466092\n",
       "  10 │ 0.000488281  0.0466096"
      ]
     },
     "metadata": {},
     "output_type": "display_data"
    },
    {
     "name": "stdout",
     "output_type": "stream",
     "text": [
      " 18.337196 seconds (464.40 M allocations: 12.315 GiB, 11.36% gc time)\n"
     ]
    }
   ],
   "source": [
    "exemple = 1\n",
    "case = 1\n",
    "\n",
    "@time begin\n",
    "     vec_h, vec_errors = calcule_error(exemple, case)\n",
    "end\n",
    "\n",
    "show_error(vec_h, vec_errors, exemple, case)"
   ]
  }
 ],
 "metadata": {
  "kernelspec": {
   "display_name": "Julia 1.8.1",
   "language": "julia",
   "name": "julia-1.8"
  },
  "language_info": {
   "file_extension": ".jl",
   "mimetype": "application/julia",
   "name": "julia",
   "version": "1.8.1"
  }
 },
 "nbformat": 4,
 "nbformat_minor": 2
}
