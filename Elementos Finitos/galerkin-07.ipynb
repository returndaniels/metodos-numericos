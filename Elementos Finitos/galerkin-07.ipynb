{
 "cells": [
  {
   "cell_type": "markdown",
   "metadata": {},
   "source": [
    "## Definição da formulação forte"
   ]
  },
  {
   "cell_type": "markdown",
   "metadata": {},
   "source": [
    "Dada uma função $f:[0,1]\\rightarrow\\mathbb{R}$ e constantes reais $\\alpha>0$, $\\beta \\geq 0$, $T \\geq 0$ determine $u:[0,1] \\times [0,T]\\rightarrow\\mathbb{R}$ e $u_0:[0,1]\\rightarrow\\mathbb{R}$, tal que\n",
    "\n",
    "\\begin{align*}\n",
    "\\left\\{\n",
    "\\begin{aligned}\n",
    "&u_t(x,t)-\\alpha u_{xx}(x,t) + \\beta u(x,t) + g(u(x,t)) = f(x,t),&& \\forall (x,t)\\in]0,1[\\times[0,T],\n",
    "\\\\\n",
    "&u(0,t)=u(1,t)=0,                                    && \\forall t\\in[0,T],\n",
    "\\\\\n",
    "&u(x,0) = u_0(x),                                    && \\forall x\\in[0,1].                \n",
    "\\end{aligned}\\right.\n",
    "\\end{align*}"
   ]
  },
  {
   "cell_type": "markdown",
   "metadata": {},
   "source": [
    "## Definição da formulação fraca"
   ]
  },
  {
   "cell_type": "markdown",
   "metadata": {},
   "source": [
    "Dadas as constantes reais $\\alpha > 0$, $\\beta \\geq 0$ e $T > 0$, e as funções $f:[0,1]\\times[0,T]\\rightarrow\\mathbb{R}$ e $u_0:[0,1]\\rightarrow\\mathbb{R}$, determine $u(t)\\in V$, $t\\in[0,T]$, tal que\n",
    "\n",
    "\n",
    "\\begin{align*}\n",
    "\\left\\{\n",
    "\\begin{aligned}\n",
    "& \\int_0^1 u'(x,t)v(x) dx\n",
    "+ \\alpha \\int_0^1\\frac{\\partial u}{\\partial x}(x,t)\\frac{\\partial v}{\\partial x}(x)dx\n",
    "+ \\beta  \\int_0^1 u(x,t)v(x)dx\n",
    "+ \\int_0^1 g(u(x, t))v(x)dx\n",
    "= \\int_0^1f(x,t)v(x)dx,\n",
    "\\quad \\forall v\\in V,\n",
    "\\\\[8pt]\n",
    "& u(x,0) = u_0(x), \n",
    "\\quad x\\in]0,1[.\n",
    "\\end{aligned}\n",
    "\\right.\n",
    "\\end{align*}"
   ]
  },
  {
   "cell_type": "markdown",
   "metadata": {},
   "source": [
    "### Definição dos operadores da formulação fraca"
   ]
  },
  {
   "cell_type": "markdown",
   "metadata": {},
   "source": [
    "Para simplificar a escrita, vamos reescrever a equação acima utilizando dois operadores. O primeiro, é dado por\n",
    "\n",
    "\\begin{align*}\n",
    "\\kappa:V\\times V\\rightarrow\\mathbb{R},\\;(w,v)\\mapsto \\kappa(w,v)=\n",
    "  \\alpha \\int_0^1\\frac{d w}{d x}(x)\\frac{d v}{d x}(x)dx\n",
    "+ \\beta  \\int_0^1 w(x)v(x)dx.\n",
    "\\end{align*}\n",
    "\n",
    "Quanto ao segundo operador, considere\n",
    "\n",
    "\\begin{align*}\n",
    "\\big(w,v\\big) = \\int_0^1 w(x) v(x)dx.\n",
    "\\end{align*}\n",
    "\n",
    "Utilizando esses operadores, a formulação fraca pode ser reescrita como: Dadas as constantes reais $\\alpha>0$, $\\beta \\geq 0$, $T \\geq 0$ e as funções $f:[0,1]\\times[0,T]\\rightarrow\\mathbb{R}$ e $u_0:[0,1]\\rightarrow\\mathbb{R}$, determine $u(t)\\in V$, $t\\in[0,T]$, tal que\n",
    "\n",
    "\\begin{align*}\n",
    "\\left\\{\n",
    "\\begin{aligned}\n",
    "& \\big(u'(t),v\\big) + \\kappa(u(t),v) + (g(u(t)), v) = \\big(f(t),v\\big),\n",
    "\\quad \\forall v\\in V,\n",
    "\\\\[8pt]\n",
    "& u(0) = u_0.\n",
    "\\end{aligned}\n",
    "\\right.\n",
    "\\end{align*}"
   ]
  },
  {
   "cell_type": "markdown",
   "metadata": {},
   "source": [
    "# Problema totalmente discreto - via o método de Galerkin no espaço e Crank-Nicolson no tempo"
   ]
  },
  {
   "cell_type": "markdown",
   "metadata": {},
   "source": [
    "No espaço, já está definido $V_m$, o subespaço de dimensão finita de $V$, gerado pelas funções base $\\varphi_1,\\varphi_2,\\dots,\\varphi_m$.\n",
    "No tempo, precisamos estabelecer a discretização temporal para aplicar o método de diferenças finitas escolhido. \n",
    "Nesse sentido, seja $\\tau>0$ uma constante real positiva, e considere $0=t_0<t_1<\\dots<t_N\\leq T$ uma discretização unifome no intervalo $[0,T]$.\n",
    "Além disso, defina $t_{n-\\frac{1}{2}}=\\frac{t_n+t_{n-1}}{2}$ como o ponto médio do intervalo $[t_{n-1},t_n]$. \n",
    "A seguir, apresentamos a ilustração de uma partição do intervalo de tempo $[0,T]$."
   ]
  },
  {
   "cell_type": "markdown",
   "metadata": {},
   "source": [
    "Ssegue a definição do problema aproximado: Dadas as constantes reais $\\alpha > 0$, $\\beta \\geq 0$ e $T > 0$, e as funções $f:[0,1]\\times[0,T]\\rightarrow\\mathbb{R}$, $u_0^{}:[0,1]\\rightarrow\\mathbb{R}$ e $u_{0h}^{}\\in V_m$ uma aproximação para $u_0^{}$, determine $U^n\\in V_m=[\\varphi_1,\\varphi_2,\\dots,\\varphi_{m}]$, tal que\n",
    "\n",
    "\\begin{align*}\n",
    "\\left\\{\n",
    "\\begin{aligned}\n",
    "& \\Big(\\frac{U^n-U^{n-1}}{\\tau},v_h\\Big) + \\kappa\\Big(\\frac{U^n+U^{n-1}}{2},v_h\\Big) + \\Big(g\\Big(\\frac{U^n-U^{n-1}}{2}\\Big),v\\Big) = \\big(f(t_{n-\\frac{1}{2}}),v_h\\big),\n",
    "\\quad \\forall v_h\\in V_m,\\quad n=1,2,\\dots,N,\n",
    "\\\\[8pt]\n",
    "& U^0 = u_{0h}.\n",
    "\\end{aligned}\n",
    "\\right.\n",
    "\\end{align*}"
   ]
  },
  {
   "cell_type": "markdown",
   "metadata": {},
   "source": [
    "## Passo a passo para a definição do problema totalmente discreto"
   ]
  },
  {
   "cell_type": "markdown",
   "metadata": {},
   "source": [
    "* Passo 1. Considerar a formulação fraca no instante de tempo $t_{n-\\frac{1}{2}}$, ou seja,\n",
    "\\begin{align*}\n",
    "& \\big(u'(t_{n-\\frac{1}{2}}),v\\big) + \\kappa(u(t_{n-\\frac{1}{2}}),v) + g(u(t_{n-\\frac{1}{2}}),v) = \\big(f(t_{n-\\frac{1}{2}}),v\\big),\n",
    "\\quad \\forall v\\in V.\n",
    "\\end{align*}\n",
    "\n",
    "* Passo 2. Definir as diferenças finitas que serão utilizadas. \n",
    "Fazendo uso de expansões de Taylor apropriadas, obtemos: \n",
    "\\begin{align*}\n",
    "\\frac{u(t_n)-u(t_{n-1})}{\\tau}=u'(t_{n-\\frac{1}{2}}) +\\mathcal{O}(\\tau^2),\n",
    "\\quad\n",
    "\\frac{u(t_n)+u(t_{n-1})}{2}=u(t_{n-\\frac{1}{2}}) + \\mathcal{O}(\\tau^2)\n",
    "\\quad\\hbox{e}\\quad\n",
    "\\frac{3u(t_{n-1})-u(t_{n-2})}{2}=u(t_{n-\\frac{1}{2}}) + \\mathcal{O}(\\tau^2)\n",
    "\\end{align*}\n",
    "\n",
    "* Passo 3. Utilizar as diferenças finitas na formulação fraca.\n",
    "Subtituindo $u'(t_{n-\\frac{1}{2}})$ e $u(t_{n-\\frac{1}{2}})$ na formulação fraca pelas diferenças finitas acima, temos que\n",
    "\\begin{align*}\n",
    "& \\big(\\frac{u(t_n)-u(t_{n-1})}{\\tau},v\\big) + \\kappa(\\frac{u(t_n)+u(t_{n-1})}{2},v) + g(\\frac{3u(t_{n-1})-u(t_{n-2})}{2},v) \\approx \\big(f(t_{n-\\frac{1}{2}}),v\\big),\n",
    "\\quad \\forall v\\in V.\n",
    "\\end{align*}\n",
    "\n",
    "* Passo 4. Definir o problema aproximado.\n",
    "O problema aproximado consiste em buscar uma função em $V_m$ que satisfaça a igualdade, em vez da aproximação definida no passo 3, ou seja, buscar por uma função $U^n\\in V_m$ tal que\n",
    "\\begin{align*}\n",
    "& \\big(\\frac{U^n-U^{n-1}}{\\tau},v\\big) + \\kappa(\\frac{U^n+U^{n-1}}{2},v)  + \\big(g(\\frac{3U^{n-1}-U^{n-2}}{2},v)\\big) = \\big(f(t_{n-\\frac{1}{2}}),v\\big),\n",
    "\\quad \\forall v\\in V_m.\n",
    "\\end{align*}\n"
   ]
  },
  {
   "cell_type": "markdown",
   "metadata": {},
   "source": [
    "## Formulação matricial"
   ]
  },
  {
   "cell_type": "markdown",
   "metadata": {},
   "source": [
    "### Definição da matriz $C$"
   ]
  },
  {
   "cell_type": "markdown",
   "metadata": {},
   "source": [
    "\\begin{align*}\n",
    "C = \n",
    "\\left\\{\n",
    "\\begin{aligned}\n",
    "& C^0, n=1, \\text{parte 1}\n",
    "\\\\[10pt]\n",
    "& \\frac{\\~{}C^1 + C^0}{2}, n=1, \\text{parte 2}\n",
    "\\\\\n",
    "& \\frac{3C^{n-1} - C^{n-2}}{2}, n \\geq 2\n",
    "\\end{aligned}\\right.\n",
    "\\end{align*}"
   ]
  },
  {
   "cell_type": "markdown",
   "metadata": {},
   "source": [
    "### Definição da $G_i(c)$"
   ]
  },
  {
   "cell_type": "markdown",
   "metadata": {},
   "source": [
    "\\begin{align*}\n",
    "G_i(C) = \\int_0^1 g(\\Sigma_{j=1}^m C_{j}\\varphi_{j})\\varphi_{i}dx\n",
    "\\end{align*}"
   ]
  },
  {
   "cell_type": "markdown",
   "metadata": {},
   "source": [
    "\n",
    "\\begin{align*}\n",
    "G_a^e(C) = \\int_{x_1^e}^{x_2^e} g(C\\varphi_{1}^e(x) + C\\varphi_{2}^e(x))\\varphi_{a}^e(x)dx\n",
    "\\end{align*}"
   ]
  },
  {
   "cell_type": "markdown",
   "metadata": {},
   "source": [
    "Tomando $\\displaystyle U^n(x) = \\sum_{j=1}^{m} C_j^{n}\\varphi_j(x)$ e $v_h=\\varphi_i$, para $i=1,2,\\dots,m$, temos o seguinte sistema:\n",
    "\n",
    "\\begin{align*}\n",
    "\\left\\{\n",
    "\\begin{aligned}\n",
    "& \\Big(\\frac{\\sum_{j=1}^{m}(C_j^n-C_j^{n-1})\\varphi_j}{\\tau},\\varphi_1\\Big) + \\kappa\\Big(\\frac{\\sum_{j=1}^{m}(C_j^n+C_j^{n-1})\\varphi_j}{2},\\varphi_1\\Big) + g\\Big(\\frac{\\sum_{j=1}^{m}(C_j^{n-1}+C_j^{n-2})\\varphi_j}{2},\\varphi_1\\Big) = \\big(f(t_{n-\\frac{1}{2}}),\\varphi_1\\big), \n",
    "\\\\[10pt]\n",
    "& \\Big(\\frac{\\sum_{j=1}^{m}(C_j^n-C_j^{n-1})\\varphi_j}{\\tau},\\varphi_2\\Big) + \\kappa\\Big(\\frac{\\sum_{j=1}^{m}(C_j^n+C_j^{n-1})\\varphi_j}{2},\\varphi_2\\Big) + g\\Big(\\frac{\\sum_{j=1}^{m}(C_j^{n-1}+C_j^{n-2})\\varphi_j}{2},\\varphi_2\\Big) = \\big(f(t_{n-\\frac{1}{2}}),\\varphi_2\\big), \n",
    "\\\\\n",
    "& \\vdots\n",
    "\\\\\n",
    "& \\Big(\\frac{\\sum_{j=1}^{m}(C_j^n-C_j^{n-1})\\varphi_j}{\\tau},\\varphi_m\\Big) + \\kappa\\Big(\\frac{\\sum_{j=1}^{m}(C_j^n+C_j^{n-1})\\varphi_j}{2},\\varphi_m\\Big) + g\\Big(\\frac{\\sum_{j=1}^{m}(C_j^{n-1}+C_j^{n-n})\\varphi_j}{2},\\varphi_m\\Big) = \\big(f(t_{n-\\frac{1}{2}}),\\varphi_m\\big).\n",
    "\\end{aligned}\\right.\n",
    "\\end{align*}\n",
    "\n",
    "Com isso, dado que os operadores $\\kappa$ e $\\big(\\cdot,\\cdot\\big)$ são lineares em cada componente, temos:\n",
    "\n",
    "\\begin{align*}\n",
    "\\left\\{\n",
    "\\begin{aligned}\n",
    "& \n",
    "      \\big(\\varphi_1,\\varphi_1\\big)\\frac{C_1^n-C_1^{n-1}}{\\tau}+      \\big(\\varphi_2,\\varphi_1\\big)\\frac{C_2^n-C_2^{n-1}}{\\tau} + \\dots +       \\big(\\varphi_m,\\varphi_1\\big)\\frac{C_m^n-C_m^{n-1}}{\\tau}\n",
    "\\quad+\\quad\n",
    "\\kappa\\big(\\varphi_1,\\varphi_1\\big)\\frac{C_1^n+C_1^{n-1}}{2   }+\\kappa\\big(\\varphi_2,\\varphi_1\\big)\\frac{C_2^n+C_2^{n-1}}{2   } + \\dots + \\kappa\\big(\\varphi_m,\\varphi_1\\big)\\frac{C_m^n+C_m^{n-1}}{2   } + g\\big(\\varphi_2,\\varphi_1\\big)\\frac{3C_2^{n-1}+C_2^{n-2}}{2   } + \\dots + g\\big(\\varphi_m,\\varphi_1\\big)\\frac{3C_m^{n-1}+C_m^{n-2}}{2   } \n",
    "= \\big(f(t_{n-\\frac{1}{2}}),\\varphi_1\\big), \n",
    "\\\\[10pt]\n",
    "&\n",
    "      \\big(\\varphi_1,\\varphi_2\\big)\\frac{C_1^n-C_1^{n-1}}{\\tau}+      \\big(\\varphi_2,\\varphi_2\\big)\\frac{C_2^n-C_2^{n-1}}{\\tau} + \\dots +       \\big(\\varphi_m,\\varphi_2\\big)\\frac{C_m^n-C_m^{n-1}}{\\tau}\n",
    "\\quad+\\quad\n",
    "\\kappa\\big(\\varphi_1,\\varphi_2\\big)\\frac{C_1^n+C_1^{n-1}}{2   }+\\kappa\\big(\\varphi_2,\\varphi_2\\big)\\frac{C_2^n+C_2^{n-1}}{2   } + \\dots + \\kappa\\big(\\varphi_m,\\varphi_2\\big)\\frac{C_m^n+C_m^{n-1}}{2   } + g\\big(\\varphi_2,\\varphi_2\\big)\\frac{3C_2^{n-1}+C_2^{n-2}}{2   } + \\dots + g\\big(\\varphi_m,\\varphi_2\\big)\\frac{3C_m^{n-1}+C_m^{n-2}}{2   } \n",
    "= \\big(f(t_{n-\\frac{1}{2}}),\\varphi_2\\big), \n",
    "\\\\\n",
    "& \\vdots\n",
    "\\\\\n",
    "& \n",
    "      \\big(\\varphi_1,\\varphi_m\\big)\\frac{C_1^n-C_1^{n-1}}{\\tau}+      \\big(\\varphi_2,\\varphi_m\\big)\\frac{C_2^n-C_2^{n-1}}{\\tau} + \\dots +       \\big(\\varphi_m,\\varphi_m\\big)\\frac{C_m^n-C_m^{n-1}}{\\tau}\n",
    "\\quad+\\quad\n",
    "\\kappa\\big(\\varphi_1,\\varphi_m\\big)\\frac{C_1^n+C_1^{n-1}}{2   }+\\kappa\\big(\\varphi_2,\\varphi_m\\big)\\frac{C_2^n+C_2^{n-1}}{2   } + \\dots + \\kappa\\big(\\varphi_m,\\varphi_m\\big)\\frac{C_m^n+C_m^{n-1}}{2   } +g\\big(\\varphi_2,\\varphi_m\\big)\\frac{3C_2^{n-1}+C_2^{n-2}}{2   } + \\dots + g\\big(\\varphi_m,\\varphi_m\\big)\\frac{3C_m^{n-1}+C_m^{n-2}}{2   } \n",
    "= \\big(f(t_{n-\\frac{1}{2}}),\\varphi_m\\big), .\n",
    "\\end{aligned}\\right.\n",
    "\\end{align*}\n",
    "\n",
    "\n",
    "Note que esse sistema pode ser reescrito na seguinte forma matricial:\n",
    "\n",
    "\\begin{align*}\n",
    "\\begin{bmatrix}\n",
    "\\big(\\varphi_1,\\varphi_1\\big)&\\big(\\varphi_2,\\varphi_1\\big)&\\dots&\\big(\\varphi_m,\\varphi_1\\big)\n",
    "\\\\[10pt]\n",
    "\\big(\\varphi_1,\\varphi_2\\big)&\\big(\\varphi_2,\\varphi_2\\big)&\\dots&\\big(\\varphi_m,\\varphi_2\\big)\n",
    "\\\\\n",
    "\\vdots&\\vdots&\\ddots& \\vdots  \n",
    "\\\\\n",
    "\\big(\\varphi_1,\\varphi_m\\big)&\\big(\\varphi_2,\\varphi_m\\big)&\\dots&\\big(\\varphi_m,\\varphi_m\\big)\n",
    "\\end{bmatrix}\n",
    "\\frac{C^n-C^{n-1}}{\\tau}\n",
    "\\quad+\\quad\n",
    "\\begin{bmatrix}\n",
    "\\kappa\\big(\\varphi_1,\\varphi_1\\big)&\\kappa\\big(\\varphi_2,\\varphi_1\\big)&\\dots&\\kappa\\big(\\varphi_m,\\varphi_1\\big)\n",
    "\\\\[10pt]\n",
    "\\kappa\\big(\\varphi_1,\\varphi_2\\big)&\\kappa\\big(\\varphi_2,\\varphi_2\\big)&\\dots&\\kappa\\big(\\varphi_m,\\varphi_2\\big)\n",
    "\\\\\n",
    "\\vdots&\\vdots&\\ddots& \\vdots  \n",
    "\\\\\n",
    "\\kappa\\big(\\varphi_1,\\varphi_m\\big)&\\kappa\\big(\\varphi_2,\\varphi_m\\big)&\\dots&\\kappa\\big(\\varphi_m,\\varphi_m\\big)\n",
    "\\end{bmatrix}\n",
    "\\frac{C^n+C^{n-1}}{2   }\n",
    "\\quad+\\quad\n",
    "\\begin{align*}\n",
    "\\begin{bmatrix}\n",
    "g\\big(\\varphi_1,\\varphi_1\\big)& g\\big(\\varphi_2,\\varphi_1\\big)&\\dots& g\\big(\\varphi_m,\\varphi_1\\big)\n",
    "\\\\[10pt]\n",
    "g\\big(\\varphi_1,\\varphi_2\\big)& g\\big(\\varphi_2,\\varphi_2\\big)&\\dots& g\\big(\\varphi_m,\\varphi_2\\big)\n",
    "\\\\\n",
    "\\vdots&\\vdots&\\ddots& \\vdots  \n",
    "\\\\\n",
    "g\\big(\\varphi_1,\\varphi_m\\big)& g\\big(\\varphi_2,\\varphi_m\\big)&\\dots& g\\big(\\varphi_m,\\varphi_m\\big)\n",
    "\\end{bmatrix}\n",
    "\\frac{3C^{n-1}+C^{n-2}}{2}\n",
    "\\end{align*}\n",
    "=\n",
    "\\begin{bmatrix}\n",
    "\\big(f(t_{n-\\frac{1}{2}}),\\varphi_1\\big)\\\\[10pt]\n",
    "\\big(f(t_{n-\\frac{1}{2}}),\\varphi_2\\big)\\\\\n",
    "\\vdots\\\\\n",
    "\\big(f(t_{n-\\frac{1}{2}}),\\varphi_m\\big)\\\\\n",
    "\\end{bmatrix}.\n",
    "\\end{align*}"
   ]
  },
  {
   "cell_type": "markdown",
   "metadata": {},
   "source": [
    "Por fim, definindo \n",
    "\n",
    "\\begin{align*}\n",
    "M_{i,j} = (\\varphi_j,\\varphi_i),\n",
    "\\quad\n",
    "K_{i,j} = \\kappa(\\varphi_j,\\varphi_i)\n",
    "\\quad\\text{e}\\quad\n",
    "F_i^{n-\\frac{1}{2}} = \\big(f(t_{n-\\frac{1}{2}}),\\varphi_i\\big), \n",
    "\\quad\\text{com}\\quad\n",
    "i,j\\in\\{1,2,3,\\dots,m\\},\n",
    "\\end{align*}\n",
    "\n",
    "obtemos a formulação matriz-vetor do problema aproximado, que consiste em determinar $C^n\\in\\mathbb{R}^m$ tal que\n",
    "\\begin{align*}\n",
    "\\left\\{\n",
    "\\begin{aligned}\n",
    "& M\\frac{C^n-C^{n-1}}{\\tau}\n",
    "+K\\frac{C^n+C^{n-1}}{2}\n",
    "+G(\\frac{3C^{n-1}-C^{n-2}}{2})=F^{n-\\frac{1}{2}},\n",
    "\\quad n=1,2,\\dots,N,\n",
    "\\\\\n",
    "& C^0=???.\n",
    "\\end{aligned}\n",
    "\\right.\n",
    "\\end{align*}"
   ]
  },
  {
   "cell_type": "markdown",
   "metadata": {},
   "source": [
    "## Aproximação de $u_0$: exemplos de escolhas de $U^0 \\in V_m$"
   ]
  },
  {
   "cell_type": "markdown",
   "metadata": {},
   "source": [
    "Qualquer função $U^0 \\in V_m$ que esteja suficientemente próxima de $u_0$ é uma escolha viável. \n",
    "O quão próxima ela deve estar, e em qual norma essa distância é medida, só fica claro quando realizamos a demonstração da estimativa de erro entre a solução aproximada e a solução exata.\n",
    "Não vamos entrar nesses detalhes aqui. \n",
    "Contudo, a escolha que apresentaremos a seguir usualmente satisfaz tais condições."
   ]
  },
  {
   "cell_type": "markdown",
   "metadata": {},
   "source": [
    "### Tomando $U^0$ como a interpolante de $u_0$ - se a base satisfaz a propriedade $\\varphi_j(x_i) = \\delta_{i,j}$"
   ]
  },
  {
   "cell_type": "markdown",
   "metadata": {},
   "source": [
    "Quando a base satisfaz a propriedade $\\varphi_j(x_i) = \\delta_{i,j}$, onde $x_i$ é um nó da malha espacial, temos que \n",
    "$$\n",
    "U^0(x_i) = \\sum_{j=1}^m C_j^0 \\varphi_j(x_i) = C_i^0.\n",
    "$$\n",
    "\n",
    "Consequentemente, para esse tipo de base, se tomarmos $C_i^0$ como $u_0(x_i)$, então $U^0$ interpola $u_0$.\n",
    "Assim sendo, nesse caso, vamos definir\n",
    "$$\n",
    "C^0 =\n",
    "\\begin{bmatrix}\n",
    "u_0(x_1)\\\\\n",
    "u_0(x_2)\\\\\n",
    "\\vdots\\\\\n",
    "u_0(x_m)\n",
    "\\end{bmatrix}.\n",
    "$$"
   ]
  },
  {
   "cell_type": "code",
   "execution_count": 379,
   "metadata": {},
   "outputs": [],
   "source": [
    "using LinearAlgebra\n",
    "using Plots\n",
    "using GaussQuadrature\n",
    "using DataFrames\n",
    "using SparseArrays"
   ]
  },
  {
   "cell_type": "markdown",
   "metadata": {},
   "source": [
    "### Exemplos de solução exata para o problema acima:\n"
   ]
  },
  {
   "cell_type": "code",
   "execution_count": 380,
   "metadata": {},
   "outputs": [
    {
     "data": {
      "text/plain": [
       "dados_de_entrada"
      ]
     },
     "metadata": {},
     "output_type": "display_data"
    }
   ],
   "source": [
    "function exemplo1()\n",
    "    T = 1.0\n",
    "    α = 1.0\n",
    "    β = 1.0\n",
    "    u₀(x) = sin(π * x) / π^2\n",
    "    u(x, t) = sin(π * x) * (exp(-t) / π^2)\n",
    "    g(s) = s^3 - 2*s\n",
    "    f(x, t) = ((-1 + α * π^2 + β) * sin(π * x) / (π^2))*exp(-t) + g(u(x, t))\n",
    "    return T, α, β, f, u₀, u, g\n",
    "end\n",
    "\n",
    "function exemplo2()\n",
    "    T = 1.0\n",
    "    α = 1.0\n",
    "    β = 1.0\n",
    "    u₀(x) = sin(π * x) / π^2\n",
    "    g(s) = s^3 - 2*s\n",
    "    f(x, t) = 0\n",
    "    return T, α, β, f, u₀, g\n",
    "end\n",
    "\n",
    "\"Retorna os valores de `T`, `α`, `β`, `f`, `u₀`, `u` e `g` de acordo com o exemplo escolhido.\"\n",
    "function dados_de_entrada(exemplo::Int)\n",
    "    if exemplo == 1\n",
    "        return exemplo1()\n",
    "    elseif exemplo == 2\n",
    "        return exemplo2()\n",
    "    else\n",
    "        error(\"Exemplo inválido. Escolha 1 ou 2.\")\n",
    "    end\n",
    "end"
   ]
  },
  {
   "cell_type": "code",
   "execution_count": 381,
   "metadata": {},
   "outputs": [
    {
     "data": {
      "text/plain": [
       "d_phi (generic function with 1 method)"
      ]
     },
     "metadata": {},
     "output_type": "display_data"
    }
   ],
   "source": [
    "\"\"\"\n",
    "Mapeia um ponto `psi` do intervalo padrão `[-1, 1]` para o intervalo físico\n",
    "\"\"\"\n",
    "function X(psi::Float64, h::Float64, x1e::Float64)\n",
    "    return (psi + 1.0) * h / 2.0 + x1e\n",
    "end\n",
    "\n",
    "function phi(psi::Float64, a::Int)\n",
    "    if a == 1\n",
    "        return (1.0 - psi) / 2.0\n",
    "    elseif a == 2\n",
    "        return (1.0 + psi) / 2.0\n",
    "    else\n",
    "        error(\"a deve ser 1 ou 2.\")\n",
    "    end\n",
    "end\n",
    "\n",
    "function d_phi(psi::Float64, a::Int)\n",
    "    if a == 1\n",
    "        return -1.0 / 2.0\n",
    "    elseif a == 2\n",
    "        return 1.0 / 2.0\n",
    "    else\n",
    "        error(\"a deve ser 1 ou 2.\")\n",
    "    end\n",
    "end\n",
    "\n"
   ]
  },
  {
   "cell_type": "markdown",
   "metadata": {},
   "source": [
    "## Calculo das matrizes LG e EQ a partir do número de elementos\n",
    "\n",
    "A matriz $LG$ armazena a correspondência entre a nomenclatura local e global de cada elemento finito. Assim, ela possui $n_e$ colunas, cada uma relativa a um elemento finito.\n",
    "\n",
    "\\begin{align*}\n",
    "LG(a,e) = \n",
    "\\begin{cases}\n",
    "e,&\\quad\\text{se } a=1,\n",
    "\\\\ \n",
    "e+1,&\\quad\\text{se } a=2.\n",
    "\\end{cases}\n",
    "\\end{align*}\n",
    "\n",
    "Dessa forma, a matriz $LG$ é dada por\n",
    "\\begin{align*}\n",
    "LG = \n",
    "\\begin{bmatrix}\n",
    "1 & 2 & \\dots & e-1 & e   & \\dots & n_e  \\\\\n",
    "2 & 3 & \\dots & e   & e+1 & \\dots & n_e+1\\\\\n",
    "\\end{bmatrix}_{2\\times n_e}.\n",
    "\\end{align*}\n",
    "\n",
    " Cada entrada do vetor $EQ$ possui a nova numeração de uma função global. Portanto, o tamanho do vetor $EQ$\n",
    " é dado pelo número de funções globais, ou seja, $n_e + 1$.\n",
    "\n",
    "\\begin{align*}\n",
    "EQ = \n",
    "\\begin{bmatrix}\n",
    "m+1 & 1 & 2 &\\dots & m & m+1 \n",
    "\\end{bmatrix}_{(n_e+1)}\n",
    "\\end{align*}"
   ]
  },
  {
   "cell_type": "code",
   "execution_count": 382,
   "metadata": {},
   "outputs": [
    {
     "data": {
      "text/plain": [
       "make_EQ (generic function with 1 method)"
      ]
     },
     "metadata": {},
     "output_type": "display_data"
    }
   ],
   "source": [
    "function make_LG(ne::Int) :: Matrix{Int}\n",
    "    return transpose(hcat(1:ne, 2:ne+1))\n",
    "end\n",
    "\n",
    "function make_EQ(ne::Int) :: Tuple{Int,Vector{Int}}\n",
    "    m = ne - 1         \n",
    "    EQ = vcat(m+1,1:m,m+1)\n",
    "    return m, EQ\n",
    "end"
   ]
  },
  {
   "cell_type": "markdown",
   "metadata": {},
   "source": [
    "### Cálculo da matriz local $K^e$ - via quadratura gaussia"
   ]
  },
  {
   "cell_type": "markdown",
   "metadata": {},
   "source": [
    "\\begin{align*}\n",
    "K^e_{a,b} \n",
    " = \n",
    "  \\alpha \\int_{x_{1}^e}^{x_2^e}\\frac{d\\varphi_b^e}{dx}(x)\\frac{d\\varphi_a^e}{dx}(x)dx\n",
    "+ \\beta  \\int_{x_{1}^e}^{x_2^e}\\varphi_b^e(x)\\varphi_a^e(x)dx\n",
    " =\n",
    "\\frac{2\\alpha}{h} \\int_{-1}^{1}\n",
    "\\frac{d\\phi_b}{d\\xi}(\\xi)\\frac{d\\phi_a}{d\\xi}(\\xi)d\\xi\n",
    "+ \\frac{\\beta h}{2}  \\int_{-1}^{1}\n",
    "\\phi_b(\\xi)\\phi_a(\\xi) d\\xi\n",
    "=\n",
    "\\frac{2\\alpha}{h} \\sum_{j=1}^{n_{pg}} W_j \\frac{d\\phi_b}{d\\xi}(P_j)\\frac{d\\phi_a}{d\\xi}(P_j)\n",
    "+ \\frac{\\beta h}{2} \\sum_{j=1}^{n_{pg}} W_j \\phi_b(P_j)\\phi_a(P_j)\n",
    "\\end{align*}"
   ]
  },
  {
   "cell_type": "code",
   "execution_count": 383,
   "metadata": {},
   "outputs": [
    {
     "data": {
      "text/plain": [
       "make_Ke (generic function with 2 methods)"
      ]
     },
     "metadata": {},
     "output_type": "display_data"
    }
   ],
   "source": [
    "\n",
    "function make_Ke(alfa::Float64, beta::Float64, h::Float64, npg::Int=2)\n",
    "    P, W = legendre(npg)\n",
    "    K = zeros(2, 2)\n",
    "    c1 = 2*alfa/h\n",
    "    c2 = beta*h/2\n",
    "\n",
    "    for a in 1:2\n",
    "        for b in 1:2\n",
    "            for j in 1:npg\n",
    "                K[a, b] += W[j] * (d_phi(P[j], a) * d_phi(P[j], b) * c1 + phi(P[j], a) * phi(P[j], b) * c2)\n",
    "            end\n",
    "        end\n",
    "    end\n",
    "\n",
    "    return K\n",
    "end"
   ]
  },
  {
   "cell_type": "markdown",
   "metadata": {},
   "source": [
    "### Montagem da matriz global K a partir da matriz local $K^e$"
   ]
  },
  {
   "cell_type": "code",
   "execution_count": 384,
   "metadata": {},
   "outputs": [
    {
     "data": {
      "text/plain": [
       "make_K (generic function with 1 method)"
      ]
     },
     "metadata": {},
     "output_type": "display_data"
    }
   ],
   "source": [
    "function make_K(alfa::Float64, beta::Float64, ne::Int, m::Int, EQoLG::Matrix{Int})\n",
    "    h = 1.0 / ne\n",
    "    K = spzeros(m+1, m+1)\n",
    "    Ke = make_Ke(alfa, beta, h)\n",
    "\n",
    "    for e in 1:ne\n",
    "        for a in 1:2\n",
    "            i = EQoLG[a, e]\n",
    "            for b in 1:2\n",
    "                K[i, EQoLG[b, e]] += Ke[a, b]\n",
    "            end\n",
    "        end\n",
    "    end\n",
    "\n",
    "    return K[1:m, 1:m]\n",
    "end"
   ]
  },
  {
   "cell_type": "markdown",
   "metadata": {},
   "source": [
    "### Cálculo do vetor local $F^e$ - via quadratura gaussiana"
   ]
  },
  {
   "cell_type": "markdown",
   "metadata": {},
   "source": [
    "\\begin{align*}\n",
    "F_a^e \n",
    " = \n",
    "\\int_{x_1^e}^{x_2^e}f(x)\\varphi_a^e(x)dx\n",
    " =\n",
    "\\frac{h}{2} \\int_{-1}^{1}f\\big(x(\\xi,e)\\big)\\phi_a(\\xi)d\\xi\n",
    " \\approx\n",
    "\\frac{h}{2} \\sum_{j=1}^{n_{pg}} W_j f\\big(x(P_j,e)\\big)\\phi_a(P_j).\n",
    "\\end{align*}"
   ]
  },
  {
   "cell_type": "code",
   "execution_count": 385,
   "metadata": {},
   "outputs": [
    {
     "data": {
      "text/plain": [
       "make_Fe (generic function with 2 methods)"
      ]
     },
     "metadata": {},
     "output_type": "display_data"
    }
   ],
   "source": [
    "function make_Fe(f::Function, h::Float64, xle::Float64, P::Vector{Float64}, W::Vector{Float64}, npg::Int=5)\n",
    "    Fe = zeros(2)     \n",
    "    for a in 1:2\n",
    "        for j = 1:npg\n",
    "            x = X(P[j], h, xle)\n",
    "            Fe[a] += W[j] * f(x) * phi(P[j], a) * h/2\n",
    "        end\n",
    "    end\n",
    "    \n",
    "    return Fe\n",
    "end"
   ]
  },
  {
   "cell_type": "markdown",
   "metadata": {},
   "source": [
    "### Montagem do vetor global F a partir do vetor local $F^e$\n"
   ]
  },
  {
   "cell_type": "code",
   "execution_count": 386,
   "metadata": {},
   "outputs": [
    {
     "data": {
      "text/plain": [
       "make_F (generic function with 2 methods)"
      ]
     },
     "metadata": {},
     "output_type": "display_data"
    }
   ],
   "source": [
    "function make_F(f::Function, ne::Int, m::Int, EQoLG::Matrix{Int}, npg::Int=5)\n",
    "    h = 1.0 / ne\n",
    "    F = zeros(m + 1)\n",
    "    P, W = legendre(npg)\n",
    "    \n",
    "    for e in 1:ne\n",
    "        Fe = make_Fe(f, h, (e-1)*h, P, W, npg)\n",
    "        for a = 1:2\n",
    "            F[EQoLG[a, e]] += Fe[a]\n",
    "        end\n",
    "    end\n",
    "    \n",
    "    return F[1:m]\n",
    "end"
   ]
  },
  {
   "cell_type": "markdown",
   "metadata": {},
   "source": [
    "### Montagem do vetor local $Ge$"
   ]
  },
  {
   "cell_type": "markdown",
   "metadata": {},
   "source": [
    "\n",
    "\\begin{align*}\n",
    "G_a^e(C) = \\int_{x_1^e}^{x_2^e} g(C\\varphi_{1}^e(x) + C\\varphi_{2}^e(x))\\varphi_{a}^e(x)dx\n",
    "\\end{align*}"
   ]
  },
  {
   "cell_type": "code",
   "execution_count": 387,
   "metadata": {},
   "outputs": [
    {
     "data": {
      "text/plain": [
       "make_Ge (generic function with 2 methods)"
      ]
     },
     "metadata": {},
     "output_type": "display_data"
    }
   ],
   "source": [
    "function make_Ge(C_ext::Vector{Float64}, g::Function, EQoLG::Matrix{Int}, e::Int, h::Float64, X::Vector{Float64}, W::Vector{Float64})\n",
    "    Ge = zeros(2)\n",
    "\n",
    "    Ce_phi = C_ext[EQoLG[1, e]] * phi.(X, 1) .+ C_ext[EQoLG[2, e]] * phi.(X, 2)\n",
    "    g_Ce_phi = g.(Ce_phi)\n",
    "\n",
    "    # Cálculo de Ge para o elemento e\n",
    "    Ge[1] = dot(W, g_Ce_phi .* phi.(X, 1)) * h / 2\n",
    "    Ge[2] = dot(W, g_Ce_phi .* phi.(X, 2)) * h / 2\n",
    "\n",
    "    return Ge\n",
    "end\n"
   ]
  },
  {
   "cell_type": "markdown",
   "metadata": {},
   "source": [
    "### Montagem do vetor global $G$"
   ]
  },
  {
   "cell_type": "code",
   "execution_count": 388,
   "metadata": {},
   "outputs": [
    {
     "data": {
      "text/plain": [
       "make_G (generic function with 4 methods)"
      ]
     },
     "metadata": {},
     "output_type": "display_data"
    }
   ],
   "source": [
    "function make_G(C::Vector{Float64}, g::Function, ne::Int, m::Int, EQoLG::Matrix{Int}, npg::Int=5)\n",
    "    h = 1.0 / ne\n",
    "    X, W = legendre(npg)\n",
    "    G = zeros(ne)\n",
    "    \n",
    "    C_ext = [C; 0]\n",
    "\n",
    "    for e in 1:ne\n",
    "        # Chamada à função make_Ge para obter o vetor local Ge\n",
    "        Ge = make_Ge(C_ext, g, EQoLG, e, h, X, W)\n",
    "        \n",
    "        # Soma ao vetor global G\n",
    "        for a in 1:2\n",
    "            i = EQoLG[a, e]\n",
    "            G[i] += Ge[a]\n",
    "        end\n",
    "    end\n",
    "    \n",
    "    return G[1:(ne-1)]\n",
    "end\n"
   ]
  },
  {
   "cell_type": "markdown",
   "metadata": {},
   "source": [
    "## Cálculo do erro no tempo $t_n$"
   ]
  },
  {
   "cell_type": "markdown",
   "metadata": {},
   "source": [
    "O erro na norma do espaço $L^2(]0,1[)$ entre a solução exata $u(x,t_n)$ e a solução aproximada $U^n(x)$, definida por $\\displaystyle U^n(x) = \\sum_{j=1}^m C_j^n\\varphi_j(x)$, é dado por \n",
    "$\\displaystyle\\|u(t_n)-U^n\\|=\\sqrt{\\int_0^1|u(x,t_n)-U^n(x)|^2dx}$.\n",
    "\n",
    "Dessa forma, denotando $\\mathcal{E}_h^n=\\|u(t_n)-U^n\\|$ e $\\bar{C}^n=[C^n;0]$, temos que:\n",
    "\n",
    "\\begin{align*}\n",
    "(\\mathcal{E}_h^n)^2 \n",
    "\\approx\n",
    "\\frac{h}{2} \\sum_{e=1}^{n_e} \\sum_{j=1}^{n_{pg}} \n",
    "W_j|u\\big(x(P_j,e),t_n\\big) - \\bar{C}_{EQoLG(1,e)}^n\\phi_1(P_j) - \\bar{C}_{EQoLG(2,e)}^n\\phi_2(P_j) |^2.\n",
    "\\end{align*}"
   ]
  },
  {
   "cell_type": "code",
   "execution_count": 389,
   "metadata": {},
   "outputs": [
    {
     "data": {
      "text/plain": [
       "erro_norma_L2"
      ]
     },
     "metadata": {},
     "output_type": "display_data"
    }
   ],
   "source": [
    "@doc raw\"\"\"\n",
    "Calcula a norma L² da diferença entre duas funções, `z(x)` e `Z(x)`, \n",
    "onde `Z(x)` pertence ao espaço aproximado `Vₘ`, sendo expressa como `Z(x) = Σ_{j=1}^{m} C_j φ_j(x)`. \n",
    "A integral da diferença é aproximada em cada elemento finito por meio da quadratura de Gauss-Legendre.\n",
    "\n",
    "# Parâmetros:\n",
    "- `z::Function`: Função `z(x)` que representa a solução exata no domínio.\n",
    "- `coeff::Vector{Float64}`: Vetor de coeficientes estendido, `C̄ = [C; 0]`, onde `C` é o vetor de coeficientes que define a função aproximada `Z(x)`.\n",
    "- `ne::Int`: Número total de elementos (ou intervalos) em que o domínio `[0,1]` é dividido.\n",
    "- `EQoLG::Matrix{Int}`: ≡ EQ[LG].\n",
    "\n",
    "# Retorno:\n",
    "- `Float64`: O valor do erro calculado na norma L² entre `z(x)` e a aproximação `Z(x)`.\n",
    "\"\"\"\n",
    "function erro_norma_L2(z::Function, coeff::Vector{Float64}, ne::Int, EQoLG::Matrix{Int})::Float64\n",
    "    h = 1.0 / ne       # Comprimento de cada elemento finito\n",
    "    erro = 0.0         # Inicializa o erro\n",
    "    P, W = legendre(5) # Pontos e pesos da quadratura de Gauss-Legendre (5 pontos)\n",
    "\n",
    "    # Calcula as funções de base ϕ₁ e ϕ₂ nos pontos de quadratura P\n",
    "    phi_1P = phi.(P, 1)\n",
    "    phi_2P = phi.(P, 2)\n",
    "\n",
    "    # Loop sobre todos os elementos finitos\n",
    "    for e = 1:ne\n",
    "        # Coeficientes da solução aproximada para o elemento `e`\n",
    "        c1e = coeff[EQoLG[1, e]]\n",
    "        c2e = coeff[EQoLG[2, e]]\n",
    "\n",
    "        # Loop sobre os pontos de quadratura\n",
    "        for j = 1:length(P)\n",
    "            x = X(P[j], h, (e - 1) * h) # Mapeia o ponto de quadratura `P[j]` de [-1,1] para [x1e,x2e]\n",
    "            erro += W[j] * (z(x) - c1e * phi_1P[j] - c2e * phi_2P[j])^2\n",
    "        end\n",
    "    end\n",
    "\n",
    "    return sqrt(erro * h / 2)\n",
    "end"
   ]
  },
  {
   "cell_type": "markdown",
   "metadata": {},
   "source": [
    "## Cálculo de $C^0$"
   ]
  },
  {
   "cell_type": "code",
   "execution_count": 390,
   "metadata": {},
   "outputs": [
    {
     "data": {
      "text/plain": [
       "calcule_C0 (generic function with 1 method)"
      ]
     },
     "metadata": {},
     "output_type": "display_data"
    }
   ],
   "source": [
    "function calcule_C0(C::Vector{Float64}, f::Function, ne::Int, m::Int, EQoLG::Matrix{Int}; C0_case::Int=2)\n",
    "    if C0_case == 1\n",
    "        h = 1.0 / ne\n",
    "        @. C = f(h:h:1.0-h)\n",
    "    elseif C0_case == 2\n",
    "        C .= make_K(0.0, 1.0, ne, m, EQoLG) \\ make_F(f, ne, m, EQoLG)\n",
    "    else\n",
    "        error(\"C0_case deve ser 1 ou 2.\")\n",
    "    end\n",
    "end"
   ]
  },
  {
   "cell_type": "markdown",
   "metadata": {},
   "source": [
    "## Calculo de $\\overline{C}$"
   ]
  },
  {
   "cell_type": "code",
   "execution_count": 391,
   "metadata": {},
   "outputs": [
    {
     "data": {
      "text/plain": [
       "calcule_C_til (generic function with 2 methods)"
      ]
     },
     "metadata": {},
     "output_type": "display_data"
    }
   ],
   "source": [
    "function calcule_C_til(C::Vector{Float64}, C_previus::Vector{Float64}, g::Function, A, B::SparseMatrixCSC{Float64,Int64}, ne::Int, m::Int, EQoLG::Matrix{Int}, tau::Float64, n::Int, f::Function)\n",
    "    t_medium = n * tau - tau / 2\n",
    "    F = make_F(x -> f(x, t_medium), ne, m, EQoLG)\n",
    "    G = make_G(C_previus, g, ne, m, EQoLG)\n",
    "    C_til = A \\ (B * C_previus + tau * (F - G))\n",
    "    return C_til\n",
    "end"
   ]
  },
  {
   "cell_type": "markdown",
   "metadata": {},
   "source": [
    "## Cálculo de $C^1$"
   ]
  },
  {
   "cell_type": "code",
   "execution_count": 392,
   "metadata": {},
   "outputs": [
    {
     "data": {
      "text/plain": [
       "calcule_C1 (generic function with 2 methods)"
      ]
     },
     "metadata": {},
     "output_type": "display_data"
    }
   ],
   "source": [
    "function calcule_C1(C_til::Vector{Float64}, C_previus::Vector{Float64}, g::Function, A, B::SparseMatrixCSC{Float64,Int64}, ne::Int, m::Int, EQoLG::Matrix{Int}, tau::Float64, n::Int, f::Function)\n",
    "    t_medium = n * tau - tau / 2\n",
    "    C_arg = (C_previus + C_til) / 2\n",
    "    F = make_F(x -> f(x, t_medium), ne, m, EQoLG)\n",
    "    G = make_G(C_arg, g, ne, m, EQoLG)\n",
    "    C = A \\ (B * C_previus + tau * (F - G))\n",
    "    return C\n",
    "end"
   ]
  },
  {
   "cell_type": "markdown",
   "metadata": {},
   "source": [
    "## Cálculo de $C^n$"
   ]
  },
  {
   "cell_type": "code",
   "execution_count": 393,
   "metadata": {},
   "outputs": [
    {
     "data": {
      "text/plain": [
       "calcule_Cn (generic function with 2 methods)"
      ]
     },
     "metadata": {},
     "output_type": "display_data"
    }
   ],
   "source": [
    "function calcule_Cn(C::Vector{Float64}, C_previus::Vector{Float64}, g::Function, A, B::SparseMatrixCSC{Float64,Int64}, ne::Int, m::Int, EQoLG::Matrix{Int}, tau::Float64, n::Int, f::Function)\n",
    "    t_medium = n * tau - tau / 2\n",
    "    C_arg = (3 * C - C_previus) / 2\n",
    "    F = make_F(x -> f(x, t_medium), ne, m, EQoLG)\n",
    "    G = make_G(C_arg, g, ne, m, EQoLG)\n",
    "    C .= A \\ (B * C_previus + tau * (F - G))\n",
    "end"
   ]
  },
  {
   "cell_type": "markdown",
   "metadata": {},
   "source": [
    "### Comparando a solução aproximada com a solução exata\n"
   ]
  },
  {
   "cell_type": "code",
   "execution_count": 394,
   "metadata": {},
   "outputs": [
    {
     "data": {
      "text/plain": [
       "show_solution (generic function with 1 method)"
      ]
     },
     "metadata": {},
     "output_type": "display_data"
    }
   ],
   "source": [
    "function show_solution(example::Int, case::Int)\n",
    "    if example == 1\n",
    "        T, alfa, beta, f, u0, u, g = exemplo1()\n",
    "    elseif example == 2\n",
    "        T, alfa, beta, f, u0, g = exemplo2()\n",
    "    else\n",
    "        error(\"Exemplo inválido. Escolha 1 ou 2.\")\n",
    "    end\n",
    "\n",
    "    npg = 5\n",
    "    ne = 4\n",
    "    h = 1.0 / ne\n",
    "    tau = h\n",
    "    t = 0:tau:T\n",
    "    N = length(t) - 1\n",
    "\n",
    "    LG = make_LG(ne)\n",
    "    m, EQ = make_EQ(ne)\n",
    "    EQoLG = EQ[LG]\n",
    "\n",
    "    M = make_K(0.0, 1.0, ne, m, EQoLG)\n",
    "    K = make_K(alfa, beta, ne, m, EQoLG)\n",
    "    \n",
    "    A = M + (tau / 2) * K\n",
    "    B = M - (tau / 2) * K\n",
    "    \n",
    "    # Exibe os valores ne, LG, m, EQ e EQoLG\n",
    "    display(\"ne = \"); display(ne)\n",
    "    display(\"LG = \"); display(LG)\n",
    "    display(\"m = \"); display(m)\n",
    "    display(\"EQ = \"); display(EQ)\n",
    "    display(\"Matriz K:\")\n",
    "    display(M)\n",
    "    display(\"Matriz K:\")\n",
    "    display(K)\n",
    "    display(\"A = \"); display(A)\n",
    "    display(\"B = \"); display(B)\n",
    "\n",
    "    C_previus = zeros(m)\n",
    "    C_til = zeros(m)\n",
    "    C   = zeros(m)\n",
    "\n",
    "    malha_solucao_exata = 0:0.01:1\n",
    "    malha_solucao_aproximada = 0:h:1\n",
    "\n",
    "    values = [u(x,t) for x in malha_solucao_exata, t in t]\n",
    "    y_lower_limit = minimum(values) \n",
    "    y_upper_limit = maximum(values) \n",
    "\n",
    "    errors = zeros(N + 1)    \n",
    "    \n",
    "    # Cria uma animação\n",
    "    anim = @animate for n = 0:N\n",
    "        if n == 0\n",
    "            calcule_C0(C, u0, ne, m, EQoLG; C0_case=case)\n",
    "        elseif n == 1\n",
    "            C_previus = C\n",
    "            C_til .= calcule_C_til(C, C_previus, g, A, B, ne, m, EQoLG, tau, n, f)\n",
    "            C .= calcule_C1(C_til, C_previus, g, A, B, ne, m, EQoLG, tau, n, f)\n",
    "        else\n",
    "            temp = C\n",
    "            calcule_Cn(C, C_previus, g, A, B, ne, m, EQoLG, tau, n, f)\n",
    "            C_previus .= temp\n",
    "        end\n",
    "\n",
    "        errors[n+1] = erro_norma_L2(x -> u(x, t[n+1]), [C; 0], ne, EQoLG)\n",
    "\n",
    "        # Cria a figura com layout único\n",
    "        plt = plot(size=(800, 400),\n",
    "            title=\"Soluções Exata e Aproximada em t_$(n)= $(t[n+1])\",\n",
    "            xlabel=\"x\",\n",
    "            legend=:topright,\n",
    "            ylim=(y_lower_limit, y_upper_limit))\n",
    "\n",
    "        # Gráfico da solução exata u(x, t[n+1])\n",
    "        plot!(plt, malha_solucao_exata, u.(malha_solucao_exata, t[n+1]),\n",
    "            lw=3, color=:blue, label=\"u(x,t_$(n))\")\n",
    "\n",
    "        # Gráfico da solução aproximada Uⁿ(x)\n",
    "        plot!(plt, malha_solucao_aproximada, [0; C; 0],\n",
    "            lw=3, color=:red, linestyle=:dash, markershape=:circle, label=\"U^$(n)(x)\")\n",
    "    end\n",
    "\n",
    "\n",
    "    display(\"Erros na norma L2:\")\n",
    "    display(errors)\n",
    "\n",
    "    display(\"Erro máximo na norma L2:\")\n",
    "    display(maximum(errors))\n",
    "\n",
    "    gif(anim, \"imagens/solucao_exata_vs_aproximada.gif\", fps=1)\n",
    "end"
   ]
  },
  {
   "cell_type": "code",
   "execution_count": 395,
   "metadata": {},
   "outputs": [
    {
     "data": {
      "text/plain": [
       "\"ne = \""
      ]
     },
     "metadata": {},
     "output_type": "display_data"
    },
    {
     "data": {
      "text/plain": [
       "4"
      ]
     },
     "metadata": {},
     "output_type": "display_data"
    },
    {
     "data": {
      "text/plain": [
       "\"LG = \""
      ]
     },
     "metadata": {},
     "output_type": "display_data"
    },
    {
     "data": {
      "text/plain": [
       "2×4 Matrix{Int64}:\n",
       " 1  2  3  4\n",
       " 2  3  4  5"
      ]
     },
     "metadata": {},
     "output_type": "display_data"
    },
    {
     "data": {
      "text/plain": [
       "\"m = \""
      ]
     },
     "metadata": {},
     "output_type": "display_data"
    },
    {
     "data": {
      "text/plain": [
       "3"
      ]
     },
     "metadata": {},
     "output_type": "display_data"
    },
    {
     "data": {
      "text/plain": [
       "\"EQ = \""
      ]
     },
     "metadata": {},
     "output_type": "display_data"
    },
    {
     "data": {
      "text/plain": [
       "5-element Vector{Int64}:\n",
       " 4\n",
       " 1\n",
       " 2\n",
       " 3\n",
       " 4"
      ]
     },
     "metadata": {},
     "output_type": "display_data"
    },
    {
     "data": {
      "text/plain": [
       "\"Matriz K:\""
      ]
     },
     "metadata": {},
     "output_type": "display_data"
    },
    {
     "data": {
      "text/plain": [
       "3×3 SparseMatrixCSC{Float64, Int64} with 7 stored entries:\n",
       " 0.166667   0.0416667   ⋅ \n",
       " 0.0416667  0.166667   0.0416667\n",
       "  ⋅         0.0416667  0.166667"
      ]
     },
     "metadata": {},
     "output_type": "display_data"
    },
    {
     "data": {
      "text/plain": [
       "\"Matriz K:\""
      ]
     },
     "metadata": {},
     "output_type": "display_data"
    },
    {
     "data": {
      "text/plain": [
       "3×3 SparseMatrixCSC{Float64, Int64} with 7 stored entries:\n",
       "  8.16667  -3.95833    ⋅ \n",
       " -3.95833   8.16667  -3.95833\n",
       "   ⋅       -3.95833   8.16667"
      ]
     },
     "metadata": {},
     "output_type": "display_data"
    },
    {
     "data": {
      "text/plain": [
       "\"A = \""
      ]
     },
     "metadata": {},
     "output_type": "display_data"
    },
    {
     "data": {
      "text/plain": [
       "3×3 SparseMatrixCSC{Float64, Int64} with 7 stored entries:\n",
       "  1.1875    -0.453125    ⋅ \n",
       " -0.453125   1.1875    -0.453125\n",
       "   ⋅        -0.453125   1.1875"
      ]
     },
     "metadata": {},
     "output_type": "display_data"
    },
    {
     "data": {
      "text/plain": [
       "\"B = \""
      ]
     },
     "metadata": {},
     "output_type": "display_data"
    },
    {
     "data": {
      "text/plain": [
       "3×3 SparseMatrixCSC{Float64, Int64} with 7 stored entries:\n",
       " -0.854167   0.536458    ⋅ \n",
       "  0.536458  -0.854167   0.536458\n",
       "   ⋅         0.536458  -0.854167"
      ]
     },
     "metadata": {},
     "output_type": "display_data"
    },
    {
     "data": {
      "text/plain": [
       "\"Erros na norma L2:\""
      ]
     },
     "metadata": {},
     "output_type": "display_data"
    },
    {
     "data": {
      "text/plain": [
       "5-element Vector{Float64}:\n",
       " 0.003980336614548407\n",
       " 0.004054810386880293\n",
       " 0.0021270580917063116\n",
       " 0.0016255891181923344\n",
       " 0.0012644063178470339"
      ]
     },
     "metadata": {},
     "output_type": "display_data"
    },
    {
     "data": {
      "text/plain": [
       "\"Erro máximo na norma L2:\""
      ]
     },
     "metadata": {},
     "output_type": "display_data"
    },
    {
     "data": {
      "text/plain": [
       "0.004054810386880293"
      ]
     },
     "metadata": {},
     "output_type": "display_data"
    },
    {
     "name": "stderr",
     "output_type": "stream",
     "text": [
      "┌ Info: Saved animation to /home/daniel/Workspace/metodos-numericos/Elementos Finitos/imagens/solucao_exata_vs_aproximada.gif\n",
      "└ @ Plots /home/daniel/.julia/packages/Plots/du2dt/src/animation.jl:156\n"
     ]
    },
    {
     "data": {
      "text/html": [
       "<img src=\"data:image/gif;base64,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\" />"
      ],
      "text/plain": [
       "Plots.AnimatedGif(\"/home/daniel/Workspace/metodos-numericos/Elementos Finitos/imagens/solucao_exata_vs_aproximada.gif\")"
      ]
     },
     "metadata": {},
     "output_type": "display_data"
    }
   ],
   "source": [
    "example = 1\n",
    "case = 1\n",
    "\n",
    "show_solution(example, case)"
   ]
  },
  {
   "cell_type": "markdown",
   "metadata": {},
   "source": [
    "### Estudo de convergência do erro."
   ]
  },
  {
   "cell_type": "code",
   "execution_count": 396,
   "metadata": {},
   "outputs": [
    {
     "data": {
      "text/plain": [
       "show_error (generic function with 1 method)"
      ]
     },
     "metadata": {},
     "output_type": "display_data"
    }
   ],
   "source": [
    "function calcule_error(example::Int, case::Int)\n",
    "    if example == 1\n",
    "        T, alfa, beta, f, u0, u, g = exemplo1()\n",
    "    elseif example == 2\n",
    "        T, alfa, beta, f, u0, g = exemplo2()\n",
    "    else\n",
    "        error(\"Exemplo inválido. Escolha 1 ou 2.\")\n",
    "    end\n",
    "\n",
    "    vec_ne = [2^i for i = 2:6]\n",
    "    vec_h = 1.0 ./ vec_ne\n",
    "    vec_tau = vec_h\n",
    "    vec_erros = zeros(length(vec_ne))\n",
    "\n",
    "    npg = 5\n",
    "    for i = 1:length(vec_ne)\n",
    "        ne = vec_ne[i]\n",
    "        h = vec_h[i]\n",
    "        tau = vec_tau[i]\n",
    "        t = 0:tau:T\n",
    "        N = length(t) - 1\n",
    "\n",
    "        LG = make_LG(ne)\n",
    "        m, EQ = make_EQ(ne)\n",
    "        EQoLG = EQ[LG]\n",
    "\n",
    "        M = make_K(0.0, 1.0, ne, m, EQoLG)\n",
    "        K = make_K(alfa, beta, ne, m, EQoLG)\n",
    "        P, W = legendre(npg)\n",
    "\n",
    "        A = M + (tau / 2) * K\n",
    "        B = M - (tau / 2) * K\n",
    "\n",
    "        LU_A = lu(A)\n",
    "\n",
    "        C_previus = zeros(m);  \n",
    "        C = zeros(m)\n",
    "\n",
    "        erros = zeros(N + 1)\n",
    "\n",
    "        calcule_C0(C_previus, u0, ne, m, EQoLG; C0_case=case)\n",
    "        erros[1] = erro_norma_L2(u0, [C_previus; 0], ne, EQoLG)\n",
    "\n",
    "        for n = 1:N\n",
    "            calcule_Cn(C, C_previus, g, LU_A, B, ne, m, EQoLG, tau, n, f)\n",
    "\n",
    "            C_previus .= C\n",
    "            erros[n+1] = erro_norma_L2(x -> u(x, t[n+1]), [C_previus; 0], ne, EQoLG)\n",
    "        end\n",
    "\n",
    "        vec_erros[i] = maximum(erros)\n",
    "    end\n",
    "\n",
    "    return vec_h, vec_erros\n",
    "end\n",
    "\n",
    "function show_error(vec_h, vec_erros, exemplo, case)\n",
    "    # Cria o gráfico do erro em função de h em escala logarítmica\n",
    "    plt = plot(\n",
    "        vec_h, vec_erros, lw=3, linestyle=:solid, markershape=:circle,\n",
    "        label=\"Erro\", title=\"Estudo do erro - exemplo $exemplo - case = $case\",\n",
    "        xscale=:log10, yscale=:log10, legend=:topleft\n",
    "    )\n",
    "\n",
    "    # Adiciona a curva teórica de h² ao gráfico\n",
    "    plot!(plt, vec_h, vec_h .^ 2, lw=3, linestyle=:solid, label=\"h²\")\n",
    "\n",
    "    # Adiciona rótulos aos eixos\n",
    "    xlabel!(\"h\")\n",
    "    ylabel!(\"Erro\")\n",
    "\n",
    "    # Exibe o gráfico\n",
    "    display(plt)\n",
    "\n",
    "    # Exibe a tabela com os valores de h e erro\n",
    "    display(\"Tabela com os valores de h e erro - exemplo \" * string(exemplo) * \" - caso_C⁰ = \" * string(case))\n",
    "    display(DataFrame(h=vec_h, erro=vec_erros))\n",
    "end"
   ]
  },
  {
   "cell_type": "code",
   "execution_count": 397,
   "metadata": {},
   "outputs": [
    {
     "data": {
      "image/png": "[encoded data removed]",
      "image/svg+xml": [
       "<?xml version=\"1.0\" encoding=\"utf-8\"?>\n",
       "<svg xmlns=\"http://www.w3.org/2000/svg\" xmlns:xlink=\"http://www.w3.org/1999/xlink\" width=\"600\" height=\"400\" viewBox=\"0 0 2400 1600\">\n",
       "<defs>\n",
       "  <clipPath id=\"clip000\">\n",
       "    <rect x=\"0\" y=\"0\" width=\"2400\" height=\"1600\"/>\n",
       "  </clipPath>\n",
       "</defs>\n",
       "<path clip-path=\"url(#clip000)\" d=\"M0 1600 L2400 1600 L2400 0 L0 0  Z\" fill=\"#ffffff\" fill-rule=\"evenodd\" fill-opacity=\"1\"/>\n",
       "<defs>\n",
       "  <clipPath id=\"clip001\">\n",
       "    <rect x=\"480\" y=\"0\" width=\"1681\" height=\"1600\"/>\n",
       "  </clipPath>\n",
       "</defs>\n",
       "<path clip-path=\"url(#clip000)\" d=\"M251.842 1410.9 L2352.76 1410.9 L2352.76 123.472 L251.842 123.472  Z\" fill=\"#ffffff\" fill-rule=\"evenodd\" fill-opacity=\"1\"/>\n",
       "<defs>\n",
       "  <clipPath id=\"clip002\">\n",
       "    <rect x=\"251\" y=\"123\" width=\"2102\" height=\"1288\"/>\n",
       "  </clipPath>\n",
       "</defs>\n",
       "<polyline clip-path=\"url(#clip002)\" style=\"stroke:#000000; stroke-linecap:round; stroke-linejoin:round; stroke-width:2; stroke-opacity:0.1; fill:none\" points=\"815.278,1410.9 815.278,123.472 \"/>\n",
       "<polyline clip-path=\"url(#clip002)\" style=\"stroke:#000000; stroke-linecap:round; stroke-linejoin:round; stroke-width:2; stroke-opacity:0.1; fill:none\" points=\"1638.28,1410.9 1638.28,123.472 \"/>\n",
       "<polyline clip-path=\"url(#clip000)\" style=\"stroke:#000000; stroke-linecap:round; stroke-linejoin:round; stroke-width:4; stroke-opacity:1; fill:none\" points=\"251.842,1410.9 2352.76,1410.9 \"/>\n",
       "<polyline clip-path=\"url(#clip000)\" style=\"stroke:#000000; stroke-linecap:round; stroke-linejoin:round; stroke-width:4; stroke-opacity:1; fill:none\" points=\"815.278,1410.9 815.278,1392 \"/>\n",
       "<polyline clip-path=\"url(#clip000)\" style=\"stroke:#000000; stroke-linecap:round; stroke-linejoin:round; stroke-width:4; stroke-opacity:1; fill:none\" points=\"1638.28,1410.9 1638.28,1392 \"/>\n",
       "<path clip-path=\"url(#clip000)\" d=\"M746.924 1485.02 L754.562 1485.02 L754.562 1458.66 L746.252 1460.32 L746.252 1456.06 L754.516 1454.4 L759.192 1454.4 L759.192 1485.02 L766.831 1485.02 L766.831 1488.96 L746.924 1488.96 L746.924 1485.02 Z\" fill=\"#000000\" fill-rule=\"nonzero\" fill-opacity=\"1\" /><path clip-path=\"url(#clip000)\" d=\"M786.275 1457.48 Q782.664 1457.48 780.835 1461.04 Q779.03 1464.58 779.03 1471.71 Q779.03 1478.82 780.835 1482.38 Q782.664 1485.92 786.275 1485.92 Q789.91 1485.92 791.715 1482.38 Q793.544 1478.82 793.544 1471.71 Q793.544 1464.58 791.715 1461.04 Q789.91 1457.48 786.275 1457.48 M786.275 1453.77 Q792.085 1453.77 795.141 1458.38 Q798.22 1462.96 798.22 1471.71 Q798.22 1480.44 795.141 1485.04 Q792.085 1489.63 786.275 1489.63 Q780.465 1489.63 777.386 1485.04 Q774.331 1480.44 774.331 1471.71 Q774.331 1462.96 777.386 1458.38 Q780.465 1453.77 786.275 1453.77 Z\" fill=\"#000000\" fill-rule=\"nonzero\" fill-opacity=\"1\" /><path clip-path=\"url(#clip000)\" d=\"M798.22 1447.87 L822.331 1447.87 L822.331 1451.07 L798.22 1451.07 L798.22 1447.87 Z\" fill=\"#000000\" fill-rule=\"nonzero\" fill-opacity=\"1\" /><path clip-path=\"url(#clip000)\" d=\"M831.19 1458.35 L837.396 1458.35 L837.396 1436.93 L830.644 1438.28 L830.644 1434.82 L837.359 1433.47 L841.158 1433.47 L841.158 1458.35 L847.364 1458.35 L847.364 1461.55 L831.19 1461.55 L831.19 1458.35 Z\" fill=\"#000000\" fill-rule=\"nonzero\" fill-opacity=\"1\" /><path clip-path=\"url(#clip000)\" d=\"M855.038 1456.77 L859.006 1456.77 L859.006 1461.55 L855.038 1461.55 L855.038 1456.77 Z\" fill=\"#000000\" fill-rule=\"nonzero\" fill-opacity=\"1\" /><path clip-path=\"url(#clip000)\" d=\"M867.319 1433.47 L882.234 1433.47 L882.234 1436.66 L870.799 1436.66 L870.799 1443.55 Q871.626 1443.27 872.454 1443.13 Q873.281 1442.98 874.109 1442.98 Q878.811 1442.98 881.557 1445.56 Q884.303 1448.14 884.303 1452.54 Q884.303 1457.07 881.482 1459.59 Q878.66 1462.09 873.526 1462.09 Q871.758 1462.09 869.915 1461.79 Q868.091 1461.49 866.135 1460.89 L866.135 1457.07 Q867.827 1457.99 869.633 1458.44 Q871.438 1458.89 873.451 1458.89 Q876.704 1458.89 878.604 1457.18 Q880.504 1455.47 880.504 1452.54 Q880.504 1449.6 878.604 1447.89 Q876.704 1446.18 873.451 1446.18 Q871.927 1446.18 870.404 1446.52 Q868.899 1446.86 867.319 1447.57 L867.319 1433.47 Z\" fill=\"#000000\" fill-rule=\"nonzero\" fill-opacity=\"1\" /><path clip-path=\"url(#clip000)\" d=\"M1569.52 1485.02 L1577.16 1485.02 L1577.16 1458.66 L1568.85 1460.32 L1568.85 1456.06 L1577.12 1454.4 L1581.79 1454.4 L1581.79 1485.02 L1589.43 1485.02 L1589.43 1488.96 L1569.52 1488.96 L1569.52 1485.02 Z\" fill=\"#000000\" fill-rule=\"nonzero\" fill-opacity=\"1\" /><path clip-path=\"url(#clip000)\" d=\"M1608.88 1457.48 Q1605.26 1457.48 1603.44 1461.04 Q1601.63 1464.58 1601.63 1471.71 Q1601.63 1478.82 1603.44 1482.38 Q1605.26 1485.92 1608.88 1485.92 Q1612.51 1485.92 1614.32 1482.38 Q1616.14 1478.82 1616.14 1471.71 Q1616.14 1464.58 1614.32 1461.04 Q1612.51 1457.48 1608.88 1457.48 M1608.88 1453.77 Q1614.69 1453.77 1617.74 1458.38 Q1620.82 1462.96 1620.82 1471.71 Q1620.82 1480.44 1617.74 1485.04 Q1614.69 1489.63 1608.88 1489.63 Q1603.07 1489.63 1599.99 1485.04 Q1596.93 1480.44 1596.93 1471.71 Q1596.93 1462.96 1599.99 1458.38 Q1603.07 1453.77 1608.88 1453.77 Z\" fill=\"#000000\" fill-rule=\"nonzero\" fill-opacity=\"1\" /><path clip-path=\"url(#clip000)\" d=\"M1620.82 1447.87 L1644.93 1447.87 L1644.93 1451.07 L1620.82 1451.07 L1620.82 1447.87 Z\" fill=\"#000000\" fill-rule=\"nonzero\" fill-opacity=\"1\" /><path clip-path=\"url(#clip000)\" d=\"M1653.79 1458.35 L1660 1458.35 L1660 1436.93 L1653.25 1438.28 L1653.25 1434.82 L1659.96 1433.47 L1663.76 1433.47 L1663.76 1458.35 L1669.97 1458.35 L1669.97 1461.55 L1653.79 1461.55 L1653.79 1458.35 Z\" fill=\"#000000\" fill-rule=\"nonzero\" fill-opacity=\"1\" /><path clip-path=\"url(#clip000)\" d=\"M1677.64 1456.77 L1681.61 1456.77 L1681.61 1461.55 L1677.64 1461.55 L1677.64 1456.77 Z\" fill=\"#000000\" fill-rule=\"nonzero\" fill-opacity=\"1\" /><path clip-path=\"url(#clip000)\" d=\"M1698.01 1435.97 Q1695.07 1435.97 1693.59 1438.86 Q1692.12 1441.74 1692.12 1447.53 Q1692.12 1453.31 1693.59 1456.2 Q1695.07 1459.08 1698.01 1459.08 Q1700.96 1459.08 1702.43 1456.2 Q1703.91 1453.31 1703.91 1447.53 Q1703.91 1441.74 1702.43 1438.86 Q1700.96 1435.97 1698.01 1435.97 M1698.01 1432.96 Q1702.73 1432.96 1705.21 1436.7 Q1707.71 1440.43 1707.71 1447.53 Q1707.71 1454.62 1705.21 1458.37 Q1702.73 1462.09 1698.01 1462.09 Q1693.29 1462.09 1690.79 1458.37 Q1688.3 1454.62 1688.3 1447.53 Q1688.3 1440.43 1690.79 1436.7 Q1693.29 1432.96 1698.01 1432.96 Z\" fill=\"#000000\" fill-rule=\"nonzero\" fill-opacity=\"1\" /><path clip-path=\"url(#clip000)\" d=\"M1317.23 1552.67 L1317.23 1574.19 L1311.37 1574.19 L1311.37 1552.86 Q1311.37 1547.8 1309.4 1545.29 Q1307.42 1542.77 1303.48 1542.77 Q1298.73 1542.77 1296 1545.79 Q1293.26 1548.82 1293.26 1554.04 L1293.26 1574.19 L1287.37 1574.19 L1287.37 1524.66 L1293.26 1524.66 L1293.26 1544.08 Q1295.36 1540.86 1298.19 1539.27 Q1301.06 1537.68 1304.78 1537.68 Q1310.92 1537.68 1314.08 1541.5 Q1317.23 1545.29 1317.23 1552.67 Z\" fill=\"#000000\" fill-rule=\"nonzero\" fill-opacity=\"1\" /><polyline clip-path=\"url(#clip002)\" style=\"stroke:#000000; stroke-linecap:round; stroke-linejoin:round; stroke-width:2; stroke-opacity:0.1; fill:none\" points=\"251.842,1065.63 2352.76,1065.63 \"/>\n",
       "<polyline clip-path=\"url(#clip002)\" style=\"stroke:#000000; stroke-linecap:round; stroke-linejoin:round; stroke-width:2; stroke-opacity:0.1; fill:none\" points=\"251.842,561.296 2352.76,561.296 \"/>\n",
       "<polyline clip-path=\"url(#clip000)\" style=\"stroke:#000000; stroke-linecap:round; stroke-linejoin:round; stroke-width:4; stroke-opacity:1; fill:none\" points=\"251.842,1410.9 251.842,123.472 \"/>\n",
       "<polyline clip-path=\"url(#clip000)\" style=\"stroke:#000000; stroke-linecap:round; stroke-linejoin:round; stroke-width:4; stroke-opacity:1; fill:none\" points=\"251.842,1065.63 270.74,1065.63 \"/>\n",
       "<polyline clip-path=\"url(#clip000)\" style=\"stroke:#000000; stroke-linecap:round; stroke-linejoin:round; stroke-width:4; stroke-opacity:1; fill:none\" points=\"251.842,561.296 270.74,561.296 \"/>\n",
       "<path clip-path=\"url(#clip000)\" d=\"M114.931 1085.42 L122.57 1085.42 L122.57 1059.05 L114.26 1060.72 L114.26 1056.46 L122.524 1054.8 L127.2 1054.8 L127.2 1085.42 L134.839 1085.42 L134.839 1089.36 L114.931 1089.36 L114.931 1085.42 Z\" fill=\"#000000\" fill-rule=\"nonzero\" fill-opacity=\"1\" /><path clip-path=\"url(#clip000)\" d=\"M154.283 1057.87 Q150.672 1057.87 148.843 1061.44 Q147.038 1064.98 147.038 1072.11 Q147.038 1079.22 148.843 1082.78 Q150.672 1086.32 154.283 1086.32 Q157.917 1086.32 159.723 1082.78 Q161.552 1079.22 161.552 1072.11 Q161.552 1064.98 159.723 1061.44 Q157.917 1057.87 154.283 1057.87 M154.283 1054.17 Q160.093 1054.17 163.149 1058.78 Q166.227 1063.36 166.227 1072.11 Q166.227 1080.84 163.149 1085.44 Q160.093 1090.03 154.283 1090.03 Q148.473 1090.03 145.394 1085.44 Q142.339 1080.84 142.339 1072.11 Q142.339 1063.36 145.394 1058.78 Q148.473 1054.17 154.283 1054.17 Z\" fill=\"#000000\" fill-rule=\"nonzero\" fill-opacity=\"1\" /><path clip-path=\"url(#clip000)\" d=\"M166.227 1048.27 L190.339 1048.27 L190.339 1051.47 L166.227 1051.47 L166.227 1048.27 Z\" fill=\"#000000\" fill-rule=\"nonzero\" fill-opacity=\"1\" /><path clip-path=\"url(#clip000)\" d=\"M210.05 1046.8 Q212.777 1047.39 214.3 1049.23 Q215.842 1051.07 215.842 1053.78 Q215.842 1057.94 212.984 1060.21 Q210.125 1062.49 204.859 1062.49 Q203.091 1062.49 201.21 1062.13 Q199.348 1061.79 197.354 1061.1 L197.354 1057.43 Q198.934 1058.35 200.815 1058.82 Q202.696 1059.29 204.746 1059.29 Q208.319 1059.29 210.181 1057.88 Q212.062 1056.47 212.062 1053.78 Q212.062 1051.3 210.313 1049.91 Q208.583 1048.5 205.479 1048.5 L202.207 1048.5 L202.207 1045.38 L205.63 1045.38 Q208.432 1045.38 209.918 1044.27 Q211.404 1043.14 211.404 1041.03 Q211.404 1038.87 209.861 1037.72 Q208.338 1036.55 205.479 1036.55 Q203.918 1036.55 202.132 1036.89 Q200.345 1037.23 198.201 1037.95 L198.201 1034.56 Q200.364 1033.96 202.244 1033.66 Q204.144 1033.36 205.818 1033.36 Q210.144 1033.36 212.664 1035.33 Q215.184 1037.29 215.184 1040.64 Q215.184 1042.97 213.849 1044.59 Q212.513 1046.18 210.05 1046.8 Z\" fill=\"#000000\" fill-rule=\"nonzero\" fill-opacity=\"1\" /><path clip-path=\"url(#clip000)\" d=\"M115.703 581.089 L123.341 581.089 L123.341 554.723 L115.031 556.39 L115.031 552.13 L123.295 550.464 L127.971 550.464 L127.971 581.089 L135.61 581.089 L135.61 585.024 L115.703 585.024 L115.703 581.089 Z\" fill=\"#000000\" fill-rule=\"nonzero\" fill-opacity=\"1\" /><path clip-path=\"url(#clip000)\" d=\"M155.054 553.542 Q151.443 553.542 149.614 557.107 Q147.809 560.649 147.809 567.778 Q147.809 574.885 149.614 578.45 Q151.443 581.991 155.054 581.991 Q158.688 581.991 160.494 578.45 Q162.323 574.885 162.323 567.778 Q162.323 560.649 160.494 557.107 Q158.688 553.542 155.054 553.542 M155.054 549.839 Q160.864 549.839 163.92 554.445 Q166.999 559.028 166.999 567.778 Q166.999 576.505 163.92 581.112 Q160.864 585.695 155.054 585.695 Q149.244 585.695 146.165 581.112 Q143.11 576.505 143.11 567.778 Q143.11 559.028 146.165 554.445 Q149.244 549.839 155.054 549.839 Z\" fill=\"#000000\" fill-rule=\"nonzero\" fill-opacity=\"1\" /><path clip-path=\"url(#clip000)\" d=\"M166.999 543.94 L191.11 543.94 L191.11 547.137 L166.999 547.137 L166.999 543.94 Z\" fill=\"#000000\" fill-rule=\"nonzero\" fill-opacity=\"1\" /><path clip-path=\"url(#clip000)\" d=\"M202.583 554.416 L215.842 554.416 L215.842 557.613 L198.013 557.613 L198.013 554.416 Q200.175 552.178 203.899 548.416 Q207.642 544.636 208.601 543.545 Q210.426 541.495 211.14 540.084 Q211.874 538.655 211.874 537.282 Q211.874 535.044 210.294 533.633 Q208.733 532.223 206.213 532.223 Q204.426 532.223 202.432 532.843 Q200.458 533.464 198.201 534.724 L198.201 530.887 Q200.495 529.966 202.489 529.496 Q204.482 529.025 206.138 529.025 Q210.501 529.025 213.096 531.207 Q215.692 533.389 215.692 537.038 Q215.692 538.768 215.034 540.329 Q214.394 541.871 212.683 543.978 Q212.212 544.523 209.692 547.137 Q207.172 549.733 202.583 554.416 Z\" fill=\"#000000\" fill-rule=\"nonzero\" fill-opacity=\"1\" /><path clip-path=\"url(#clip000)\" d=\"M16.4842 828.247 L16.4842 798.201 L21.895 798.201 L21.895 821.818 L35.9632 821.818 L35.9632 799.188 L41.3741 799.188 L41.3741 821.818 L58.5933 821.818 L58.5933 797.628 L64.0042 797.628 L64.0042 828.247 L16.4842 828.247 Z\" fill=\"#000000\" fill-rule=\"nonzero\" fill-opacity=\"1\" /><path clip-path=\"url(#clip000)\" d=\"M33.8307 766.659 Q33.2578 767.646 33.0032 768.824 Q32.7167 769.969 32.7167 771.37 Q32.7167 776.335 35.9632 779.009 Q39.1779 781.65 45.2253 781.65 L64.0042 781.65 L64.0042 787.539 L28.3562 787.539 L28.3562 781.65 L33.8944 781.65 Q30.6479 779.804 29.0883 776.844 Q27.4968 773.884 27.4968 769.651 Q27.4968 769.046 27.5923 768.314 Q27.656 767.582 27.8151 766.691 L33.8307 766.659 Z\" fill=\"#000000\" fill-rule=\"nonzero\" fill-opacity=\"1\" /><path clip-path=\"url(#clip000)\" d=\"M33.8307 741.005 Q33.2578 741.992 33.0032 743.17 Q32.7167 744.316 32.7167 745.716 Q32.7167 750.681 35.9632 753.355 Q39.1779 755.997 45.2253 755.997 L64.0042 755.997 L64.0042 761.885 L28.3562 761.885 L28.3562 755.997 L33.8944 755.997 Q30.6479 754.151 29.0883 751.191 Q27.4968 748.23 27.4968 743.997 Q27.4968 743.393 27.5923 742.66 Q27.656 741.928 27.8151 741.037 L33.8307 741.005 Z\" fill=\"#000000\" fill-rule=\"nonzero\" fill-opacity=\"1\" /><path clip-path=\"url(#clip000)\" d=\"M32.4621 722.481 Q32.4621 727.192 36.1542 729.929 Q39.8145 732.666 46.212 732.666 Q52.6095 732.666 56.3017 729.961 Q59.9619 727.224 59.9619 722.481 Q59.9619 717.802 56.2698 715.065 Q52.5777 712.328 46.212 712.328 Q39.8781 712.328 36.186 715.065 Q32.4621 717.802 32.4621 722.481 M27.4968 722.481 Q27.4968 714.842 32.4621 710.482 Q37.4273 706.121 46.212 706.121 Q54.9649 706.121 59.9619 710.482 Q64.9272 714.842 64.9272 722.481 Q64.9272 730.152 59.9619 734.512 Q54.9649 738.841 46.212 738.841 Q37.4273 738.841 32.4621 734.512 Q27.4968 730.152 27.4968 722.481 Z\" fill=\"#000000\" fill-rule=\"nonzero\" fill-opacity=\"1\" /><path clip-path=\"url(#clip000)\" d=\"M524.303 12.096 L562.543 12.096 L562.543 18.9825 L532.486 18.9825 L532.486 36.8875 L561.287 36.8875 L561.287 43.7741 L532.486 43.7741 L532.486 65.6895 L563.272 65.6895 L563.272 72.576 L524.303 72.576 L524.303 12.096 Z\" fill=\"#000000\" fill-rule=\"nonzero\" fill-opacity=\"1\" /><path clip-path=\"url(#clip000)\" d=\"M605.321 28.5427 L605.321 35.5912 Q602.161 33.9709 598.758 33.1607 Q595.356 32.3505 591.71 32.3505 Q586.16 32.3505 583.365 34.0519 Q580.61 35.7533 580.61 39.156 Q580.61 41.7486 582.595 43.2475 Q584.58 44.7058 590.576 46.0426 L593.128 46.6097 Q601.067 48.3111 604.389 51.4303 Q607.751 54.509 607.751 60.0587 Q607.751 66.3781 602.728 70.0644 Q597.746 73.7508 588.996 73.7508 Q585.35 73.7508 581.38 73.0216 Q577.451 72.3329 573.076 70.9151 L573.076 63.2184 Q577.208 65.3654 581.218 66.4591 Q585.228 67.5124 589.158 67.5124 Q594.424 67.5124 597.26 65.73 Q600.095 63.9071 600.095 60.6258 Q600.095 57.5877 598.029 55.9673 Q596.004 54.3469 589.077 52.8481 L586.484 52.2405 Q579.557 50.7821 576.478 47.7845 Q573.4 44.7463 573.4 39.4801 Q573.4 33.0797 577.937 29.5959 Q582.474 26.1121 590.819 26.1121 Q594.95 26.1121 598.596 26.7198 Q602.242 27.3274 605.321 28.5427 Z\" fill=\"#000000\" fill-rule=\"nonzero\" fill-opacity=\"1\" /><path clip-path=\"url(#clip000)\" d=\"M626.993 14.324 L626.993 27.2059 L642.346 27.2059 L642.346 32.9987 L626.993 32.9987 L626.993 57.6282 Q626.993 63.1779 628.492 64.7578 Q630.031 66.3376 634.69 66.3376 L642.346 66.3376 L642.346 72.576 L634.69 72.576 Q626.061 72.576 622.78 69.3758 Q619.499 66.1351 619.499 57.6282 L619.499 32.9987 L614.03 32.9987 L614.03 27.2059 L619.499 27.2059 L619.499 14.324 L626.993 14.324 Z\" fill=\"#000000\" fill-rule=\"nonzero\" fill-opacity=\"1\" /><path clip-path=\"url(#clip000)\" d=\"M651.38 54.671 L651.38 27.2059 L658.833 27.2059 L658.833 54.3874 Q658.833 60.8284 661.345 64.0691 Q663.856 67.2693 668.879 67.2693 Q674.915 67.2693 678.399 63.421 Q681.923 59.5726 681.923 52.9291 L681.923 27.2059 L689.377 27.2059 L689.377 72.576 L681.923 72.576 L681.923 65.6084 Q679.209 69.7404 675.604 71.7658 Q672.039 73.7508 667.3 73.7508 Q659.481 73.7508 655.43 68.8897 Q651.38 64.0286 651.38 54.671 M670.135 26.1121 L670.135 26.1121 Z\" fill=\"#000000\" fill-rule=\"nonzero\" fill-opacity=\"1\" /><path clip-path=\"url(#clip000)\" d=\"M734.585 34.0924 L734.585 9.54393 L742.039 9.54393 L742.039 72.576 L734.585 72.576 L734.585 65.7705 Q732.236 69.8214 728.63 71.8063 Q725.066 73.7508 720.042 73.7508 Q711.819 73.7508 706.634 67.1883 Q701.489 60.6258 701.489 49.9314 Q701.489 39.2371 706.634 32.6746 Q711.819 26.1121 720.042 26.1121 Q725.066 26.1121 728.63 28.0971 Q732.236 30.0415 734.585 34.0924 M709.186 49.9314 Q709.186 58.1548 712.548 62.8538 Q715.951 67.5124 721.865 67.5124 Q727.78 67.5124 731.182 62.8538 Q734.585 58.1548 734.585 49.9314 Q734.585 41.7081 731.182 37.0496 Q727.78 32.3505 721.865 32.3505 Q715.951 32.3505 712.548 37.0496 Q709.186 41.7081 709.186 49.9314 Z\" fill=\"#000000\" fill-rule=\"nonzero\" fill-opacity=\"1\" /><path clip-path=\"url(#clip000)\" d=\"M774.973 32.4315 Q768.977 32.4315 765.494 37.1306 Q762.01 41.7891 762.01 49.9314 Q762.01 58.0738 765.453 62.7728 Q768.937 67.4314 774.973 67.4314 Q780.928 67.4314 784.411 62.7323 Q787.895 58.0333 787.895 49.9314 Q787.895 41.8701 784.411 37.1711 Q780.928 32.4315 774.973 32.4315 M774.973 26.1121 Q784.695 26.1121 790.245 32.4315 Q795.794 38.7509 795.794 49.9314 Q795.794 61.0714 790.245 67.4314 Q784.695 73.7508 774.973 73.7508 Q765.21 73.7508 759.66 67.4314 Q754.151 61.0714 754.151 49.9314 Q754.151 38.7509 759.66 32.4315 Q765.21 26.1121 774.973 26.1121 Z\" fill=\"#000000\" fill-rule=\"nonzero\" fill-opacity=\"1\" /><path clip-path=\"url(#clip000)\" d=\"M864.376 34.0924 L864.376 9.54393 L871.83 9.54393 L871.83 72.576 L864.376 72.576 L864.376 65.7705 Q862.027 69.8214 858.421 71.8063 Q854.857 73.7508 849.833 73.7508 Q841.61 73.7508 836.425 67.1883 Q831.28 60.6258 831.28 49.9314 Q831.28 39.2371 836.425 32.6746 Q841.61 26.1121 849.833 26.1121 Q854.857 26.1121 858.421 28.0971 Q862.027 30.0415 864.376 34.0924 M838.977 49.9314 Q838.977 58.1548 842.339 62.8538 Q845.742 67.5124 851.656 67.5124 Q857.571 67.5124 860.973 62.8538 Q864.376 58.1548 864.376 49.9314 Q864.376 41.7081 860.973 37.0496 Q857.571 32.3505 851.656 32.3505 Q845.742 32.3505 842.339 37.0496 Q838.977 41.7081 838.977 49.9314 Z\" fill=\"#000000\" fill-rule=\"nonzero\" fill-opacity=\"1\" /><path clip-path=\"url(#clip000)\" d=\"M904.764 32.4315 Q898.768 32.4315 895.285 37.1306 Q891.801 41.7891 891.801 49.9314 Q891.801 58.0738 895.244 62.7728 Q898.728 67.4314 904.764 67.4314 Q910.718 67.4314 914.202 62.7323 Q917.686 58.0333 917.686 49.9314 Q917.686 41.8701 914.202 37.1711 Q910.718 32.4315 904.764 32.4315 M904.764 26.1121 Q914.486 26.1121 920.036 32.4315 Q925.585 38.7509 925.585 49.9314 Q925.585 61.0714 920.036 67.4314 Q914.486 73.7508 904.764 73.7508 Q895.001 73.7508 889.451 67.4314 Q883.942 61.0714 883.942 49.9314 Q883.942 38.7509 889.451 32.4315 Q895.001 26.1121 904.764 26.1121 Z\" fill=\"#000000\" fill-rule=\"nonzero\" fill-opacity=\"1\" /><path clip-path=\"url(#clip000)\" d=\"M1003.12 48.0275 L1003.12 51.6733 L968.849 51.6733 Q969.335 59.3701 973.467 63.421 Q977.639 67.4314 985.053 67.4314 Q989.347 67.4314 993.357 66.3781 Q997.408 65.3249 1001.38 63.2184 L1001.38 70.267 Q997.367 71.9684 993.154 72.8596 Q988.941 73.7508 984.607 73.7508 Q973.751 73.7508 967.391 67.4314 Q961.071 61.1119 961.071 50.3365 Q961.071 39.1965 967.067 32.6746 Q973.102 26.1121 983.311 26.1121 Q992.466 26.1121 997.772 32.0264 Q1003.12 37.9003 1003.12 48.0275 M995.666 45.84 Q995.585 39.7232 992.223 36.0774 Q988.901 32.4315 983.392 32.4315 Q977.153 32.4315 973.386 35.9558 Q969.659 39.4801 969.092 45.8805 L995.666 45.84 Z\" fill=\"#000000\" fill-rule=\"nonzero\" fill-opacity=\"1\" /><path clip-path=\"url(#clip000)\" d=\"M1041.64 34.1734 Q1040.39 33.4443 1038.89 33.1202 Q1037.43 32.7556 1035.65 32.7556 Q1029.33 32.7556 1025.93 36.8875 Q1022.56 40.9789 1022.56 48.6757 L1022.56 72.576 L1015.07 72.576 L1015.07 27.2059 L1022.56 27.2059 L1022.56 34.2544 Q1024.91 30.1225 1028.68 28.1376 Q1032.45 26.1121 1037.84 26.1121 Q1038.61 26.1121 1039.54 26.2337 Q1040.47 26.3147 1041.6 26.5172 L1041.64 34.1734 Z\" fill=\"#000000\" fill-rule=\"nonzero\" fill-opacity=\"1\" /><path clip-path=\"url(#clip000)\" d=\"M1074.29 34.1734 Q1073.04 33.4443 1071.54 33.1202 Q1070.08 32.7556 1068.3 32.7556 Q1061.98 32.7556 1058.58 36.8875 Q1055.21 40.9789 1055.21 48.6757 L1055.21 72.576 L1047.72 72.576 L1047.72 27.2059 L1055.21 27.2059 L1055.21 34.2544 Q1057.56 30.1225 1061.33 28.1376 Q1065.1 26.1121 1070.49 26.1121 Q1071.26 26.1121 1072.19 26.2337 Q1073.12 26.3147 1074.25 26.5172 L1074.29 34.1734 Z\" fill=\"#000000\" fill-rule=\"nonzero\" fill-opacity=\"1\" /><path clip-path=\"url(#clip000)\" d=\"M1097.87 32.4315 Q1091.87 32.4315 1088.39 37.1306 Q1084.91 41.7891 1084.91 49.9314 Q1084.91 58.0738 1088.35 62.7728 Q1091.83 67.4314 1097.87 67.4314 Q1103.83 67.4314 1107.31 62.7323 Q1110.79 58.0333 1110.79 49.9314 Q1110.79 41.8701 1107.31 37.1711 Q1103.83 32.4315 1097.87 32.4315 M1097.87 26.1121 Q1107.59 26.1121 1113.14 32.4315 Q1118.69 38.7509 1118.69 49.9314 Q1118.69 61.0714 1113.14 67.4314 Q1107.59 73.7508 1097.87 73.7508 Q1088.11 73.7508 1082.56 67.4314 Q1077.05 61.0714 1077.05 49.9314 Q1077.05 38.7509 1082.56 32.4315 Q1088.11 26.1121 1097.87 26.1121 Z\" fill=\"#000000\" fill-rule=\"nonzero\" fill-opacity=\"1\" /><path clip-path=\"url(#clip000)\" d=\"M1153.65 46.5287 L1175.49 46.5287 L1175.49 53.1722 L1153.65 53.1722 L1153.65 46.5287 Z\" fill=\"#000000\" fill-rule=\"nonzero\" fill-opacity=\"1\" /><path clip-path=\"url(#clip000)\" d=\"M1252.53 48.0275 L1252.53 51.6733 L1218.26 51.6733 Q1218.75 59.3701 1222.88 63.421 Q1227.05 67.4314 1234.47 67.4314 Q1238.76 67.4314 1242.77 66.3781 Q1246.82 65.3249 1250.79 63.2184 L1250.79 70.267 Q1246.78 71.9684 1242.57 72.8596 Q1238.36 73.7508 1234.02 73.7508 Q1223.16 73.7508 1216.8 67.4314 Q1210.49 61.1119 1210.49 50.3365 Q1210.49 39.1965 1216.48 32.6746 Q1222.52 26.1121 1232.72 26.1121 Q1241.88 26.1121 1247.19 32.0264 Q1252.53 37.9003 1252.53 48.0275 M1245.08 45.84 Q1245 39.7232 1241.64 36.0774 Q1238.32 32.4315 1232.81 32.4315 Q1226.57 32.4315 1222.8 35.9558 Q1219.07 39.4801 1218.51 45.8805 L1245.08 45.84 Z\" fill=\"#000000\" fill-rule=\"nonzero\" fill-opacity=\"1\" /><path clip-path=\"url(#clip000)\" d=\"M1301.02 27.2059 L1284.62 49.2833 L1301.87 72.576 L1293.08 72.576 L1279.88 54.752 L1266.67 72.576 L1257.88 72.576 L1275.5 48.8377 L1259.38 27.2059 L1268.17 27.2059 L1280.2 43.369 L1292.23 27.2059 L1301.02 27.2059 Z\" fill=\"#000000\" fill-rule=\"nonzero\" fill-opacity=\"1\" /><path clip-path=\"url(#clip000)\" d=\"M1348.66 48.0275 L1348.66 51.6733 L1314.39 51.6733 Q1314.88 59.3701 1319.01 63.421 Q1323.18 67.4314 1330.59 67.4314 Q1334.89 67.4314 1338.9 66.3781 Q1342.95 65.3249 1346.92 63.2184 L1346.92 70.267 Q1342.91 71.9684 1338.7 72.8596 Q1334.48 73.7508 1330.15 73.7508 Q1319.29 73.7508 1312.93 67.4314 Q1306.61 61.1119 1306.61 50.3365 Q1306.61 39.1965 1312.61 32.6746 Q1318.64 26.1121 1328.85 26.1121 Q1338.01 26.1121 1343.31 32.0264 Q1348.66 37.9003 1348.66 48.0275 M1341.21 45.84 Q1341.13 39.7232 1337.76 36.0774 Q1334.44 32.4315 1328.93 32.4315 Q1322.7 32.4315 1318.93 35.9558 Q1315.2 39.4801 1314.63 45.8805 L1341.21 45.84 Z\" fill=\"#000000\" fill-rule=\"nonzero\" fill-opacity=\"1\" /><path clip-path=\"url(#clip000)\" d=\"M1396.22 35.9153 Q1399.01 30.8922 1402.9 28.5022 Q1406.79 26.1121 1412.06 26.1121 Q1419.15 26.1121 1423 31.0947 Q1426.84 36.0368 1426.84 45.1919 L1426.84 72.576 L1419.35 72.576 L1419.35 45.4349 Q1419.35 38.913 1417.04 35.7533 Q1414.73 32.5936 1409.99 32.5936 Q1404.2 32.5936 1400.84 36.4419 Q1397.48 40.2903 1397.48 46.9338 L1397.48 72.576 L1389.98 72.576 L1389.98 45.4349 Q1389.98 38.8725 1387.67 35.7533 Q1385.36 32.5936 1380.54 32.5936 Q1374.83 32.5936 1371.47 36.4824 Q1368.11 40.3308 1368.11 46.9338 L1368.11 72.576 L1360.61 72.576 L1360.61 27.2059 L1368.11 27.2059 L1368.11 34.2544 Q1370.66 30.082 1374.22 28.0971 Q1377.79 26.1121 1382.69 26.1121 Q1387.63 26.1121 1391.07 28.6237 Q1394.56 31.1352 1396.22 35.9153 Z\" fill=\"#000000\" fill-rule=\"nonzero\" fill-opacity=\"1\" /><path clip-path=\"url(#clip000)\" d=\"M1448.92 65.7705 L1448.92 89.8329 L1441.43 89.8329 L1441.43 27.2059 L1448.92 27.2059 L1448.92 34.0924 Q1451.27 30.0415 1454.84 28.0971 Q1458.44 26.1121 1463.42 26.1121 Q1471.69 26.1121 1476.83 32.6746 Q1482.02 39.2371 1482.02 49.9314 Q1482.02 60.6258 1476.83 67.1883 Q1471.69 73.7508 1463.42 73.7508 Q1458.44 73.7508 1454.84 71.8063 Q1451.27 69.8214 1448.92 65.7705 M1474.28 49.9314 Q1474.28 41.7081 1470.88 37.0496 Q1467.52 32.3505 1461.6 32.3505 Q1455.69 32.3505 1452.28 37.0496 Q1448.92 41.7081 1448.92 49.9314 Q1448.92 58.1548 1452.28 62.8538 Q1455.69 67.5124 1461.6 67.5124 Q1467.52 67.5124 1470.88 62.8538 Q1474.28 58.1548 1474.28 49.9314 Z\" fill=\"#000000\" fill-rule=\"nonzero\" fill-opacity=\"1\" /><path clip-path=\"url(#clip000)\" d=\"M1494.37 9.54393 L1501.83 9.54393 L1501.83 72.576 L1494.37 72.576 L1494.37 9.54393 Z\" fill=\"#000000\" fill-rule=\"nonzero\" fill-opacity=\"1\" /><path clip-path=\"url(#clip000)\" d=\"M1535 32.4315 Q1529.01 32.4315 1525.52 37.1306 Q1522.04 41.7891 1522.04 49.9314 Q1522.04 58.0738 1525.48 62.7728 Q1528.97 67.4314 1535 67.4314 Q1540.96 67.4314 1544.44 62.7323 Q1547.93 58.0333 1547.93 49.9314 Q1547.93 41.8701 1544.44 37.1711 Q1540.96 32.4315 1535 32.4315 M1535 26.1121 Q1544.73 26.1121 1550.28 32.4315 Q1555.82 38.7509 1555.82 49.9314 Q1555.82 61.0714 1550.28 67.4314 Q1544.73 73.7508 1535 73.7508 Q1525.24 73.7508 1519.69 67.4314 Q1514.18 61.0714 1514.18 49.9314 Q1514.18 38.7509 1519.69 32.4315 Q1525.24 26.1121 1535 26.1121 Z\" fill=\"#000000\" fill-rule=\"nonzero\" fill-opacity=\"1\" /><path clip-path=\"url(#clip000)\" d=\"M1597.02 65.6895 L1610.39 65.6895 L1610.39 19.5497 L1595.85 22.4663 L1595.85 15.0127 L1610.31 12.096 L1618.49 12.096 L1618.49 65.6895 L1631.86 65.6895 L1631.86 72.576 L1597.02 72.576 L1597.02 65.6895 Z\" fill=\"#000000\" fill-rule=\"nonzero\" fill-opacity=\"1\" /><path clip-path=\"url(#clip000)\" d=\"M1669.94 46.5287 L1691.77 46.5287 L1691.77 53.1722 L1669.94 53.1722 L1669.94 46.5287 Z\" fill=\"#000000\" fill-rule=\"nonzero\" fill-opacity=\"1\" /><path clip-path=\"url(#clip000)\" d=\"M1762.66 28.9478 L1762.66 35.9153 Q1759.5 34.1734 1756.3 33.3227 Q1753.14 32.4315 1749.9 32.4315 Q1742.65 32.4315 1738.64 37.0496 Q1734.63 41.6271 1734.63 49.9314 Q1734.63 58.2358 1738.64 62.8538 Q1742.65 67.4314 1749.9 67.4314 Q1753.14 67.4314 1756.3 66.5807 Q1759.5 65.6895 1762.66 63.9476 L1762.66 70.8341 Q1759.54 72.2924 1756.18 73.0216 Q1752.86 73.7508 1749.09 73.7508 Q1738.84 73.7508 1732.81 67.3098 Q1726.77 60.8689 1726.77 49.9314 Q1726.77 38.832 1732.85 32.472 Q1738.97 26.1121 1749.58 26.1121 Q1753.02 26.1121 1756.3 26.8413 Q1759.59 27.5299 1762.66 28.9478 Z\" fill=\"#000000\" fill-rule=\"nonzero\" fill-opacity=\"1\" /><path clip-path=\"url(#clip000)\" d=\"M1796.25 49.7694 Q1787.21 49.7694 1783.73 51.8354 Q1780.25 53.9013 1780.25 58.8839 Q1780.25 62.8538 1782.84 65.2034 Q1785.47 67.5124 1789.97 67.5124 Q1796.17 67.5124 1799.89 63.1374 Q1803.66 58.7219 1803.66 51.4303 L1803.66 49.7694 L1796.25 49.7694 M1811.11 46.6907 L1811.11 72.576 L1803.66 72.576 L1803.66 65.6895 Q1801.11 69.8214 1797.3 71.8063 Q1793.49 73.7508 1787.98 73.7508 Q1781.01 73.7508 1776.88 69.8619 Q1772.79 65.9325 1772.79 59.3701 Q1772.79 51.7138 1777.9 47.825 Q1783.04 43.9361 1793.21 43.9361 L1803.66 43.9361 L1803.66 43.2069 Q1803.66 38.0623 1800.26 35.2672 Q1796.89 32.4315 1790.78 32.4315 Q1786.89 32.4315 1783.2 33.3632 Q1779.52 34.295 1776.11 36.1584 L1776.11 29.2718 Q1780.2 27.692 1784.05 26.9223 Q1787.9 26.1121 1791.55 26.1121 Q1801.39 26.1121 1806.25 31.2163 Q1811.11 36.3204 1811.11 46.6907 Z\" fill=\"#000000\" fill-rule=\"nonzero\" fill-opacity=\"1\" /><path clip-path=\"url(#clip000)\" d=\"M1855.39 28.5427 L1855.39 35.5912 Q1852.23 33.9709 1848.83 33.1607 Q1845.42 32.3505 1841.78 32.3505 Q1836.23 32.3505 1833.43 34.0519 Q1830.68 35.7533 1830.68 39.156 Q1830.68 41.7486 1832.66 43.2475 Q1834.65 44.7058 1840.64 46.0426 L1843.2 46.6097 Q1851.14 48.3111 1854.46 51.4303 Q1857.82 54.509 1857.82 60.0587 Q1857.82 66.3781 1852.8 70.0644 Q1847.81 73.7508 1839.06 73.7508 Q1835.42 73.7508 1831.45 73.0216 Q1827.52 72.3329 1823.14 70.9151 L1823.14 63.2184 Q1827.28 65.3654 1831.29 66.4591 Q1835.3 67.5124 1839.23 67.5124 Q1844.49 67.5124 1847.33 65.73 Q1850.16 63.9071 1850.16 60.6258 Q1850.16 57.5877 1848.1 55.9673 Q1846.07 54.3469 1839.15 52.8481 L1836.55 52.2405 Q1829.63 50.7821 1826.55 47.7845 Q1823.47 44.7463 1823.47 39.4801 Q1823.47 33.0797 1828.01 29.5959 Q1832.54 26.1121 1840.89 26.1121 Q1845.02 26.1121 1848.66 26.7198 Q1852.31 27.3274 1855.39 28.5427 Z\" fill=\"#000000\" fill-rule=\"nonzero\" fill-opacity=\"1\" /><path clip-path=\"url(#clip000)\" d=\"M1908.5 48.0275 L1908.5 51.6733 L1874.23 51.6733 Q1874.71 59.3701 1878.84 63.421 Q1883.02 67.4314 1890.43 67.4314 Q1894.72 67.4314 1898.73 66.3781 Q1902.78 65.3249 1906.75 63.2184 L1906.75 70.267 Q1902.74 71.9684 1898.53 72.8596 Q1894.32 73.7508 1889.98 73.7508 Q1879.13 73.7508 1872.77 67.4314 Q1866.45 61.1119 1866.45 50.3365 Q1866.45 39.1965 1872.44 32.6746 Q1878.48 26.1121 1888.69 26.1121 Q1897.84 26.1121 1903.15 32.0264 Q1908.5 37.9003 1908.5 48.0275 M1901.04 45.84 Q1900.96 39.7232 1897.6 36.0774 Q1894.28 32.4315 1888.77 32.4315 Q1882.53 32.4315 1878.76 35.9558 Q1875.04 39.4801 1874.47 45.8805 L1901.04 45.84 Z\" fill=\"#000000\" fill-rule=\"nonzero\" fill-opacity=\"1\" /><path clip-path=\"url(#clip000)\" d=\"M1948.07 34.9026 L2000.01 34.9026 L2000.01 41.7081 L1948.07 41.7081 L1948.07 34.9026 M1948.07 51.4303 L2000.01 51.4303 L2000.01 58.3168 L1948.07 58.3168 L1948.07 51.4303 Z\" fill=\"#000000\" fill-rule=\"nonzero\" fill-opacity=\"1\" /><path clip-path=\"url(#clip000)\" d=\"M2045.46 65.6895 L2058.83 65.6895 L2058.83 19.5497 L2044.28 22.4663 L2044.28 15.0127 L2058.74 12.096 L2066.93 12.096 L2066.93 65.6895 L2080.3 65.6895 L2080.3 72.576 L2045.46 72.576 L2045.46 65.6895 Z\" fill=\"#000000\" fill-rule=\"nonzero\" fill-opacity=\"1\" /><polyline clip-path=\"url(#clip002)\" style=\"stroke:#009af9; stroke-linecap:round; stroke-linejoin:round; stroke-width:12; stroke-opacity:1; fill:none\" points=\"2293.3,375.366 1797.8,457.178 1302.3,561.076 806.801,683.556 311.302,818.886 \"/>\n",
       "<circle clip-path=\"url(#clip002)\" cx=\"2293.3\" cy=\"375.366\" r=\"14.4\" fill=\"#009af9\" fill-rule=\"evenodd\" fill-opacity=\"1\" stroke=\"#000000\" stroke-opacity=\"1\" stroke-width=\"3.2\"/>\n",
       "<circle clip-path=\"url(#clip002)\" cx=\"1797.8\" cy=\"457.178\" r=\"14.4\" fill=\"#009af9\" fill-rule=\"evenodd\" fill-opacity=\"1\" stroke=\"#000000\" stroke-opacity=\"1\" stroke-width=\"3.2\"/>\n",
       "<circle clip-path=\"url(#clip002)\" cx=\"1302.3\" cy=\"561.076\" r=\"14.4\" fill=\"#009af9\" fill-rule=\"evenodd\" fill-opacity=\"1\" stroke=\"#000000\" stroke-opacity=\"1\" stroke-width=\"3.2\"/>\n",
       "<circle clip-path=\"url(#clip002)\" cx=\"806.801\" cy=\"683.556\" r=\"14.4\" fill=\"#009af9\" fill-rule=\"evenodd\" fill-opacity=\"1\" stroke=\"#000000\" stroke-opacity=\"1\" stroke-width=\"3.2\"/>\n",
       "<circle clip-path=\"url(#clip002)\" cx=\"311.302\" cy=\"818.886\" r=\"14.4\" fill=\"#009af9\" fill-rule=\"evenodd\" fill-opacity=\"1\" stroke=\"#000000\" stroke-opacity=\"1\" stroke-width=\"3.2\"/>\n",
       "<polyline clip-path=\"url(#clip002)\" style=\"stroke:#e26f46; stroke-linecap:round; stroke-linejoin:round; stroke-width:12; stroke-opacity:1; fill:none\" points=\"2293.3,159.909 1797.8,463.547 1302.3,767.184 806.801,1070.82 311.302,1374.46 \"/>\n",
       "<path clip-path=\"url(#clip000)\" d=\"M321.873 321.906 L620.783 321.906 L620.783 166.386 L321.873 166.386  Z\" fill=\"#ffffff\" fill-rule=\"evenodd\" fill-opacity=\"1\"/>\n",
       "<polyline clip-path=\"url(#clip000)\" style=\"stroke:#000000; stroke-linecap:round; stroke-linejoin:round; stroke-width:4; stroke-opacity:1; fill:none\" points=\"321.873,321.906 620.783,321.906 620.783,166.386 321.873,166.386 321.873,321.906 \"/>\n",
       "<polyline clip-path=\"url(#clip000)\" style=\"stroke:#009af9; stroke-linecap:round; stroke-linejoin:round; stroke-width:12; stroke-opacity:1; fill:none\" points=\"345.216,218.226 485.277,218.226 \"/>\n",
       "<circle clip-path=\"url(#clip000)\" cx=\"415.247\" cy=\"218.226\" r=\"19.4529\" fill=\"#009af9\" fill-rule=\"evenodd\" fill-opacity=\"1\" stroke=\"#000000\" stroke-opacity=\"1\" stroke-width=\"4.55111\"/>\n",
       "<path clip-path=\"url(#clip000)\" d=\"M508.621 200.946 L530.472 200.946 L530.472 204.881 L513.297 204.881 L513.297 215.113 L529.755 215.113 L529.755 219.048 L513.297 219.048 L513.297 231.571 L530.889 231.571 L530.889 235.506 L508.621 235.506 L508.621 200.946 Z\" fill=\"#000000\" fill-rule=\"nonzero\" fill-opacity=\"1\" /><path clip-path=\"url(#clip000)\" d=\"M553.412 213.562 Q552.695 213.145 551.838 212.96 Q551.005 212.752 549.986 212.752 Q546.375 212.752 544.431 215.113 Q542.509 217.451 542.509 221.849 L542.509 235.506 L538.227 235.506 L538.227 209.58 L542.509 209.58 L542.509 213.608 Q543.852 211.247 546.005 210.113 Q548.158 208.955 551.236 208.955 Q551.676 208.955 552.208 209.025 Q552.741 209.071 553.389 209.187 L553.412 213.562 Z\" fill=\"#000000\" fill-rule=\"nonzero\" fill-opacity=\"1\" /><path clip-path=\"url(#clip000)\" d=\"M572.069 213.562 Q571.352 213.145 570.495 212.96 Q569.662 212.752 568.644 212.752 Q565.032 212.752 563.088 215.113 Q561.167 217.451 561.167 221.849 L561.167 235.506 L556.884 235.506 L556.884 209.58 L561.167 209.58 L561.167 213.608 Q562.509 211.247 564.662 210.113 Q566.815 208.955 569.894 208.955 Q570.333 208.955 570.866 209.025 Q571.398 209.071 572.046 209.187 L572.069 213.562 Z\" fill=\"#000000\" fill-rule=\"nonzero\" fill-opacity=\"1\" /><path clip-path=\"url(#clip000)\" d=\"M585.542 212.567 Q582.116 212.567 580.125 215.252 Q578.134 217.914 578.134 222.567 Q578.134 227.219 580.102 229.904 Q582.093 232.566 585.542 232.566 Q588.944 232.566 590.935 229.881 Q592.926 227.196 592.926 222.567 Q592.926 217.96 590.935 215.275 Q588.944 212.567 585.542 212.567 M585.542 208.955 Q591.097 208.955 594.268 212.567 Q597.44 216.178 597.44 222.567 Q597.44 228.932 594.268 232.566 Q591.097 236.178 585.542 236.178 Q579.963 236.178 576.792 232.566 Q573.643 228.932 573.643 222.567 Q573.643 216.178 576.792 212.567 Q579.963 208.955 585.542 208.955 Z\" fill=\"#000000\" fill-rule=\"nonzero\" fill-opacity=\"1\" /><polyline clip-path=\"url(#clip000)\" style=\"stroke:#e26f46; stroke-linecap:round; stroke-linejoin:round; stroke-width:12; stroke-opacity:1; fill:none\" points=\"345.216,270.066 485.277,270.066 \"/>\n",
       "<path clip-path=\"url(#clip000)\" d=\"M530.334 271.698 L530.334 287.346 L526.074 287.346 L526.074 271.837 Q526.074 268.157 524.639 266.328 Q523.204 264.499 520.334 264.499 Q516.885 264.499 514.894 266.698 Q512.903 268.897 512.903 272.694 L512.903 287.346 L508.621 287.346 L508.621 251.328 L512.903 251.328 L512.903 265.448 Q514.431 263.11 516.491 261.953 Q518.574 260.795 521.283 260.795 Q525.75 260.795 528.042 263.573 Q530.334 266.328 530.334 271.698 Z\" fill=\"#000000\" fill-rule=\"nonzero\" fill-opacity=\"1\" /><path clip-path=\"url(#clip000)\" d=\"M540.565 269.245 L550.38 269.245 L550.38 271.883 L536.537 271.883 L536.537 269.337 Q537.324 268.62 538.783 267.323 Q546.745 260.263 546.745 258.087 Q546.745 256.559 545.542 255.633 Q544.338 254.684 542.371 254.684 Q541.167 254.684 539.755 255.101 Q538.343 255.495 536.676 256.305 L536.676 253.458 Q538.458 252.809 539.986 252.485 Q541.537 252.161 542.857 252.161 Q546.213 252.161 548.227 253.689 Q550.241 255.217 550.241 257.717 Q550.241 260.934 542.579 267.508 Q541.283 268.62 540.565 269.245 Z\" fill=\"#000000\" fill-rule=\"nonzero\" fill-opacity=\"1\" /></svg>\n"
      ],
      "text/html": [
       "<?xml version=\"1.0\" encoding=\"utf-8\"?>\n",
       "<svg xmlns=\"http://www.w3.org/2000/svg\" xmlns:xlink=\"http://www.w3.org/1999/xlink\" width=\"600\" height=\"400\" viewBox=\"0 0 2400 1600\">\n",
       "<defs>\n",
       "  <clipPath id=\"clip050\">\n",
       "    <rect x=\"0\" y=\"0\" width=\"2400\" height=\"1600\"/>\n",
       "  </clipPath>\n",
       "</defs>\n",
       "<path clip-path=\"url(#clip050)\" d=\"M0 1600 L2400 1600 L2400 0 L0 0  Z\" fill=\"#ffffff\" fill-rule=\"evenodd\" fill-opacity=\"1\"/>\n",
       "<defs>\n",
       "  <clipPath id=\"clip051\">\n",
       "    <rect x=\"480\" y=\"0\" width=\"1681\" height=\"1600\"/>\n",
       "  </clipPath>\n",
       "</defs>\n",
       "<path clip-path=\"url(#clip050)\" d=\"M251.842 1410.9 L2352.76 1410.9 L2352.76 123.472 L251.842 123.472  Z\" fill=\"#ffffff\" fill-rule=\"evenodd\" fill-opacity=\"1\"/>\n",
       "<defs>\n",
       "  <clipPath id=\"clip052\">\n",
       "    <rect x=\"251\" y=\"123\" width=\"2102\" height=\"1288\"/>\n",
       "  </clipPath>\n",
       "</defs>\n",
       "<polyline clip-path=\"url(#clip052)\" style=\"stroke:#000000; stroke-linecap:round; stroke-linejoin:round; stroke-width:2; stroke-opacity:0.1; fill:none\" points=\"815.278,1410.9 815.278,123.472 \"/>\n",
       "<polyline clip-path=\"url(#clip052)\" style=\"stroke:#000000; stroke-linecap:round; stroke-linejoin:round; stroke-width:2; stroke-opacity:0.1; fill:none\" points=\"1638.28,1410.9 1638.28,123.472 \"/>\n",
       "<polyline clip-path=\"url(#clip050)\" style=\"stroke:#000000; stroke-linecap:round; stroke-linejoin:round; stroke-width:4; stroke-opacity:1; fill:none\" points=\"251.842,1410.9 2352.76,1410.9 \"/>\n",
       "<polyline clip-path=\"url(#clip050)\" style=\"stroke:#000000; stroke-linecap:round; stroke-linejoin:round; stroke-width:4; stroke-opacity:1; fill:none\" points=\"815.278,1410.9 815.278,1392 \"/>\n",
       "<polyline clip-path=\"url(#clip050)\" style=\"stroke:#000000; stroke-linecap:round; stroke-linejoin:round; stroke-width:4; stroke-opacity:1; fill:none\" points=\"1638.28,1410.9 1638.28,1392 \"/>\n",
       "<path clip-path=\"url(#clip050)\" d=\"M746.924 1485.02 L754.562 1485.02 L754.562 1458.66 L746.252 1460.32 L746.252 1456.06 L754.516 1454.4 L759.192 1454.4 L759.192 1485.02 L766.831 1485.02 L766.831 1488.96 L746.924 1488.96 L746.924 1485.02 Z\" fill=\"#000000\" fill-rule=\"nonzero\" fill-opacity=\"1\" /><path clip-path=\"url(#clip050)\" d=\"M786.275 1457.48 Q782.664 1457.48 780.835 1461.04 Q779.03 1464.58 779.03 1471.71 Q779.03 1478.82 780.835 1482.38 Q782.664 1485.92 786.275 1485.92 Q789.91 1485.92 791.715 1482.38 Q793.544 1478.82 793.544 1471.71 Q793.544 1464.58 791.715 1461.04 Q789.91 1457.48 786.275 1457.48 M786.275 1453.77 Q792.085 1453.77 795.141 1458.38 Q798.22 1462.96 798.22 1471.71 Q798.22 1480.44 795.141 1485.04 Q792.085 1489.63 786.275 1489.63 Q780.465 1489.63 777.386 1485.04 Q774.331 1480.44 774.331 1471.71 Q774.331 1462.96 777.386 1458.38 Q780.465 1453.77 786.275 1453.77 Z\" fill=\"#000000\" fill-rule=\"nonzero\" fill-opacity=\"1\" /><path clip-path=\"url(#clip050)\" d=\"M798.22 1447.87 L822.331 1447.87 L822.331 1451.07 L798.22 1451.07 L798.22 1447.87 Z\" fill=\"#000000\" fill-rule=\"nonzero\" fill-opacity=\"1\" /><path clip-path=\"url(#clip050)\" d=\"M831.19 1458.35 L837.396 1458.35 L837.396 1436.93 L830.644 1438.28 L830.644 1434.82 L837.359 1433.47 L841.158 1433.47 L841.158 1458.35 L847.364 1458.35 L847.364 1461.55 L831.19 1461.55 L831.19 1458.35 Z\" fill=\"#000000\" fill-rule=\"nonzero\" fill-opacity=\"1\" /><path clip-path=\"url(#clip050)\" d=\"M855.038 1456.77 L859.006 1456.77 L859.006 1461.55 L855.038 1461.55 L855.038 1456.77 Z\" fill=\"#000000\" fill-rule=\"nonzero\" fill-opacity=\"1\" /><path clip-path=\"url(#clip050)\" d=\"M867.319 1433.47 L882.234 1433.47 L882.234 1436.66 L870.799 1436.66 L870.799 1443.55 Q871.626 1443.27 872.454 1443.13 Q873.281 1442.98 874.109 1442.98 Q878.811 1442.98 881.557 1445.56 Q884.303 1448.14 884.303 1452.54 Q884.303 1457.07 881.482 1459.59 Q878.66 1462.09 873.526 1462.09 Q871.758 1462.09 869.915 1461.79 Q868.091 1461.49 866.135 1460.89 L866.135 1457.07 Q867.827 1457.99 869.633 1458.44 Q871.438 1458.89 873.451 1458.89 Q876.704 1458.89 878.604 1457.18 Q880.504 1455.47 880.504 1452.54 Q880.504 1449.6 878.604 1447.89 Q876.704 1446.18 873.451 1446.18 Q871.927 1446.18 870.404 1446.52 Q868.899 1446.86 867.319 1447.57 L867.319 1433.47 Z\" fill=\"#000000\" fill-rule=\"nonzero\" fill-opacity=\"1\" /><path clip-path=\"url(#clip050)\" d=\"M1569.52 1485.02 L1577.16 1485.02 L1577.16 1458.66 L1568.85 1460.32 L1568.85 1456.06 L1577.12 1454.4 L1581.79 1454.4 L1581.79 1485.02 L1589.43 1485.02 L1589.43 1488.96 L1569.52 1488.96 L1569.52 1485.02 Z\" fill=\"#000000\" fill-rule=\"nonzero\" fill-opacity=\"1\" /><path clip-path=\"url(#clip050)\" d=\"M1608.88 1457.48 Q1605.26 1457.48 1603.44 1461.04 Q1601.63 1464.58 1601.63 1471.71 Q1601.63 1478.82 1603.44 1482.38 Q1605.26 1485.92 1608.88 1485.92 Q1612.51 1485.92 1614.32 1482.38 Q1616.14 1478.82 1616.14 1471.71 Q1616.14 1464.58 1614.32 1461.04 Q1612.51 1457.48 1608.88 1457.48 M1608.88 1453.77 Q1614.69 1453.77 1617.74 1458.38 Q1620.82 1462.96 1620.82 1471.71 Q1620.82 1480.44 1617.74 1485.04 Q1614.69 1489.63 1608.88 1489.63 Q1603.07 1489.63 1599.99 1485.04 Q1596.93 1480.44 1596.93 1471.71 Q1596.93 1462.96 1599.99 1458.38 Q1603.07 1453.77 1608.88 1453.77 Z\" fill=\"#000000\" fill-rule=\"nonzero\" fill-opacity=\"1\" /><path clip-path=\"url(#clip050)\" d=\"M1620.82 1447.87 L1644.93 1447.87 L1644.93 1451.07 L1620.82 1451.07 L1620.82 1447.87 Z\" fill=\"#000000\" fill-rule=\"nonzero\" fill-opacity=\"1\" /><path clip-path=\"url(#clip050)\" d=\"M1653.79 1458.35 L1660 1458.35 L1660 1436.93 L1653.25 1438.28 L1653.25 1434.82 L1659.96 1433.47 L1663.76 1433.47 L1663.76 1458.35 L1669.97 1458.35 L1669.97 1461.55 L1653.79 1461.55 L1653.79 1458.35 Z\" fill=\"#000000\" fill-rule=\"nonzero\" fill-opacity=\"1\" /><path clip-path=\"url(#clip050)\" d=\"M1677.64 1456.77 L1681.61 1456.77 L1681.61 1461.55 L1677.64 1461.55 L1677.64 1456.77 Z\" fill=\"#000000\" fill-rule=\"nonzero\" fill-opacity=\"1\" /><path clip-path=\"url(#clip050)\" d=\"M1698.01 1435.97 Q1695.07 1435.97 1693.59 1438.86 Q1692.12 1441.74 1692.12 1447.53 Q1692.12 1453.31 1693.59 1456.2 Q1695.07 1459.08 1698.01 1459.08 Q1700.96 1459.08 1702.43 1456.2 Q1703.91 1453.31 1703.91 1447.53 Q1703.91 1441.74 1702.43 1438.86 Q1700.96 1435.97 1698.01 1435.97 M1698.01 1432.96 Q1702.73 1432.96 1705.21 1436.7 Q1707.71 1440.43 1707.71 1447.53 Q1707.71 1454.62 1705.21 1458.37 Q1702.73 1462.09 1698.01 1462.09 Q1693.29 1462.09 1690.79 1458.37 Q1688.3 1454.62 1688.3 1447.53 Q1688.3 1440.43 1690.79 1436.7 Q1693.29 1432.96 1698.01 1432.96 Z\" fill=\"#000000\" fill-rule=\"nonzero\" fill-opacity=\"1\" /><path clip-path=\"url(#clip050)\" d=\"M1317.23 1552.67 L1317.23 1574.19 L1311.37 1574.19 L1311.37 1552.86 Q1311.37 1547.8 1309.4 1545.29 Q1307.42 1542.77 1303.48 1542.77 Q1298.73 1542.77 1296 1545.79 Q1293.26 1548.82 1293.26 1554.04 L1293.26 1574.19 L1287.37 1574.19 L1287.37 1524.66 L1293.26 1524.66 L1293.26 1544.08 Q1295.36 1540.86 1298.19 1539.27 Q1301.06 1537.68 1304.78 1537.68 Q1310.92 1537.68 1314.08 1541.5 Q1317.23 1545.29 1317.23 1552.67 Z\" fill=\"#000000\" fill-rule=\"nonzero\" fill-opacity=\"1\" /><polyline clip-path=\"url(#clip052)\" style=\"stroke:#000000; stroke-linecap:round; stroke-linejoin:round; stroke-width:2; stroke-opacity:0.1; fill:none\" points=\"251.842,1065.63 2352.76,1065.63 \"/>\n",
       "<polyline clip-path=\"url(#clip052)\" style=\"stroke:#000000; stroke-linecap:round; stroke-linejoin:round; stroke-width:2; stroke-opacity:0.1; fill:none\" points=\"251.842,561.296 2352.76,561.296 \"/>\n",
       "<polyline clip-path=\"url(#clip050)\" style=\"stroke:#000000; stroke-linecap:round; stroke-linejoin:round; stroke-width:4; stroke-opacity:1; fill:none\" points=\"251.842,1410.9 251.842,123.472 \"/>\n",
       "<polyline clip-path=\"url(#clip050)\" style=\"stroke:#000000; stroke-linecap:round; stroke-linejoin:round; stroke-width:4; stroke-opacity:1; fill:none\" points=\"251.842,1065.63 270.74,1065.63 \"/>\n",
       "<polyline clip-path=\"url(#clip050)\" style=\"stroke:#000000; stroke-linecap:round; stroke-linejoin:round; stroke-width:4; stroke-opacity:1; fill:none\" points=\"251.842,561.296 270.74,561.296 \"/>\n",
       "<path clip-path=\"url(#clip050)\" d=\"M114.931 1085.42 L122.57 1085.42 L122.57 1059.05 L114.26 1060.72 L114.26 1056.46 L122.524 1054.8 L127.2 1054.8 L127.2 1085.42 L134.839 1085.42 L134.839 1089.36 L114.931 1089.36 L114.931 1085.42 Z\" fill=\"#000000\" fill-rule=\"nonzero\" fill-opacity=\"1\" /><path clip-path=\"url(#clip050)\" d=\"M154.283 1057.87 Q150.672 1057.87 148.843 1061.44 Q147.038 1064.98 147.038 1072.11 Q147.038 1079.22 148.843 1082.78 Q150.672 1086.32 154.283 1086.32 Q157.917 1086.32 159.723 1082.78 Q161.552 1079.22 161.552 1072.11 Q161.552 1064.98 159.723 1061.44 Q157.917 1057.87 154.283 1057.87 M154.283 1054.17 Q160.093 1054.17 163.149 1058.78 Q166.227 1063.36 166.227 1072.11 Q166.227 1080.84 163.149 1085.44 Q160.093 1090.03 154.283 1090.03 Q148.473 1090.03 145.394 1085.44 Q142.339 1080.84 142.339 1072.11 Q142.339 1063.36 145.394 1058.78 Q148.473 1054.17 154.283 1054.17 Z\" fill=\"#000000\" fill-rule=\"nonzero\" fill-opacity=\"1\" /><path clip-path=\"url(#clip050)\" d=\"M166.227 1048.27 L190.339 1048.27 L190.339 1051.47 L166.227 1051.47 L166.227 1048.27 Z\" fill=\"#000000\" fill-rule=\"nonzero\" fill-opacity=\"1\" /><path clip-path=\"url(#clip050)\" d=\"M210.05 1046.8 Q212.777 1047.39 214.3 1049.23 Q215.842 1051.07 215.842 1053.78 Q215.842 1057.94 212.984 1060.21 Q210.125 1062.49 204.859 1062.49 Q203.091 1062.49 201.21 1062.13 Q199.348 1061.79 197.354 1061.1 L197.354 1057.43 Q198.934 1058.35 200.815 1058.82 Q202.696 1059.29 204.746 1059.29 Q208.319 1059.29 210.181 1057.88 Q212.062 1056.47 212.062 1053.78 Q212.062 1051.3 210.313 1049.91 Q208.583 1048.5 205.479 1048.5 L202.207 1048.5 L202.207 1045.38 L205.63 1045.38 Q208.432 1045.38 209.918 1044.27 Q211.404 1043.14 211.404 1041.03 Q211.404 1038.87 209.861 1037.72 Q208.338 1036.55 205.479 1036.55 Q203.918 1036.55 202.132 1036.89 Q200.345 1037.23 198.201 1037.95 L198.201 1034.56 Q200.364 1033.96 202.244 1033.66 Q204.144 1033.36 205.818 1033.36 Q210.144 1033.36 212.664 1035.33 Q215.184 1037.29 215.184 1040.64 Q215.184 1042.97 213.849 1044.59 Q212.513 1046.18 210.05 1046.8 Z\" fill=\"#000000\" fill-rule=\"nonzero\" fill-opacity=\"1\" /><path clip-path=\"url(#clip050)\" d=\"M115.703 581.089 L123.341 581.089 L123.341 554.723 L115.031 556.39 L115.031 552.13 L123.295 550.464 L127.971 550.464 L127.971 581.089 L135.61 581.089 L135.61 585.024 L115.703 585.024 L115.703 581.089 Z\" fill=\"#000000\" fill-rule=\"nonzero\" fill-opacity=\"1\" /><path clip-path=\"url(#clip050)\" d=\"M155.054 553.542 Q151.443 553.542 149.614 557.107 Q147.809 560.649 147.809 567.778 Q147.809 574.885 149.614 578.45 Q151.443 581.991 155.054 581.991 Q158.688 581.991 160.494 578.45 Q162.323 574.885 162.323 567.778 Q162.323 560.649 160.494 557.107 Q158.688 553.542 155.054 553.542 M155.054 549.839 Q160.864 549.839 163.92 554.445 Q166.999 559.028 166.999 567.778 Q166.999 576.505 163.92 581.112 Q160.864 585.695 155.054 585.695 Q149.244 585.695 146.165 581.112 Q143.11 576.505 143.11 567.778 Q143.11 559.028 146.165 554.445 Q149.244 549.839 155.054 549.839 Z\" fill=\"#000000\" fill-rule=\"nonzero\" fill-opacity=\"1\" /><path clip-path=\"url(#clip050)\" d=\"M166.999 543.94 L191.11 543.94 L191.11 547.137 L166.999 547.137 L166.999 543.94 Z\" fill=\"#000000\" fill-rule=\"nonzero\" fill-opacity=\"1\" /><path clip-path=\"url(#clip050)\" d=\"M202.583 554.416 L215.842 554.416 L215.842 557.613 L198.013 557.613 L198.013 554.416 Q200.175 552.178 203.899 548.416 Q207.642 544.636 208.601 543.545 Q210.426 541.495 211.14 540.084 Q211.874 538.655 211.874 537.282 Q211.874 535.044 210.294 533.633 Q208.733 532.223 206.213 532.223 Q204.426 532.223 202.432 532.843 Q200.458 533.464 198.201 534.724 L198.201 530.887 Q200.495 529.966 202.489 529.496 Q204.482 529.025 206.138 529.025 Q210.501 529.025 213.096 531.207 Q215.692 533.389 215.692 537.038 Q215.692 538.768 215.034 540.329 Q214.394 541.871 212.683 543.978 Q212.212 544.523 209.692 547.137 Q207.172 549.733 202.583 554.416 Z\" fill=\"#000000\" fill-rule=\"nonzero\" fill-opacity=\"1\" /><path clip-path=\"url(#clip050)\" d=\"M16.4842 828.247 L16.4842 798.201 L21.895 798.201 L21.895 821.818 L35.9632 821.818 L35.9632 799.188 L41.3741 799.188 L41.3741 821.818 L58.5933 821.818 L58.5933 797.628 L64.0042 797.628 L64.0042 828.247 L16.4842 828.247 Z\" fill=\"#000000\" fill-rule=\"nonzero\" fill-opacity=\"1\" /><path clip-path=\"url(#clip050)\" d=\"M33.8307 766.659 Q33.2578 767.646 33.0032 768.824 Q32.7167 769.969 32.7167 771.37 Q32.7167 776.335 35.9632 779.009 Q39.1779 781.65 45.2253 781.65 L64.0042 781.65 L64.0042 787.539 L28.3562 787.539 L28.3562 781.65 L33.8944 781.65 Q30.6479 779.804 29.0883 776.844 Q27.4968 773.884 27.4968 769.651 Q27.4968 769.046 27.5923 768.314 Q27.656 767.582 27.8151 766.691 L33.8307 766.659 Z\" fill=\"#000000\" fill-rule=\"nonzero\" fill-opacity=\"1\" /><path clip-path=\"url(#clip050)\" d=\"M33.8307 741.005 Q33.2578 741.992 33.0032 743.17 Q32.7167 744.316 32.7167 745.716 Q32.7167 750.681 35.9632 753.355 Q39.1779 755.997 45.2253 755.997 L64.0042 755.997 L64.0042 761.885 L28.3562 761.885 L28.3562 755.997 L33.8944 755.997 Q30.6479 754.151 29.0883 751.191 Q27.4968 748.23 27.4968 743.997 Q27.4968 743.393 27.5923 742.66 Q27.656 741.928 27.8151 741.037 L33.8307 741.005 Z\" fill=\"#000000\" fill-rule=\"nonzero\" fill-opacity=\"1\" /><path clip-path=\"url(#clip050)\" d=\"M32.4621 722.481 Q32.4621 727.192 36.1542 729.929 Q39.8145 732.666 46.212 732.666 Q52.6095 732.666 56.3017 729.961 Q59.9619 727.224 59.9619 722.481 Q59.9619 717.802 56.2698 715.065 Q52.5777 712.328 46.212 712.328 Q39.8781 712.328 36.186 715.065 Q32.4621 717.802 32.4621 722.481 M27.4968 722.481 Q27.4968 714.842 32.4621 710.482 Q37.4273 706.121 46.212 706.121 Q54.9649 706.121 59.9619 710.482 Q64.9272 714.842 64.9272 722.481 Q64.9272 730.152 59.9619 734.512 Q54.9649 738.841 46.212 738.841 Q37.4273 738.841 32.4621 734.512 Q27.4968 730.152 27.4968 722.481 Z\" fill=\"#000000\" fill-rule=\"nonzero\" fill-opacity=\"1\" /><path clip-path=\"url(#clip050)\" d=\"M524.303 12.096 L562.543 12.096 L562.543 18.9825 L532.486 18.9825 L532.486 36.8875 L561.287 36.8875 L561.287 43.7741 L532.486 43.7741 L532.486 65.6895 L563.272 65.6895 L563.272 72.576 L524.303 72.576 L524.303 12.096 Z\" fill=\"#000000\" fill-rule=\"nonzero\" fill-opacity=\"1\" /><path clip-path=\"url(#clip050)\" d=\"M605.321 28.5427 L605.321 35.5912 Q602.161 33.9709 598.758 33.1607 Q595.356 32.3505 591.71 32.3505 Q586.16 32.3505 583.365 34.0519 Q580.61 35.7533 580.61 39.156 Q580.61 41.7486 582.595 43.2475 Q584.58 44.7058 590.576 46.0426 L593.128 46.6097 Q601.067 48.3111 604.389 51.4303 Q607.751 54.509 607.751 60.0587 Q607.751 66.3781 602.728 70.0644 Q597.746 73.7508 588.996 73.7508 Q585.35 73.7508 581.38 73.0216 Q577.451 72.3329 573.076 70.9151 L573.076 63.2184 Q577.208 65.3654 581.218 66.4591 Q585.228 67.5124 589.158 67.5124 Q594.424 67.5124 597.26 65.73 Q600.095 63.9071 600.095 60.6258 Q600.095 57.5877 598.029 55.9673 Q596.004 54.3469 589.077 52.8481 L586.484 52.2405 Q579.557 50.7821 576.478 47.7845 Q573.4 44.7463 573.4 39.4801 Q573.4 33.0797 577.937 29.5959 Q582.474 26.1121 590.819 26.1121 Q594.95 26.1121 598.596 26.7198 Q602.242 27.3274 605.321 28.5427 Z\" fill=\"#000000\" fill-rule=\"nonzero\" fill-opacity=\"1\" /><path clip-path=\"url(#clip050)\" d=\"M626.993 14.324 L626.993 27.2059 L642.346 27.2059 L642.346 32.9987 L626.993 32.9987 L626.993 57.6282 Q626.993 63.1779 628.492 64.7578 Q630.031 66.3376 634.69 66.3376 L642.346 66.3376 L642.346 72.576 L634.69 72.576 Q626.061 72.576 622.78 69.3758 Q619.499 66.1351 619.499 57.6282 L619.499 32.9987 L614.03 32.9987 L614.03 27.2059 L619.499 27.2059 L619.499 14.324 L626.993 14.324 Z\" fill=\"#000000\" fill-rule=\"nonzero\" fill-opacity=\"1\" /><path clip-path=\"url(#clip050)\" d=\"M651.38 54.671 L651.38 27.2059 L658.833 27.2059 L658.833 54.3874 Q658.833 60.8284 661.345 64.0691 Q663.856 67.2693 668.879 67.2693 Q674.915 67.2693 678.399 63.421 Q681.923 59.5726 681.923 52.9291 L681.923 27.2059 L689.377 27.2059 L689.377 72.576 L681.923 72.576 L681.923 65.6084 Q679.209 69.7404 675.604 71.7658 Q672.039 73.7508 667.3 73.7508 Q659.481 73.7508 655.43 68.8897 Q651.38 64.0286 651.38 54.671 M670.135 26.1121 L670.135 26.1121 Z\" fill=\"#000000\" fill-rule=\"nonzero\" fill-opacity=\"1\" /><path clip-path=\"url(#clip050)\" d=\"M734.585 34.0924 L734.585 9.54393 L742.039 9.54393 L742.039 72.576 L734.585 72.576 L734.585 65.7705 Q732.236 69.8214 728.63 71.8063 Q725.066 73.7508 720.042 73.7508 Q711.819 73.7508 706.634 67.1883 Q701.489 60.6258 701.489 49.9314 Q701.489 39.2371 706.634 32.6746 Q711.819 26.1121 720.042 26.1121 Q725.066 26.1121 728.63 28.0971 Q732.236 30.0415 734.585 34.0924 M709.186 49.9314 Q709.186 58.1548 712.548 62.8538 Q715.951 67.5124 721.865 67.5124 Q727.78 67.5124 731.182 62.8538 Q734.585 58.1548 734.585 49.9314 Q734.585 41.7081 731.182 37.0496 Q727.78 32.3505 721.865 32.3505 Q715.951 32.3505 712.548 37.0496 Q709.186 41.7081 709.186 49.9314 Z\" fill=\"#000000\" fill-rule=\"nonzero\" fill-opacity=\"1\" /><path clip-path=\"url(#clip050)\" d=\"M774.973 32.4315 Q768.977 32.4315 765.494 37.1306 Q762.01 41.7891 762.01 49.9314 Q762.01 58.0738 765.453 62.7728 Q768.937 67.4314 774.973 67.4314 Q780.928 67.4314 784.411 62.7323 Q787.895 58.0333 787.895 49.9314 Q787.895 41.8701 784.411 37.1711 Q780.928 32.4315 774.973 32.4315 M774.973 26.1121 Q784.695 26.1121 790.245 32.4315 Q795.794 38.7509 795.794 49.9314 Q795.794 61.0714 790.245 67.4314 Q784.695 73.7508 774.973 73.7508 Q765.21 73.7508 759.66 67.4314 Q754.151 61.0714 754.151 49.9314 Q754.151 38.7509 759.66 32.4315 Q765.21 26.1121 774.973 26.1121 Z\" fill=\"#000000\" fill-rule=\"nonzero\" fill-opacity=\"1\" /><path clip-path=\"url(#clip050)\" d=\"M864.376 34.0924 L864.376 9.54393 L871.83 9.54393 L871.83 72.576 L864.376 72.576 L864.376 65.7705 Q862.027 69.8214 858.421 71.8063 Q854.857 73.7508 849.833 73.7508 Q841.61 73.7508 836.425 67.1883 Q831.28 60.6258 831.28 49.9314 Q831.28 39.2371 836.425 32.6746 Q841.61 26.1121 849.833 26.1121 Q854.857 26.1121 858.421 28.0971 Q862.027 30.0415 864.376 34.0924 M838.977 49.9314 Q838.977 58.1548 842.339 62.8538 Q845.742 67.5124 851.656 67.5124 Q857.571 67.5124 860.973 62.8538 Q864.376 58.1548 864.376 49.9314 Q864.376 41.7081 860.973 37.0496 Q857.571 32.3505 851.656 32.3505 Q845.742 32.3505 842.339 37.0496 Q838.977 41.7081 838.977 49.9314 Z\" fill=\"#000000\" fill-rule=\"nonzero\" fill-opacity=\"1\" /><path clip-path=\"url(#clip050)\" d=\"M904.764 32.4315 Q898.768 32.4315 895.285 37.1306 Q891.801 41.7891 891.801 49.9314 Q891.801 58.0738 895.244 62.7728 Q898.728 67.4314 904.764 67.4314 Q910.718 67.4314 914.202 62.7323 Q917.686 58.0333 917.686 49.9314 Q917.686 41.8701 914.202 37.1711 Q910.718 32.4315 904.764 32.4315 M904.764 26.1121 Q914.486 26.1121 920.036 32.4315 Q925.585 38.7509 925.585 49.9314 Q925.585 61.0714 920.036 67.4314 Q914.486 73.7508 904.764 73.7508 Q895.001 73.7508 889.451 67.4314 Q883.942 61.0714 883.942 49.9314 Q883.942 38.7509 889.451 32.4315 Q895.001 26.1121 904.764 26.1121 Z\" fill=\"#000000\" fill-rule=\"nonzero\" fill-opacity=\"1\" /><path clip-path=\"url(#clip050)\" d=\"M1003.12 48.0275 L1003.12 51.6733 L968.849 51.6733 Q969.335 59.3701 973.467 63.421 Q977.639 67.4314 985.053 67.4314 Q989.347 67.4314 993.357 66.3781 Q997.408 65.3249 1001.38 63.2184 L1001.38 70.267 Q997.367 71.9684 993.154 72.8596 Q988.941 73.7508 984.607 73.7508 Q973.751 73.7508 967.391 67.4314 Q961.071 61.1119 961.071 50.3365 Q961.071 39.1965 967.067 32.6746 Q973.102 26.1121 983.311 26.1121 Q992.466 26.1121 997.772 32.0264 Q1003.12 37.9003 1003.12 48.0275 M995.666 45.84 Q995.585 39.7232 992.223 36.0774 Q988.901 32.4315 983.392 32.4315 Q977.153 32.4315 973.386 35.9558 Q969.659 39.4801 969.092 45.8805 L995.666 45.84 Z\" fill=\"#000000\" fill-rule=\"nonzero\" fill-opacity=\"1\" /><path clip-path=\"url(#clip050)\" d=\"M1041.64 34.1734 Q1040.39 33.4443 1038.89 33.1202 Q1037.43 32.7556 1035.65 32.7556 Q1029.33 32.7556 1025.93 36.8875 Q1022.56 40.9789 1022.56 48.6757 L1022.56 72.576 L1015.07 72.576 L1015.07 27.2059 L1022.56 27.2059 L1022.56 34.2544 Q1024.91 30.1225 1028.68 28.1376 Q1032.45 26.1121 1037.84 26.1121 Q1038.61 26.1121 1039.54 26.2337 Q1040.47 26.3147 1041.6 26.5172 L1041.64 34.1734 Z\" fill=\"#000000\" fill-rule=\"nonzero\" fill-opacity=\"1\" /><path clip-path=\"url(#clip050)\" d=\"M1074.29 34.1734 Q1073.04 33.4443 1071.54 33.1202 Q1070.08 32.7556 1068.3 32.7556 Q1061.98 32.7556 1058.58 36.8875 Q1055.21 40.9789 1055.21 48.6757 L1055.21 72.576 L1047.72 72.576 L1047.72 27.2059 L1055.21 27.2059 L1055.21 34.2544 Q1057.56 30.1225 1061.33 28.1376 Q1065.1 26.1121 1070.49 26.1121 Q1071.26 26.1121 1072.19 26.2337 Q1073.12 26.3147 1074.25 26.5172 L1074.29 34.1734 Z\" fill=\"#000000\" fill-rule=\"nonzero\" fill-opacity=\"1\" /><path clip-path=\"url(#clip050)\" d=\"M1097.87 32.4315 Q1091.87 32.4315 1088.39 37.1306 Q1084.91 41.7891 1084.91 49.9314 Q1084.91 58.0738 1088.35 62.7728 Q1091.83 67.4314 1097.87 67.4314 Q1103.83 67.4314 1107.31 62.7323 Q1110.79 58.0333 1110.79 49.9314 Q1110.79 41.8701 1107.31 37.1711 Q1103.83 32.4315 1097.87 32.4315 M1097.87 26.1121 Q1107.59 26.1121 1113.14 32.4315 Q1118.69 38.7509 1118.69 49.9314 Q1118.69 61.0714 1113.14 67.4314 Q1107.59 73.7508 1097.87 73.7508 Q1088.11 73.7508 1082.56 67.4314 Q1077.05 61.0714 1077.05 49.9314 Q1077.05 38.7509 1082.56 32.4315 Q1088.11 26.1121 1097.87 26.1121 Z\" fill=\"#000000\" fill-rule=\"nonzero\" fill-opacity=\"1\" /><path clip-path=\"url(#clip050)\" d=\"M1153.65 46.5287 L1175.49 46.5287 L1175.49 53.1722 L1153.65 53.1722 L1153.65 46.5287 Z\" fill=\"#000000\" fill-rule=\"nonzero\" fill-opacity=\"1\" /><path clip-path=\"url(#clip050)\" d=\"M1252.53 48.0275 L1252.53 51.6733 L1218.26 51.6733 Q1218.75 59.3701 1222.88 63.421 Q1227.05 67.4314 1234.47 67.4314 Q1238.76 67.4314 1242.77 66.3781 Q1246.82 65.3249 1250.79 63.2184 L1250.79 70.267 Q1246.78 71.9684 1242.57 72.8596 Q1238.36 73.7508 1234.02 73.7508 Q1223.16 73.7508 1216.8 67.4314 Q1210.49 61.1119 1210.49 50.3365 Q1210.49 39.1965 1216.48 32.6746 Q1222.52 26.1121 1232.72 26.1121 Q1241.88 26.1121 1247.19 32.0264 Q1252.53 37.9003 1252.53 48.0275 M1245.08 45.84 Q1245 39.7232 1241.64 36.0774 Q1238.32 32.4315 1232.81 32.4315 Q1226.57 32.4315 1222.8 35.9558 Q1219.07 39.4801 1218.51 45.8805 L1245.08 45.84 Z\" fill=\"#000000\" fill-rule=\"nonzero\" fill-opacity=\"1\" /><path clip-path=\"url(#clip050)\" d=\"M1301.02 27.2059 L1284.62 49.2833 L1301.87 72.576 L1293.08 72.576 L1279.88 54.752 L1266.67 72.576 L1257.88 72.576 L1275.5 48.8377 L1259.38 27.2059 L1268.17 27.2059 L1280.2 43.369 L1292.23 27.2059 L1301.02 27.2059 Z\" fill=\"#000000\" fill-rule=\"nonzero\" fill-opacity=\"1\" /><path clip-path=\"url(#clip050)\" d=\"M1348.66 48.0275 L1348.66 51.6733 L1314.39 51.6733 Q1314.88 59.3701 1319.01 63.421 Q1323.18 67.4314 1330.59 67.4314 Q1334.89 67.4314 1338.9 66.3781 Q1342.95 65.3249 1346.92 63.2184 L1346.92 70.267 Q1342.91 71.9684 1338.7 72.8596 Q1334.48 73.7508 1330.15 73.7508 Q1319.29 73.7508 1312.93 67.4314 Q1306.61 61.1119 1306.61 50.3365 Q1306.61 39.1965 1312.61 32.6746 Q1318.64 26.1121 1328.85 26.1121 Q1338.01 26.1121 1343.31 32.0264 Q1348.66 37.9003 1348.66 48.0275 M1341.21 45.84 Q1341.13 39.7232 1337.76 36.0774 Q1334.44 32.4315 1328.93 32.4315 Q1322.7 32.4315 1318.93 35.9558 Q1315.2 39.4801 1314.63 45.8805 L1341.21 45.84 Z\" fill=\"#000000\" fill-rule=\"nonzero\" fill-opacity=\"1\" /><path clip-path=\"url(#clip050)\" d=\"M1396.22 35.9153 Q1399.01 30.8922 1402.9 28.5022 Q1406.79 26.1121 1412.06 26.1121 Q1419.15 26.1121 1423 31.0947 Q1426.84 36.0368 1426.84 45.1919 L1426.84 72.576 L1419.35 72.576 L1419.35 45.4349 Q1419.35 38.913 1417.04 35.7533 Q1414.73 32.5936 1409.99 32.5936 Q1404.2 32.5936 1400.84 36.4419 Q1397.48 40.2903 1397.48 46.9338 L1397.48 72.576 L1389.98 72.576 L1389.98 45.4349 Q1389.98 38.8725 1387.67 35.7533 Q1385.36 32.5936 1380.54 32.5936 Q1374.83 32.5936 1371.47 36.4824 Q1368.11 40.3308 1368.11 46.9338 L1368.11 72.576 L1360.61 72.576 L1360.61 27.2059 L1368.11 27.2059 L1368.11 34.2544 Q1370.66 30.082 1374.22 28.0971 Q1377.79 26.1121 1382.69 26.1121 Q1387.63 26.1121 1391.07 28.6237 Q1394.56 31.1352 1396.22 35.9153 Z\" fill=\"#000000\" fill-rule=\"nonzero\" fill-opacity=\"1\" /><path clip-path=\"url(#clip050)\" d=\"M1448.92 65.7705 L1448.92 89.8329 L1441.43 89.8329 L1441.43 27.2059 L1448.92 27.2059 L1448.92 34.0924 Q1451.27 30.0415 1454.84 28.0971 Q1458.44 26.1121 1463.42 26.1121 Q1471.69 26.1121 1476.83 32.6746 Q1482.02 39.2371 1482.02 49.9314 Q1482.02 60.6258 1476.83 67.1883 Q1471.69 73.7508 1463.42 73.7508 Q1458.44 73.7508 1454.84 71.8063 Q1451.27 69.8214 1448.92 65.7705 M1474.28 49.9314 Q1474.28 41.7081 1470.88 37.0496 Q1467.52 32.3505 1461.6 32.3505 Q1455.69 32.3505 1452.28 37.0496 Q1448.92 41.7081 1448.92 49.9314 Q1448.92 58.1548 1452.28 62.8538 Q1455.69 67.5124 1461.6 67.5124 Q1467.52 67.5124 1470.88 62.8538 Q1474.28 58.1548 1474.28 49.9314 Z\" fill=\"#000000\" fill-rule=\"nonzero\" fill-opacity=\"1\" /><path clip-path=\"url(#clip050)\" d=\"M1494.37 9.54393 L1501.83 9.54393 L1501.83 72.576 L1494.37 72.576 L1494.37 9.54393 Z\" fill=\"#000000\" fill-rule=\"nonzero\" fill-opacity=\"1\" /><path clip-path=\"url(#clip050)\" d=\"M1535 32.4315 Q1529.01 32.4315 1525.52 37.1306 Q1522.04 41.7891 1522.04 49.9314 Q1522.04 58.0738 1525.48 62.7728 Q1528.97 67.4314 1535 67.4314 Q1540.96 67.4314 1544.44 62.7323 Q1547.93 58.0333 1547.93 49.9314 Q1547.93 41.8701 1544.44 37.1711 Q1540.96 32.4315 1535 32.4315 M1535 26.1121 Q1544.73 26.1121 1550.28 32.4315 Q1555.82 38.7509 1555.82 49.9314 Q1555.82 61.0714 1550.28 67.4314 Q1544.73 73.7508 1535 73.7508 Q1525.24 73.7508 1519.69 67.4314 Q1514.18 61.0714 1514.18 49.9314 Q1514.18 38.7509 1519.69 32.4315 Q1525.24 26.1121 1535 26.1121 Z\" fill=\"#000000\" fill-rule=\"nonzero\" fill-opacity=\"1\" /><path clip-path=\"url(#clip050)\" d=\"M1597.02 65.6895 L1610.39 65.6895 L1610.39 19.5497 L1595.85 22.4663 L1595.85 15.0127 L1610.31 12.096 L1618.49 12.096 L1618.49 65.6895 L1631.86 65.6895 L1631.86 72.576 L1597.02 72.576 L1597.02 65.6895 Z\" fill=\"#000000\" fill-rule=\"nonzero\" fill-opacity=\"1\" /><path clip-path=\"url(#clip050)\" d=\"M1669.94 46.5287 L1691.77 46.5287 L1691.77 53.1722 L1669.94 53.1722 L1669.94 46.5287 Z\" fill=\"#000000\" fill-rule=\"nonzero\" fill-opacity=\"1\" /><path clip-path=\"url(#clip050)\" d=\"M1762.66 28.9478 L1762.66 35.9153 Q1759.5 34.1734 1756.3 33.3227 Q1753.14 32.4315 1749.9 32.4315 Q1742.65 32.4315 1738.64 37.0496 Q1734.63 41.6271 1734.63 49.9314 Q1734.63 58.2358 1738.64 62.8538 Q1742.65 67.4314 1749.9 67.4314 Q1753.14 67.4314 1756.3 66.5807 Q1759.5 65.6895 1762.66 63.9476 L1762.66 70.8341 Q1759.54 72.2924 1756.18 73.0216 Q1752.86 73.7508 1749.09 73.7508 Q1738.84 73.7508 1732.81 67.3098 Q1726.77 60.8689 1726.77 49.9314 Q1726.77 38.832 1732.85 32.472 Q1738.97 26.1121 1749.58 26.1121 Q1753.02 26.1121 1756.3 26.8413 Q1759.59 27.5299 1762.66 28.9478 Z\" fill=\"#000000\" fill-rule=\"nonzero\" fill-opacity=\"1\" /><path clip-path=\"url(#clip050)\" d=\"M1796.25 49.7694 Q1787.21 49.7694 1783.73 51.8354 Q1780.25 53.9013 1780.25 58.8839 Q1780.25 62.8538 1782.84 65.2034 Q1785.47 67.5124 1789.97 67.5124 Q1796.17 67.5124 1799.89 63.1374 Q1803.66 58.7219 1803.66 51.4303 L1803.66 49.7694 L1796.25 49.7694 M1811.11 46.6907 L1811.11 72.576 L1803.66 72.576 L1803.66 65.6895 Q1801.11 69.8214 1797.3 71.8063 Q1793.49 73.7508 1787.98 73.7508 Q1781.01 73.7508 1776.88 69.8619 Q1772.79 65.9325 1772.79 59.3701 Q1772.79 51.7138 1777.9 47.825 Q1783.04 43.9361 1793.21 43.9361 L1803.66 43.9361 L1803.66 43.2069 Q1803.66 38.0623 1800.26 35.2672 Q1796.89 32.4315 1790.78 32.4315 Q1786.89 32.4315 1783.2 33.3632 Q1779.52 34.295 1776.11 36.1584 L1776.11 29.2718 Q1780.2 27.692 1784.05 26.9223 Q1787.9 26.1121 1791.55 26.1121 Q1801.39 26.1121 1806.25 31.2163 Q1811.11 36.3204 1811.11 46.6907 Z\" fill=\"#000000\" fill-rule=\"nonzero\" fill-opacity=\"1\" /><path clip-path=\"url(#clip050)\" d=\"M1855.39 28.5427 L1855.39 35.5912 Q1852.23 33.9709 1848.83 33.1607 Q1845.42 32.3505 1841.78 32.3505 Q1836.23 32.3505 1833.43 34.0519 Q1830.68 35.7533 1830.68 39.156 Q1830.68 41.7486 1832.66 43.2475 Q1834.65 44.7058 1840.64 46.0426 L1843.2 46.6097 Q1851.14 48.3111 1854.46 51.4303 Q1857.82 54.509 1857.82 60.0587 Q1857.82 66.3781 1852.8 70.0644 Q1847.81 73.7508 1839.06 73.7508 Q1835.42 73.7508 1831.45 73.0216 Q1827.52 72.3329 1823.14 70.9151 L1823.14 63.2184 Q1827.28 65.3654 1831.29 66.4591 Q1835.3 67.5124 1839.23 67.5124 Q1844.49 67.5124 1847.33 65.73 Q1850.16 63.9071 1850.16 60.6258 Q1850.16 57.5877 1848.1 55.9673 Q1846.07 54.3469 1839.15 52.8481 L1836.55 52.2405 Q1829.63 50.7821 1826.55 47.7845 Q1823.47 44.7463 1823.47 39.4801 Q1823.47 33.0797 1828.01 29.5959 Q1832.54 26.1121 1840.89 26.1121 Q1845.02 26.1121 1848.66 26.7198 Q1852.31 27.3274 1855.39 28.5427 Z\" fill=\"#000000\" fill-rule=\"nonzero\" fill-opacity=\"1\" /><path clip-path=\"url(#clip050)\" d=\"M1908.5 48.0275 L1908.5 51.6733 L1874.23 51.6733 Q1874.71 59.3701 1878.84 63.421 Q1883.02 67.4314 1890.43 67.4314 Q1894.72 67.4314 1898.73 66.3781 Q1902.78 65.3249 1906.75 63.2184 L1906.75 70.267 Q1902.74 71.9684 1898.53 72.8596 Q1894.32 73.7508 1889.98 73.7508 Q1879.13 73.7508 1872.77 67.4314 Q1866.45 61.1119 1866.45 50.3365 Q1866.45 39.1965 1872.44 32.6746 Q1878.48 26.1121 1888.69 26.1121 Q1897.84 26.1121 1903.15 32.0264 Q1908.5 37.9003 1908.5 48.0275 M1901.04 45.84 Q1900.96 39.7232 1897.6 36.0774 Q1894.28 32.4315 1888.77 32.4315 Q1882.53 32.4315 1878.76 35.9558 Q1875.04 39.4801 1874.47 45.8805 L1901.04 45.84 Z\" fill=\"#000000\" fill-rule=\"nonzero\" fill-opacity=\"1\" /><path clip-path=\"url(#clip050)\" d=\"M1948.07 34.9026 L2000.01 34.9026 L2000.01 41.7081 L1948.07 41.7081 L1948.07 34.9026 M1948.07 51.4303 L2000.01 51.4303 L2000.01 58.3168 L1948.07 58.3168 L1948.07 51.4303 Z\" fill=\"#000000\" fill-rule=\"nonzero\" fill-opacity=\"1\" /><path clip-path=\"url(#clip050)\" d=\"M2045.46 65.6895 L2058.83 65.6895 L2058.83 19.5497 L2044.28 22.4663 L2044.28 15.0127 L2058.74 12.096 L2066.93 12.096 L2066.93 65.6895 L2080.3 65.6895 L2080.3 72.576 L2045.46 72.576 L2045.46 65.6895 Z\" fill=\"#000000\" fill-rule=\"nonzero\" fill-opacity=\"1\" /><polyline clip-path=\"url(#clip052)\" style=\"stroke:#009af9; stroke-linecap:round; stroke-linejoin:round; stroke-width:12; stroke-opacity:1; fill:none\" points=\"2293.3,375.366 1797.8,457.178 1302.3,561.076 806.801,683.556 311.302,818.886 \"/>\n",
       "<circle clip-path=\"url(#clip052)\" cx=\"2293.3\" cy=\"375.366\" r=\"14.4\" fill=\"#009af9\" fill-rule=\"evenodd\" fill-opacity=\"1\" stroke=\"#000000\" stroke-opacity=\"1\" stroke-width=\"3.2\"/>\n",
       "<circle clip-path=\"url(#clip052)\" cx=\"1797.8\" cy=\"457.178\" r=\"14.4\" fill=\"#009af9\" fill-rule=\"evenodd\" fill-opacity=\"1\" stroke=\"#000000\" stroke-opacity=\"1\" stroke-width=\"3.2\"/>\n",
       "<circle clip-path=\"url(#clip052)\" cx=\"1302.3\" cy=\"561.076\" r=\"14.4\" fill=\"#009af9\" fill-rule=\"evenodd\" fill-opacity=\"1\" stroke=\"#000000\" stroke-opacity=\"1\" stroke-width=\"3.2\"/>\n",
       "<circle clip-path=\"url(#clip052)\" cx=\"806.801\" cy=\"683.556\" r=\"14.4\" fill=\"#009af9\" fill-rule=\"evenodd\" fill-opacity=\"1\" stroke=\"#000000\" stroke-opacity=\"1\" stroke-width=\"3.2\"/>\n",
       "<circle clip-path=\"url(#clip052)\" cx=\"311.302\" cy=\"818.886\" r=\"14.4\" fill=\"#009af9\" fill-rule=\"evenodd\" fill-opacity=\"1\" stroke=\"#000000\" stroke-opacity=\"1\" stroke-width=\"3.2\"/>\n",
       "<polyline clip-path=\"url(#clip052)\" style=\"stroke:#e26f46; stroke-linecap:round; stroke-linejoin:round; stroke-width:12; stroke-opacity:1; fill:none\" points=\"2293.3,159.909 1797.8,463.547 1302.3,767.184 806.801,1070.82 311.302,1374.46 \"/>\n",
       "<path clip-path=\"url(#clip050)\" d=\"M321.873 321.906 L620.783 321.906 L620.783 166.386 L321.873 166.386  Z\" fill=\"#ffffff\" fill-rule=\"evenodd\" fill-opacity=\"1\"/>\n",
       "<polyline clip-path=\"url(#clip050)\" style=\"stroke:#000000; stroke-linecap:round; stroke-linejoin:round; stroke-width:4; stroke-opacity:1; fill:none\" points=\"321.873,321.906 620.783,321.906 620.783,166.386 321.873,166.386 321.873,321.906 \"/>\n",
       "<polyline clip-path=\"url(#clip050)\" style=\"stroke:#009af9; stroke-linecap:round; stroke-linejoin:round; stroke-width:12; stroke-opacity:1; fill:none\" points=\"345.216,218.226 485.277,218.226 \"/>\n",
       "<circle clip-path=\"url(#clip050)\" cx=\"415.247\" cy=\"218.226\" r=\"19.4529\" fill=\"#009af9\" fill-rule=\"evenodd\" fill-opacity=\"1\" stroke=\"#000000\" stroke-opacity=\"1\" stroke-width=\"4.55111\"/>\n",
       "<path clip-path=\"url(#clip050)\" d=\"M508.621 200.946 L530.472 200.946 L530.472 204.881 L513.297 204.881 L513.297 215.113 L529.755 215.113 L529.755 219.048 L513.297 219.048 L513.297 231.571 L530.889 231.571 L530.889 235.506 L508.621 235.506 L508.621 200.946 Z\" fill=\"#000000\" fill-rule=\"nonzero\" fill-opacity=\"1\" /><path clip-path=\"url(#clip050)\" d=\"M553.412 213.562 Q552.695 213.145 551.838 212.96 Q551.005 212.752 549.986 212.752 Q546.375 212.752 544.431 215.113 Q542.509 217.451 542.509 221.849 L542.509 235.506 L538.227 235.506 L538.227 209.58 L542.509 209.58 L542.509 213.608 Q543.852 211.247 546.005 210.113 Q548.158 208.955 551.236 208.955 Q551.676 208.955 552.208 209.025 Q552.741 209.071 553.389 209.187 L553.412 213.562 Z\" fill=\"#000000\" fill-rule=\"nonzero\" fill-opacity=\"1\" /><path clip-path=\"url(#clip050)\" d=\"M572.069 213.562 Q571.352 213.145 570.495 212.96 Q569.662 212.752 568.644 212.752 Q565.032 212.752 563.088 215.113 Q561.167 217.451 561.167 221.849 L561.167 235.506 L556.884 235.506 L556.884 209.58 L561.167 209.58 L561.167 213.608 Q562.509 211.247 564.662 210.113 Q566.815 208.955 569.894 208.955 Q570.333 208.955 570.866 209.025 Q571.398 209.071 572.046 209.187 L572.069 213.562 Z\" fill=\"#000000\" fill-rule=\"nonzero\" fill-opacity=\"1\" /><path clip-path=\"url(#clip050)\" d=\"M585.542 212.567 Q582.116 212.567 580.125 215.252 Q578.134 217.914 578.134 222.567 Q578.134 227.219 580.102 229.904 Q582.093 232.566 585.542 232.566 Q588.944 232.566 590.935 229.881 Q592.926 227.196 592.926 222.567 Q592.926 217.96 590.935 215.275 Q588.944 212.567 585.542 212.567 M585.542 208.955 Q591.097 208.955 594.268 212.567 Q597.44 216.178 597.44 222.567 Q597.44 228.932 594.268 232.566 Q591.097 236.178 585.542 236.178 Q579.963 236.178 576.792 232.566 Q573.643 228.932 573.643 222.567 Q573.643 216.178 576.792 212.567 Q579.963 208.955 585.542 208.955 Z\" fill=\"#000000\" fill-rule=\"nonzero\" fill-opacity=\"1\" /><polyline clip-path=\"url(#clip050)\" style=\"stroke:#e26f46; stroke-linecap:round; stroke-linejoin:round; stroke-width:12; stroke-opacity:1; fill:none\" points=\"345.216,270.066 485.277,270.066 \"/>\n",
       "<path clip-path=\"url(#clip050)\" d=\"M530.334 271.698 L530.334 287.346 L526.074 287.346 L526.074 271.837 Q526.074 268.157 524.639 266.328 Q523.204 264.499 520.334 264.499 Q516.885 264.499 514.894 266.698 Q512.903 268.897 512.903 272.694 L512.903 287.346 L508.621 287.346 L508.621 251.328 L512.903 251.328 L512.903 265.448 Q514.431 263.11 516.491 261.953 Q518.574 260.795 521.283 260.795 Q525.75 260.795 528.042 263.573 Q530.334 266.328 530.334 271.698 Z\" fill=\"#000000\" fill-rule=\"nonzero\" fill-opacity=\"1\" /><path clip-path=\"url(#clip050)\" d=\"M540.565 269.245 L550.38 269.245 L550.38 271.883 L536.537 271.883 L536.537 269.337 Q537.324 268.62 538.783 267.323 Q546.745 260.263 546.745 258.087 Q546.745 256.559 545.542 255.633 Q544.338 254.684 542.371 254.684 Q541.167 254.684 539.755 255.101 Q538.343 255.495 536.676 256.305 L536.676 253.458 Q538.458 252.809 539.986 252.485 Q541.537 252.161 542.857 252.161 Q546.213 252.161 548.227 253.689 Q550.241 255.217 550.241 257.717 Q550.241 260.934 542.579 267.508 Q541.283 268.62 540.565 269.245 Z\" fill=\"#000000\" fill-rule=\"nonzero\" fill-opacity=\"1\" /></svg>\n"
      ]
     },
     "metadata": {},
     "output_type": "display_data"
    },
    {
     "data": {
      "text/plain": [
       "\"Tabela com os valores de h e erro - exemplo 1 - caso_C⁰ = 1\""
      ]
     },
     "metadata": {},
     "output_type": "display_data"
    },
    {
     "data": {
      "text/html": [
       "<div><div style = \"float: left;\"><span>5×2 DataFrame</span></div><div style = \"clear: both;\"></div></div><div class = \"data-frame\" style = \"overflow-x: scroll;\"><table class = \"data-frame\" style = \"margin-bottom: 6px;\"><thead><tr class = \"header\"><th class = \"rowNumber\" style = \"font-weight: bold; text-align: right;\">Row</th><th style = \"text-align: left;\">h</th><th style = \"text-align: left;\">erro</th></tr><tr class = \"subheader headerLastRow\"><th class = \"rowNumber\" style = \"font-weight: bold; text-align: right;\"></th><th title = \"Float64\" style = \"text-align: left;\">Float64</th><th title = \"Float64\" style = \"text-align: left;\">Float64</th></tr></thead><tbody><tr><td class = \"rowNumber\" style = \"font-weight: bold; text-align: right;\">1</td><td style = \"text-align: right;\">0.25</td><td style = \"text-align: right;\">0.0233704</td></tr><tr><td class = \"rowNumber\" style = \"font-weight: bold; text-align: right;\">2</td><td style = \"text-align: right;\">0.125</td><td style = \"text-align: right;\">0.016086</td></tr><tr><td class = \"rowNumber\" style = \"font-weight: bold; text-align: right;\">3</td><td style = \"text-align: right;\">0.0625</td><td style = \"text-align: right;\">0.01001</td></tr><tr><td class = \"rowNumber\" style = \"font-weight: bold; text-align: right;\">4</td><td style = \"text-align: right;\">0.03125</td><td style = \"text-align: right;\">0.00572242</td></tr><tr><td class = \"rowNumber\" style = \"font-weight: bold; text-align: right;\">5</td><td style = \"text-align: right;\">0.015625</td><td style = \"text-align: right;\">0.00308492</td></tr></tbody></table></div>"
      ],
      "text/latex": [
       "\\begin{tabular}{r|cc}\n",
       "\t& h & erro\\\\\n",
       "\t\\hline\n",
       "\t& Float64 & Float64\\\\\n",
       "\t\\hline\n",
       "\t1 & 0.25 & 0.0233704 \\\\\n",
       "\t2 & 0.125 & 0.016086 \\\\\n",
       "\t3 & 0.0625 & 0.01001 \\\\\n",
       "\t4 & 0.03125 & 0.00572242 \\\\\n",
       "\t5 & 0.015625 & 0.00308492 \\\\\n",
       "\\end{tabular}\n"
      ],
      "text/plain": [
       "\u001b[1m5×2 DataFrame\u001b[0m\n",
       "\u001b[1m Row \u001b[0m│\u001b[1m h        \u001b[0m\u001b[1m erro       \u001b[0m\n",
       "     │\u001b[90m Float64  \u001b[0m\u001b[90m Float64    \u001b[0m\n",
       "─────┼──────────────────────\n",
       "   1 │ 0.25      0.0233704\n",
       "   2 │ 0.125     0.016086\n",
       "   3 │ 0.0625    0.01001\n",
       "   4 │ 0.03125   0.00572242\n",
       "   5 │ 0.015625  0.00308492"
      ]
     },
     "metadata": {},
     "output_type": "display_data"
    },
    {
     "name": "stdout",
     "output_type": "stream",
     "text": [
      "  0.017310 seconds (460.94 k allocations: 12.991 MiB)\n"
     ]
    }
   ],
   "source": [
    "exemple = 1\n",
    "case = 1\n",
    "\n",
    "@time begin\n",
    "     vec_h, vec_errors = calcule_error(exemple, case)\n",
    "end\n",
    "\n",
    "show_error(vec_h, vec_errors, exemple, case)"
   ]
  },
  {
   "cell_type": "code",
   "execution_count": 398,
   "metadata": {},
   "outputs": [],
   "source": []
  }
 ],
 "metadata": {
  "kernelspec": {
   "display_name": "Julia 1.11.1",
   "language": "julia",
   "name": "julia-1.11"
  },
  "language_info": {
   "file_extension": ".jl",
   "mimetype": "application/julia",
   "name": "julia",
   "version": "1.11.1"
  }
 },
 "nbformat": 4,
 "nbformat_minor": 4
}
