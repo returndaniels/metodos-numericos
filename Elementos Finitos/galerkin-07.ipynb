{
 "cells": [
  {
   "cell_type": "markdown",
   "metadata": {},
   "source": [
    "## Definição da formulação forte"
   ]
  },
  {
   "cell_type": "markdown",
   "metadata": {},
   "source": [
    "Dada uma função $f:[0,1]\\rightarrow\\mathbb{R}$ e constantes reais $\\alpha>0$, $\\beta \\geq 0$, $T \\geq 0$ determine $u:[0,1] \\times [0,T]\\rightarrow\\mathbb{R}$ e $u_0:[0,1]\\rightarrow\\mathbb{R}$, tal que\n",
    "\n",
    "\\begin{align*}\n",
    "\\left\\{\n",
    "\\begin{aligned}\n",
    "&u_t(x,t)-\\alpha u_{xx}(x,t) + \\beta u(x,t) + g(u(x,t)) = f(x,t),&& \\forall (x,t)\\in]0,1[\\times[0,T],\n",
    "\\\\\n",
    "&u(0,t)=u(1,t)=0,                                    && \\forall t\\in[0,T],\n",
    "\\\\\n",
    "&u(x,0) = u_0(x),                                    && \\forall x\\in[0,1].                \n",
    "\\end{aligned}\\right.\n",
    "\\end{align*}"
   ]
  },
  {
   "cell_type": "markdown",
   "metadata": {},
   "source": [
    "## Definição da formulação fraca"
   ]
  },
  {
   "cell_type": "markdown",
   "metadata": {},
   "source": [
    "Dadas as constantes reais $\\alpha > 0$, $\\beta \\geq 0$ e $T > 0$, e as funções $f:[0,1]\\times[0,T]\\rightarrow\\mathbb{R}$ e $u_0:[0,1]\\rightarrow\\mathbb{R}$, determine $u(t)\\in V$, $t\\in[0,T]$, tal que\n",
    "\n",
    "\n",
    "\\begin{align*}\n",
    "\\left\\{\n",
    "\\begin{aligned}\n",
    "& \\int_0^1 u'(x,t)v(x) dx\n",
    "+ \\alpha \\int_0^1\\frac{\\partial u}{\\partial x}(x,t)\\frac{\\partial v}{\\partial x}(x)dx\n",
    "+ \\beta  \\int_0^1 u(x,t)v(x)dx\n",
    "+ \\int_0^1 g(u(x, t))v(x)dx\n",
    "= \\int_0^1f(x,t)v(x)dx,\n",
    "\\quad \\forall v\\in V,\n",
    "\\\\[8pt]\n",
    "& u(x,0) = u_0(x), \n",
    "\\quad x\\in]0,1[.\n",
    "\\end{aligned}\n",
    "\\right.\n",
    "\\end{align*}"
   ]
  },
  {
   "cell_type": "markdown",
   "metadata": {},
   "source": [
    "### Definição dos operadores da formulação fraca"
   ]
  },
  {
   "cell_type": "markdown",
   "metadata": {},
   "source": [
    "Para simplificar a escrita, vamos reescrever a equação acima utilizando dois operadores. O primeiro, é dado por\n",
    "\n",
    "\\begin{align*}\n",
    "\\kappa:V\\times V\\rightarrow\\mathbb{R},\\;(w,v)\\mapsto \\kappa(w,v)=\n",
    "  \\alpha \\int_0^1\\frac{d w}{d x}(x)\\frac{d v}{d x}(x)dx\n",
    "+ \\beta  \\int_0^1 w(x)v(x)dx.\n",
    "\\end{align*}\n",
    "\n",
    "Quanto ao segundo operador, considere\n",
    "\n",
    "\\begin{align*}\n",
    "\\big(w,v\\big) = \\int_0^1 w(x) v(x)dx.\n",
    "\\end{align*}\n",
    "\n",
    "Utilizando esses operadores, a formulação fraca pode ser reescrita como: Dadas as constantes reais $\\alpha>0$, $\\beta \\geq 0$, $T \\geq 0$ e as funções $f:[0,1]\\times[0,T]\\rightarrow\\mathbb{R}$ e $u_0:[0,1]\\rightarrow\\mathbb{R}$, determine $u(t)\\in V$, $t\\in[0,T]$, tal que\n",
    "\n",
    "\\begin{align*}\n",
    "\\left\\{\n",
    "\\begin{aligned}\n",
    "& \\big(u'(t),v\\big) + \\kappa(u(t),v) + (g(u(t)), v) = \\big(f(t),v\\big),\n",
    "\\quad \\forall v\\in V,\n",
    "\\\\[8pt]\n",
    "& u(0) = u_0.\n",
    "\\end{aligned}\n",
    "\\right.\n",
    "\\end{align*}"
   ]
  },
  {
   "cell_type": "markdown",
   "metadata": {},
   "source": [
    "# Problema totalmente discreto - via o método de Galerkin no espaço e Crank-Nicolson no tempo"
   ]
  },
  {
   "cell_type": "markdown",
   "metadata": {},
   "source": [
    "No espaço, já está definido $V_m$, o subespaço de dimensão finita de $V$, gerado pelas funções base $\\varphi_1,\\varphi_2,\\dots,\\varphi_m$.\n",
    "No tempo, precisamos estabelecer a discretização temporal para aplicar o método de diferenças finitas escolhido. \n",
    "Nesse sentido, seja $\\tau>0$ uma constante real positiva, e considere $0=t_0<t_1<\\dots<t_N\\leq T$ uma discretização unifome no intervalo $[0,T]$.\n",
    "Além disso, defina $t_{n-\\frac{1}{2}}=\\frac{t_n+t_{n-1}}{2}$ como o ponto médio do intervalo $[t_{n-1},t_n]$. \n",
    "A seguir, apresentamos a ilustração de uma partição do intervalo de tempo $[0,T]$."
   ]
  },
  {
   "cell_type": "markdown",
   "metadata": {},
   "source": [
    "Ssegue a definição do problema aproximado: Dadas as constantes reais $\\alpha > 0$, $\\beta \\geq 0$ e $T > 0$, e as funções $f:[0,1]\\times[0,T]\\rightarrow\\mathbb{R}$, $u_0^{}:[0,1]\\rightarrow\\mathbb{R}$ e $u_{0h}^{}\\in V_m$ uma aproximação para $u_0^{}$, determine $U^n\\in V_m=[\\varphi_1,\\varphi_2,\\dots,\\varphi_{m}]$, tal que\n",
    "\n",
    "\\begin{align*}\n",
    "\\left\\{\n",
    "\\begin{aligned}\n",
    "& \\Big(\\frac{U^n-U^{n-1}}{\\tau},v_h\\Big) + \\kappa\\Big(\\frac{U^n+U^{n-1}}{2},v_h\\Big) + \\Big(g\\Big(\\frac{U^n-U^{n-1}}{2}\\Big),v\\Big) = \\big(f(t_{n-\\frac{1}{2}}),v_h\\big),\n",
    "\\quad \\forall v_h\\in V_m,\\quad n=1,2,\\dots,N,\n",
    "\\\\[8pt]\n",
    "& U^0 = u_{0h}.\n",
    "\\end{aligned}\n",
    "\\right.\n",
    "\\end{align*}"
   ]
  },
  {
   "cell_type": "markdown",
   "metadata": {},
   "source": [
    "## Passo a passo para a definição do problema totalmente discreto"
   ]
  },
  {
   "cell_type": "markdown",
   "metadata": {},
   "source": [
    "* Passo 1. Considerar a formulação fraca no instante de tempo $t_{n-\\frac{1}{2}}$, ou seja,\n",
    "\\begin{align*}\n",
    "& \\big(u'(t_{n-\\frac{1}{2}}),v\\big) + \\kappa(u(t_{n-\\frac{1}{2}}),v) + g(u(t_{n-\\frac{1}{2}}),v) = \\big(f(t_{n-\\frac{1}{2}}),v\\big),\n",
    "\\quad \\forall v\\in V.\n",
    "\\end{align*}\n",
    "\n",
    "* Passo 2. Definir as diferenças finitas que serão utilizadas. \n",
    "Fazendo uso de expansões de Taylor apropriadas, obtemos: \n",
    "\\begin{align*}\n",
    "\\frac{u(t_n)-u(t_{n-1})}{\\tau}=u'(t_{n-\\frac{1}{2}}) +\\mathcal{O}(\\tau^2),\n",
    "\\quad\n",
    "\\frac{u(t_n)+u(t_{n-1})}{2}=u(t_{n-\\frac{1}{2}}) + \\mathcal{O}(\\tau^2)\n",
    "\\quad\\hbox{e}\\quad\n",
    "\\frac{3u(t_{n-1})-u(t_{n-2})}{2}=u(t_{n-\\frac{1}{2}}) + \\mathcal{O}(\\tau^2)\n",
    "\\end{align*}\n",
    "\n",
    "* Passo 3. Utilizar as diferenças finitas na formulação fraca.\n",
    "Subtituindo $u'(t_{n-\\frac{1}{2}})$ e $u(t_{n-\\frac{1}{2}})$ na formulação fraca pelas diferenças finitas acima, temos que\n",
    "\\begin{align*}\n",
    "& \\big(\\frac{u(t_n)-u(t_{n-1})}{\\tau},v\\big) + \\kappa(\\frac{u(t_n)+u(t_{n-1})}{2},v) + g(\\frac{3u(t_{n-1})-u(t_{n-2})}{2},v) \\approx \\big(f(t_{n-\\frac{1}{2}}),v\\big),\n",
    "\\quad \\forall v\\in V.\n",
    "\\end{align*}\n",
    "\n",
    "* Passo 4. Definir o problema aproximado.\n",
    "O problema aproximado consiste em buscar uma função em $V_m$ que satisfaça a igualdade, em vez da aproximação definida no passo 3, ou seja, buscar por uma função $U^n\\in V_m$ tal que\n",
    "\\begin{align*}\n",
    "& \\big(\\frac{U^n-U^{n-1}}{\\tau},v\\big) + \\kappa(\\frac{U^n+U^{n-1}}{2},v)  + \\big(g(\\frac{3U^{n-1}-U^{n-2}}{2},v)\\big) = \\big(f(t_{n-\\frac{1}{2}}),v\\big),\n",
    "\\quad \\forall v\\in V_m.\n",
    "\\end{align*}\n"
   ]
  },
  {
   "cell_type": "markdown",
   "metadata": {},
   "source": [
    "## Formulação matricial"
   ]
  },
  {
   "cell_type": "markdown",
   "metadata": {},
   "source": [
    "### Definição da matriz $C$"
   ]
  },
  {
   "cell_type": "markdown",
   "metadata": {},
   "source": [
    "\\begin{align*}\n",
    "C = \n",
    "\\left\\{\n",
    "\\begin{aligned}\n",
    "& C^0, n=1, \\text{parte 1}\n",
    "\\\\[10pt]\n",
    "& \\frac{\\~{}C^1 + C^0}{2}, n=1, \\text{parte 2}\n",
    "\\\\\n",
    "& \\frac{3C^{n-1} - C^{n-2}}{2}, n \\geq 2\n",
    "\\end{aligned}\\right.\n",
    "\\end{align*}"
   ]
  },
  {
   "cell_type": "markdown",
   "metadata": {},
   "source": [
    "### Definição da $G_i(c)$"
   ]
  },
  {
   "cell_type": "markdown",
   "metadata": {},
   "source": [
    "\\begin{align*}\n",
    "G_i(C) = \\int_0^1 g(\\Sigma_{j=1}^m C_{j}\\varphi_{j})\\varphi_{i}dx\n",
    "\\end{align*}"
   ]
  },
  {
   "cell_type": "markdown",
   "metadata": {},
   "source": [
    "\n",
    "\\begin{align*}\n",
    "G_a^e(C) = \\int_{x_1^e}^{x_2^e} g(C\\varphi_{1}^e(x) + C\\varphi_{2}^e(x))\\varphi_{a}^e(x)dx\n",
    "\\end{align*}"
   ]
  },
  {
   "cell_type": "markdown",
   "metadata": {},
   "source": [
    "Tomando $\\displaystyle U^n(x) = \\sum_{j=1}^{m} C_j^{n}\\varphi_j(x)$ e $v_h=\\varphi_i$, para $i=1,2,\\dots,m$, temos o seguinte sistema:\n",
    "\n",
    "\\begin{align*}\n",
    "\\left\\{\n",
    "\\begin{aligned}\n",
    "& \\Big(\\frac{\\sum_{j=1}^{m}(C_j^n-C_j^{n-1})\\varphi_j}{\\tau},\\varphi_1\\Big) + \\kappa\\Big(\\frac{\\sum_{j=1}^{m}(C_j^n+C_j^{n-1})\\varphi_j}{2},\\varphi_1\\Big) + g\\Big(\\frac{\\sum_{j=1}^{m}(C_j^{n-1}+C_j^{n-2})\\varphi_j}{2},\\varphi_1\\Big) = \\big(f(t_{n-\\frac{1}{2}}),\\varphi_1\\big), \n",
    "\\\\[10pt]\n",
    "& \\Big(\\frac{\\sum_{j=1}^{m}(C_j^n-C_j^{n-1})\\varphi_j}{\\tau},\\varphi_2\\Big) + \\kappa\\Big(\\frac{\\sum_{j=1}^{m}(C_j^n+C_j^{n-1})\\varphi_j}{2},\\varphi_2\\Big) + g\\Big(\\frac{\\sum_{j=1}^{m}(C_j^{n-1}+C_j^{n-2})\\varphi_j}{2},\\varphi_2\\Big) = \\big(f(t_{n-\\frac{1}{2}}),\\varphi_2\\big), \n",
    "\\\\\n",
    "& \\vdots\n",
    "\\\\\n",
    "& \\Big(\\frac{\\sum_{j=1}^{m}(C_j^n-C_j^{n-1})\\varphi_j}{\\tau},\\varphi_m\\Big) + \\kappa\\Big(\\frac{\\sum_{j=1}^{m}(C_j^n+C_j^{n-1})\\varphi_j}{2},\\varphi_m\\Big) + g\\Big(\\frac{\\sum_{j=1}^{m}(C_j^{n-1}+C_j^{n-n})\\varphi_j}{2},\\varphi_m\\Big) = \\big(f(t_{n-\\frac{1}{2}}),\\varphi_m\\big).\n",
    "\\end{aligned}\\right.\n",
    "\\end{align*}\n",
    "\n",
    "Com isso, dado que os operadores $\\kappa$ e $\\big(\\cdot,\\cdot\\big)$ são lineares em cada componente, temos:\n",
    "\n",
    "\\begin{align*}\n",
    "\\left\\{\n",
    "\\begin{aligned}\n",
    "& \n",
    "      \\big(\\varphi_1,\\varphi_1\\big)\\frac{C_1^n-C_1^{n-1}}{\\tau}+      \\big(\\varphi_2,\\varphi_1\\big)\\frac{C_2^n-C_2^{n-1}}{\\tau} + \\dots +       \\big(\\varphi_m,\\varphi_1\\big)\\frac{C_m^n-C_m^{n-1}}{\\tau}\n",
    "\\quad+\\quad\n",
    "\\kappa\\big(\\varphi_1,\\varphi_1\\big)\\frac{C_1^n+C_1^{n-1}}{2   }+\\kappa\\big(\\varphi_2,\\varphi_1\\big)\\frac{C_2^n+C_2^{n-1}}{2   } + \\dots + \\kappa\\big(\\varphi_m,\\varphi_1\\big)\\frac{C_m^n+C_m^{n-1}}{2   } + g\\big(\\varphi_2,\\varphi_1\\big)\\frac{3C_2^{n-1}+C_2^{n-2}}{2   } + \\dots + g\\big(\\varphi_m,\\varphi_1\\big)\\frac{3C_m^{n-1}+C_m^{n-2}}{2   } \n",
    "= \\big(f(t_{n-\\frac{1}{2}}),\\varphi_1\\big), \n",
    "\\\\[10pt]\n",
    "&\n",
    "      \\big(\\varphi_1,\\varphi_2\\big)\\frac{C_1^n-C_1^{n-1}}{\\tau}+      \\big(\\varphi_2,\\varphi_2\\big)\\frac{C_2^n-C_2^{n-1}}{\\tau} + \\dots +       \\big(\\varphi_m,\\varphi_2\\big)\\frac{C_m^n-C_m^{n-1}}{\\tau}\n",
    "\\quad+\\quad\n",
    "\\kappa\\big(\\varphi_1,\\varphi_2\\big)\\frac{C_1^n+C_1^{n-1}}{2   }+\\kappa\\big(\\varphi_2,\\varphi_2\\big)\\frac{C_2^n+C_2^{n-1}}{2   } + \\dots + \\kappa\\big(\\varphi_m,\\varphi_2\\big)\\frac{C_m^n+C_m^{n-1}}{2   } + g\\big(\\varphi_2,\\varphi_2\\big)\\frac{3C_2^{n-1}+C_2^{n-2}}{2   } + \\dots + g\\big(\\varphi_m,\\varphi_2\\big)\\frac{3C_m^{n-1}+C_m^{n-2}}{2   } \n",
    "= \\big(f(t_{n-\\frac{1}{2}}),\\varphi_2\\big), \n",
    "\\\\\n",
    "& \\vdots\n",
    "\\\\\n",
    "& \n",
    "      \\big(\\varphi_1,\\varphi_m\\big)\\frac{C_1^n-C_1^{n-1}}{\\tau}+      \\big(\\varphi_2,\\varphi_m\\big)\\frac{C_2^n-C_2^{n-1}}{\\tau} + \\dots +       \\big(\\varphi_m,\\varphi_m\\big)\\frac{C_m^n-C_m^{n-1}}{\\tau}\n",
    "\\quad+\\quad\n",
    "\\kappa\\big(\\varphi_1,\\varphi_m\\big)\\frac{C_1^n+C_1^{n-1}}{2   }+\\kappa\\big(\\varphi_2,\\varphi_m\\big)\\frac{C_2^n+C_2^{n-1}}{2   } + \\dots + \\kappa\\big(\\varphi_m,\\varphi_m\\big)\\frac{C_m^n+C_m^{n-1}}{2   } +g\\big(\\varphi_2,\\varphi_m\\big)\\frac{3C_2^{n-1}+C_2^{n-2}}{2   } + \\dots + g\\big(\\varphi_m,\\varphi_m\\big)\\frac{3C_m^{n-1}+C_m^{n-2}}{2   } \n",
    "= \\big(f(t_{n-\\frac{1}{2}}),\\varphi_m\\big), .\n",
    "\\end{aligned}\\right.\n",
    "\\end{align*}\n",
    "\n",
    "\n",
    "Note que esse sistema pode ser reescrito na seguinte forma matricial:\n",
    "\n",
    "\\begin{align*}\n",
    "\\begin{bmatrix}\n",
    "\\big(\\varphi_1,\\varphi_1\\big)&\\big(\\varphi_2,\\varphi_1\\big)&\\dots&\\big(\\varphi_m,\\varphi_1\\big)\n",
    "\\\\[10pt]\n",
    "\\big(\\varphi_1,\\varphi_2\\big)&\\big(\\varphi_2,\\varphi_2\\big)&\\dots&\\big(\\varphi_m,\\varphi_2\\big)\n",
    "\\\\\n",
    "\\vdots&\\vdots&\\ddots& \\vdots  \n",
    "\\\\\n",
    "\\big(\\varphi_1,\\varphi_m\\big)&\\big(\\varphi_2,\\varphi_m\\big)&\\dots&\\big(\\varphi_m,\\varphi_m\\big)\n",
    "\\end{bmatrix}\n",
    "\\frac{C^n-C^{n-1}}{\\tau}\n",
    "\\quad+\\quad\n",
    "\\begin{bmatrix}\n",
    "\\kappa\\big(\\varphi_1,\\varphi_1\\big)&\\kappa\\big(\\varphi_2,\\varphi_1\\big)&\\dots&\\kappa\\big(\\varphi_m,\\varphi_1\\big)\n",
    "\\\\[10pt]\n",
    "\\kappa\\big(\\varphi_1,\\varphi_2\\big)&\\kappa\\big(\\varphi_2,\\varphi_2\\big)&\\dots&\\kappa\\big(\\varphi_m,\\varphi_2\\big)\n",
    "\\\\\n",
    "\\vdots&\\vdots&\\ddots& \\vdots  \n",
    "\\\\\n",
    "\\kappa\\big(\\varphi_1,\\varphi_m\\big)&\\kappa\\big(\\varphi_2,\\varphi_m\\big)&\\dots&\\kappa\\big(\\varphi_m,\\varphi_m\\big)\n",
    "\\end{bmatrix}\n",
    "\\frac{C^n+C^{n-1}}{2   }\n",
    "\\quad+\\quad\n",
    "\\begin{align*}\n",
    "\\begin{bmatrix}\n",
    "g\\big(\\varphi_1,\\varphi_1\\big)& g\\big(\\varphi_2,\\varphi_1\\big)&\\dots& g\\big(\\varphi_m,\\varphi_1\\big)\n",
    "\\\\[10pt]\n",
    "g\\big(\\varphi_1,\\varphi_2\\big)& g\\big(\\varphi_2,\\varphi_2\\big)&\\dots& g\\big(\\varphi_m,\\varphi_2\\big)\n",
    "\\\\\n",
    "\\vdots&\\vdots&\\ddots& \\vdots  \n",
    "\\\\\n",
    "g\\big(\\varphi_1,\\varphi_m\\big)& g\\big(\\varphi_2,\\varphi_m\\big)&\\dots& g\\big(\\varphi_m,\\varphi_m\\big)\n",
    "\\end{bmatrix}\n",
    "\\frac{3C^{n-1}+C^{n-2}}{2}\n",
    "\\end{align*}\n",
    "=\n",
    "\\begin{bmatrix}\n",
    "\\big(f(t_{n-\\frac{1}{2}}),\\varphi_1\\big)\\\\[10pt]\n",
    "\\big(f(t_{n-\\frac{1}{2}}),\\varphi_2\\big)\\\\\n",
    "\\vdots\\\\\n",
    "\\big(f(t_{n-\\frac{1}{2}}),\\varphi_m\\big)\\\\\n",
    "\\end{bmatrix}.\n",
    "\\end{align*}"
   ]
  },
  {
   "cell_type": "markdown",
   "metadata": {},
   "source": [
    "Por fim, definindo \n",
    "\n",
    "\\begin{align*}\n",
    "M_{i,j} = (\\varphi_j,\\varphi_i),\n",
    "\\quad\n",
    "K_{i,j} = \\kappa(\\varphi_j,\\varphi_i)\n",
    "\\quad\\text{e}\\quad\n",
    "F_i^{n-\\frac{1}{2}} = \\big(f(t_{n-\\frac{1}{2}}),\\varphi_i\\big), \n",
    "\\quad\\text{com}\\quad\n",
    "i,j\\in\\{1,2,3,\\dots,m\\},\n",
    "\\end{align*}\n",
    "\n",
    "obtemos a formulação matriz-vetor do problema aproximado, que consiste em determinar $C^n\\in\\mathbb{R}^m$ tal que\n",
    "\\begin{align*}\n",
    "\\left\\{\n",
    "\\begin{aligned}\n",
    "& M\\frac{C^n-C^{n-1}}{\\tau}\n",
    "+K\\frac{C^n+C^{n-1}}{2}\n",
    "+G(\\frac{3C^{n-1}-C^{n-2}}{2})=F^{n-\\frac{1}{2}},\n",
    "\\quad n=1,2,\\dots,N,\n",
    "\\\\\n",
    "& C^0=???.\n",
    "\\end{aligned}\n",
    "\\right.\n",
    "\\end{align*}"
   ]
  },
  {
   "cell_type": "markdown",
   "metadata": {},
   "source": [
    "## Aproximação de $u_0$: exemplos de escolhas de $U^0 \\in V_m$"
   ]
  },
  {
   "cell_type": "markdown",
   "metadata": {},
   "source": [
    "Qualquer função $U^0 \\in V_m$ que esteja suficientemente próxima de $u_0$ é uma escolha viável. \n",
    "O quão próxima ela deve estar, e em qual norma essa distância é medida, só fica claro quando realizamos a demonstração da estimativa de erro entre a solução aproximada e a solução exata.\n",
    "Não vamos entrar nesses detalhes aqui. \n",
    "Contudo, a escolha que apresentaremos a seguir usualmente satisfaz tais condições."
   ]
  },
  {
   "cell_type": "markdown",
   "metadata": {},
   "source": [
    "### Tomando $U^0$ como a interpolante de $u_0$ - se a base satisfaz a propriedade $\\varphi_j(x_i) = \\delta_{i,j}$"
   ]
  },
  {
   "cell_type": "markdown",
   "metadata": {},
   "source": [
    "Quando a base satisfaz a propriedade $\\varphi_j(x_i) = \\delta_{i,j}$, onde $x_i$ é um nó da malha espacial, temos que \n",
    "$$\n",
    "U^0(x_i) = \\sum_{j=1}^m C_j^0 \\varphi_j(x_i) = C_i^0.\n",
    "$$\n",
    "\n",
    "Consequentemente, para esse tipo de base, se tomarmos $C_i^0$ como $u_0(x_i)$, então $U^0$ interpola $u_0$.\n",
    "Assim sendo, nesse caso, vamos definir\n",
    "$$\n",
    "C^0 =\n",
    "\\begin{bmatrix}\n",
    "u_0(x_1)\\\\\n",
    "u_0(x_2)\\\\\n",
    "\\vdots\\\\\n",
    "u_0(x_m)\n",
    "\\end{bmatrix}.\n",
    "$$"
   ]
  },
  {
   "cell_type": "code",
   "execution_count": 78,
   "metadata": {},
   "outputs": [],
   "source": [
    "using LinearAlgebra\n",
    "using Plots\n",
    "using GaussQuadrature\n",
    "using DataFrames\n",
    "using SparseArrays"
   ]
  },
  {
   "cell_type": "markdown",
   "metadata": {},
   "source": [
    "### Exemplos de solução exata para o problema acima:\n"
   ]
  },
  {
   "cell_type": "code",
   "execution_count": 79,
   "metadata": {},
   "outputs": [
    {
     "data": {
      "text/plain": [
       "dados_de_entrada"
      ]
     },
     "metadata": {},
     "output_type": "display_data"
    }
   ],
   "source": [
    "function exemplo1()\n",
    "    T = 1.0\n",
    "    α = 1.0\n",
    "    β = 1.0\n",
    "    u₀(x) = sin(π * x) / π^2\n",
    "    u(x, t) = sin(π * x) * (exp(-t) / π^2)\n",
    "    g(s) = s^3 - 2*s\n",
    "    f(x, t) = ((-1 + α * π^2 + β) * sin(π * x) / (π^2)) + g(u(x, t))\n",
    "    return T, α, β, f, u₀, u, g\n",
    "end\n",
    "\n",
    "function exemplo2()\n",
    "    T = 1.0\n",
    "    α = 1.0\n",
    "    β = 1.0\n",
    "    u₀(x) = sin(π * x) / π^2\n",
    "    g(s) = s^3 - 2*s\n",
    "    f(x, t) = 0\n",
    "    return T, α, β, f, u₀, g\n",
    "end\n",
    "\n",
    "\"Retorna os valores de `T`, `α`, `β`, `f`, `u₀`, `u` e `g` de acordo com o exemplo escolhido.\"\n",
    "function dados_de_entrada(exemplo::Int)\n",
    "    if exemplo == 1\n",
    "        return exemplo1()\n",
    "    elseif exemplo == 2\n",
    "        return exemplo2()\n",
    "    else\n",
    "        error(\"Exemplo inválido. Escolha 1 ou 2.\")\n",
    "    end\n",
    "end"
   ]
  },
  {
   "cell_type": "code",
   "execution_count": 80,
   "metadata": {},
   "outputs": [
    {
     "data": {
      "text/plain": [
       "d_phi (generic function with 1 method)"
      ]
     },
     "metadata": {},
     "output_type": "display_data"
    }
   ],
   "source": [
    "\"\"\"\n",
    "Mapeia um ponto `psi` do intervalo padrão `[-1, 1]` para o intervalo físico\n",
    "\"\"\"\n",
    "function X(psi::Float64, h::Float64, x1e::Float64)\n",
    "    return (psi + 1.0) * h / 2.0 + x1e\n",
    "end\n",
    "\n",
    "function phi(psi::Float64, a::Int)\n",
    "    if a == 1\n",
    "        return (1.0 - psi) / 2.0\n",
    "    elseif a == 2\n",
    "        return (1.0 + psi) / 2.0\n",
    "    else\n",
    "        error(\"a deve ser 1 ou 2.\")\n",
    "    end\n",
    "end\n",
    "\n",
    "function d_phi(psi::Float64, a::Int)\n",
    "    if a == 1\n",
    "        return -1.0 / 2.0\n",
    "    elseif a == 2\n",
    "        return 1.0 / 2.0\n",
    "    else\n",
    "        error(\"a deve ser 1 ou 2.\")\n",
    "    end\n",
    "end\n",
    "\n"
   ]
  },
  {
   "cell_type": "markdown",
   "metadata": {},
   "source": [
    "## Calculo das matrizes LG e EQ a partir do número de elementos\n",
    "\n",
    "A matriz $LG$ armazena a correspondência entre a nomenclatura local e global de cada elemento finito. Assim, ela possui $n_e$ colunas, cada uma relativa a um elemento finito.\n",
    "\n",
    "\\begin{align*}\n",
    "LG(a,e) = \n",
    "\\begin{cases}\n",
    "e,&\\quad\\text{se } a=1,\n",
    "\\\\ \n",
    "e+1,&\\quad\\text{se } a=2.\n",
    "\\end{cases}\n",
    "\\end{align*}\n",
    "\n",
    "Dessa forma, a matriz $LG$ é dada por\n",
    "\\begin{align*}\n",
    "LG = \n",
    "\\begin{bmatrix}\n",
    "1 & 2 & \\dots & e-1 & e   & \\dots & n_e  \\\\\n",
    "2 & 3 & \\dots & e   & e+1 & \\dots & n_e+1\\\\\n",
    "\\end{bmatrix}_{2\\times n_e}.\n",
    "\\end{align*}\n",
    "\n",
    " Cada entrada do vetor $EQ$ possui a nova numeração de uma função global. Portanto, o tamanho do vetor $EQ$\n",
    " é dado pelo número de funções globais, ou seja, $n_e + 1$.\n",
    "\n",
    "\\begin{align*}\n",
    "EQ = \n",
    "\\begin{bmatrix}\n",
    "m+1 & 1 & 2 &\\dots & m & m+1 \n",
    "\\end{bmatrix}_{(n_e+1)}\n",
    "\\end{align*}"
   ]
  },
  {
   "cell_type": "code",
   "execution_count": 81,
   "metadata": {},
   "outputs": [
    {
     "data": {
      "text/plain": [
       "make_EQ (generic function with 1 method)"
      ]
     },
     "metadata": {},
     "output_type": "display_data"
    }
   ],
   "source": [
    "function make_LG(ne::Int) :: Matrix{Int}\n",
    "    return transpose(hcat(1:ne, 2:ne+1))\n",
    "end\n",
    "\n",
    "function make_EQ(ne::Int) :: Tuple{Int,Vector{Int}}\n",
    "    m = ne - 1         \n",
    "    EQ = vcat(m+1,1:m,m+1)\n",
    "    return m, EQ\n",
    "end"
   ]
  },
  {
   "cell_type": "markdown",
   "metadata": {},
   "source": [
    "### Cálculo da matriz local $K^e$ - via quadratura gaussia"
   ]
  },
  {
   "cell_type": "markdown",
   "metadata": {},
   "source": [
    "\\begin{align*}\n",
    "K^e_{a,b} \n",
    " = \n",
    "  \\alpha \\int_{x_{1}^e}^{x_2^e}\\frac{d\\varphi_b^e}{dx}(x)\\frac{d\\varphi_a^e}{dx}(x)dx\n",
    "+ \\beta  \\int_{x_{1}^e}^{x_2^e}\\varphi_b^e(x)\\varphi_a^e(x)dx\n",
    " =\n",
    "\\frac{2\\alpha}{h} \\int_{-1}^{1}\n",
    "\\frac{d\\phi_b}{d\\xi}(\\xi)\\frac{d\\phi_a}{d\\xi}(\\xi)d\\xi\n",
    "+ \\frac{\\beta h}{2}  \\int_{-1}^{1}\n",
    "\\phi_b(\\xi)\\phi_a(\\xi) d\\xi\n",
    "=\n",
    "\\frac{2\\alpha}{h} \\sum_{j=1}^{n_{pg}} W_j \\frac{d\\phi_b}{d\\xi}(P_j)\\frac{d\\phi_a}{d\\xi}(P_j)\n",
    "+ \\frac{\\beta h}{2} \\sum_{j=1}^{n_{pg}} W_j \\phi_b(P_j)\\phi_a(P_j)\n",
    "\\end{align*}"
   ]
  },
  {
   "cell_type": "code",
   "execution_count": 82,
   "metadata": {},
   "outputs": [
    {
     "data": {
      "text/plain": [
       "make_Ke (generic function with 2 methods)"
      ]
     },
     "metadata": {},
     "output_type": "display_data"
    }
   ],
   "source": [
    "\n",
    "function make_Ke(alfa::Float64, beta::Float64, h::Float64, npg::Int=2)\n",
    "    P, W = legendre(npg)\n",
    "    K = zeros(2, 2)\n",
    "    c1 = 2*alfa/h\n",
    "    c2 = beta*h/2\n",
    "\n",
    "    for a in 1:2\n",
    "        for b in 1:2\n",
    "            for j in 1:npg\n",
    "                K[a, b] += W[j] * (d_phi(P[j], a) * d_phi(P[j], b) * c1 + phi(P[j], a) * phi(P[j], b) * c2)\n",
    "            end\n",
    "        end\n",
    "    end\n",
    "\n",
    "    return K\n",
    "end"
   ]
  },
  {
   "cell_type": "markdown",
   "metadata": {},
   "source": [
    "### Montagem da matriz global K a partir da matriz local $K^e$"
   ]
  },
  {
   "cell_type": "code",
   "execution_count": 83,
   "metadata": {},
   "outputs": [
    {
     "data": {
      "text/plain": [
       "make_K (generic function with 1 method)"
      ]
     },
     "metadata": {},
     "output_type": "display_data"
    }
   ],
   "source": [
    "function make_K(alfa::Float64, beta::Float64, ne::Int, m::Int, EQoLG::Matrix{Int})\n",
    "    h = 1.0 / ne\n",
    "    K = spzeros(m+1, m+1)\n",
    "    Ke = make_Ke(alfa, beta, h)\n",
    "\n",
    "    for e in 1:ne\n",
    "        for a in 1:2\n",
    "            i = EQoLG[a, e]\n",
    "            for b in 1:2\n",
    "                K[i, EQoLG[b, e]] += Ke[a, b]\n",
    "            end\n",
    "        end\n",
    "    end\n",
    "\n",
    "    return K[1:m, 1:m]\n",
    "end"
   ]
  },
  {
   "cell_type": "markdown",
   "metadata": {},
   "source": [
    "### Cálculo do vetor local $F^e$ - via quadratura gaussiana"
   ]
  },
  {
   "cell_type": "markdown",
   "metadata": {},
   "source": [
    "\\begin{align*}\n",
    "F_a^e \n",
    " = \n",
    "\\int_{x_1^e}^{x_2^e}f(x)\\varphi_a^e(x)dx\n",
    " =\n",
    "\\frac{h}{2} \\int_{-1}^{1}f\\big(x(\\xi,e)\\big)\\phi_a(\\xi)d\\xi\n",
    " \\approx\n",
    "\\frac{h}{2} \\sum_{j=1}^{n_{pg}} W_j f\\big(x(P_j,e)\\big)\\phi_a(P_j).\n",
    "\\end{align*}"
   ]
  },
  {
   "cell_type": "code",
   "execution_count": 84,
   "metadata": {},
   "outputs": [
    {
     "data": {
      "text/plain": [
       "make_Fe (generic function with 2 methods)"
      ]
     },
     "metadata": {},
     "output_type": "display_data"
    }
   ],
   "source": [
    "function make_Fe(f::Function, h::Float64, xle::Float64, P::Vector{Float64}, W::Vector{Float64}, npg::Int=5)\n",
    "    Fe = zeros(2)     \n",
    "    for a in 1:2\n",
    "        for j = 1:npg\n",
    "            x = X(P[j], h, xle)\n",
    "            Fe[a] += W[j] * f(x) * phi(P[j], a) * h/2\n",
    "        end\n",
    "    end\n",
    "    \n",
    "    return Fe\n",
    "end"
   ]
  },
  {
   "cell_type": "markdown",
   "metadata": {},
   "source": [
    "### Montagem do vetor global F a partir do vetor local $F^e$\n"
   ]
  },
  {
   "cell_type": "code",
   "execution_count": 85,
   "metadata": {},
   "outputs": [
    {
     "data": {
      "text/plain": [
       "make_F (generic function with 2 methods)"
      ]
     },
     "metadata": {},
     "output_type": "display_data"
    }
   ],
   "source": [
    "function make_F(f::Function, ne::Int, m::Int, EQoLG::Matrix{Int}, npg::Int=5)\n",
    "    h = 1.0 / ne\n",
    "    F = zeros(m + 1)\n",
    "    P, W = legendre(npg)\n",
    "    \n",
    "    for e in 1:ne\n",
    "        Fe = make_Fe(f, h, (e-1)*h, P, W, npg)\n",
    "        for a = 1:2\n",
    "            F[EQoLG[a, e]] += Fe[a]\n",
    "        end\n",
    "    end\n",
    "    \n",
    "    return F[1:m]\n",
    "end"
   ]
  },
  {
   "cell_type": "markdown",
   "metadata": {},
   "source": [
    "### Montagem do vetor local $Ge$"
   ]
  },
  {
   "cell_type": "markdown",
   "metadata": {},
   "source": [
    "\n",
    "\\begin{align*}\n",
    "G_a^e(C) = \\int_{x_1^e}^{x_2^e} g(C\\varphi_{1}^e(x) + C\\varphi_{2}^e(x))\\varphi_{a}^e(x)dx\n",
    "\\end{align*}"
   ]
  },
  {
   "cell_type": "code",
   "execution_count": 86,
   "metadata": {},
   "outputs": [
    {
     "data": {
      "text/plain": [
       "make_Ge (generic function with 1 method)"
      ]
     },
     "metadata": {},
     "output_type": "display_data"
    }
   ],
   "source": [
    "function make_Ge(C_ext::Vector{Float64}, EQoLG::Matrix{Int}, e::Int, h::Float64, X::Vector{Float64}, W::Vector{Float64})\n",
    "    Ge = zeros(2)\n",
    "\n",
    "    Ce_phi = C_ext[EQoLG[1, e]] * phi.(X, 1) .+ C_ext[EQoLG[2, e]] * phi.(X, 2)\n",
    "    g_Ce_phi = g.(Ce_phi)\n",
    "\n",
    "    # Cálculo de Ge para o elemento e\n",
    "    Ge[1] = dot(W, g_Ce_phi .* phi.(X, 1)) * h / 2\n",
    "    Ge[2] = dot(W, g_Ce_phi .* phi.(X, 2)) * h / 2\n",
    "\n",
    "    return Ge\n",
    "end\n"
   ]
  },
  {
   "cell_type": "markdown",
   "metadata": {},
   "source": [
    "### Montagem do vetor global $G$"
   ]
  },
  {
   "cell_type": "code",
   "execution_count": 87,
   "metadata": {},
   "outputs": [
    {
     "data": {
      "text/plain": [
       "make_G (generic function with 2 methods)"
      ]
     },
     "metadata": {},
     "output_type": "display_data"
    }
   ],
   "source": [
    "function make_G(C::Vector{Float64}, ne::Int, m::Int, EQoLG::Matrix{Int}, npg::Int=5)\n",
    "    h = 1.0 / ne\n",
    "    X, W = legendre(npg)\n",
    "    G = zeros(ne)\n",
    "    \n",
    "    C_ext = [C; 0]\n",
    "\n",
    "    for e in 1:ne\n",
    "        # Chamada à função make_Ge para obter o vetor local Ge\n",
    "        Ge = make_Ge(C_ext, EQoLG, e, h, X, W)\n",
    "        \n",
    "        # Soma ao vetor global G\n",
    "        for a in 1:2\n",
    "            i = EQoLG[a, e]\n",
    "            G[i] += Ge[a]\n",
    "        end\n",
    "    end\n",
    "    \n",
    "    return G[1:(ne-1)]\n",
    "end\n"
   ]
  },
  {
   "cell_type": "markdown",
   "metadata": {},
   "source": [
    "## Cálculo do erro no tempo $t_n$"
   ]
  },
  {
   "cell_type": "markdown",
   "metadata": {},
   "source": [
    "O erro na norma do espaço $L^2(]0,1[)$ entre a solução exata $u(x,t_n)$ e a solução aproximada $U^n(x)$, definida por $\\displaystyle U^n(x) = \\sum_{j=1}^m C_j^n\\varphi_j(x)$, é dado por \n",
    "$\\displaystyle\\|u(t_n)-U^n\\|=\\sqrt{\\int_0^1|u(x,t_n)-U^n(x)|^2dx}$.\n",
    "\n",
    "Dessa forma, denotando $\\mathcal{E}_h^n=\\|u(t_n)-U^n\\|$ e $\\bar{C}^n=[C^n;0]$, temos que:\n",
    "\n",
    "\\begin{align*}\n",
    "(\\mathcal{E}_h^n)^2 \n",
    "\\approx\n",
    "\\frac{h}{2} \\sum_{e=1}^{n_e} \\sum_{j=1}^{n_{pg}} \n",
    "W_j|u\\big(x(P_j,e),t_n\\big) - \\bar{C}_{EQoLG(1,e)}^n\\phi_1(P_j) - \\bar{C}_{EQoLG(2,e)}^n\\phi_2(P_j) |^2.\n",
    "\\end{align*}"
   ]
  },
  {
   "cell_type": "code",
   "execution_count": 88,
   "metadata": {},
   "outputs": [
    {
     "data": {
      "text/plain": [
       "erro_norma_L2"
      ]
     },
     "metadata": {},
     "output_type": "display_data"
    }
   ],
   "source": [
    "@doc raw\"\"\"\n",
    "Calcula a norma L² da diferença entre duas funções, `z(x)` e `Z(x)`, \n",
    "onde `Z(x)` pertence ao espaço aproximado `Vₘ`, sendo expressa como `Z(x) = Σ_{j=1}^{m} C_j φ_j(x)`. \n",
    "A integral da diferença é aproximada em cada elemento finito por meio da quadratura de Gauss-Legendre.\n",
    "\n",
    "# Parâmetros:\n",
    "- `z::Function`: Função `z(x)` que representa a solução exata no domínio.\n",
    "- `coeff::Vector{Float64}`: Vetor de coeficientes estendido, `C̄ = [C; 0]`, onde `C` é o vetor de coeficientes que define a função aproximada `Z(x)`.\n",
    "- `ne::Int`: Número total de elementos (ou intervalos) em que o domínio `[0,1]` é dividido.\n",
    "- `EQoLG::Matrix{Int}`: ≡ EQ[LG].\n",
    "\n",
    "# Retorno:\n",
    "- `Float64`: O valor do erro calculado na norma L² entre `z(x)` e a aproximação `Z(x)`.\n",
    "\"\"\"\n",
    "function erro_norma_L2(z::Function, coeff::Vector{Float64}, ne::Int, EQoLG::Matrix{Int})::Float64\n",
    "    h = 1.0 / ne       # Comprimento de cada elemento finito\n",
    "    erro = 0.0         # Inicializa o erro\n",
    "    P, W = legendre(5) # Pontos e pesos da quadratura de Gauss-Legendre (5 pontos)\n",
    "\n",
    "    # Calcula as funções de base ϕ₁ e ϕ₂ nos pontos de quadratura P\n",
    "    phi_1P = phi.(P, 1)\n",
    "    phi_2P = phi.(P, 2)\n",
    "\n",
    "    # Loop sobre todos os elementos finitos\n",
    "    for e = 1:ne\n",
    "        # Coeficientes da solução aproximada para o elemento `e`\n",
    "        c1e = coeff[EQoLG[1, e]]\n",
    "        c2e = coeff[EQoLG[2, e]]\n",
    "\n",
    "        # Loop sobre os pontos de quadratura\n",
    "        for j = 1:length(P)\n",
    "            x = X(P[j], h, (e - 1) * h) # Mapeia o ponto de quadratura `P[j]` de [-1,1] para [x1e,x2e]\n",
    "            erro += W[j] * (z(x) - c1e * phi_1P[j] - c2e * phi_2P[j])^2\n",
    "        end\n",
    "    end\n",
    "\n",
    "    return sqrt(erro * h / 2)\n",
    "end"
   ]
  },
  {
   "cell_type": "markdown",
   "metadata": {},
   "source": [
    "## Cálculo de $C^0$"
   ]
  },
  {
   "cell_type": "code",
   "execution_count": 89,
   "metadata": {},
   "outputs": [
    {
     "data": {
      "text/plain": [
       "calcule_C0 (generic function with 1 method)"
      ]
     },
     "metadata": {},
     "output_type": "display_data"
    }
   ],
   "source": [
    "function calcule_C0(C::Vector{Float64}, f::Function, ne::Int, m::Int, EQoLG::Matrix{Int}; C0_case::Int=2)\n",
    "    if C0_case == 1\n",
    "        h = 1.0 / ne\n",
    "        @. C = f(h:h:1.0-h)\n",
    "    elseif C0_case == 2\n",
    "        C .= make_K(0.0, 1.0, ne, m, EQoLG) \\ make_F(f, ne, m, EQoLG)\n",
    "    else\n",
    "        error(\"C0_case deve ser 1 ou 2.\")\n",
    "    end\n",
    "end"
   ]
  },
  {
   "cell_type": "markdown",
   "metadata": {},
   "source": [
    "## Calculo de $\\overline{C}$"
   ]
  },
  {
   "cell_type": "code",
   "execution_count": 90,
   "metadata": {},
   "outputs": [
    {
     "data": {
      "text/plain": [
       "calcule_C_til (generic function with 1 method)"
      ]
     },
     "metadata": {},
     "output_type": "display_data"
    }
   ],
   "source": [
    "function calcule_C_til(C::Vector{Float64}, C_previus::Vector{Float64}, A, B::SparseMatrixCSC{Float64,Int64}, ne::Int, m::Int, EQoLG::Matrix{Int}, tau::Float64, n::Int, f::Function)\n",
    "    t_medium = n * tau - tau / 2\n",
    "    F = make_F(x -> f(x, t_medium), ne, m, EQoLG)\n",
    "    G = make_G(C_previus, ne, m, EQoLG)\n",
    "    C_til = A \\ (B * C_previus + tau * (F - G))\n",
    "    return C_til\n",
    "end"
   ]
  },
  {
   "cell_type": "markdown",
   "metadata": {},
   "source": [
    "## Cálculo de $C^1$"
   ]
  },
  {
   "cell_type": "code",
   "execution_count": 91,
   "metadata": {},
   "outputs": [
    {
     "data": {
      "text/plain": [
       "calcule_C1 (generic function with 1 method)"
      ]
     },
     "metadata": {},
     "output_type": "display_data"
    }
   ],
   "source": [
    "function calcule_C1(C_til::Vector{Float64}, C_previus::Vector{Float64}, A, B::SparseMatrixCSC{Float64,Int64}, ne::Int, m::Int, EQoLG::Matrix{Int}, tau::Float64, n::Int, f::Function)\n",
    "    t_medium = n * tau - tau / 2\n",
    "    C_arg = (C_previus + C_til) / 2\n",
    "    F = make_F(x -> f(x, t_medium), ne, m, EQoLG)\n",
    "    G = make_G(C_arg, ne, m, EQoLG)\n",
    "    C = A \\ (B * C_previus + tau * (F - G))\n",
    "    return C\n",
    "end"
   ]
  },
  {
   "cell_type": "markdown",
   "metadata": {},
   "source": [
    "## Cálculo de $C^n$"
   ]
  },
  {
   "cell_type": "code",
   "execution_count": 92,
   "metadata": {},
   "outputs": [
    {
     "data": {
      "text/plain": [
       "calcule_Cn (generic function with 1 method)"
      ]
     },
     "metadata": {},
     "output_type": "display_data"
    }
   ],
   "source": [
    "function calcule_Cn(C::Vector{Float64}, C_previus::Vector{Float64}, A, B::SparseMatrixCSC{Float64,Int64}, ne::Int, m::Int, EQoLG::Matrix{Int}, tau::Float64, n::Int, f::Function)\n",
    "    t_medium = n * tau - tau / 2\n",
    "    C_arg = (3 * C - C_previus) / 2\n",
    "    F = make_F(x -> f(x, t_medium), ne, m, EQoLG)\n",
    "    G = make_G(C_previus, ne, m, EQoLG)\n",
    "    C .= A \\ (B * C_previus + tau * (F - G))\n",
    "end"
   ]
  },
  {
   "cell_type": "markdown",
   "metadata": {},
   "source": [
    "### Comparando a solução aproximada com a solução exata\n"
   ]
  },
  {
   "cell_type": "code",
   "execution_count": 93,
   "metadata": {},
   "outputs": [
    {
     "data": {
      "text/plain": [
       "show_solution (generic function with 1 method)"
      ]
     },
     "metadata": {},
     "output_type": "display_data"
    }
   ],
   "source": [
    "function show_solution(example::Int, case::Int)\n",
    "    T, alfa, beta, f, u0, u = dados_de_entrada(example)\n",
    "\n",
    "    npg = 5\n",
    "    ne = 4\n",
    "    h = 1.0 / ne\n",
    "    tau = h\n",
    "    t = 0:tau:T\n",
    "    N = length(t) - 1\n",
    "\n",
    "    LG = make_LG(ne)\n",
    "    m, EQ = make_EQ(ne)\n",
    "    EQoLG = EQ[LG]\n",
    "\n",
    "    M = make_K(0.0, 1.0, ne, m, EQoLG)\n",
    "    K = make_K(alfa, beta, ne, m, EQoLG)\n",
    "    \n",
    "    A = M + (tau / 2) * K\n",
    "    B = M - (tau / 2) * K\n",
    "    \n",
    "    # Exibe os valores ne, LG, m, EQ e EQoLG\n",
    "    display(\"ne = \"); display(ne)\n",
    "    display(\"LG = \"); display(LG)\n",
    "    display(\"m = \"); display(m)\n",
    "    display(\"EQ = \"); display(EQ)\n",
    "    display(\"Matriz K:\")\n",
    "    display(M)\n",
    "    display(\"Matriz K:\")\n",
    "    display(K)\n",
    "    display(\"A = \"); display(A)\n",
    "    display(\"B = \"); display(B)\n",
    "\n",
    "    C_previus = zeros(m)\n",
    "    C_til = zeros(m)\n",
    "    C   = zeros(m)\n",
    "\n",
    "    malha_solucao_exata = 0:0.01:1\n",
    "    malha_solucao_aproximada = 0:h:1\n",
    "\n",
    "    values = [u(x,t) for x in malha_solucao_exata, t in t]\n",
    "    y_lower_limit = minimum(values) \n",
    "    y_upper_limit = maximum(values) \n",
    "\n",
    "    errors = zeros(N + 1)    \n",
    "    \n",
    "    # Cria uma animação\n",
    "    anim = @animate for n = 0:N\n",
    "        if n == 0\n",
    "            calcule_C0(C_previus, u0, ne, m, EQoLG; C0_case=case)\n",
    "        elseif n == 1\n",
    "            C_til .= calcule_C_til(C, C_previus, A, B, ne, m, EQoLG, tau, n, f)\n",
    "            C .= calcule_C1(C_til, C_previus, A, B, ne, m, EQoLG, tau, n, f)\n",
    "        else\n",
    "            calcule_Cn(C, C_previus, A, B, ne, m, EQoLG, tau, n, f)\n",
    "            C_previus .= C\n",
    "        end\n",
    "\n",
    "        errors[n+1] = erro_norma_L2(x -> u(x, t[n+1]), [C_previus; 0], ne, EQoLG)\n",
    "\n",
    "        # Cria a figura com layout único\n",
    "        plt = plot(size=(800, 400),\n",
    "            title=\"Soluções Exata e Aproximada em t_$(n)= $(t[n+1])\",\n",
    "            xlabel=\"x\",\n",
    "            legend=:topright,\n",
    "            ylim=(y_lower_limit, y_upper_limit))\n",
    "\n",
    "        # Gráfico da solução exata u(x, t[n+1])\n",
    "        plot!(plt, malha_solucao_exata, u.(malha_solucao_exata, t[n+1]),\n",
    "            lw=3, color=:blue, label=\"u(x,t_$(n))\")\n",
    "\n",
    "        # Gráfico da solução aproximada Uⁿ(x)\n",
    "        plot!(plt, malha_solucao_aproximada, [0; C_previus; 0],\n",
    "            lw=3, color=:red, linestyle=:dash, markershape=:circle, label=\"U^$(n)(x)\")\n",
    "    end\n",
    "\n",
    "\n",
    "    display(\"Erros na norma L2:\")\n",
    "    display(errors)\n",
    "\n",
    "    display(\"Erro máximo na norma L2:\")\n",
    "    display(maximum(errors))\n",
    "\n",
    "    gif(anim, \"imagens/solucao_exata_vs_aproximada.gif\", fps=1)\n",
    "end"
   ]
  },
  {
   "cell_type": "code",
   "execution_count": 94,
   "metadata": {},
   "outputs": [
    {
     "data": {
      "text/plain": [
       "\"ne = \""
      ]
     },
     "metadata": {},
     "output_type": "display_data"
    },
    {
     "data": {
      "text/plain": [
       "4"
      ]
     },
     "metadata": {},
     "output_type": "display_data"
    },
    {
     "data": {
      "text/plain": [
       "\"LG = \""
      ]
     },
     "metadata": {},
     "output_type": "display_data"
    },
    {
     "data": {
      "text/plain": [
       "2×4 Matrix{Int64}:\n",
       " 1  2  3  4\n",
       " 2  3  4  5"
      ]
     },
     "metadata": {},
     "output_type": "display_data"
    },
    {
     "data": {
      "text/plain": [
       "\"m = \""
      ]
     },
     "metadata": {},
     "output_type": "display_data"
    },
    {
     "data": {
      "text/plain": [
       "3"
      ]
     },
     "metadata": {},
     "output_type": "display_data"
    },
    {
     "data": {
      "text/plain": [
       "\"EQ = \""
      ]
     },
     "metadata": {},
     "output_type": "display_data"
    },
    {
     "data": {
      "text/plain": [
       "5-element Vector{Int64}:\n",
       " 4\n",
       " 1\n",
       " 2\n",
       " 3\n",
       " 4"
      ]
     },
     "metadata": {},
     "output_type": "display_data"
    },
    {
     "data": {
      "text/plain": [
       "\"Matriz K:\""
      ]
     },
     "metadata": {},
     "output_type": "display_data"
    },
    {
     "data": {
      "text/plain": [
       "3×3 SparseMatrixCSC{Float64, Int64} with 7 stored entries:\n",
       " 0.166667   0.0416667   ⋅ \n",
       " 0.0416667  0.166667   0.0416667\n",
       "  ⋅         0.0416667  0.166667"
      ]
     },
     "metadata": {},
     "output_type": "display_data"
    },
    {
     "data": {
      "text/plain": [
       "\"Matriz K:\""
      ]
     },
     "metadata": {},
     "output_type": "display_data"
    },
    {
     "data": {
      "text/plain": [
       "3×3 SparseMatrixCSC{Float64, Int64} with 7 stored entries:\n",
       "  8.16667  -3.95833    ⋅ \n",
       " -3.95833   8.16667  -3.95833\n",
       "   ⋅       -3.95833   8.16667"
      ]
     },
     "metadata": {},
     "output_type": "display_data"
    },
    {
     "data": {
      "text/plain": [
       "\"A = \""
      ]
     },
     "metadata": {},
     "output_type": "display_data"
    },
    {
     "data": {
      "text/plain": [
       "3×3 SparseMatrixCSC{Float64, Int64} with 7 stored entries:\n",
       "  1.1875    -0.453125    ⋅ \n",
       " -0.453125   1.1875    -0.453125\n",
       "   ⋅        -0.453125   1.1875"
      ]
     },
     "metadata": {},
     "output_type": "display_data"
    },
    {
     "data": {
      "text/plain": [
       "\"B = \""
      ]
     },
     "metadata": {},
     "output_type": "display_data"
    },
    {
     "data": {
      "text/plain": [
       "3×3 SparseMatrixCSC{Float64, Int64} with 7 stored entries:\n",
       " -0.854167   0.536458    ⋅ \n",
       "  0.536458  -0.854167   0.536458\n",
       "   ⋅         0.536458  -0.854167"
      ]
     },
     "metadata": {},
     "output_type": "display_data"
    },
    {
     "data": {
      "text/plain": [
       "\"Erros na norma L2:\""
      ]
     },
     "metadata": {},
     "output_type": "display_data"
    },
    {
     "data": {
      "text/plain": [
       "5-element Vector{Float64}:\n",
       " 0.003980336614548407\n",
       " 0.012354738208216465\n",
       " 0.0072324267456213825\n",
       " 0.001247601315650285\n",
       " 0.002114384286206461"
      ]
     },
     "metadata": {},
     "output_type": "display_data"
    },
    {
     "data": {
      "text/plain": [
       "\"Erro máximo na norma L2:\""
      ]
     },
     "metadata": {},
     "output_type": "display_data"
    },
    {
     "data": {
      "text/plain": [
       "0.012354738208216465"
      ]
     },
     "metadata": {},
     "output_type": "display_data"
    },
    {
     "name": "stderr",
     "output_type": "stream",
     "text": [
      "┌ Info: Saved animation to /home/daniel/Workspace/metodos-numericos/imagens/solucao_exata_vs_aproximada.gif\n",
      "└ @ Plots /home/daniel/.julia/packages/Plots/du2dt/src/animation.jl:156\n"
     ]
    },
    {
     "data": {
      "text/html": [
       "<img src=\"data:image/gif;base64,R0lGODlhIAOQAfcDAAAAAAAA3gAA/wD/AAEB/wMD/wQE/wYA+AYFBQgI/woKCg4O/g4O/w8CfA8PDxER/xMTExMT/xQL9RQU/xYCvxYC6RgYGBsb/xwc/h0JPh8fHyEB3SIgICMjIyQk/yYmJicA1ykpKSkp/yoqKisrKysr/yws/y0tLS4MDi8vLy8v/y8v/zMzMzU1/zYfHzkK0Dk5OTs7/zwMDT8/P0A/P0E6O0IzekJCQkQ28ERERERE/0UCuUZG/0lJSUtK/U5O/1E/P1FR/1IEBlIREVJRUVNT/1hYWFlZ/1xc/l0hw11dXV1d/15eXl9eXmBgYGECn2FT72NjY2QAAGRXV2RkZGRk/2UCAmVlZWZmZmZm/mdnZ2hoaGlpaWpqamtra20AkW1tbW1t/25u/29v/nFo9nJycnJy/nNgYHR0dHV1/3Z1dXZ2/3d2dnd3/3gNDnp58Hp6enp6/3srrnt7/3x8/31icX5+/38Dgn9/f4CA/4IAAIKC/4YCFoaFhYaG/4wEBYyMjI105Y6O/48FdJGRkZIqUZWU+paWlpaW/5mZmZqamptcvJwBZJyc/56enqAAAKCg/6EaeKKZ7qKioqMAXKSk/6Wl/6am/qcAWKioqamp/6qq/6qq/6w5jK9uvq+v/7Cvr7IAS7Oz/7S0/7WztLW1/7Z6tra2treUlLe3t7gBAbm4/bq6ur2o4769/r6+vsXFxcXF/8bF/cnJycoFOcvLy8zM/83N/s7Ozs8AL88yV9AWRNFchtTU1NbW/9jY/9sAANvb29vb/dwAFuHh4eLi/+Xl5efn5+jo/urq6uvr6+3t7e/v7/Hx/vIADPLy8vLy8/Pz8/T09PX09fj4+PkXHfn5/voAAPsDA/z8/Pz8/P0WF/02N/1bXP3j4/39/f4MDP4TE/4kJP4vL/5AQP5ISP5TU/5jY/5wcP5/f/6Mjf6iov6wsf6+vv7Ly/7W1/7n6P7s7P7w8P729v78/f7+/v8AAP8CAv8EBP8hIf+bm/+dnf+qqv/g4P/q6v///yH/C05FVFNDQVBFMi4wAwEAAAAh+QQFZAADACwAAAAAIAOQAYcAAAAAAN4AAP8A/wABAf8DA/8EBP8GAPgGBQUICP8KCgoODv4ODv8PAnwPDw8REf8TExMTE/8UC/UUFP8WAr8WAukYGBgbG/8cHP4dCT4fHx8hAd0iICAjIyMkJP8mJiYnANcpKSkpKf8qKiorKysrK/8sLP8tLS0uDA4vLy8vL/8zMzM1Nf82Hx85CtA5OTk7O/88DA0/Pz9APz9BOjtCM3pCQkJENvBERERERP9FArlGRv9JSUlLSv1OTv9RPz9RUf9SBAZSERFSUVFTU/9YWFhZWf9cXP5dIcNdXV1dXf9eXl5fXl5gYGBhAp9hU+9jY2NkAABkV1dkZGRkZP9lAgJlZWVmZmZmZv5nZ2doaGhpaWlqampra2ttAJFtbW1tbf9ubv9vb/5xaPZycnJycv5zYGB0dHR1df92dXV2dv93dnZ3d/94DQ56efB6enp6ev97K657e/98fP99YnF+fv9/A4J/f3+AgP+CAACCgv+GAhaGhYWGhv+MBAWMjIyNdOWOjv+PBXSRkZGSKlGVlPqWlpaWlv+ZmZmampqbXLycAWScnP+enp6gAACgoP+hGniime6ioqKjAFykpP+lpf+mpv6nAFioqKmpqf+qqv+sOYyvbr6vr/+wr6+yAEuzs/+0tP+1s7S1tf+2era2tra3lJS3t7e4AQG5uP26urq9qOO+vf6+vr7FxcXFxf/Gxf3JycnKBTnLy8vMzP/Nzf7Ozs7PAC/PMlfQFkTRXIbU1NTW1v/Y2P/bAADb29vb2/3cABbh4eHi4v/l5eXn5+fo6P7q6urr6+vt7e3v7+/x8f7yAAzy8vLy8vPz8/P09PT19PX4+Pj5Fx35+f76AAD7AwP8/Pz9Fhf9Njf9W1z94+P9/f3+DAz+ExP+JCT+Ly/+QED+SEj+U1P+Y2P+cHD+f3/+jI3+oqL+sLH+vr7+y8v+1tf+5+j+7Oz+8PD+9vb+/P3+/v7/AAD/AgL/BAT/ISH/m5v/nZ3/qqr/4OD/6ur///////////////8I/wD5CRxIsKDBgwgTKlzIsKHDhxAjSpxIsaLFixgzatzIsaPHjyBDihxJsqTJkyhTqlzJsqXLlzBjypxJs6bNmzhz6tw5spktV7+eScQEZVZHTBpe/JJH4g/Ppzr/NEm2UtKVpVApRrMVS1nIa7tcFYMIzdasZlnTql3L9uQuHgDixl0xCOIaAJg4XoPQZQiEOwhaiSyFoLBhw4I1CkPkCiZcB9FoygAgbOUUAIl3SkPkKeK1Ow7iIoCCtmMjC3J5EGMo7Y2CuAq2RG5Lu7bt2wp3hT7xZlAaHgpk2MXLkViHX9fekFgzUhQABzOiS59ha6MnAGReFkMQVxJNMjKOWf/G/BQZgBURvwDQwGfQCgA4uHFM9PyOIbgfvCq83OHPnxQADCEfbgQWaOBTQwBghTwEJXPKcHnR5pxwIl2XnUt8AFAEADYcWNFlmelkHnoP2QKABavxI8173mmUjAMIVMePPBu+oZAr61HFTzQkANCZh0AGKWRKEACwC0PcuGLIH56UNtBdEfJji4wDJTNLigNd08qSmGApUJJLNnkQmEw6YxAxngwyCCbCMIjQhAlFM4stAwokzSyzXDNQMZ4sKYqT/PzyBwBJ4DkLMgP9gomaqkjjUDNpDuJKnQuFAAAxJwDwS0HIXMnPLoZISik0s2xajCR/HCmQLYj8gYl4A03/Ceins+j4yyyO8nPNLEcmI8kgnujJDzeqDJKIlwI1c0oiriIr0DWq/JHIpiA2KEqYOjKkpZqe5BprddEsisls/MQyiCFYIVRMKwCEYGibC3UBAB9u8nMdhRkZoiFBv5xIaUFNAODUQJgAwMOQCCessEaoUYnQL+/JBUGU/EA5kAIWFFQwcwO10oFccQ0caMRxTVyQLT1KLEq9fHAHcl1vAoCvQdzgIHC9ZOwrEFwgQ+CJmwmCDEAiKloKsgaxMIRIaHKtQEy9COGIAz+D3lFQIwDcAQXIPAglUCwaDuKyIfIkwzNsImfIQ73OfVDaZJXx0wwAKYjC9HnICEOyAqUQ//SGy6JZTRAxJGddrUBMAA6AAo0w5MoHIFsQogUKxIJaXBr8oszZCCCS0KBCL8GQpUYNFE1h5F6UoCRQQ+5wQRoY2eDiwi5s++24HwTXC6oepAwHhJb6x2utuGmxQBhrDADH/LhS2BqlqkIGHwL9HrygxLv5C4xrxAIqjKXj2IEnv/zSyhktHgRnQsdYgEBj/LTtpAx3qHIrHwoooKotdwSoyv+ricYJ/tCKX7iCDAiAgH4Qgoj1JGIXseACAEjgLYRszTvb0UDt+IE1C1iATa6YQYAGAjYNKKB+rcjTC+ADFEkUyRBfstnAhAEBBVAJbskCAAQcsAZXtGIyTVgBDv9EMYs3nIhcV+iCKHaxi0bELn3XeE8RbLEYjJFHIENIwyl2YYtBFAl+CLFF/u7Aq+EpIF3uswAUWuGKDdlgCCnwxCzEhoC4GUQY1/nA/1TRO4RIgzvZEkjsZCSNPRrykK6AWkFGAIBEEgQumFCkQJ4Rlwryo0ibyp0mN6mwWTBNA0UwhB0FojaC0CcFTyIO8jJGkI0JRB6ZatxBSjmQUw4ELrIUiCoMRkoApI8hznHAC4ZJzA51DAEayFsNX1cQSQDgCwOxEEOMCEOEJEMBDhjlFoamEGg4QAFeg4sqCIK1RropGrFLWrm608p2eYtdEJhN+953jRV6biA4lFvIBnL/jNe8oE7iTMguEEAifhTsnwNx5hUPsssiSHIgK/yRQApWhIGgRgtZip0GoDEQ9ZANISN6yDHiosj3FI8fxBCaStejkCL1kR9JAADMDNIvBRgEcurkpE53aiBiNKFIcsGBHU1KEGmgJpPH40fy2skxE30gIUQdiFE1xQ/zaECRHUCAo/T1hX8lxDkIwOY3HeAAVg6kfzyYTDUTMrcXuEmaCwFbExJCH2gSZBcBeqhAsDbXiepsr+cpSIY4BjYLUGpDRCPICvsmkFYgUwt/FUg+56ZVgryHYoO6J0JGgABhbYhi10BNiArCDQVwICH9OoFBIAABNx2VIBuiVzSxk5CQ/zpEGM8xiA18JBBoqOm3wP0t6xLymqcRRF7UOwhezToQk+qVp9CNLlSuYS4ecEcDpeGO127J24qpUqnMNejyBOLMiiJEuwWBS2fY1YE1uPe9sdsUMULTgS94YrsxmxlCahYXhxYkGWtIAVDj0oHZXohfWSDB3XiJEHnx4L3uzRkqEzKZzEjjm9nCmhUKUgoGg21qBMlU6Tp6s7MSeIGSpUwOn/pIADgMa4JT0SBe4D6Q6ShT6drZQptxhxVcLi4O0GvBRgBh96JGP+7boLwohqMk1DawDikGABBQUgCMMyOYhNoSBPaw3BbEUmCUrpjHnBVPylRFizMIE3wpkKQulf9g4+WHvsjwUGmkuSBr9s51EuiAHfrZAVj5RRFeszgtzIog61tIhjADtWR8bAVkuMMfMnRagcB1ILsokgzSwAc+nIHBB9mQAv7s54LSdMqdnvQfLLVWrNmIILPg0Nciy4+PGXcgGbpDvcAGgFcTZLJ0S6/sEpq1V8JFA1u4Ax/+ELux1BoAgYTpFaMBoBF8QdJ8+CZdF0dWUjsAVpQriHpWNpAm69W2DbEzAFD87NJdo3zwjje8R3nTRgp7uAZJRiULgpqXkvnfAK+JBEWnVADMCi7kdnN4ncmx8ur1NQcHwMp2uTbWuOINqDGv+mTGkFkgAEYcQHH/6MxPllqatrD/BcBamwdqg2QBAJp1iBFXCmUOAmAKHM7rOjUuEACNWCDqEZn1wFcQYE+Yu310puB2KYMKfszZmXqpzRLTQJ5fI6wJoehCwk2QcdfL3CCteUNi18drQFwgKaW5XDSgEEgWBEBhLkiR4CWQ01U24HjPO0xy1teo2um13o1SVjd4F47htQN69buKXjtSCFhSIf1UwAYRzXGFNANyqrjLEAiSoJzy4xQmj98zC9IjFA+i5QVpIBMgco3YYeKQqviYqrBman5k6NVg4zk/NhRzfqzwQQKpEeg7gGKjCzvpxabamavEHWd/tl5TTYwEJSqlOx+kXxx4Lj+4TmJyCwTsvgv2/0Ni+tHvi58fyuiC+tfPfvXrOiEZ2gJBjhHWxw8kQbn8vMy0r/f++98ikmBJyQA81aQ29aIvBZVUNsNY/HAMRcI879F7uGYwdYKA3JVcBOE1+KUrMGJ/oqdfBlEjurJCawVZUVJPoWcim/drRuImzYAaB2NNMMJMGzgQHVZ7AjFygLVQ0NAws6Z7efROOpQr+tJ03uVfKRY3c3N0OoZ8goM1B8YP6gEAznYdK1An5ZQY/TNT8pAgNpUQJGgQ28V9QCdxX0coz4UxXpUQu/QB3pIgIoMRwvBxWGJEUGBKg+Bs9kI3uSIPNiOB/xeIgigRrHUFktAKosBsANABGgg5Rf/QCrvQMoGRSlFCHxbQCK6QCBoAOcwzC6/xBa6wC6LABcn1DI4IiZKYGb9QJEngCbbQCo3AAxVnBTKACAXUCgmChAbhHBbQfuqXGPryArlCDBAQI371Qb+gCjgAPJXGD96EAF9gCIhwJP1DAqLwC56QAh8TgwjhTA5QP6K4aiuXcnGYKCfiKFijARAgCcm4QhqXe6S1WzLAR4hQJLK0C9gUNyioWcbXYk4oEL9QGIMAQVpgRc7GDSs0BKE4PLGTGOziAI0QFn6hbQIVGlbgCbuwJTigcWQohWZYbmiYECI0BINgiw0BFzNwCq0QUx+QOhiRBu2CCbFwFxAwSkUSC27/Ig8ihAOqgIsAcAIeOIhCOZQHQQaxIzRDMErCMBlyYQHeF3gDwQ1bIxdM4ErlZjSiMVNLGTlPGSi7BTLfSEqKEyDsRnk05xT4mE2U5zYzIi9y8QEDxXYDIQofExdEIw1nIzPswo0I4QlH+ZYn9V/c4SwC8R6dAWMSJBdDQC7wWBDNEDRAVk3PYCnUR0M2lIQ5xIT8ABf/KBCJADgOUAorpIfHwJSodjj80D9rZzlfKFAr1DMi05FeB5JJ8Fy78JoAQHALoQyQeR50pxHXMIWY43mXBAA4WSV5+QKESZTM2ZwAKQqJgAiisJy20AiI0Cj/FRQnkwgR6Yy/EG3UlQgK/8AH0SYl1omd14cJhoAJrlBB0eAKkiCdv3kQ0SBv8eYVyfALiFIQwvAL5KIoidAKevIL9LYj/ekktiAJjZA00vALepgQ1+AK1rlEcUKgtfWdNmc1vyAJifA6DQorNCUJhiAKCwQNFloQx4ChKIUcX/ILyFIMLDoQzaA5BMEn0slRxPALlJIkiCAJq5GiFSQMmJAI2NmfDbEL8SmTG2SkBIEM/llUvwCiCSENOSqlC4GkieBIHyEMHKoKkxcov/B4CbqgzlmmZioTZPACZ3oRMLambvqmcBqnEJEMsSBorSmnDtGmeLqnfNqnzYlXUxZjfpoQejqoFiENhpCoirqoDP9oqI76qFBRny4JqbHyB1pKqXOqdqiHqZzaqZ76qbQRDdIgqqQ6qtIQlKCaqqq6qqzaqq76qrAaq7I6qw3BfwfxULaKUsxEq7zaq776f8WAAxjzS19TBCTAl7uwAqaVGdmmAEkwqQWRCBsmEdGwhr86SZ8qD8AQCn2gBCwQAQ8QruI6ruQqATFQDfOQrukaBCAwAeT6ruMqAkAgB5ZQC9TwqdGQq7RagyaRBEtAXQpAb0ryBky4AvTiCY7HD61gAcIQDTMgqAeRCDgnEdBgrdd6aH4qD7zwCFjAAglAAAIQsiI7siTLABigAjkACdMQBaigrvNQDSiQCzmQAyzgARH/QLI4S7IG4AFGEAivQA366qbQELSyirEk8QwIgBVDgIGtdHT4OBshkBdLkAYCIQrNiBASOxEVe60IYbRxugydAAc5wAA5O7IMIAI9gAV9QAmvwAvGcK/8kA7gYA3V4Aso4Avo6gtB4AjncA31Ig/GAAyv0AmBUAZEwAITALJlKwAGwAJY8AjAYKhDy7UH4bUiMVBu8gZ9pTFH5wkkcH/U8wKyFJComghJkAyoW54JsbWU65h8ugypgAYssLgCMAE5AAaHwArGoBDsEA4uaw+m8AMx0AItYArqABHLUAuUwAY+4AEFsLgYQAWUYAxEK5ST27oEYbkh4QoOgGtDIEmY/3B0jVBQTXAG/BC1AmEeVloQCERWZNUK0PAM8ju/9Du/x9AM9Zu/+ru//Nu//vu/ABzAAjzABFzA/VsMBpzACrzADNzAsOAGMJAAZXsBPYAHqUAMzuAM8gsN8au/20AO1qCu3WAO7hAN0JAMDcvBAqzC9JsMrFAIRyACiouzIoAFnZAMDZzDOrzDOny/PPzDQBzEQqzACGzAFtsQ/TIgazCxnDuXIXB/fyAPMpBYAfmlpsTEZHHEvqq9g0gNqQAGGJCzBgADZaAJw/Al8mCr8HAO3oCu81AP5OAO9XIN0DoRacwgy8AKfdADZIuzC0AE0yu01QurXPwR0XCZm1mOE/91dAFZGhzQGVdgV57AYnSFxQ/ButibLGa6DJlgBH08sgRgAmIACstAEenwDS4rDutgEHQsEtTwCnqQAwZAsgRgADkQCGdcptebyXLDElrAA8ngCQ4wFm+RLLPABx9QKgJhA1+QDIOgAY4SCw4QC4SjyNFqyQ6ByZlcyHhHDaFgBB9LshGgBJawuxWxDtngsuCQDgjRyg0RD/owyDMiD16MBh4wwyFbADDACMsgz9K1y9vMEs/QBBawAle2CzLAILaAAwyNAxxDDDxgATJAJY0wAhqQBlZ8xVqrxb3KzWQmD68ABjdLsh4gBqzA0QuxDdrgsthwD/EAoXVsEL6bDcf/exG80Acw8LwCQAAgmwA+kAlAa73+3KoefRtZS7EoTatFHV3G0AcegLMmoAe8MNQE8Q7YoK71UA7vsBDuvBDwUA/qOg7xjBHGwAg7oNMiywBYUAuDCNDYu9S1cdQRoc1v/X/ykApEMMsjiwFqwNZprBHbQA/pKta22tULcQ7dgNVarRHGEAgwgLMswM//59YtQQywd9mYndmavdmc3dme/dmcnStwTRtyncW8rMl619RPPbIRgAWsEBLooA013RCGndIrra4tHQ9UTRDAgAciULJr3X+UzRJn8AENfdzIndzKvdzM3dzO/dzQHd3QDQHAN9ptUdqXnNSzat22UwtY/yDBI8sChxDUM1HbDLEOvquu38DOHEEL343PLPAIcAtww70SZGDNescDjMXda4Hd2azdRQtw8hAKOSDOZdALOGHeDZEO9pCugq3KHbEMgWACJH0Ipfxv9a0S9y2U+o3aCuPfDUHXrcvfQUINh/DbIwsDlTDfN6HgDbHG3oDV5LAPHvEKRwDeIfsAapDLYpbhKbHhg9jhvbwwIM4QIk65JH4gy9AHiSuyBmAEtPAULu4Q7lAOgp2u3nAO8OARxgAHIx2yBkAFkfvPu70RQC6IQp7kWVHkC3HkXKvmuLEMevDlAsAAaMDjHMEO4yAO+qAXMf0Qveuy6/0Ry3DiI2sASv+A4NDl4yhx5oGY5rbD5t0E4LEK57WxDHXwAHsdCBfeEVV+5eXg5xfx16d85fMQDqvsEfIACjktsgVgBLzAU4x+Eo7+f5BO5Ngc4pROyDq1DHPwyQLgAYzA4hsB41jN3sD55xERD2ysrvRADu0AEq9Q4K5uBIq+SbNuErXuf7f+4blu5Lv+qpauFtQQCBMwsh4g3yBxyqmc6hsx5RRR5WCdriOs2x/xCjswwwaABXh+O9leEtvOFoig7A3xigs08AjR7Qkj6asb7q467lAhD5qw2iHrAYfg8Oed3uk66B4B7xXBDuJg6uQgErVgBCObAGzQz7jz7yQR8GpRCt/LEC//sL4DAQUawAMQoE7KlvD7Henf3uYYz6oQzxOhoALoTglljhDtQA6mnuUv/REebxHqAA7pKg5JrxC0QO0hGwGBQN4Kw/Ij4fJpIQPAtxAKcGsFEQsQQBV/MANoZwH2p/AIw/AI4eYX291aX7vjDRLwYA6Jna5Z7Q4iEfUWEQ/4UA7sYBKsMLsiiwGWcPU8AfYise28kAmacPmYn/mav/mc3/mej/mxbhAI4GxQ4BTEIHnoxwGRlAwaQH0bogEdMFoVs3oNCAD7+QJduTM9j+sbfdpDjjDGgAV6Xed10OkeweCmLg7s8PRfQfBqIQ+ZQPECAANsnTCSHxK1TgtoTbvc/9/93m8A1U8Qoy8QpW9Qavo1FvALQxCFyIP2sBVjiLwFvvZIu+/tvX/aQ18TJv7JBgAGAGGM30CCBQ0eRGhwXbh5Ded9S8dPXkKKFSlei2ZR40aOHTlSO3RBwMgCVAR6RJlSpUZoE1e+TEjmj0FNI23exJlT506eOjsdRFBsIJSZg3gUHARhhbSDCoi5NDiEj0sHrgbeaYKQR6mBzWB+BZsy0RSV0LiFRZtW7Vq2B722hZuSlYmbOXhBXbuNHD2H3s7FRYgR8GCNy/AksMmgDjXCjRO2dKxRpkFqeIgYIXI5M2bNnTl/3hzas2jQnfWcNRh0YJOZiXhALQWgC0KneP8JdiEzURoAYRPXcNHKld/byMUPji2L2vhy5syJN487DMhND6DiwjvXzWG9cu+MC4beGJiPmyJYhQcMGf3Ayes7Wtg18MUfea0+ECxmwZMGTwcdCEtIkhQGUkWDawYqYhDb+NmqK/ccQy4lsx6ksMKUnrPwJW4CYSCxPhhrKx58sHFonnH0YQ688PABp7u4RhHBJgKUOClDmNRbrz0bEUqCB0++sGAmaRwQihsbporFgt7+eGEgGaBABECDpNGgC0w+mIkfbuALzsEd2YoQpQm/JNNGDMvciBYWZDTpumxKzEYd6FSEjsR5vLkHHrio4XAkAiZ4ZEE0K8IRPR0HfQb/K09KiWWgL2b6ZRDUPFGFny/WGOgYQ/j4BSFi1khCEoJakSGhBocbFK0wPRozVVebO/NVg5aBowCbPDgPMHUcsgcdQSOjszlySvxGnXjgMkaJm2DgRVZCf13uUGczDSEjhIZIZiUeWjFVuFin3WjVjloFt9y2vnU2FAwIGCmBDwmDJ5xuzIEHWseCbS4fe0oUhx17YQrFA5sSwANEc/kpNDxpwW3mQI5KWSPiiDFJSBmKTkX3YITE5YhcjT+GKeNUl1HWphyAcUyef4vDt7l4zvHGIXq02acteZZBwwCbVKhF44ShW/irWP5Y4w9bdtylFFGWFuVolDAGOVyyJFQu/2qrURIZzVEwsCmCQ672qGXo3CmHr4bm1bOtWmCwyQA2DJ725+aCXkmYFxAIooogEKCBGLVssZYfYnojiBtbzrTFk6cI+kVUhJIZRCOowU6I4408pjxzhLL+kuSblFhmZc3FDo8dcUrs9Vi25AkkAXYF4LlcuZmjO6X8qqimGr6qCYIDZNJCYBaCQCVIniwcWMFigsjQoAgI+huIh1MomsGqiibXvCDLWao6e++9dHZrmyboROXvKyIdPXXAgXMd1dcCJoe2345b9MZqR4mJIEp0KAYzgBfeQIg3kDPYQBl3WEG2+PELp/DjShP5hQaghYkh2At739ueRTB3vsxxzv9Cy6DCTY4QOrbAAx/ocFX60PMyOzWEHNuwWetex4JmyWp20cpSQdaRDx720Ic/7CE6EOCLavBvHqhwwPsKog8g+nAdCAne8JIgwCEwhR+DkIFX/nAUfkhDAbuQxx1mw49SaOAY/GjEB7zSDARk7ILeyyChusfBDsqKFgIbyQXKZz+P5OMbDUHhoFS4HrLVwyFoawsw2NauQ/DRPTc0jrTWYURKGtEXACgiJXlzEHdop5LzoMcTUxNAfhBPHsmoWjOYQoYrEKQDXMFBIwhyBh78AgJO48cHuHUxb9ExjhTZIB2v5kH3cEMPOhuJEUi4loWUKB+OnFPgyMSOcaDOV6v/a51NfFAjNEGyOIeSRz4+Oc5LVrIaAOiUQfQxzoZEZJRStAgXxsiPEPTnBNDr4gsckIiCvMBx3QIfBqcmpjkKc5ipGgYMXscASphPLXopEZ6USKZBUmh9cJITW3ihgvGFIlXejIy0XjYOkpbUpCc1KQB8QUlfIECaBEGHNlBa0nMsqCou6YIWLMKHIrgEAo16AcUGIg8eIMB6A1kBPruEKg7+8jEFNWjUiBkeTTzAJjBA2VrgYQ5PzoM77nhVRSkUj3u0kB7maAs12GArARAAC8voJjTjgj+OqIwGebCGEavwGrTMhyAriFxFWmGBA9nCARlpAh8I8oekakCB8nBA/3x4GVA4DpRVUI3qx6bKHJK9zgDvUos80LEvh4yDHc4Sa4XeYQ5DzsMecuVIKkTSVhX0okwgdQxdOzILBDiCf474ImwRUgoI3EESSdCAyOTxgiE04gR3mAgmuDgLC3SqC1y0BQcs2MumWnZcmM3swTZrHF7EaCQeoIVwKbKONzkEHBlF7UsHpTJ9aAMbf4mLMcgzEoaSCbf3yyFYRKGAGPgBFXmIgQNUoV6E7EKMg+BcM/iwBUm4hEp+w8QupfEHv6VBsdfj7vmcipBghle8X3qE60ZCBbg+VBsRrWm5UmviQyBmJFigBoPj8l/C6NYjx+ADDVqAgz8oMEOGOEPFRv8ADYu8MXsjPkiJTVyu8TaGGiFsFyN0bJCt1sNs3PGOuWZsYl6UwCYiuEuGeDwYH08ZoEwVsXc7Bl43O6vKg+kFXUaC5i0TJB7owIbZ5iEOFGlszCZexhESYwk19zksba6zQZysOSgbRMqRftWd40IJFQsAdGq5qEPiFLVDT7nGNgED3NazZsBAGtPRC7FAk/NqjWmaLdQQw8AeoRZqWvNqpXbVNszhTrTUwgOvg8EwKMTquQaY1k2OdWVn/WwqP8gYMGArn9ESj3K0dh6I/LV8rXa6QYsyLMswgk0u8ApHf4XZcHH1qyeduUoX5NLUJpOt02JsbbYYLemQGTnakTn/YM+3mg2pBzlqhpZTC+Czj2z3V+KN6XlTrt4EuTe+d6TvsHDaT2yIOD/WYchwmJtyBUeTPN5RjhJ14xxpAwsrZiuAEaLn3W0hwxASgQie99znPwd60IU+dKIX3ehHR/rQSRDtJ8v5cnTW+MbDQw0sdG0UcGGHyQku7qipzHSoe2ZYhrGmtrJA2dC5OVtUcQW2t93tb4d73OU+d7rX3e53x3vds7A4jrvq4gPJeNQt1PeVGEN+I1FBVgVvEZS/KtQNyYb7wHLl8eWKOWlfvHN86XTuZd5VhE8JL/AoAGV6nvFcp9yfW2iiQn/l1ARIQEMvH3LTwwX0aPo7wqBe+/Xc/74joeiQAAoQCNpntvHOWq2Xz1YOmL/kFROwCciXg3neN8b3ZMp94KsPq+UcApkM+MlXtgHWOh9/Wvo4eEOwgY6JpmTsNumBvx1D/e0D5vpfyv7u66/5yFADDDbBgJ6BiW3QBnrwBn1oP4MyP3BRh/aCPPhaiWWYjpEwgWEovse4wP37ivvbkfzTwAzhQIS4NraCAW5Kia3qqnwoP9Q7HxEJtNLSB/WSBzQYH1iIDPr7wLUIwQzxwBykkB0sCGAQgddRAlXzCNUTtHGIhwxMlQU0FxTcDhd5iRRrl/JpDBz0QbQAwgrpwSzsvcZ4PnYpgD6AiQYskffCNCc8GAIsEf9sUEHngz7hC4QrZEIv7IgtpJAutEPo2MJOULEE0ISXQL82vKY0ZMGoYq9DSsCOEEKbwLHBwMI9fAk8fBA9lMTlAMJAYKsIeIWVWLmuQps6lBU1/Jhw2pdsAItlUKiR8AH5Y4tIvMQL2bxpi0VMjAt5YINbUbwjLKsS0QYYojZSBBl4UIfmewlqSLeyM0G1gMVavMNZpBpntMW0mkABKEGVeLx5GDWNE0Zqkwc1uBXbaotmlEaNoET3sMRyHIz7U0WbMIIcQ4le4xV8WLxuxLdDYKsJSK9XFEV1JIhzXI909EfbY4th0DMBQANoIhtQpJfMs0d8Az7+SgV+HEjrg0b/gqpIwvA9YMAjAiA+j8COmGkIelA403vI72EH8usIWojDBGA0ZuzHgQRI9BDIjFSL22NJdjEARkCJdPgjhwgHdlhEfDvJ7DmHb3s5PuqFdWmrj0QLcrTJgpjJ8KjJqAwL0GOF4EuAq/MIgHMIiJAI3ivKzJGH9LOHfBjKgzCGg5S+sIBKq4QzWYtGuGQLwvPDkXiATkSJe2gIv0jLqBvLzGEH9hG1dbCfdhwJJdA/DYpJf5xK6KhKupzEsGCE18EAcfQIedgqc1DJ7QvMzCGr1dOG1rOIZdgv0jNCCWlMdXzM5ohMyVQJjguE1xGBs7PKz9ScLjObbmC+laGGkhGA/x6Ax5d4S6tsTeZ4TdjEmq/AA5tggWW6zUM0PQIUNGy4h7+UiDIwGVcUk9Usx+NcjuRUzmdciRm8KuiMTjtMRPeCQIrogxlaxnHxTmkET+MQz/HciDuThzCAv+GkS9w8H1Pklxi0iEPwExMwBtgqzqisz+K4T/y0iCrjBiV4HR/wz4MQEXAgB+z8QADlIChEOCmkCHzcM9tklfl0xgaNjAeFUIoYL2ogAptQzIp4PMN0Rg+lI+rsizypCEpAJg/YxY5B0VpUUQjhPA1azBZNiM2ihtMEA8ySx4b4hjCrRRwVpmZyL2JDiLsUAAwIUpYY0lgs0sZgUSV1C4+ghh6wCf81+JVPPKSGlEYrNSh94ZfTSohRUDEvPVEznczuokU+Xc6POE01SAiyEklQ+kV/lFODwo6u8oZ6SYisHIkJqKHLCdNLHFPCKFNApSyKoIbDEwA2SIh0IMyGKLmKXNSo2gdyMKR6oFKEeIXgo1TRWVCbzNTB2FRO5Zxl2AGbwAOE+DpeeUNUlU5JZAdzMBaLiNVJTTPG5FRZ9NO5fFbyrIhPtQk94KSyeVNjVNRi3UN5WMKNWFYBmAABfJZp9YjjdAUryIJGOYhPCRWXeAOJWYP+UAZ63SWKyFVAFRlVfB0yLIiXOdSZWbioTNXMW9Y/MVcMRFdqNY5YcABDGAQHwKX/gZCGDtACTAgB+uCHP+ADj90nfhAGBPhYPnBXfT1SOWpYjsiYZQBVpxwInyyRoOTQKvVWuqSFDvmTSiWxS5XE1iyCN2APKDAITCCBiRgshxmIWFAArxAGBeiIfeVTdLHWkZhDgsBSKX0mn3Wzg/U8WrAqAbgAnrU0rrXD1tSASuEHTyABg/iCMboGBEingciCrBBZBHiDOzgqlP3TlXXRhGhSmwBYftALQfPL8fRaalsHcCg51amFsJ0AzCxbvzXH5lCAAHIFBzCIIoCugYAAV3CJaLgpfiiGJhiENXCAwKKIN+CAIXDdIZiFZ5Dd2aVd2j2GZqjd3NXd3eXd3vXd/98F3uAV3uEl3uLt3WLQXWVQ05GoA9x9BnXoKu7YBmdwBuO13uvF3uzV3uFVhmPY3u8F3/AV3+CFhmFpCNNqBmdghQXIo1rQ3dsd3/iV3/mlX99FXuNNUoRwgFhAWgswiCUQ2oFwAFKShA9YEFFwAKVFiEHAAUxwYE9QBm6Q4AmmYApumArG4AzW4A3m4A724A8G4RAW4REmYQ6O4ApGRl+9Bgm+BnLIKxNhh2uQ4RKm4Rq24RvG4RGWBrPI4R724R8GYhBWB2/jzXe4BlhwHQLwUgy+4CB24ieG4ig2YRoGCxIQKklYAYN4gySYiGQAAL9xkg8zCGIAAOWpnJQFpv/8fVYM4YZkREiF+IY4MdtnS1xao69xqM7rfIU8tUB7m+MsbM07GAJukAcimwhPOCNbgIDfGYQmGYhfQAAw5odkcAk+6ACLkFozfQ55cGNCpdw6xjf2ErRiSQUb84AExbg/9sHWRAYSeIEVSJ6BQIBd0gIN4AELOKo34KKB4ANbPgFctpdMVlLikAcsE4AyoNyBAGWNo1OHEIdVOAB2KYEaqdWMPE5pcAVXUNpfsCJ+2IVWMGPSDWd5+AVVmAXpFOYWJQ7tHAkwUGWTvFm6bNQSwQUJMAACeE7Ae+cPvFXASGcIfYvmTMx99rxl1jiVaQdW9ap66AY7IAACgAG4qub/iuznuPjn8eSGX2AdAgABO4gDgi7oeFbOrJ2HW9CBA8gBahCGbk7mzbnIy2rpg1AGKWgBIUCBBliEarCGbujMTxbp8fSjEvmEBkABIWgBGqjYmO5USkPjp1LqwlkBVMidanCEGCiibnhVn47pkGwIP8CdIvIFFJCSp45LaZNWpRaFNsikhogCVKBZpTZo3tuHcqgGFFhrekAFM1DjYX7p7yJrfrgDqS4RRzCDcIXrn4ZQlWmFKOCfamiBvy7rpuvbZJYHPvCtwTaEmgXUuOa9eBAGIeAfZlgBzebXvp6zv26FGOAfIZCsp+bs2gPXFlgph/CDJrjQlq5ouLhouDQG/yTIgyBYKV8QAjrY6xZ9bd5ThRhAhXmohjzIgAPgyqfO7bbY7ahchhtghmpABaP+AU8AabFEbDP9BZpOgQaQAAFIAL1U6ukGk6YmseJWTmqAAVkoomlwB0qGbGUObyVVmYwwBjxigIVNZvZei+quSG4gAjvIJHWQB2fIb/1+cISZCGCYAHa5gD7GbdN+upaWByXQAWZoCLSKbNfebzNVj5zds/hEVwJXCwP3Rzk4gGDgi3BQHRavvePePhxhBRuL6AyPVoyk3EMggE/giwP8xwjH8eorFE2wFQIAAviGSxtXFfeOMiiPSlAwAC8wGy2V8pCO8IQR8hUbcA3vvJWlhf8EAAFr4ItywIsud8gSV9KfycWRwFa/dfOvcPFapPADuIWGAAdjvHPBS3Le+xl5eAI7qAAC4MmVDfSXyPNL/G8CWISzsVOpRHI4b9GfgYeYCYYD2EpGJ3MkRddlUAEC0AGHoMczffBBr72fiYeYoYdJQG8bXPFQV9lnpYYdeOhLaAhtWNJL/3JBQQezcQJyxXBdtfU0nlYsIwBO+AZxyOojX3VMh9DZMV9mAAEBEAH01ORkd2pO7YNrrdxpD/aEgIdv4ItbiOaUXmNvf29OZfJkWplG50Zqx88bYgflEwR2MYLvrjN6V4lH98E9HgkYSE1Vz29WNz1I4suGOGkB+NX/0v5xmDZTCmeXbRcdgA9Gex/PG1KZg2OGDXjoXZtad69yMzUG85qAL/1bcn9wb3IH0sqFA3A4VvD38NJ4lBD4/ZPvdlHv/AT2l1+ZIW4ISOCvZgVok7c0K5dETiYJUHCknKc1hfc83DIH5rYGJDgvFadLqY9aKl/6Fq0Dm7jadA36/MateGCIeZiGCtAZg795YfJ6jtj56quE1wGD2Dx7yP6vbRDJcLCJI4h7Opp7qZlsuDxzdnkCcWC+QE14jldOHgM4a7AGXRB3/Cx8jah70xuGCtf2n9RSoHd5tHcklttpRfCTSsB8pbc3pvdBUp9UcrhqAnXYv6b6zFszeGAf/2sAhx5gl/Qez8zHZLBvfdjkhv1KAFJorXuAJuGfsttfPFZjB0/SBj278MHPHufn27O2Sv5sq0gQyXHQ+9Hne7nCB4e4BwaQZu60VdbHONfXQANl3rW3h4I1e/L/63d7sWrohlUAiAQEBPiQx+8gwoQKFzJs6PAhxIgSJ1KsuLCZxYwaN0pMNEUjNG4cR5IsafIkKwMDjZibN4+euo0YT9KsafPmzWvRcPLs6fPnQmgGM7775jLbo4EC2ABt6hTnzKdSF3oEKXIq1qwSgU0QIICFOmsuz8WTqfUsWqA607JtS1PoxnX1XL5jM5BAJbd6pUbdy7NqxpB+B/NcpsLrBf9h01yGK2uWMOTIB9dKruwX7kZ038zxk+fDawJYlkdr7EuaI2CLgk+zfugZNCxx9OZh2zbSdOvcPynr7u0Tc8llJhAP820ct3GIqSuuTt6ajVcBlM7NnZeOJHLn2jXy3u4d5FCTw7p+XfaddPbzB5dTbK4esialbNjVm12uZPr3+hF23+8/IXAmvWKAV0T8R1h+57E3kXsHslWLQALsUNRs2cCDn4MZ9pehfgGadEh0fXDoVoLfLShRgyNiNQwGXpWwjDazdcOOSSWqaNyGN3rnoUlYDFQAKDqeZeN2J0aUopBAUQODVxEAk49L86BzEpFJspajlcbxWBI1OXjFAC//WfLFoZEQISkmTlR4ZQAr+nTjkjY0VYlmZVjS2dqWJRnjgVcemHenT3MmV+ZDZwL6YXSBxJONS9+8I+ehOO4UaW95llQLA17tcBWlNQlqHKEOGdqpRq8k4JUS/JTjUj3reEpqbnbCCpmlJXWilByzUknmR4FxqutG4w2kAjXpzDbPOTZ9CqxWsjKrV60b5ZNNsnB4RUAmz3K0bG+hNjSqtg1Rw4JXEwzTDjYuiXMTt+E65ay7aEWrkT0upcNND1/WEm9F7ebmLUPg8ouQmgKwyY82LtmzD7sDDwavw1PNm1HC83izzTIiCECAB8ZEDJG/rQEc1K8fKxRIdIccJM5L/zE1bHJbEMMM1MQWvVPvPOHA00umAuRAzcwX8WpV0Aml5BUVCG1jznVQFY2WzE/jVLNF60Rpjjy3eoWG1AeFzNrICgkc73hewUBNeIF2nVXUa7+V9knyyGPObDDxg8e1mnT99WlhA1iyyeMS9xTfblfUtuElUW2RPCzT5s5rAoAJt8mFj+Y3QmOHW/DBhCf+FOKfc7R4RfKgO5s48mTc559BW24Z5gdp/uwhSh1CudqiqzWp7r/hTlM61SXLs1cFFf16ZbHzMzuwtJwqgBFYId/7QqFTz9zvNK06T6v8aC1AH9nHO31kyjM/qzEtCqBC655fz5P176MovkmLvuQoP/9leFXAKK4P7SvMuOElATwAGFkhn/ziJz8z0c8kbnIJOeTRJa8UcGYIJIz5AMcv/QmAf1q54PUUuEBRNZAkcoOSS6aUPq+wD2Yg9EsGTRYfr+jhIO1wjPtGSBMR6jAoJTRJxWbED1icigCpqtz/VKPBcBGPIAahGzgulMMeloSHVMzcD0tSlKNcqHZeUdnHXriXGDpMOKzjhzqORaMpXpEjVmwj6UYiF/scpGAJoEUYk8icJT5LCaDZ1z7SNY91jamNJHnjFeM4knMc6zrUUMFAMOAxh4lRL2TkF4i88gi5yYY27ZhKJUWHSCoqciTjcElt+DGMB2wsB3wEVijbckn/dznPK1g4yDlcAhMcOiWWiRtlD0u5EXm4A2eN4QcolIIHSuqxPa+E1TIwMCy0ycUl95GeIQ/Ju2yCByvqEF5ZoNPB/vHLl2mZ5bO4sQMKGnCL88gGL9nIzcNtc57Yy0pLXmIbeQwwAsPIIqDMiRZ0MmsO+yNnEPXxQXtyp54MnV9W4hGOlyiUH8a4gFdYADR3CfQsBNXVKArglTkcBB9RygdAX/VQeq70nlghpjlcdpABeQUM4zuLMlqxi4ZcwxWukAZChPGLoR4DIdyIRSuAqpxeKTFcZfOZSNjxpnmQAy0d7RowdShMnKDMK3oL11VjAQEeaICpCHnGClbwghEg/+MgFtAABzqghYNIAwckmIEGhLFUoj1rSZH0GDwYNQ/8DamlFMnqCLeKEyJ8KUzauuoM/sCPZFggFgr5gwxEMoQ3uHWnCZHECYCahSvsFYDP4qABXmGQ7dWDHfEEpWEngtgFKvYmqxOACdqnq44iAwDFOEgT1qCQFyTiIJ74gFtPsQul8mMIfDiIKyBQ2qYyK5leERE/jOWSe7wWtrGNyGzlV9ubQIgABLjlszpqCwUM5Q5FUIgGVHGQ9R5EAyP4AAQ8YZAVSOIgxAAANB4yCBxgosCeaAY3EqzgBS+4GddgMIQjLOEJU7jCFr4whjM8jAh4pQcJ3oY31PXgDJOYxP/KKDGKU6ziFbO4xS6OsDRC8uIZ07jGNr4xgx2MYxbLLZMCeMSOgyxkC584xSSJhQOGwochKMQCrTjILhAgEmUcBBMKKCoJMHGQYwAgGQ95AweGIOYhzOIZZj4zmtF8jGakuc1ufjOc4yznOdO5znVWBrkEgIFhNKMZE6XNNpzhDDsTmtDFKDSiE63oRTO60Y52szKO8ehJU7rSlr50m9eM6Ucf4Y9s3jSoQw3nQyf6mRARBgCUSgYuKOQEWuZHKzQANwvIFweGgDICprtHYIFhTbCQWz5hklKeXFVq4X3feHGyjBKccbdsi+9B+KuQLHThIHdgckKSgQBb8OMN7+X/hyFkoGtn6ioTKTPIN13CGRJ9F7wObbfYhv2UJkbP2Vn5wwcw8QUNADUWuebHLhwwCEQ4wBX8cEUXJJGIFeDAvw7ggyQgIIpxM8jUWQJGzwzEj2IyprsLhbdDjn29ZNeEHVJ8RHQYYe+XSiIJaSDGQYRxB4TEIgtQeDI/isGHJFghEczdRReacIqIfPROjzyjPE5pMdvopdhPEzn1SH6SliysjqDhhbw55PSpFJ1OvRZAAvbFD0bayy9bDxrUeyd1kzgudfw4ugD8BKuzP6XrYtJEyhCCDTqaHeQhf7ffl5f1nqgjSsniB8a9Uu9O0d0pdrfShguUkFNaaDCNN1na/3W3dhPKoxyz6R4/LBGdR5Dq8kB5vJCW1OyDxMPkCAo8QzIvus2XxH6DfRQ/lDCQBDg2Uqb/Cep1JIY1vUIhcoPM7x0m+8/RviT6CPE8xnGQZbtIt3RKfk+CryLrCiAQrME+v5afuOaXBIXzwMdBeFHEpPm+mRU/VOSd+H3YVw/wfid/ScjhEiHygxHRoUT7ZYj2ZYjqxd0knQb4xYv4GQ7+kQQ8gINLRNFBdJrk9MKhJOBNDKCDiJMBiEZrYGC4LKDbNCBJ0Id9GMRtEUtAuR+KWFyGpIJIdd/gFRb9JYQIrg0JksQ9REnTQIhXhMEKCqBZkRuaXJSmzCAN1uBk2P8fyOUgR8iN0nlDRWUSAXTCnYBgTWjgfsjDOgnABBzgByohfzAhvDnhSNxMxx0EEFBQcaAJFtKEFupHH+xPKhzENpwDOyBhIYnhDXaNGY5Eus3DukXTQMCAHmrHG55EHKoHLRCIAMDBQaAhNnjc64khP/Sh1PzhSASby7xCDC6TmCSiSSzidywDn3zFRkUhJVqeJV4iGbabJnKERCkMw9zN/rBCKLLgkbjgfhgBGxrEDroESiFgK2Li08QiR4CYuhwEPyEGGOqIKJYEKW6HFwnAV0kVBIWhJRpj0SAjRwTPWByEsMhfkkQjSUyjc6jfQKDXA0agFBHjNr7id3kjR7D/lqvwQyjYziH2hjmOBDoaB9yZANrwAznISB5qIx/KY2zR40YE1v1IEQeFXTnqopnw4nl8nURmV5Tcwz7uoRJyY9Aw5EZg4zzkw0EIDgG8iJD0I2oM4fvdyCjYzkE8n0tIn26wZKeA5MyIpLTQgxQiROKd10pSZKFY5HYYwwQMBBCwXjbMhj3gXm7gJKXoJMzw5EbsA1QehP95RbbciFRmxD/mRjMKwAVMUj61yipKxlceClWajFXShC8SUBuOyFpWRFi2Rh/8CC6iUXWsGz8Wo0Ia1lueBCEKgCGqSF1SxF2eRi0JQK5snDGlZWUkJp205ccM5knQFPh05GhQZke4/2QLcshtaVRnKF0qHQdgtiJmngTeGEzxaR1RiopRGofuSY4BjR0POodniollRsxqmgQ3wMBA+AlnqmVsfsts9oa5eYUlHAR9WBMipqYl/qZ4sJIAHAFsCiFf/ccqoUokGsU7vSNqxqNqFqde4J1XAKCD7CbFheZ/jKXcIcz+rZFuSqcYUudJFAwD/NOBsOdDLKZkzKFrHgQ6RMmUbId/JklvOgx+bsQ7nMOB3hYMJCdCHgiAQkYjegUokmQEeUeCCsmCDkyDaoTnzcM9HESGCgAo+seHMsSFDoaEXoVgfQM8mGcSfmRgttSIZgTdzMOMGISAptZ/tChVgOYu+od+8v/nO7DKPXqofSrhjlpEO86DBMKn9X0HkSrEi+5FJ/xfQpgDOJjkeWTpiIQov0SpRXCoOHKYAByRfpApQmypW8Qfdq7nk9YgmlpEMJakQcyQADTnmx5nwFBoZVipjbIieU7noaZFxUihQdTmA8zlmAoqybxHH4iUkGYInGpIjq5UntoMzsCT6pziz7zHpvKDnKaF+mkoXd4p/X1q1fSlQaQodk2qdpqWd1DDcKBiqybqfS4qW+RSyxhEaxoALQDrAVGq2BAqZGDkbWZnQpanfshDPDgONnxSAYrAQDrprVLXdqSCUqgcYroq7MFqRqCLuhhE4gmATWGpsv6NdxghQUD/I7kGnrlmBDgii1ZeSyi4a7fu2nYQwUB8Ib36KpQia1vYo0EIrBc+43g6SKpixVYSQL+O3TcMo50aLJ4iLFs45O1ZFEbNK4K+a+Ywq16sa7uikD1AK45K64E80DzECT+Aq1eIa33+KxECJJMIgLbKA8x2aMZGq6IeiNwUaAodxNcxwLM+rIUaaUU6hx78ET/Y3lOybA2aabzcK0fon4/SCDVojGGabFucasQ6RS04InaVKFpaLf1hrbtobUOCpwT64GYmB9k6bVECJNhOKF+OhWT6q9D+6og85zxcU5AeK9P+R9kCRdIaELoOEsfuxakeiNuGC9xqhNyQ3TzEhDzA/4BI9axv3O125gbN/lhnWGst9mrgHuyNKN05GMQw9AwQhi7Jyo7YakU0FQ8u6ZI6/K2tru7GqggxjcM4pO7EktNN1u7y3G5WxCXBVlPhDqXGvmrkWgZjkeUyVK9KQSzeyqZuUEJ0BIk7iWrBAi/10om8LmXy4uxLskZ3CgB6JdRETm+5am9lgEJ05EVUKu/5sIWV8oNJCaPvmmq93p/9VkbBROr+sq97nkYgDISQcugBS24BN+EER4YpekUOXPC28C/zOkUvPA9JPeBsgENWlm/LDi2geOIXcXBpePBpjMs0qQqT5iL92qsLQ4Y4JYAFwiP3jm5l1MHVyUM6bGQOj/9tBZfhEQ8G3JEmesDwaJytVwSCPChj9F1fEsPiEg/GqgpADT0xAx+pZXyt2XDDLM6DPbgDFt+wAd/JNmRDNihUXhoM4lqG6OKqZDQuP5ylTNmw+dbvnQgrPAXn526rcYbx01YGKyjFJunDsfilG2bxPG5xW0CvOcRD7HpFGXQmFGOw+vjATM5GOFygJC8kJbeFsG6uPGxlAezlIf8wHhOGHzUsQqjDOZywH6ew4N5JtaLSPshDvujZlVIwIudtZHSpV1jhrEzuf1SutlwuTwRSuhoDm1LBKQtNMXsvZMirm85dKQvmNbdFGoUjMgtAJ4QzQtyxtw7G9V5A9q6cLrP/bqSo7TrEg/M6bNN1sl+g3MYg7zJ/s46iM1tQ7TssQ8iqbyXC8jrrRfyBgUAj6h/jcKfQ5BWXLqBCdNMCcVtw4XAOM6Uws38487NA80+YH/olsKTms1bwQQd8gGQtRCusgAU0AUbIwxusgAbIAM4dAw70NIG1pxjvRSYVgGqlF0B76kO3BdfOSAb7TDhfFSZowC7sggVMXLY5ACYcwxB8BDdYgSsQgyEogF4JgwLMgln/1n92L3L6xboyxWMd9UOR9E9MaRSxsAAwwjVflQ0MwkEsWdoMgg1AmQIEWEJ0gH6RtWKq9aDuRecOhLa+A33C89V2alwndVsQbjnEQ0Qu/y0SZ4WTHcQpdMC0kQFCKIBnxRwC/AI/CAMCvIAM3AFzNcTiWsSlGkwttEO9QLI3s7EFw4rc7Gk6kLHPbBS7ZcW2HQSSKcQQzJxb4Rw/SMMLpMFBKIMk7MIprEASQAQZIIADdLcDtAI00JmmiZqd0e0c+Jm6fBp5r3eokRp7vzd8x7ecRZp817d9y/d437d+11mfRSE7HA347HeauXehmexn84MqcIBCWMEZlDa3PTcPFME1LIQtIEBsU0USJIOGP0POpsU15JlG9ajdwBJcM5RcAwUxGRM8CDHY9R5bXNULIMJBDNhl8QBqU5k0iNmFH8QvIACHO8RsT0Rr8p4lW/+2Skd0GwOLJQuOYRJ3WlxVIpyAMiRDCPQXP3CBahODAsTCNWRBEcgDNwzBCgzVL2CELag2MgxBYKe1RmcF3QYCGr5TPBh5cSN5bzOLiKtDF9fqkzfLFnQ3GUw4P3yAZfGDJFiAA8wAzClDBzR6o/cXJlgAdw8BzLF5LGcF3E1oo+oDndd5PAcvs8jDn2GDOwgo7x2x03GD+Ag6RLA6UCcyWlgL2AEDcHe6p0+2yzLLNghSOXADC8xwn2fzWqNFih6CmoJVidvTiUsFOHJGCLNqsCs0wGoFNTCbz9C1eDILSO+HSDPLskuFOuTDnPNDVxlrtGf0pUsFB+1nQXLPQSL/O28rccR0biFzsDpPO1a8Qrjmw7Gc6E3FuxZ/TFtblT5LRVP3gBXb5L/bubx/zFB7YLIK+2JnRdIOQ1OisRqXU7LP07ejBRd6hQh49E/ce4c/xSKn51nW88Bsu350O7B0PFpkMgFwTcRLe8k3RVP7wDgjywB/9MZzE8yjhRcR9QGTfPs+BRY0iWKkITMB/CTPDDCvnjztR5AbjVJYQiddax45vSkHTfyJATZJfKU+RWH6gLDu0tYzfMDDjD6sAz+3snfZ/NEDRcFMgDowA3QiEdeDM8xg4zmsYdyJ/MvIfQMDhUWDJzy50M9nU9BrhXbVgzpEiENPvX5UvUErHgp1/wOnK/7eBzTMLAo9VIM9RMJduDJQGH3h+0RtfuHz1YOYcr7aPz3MJLwPdHQvFTxPhEJ0KDM8ZLwFLb4hNf5ZmN85PMA63r7YLytQ5O51ug3Lv4fL64rwn0VBWkM3kEIBmFcdnj7u38Qsl6XzAz8c2TpptGM9gMMTeAUGCH6NdH9N6H4yG87zq0f0z8r0nwWHRsDxj7z7EyZAXBAgQAk/gwcRJlS4kGFDhw8hRpQ4EWIzihcxZtS4kWPHideieRQ5kmRJkxChyTu5kmVLfvfmzatG6gABAqlc8rOYk+fERFMyQuPm8sjAC8Z6JlWKcedSp0+hHgQZlWpVnimtZm2pLf9mtycHBGBY5rKp1pw/gw5lCWqggE5m4bIsG5duXYZT7ebVaxDrXr8O39mLCU6gACxk/5JEi1Eoy2WFCyaW7HDuZMtK8V7WnLTv5r/r6sXUBZbAqJaVPUdcfLHxyqICLixTmXoyatq3O2bGvbtjZ950z8WcFydB2LErbf9GuJpia5Od2uo690653uTVsS/UnZ07Q9/do8qLJ25evWkYwFKRCz4h84nOSS6bQEDApm7zyrE3e11/9e39u/sOwKXawSambAa6CbkB3ZMIPpHkMWIgF+6b55x4BqSKvwxx+49D5QT8kCd1ZLJmE6NkM2nD3xqM6EGP2BLggG+qmQcceGb/E1GpFXXUzMMebwsRyJPkkacceqqpx4WaDlORQaAYU2ukxwQgABdm5umGnSF35PK3H73UTMgwSYonm5imqUnBknjcrUWUpBTpNSesoWcefMjkqc088wKTz8TG/LMjfbqxMxebYsvRoz1ve/OhFzeKcQNvYtJG0NMu3czPTPMKlNOM8pmnTicMMIzNJ9OaEgMZc4npG+o+PTVWyTadFS5PbY2oSHLmoQfBKnEaiVHaHHUI0oyUGEgQO+tZJ1dhn/Wr1mirwpVah+DJxpp7fKBPLGgBLLahYy8KZSAd7LTw2o6GXbenad11ytp4FZLnHXmMmc9Ukdr1TFzv4tSIygqY/wlNHEXpnajfhFeCl+GrEH5YIksSZIVfVKP0iIoqPwkNm3YkpmjhkEdymOSV5j3ZICAG8uA4jka+7N+FyJWIlYHssKZXdTBU+aGYfdbI5KBHSlnlfOkDI+KLgJ5sZoVqhmiZVV3QeR5zeiaaoaa1/iikrjlbGuyDKKlYbIm4TuzphKJ+aOMKggktG3jGXijtuhsaGm/Gzq6biJZfzuhuv9ZGqO2GWKFvEju90advrQffOyG9JX/vcbCNiWAgMWDGmLWAJ5qaACeEy+dyoiOv3CDKVUfp9K4fGagAizVKPa/CDzp8ISwEAAHLechp/SDbK2dd+HFf75plAlyu3fPmQP+PKPEDbhmM7uOJl9z442lOXut7BNlAgDKcDxfKzzFaxgMBFtFZS+99zn7v7blnG36f2dH5lgMMeOV++eOCO75E7yFgEIAOhHOP+6kMgHWjX/1yt8CTuaNCiyCACAKHtue9h4CIo48dajQOCOpkhB554AiNRjR8CMcJAlADUzbooA4uRH0DecI4yAGr+jVwbCeEYAqJxpV5MGMDBYAF02LoohkqJAwDYcAwSmgQHoLNh/UDYtDe8Q07yeIAIqBG8qaYFQHyQ3f8eEUBBkIJCaIuihypIveuGDTQxEQQAoCDyJIIJ4lQQwQD6UEbpQhIoX1NkKxZo8+CIxMdGIAWrwv/o1XGqLsyOBGKgHwk0d54vDgGTR7isFMwNuBFDZovVRCBRakE8IhDsrGQF8mk8DYZtH0YaB6fOEAdRtmfSC6RH9QowUBysEpWttJrxGyOMFWmjnR5IQG0iMglqbJLiLCBkq2Eps9e2bpYEs0cMaGHC0xAjYrk8VFLrAUqD0HMa6osm6rbps/Ec6Z5BOMAfXjcOp8izYZQwwTAROYwjQmRdlbunUHbBqXmcYkE8KJv+HSKPhkyhw3c4ha/+KI1AyqRgUquoEELVUycwAJxNsShS4GoQmqRgOpZKGuCLKnENrq3jgaNV0MEQR8oQ05jEZAaLBBETOrBjn8G7aUPiyne/2bqM3iAIya3kABDt6bTcREQDwiMyTkCWlSGHbVuSVWZPNhRIUGwgIBa5clJD8ILgulMHBk1K724OjavfhUmMdFBIJb2VpegtZcw+ERMsOEOt2Y0InEF21xPViQhEhEYdpMqwBTSBzsAVR2E1au7DNs1xKrMHYKpJQwidlmWoLUXOqjT1QhLwtQ6JLNa26zK1hGTYBDgEAgT7UpOKo8bxG0e4YjHULt2W2q1lmivJVmR8oELHQggAY1FiHBNctJAXMJO3dDHaqH7LOIGzbgq46c/n/tYmkkJGF5IVzpWq9r0aoeQ67VfemmBRgGkc3jihZpa5IGEbuisHC0drHsVsv9dn3XXZ9QUwBPrS8qM8aMQt9DZN3CU3uzmSsAqI7B3+yiAYAZSwegbxiLsxIwtrXfCtqrwyS6ssleg8hEc1uX5oCePOKRLge4t8axOTLIUq2ySB4bijT0yxl00IxK/E8dF1+sKACtEGbtYckJ28QwALyPDPpCHkqPSijcMAjXC4MMdfjEbeXhiDY2QxkGI8Yc72AIiYxxCI2SBJmf4l7DcQMCTESKJIuD5IDwQxZLPOJBHKCAqkrDAH4aQgmskRBgOIMMbHOBkfrwhBH+QwRAMggwLZOEODnBF33CHiRagAAVB8IU11MHLQl4DAcAVnp5d3ToeeOLJYDhAAxRA6jf/XC8p8viAJ+RxjRDQGiFkWIJBztAEnSjAyc1gNj/4wAOD/EHaDincIIRQjRqhIga6ODOAWR1r1cGaz/yY9ZOXkQFH1GgefvjBUogBgK994QsJWYEkDKIKDfCjFRqYDQ4MIQ8cDMIgtiC0tWH8kHi0QNvCQYUUnhzucpObz+desiiqEBrhCCEWSonFwaGNaYRYoBUq2UWrJbGCgyThDfw4ASYMUgwAJMMhX3BACHAegiJAgec993kRgsAMa9SoGsxAwRR8nnSlL53pTXf606EedalPnepVtzrPAXB1rW+d6133+terPoMOgJ3sZTf72c8+BQ3gAO1td/vb4c7zF6Bi/+iisoYjZEB1mG/E4Ae5w54RogFVFJzQmEjBQYpwB37c2yDxlnJDSsGDJEw+CX9AxOUxn/nMr+EPiUCE5zUfetGPnvSlN/3pUZ961a+e9a0PfRdcH3vZz572tbc96//whtvvnve99/3vOQ/63w+f+MU3PuZhL3zVY1kjMleGQbJABnvjmx+l6AC/LTCbGRjC3H8wSCwcUG7xj5/84FlBIvgRDQ2UvBlYvsMQVAKFeksDAp8mhgKEwQ9DvEAlawB8+QEwAAXQMk4BAq5gBXhAJVwBAAziGDpgCIrAAvJP/yyACz6g3vjhGU4AB5gAAiRtAEEwBEVQK36hEU5h0XSiFf+GBxMk4fkOwhYa4dMOIho8QRKKYQRxMAd1cAd5sAd98AeBMAiFcAiJsAiN8AeT4e8G4dsQQh4aIQnOgBgOQhjIIAkkQdzi5Re+IAmALSGaQRKuAAoaAQVbYQ3McA1oboScMAnIgBgQpgzPMA2l4Q8SD8j6Ixr4oAj4oL0M4g3OcA1oLRn+UAVHSBgw4Q1KgSFsYQuaYPBWxxCK4A3SUD9eoAg84QW6QCH4YAQwgQs64MzUjwwwoQMIboSSAQLeABMsgPoOAhN4wBAaIQSg5A9WgA/+gA9cEIL+4AMw4Qs4gAmnrRZv0QWnQAYwYQhsIIqGYNZ4QOQQ4hZvUQEagR//fkEBbJEPOm6EpgAHRkD6FOIXHOAPGgECHJEMVsATkmAFsDAuXAECzqwaJ5EfpIHkDOLl+KERVI4fTkEDVG1s/gAHDAITTiAhpMQVFGAo/kDZ2uga6JEfUoAVpw0KEuIYECD/pMEBZmGE4HHZwmwhDBIaqDH8CukKvDEhzuDY+IHals3JGLLk2APRZmP9EOIXEODbuqDepiANDCIaAEAKIWgI+KDxAAAkF8IT/C0lV4AM/sAnIYgmv43eEoIWldInra/PSrF+MCEf+eEFIBIhoABKqnEN7oD5SogkF0IGppEfbCH82hHx+GAdzYIMFHLxILItDeLv5IEH/mA2FCAj/yFIBrhPHgHgFxZCGToA/fjhEAehCCJthFxBJEMuIRSTMZ2sEfjPIFhuhKhtNvSSZjyt8aBgENbAAa5yhMxSITqA2IRhKD0hBA6iC7hAP94gCQ5iBIjNIGbBAWZjDZQt8QxCHhDgA7ln4AziGXpSIZ7hBTAwIZhgLrmn7/oQJRdiCSTS8BBP8SDIEJLRIAAuYhrhA4oSMk2zJBGCBPbuFwDgGk7h+gxiCs5APwxBBlTiGhwgG4UyDSORH8hAIvkh3nKRe5rgPfnh5FBwBmfACpZmMyFI5pDBIJZgDRpiM9tRLV4gLetHFDjgIIZtIV7A+xRiNR9vPBeiM7FvQBXg2/+Ikz3ujzCNcihsActegOCOAQLYzBUsgOb4ACBHSBQ6ACTXQORawcmigQPj5Bh28gVaboRkwPtOMSORYe+MNP2QlB8YMhF3QQEaFIKi4TPBT8p+wRGpEQFuMNNm4w5cM4pOkx+UARMWLRFW4MyYoN58Dd+EAf/g0iz4wAJ4AAKIjQyKQAEhgAc0IDYNogk0gAcswC8h6BqG4ANwwAIkrUP5IREAQAM64FJpbgVW4FFtwA7ZIxYCVQOywCAW0CA09VFxYCcwIVAPLYrGcU8R8w9e4CDSwBmhbe1IQAPIknv+oAMcwAE6ABEGFACkTBpk4ARkoAOoklWxsz9+oRWilB//kiFalSFIoawVPLU/bKEVCKkYLKIZfiFcw3UopGEWWoEw26haP1AaJrBcz3UiW0EY7vRaiEEVmLIZxrQ//5MaVcEWgLF+kkFcf+H52HU2uGEWXAEYk+Fdj7BhHfZhITZiJXZiKbZiLfZiMTZjNXZjObZjPfZjQTZkRXZkSbZkTfZkUTZlVXZlWbZlXfZlYTZmZXZmabZmbfZmcbZy+OAFJlA/ZSAeczZohdYulIED3jQxAaArh3ZpmdYqYgEB1qAaE65pqbZql2IQKnUE+NBqubZrV4IbNAAAwNRrybZsRYIPAMACZKBAzbZt3VYinvYO4nZe37ZuXzYZNEAGzgxtFsfWbv3WbeVhCCBgArnhUZnybzMlIAAAIfkEBWQAAwAsTQACALcCaAEACP8ABwgcSLCgwYMIEypcyLChw4cCicGqZYzagH8YMTIsw4VgRogGsymxAIbaLADKMn4EybKly5cwY8o8qCwKII8aZy7cAgdnTp1AgaoEumwWLosXVx5khmtWsoFDg0qdSrWq1atYHXUAwBWAgwG4VP48CMFBPahjWYJScMhCDiMdxKaNaQSB3bsC48p9mSrRMrT/sBo8hgAAFsCBBSMMBiCHT8UINDxWDBKXol6AFeLqY0QDV2Zy54JkxqSw1z7f9g48hodEVwAwYInF87qrGsq4c+vezZs2AiJ9AG1hMcCRaoRlzwpU2pIQkQHEerB4dVwnEQAhaGjfbqRedZA9AGD/Xi76ah+uDqYlZa77GI0yk7FGjs87ISAAhzInxMLVNOjQibWUzQywEdKHZ3CENhAoAChABBxqnAAAAtRlRNsIOWSYYSL1dejhhyAylIxdr6CFy3jkKZScfiE2dN0kyrEn03W9xFieVSH8BsAk693YolXzsfjjAPflR16AB2WiyFEKAPBfYlG1pAhsSBkj0HhRwgLIXwJ9E8UAKUCJR3FDlmnmmVeRApty6xnETCaAHDKLdyqtOMAyFAX4TzC1IJWUMpkQcggr1Ij1Zpxz7sUMKIjSqVItkwCiCCvSKCjQizYGaEwtxNi4aTAD1YNLpHKul00tBGZSy6p0ZgNLpJf1/1heMI70MQkxsiI5ECwA9HDSDbIO0Cc1pADiiDGBZURMLc8MMMshgGQT2DSkEELIK9kkxUwtNUL1TC24CERNLcFolEwtyfyDyyGH9JLsMpGCYpFYwQRKCKF7wQtIJupF9tE/vcB5CCzSioUQoHGGq9K2uAajCCFzXjQNnJlEc+RPvYABABu4rPqMpQc1+aSQILEAACtQwbExYgk95eRAYzqC5sw018xSKgCkQF9xDrwGgzGODmCWQJkAkCBU4aGYDRxNduVAuRhN0nNXPzv6DyBNczVDuhgtQ+BrCCxzHKZHDhSMAwoEc9Y/zHBwskC4WDCAz8j+81dtAEgLyldzc/9FxDTfPWME2Gyk9h0VAGQygGtQJ0XgK1v1d4hKWiSeQ1eAsyJ33x+E9Q81KewY6nVjDsBYDhoRAgAgTnQ1AB7/ZKKAQACwIDZG1IRQmwaziJXJ1ABYMIu/GBEj2WsnQB2lQPXgkXWvT6rpBR6mAaBENq9sDoAGyislYW0VLm+QyGOJ7xAzDfr5D68ssCnjQNkUxuXrxelq8/3412wMV3gwc/GCXjlEMGZxnRAADiPJCUzRjracpA2kIx2YRDBwkYkeqO0fDHKAAAmInQP+ow8DiGAvYNE6FhQMcUaYBTECRoTbRYlsbRpI0U6AFNIp5xU3cAQsgvGK68zAO9R4BQz/ADApVrDCO4oggqqCQYohYgFk2RhiD1jBRJ31wWpjkYYD0jOA88AuWf8gkAV6wCmpAYAUGdHCADRAAh1OghrhQgAeetELLwAAAnULhgKedhbVzSBbpmtMYlSnAQ1MAheO6BkhFACHWbBiiGDIyDRIAIgdwqIMCIDAk2qBAAUQghi4YILcOJCRXsAgETt8RRMAMIKCLY8NrMzECK+TAzqpSQMarAUoPNMHB3DhFbC4Tg8sNYsrAAAMRmSFC983EPIhKRjJTKZBureSk3TAI8dokPve9w+UXRNmAJgBC06Qgy3l75zoHBIsJwQDMJDCg//4xlYU1yUCEUI5dlqgnhzo/6zgHeN/8kzcQL5hz7MYAwEW+OdyBkfPDihAWmVDyHU6AIOKWhQQKmkdGAbgx0IZjHmXC5dAejAAFLFnGh1AgP8iOoBEAOA5y2GGBRSw0hgKZBIAoIJADmqB1CyHQCFACgYXl5jKQYBLGAkPCJfTuo4IRGYsGBdCgYYRUDlGIKpTANAuQoi5GekfPNXTT1RmpAGEp6z1uMH2WCaQwaWCrb3YXrMa+LYBqMlZAznF3OBzEWpAAAFz7ZFAikSyhDiTIOfpG1cM8sUoqQkG7qMGVyzG0oI8YyuKIAhtBjBTrlhApOkMrWh1Q4oZVE8BeKBTuD7wDaio6YcCSeAA9Ik08f8IpAwA6AOUcoILALDWteE8y31SC0ZeNUEgJquFRsx3qQbtEW1bRINKpDECAFAPj99RHYcuVdLCcgEAJWLpEEGLEdyCgq0DIBAslOMYlP0UP1CpxwcAoLYBVI6B/3hGJwO7p+ARhAkDuMJWTqGS0w1EdU6AUm8fChXdqe8nJ3GCQKKBAAcUajm3RG/RSmdTld2TPAzi62u9IxBpzM1KdDXpTwhbWYWQryC1sJaMu1qQ3qmmaFclT5MUalOCfMMIZi3IK05xYVwQSAPqGa2Sl3yVZZACDtUFgHT/gdPuQGl/EBiIbGmbYoGoNRW7TUyV3YdlgSjhpWxIc5q/OwOMHIL/KznoQy2wqCsYyqgXTTuvWIL5gefpNqndPRIoesCB6gEAFFhsppTVnObLEeI4jOEAm3gE5PfCAi2DQ7R9dwSlWuQMJz1TxkCkobuVrcfAWM3tlT8NFQLhSiDB0AIJgNcrjNRiADDICVjXOhBcGGEEz4ukasJjBEazoXVEwIiaoqBrBSjAfVEAL4tY3GMXOyktzFwIg2DgkWx8prD1+C4LKDuZ3O2ITUxOt7pn8g2Vha2lAPDCcv/hbQRo2SwKNNo+bTsAk4Xlfy71AlrqPVKvbLEsZRkA6jCSCZNxRQOZoPNA7DwXarimA0JleCcfFBwgN/Y53UrKeRygBDgEZwaz/1WNZL2CcAck/J4fHYDKYBCc4NBGAS5EOajIY0cYbRrMy3lFY3CylZ1fxJj0PRKqOQqAD18km9xuNQBe3Yuv0EANfegDGsyKEaEnG0qSlYxAXmGXHrAhOBLuwnGGeHCXu3wAVpaergeQZagg7hWZSgy1s12Qww5kGcEIvOANssyf8CoEHlHGhAApWIJoLAW3K4hSYOnUdVv+8gJqUomKZuXllDm2+I7dxvREoPFcDuiC5TyZ79jWxIFsNZlQQmFYMbZzt3gAuIUAAOAzFASAth7DHQhJTapfC7z6Iq2jp03tYuLb+9gztRnI5DCC8kuTJ9MCqRyYk+XpE4AaAPM7r//uYeDRqg491U7/B9Q94urWJwJKQiepsGCj6/2JHdcngxJOu8Ciy7m3x9LjEXTnEXeXd4MFX84XMteGJIn1Gox1HMngFa21HL2FeCQDSyTANT8RJfcBYJj3gSC4EPXQM+sVVx3gUxfBICgHeiQmdMw2UBbAb2igav9jghOYguEkEOchbI13EKqjRv8zABSnK2ryAcYwX6CQEc0yAh4xOBz2HOR1EjC1HKGjfEoxROFVbQWBMywQTUb0ZiyQEQRyCDESUDunfVAiDZ1UUwDjXxEBAQrga6OXEUunOum3flL3arrzMctxH/KnhukBJQxyfwoAAbqmMfzHUrDEYY4VbwL/WHfLUYBBaIeFhRDOFCCp4AWauIkGQWDHMV+zABX3AYQ9KHO+ZSXMESWr1BMh2IqXN0LohkET4j/1oDuZkBhRhB/4NDQDYH9+kln81lsWgGJtUosCJRC5SIbQUWH1lRT10HyUlRgMImFBOIQEYQxwGC64UIjEkBiF6Ce4UBil8w8CRwoxwhjtsyBzQ09R4lIzkHH/IA03uBytR2PrUQ+eIVIE8gFCdV46k30AgHpJZV1QcWYbNQBRNACK8A/RMF/mGBhWNUhNFyN4+F6vVnqJ8QwxKH9B9mjMc2QDoQFhkxjE0CSJGCW9kEnHhxHfkGRyBxUDaHfgZYCzBQC3UYnj/7OAYmU/D3Ee3SEQKAUA6xURhMAj4NQBKBYV1PAfu9Ik1ueKUMlkapICeAAKr5AJWNAkbJAReuVJvfAK4UFDGWEnuGZWqcAKZaAAnuEu5bVGh9AUk3ADF3QKXgEIXxmW5ac6ENAHr9ALpNAHEYQRDnAFoHAik+AZnvhRtLSJnAg4yThI6SV8vbJDimABW9FYPPIBfZAIifAN3+A2WHBrWDNPx5ENl8MCjjALs5AJWzAA8KQRy2AXPPYRsMRXR5YDrxAMh9AztIcRavRW5IFnCAAHTRFtCYURsPSTwjJVZ3E6EnmHsMF+UycQtHECpxAMoJACWzFMGBGOCmCXBCQZGv+QEUyQg8EwCR2wFWoXc68TPIDwCrhACnigAdv3kvQIiRchiY3HGA7ABoeQCHVjPrigBViABYXhBAUaPny3EJcFAE4AC030UiqhJhY4AAxiVgWaoVjQjXuiAEpACKCgCFFQGEoQlSa6ZMHQA89zGobDcLrXFTlwDHXCN7AWOV4xaCWVEfXQB89jfBmRCS8KZzKqEpMQg68xAomCeK+hQRLXXNEnEGLDBkI4bzYEHUrKFVEgM42VDV6QNdIyC9ojRz1xi+xJDWBgaAiQA+WnEqrDkUMRVxBgEY/jGlyhAMaRRgEJGLDgNl2RAmz5Vh0wVxjhR9ninIFhhxQZnXkIlCT/1RUzEH8TGqQawEnjiRHKQBxdQQTntZ7icwhByhV+qmwDIG8wiZ//oJ/taKTg9R0Wijdc8X7syRLBEDpdYQTRMKHYIX0AoFiv4TnGQGsNAgd+cqLEmk7UAAuZkAg69JrTkgqHMAndUmBG11ekkAiZ0CzHEAwFoy2kgAUQQDBiMQ3OCq1rMxTHqgiKQAqgohLGQAqOMAmvcKvVYQyCN3hd8g+44lFJMQ3BcHzY866gYjEjY6mBN2qsoAiZ8E+Ad0Ba6GTP+gqFFyDJEAxs+BOBly2uhj3WmhLroQzB8GCBEUSKkJqthRHZihP1EHgWkQ3BUDcDwAzBwIcXwbLEeBH0/8p46jIJqTkA1BAMQ5oszwAKh0BkpsOhgfENsPCumMGvLpQUBiGyinAKuCJJwTA/F0EMnQIVEwuyBhENKhuEBMGv9Sp4H7OgDlEPsKAI0Hox/Hp8czW2KpsR39ALQjspgVWseJu3L5ENECAzaKG3INJ+CQi4hFu4hnu4Q3IitQABGxWriKsYgquFjzu5lFu5lisTMxg8CsNclysVkWu2nSsY68IupEsQ1MSToZu6qqsYx2AMOOsjqwsTkcJfoBu7UnEfTyoQiOa4ttu7vvu7wBu62TAN1EC8xDsQ09CitRu8zNu8zvu80Bu90ju91Fu91nu92Ju92ru93Nu93nt5AP8SvmIRDwOAD9NED3Qmvpz7vezbvu6LeeobvxhBD+oQDlZwEOYgv/qLuu/bv/77v0Oyv+o7EOJwD/aAEOmwgQIcvgDcwA78wIqxwMuLEO5ADw8hwRMMwRq8wRAcDR78wSAcwiA8YeTWEs9QwgvhwQUhwiwcwhz8wjAMwQI8uPXxL/sbwzicw9x7w6PFwzr8w0AcvPpreQscxEZ8xJU7xFCpxEjcxE5sovKbt/H7xFRcxes2xbC7xANsxVzcxTazxUksvl48xmQMIlOcumBcxmq8xlORxrHrxmwcx3J8wWLcvHU8x3icx5LHwNJ7x3r8x2vsx9MryIBcyFRMyNWLyIb/vMg6rMjYy8eMHMkx7MjbC8mS3CKAx7+X7IqU7L2dvMlYEQwpBQCVAsrEaskN/MmmPBXbwhilvMqcDCAwjMqwfBXFQ8pZXMuhRcsbzMu6LBW3XCma/Mvo5MsvbMzEHBPBnMvJXDPIPMuy3MxCga+4zMzSXCbR/MTZfM0wsczDzM3YvM2H/HrgDBLZ0AcqgwdOV87OTM5W/MzsHBI1Bwg3Ec8zI85jjM/2vM897M5lrM/8HNBf7M9qDM8CfdAhQtByDNC6fAx98s0IbcYMvdAKbcrKoAFNUi4RTTMGHccTfcnU0AvTQF/WvNG40dFz/NGRjDskXdImjRUonccqbcgs/904Ly3RFb3SOU3Tn9PSN/0hMc3TvKvTkmXTP80bO23KMy3TPW3UR33SSQ3LUZ3SeABLWsAGw/rUgrHUtTzVctxVgBAcWa3VVuHVv8zVZI3QaJ3Ma53W+9zWbM2qbv3SZg3OdT3X0nzX5azXeK3LcM3Of93XSi3XT03Ygn3NfM3PiX3YhbzYAe3YjI3HkP3Yhh3ZmzzZB43Zlu3Fmp3Zlb3ZgPzZkd3ZoI3EpL3RgV3a4zzUqn0xGdzaVXzaPy3bsK3Bol3buYLbbHzbuk3but2/vP3bvv3b3zvcaW3cxK29yH3cwZ3ctr3cbg3dzg290j3XzT3d/lvdeH3d2N2+3P/d3T6xvuAN3Kw93g2h3eZ9ud+d3ojx2uw9yOX93gyB3vJduOtd367t3vj9u/Rd2v2931GZ2qnbDMLgC7FQCpqACILgB36wB23QBmtgBg9OBwzuB4hgCaLgCrcgDMiAbokc3wAuxP+tbs3gC5+ACHFQBT7QAheQAALw4jAe4zI+4zJOADY+ASagA0tgBoJwCbKADNE74iFOxEKeTs1wC5AQB0fQAhNAADT+5FAe5VL+4glgAj8wBojgCkAOvPc95JNb5PfzDb4ACW3wAx5QAFMe4wyAASoQAzxwBFWQBg9uBxW+BxW+Bg+eBUjwAzHQAh4QAWie5i8+ATqQBYgQC83/YLtd7uWGC+ZoUg+/UAljEAMMMOUJ4AE8kAV7gAiiEAvFYA0ejhDNJ4LIcAurAAl+YAZBoAKVHuUEYAAmUAWIIAvWgMYgzuiW6+hDYg2x4Ac+0OpPbgAiUAR0AAmeHuq60Qy2oAl+UAUtkABOHuwxYAai0AzI3ui3juuPu+iYZw2rQAcxAO1PjgFBQAea4AugPiT14OH1UAyj4AdLYAKBPuMEYAJhcAlbvu3Zru32ve9Q6QuCoAMubuMyPgE/YAeikO/rHlrNEAuCgAQi8OQE0AJt4Aq1fri6zu/hLN4m2gyaUAUX8OQiUAWQIAyt2AyikAYxYAA0zgA+gAgm3+/+/67xUDzzl1cMiMADLj7jIiAGm5DvJ9oMrpAH4U7jKmAHt0C43E7zRM7xIegLftAC0R7jEXAEjVAMiIvyYeABNI4BY+AK83iiS8/0TJbxglEMfqAC9N4CeSAL1364woAIP7DzMX4BYRALbw+CY0/2orX394MMiBADM24AOoAIWG+7zbAJS/AAM+4Ba5D0Ym/zfJ9ufk8z1nAJPDDvVF4ElWDtzGsNrhAGIQ/jNl4CfgD0rVj5k18zLAyVspAFjB/jBsADhrAM0CC90LAKSBD7AmDjBuADmlBTISjCqx+Vnnn8ntmKgK/2MV4AMYAIHV692TD91vAJR7AAMn4BZuALrf+I/Mdf/Kkv+fljC1Ug7jDuAXlw+N3bDJAQA5pPADqwCRf/gWYP/jKh+i1iDZXQAjKeAACBxFW9AQUNHkSYUOFChg0dPoQYUeJEhMLiXBCQMeOFPcgofgQZMiG9fyVNikSZUuVKli1dvoQZU+bMhCZP0sTJsFibCRoztkDULOdQoji/lSpiwGeCI7EIFiX6juRNqFWtXsWaVetWhTZLcn15a4lSjQmKuAKbVm1BZH4wEPCpopK1tSrxnfNns+5evn39/kXp9R/gifVG6fApwIMfj4Qd07SmKQZcjR4ECX3s0J69cOrmUc0cWvRo0itLvkvXbnBphNYaiUisQxRd1rX/RfqqksDngzjIntouKI4daODFjR/fe+Yctnv45AG3hgiDTwNFbP1Gnj1hPYJtMZZFIsz4vQHl+sjQnl79epnY7BV8H852Mz8TKAtgkKYYe/6tEXmgrgrxjsOmPwMPRLC/ZvKIwCcMLkvwwHo+icGnApDwJUINN+SwQ6yamYMBnzxAhDYP+XMFMY0KKCLDE1+EMUYZGaLvgREhMXFG9WLh4b4ClhhQRyGHJBIhXIQgrzZrBPkuoxIs+aZI9mz54T4DstjPtkfwqGc1Kb8EU6J/2LFCCtZcm66yS7ALU7tbfFjKjMZI+yMFedhsM089//EmnPcMIiXKx1wxwUFEBNVz/71YVMyIATuswRMwFvqQh7hELyXyH3rI+XOAZ0KzZTKNLhAkR0zVW6UFByGJtC9p5ulSr1NnnbGkdN4j759PHSvmiPse8AMzWtmbEDaNWkArNMG8HLbZCEtqB5/RmklDt4wSCGNOZ9lzzT6NfHDxMcG2JffAf+TJp1PH6oHE24x++KXcA+kTMaMrtQVsXHn3za4kc9QlLBZVNYrBKX4PLKaKAjIiYIJGWt1L34MnLq0kfQD+C5kl7sNgE4gpdpNRAVqIRVxZQUbZsdPwwZgva/yoV4AE8oA0ZQQ3AZDhJXwjzCubf+arpHnESRKwWIx9N0ig+6uH3rL8+Bisf95RB/+er5bGWiuTznFM44UzMiHZrBEspgifWrjOL3qCq5TZsd/GySR+CKunkQYbFQRRuA90BekCwhC2L3u6sXRvw00zqRvAfhH5hywPR3DJmC+ApC9+/lwnVrch5/wjm9zJpy9r5iBLsVI611AYHnzy4fG0uDMInHdORr32h2ziDva6ji4rjpptT1CTJhlAJGqtxvnsauCXr8nnvZoZ42sBYgiXeQSbCUP6GJSuCx3arQde4rX6ftp48NPj/Vqa+xpO+fNrX7auZqq4r/X3ObSGjtJbuIWvcPop3P3gJr60rKJJE6iEAD10i4HJzA+mAgs5puI+BY6NgFyB3n2KgK8KRkj/cseKV13S4bwOYi1+aolFzgQwgU+U8EW/qNC1BGE+otjjHqoJoAspRkKwWGMN0vMBz3TooXoIwlrT495W8pGX7w3xYDzkyi2Q9oAEOhFGDNQIAxqxlnJA0Yryskk/zPE6PxzRfl+EUf5KV4Rm0JAmm9HHBNHIL5vMYxxpKQajtOjGOfbHFki7gNi0Yg98SCWHfbyUV9DRMqt84m4jSyIiPWSNMFCGAGKAoFXsIY7kUVCSibQJOxgJFeitqA2Z/KSHDKgRE/iCjzAhzzkumMow2cQbYLGFCj1QMlrqCBlwuhYiwLIOL/ZSSjZZ21aKeMQlBM6YMaoHIo54BGdW5T2z/2viM4VUzKog4wdZvIQ2ieSLQmXEA7bgCjfFCSOfFe0quTxWJNeZxjBoxAB5eGVL7pGrbM7TQ17xxzbcCZVlMgyT/izSJ2yUER1wECqzRKiGvFKPf2EFGYyawCgiKiVhtIAyGOAlViC6UXPpZaBFiUWTYuA6kgrJGmagjAFmmJWRtnQ96sxJEclSADvozaZDGkVPMsJGmvbzp+nxyjw+VATKROB0R/1SMWKomP6J1KhQNU5NaeILpLWgGPnEqgfbwLAEbNGqhwwra7Q6E0gc8aBpBdMlYlYFVMYNp3AdzV1lQsksagKvbfpFV1lKlLX+tWd1tMpFNSICVxo2TNaogv9GJiDIohTWsUG76kxikSYBUPOyeUIEWQxQPKvo9bN1saxL2pqRAvjhtHpKqUY8WxXTvjadtW2JNcSgkQiswrZ6kirDVPBVguL2t1cx7kqQMdXhHldPkJUsZXOSWudWNrMwsQVnkfC76rZJmvYS5kOT292ZjDcll7CWTMl7qdhmJAx1jYl51+uSE+bUD19jgCjme6liNDAGDi3vdfcbX/mCRBnfNGcIB/xcJFRGFtYt8II9J2CWCKME36qmhMFUj/sKgAALaCFhI6zhiFAXJe0VQBbgS+IilaJeBMgDhNHKYpGMeCKWsFYCKkdjTPniLRmhq4gpzOMS2xgi9cgDZSb/EFIi54k7y9WIDto4FCM32cQhscYSKnMLnzY5T8zQcoKpXGUek7khimVohr2sJ0F8LQLSJfCQ14wQMzPkFyrMQpfnnCj0XquKdp3xnulcZ4W4YqEFEISgmxULbxEAatOV85yv/JFN5FgUYFW0joqhAo0EGdCezPSgA50SP1DmAlUN9bCawSgeqLklk6YxrCPyjSxQpgSDTfWprJEFVuKavoR2LrAP0gwEC0DKmM71kDosgFN/enOZri9MkKECyixhxcm+FCTI8gA4/3rUsRZ2QYShQjEgG9tFckW9EvDnOEd6weEeAKPtZdZz7+sWP0Y0TWRNXniPIgFwScBT682v/2JcOCNpMLdD4I3XfTtE2xmJAJMHvq9mTHW7Af72fhvekDabs3oT55c1mJpmjIMa3O4+shk0cmuQo4zWlGkBgFWy8c8K2xpHiLKrWy6vPFSGuDBZ+E+/MfShy6QZq8vIEayRjZ3bLLQb8QXTXUJ0qhM5GlfHejRg0l+NhIEZTQdanwXA7V29JOtXPznKz8zpjLQB7FgzdEYWIHBvZ/y1NK9IzgiQ6LdjzRffSUA4ga52wwL779cSfN+xNm7WhvclQV8n3g8SC3X7VvFjK0Y5BeDawRM+rIQuxb8FEPHLww3KGVlDwpvneagSutJQV33paXV0jWQh9geBfC8JbQmyYP9AnrIHmshle22K5P6Tki8IIr4mAl8Df2nf2Ni7uIs4u2O1zqV2khCdv7d6jCHndTe5Y+vc85/IfPtZs8OxpswS46NR8t3//vk7h30BqMD8E64+Sd/Pa+nfXv7k6rj6u7/iY73IK0CDgD7KULr/s51GWD7tSwnkSyW8g77hY0DguQSy8IDfw7/wa70qEz4g878L3BdRsBbfe7UDnEAQLLYsIEHrCT3YYz8VlKQqoz3Ue0HwWQVruYDGmrn2ux8bZBQ7yMHzSbeMmAAfjEAadD8jWzWN4LwiBB/KQ0JUW8L8o6WNe8KMiEIpBB9baBACiAB0+kEmHCInjIGv6UIvBJ//W7ibB0ibK8TCPkJDhuE7NrwfN8wIOFQ9CaygaAOJZvAoDyMtPBSgWxAqBniwMvTAZ7IxQWSYQjTEQ0zERQwMIOycRxyYAnC8SVQgRIQLBojDGjPDICxASBSAAqA3T6wgXxAqPpTDZ9O9Eau4SGRFHfqF7xDFhMPEvaHFNCTEWxyiXNzDUQQJP1weWlQRApBEYSwhUBw7MiTFUrSdfdtCZhxBZxwbRCzGWHREz6s4uMBGbbQiPVwhK+zAOTyfCLOGZbxDcnSiW7CRhvk4AlRH8GFHpBOAd4RHJ7KFhboABTtGajwcWbOGYlvDfoxHgOTA2+lFkCmwb8C5jNgDhUQk/yoUABQMCWQcIMKTSI1IA4uUpFgQPQxoPoe8R9SBtXoIMwEwA5H8JFewFg84SYUjyKyZtHqIrIwYA5hMpRgUABEYwIXgyKUpsHrKCBf0yVT6BLJQgfWzx0ZcR8IbKxFcSlraBLJoAZ1riIfcFkCMiD3QiCLQs6uco0r4mhjgSobwymaRL0GgjCAgPrMcIkiIsukrspvcIbVrBMrQgbmkyyGCS+kbyJQ0IfOqBMpQy8DUJrEcqrK0Sb3cF/PahLRcS8ZEozjotHwCy/BBOaB8Ssxcp93KCDEoTKmEHPOSSbgQStFcJ53UCDo4TVlUSXeTx4wwSdecp3qYyM2bTesZr/9f8JYLaEjdlCRrgBMC4MR0ZJ7xEobvSMJsNM7zsQZgLIDEExPJnJXO1ImcEcXpjChUNAD9ikra7Ei7QwaDS4BuA89naga2W8/yNE+cjDRUDLj2JKli8E5pzEvD/ErjakfW2gT8bClhSJMJEEiIKMpEAVAEI4BVJNCIckXcrElR004wMS7Y5MII/anbVIyhNIi2jJHkUrmMmAMOPSqZzIindCMRfRHjIr8UQ1GoEgXLnIgFPSY5QwSNCALInFF/QkvC7M/5nBjjsoSv4QHA/NFnEgSNQIIWvVAdSa1SIIvFXFKsogON6Mns9M88wS2MZNErDSuk9M0hJVJywS1fuBv/mhTTtOJNjWjGrnRRA7GsYvgxBG1TuLKGHknFAR3SlCksZDAWBkDHPIWqWpQZy0PJLs0U00LUBFBUQ02r9GwU/pRTRt0m00JOAZVUw7JTuMBTBZ1TpBKwN/Wwh+lUw1JTc6rQAeBOWiksMk3IVE0rML3MUUWO2vIDjTBNWr0sKmUovOyKKEUQ06oE2ZJOX5WkI30XHy0IHE0Q0xIFsvjLZFVWRFo2pYxMTOUQ05KFegnTa/2sEhWAilxU1PwSrVrVD7VWcUUklqSMOB1Wbn2W67JTJCxOd8WqPWWtELtUdG3UzGqGQS1UfXUs+5S4eQVYKb2r6ryWgTDY30IGD4CL/wiox9VbWBmpqXowGw+rhHaN2FR6Tgrd1ox90esizX0M2eryhXoxAahUWJPtEK3a1YNbWefiDhU1NmHFPWIFjruyBAUE2ZvtpUtQQB+F1uI4O4fwt4yIAWaABqLtLsdMsbJTCGiABqzDUK9QB0a6hQVY0cuUWsMi05laiGzA1b5op4UYWcVo1bE1LI5lLb9iy7RFrasSVIi7WLj9reoEOPZ0VZ9VFnVyWJkxGL5dr/dslIINUbuVGqOS2z5F3AH7VALITaJ03K3AqZTlx8klr5Z1EpjtWXpVq6uivzXwXAnT2WrFXNIlDXW6hK85AmdN3d8y2qRrlVctVqNaXZ6t3f/uqlkBiIO6dd3MUCfQFYASEN3fna9ay4hOtNAzZQ9kWohPZba3ZV7b+gYEMwCNilnpJdUAes9QZNzsXS9rGMQEsMTo7dZ+4lcBMIBINV8Jm1hQlaekvduSCKiTcl4CYJX5pTFhECoRWF78VQvcWYgYjTEA5jFZEL0YENbMLbnBOKnb7ayhZeCWqsyhihQJbjd3kBaEcAWySNIMbrImtdmYpVOTeI6EQN7QNOEmS1noLQh3mCDwrZhsst7LjWEi+4YgYC3vNYj3iAfBLa0mQlRC7eE1K9wEMMZnNWIZ25x6AGL4ld8l5rGJ3YifMwh90Bz1KCYypWEs5rFfuBsC/g3/QnqHL9YOL6I/2STjPSPJYE3jAWgbmf0LL9rgC45jQdMEocXYXG2iOZ4eJe3j/QreBR5ifmDj4oAiAc4IND5kRdtJAmC3AfifRq4NKMrbFeLiSZ6z943Pg+AGeoiVn/2eADVcUA41xR29BE0HOdpkEmLJfsVgVoare/1QhGgHTRYNm9iHdICVgpgDjehcXN6zW6iXrRzibShiPL4ti1EXuwQyZE42YCWAIsCOLipemfgcEbYWHzBka9YwRKAM1IUPe1AHD55XO+oUX1goGCbnXPO+512N93CHUzberekULc5I7J1nGqsH7o1Ucbjjff6Hy/kT9F3cgD43QQxFF3kP/3NgZyj+h34AB4Mw1QIgT4fGNmT4sQvIks0gJmiGMHrghoNYAzi9ZY++LHj+CcywB3Lw5YgpCXQ4iEbQiJd06YFbBbL4geeQlhv2C5Noh07RWR+g3Z7eM51OYQO2R3jYhj+B6ZERW6aeszRgaYs26QCjh3L4E2LAgIXBABDF6jmL3Pht3G7Gv64tCHZogYVhACU863pL4saC6sgEYYMYOQMohZau69cCabgoa67u6hRElz9pg3gF7MB+rapm5sBla1H9h274E0k4gIzgacfeuZ/mYMk+7DLUB4MwhQqAC6XmbLBzagFwO9DGYQJ7h4wegG6IALiQ59TeOXINL68Umv87GgBxoFgCEGncfjsqtpeBWAd06IcuOatFKogkMAACUGLifjtUfABckBZOmuxBaweD6AQCUM6Opm6wu1cCEIEQlqXQvtF/qAe31gXKOObxbjllPgACkAODYOTXvsJ68Idu0AUJgIsqkO/SK4UCIIAD0IVrGABwWG79nsaScGC4KOEBvzwUPoBqUHBu6CRIM4m2lWQKvzykfIECGQDvcfDybIZymoB8BfF6296MuIMCuaGp0DeTUOUESNgWr262C4WC2AarOXHKLolK9lMdl71imIACqIBhII9yIAlvtgkULlMjBz4HLoAdIHF1YO7O+4dP+JoloPLz+2MBGAQFxwf/Gw7y1v2HW3jgcQ7zcxNLAqCFgsiHtknBkgBpczLrN5+4Wt4AZygQilbvix6HccCBzH6ABOVz2QvQJyBxfQjtf5iHlB6ALzgAAwDcRe+7+mWEgpCdNIdinB4AbAABZtR0BvyFBziAXCgI5DHpMQnhLyCAkDx1BpRJEHCGgkCHJ9/IgHqPUCCAIGjsWiexvvwCg2ifY/zqghiGCohsYmdAlcOEgvgfB/+HdCCPe9iB4Yb2CxzoJW/yjP0Hd7iH97gDJx72bicxQXwBBa+Gb/uHeEiXAaAFAvBXdb9AO30CSkgCZADYyn4PZ6gAs8V3ErSFNkfNf7iYgtiBKkimgn/BpE+oNqmcGpYZAEb4S4iXQuwbAD9oRHcegFxoTY2Xwp0sgE8Iv384BwUfgBdgcZJndGBMgFuQxYT+kyfIdJg/v2YAkAEQ6We7JWnBhEYAdZ3fOUgegKd0m0wYhwIZhjcwekNUUQL4gWlgCDlI96hfM7ssCBQwCGqoB5a/A9/VehJ8yT8YgGtgeYTI+rKfMxJHiFFy+xdkgQFwBkZKhLlnQ0VgiIAAACH5BAVkAAMALE0AAgC3AmgBAAj/AAcIHEiwoMGDCBMqXMiwocOHAv9JlDiAGi5YvZYxpDgQV5RMEA1OHImLxIdUA6IQCcmypcuXMGPKRDiRICgntWZu/EcQ1hWUOoMKrWcMFi5qQUcODAYrWEKlQqNKnUq1qtWrB0dKVBZFAYCvADpwUVhTICgAZWBqldgjRxkEcCwAqpdUq8YBCPLqRdDnZdkB0xKBwloQ6oA+X3MSzspRIBsAILE2HqAIQN/FEP8OyJTo21OtsJpAAKsgyl2/a2GFAJtiFsG1/5KBne0ANubbuHPrXrz2WYgBFsAQwmMEAgKyjc+mRT1gJAyQk04YeSZ0rbKvN2ho3z4JNU+BxgDA/8CtdUC9Dl+97G4+WRGNV4TbW16P/LtA9Nk+jzQSFgueKw4AQII03o00iwIIbJEIFQA40MtAsMnmQA4UUkhEPWvRp+GGHHYY0V+IsTANQdSAQhdNyaHlYUNQXXdcdWWFN95t5b0CQA8OOIDUirzZR9l8PLLnI376TQQIKZ4JdIwGAMzlElT/sACAIgMRAsANEDYW2wAwnChkkGCGKaZOhvUAgCMildeLIoBMcgxH/yi3VC3U2EdNLcFgWBMujrTZi5psuilkTWu2+aZW0ZxyCCGT4PJaWS5m2RgutURjH0+4MEPRM6mwmYkxIx2TCgAn1GIqMRQlQ8ohgIDCDIo1Uf/zCiGEkLJjYeU1AQAoDGai1Z1OGdOnrTxNVEsv9USTCSCvYDgAMZMA4kgw9gVTC6gfDoCLMRgaU4umFNXyTYmAZPLMd7gs+uevsEzSx7R61vRPLbTmVFkfI03zSp+TEAMrR7gk0uYyxUpk7TTfsEKII28KFEwihMDy6EjR1MLkLKY+qJ9BVvbgXUdheZmNBQA4pVCXko6p8sos10cQEQAcgivFMIOFAB4QyinQDQCgOlB4M4wUzAyzAUDERNHU/NXN8cZmps1zTURKgLMpcWKLALw46Hdw3PjdPyCRMI1EcCAAFl54TITY2SlJxB9t3U080isczKYBLF5+WHA0CkD/QA0sNzbdy42EmP1VCNROBIAGA0AgkBL/ZAOG4QAMQMWOryCgwV3/BOOAAg/+85ivEq1WC3oCWYDLNG9/he9EmVANlhFjT0RN60bL/Po/hHhlMxhJ6j0SMUSTdshIMLMipUAKpPJNGbNRIelEgBf9gcsFZXLjk38BAgAXjTEBQCIJyYay3i2nr77K5Q2Ax+KsJLlWPWbC8EowmTB5WZwq7tyzfcYYQNAkcgySGeF+sOiDEyRCP/HcL3+Hmcg0SACAAwYDFOhJhESY8blE9IIYsAAEHKYnkEiRcADf4BkhHPa5df1DC14gRS964QjGTUIixNDeCFjBw3X1AA6s6AUu/wDhAAS4RngTmQUCFNCHWgxRAQ4wmfDYUxkwmAc9qJrI4CygAEAQoxdRGEAHavePBjngCqCABSv+Ab0PgCIYqTgBAJpQrK6tpCJSipvoIDOR32jACKywHABSQIUPZCJgCEKWRA5BhEP2AhQwAAAYRjIWFrzCGBgk2e7g4ARQ4KIXmVgNIOQmkWUwKQr3mwSTSPePlWiABqSoRdkggAcLKKIWmSDZYLb2D2awgmSp4KHENlYQ8aVtIvAhCA+XycMdaSYKTWrM+6yIkGQApwcjgMEWamGb9Xnzm+uxzge+AgEi9AEXjWHF4iwlEFwsURnN0dkAeOaz5gBtIAzawqAGov9ODbDzH+5UADzdBwAtfM0YDrAAUtRJTcaM5DrigYFEJ+oUAloAAUfJ4wkH0AsEsOBn4pmZfUgBACakbCBSSoV9JgGAMJ5UIpFUzPv64CyOVm6UETHTCgXyFfAtZYn+KmGA0Bk5nsmsCymB0Oi+8xsjnKgeFITAad6HM/QJJBoaUMCIBhAMBDjgNB0F0pfA4wANXO0v0IPD17ragROthAX5EQjMODoQ7SnhpPcBQFwXopkBjMoBh5II4whStK8cY4oCMZMjGnOICtLEmgBQAMlc17TJgPOymK3KWqQBByZ9ZQAkGOYAuNCkmv7DTN3h33Lm+b+I3HMA2QiQRgxD2qj/sQe1Ahkntz6kBABIrBYAmMFW0/TQr3wuR1B00EhOAYAPQLMJM4MQCRCwIxkRdyDZQMBvrGpTFjSmHpKVm8MGsN1nAYADXhqcAs5VLBvRYCBfqecArEQFH6UFD3oyBgQU8L4RDHePkSHvAGbhpS6gxUs2csJL/wHNI1qpDD4y02XG6r/D7tM8xjnXh8yUpwGs5IYD8V4PABjcsw5JryyaDDFIdsORoIkgtIoxrbaqmRzsqqYDYOmF0vSMQwRwAMso240zlNkiGxlGWqGhEgKkAEcJEABrhND7RqjagdDzoMF12OIQ++Qos2fK/4hGZNlA5jJHMhP1yIaUIOAEQYl3/wAmJKVjvvIB9tqOEDC46GcBMFAZrYUZeGDBZMk5PYmw9ARlLvNonPkXNhzGIMm06QnktQwAOI6nCvDRFWLWGO0d7TvMjSw6lQqZgfzmNAQ93kAGN2LYDUADZhvAV0ghkE1PIm8znUg23APr2WhsLcRoUKLJnFK5AmAWK0WLnZqLVzGieCf2OcZqJtwSzSiWsY4VqY8OE1IkHvnb4FaLUv5hDApabQBSQhaEGqueKvuvnuTO8gCAOyPNpPus7I63Vx0AAX77u8XMAMOge0AME38nzoUWiI0soxX6vZoLeOgDIJhkYT9TbASgBUMfJA5FJErESsntt8gd8CpejmwAYP8AhMT74DGTCmRwOZDXP5Z4osX5iD+kG4iNYn7w0fCc1AH+zXAJutiIPKjV/8AZBJQAB5UTbZf8OcWlrLQ7k1qAChEHxAgA4OS1DO44Ixc5rT0MAHULhKVq/U42wtJsIkFbIMlYTdq1EtSlBOPueI+rZnoLiMYgZiwiNUgwsha8vob78IivT8FYul0aQPlSU45n/1hb8IgMfgZaHqxhHO9liUSeGQ1y6ES+McQUACAEjOYIwr1tygY12T7qnMGt/oGeiounMVZa4ECoYWm8OgIACi6S1OA7mwGs9+UCglOlLVBzDfgICzHDcXc+/Y8GjkYRlxqdqQFDkPcVvTmsFsj/MhBgAQu7bVcCgf73mzPTdpIqGgSJZNcbE+wOTOxlZfcS2jmydvtz19l75TLLIEdpARuDRXxFY34gomwEsQUAsFMbRRDS8BWzZ1mJd4EYyEtgAwAYNwBewHAQYiZo5m4D0FvIFhFngXmwVUSHZRgfiC8bBhl0gR4a41DYZXrzp3pZo23VBzN9QGt1FmIPaB/jBwAWdh3eRRDQpFIDMQuhx124wGzCJxEwgwfMxENmQiU2tV5fo05YwlPOZx+5dynQc0z/4D03QAyf42TNoX0CIXTddyZfE34DYCNG8DX1sBq7ZCWTFIJAsn8DMQ1DxV3fMBo/RmFkZ3Y5BgBpJxD9/9dsq3Er9cEMUnIFdAEbI0QQXrCJnOgF1MFdNpKEAzFObHhhBgE4l/Z/GbiKmKUZoJAM8vINZnJXdQgAFiAN6BJZr0KCI5Q2jhhJKuiBLWWKNnKLxRKFClByiEEEendVVzUZNkZgF4Zw43aGAEAD2fAPYJBtA/B7EDYQVmSEAgFeFtAYjoZ942gmDnBC9SAl6+eMFJYMSwQuX8NcMzI4j5aOMQNfYTgQxJAXQfUPxxAg66JEFhBAQPiJALZ9Q+d9c7g9NgUDKyVru/SPDmBNyAckzHVuArE2OWgf0OMEJgZ/xqaI+6d2bPd/NiZFyIFuLZU34sZ/jPMK33EWJOAlpP9ACKM2ABYWiI4HXVzGikL5TbDhMURwCDyUCPc4ETDDAqnQC5NAMjg1AIMBYRLhTnwBC5kAA9czQP/QekRwCr3ACnhgNVQIACwgllE5AH0nEdMgJTPQKFrZBOX4D4owAoCQCsEwC2oQFqk3ES7SBZ24iS9mkD9GDXlkMHlBCL0wC1wgWUY4EZFkBISQCDQ5KhAwCb3wCkTARevocQDlFVwgQ6xwCDRgUobhPU5VFpFDMn+yRUzUmHeFevy4Fo/RAZnwSKuBBQLBDHUTZf/wgS61kG/IfQPhkEbnNa3pgZ/UBwqAHqAwEWlxAqSAPxqgP1uhAO4jRGygOVxXaL20Gjn/cEjtYgTXU5L6x4j8l5Ia+BgwAAiJEGDgCTMKQAVYcJ/3WVXVthZn4QCKMAuEsI6BlFPzpSc5AAN4MAmZ0AdMAgFZZBhDGaHqAxuJIEdFwwIEJkHiQxpTSZXKNhGFAxYwAFxeSW42Nht05JZOMBtd1DTP4ASUgxefNjUXWoPWgYCyVkH14JuPVyyeAzoSoQi+0yCkEEmB1QuRJBBRIBGOBhYagAv9RkpXKSWzYQErpBlyNBjV+IFs8A+spgiUkwJ1J2thOBLfIGSVgwBgEFdV6Cz/gJgAkFpuKGANKYdGNwBIBwujsTSAAD3RKRHZAE2zozs1MaQKMAkwU4rWgTvG/xd8iZiejQhb7MlLzEAEhnOeUqqChVVe+6kViTCkDgBiBEoIekKLs0EDeUJkErqq6QMbxsAKk3AImZCq5QEtgkEwEhgMyiAv0KIIsPAN2RAMoKIUwTAJIaAEiVMTtgoKs1UexwAKhzAJr2BnkYNL8VmKvBQ8eMdVwXBY0SCsOCaQwYCrAgkKiUAKBGIMwfANjUEN6gqLzbEZivAKSEEMLOlxHBWroDALetcY33B3/VowzyCsXro9ycAZr5CNBBEM/pIhBxufhxis60oREjGwAfSVwUCSzxKvA7EMGWsn3Uqx0cAK8ZkM9eCxZAR+juAIjjKw4NIcy0AKgvEqxxAMkv/ISwNgDJwxCbBAIANRs3UyEN+Kq0uxW29GFODKgz+Gd3hntNxTFswAraDAXhASQPQYG6cQq7PaTazatV6bGZMRO0P3teTRGHRItmibtmq7thvSPveDGDXItpJhthApt3Z7t3ibtyzRPlRDBMGjt1LxF2cLuLoBG3EzAIeQuIr7YoTbuI47t3ZCDKj2uGTSGMrQB/JJufGxFv6Xo7ORipobuqI7uqS7trBBDdOAFKi7uqlbuq77urAbu7I7u7Rbu7Z7u7ibu7q7u7zbu777u8BrZGZKRoYXvMZ7vMhLumuRDcSbvM77vNBLuLDBvBAavdZ7vdgrlLABqM2bvd77veD/m1nRML7kW77RwAzJML7hu77s275hsr0W6L7yO7/0SyNcW7/4m7/6i2TtE5P7+78A3L7wOxPVG8AGfMDIu72Vq6oI3MAOrLv3KxMK/MAUXMGzW7wEPMAWvMEcjL0T3MEgHMIJHMEiXMImfLsafMIqvMKxm8Is/MIwHCQF3LYkHMM2fMOYwcAcQrE1jMM+/MMZrMMr4sJAXMRGDLZCLMNEfMThlgyvMAs3y8Su+8Es08NSXGREdAMpoAFxe8Wiu8RV3L9efGS4gIsMdkdjrLlg3KoYnMatyDtf6MaOu8Zy7Lz/MA0hoIV1rLcKvG17DL3ZQARo/Md2S8WEbL3foAQ9/xDFh0y2dNzIx1sPWJADYwPJafvIGTjDlrweeHAzEqdBm9y1hryqSRzKuHEKBEE+pkzKpRyho7zKsMy7rSyhmBzLttzCfnzJr3zLvNzLtdzLByEqrFBywOzFv1zMA5AIEJADNwABkYbMUnzMvfyxSTcj0Jx4bazGu3zNHxId3Ix4YjzF2wzNb8oCTvLNRzbOoSvNsfwNTZADAYjOl8XOj6vOtyzJM6Cx8gxO9KzNs2zL9eAFMKBh+0yU9ozL4QzMhaMFZIZfBT2hVmy7/xzLrzCVpPrQYRzRGL3RL9zPHP3RG+zRID3SD3zQJH3SFWzS1pvNKN3S0DbR2ZvQLj3Tiv/H0t+r0jSN0jLtvvCbyzn90/FLvz3t0z9d1AEs0kad1DeN00rd1OCL1E5NyEENwlAd1WkM0ymt0VZ9yFrNwT291aH81TBc1WBtw0zdwWdd1jdM1lm902ptxGIN15r81kDM1iFs03Qdw2md13xNu3vd14D9unYd2ITduIN9xFNd2Ef911ft1oqdv7ZB1GHd1Y/N044Ny4dd2cZ72bac2Zr92Wob16A92uJM2aQ900PNvamd2KZr2qdd0Kvd09Qb24wNzp792tI716xK27Q927yd2mh727iNt64dbr993JFDvMi92qJc28MNuM69Psv9y2P7L9ON1+AW3c8tt8KtxNP/rSHXLdnZXdzbTdzaPSbf7SGWtdyr2N3l3d7kLd28nSUGPd8XiNXvzd3x3TL2jc20fd/Ynd+hfd5DHNuszNzGzdoC3tr7jd4IHtwGvuAi7N65EeF3a+ESTsGi/cZDTbkPnuEHTOE5/OH+vOHprNsg/m3ma75FtuIuLrsuvuIqHuMpnnjfcOM4nuOYleM8ruO02+NAfuNHFuQ17t8BLiYd7rvAPc8mXuTQu+Sb3eTy3eBO7tdSHrxQzs8EXuUljt/Am+RaTuVcvs5XvtJl7uAiPuYbQdBHzj5nHtNvjuRcKw0wqeZWMRHU2uZgAubyy8NbXrawQecKbucxMRJ5Puhy//7nxxvn7xvo8ULomoXnYh5Oaf7llT4Vm9U0kI7pks7Ze37pi67okDsRgo7om47EFevpPMLoiz3pFT4SpW7qp+4Qho7i3u3q9QvqEgzrmj7rdZHqek7pot7nw87p/xDr4u3rD6EVdsbGuN7qz34VElHqyr7A8uLsXn7XxV4X5pHs1U7rtl7g0e7Auv7tNBzsu1HukL3t5t4h2Z7u7E7u8d7uwi7r9a7qdT3v9G6/6M7v757v/77vjR7u947vV6zuAv/r/b65Ac/ErC7sCa9tiW7we4zwKbbwVU7xIz7uiM3x1u7ts07wr97wf6zvIUHyRS7yG6/xk43ygevyIK7yPf/i8W5s8heP8RFv7Czf2TRfICCf8zO/87xs83wl80Cv80ZPzj1/8jB/9E+b9N9M9Nb9807/8Tiv9E2/61df9eAu9LC99MsO9Vwf9mB/y1LPg2NPFWVfzGtf9FsP2mKv8HE/0haPs1zu9UGM9yfd9lN493rv8/Zu1Gdv9yn/951q+C599ohP2IvP9I2f+Fm/t3Ov2JFP9o+P2nwv8TE/+Yf/9qHbDM1QDM1Q572b+QmX4ZV/857/tcjgC7HwCY0gCG2QBUXgAzrQAiKAARHAAALQ+wTQ+8AP/AkQARfgAS0QAzpQBFVgBn6ACJvgCreADNYAu0R/+WCd+m5v/RiIDLb/cAl+MAZFEAMekAC/H/zmf/7on/7qD/wFcAEt8ANZkAeQ4ArFMP1dHvhaL+HYX9P4v6oAgcwVIjM/TDAQkFDhQoYNHQpI8OABwocVLQow4EFHFUGihH0bEFLkSJIlTZ5EmVLlSpYtRf6DGfOfS5o1bd7EmVPnTp49ff4EGjSlzJlChxItalTp0pIC/VSJ8eAiQwYiYvxYYsYPIk2jXNnyJaxZs3oqxxYTZsvVqk2NBLWpUkSHiQtTFyZQccTOJmFlmf5dihQmYMKFDR9GnFhxTqKHBSddHPmksE1xfNQlQMAiAxVBxgi6FOtXs8P1/ForFksUojZHYkzQfJFBjDCN/2xZk5zbpGDdvX3/Bh5cKVLDvIUnRrYqD48Islss8bPJFrLjA0yPtOZrdRYddS0miCHGkrDqiI2XR59e/XrCjQs/Zm/0F6IlHgpUBJ8Fkati8U9eD6kZWyBZgwfYKprABz9iwc0/oM5zMEIJJ4zPvfaIoxCnem5BpIgDHUqwDU1+8StDl5ApxY8jPMBPhzxcsaZEE2mCcEYbb8TRKAv/qjHHk4pB5IgIYmMIPDEuIc9HnJoZJQ8fpHIIPD9sAUlJlHq0MksttcSQRyyVbOaTMFh0KIIfBLlty5sADEkYSKogM6HMEoqgiEaKkZHLLtXks08TdwxszyyFEUQHAxy64P8IRHyp0s+fitEkCxOIXKiENhjk80tHN+X0N0CH+zRHa1xZQ4QofRDEl7LY7PQnZCpZwjuGJlhCE9L0DFXHwVrltdeXZAJMUxOtKaWKIRkioIU4YPSVMF8E8SGBhhLgoRHqrITPy5ia5dbRXH8SdkJrPkGCoruCsDbPbv9iMgtZFSpAB0SQUfdPQXXddl19swSWqWxttEaUIxKgVAAMsiilwX0T2zCPFgouIIZ5fbw3qIoXxljCfAPt18Z6XMmiOYY8WMOWejNGrBhBYrhPIQIS8MGSW20Md6eLUca52ZrZ88UMDAoWgY5bcgYOGUR0aFmhBJAopdEMd74JaqKn3vL/mZvjawYRFQr2oA1VqRbO6BgKvqCNX2ZEShqONwa77T7/sbpjCb8p5YhDF5ogjFicdju4YvwwlaEYGplZY5mkOZknqftm3EGY4t5VwmLmeBeiIxJuXL1b2qg8gSVieRomxCGzWO7MT6cwprgn/EYUH5JOqAVEyEJ9PWtGKULahUyYPXH0RK+H7QdNr7349IiyWkJk/IiTziyGbpWaZXjNOoYii3DFceC/ZYx747/XDank/YuliLsTKoCHTxTmtBcgUHDBBVB83/KWLMyNHRL21xud+J6uBl8AE7M43VgDElvDWxuSxKtgoAAY2LCHM4aQCPptKWsqmFUe6OUfANqE/4ACNF7khPLByBSDDh9KiA4usb9WTUEV9oChPa7hgmxwKxZV0F1CEnAEk1XIezj5IQjB5z/FBdE3t1hCDiGSBUatywUxhOE1hKAPZnRreT9bSAw+UUHfkPAoRBRiAI1Iow72xhU8gB0G/EAWLvrJBdeAoj1kAAx8lEMd/eCWNTZhvYV4ABEsPI4XrwTGMIaQkEAcY2SscQkEKkSLbdxUPc7wCCgCQwZxHEc62sEtJCpxAnu41u/KSEbhFfJ7o2yJIAtjDUFgMSEG4GHOlOGCR0AQGCjgxTggGMdwmGMd8vAVMuIAJQEQgAFh6I8oE8mSZZpyaqhcyb+E0ww/vCsBY/9YYKfkwQ50tIMeKnkGGOIHhF5Qox7e0Ec5wBFHe9RRH97oVTME0bwEVCGbgWzmIPPpzIzt8ySqZBcdiCmACawRkjnqRzrxAUN8xEMn82DHObbBTntk0h28WmQLFlKAI3ytOtCMpj/5uS6QfvGQkUFGGvCHgT+yik/1cEc6xsHOcMzjoCehR0xnyk593DRHqxiby4IAPXyelJQiHCnjREqSkhYGGW0gmEI80AhAbgmiEr0HOzP5jp/Ugx716Ic6yrFQGJ7DhjxYCAF+QNTgNPWfRk1qP5f6K7giphl0wJ8J9LcpeKRznXF0Zz98WhN58OMc5uBqt5CYNLXaoqh1NWn/XBs3V7qWUjfNiAP+VLBFR71DHdzIKi99KQ+XSnYAvihC0gpQBF8IB6CmPZ1bSyJbpVBTs5zl0zzacY58UHQc6HDHV8vjDm740h9+8kUQiFQAJNwzfLSFbeagO4DXAsUaiJjA7jYx2Ai9wxx/hSI+yHFH03C3MPUoRwzvMd53mFc917mFcpWWhVD2prrRBdt079uTekDClQIQwSXc6yBy8LIb/HCof9RBUXF085v1+8Fd4kC7Lk4Xv0T7RoY1zBMNd5hvkfmECRaCgb1u6hwwbHA7srFiCXmWG2SFYi/XEY8Bo0cWQaWTQX3j4QxfOIzRAHKQgawTIQfZNzdeSAT2/7AMaHSKGexwBzSanKFnPGMA6PwuO8WbjndU0UqiaKQALmAIL+umyEP2sQCha+GeCOMIC2FAHgqHo36848Epqcc3auybPGfjG7rlbRyvcQ1xaPLOHjONJjxAJBW4Ys9FhGyanxnp3VCWJ80wQw6vWV8b0aMd6NjpPnpVInd8lqLhODAwRdUIFPrAo5Jhs6R1ttRY54SVIitmEZybocJ2IxxxREe3rtNXc+AjtDHExzke/Ztm5CGqAihAFTitmFgjVdaZorWldTKKwCUkBqC7UVjHyk5wmAMeCyvLVXsLxcT6qBhVSBoD/FDV4lCW0tdO3b1HUuub/MIHI67EsiOTU/9QUzQf52CHcHMGU5negxvz0BJqiUTi3ABU2/hWJuk8yG+aNCMM53uAIOjNnnkYdqLs5EY6gts40vJpFSVYiA5ePUDaXhzjH7WsSzjukm8gAtcFoG+G0DnWY8MQHOV450jboQ53CBwx1yUm0ClM833u9+ZF1cnOWxKLMOuArQ56h0wpug2EQzyp/Qgt2dlh9gh5PGkRQITTde5FrV/9uVmve0rcrhCKU+gdMI6hRQ99drLeI6vl1se543Mdfy+kBeCmur6pK3m74yrnf7muuRIwb7kfph3ItqM3vNp5qrXD1+x0OJdJv5RPxCna036PW21e+XzPniVcX0gR8DSjeqj/A+GqvranC87OfKAj4fGxhh1yCPfVm9Tac7887f0kTcLsPSEeKIX0c2SahI47jkdPPHuKsQTH99A8Vbe99tVjdZb0N7s6nLd6/LEOcxRf/S6JBz/M8es4rlcd7UaPUYgTAzCDObuQfMq7+2urBCyJX9CB3Eum8nAxwAM+BUSJ6xA+cWAwdEiw8rAGZ+O7T4i852MmyrNA9mA/lbAGP8ihC9iE8shAijKH5kuzCYwjZVMPYUArhfiB3as3SkvBE/SU9EMJV1i0V1oDA+yN/Ns/1GMvGkyz6/CHfcgye0AHKPQJS/gQBhCED/OXkmJAIdw4EgwpE6yJZqgCIomBmesN/88iB8AzOuNSODF8qHZYB7Zbj2bIgqRpATb8wmYiQjocQzJ0Po1jik+QlQeIOyxkCeHbqTgqvuMTRJ8orZOAhwrUDdx7JToYudIBRDOcREgjxLcCxZYQBiRYiB70jV4Lh6Kzh9Szs1BUDH1op9DzjRXMIQ9YhRo6wOgjRV+UxbUZxdkKxJGoh0ZYAIW4ABH0DX2AQ3tAvHOrxGD8C3MoOsHTjV/AsQIIAyXEF2AkRnCkxuERx30rRpEohgeUkyzwRsWoh0e0B7XDw3FMjHcYB1eMx7KTjHpABHPBAEfrxXIMiXOkx8mLtDDkR3PxgFhgxJaoB30AB4sqyNy4jqEztv/vQzp4WoxiCAKXqYJ2JMeDLMWJ/MVhNMdzTEd4+UjhmEaSXIzruKptwMffWrnEqIT3EzNm1BaBNEiedMkShKwgNMZ+VAgRcKzSiKl0mMefXDx3GD5IRLg5JAxkID+FKIKpAxWR9Emm1CeTPMmtrAlhUEeMiINOBAp1e0V7UIfB48r3Eglxe0bE60DC2ARZuYDs20mBHMmfhKYEPMZnM4GjBAxiAwdX1Ie2nBFWZKdtmEvAQIY3W0eQ/J++NETErAlUSsBi+LdXsgOz5ImwAy2a6gZ2sMwbycBjuyjEQESpyp4/3MvSdL6j8sqc2ARcM0qm0C10WLc4ajB3WErYnBH/zyqHdFiMZkDFyHRNsATOVBojoRwAZCgCeDGDGDGK/OuGwuw/bvi/8lpOIboE2zS/b5zN7pTNyqw0IlwFWfGA1gwKGxQtBCPPbkEHbnAwoUCGCHulNvBMRHpN8mxOrfO42CAAdgwKekgHDWSnFGPL+OSVfkhLe0A1+ASKRjCXGNg1nwhDpvzP/hQJW+i2C1gFo2CH7NxOBt2XeYBHhhovwfKJYsAxBmgE0stQkhwlrasHQcihIoC9nnCHhSq3dTguE80YQNtNKKJJqVwTHFUIHthRURxPIf1K82Sq9BMGPhIABoCEv3gHb2pIKHUQAIkpbhi70cREm7gFEUuICxiF/6xUzvg0Iq2rhAq9UJL4hkOIHxdwhG+SB3coUy8tnr5SJy1DOhadhRqInzMos5SwhjAQ0DCgTk/UyyelxzLaOT1UCAPIAy80CSJwAzi6BjcAgje0B27oUj91lJicyUIYAmDIqkdwgelhCVeQFRH4OgzdUCnV0B/auViIEw8QzJWAhSGIITgSAmCAI3BYUFMFH50KLxkYtBh6BDZI1qaITh2KuxF6U4LEtyDiuBvNoSWQTJLoA0qCokf4g4riB2UdKYsEBiGAo2F1gZqAhGdjUmw1qhm9NnGcPReNjQfQBJvAgxcq1zMAQHU1peuQB1SwgqK7hhSY1pPwBQxKU/YEl/8O0lY65DdRwLUYiECXcIdcEIKiG4JZeFiDFSJ6eKN3tQdVOIObsIYxiI0CKEtINUl8VcBae9nYMIA90NQLhEhsEII/8NQ/AIKSNVkQqgdCGAJngCNVcAFjyIlSkBWOpVlcHciLvb9aEwaNSggMgDyX8IdyCC1wmAIZiB88+M2j5SdQiB8UIAJicC9k2EEBiACdtFXvcU4hrLVNIKYfwEqWaIfd5Ib2qodlQFK1jat6sLI981aFWIJHncyTstnKizU0VJo/qgkDPTZ0SFvEDcZYcCUVmNOo0VWstbtY+wU0FQAPuIWb6ofQjEfS9Fz1o4d1SM2O68iEYIB/rVhCylv/9Yu1OHXccC0JfuA/eygHxZtd7UsHGEKHw1WJeY2Nx3200uXQrLU0a6gCpcnSmpiHE2OotVxe9auHcwitwTXTIxSAFhjd8ixDSaVGNvsFiQWwWl0JFI2hfGi68b0/eRBbo1sHm2gGyLxS3nVSq51cEJJcS7MEc0EC4i2Jz4OhbuhT/qU9dQCvbrCpmkCEHHLUyPXFBBYjYHwta2gDpRGEnJiHcsgHUbNgIXQHcQgtcbhdl7iFOGFfEB5F01Uz7rGwYuDa1fXDF7bMeUAHZEsHoyWJZqhWusVLm/mW3y2kq7GwUsDJI/hbIgZO442hctBImlBSaMuDGgMgHjYkMJqu/3rwg5YxAD/QYih93bSTXZqwhTjRgSaFvugT4diK4rlChs00mK99YwbVXBi6B86liXqQ29jw2gOOTQu8memyBQxQiDseZFNtB5mEIfSliW+gg5ZJgGvFOyKS4lPqYzPsYPSxg549iXlQ4ksWxLCNIXBI15ooBVyj3lHW4+vtYTQ2Qe1ViAh4YpeAyG3AI1h2yd67SHs4hw12CSBWCNGF4lAxY6XyXROE5oSQZpqQB3OIIRdGZpeM4RgSh1h0CWsQA4VgALslXV6Oqy+hLVf4kAeuCXfYzXFozHAuSHnoBmTTh1cWiXmVkzZwrz025cuTLTUGZUTI3HSAMc4tVX02rf91AC91uKlJVggfyOI8ht98zRXZYmJlFOSV8AZyCK1wkESJ5sp3EFNm9ilkGEsPGGLmbFMfuxgvEgaY8zY8Ngl2ODl7IIdjVmnEnId0OAehrolvaIPYYIAX7J6ajq6b9qdbVogs2M+QKGr1SuKhtmBRoAgCaANWLkSrxbiP3ic1vpsEgISDssf83SSufuFf6DYe2Oj37eiopuZ9YmJGDk+WoOgYMocghesXbgb8FOLBMui2MWt9EwbVtWSX4GdkU4fBHuR6iAOmZmeOJmubzmt9cwVcE4OrHoBxRrH2ouxL3oSvHuN2Rmio5mPLIiFBSOvubQl6UAcYa+bTVtdtcmb/lvCFOLlK1ibBap61nMsnYE5TWaAJeEgvGAqHWtZtZZ2pfHjrlmiGsTSB9i1JQ0zsViHle0OGh/G2jl0Jn44hbkDq6PbSeuA/fNjqlTANpQ5mitVsjevuToHtZrIFWakCyF2JBTPkJI5o9dY+84YhcvhilhBojBBl951Sd+4bAtIE3SkAN64J/tuGdhhwAle/ko4hlKaJW3Cl/h5E7ibufVmcelhqOqHvlkAHfDCHfOZwUzXQh+7cknBRR+Lp83y+EycpaCpshSgB7Z7xS7bnwKthFTxOApDpg+qR++YVkMpmAaDrItftyDa6yXYJQQDlzFaJe4Fy/F6mWPgQMRBr/yvX57+GoRh3iVJQbSf/FB+PcmhqBN1RazTn8LaGIep2id9WCCTw7y+PcwjHGKn5BjMQaTyfcSNG4leGaR138CiVrEQKcm0mb0VXb3Y4XgRvP2vIAr6baR5nmzBHG/NMpCkPbpboB3LYhjnG9Ete9RhqdZdAhLtZZ5reE1KvPROvq1iQFTFoI374q3J4dWT2qnQIrUO+8ZFYBdWO9FJWkzMjiTOLhpZY8AQwBLVZiWXoZ4Zahykrdlhmh3vuMpa44T9PVJWQ9pCgdjSbLNMZpXqgg9iYgJE+CXd4RBoO93A2jXjwZqNjUTxTZBx7bKDcGGjHlh0ZJWsg4OxuP2eMIf8K3neJ9ioMhiF2aCNrWALNIAARIPKeRCo5n5DzGCVksFKNZgl/n+UAnniudodyyG2aWGM6YUiDD3lCT/iO2Rk/TwirBlxyb/mg/wQ7p21BlxtdXz8LGSVXoIgCSOGVKGTnXfagR3MRVwhgt3nIEHkfEh4jagRbF4UK8nAYmnWqN3tUD3RRjxycv5FcN6p6QPSuDXWR0PQY4nSzx/tmAOQY2HGQX3vXfhul/6GQjp0NSglGZ6j3xnu8/4YwkKrWsuvNLvSjB6Dwtspw1XN70F+AXnyu9oeCPQlE6NcWF/V3H3UA8gVXwnqVgPg1b7nOR/N+KMxzqOCQMI1mfyWGtuv/CBf8k3IFKCmABj8JlTc6cIZ9NJdge9B3lRDx2Fj9rrxr73aPDvp63RWFlXgHoD9+PPcq8G0nLU8JtPcdpMe5fgEgy+Y7+y0J85X67S/2v86qcpDxkWgGHoiNGJBM8l9AneceawAIJAIGtig24CDChAnZ3dvGrp7CiBInUqxo8SLGjBo3cuzo8SPIkCJHkixp8iTKlCopvuNm7+W2dhatZSFgU4Qwi/928vy38ifQiD13IhxqsVkMAgN/NNsYb17QqFKnUq1q9SrWrFq3XpyH7t7Le+mgVhSkVMAEWzqH+uTqdiLbg3EpFhMxUEAVa2/38u3r9y/gwIKvttv20h63/370Kn5KMDCBqLU9FRIdLNWoXMwTbU1QSiCP5dCiR5Mubfp0SH/lDoPjt5iirM4CCiCCSFHzgMmoS86dO3EVg8eXdhMvbvw48uQm66nDB9ZeN7IThdkdKMY2XN25cSvHGNe3REQFBk6I1f08+vTq1wd2J+6wuHevJSKLcbeINeyUMYNnL5RnZtpFVM8ad3mQk38JKrgggw1qJE83h+GjTkXWFHFXDMjc9p2ADlbWX0LWHIGhhhPRo4446Ti4IostuljaPuAcZk48FNVjxkAE4LShUSB62GFCSJ3FFEXwkPOcdC8quSSTTUb1zjiH5SMTRYKMJ0AE5mXXI3cNdolQMf8q3FXFNxSxs81z5Ti5JptturmRV4eJNV9EjT02Co9sAbmgjwP4ckGOoE3kFT5hpUOPfm8quiijS545Y6IJxaYUbXkS9WWCfQInHEsuwURlo6GKOuqC3pATFp0R/eLBXXNEGuCHmKqnp0SQGDDQA65QtI6ML5njD6nBCjtscieKo06qESHTwl1L6CURf7KeR2tEfpyFgS8TQSghhcR6+y24ltUz7qsRNfPDXTw09d9k1LLn4zdh3GWCQRK5B5874eq7L7+kfVPTQPRCy+We3bmLkIVn6dBMpMw591J0/Uo8McV7+XGlB9myC2Cfu+n2JVL35ReRas+1lmzFKau8ckr/tg6UZaR6Smvax3tSd9carxb2HDfvsPwz0EGLVEoCSkEWs8yVHZc0gArdAuhstUVEDzqF2iNWkkJrvXXQ/mR9EGeUIjIwxwWXxrTSCLkSnAAJfBJpP57aExPKXNt9N7/8NMSORMKwOpCg+5VttmhoR7SJYwLkKhE/vdpTDrB4Sz75vucchs7XIQ/krOBJE2e4QlYOdMEtU1v+0oSUq746se+g+dI4PiM07rnprlsU0x7nnlA9bdwlQr0KtYMv68UbH2o85rC2T0TfVHFXCyXi7jnNoB8kIoa3K+SNjN3Iczz44bupj9XQfc97HL8jOL3M1bcfpA4ilzuAP7KLfz/+/y6O+444z4njTqLEM7rSJWR3o7HeAJZ1lzDML38OfCCLIBIn1B1KIXYiwOIK2LHAINBvngkcBEMowhexIxyHIQc8FBKLCTxGE51LW2gQ+KeBFKARDRwhDnOYnn6cCiZ8S4gvMJAjQWiQcH+x3trupMMlMpE99aBHOp5zD8wlJEx3aQN2DiYY610icVlqIhjDeJ6dvaRnCanPmJ61HSO+xXqIuMsFfIGdd5TjHF8TIx7zGBjVsMY1CKndUka2xqZt8X0D6N28ioEd8r2EHzfUIyQjeRWHPecc5xuANZ43kBgwDFYw7MvuMpk9hCSPNfaTJCpTmRX3+C9fB6lH+gIWvP+ZaSWUFwqkbdqRj8PETpW+/GVV5tGN5+DjhwdBxLV+wb62gJJ6mhPAEso0ACiWj4rAvCY2f8IrsJhDP3bCkpYQmBXqIcMEV7SNqQ4TDmNms53uJAkPHRKRJLatFJ6kZVCoF0QaSm0AJTyhN94p0IF6ZFwVCZsADFCJexISK9RbIacGMEF74KOCBL0oRkXityEytKFVeV8p2MYAV0AESlICVUZTqlKNlPOcg9xgPo1iiVuB8yC8mlGNVqrTnVbkmZyj3lX09MaBYECZ20Jdt3iq1KUi7JYC+EF+DPnRodTDDr8ziDt2CbtTMrWrK4WK86DHMKBeZihh3WQzqHkYO3r/ta0rRYc9aITIgCGjHlKNylCsEYS7QNVUz1mnWwOb0l5NaQBmGciByAqUoTQjfgPJSztM+BJy9EOwlr1oFA1Fj0rQdAK3UKxKhoIMMVlnXIa5mkUvq9p3Pmqy/aAnA1YB2pMMpRh/I4AfEOKSwq62t+80kjr5YYsIPGYTd6VtT2Y4m0YkRB7suKRvo4vNEx3GHufYZ9S0SBI9xYJtkJEueAk6rnu95H8Y8IwftBsSPYkicQ+IxSPDK99UHvUazlCHCs4yBrviMyNscZkASDffAQ/0pva4hjlwYAClOAum/h2K6ARwIAJT+J0mfUk+5LBgAvigGQ6WzE7qkYdEVrjE/+2cID7w0YkDCIAAGervlnZy1gNE4hxcNTGOVfnPl+xiA0oBHow3ZqGBbGAXEMsxkn+ZznvcIxw7sIkHfsHGGDd2IE9wxmFUlOQto1KtLxnEAQjgWY8+eCejJcABKMEtLrMZlbo8TC4qIICRkvkiPLGtAF6QC+K1uc+QLOVLnjCeAYiCvxvhSRAJ8AVsHCZifn60HvUBjnz04gKUasQneTTcCoSCNeuANKjxOK550IMeNxPAANLLzIrwZG07GAbPbhzqWS/RNmdG9XVWnZ0u3oHRL7EmrYMtRqRciUy63g8iNkCLa/hQ2M7GozXQhWr8HDszedgBliebwmdzG4yiRGP1wqr9DzIwgpip7Ta6dUiggQwgetSIiAuWzex8uDLd9l6iIA5Ai1xkQAYFvMcAUAAM89274Es0BTaE8IgB3AMbEbEC8wwucRzKQxUDwMdErjHxjY8QCzAYgMM5LvIlJoIiAQEAIfkEBWQAAwAsTQACALcCaAEACP8ABwgcSLCgwYMIEypcyLChw4cCicGqZYzagH8YMTIsw4VgRogGsymxAIbaLADKPmoEybKly5cwY8o8qCwKII8rZyrcAgfnP51AYx7DNeuYwIw5ZS6bhcvi0aRBo0qdSrWq1asgHXUAwBWAgx64kEItCMFBvYEfX4JScMhCDiMdxKadaQSB3bsC48p9mSrRMrRjrx5DAAAL4MBYBQYDkMNnYgQaHCcGiUtRL8kHuVjoCsACoGx7YTJjQthrn2+hBcLi3FUgnox4WHNVM7m27du4c8dGQKQPoC0sBjhKfbDs2ac/XxIiMoBYDxavNCINSgRACBrYsxupRxxkDwCXkd//7sPVwbSL03MPOEajDGarkN+rPwgIwCH5BEN0UMIGTvUBXsiVXEvZzAAADIT0oQEAcAg4UC85RChhYwCwAhsAI0yYQyLzdejhhyAelIxdrwCGS3jiIWTcYSE6VN0kx82lU3W9xIhYVSHwBsAk6KXX4mTxsfijQPXdJ+RBRhH0ClfGIHfjQooc6JQxDiCAoowGlajBNwPF5siQYIYpplSkHHhcjwYxkwkgh8xyFlIrDrAMRQP+E0wtTqGnTCaEHMKKRUipyaabPWrEDCiDvolULZMAoggr0hD3oo0DGlMLMWf+Y2kwA53VaJs9ZlOLgZnUYip3/2QDS6OWFYpYMI70/zEJMa4OSNBqPZx0g6t3UkMNKYA4YsxPGRFTyzMDzHLIZxhNQwohhLySDXrM1FIjWs/UgotA1NTSYzK1JPMPLofcl9EyjYLiFFLB8EnInwKiC0gm50GmUi9rHgILaGIhtCeb2/ZYLa3BKEKIm82umUk0ThLUCxgAsIGLqc90h1AKFR7JEgsZHwVHxIfZWpASA7zWJQBfjqnyyiw3lAoAKcjniAOcwWAMqv+UNVAmDNb5HYrZwKEAZw4Ek9EkNHdlM87/ADJ0VzOIi9EyBnKGwDIODjBpigME44ACwRzHDAcd42LBADUP+89fsoEGigMCdUXENN09Y4TVbKDWHRUAZP8yAAkAGI2Uga9sxRUChyClRd85dEX3AGejDcAHYf1DTcyTJFdPdXgoxphGhAAAiBOcvZaJAnGzgDVG1ITAmgaziJVJ0p3NYi9GxETG2QmC99spHk9z1QMzGZXpBR6lAaBENq9EDoAGvc91gmzR+b7QVlc+qRAzACiQ5z+rsZApYsygTsyAXras/vrqG8MVHsw4mRwoXh0SzCzVhUA3RnHy3CBaPxtIRzowiWDgIhM9CNs/6OcA++HPOvv7Rx8GQMBewIJ0LOAX34wwC2Lgiwir89HW0LQzAJzAKZw7zitu4AhYBOMV1ZkBd6jxChgM4FGsYAV3FEGEUgWDFDAoTNb/BpCNIPaAFT/EWB+YlhRpOMA8AyDPa4j1DwNZoAeXQhoASJERLQxAAyRo4SSogQsFIAAPveiFFwAAAbUFQwFFO0voZjCtrn1OIKHTgAYmgYuZDYAQCugJK4IIhoxMgwSAcCEsyoAACBAPI7VAgAIIQQxcMOFsHMhIL2CQCBe+ogkY4pePBsAGDGXCgtXJAarKpIEG1gIUkemDA7jwClhUpwdZm8UVAACGHLIihFgyCDVi05iBBMOXyCxI9NJykg545BjdG5/IBnKIzyElNjNgwQlyAIi/sO+b4PxQKQGAABiAgRQR/Mc3tuI3gXzDQIQ4jnF+4j+fgUcgJ7FAktC0/86+DeSdAIjnAIyBAH0m5x93a2cHFMAvEh6kOh2AgUQnCgikkA4MfwTADKiRmno0LmADCCDXBDKNDiAgflxLBACYMxBmWEABKHXoACYBACoIhKAWQM1RDBSCdYHibwNZHAS8eZHvTPAopOuIQBwBABZ0q6A3+wmniplRBdwMj2gzkqYKWqecfMxIIbWP5m7wvJAN5G6pMOsAevE8ZB3lO6wQSJkAEDuBnAJt7uEWBAbgVocWCT8FKYM2v8YFhh2FPLIpyBR9VyYYZIoaXDGsTAnCsUyIJTadeZoFQBrOzno2MaSYQfIUgAdUbesDXDpKmWQokHkOoJ4AvOcAygCAPv8c9CO4mFxqL7Las9SntAddTRMEwrFaSCeYAqmOAuD4tSeiASnSGAEAkNfG7oSOQ8kFD6UMwgUAlIhrQQQpRmj705EaCBbHaUxcd2oftNTjA4E7y+L+J5BnSLKvduoMQZgwgCts5RTsYsxAQueEAW2LoWhx3fdychInCCQaCHAAR1Vb1iPxrHNC+phA0UO/vPZWI9JAW5PeKttCEam9GjuIEr7WPSMkCZLQijG0ChK70PCMqugZ2j5HKRC2QmDC6HnFKThaD1wYSAPn+aySlzyVZZACDtIFwHP/QdPtHNR9e22tWejZs9iGh6ypuG1yqpwpLAtECStlg5rV3N0ZYKT/mozpQy2YKLIRBrMXTysvUmz5geDVNiM9WKuYQdEDDiQPAKBg4kCGhoY1q7lxhMjaYjhwJh4ZwSCwAMzdEj2AxWVuILWAGU5opoyBSMN1IOvRYqgaOtsOpEkxQ4uBaKUYLZCAdgBAj7dgsBJNVVgguDDCCPxcyNB8xwiOZgPpiICRMkWh18vNVBS8e6S/pjghxOBbByKF3IfQz4ZoyQZXYopciGG0IHNp3Y7OxOR2uxsm3/jY1Qag0gBJR9wIGIhrYUvi8HAsLCmqt0fwLZDvPNEBZUl4DjKSCY5xRQOZoHNy7DwWagCuA+vCSCYkSQQ4+ObSi6WRjcjjACV4HBAz/3htaCDrlYQjHOHxDM3HYOAb33ROASFMOaeeskYYdRoAYU7OknCMka3s/CK7DBxyVj3ggJ7JKOBmL617ATcaqKEPfUBDSDGyJGYfFLKREcgr7NIDNvjGwV3IWhCf6PK9Wtl40IZAnfj2iu2eGKyTVUg9vhPpqQXj74A/ukCAmZbVhMAjyiBnHfNODQgAgLMNE0gplfruylseItkYWol4ZuWjmFnL3HltxOpkoPA0Lswp4nyZ2SiQhB53muvJhBIIY6HQUHyatHW8e5BiaJDW47cD+dlB7WsBWl+EdO10qF1CPFKDfGNBrKFmRlIOi9tuWiCLC7pAQn2CUQOAqD91PP8MOJoRpuPR6QOBukdm3XoAJOKgSwr0AELN6yv/OogWOgpNuyCZxq1XpsbjEQogd2hBd3Y3ANbWfAtRH1SgEYgVfQSxWOmRDF6xW+NiHfjBM8FhED5SH/x1eSAYgghRDzSDXmzVATp1EfSTcqDHdQDwbP+0GeGBBn/WMCdogSsoEORRbFQEe+fnRZF3ewVRJh9gDPAFChmBLCNQJ3eDYVrzeAd1Eix1FBiTfHMRRN+VdwTxMiyATDlUTSwwffYRI/20c9k3INIgSeTGVpHTHBCgAME2euUnYOe3YesxAFF3Eew3AK5TMUdRH/KXhuZxUPQTdgMwgL0GMfwXeaXkhD7/EoBogYgF6F0HGDqEAFgJUUr2NgCp4AWe+IleUBAAlhrwNQtoUR9AqIDfgXcaA0o9IYKw6G4WxG4LRE7xUw+uY1kCUURj2IID9Tx5oghoEx65ZQEjhia46E+7GESHcBbEEGFh8xT1wHyGNT8A4GBmJYSv9obbUkYQcD6pMoB5gguE4YShSAoxshjiMxA/pYw+olIbhRzSsFtH0X6XiBz1sCABYyAf4FMDEGs/h3ok5ohodm68qAj/EA3whY5SNQALV4dPh4frBwC0VnrJ8QybIX8h9Ueac2QDoQFXkxzEMDSLaGJr1UjGhxHfkGRwF4kEeBQGyDU8QxvXNnh5IhDH/xAZujgT5LEdJOVM6BURhPBpT+E+OCcy1PBIAwELQ5NpsfiUSlYmKYAHoPAKmWAYcvgPd/VHvfAK33FCGREnEtkDqcAKZaAAC9ILGeEeGnAIRDEJN6BAp+AVgNCVX0l+/3CJENAHr9ALpNAHBIQRDnAFoHAik7Ago+g7qQSKn0g3vJg45xePYdUDLqQIFrAVi0VTH9AHiZAI3/ANZIMF1uI07JQa2dA4LOAIszALmbAFg9gvy2AXO5YRpZRXR5YDrxAMh0AztfcPXiSQF4FnCAAHRDFtBvUPpeST8wdVZ7FqyWGJEZmHVUSRrmFCpxAMoJACzoRLGEGOClCX+BMZGv+QEUygUbk5CR3gTGmXGrHhGa+AC6SABxoQdC15FJIIk5TINYvhAGxwCImgNjxGCg6wBYQACo4ABnAzA3rDYxDxDFvhBLAARCuFFKTAhzgRG0pAZ2+kBAWqCFFAGCQDlSLaWcHQA35mGgv6D5ngeF2RA8cAJ3BjTIbjFYQGHhlRD33gZ8XHcCzKFS4qFpOwGZwxAghzeETTjKlRHRAoJ8ipNWKRQs2BalwRBUy1WNngBcEDGrPgPGfUE5ZlPQNADWBwaAiQA3j5EaGjkWjiYxZBOIDDFQowHF0EdDgBC2TTFSmglv+QVh3ghxcxR9PinD8BneknkbJGnQMwDYEGNfH/R6E9qgGRNJ4YoQzBITdos55gegg9yhV52mwAUif3eRExKVOJIKTe1R1byhoKwAUVYzEQEQwY0xVGEA0UioHutRUlIhdUoqpwcJMj+qvrQw2wkAmJ0ELpZEipcAiTcC3sIniWQwqJkAnIcgzBIEoYwQykgAUQsC+FMg3JuqyK8hHCqgiKQAqcghTGQAqOMAmvQKtgOlCB93f/9A+0Qn7oMQ3BYHzMs66cEg3B8EhUpAzyKhDSwAqKkAlG8RcRhB4G4WTK+gp/ERrJ8K9q9XfTMmvME60p0SMCe5MaQUOKoJpcghHUSm7/UA9/ZxHZEAxqMwDMEAx+SkQD5RHGUK1o/4ELk6CaYRoML4oUzwAKhzBkXQOOP/ENsLCul4GvITRZIKsIp0ArhhQMRHURxIApaDGxHgsV/hoMGXdnQPsorSogPugQ9QALirCsToKvxncRK3t0cvENvfC1rNBXwFq3dssS2QABKaOAd2sbe6iFfRu4gju4hPshJ1ILEHBu71q4V/G33ca4kBu5kju5IEGDnREwi0u5QeG42qO5WEEu5RK6YLVMY+u5pnu6VHEMxrB4j4u6MNEo+NW5risV9ZFYApFomTu7uru7vNu7jJsN00ANwTu8wjsAKSq7vpu8yru8zNu8zvu80Bu90ju91Fu91nu92Ju92ru93Nu93vu94P8bvuI7vuRbvuZ7vuibvuq7vuzbvu77vvAbv/I7v/Rbv/Z7v/ibv/q7v/zbv/77vwAcwAI8wARcwAZ8wAicwAq8wAzcwA78wBAcwRI8wRRcwRZ8wRicwRq8wRzcwR78wSAcwiI8wiRcwiZ8wijsvbQCCzGVwi78wrgBClcEAxCQVjB8wzhsFUAGCBuYwz78w0GRCHkIxERcxA7BDFhABCwAeUbcxE5MENSwJpv5xFRcxRlBjr5axVqcw0iBxVv8xT4MCHjAJx1wbmB8xi+MC3CgBGDAaWj8xnAcx3I8x3Rcx3Z8x3g8uMFwCqRwjHn8xxEMCxpABD3gAMIIyIjswCn/mAltmMiOzMCg4EyPPMkHXA9G0AMkYFyUvMkEnAmOwAJbwMmiDMAZQYFrO8qobL9IQQwAkAyp/Mr2ewhlkAiAEAJKULqwnMvoyyldoAa4q8vAHMzCPMzEXMzGfMzInMzKvMzM3MzO/MzQHM3SPM3UXM3WfM3YnM3avM3c3M3e/M3gHM7iPM7kXM7mfM7onM7qvM7s3M7u/M7wHM/yPM/0XM/2fM/4nM/6vM/83M/+/M8AHdACPdAEXdAGfdAIndAKvdAM3dAO/dAQHdESPdEUXdEWfdEYndEavdEc3dEe/dEgHdIiPdIkXdImfdIondIqvdIs3dIu/dIwHdMyPdM0/13TNn3TOJ3TOr3TPN3TPv3TQB3UQj3URF3URn3USJ3USr3UTN3UTv3UUB3VUj3VVF3VVn3VWJ3VWr3VXN3VXv3VYB3WYj3WZF3WZn3WaJ3Wam3TqbI/a63FYhvXSAG8cl3XuPzWEmzXei0WdL3Xfn3XeE3Kfz3YGdHXhE3Yge2/h73YC7HYh53Y8uvYrloVvSbZuQvZ32vZYpIUmo3Z3cvYn5UTju3Z0wvaT2napN27g024iJ3aqLvajMvZf+3akjvbu2vbtH23s428muvXuT2ivl29e/3bIRjc2mvcxB3aej2+w53c4NTc6Lvczs0ydh2/0j3dP3Ld81vd2O0h2v+Nv9zd3bYR3v9b1+KNFd8dwOl93jFh3nULvHbr3uzd3nId323duiIo3/P9EPoNrIWdTrrd3/t9EALu3xhh2IANiwU+4Atu4PfNoHXb4N1N3oH732IruBL+2xke4RZe3xUe1xMO4pTb4estoh6u4SLO4fh94Mda4qed4qS94Zd34S8B3b8q42RN4Qqu4yzh4rEI42p94lBp4/QN5Co+2WIt5D9O5FJx2TdO4zlu5MWN3J8N5V+t5CCI22Di5O8m5VeN5TNO5UMC5u32ekge1WQe5lbeMjze5V7u1J8Z53L+q3Je51JRMIm0eFFR53w+5yDY53Eu1dEw6IRe6MBa6JL/JRV1IAN/8AhDAASnrBODPgCIXumGfnmWPulO/ebKfdf4/bpDcA/2MOqPMAXzQBWP7W5tPtScHk5DNB814AyjPusyQA3sNhVdteqdleY+3erfxOuJQQ8uMOuzPgTEwA7tIA+JYea+/utrDtTP7lk+PhX9oA/pAA8CUQ81AAzEbg8uoA/XYA/4QA7p4A70sOy1AuFL1uw0ze4qo+VWIQ/sgA7iMOvlYAv4DghWgA+ibg+qUAO8gA/dHg7msA/eUBuvXnnRftPuvtlMHhPWUAy+sAqXgAh2EAZLEARJEAm7gA3djg2MIAAiLwANgAKNLgQZcAAHcAe50O2znguRIAc+/4AEWRAHggAJpWALwtAMTZ7gnX7mL93wWz7tDYEMt/AJiNAGS8ADJhABIz/yG/AEmOAM+IAN4T7rzhAKX3AABPD0AdAADRAAXN/1AlABT8AIw+Dy9oANoXAHL/D0Ip8AHhADRzAGglAJsVAM9NjzvD30C+/Sf0/dRH8Q1uALn+AHYeADJZAAZA/3I38AOzAItHD1/T7quTAIOzABF+ABItACnt8COhD6MSD6n28CHoABEQACUi/rLu8MmPAEG+D4cG8AHqADS5AHlWALzXDrLhH47+77KA38vw/sBVEMriAIWaADGFAAst/8IHAHtMD6A18O6uAL03Du9cD7psYQ1v+ADOzAC+NA7JU/DIzwBFzf/I4/ATGwBH6wCb9gDS2B4yHC7J9O0sQ//L7fDKuA/DHwAAAhQOBAggQZmPiRJRAvXdvuPbQX0R64cureZbNmLVu9AR09fgQZMuS3eiXhreu2TeI9fNjugTP1yY+ZIy0uFMQ5MIGKI34+CRMZ9N9QokWLBkWaVOlSph2NEm0aVepUqlWtXsWaVetWrl29fgXr9OnQsGWRGl0q7JOdHxhyFjTggYcYQZ9uNeM4oF84fPgkRhyHrt08s0jruVNXzm9EfOnogbTmaxWiOEVUJCDwduCDGGYg3bKmdOzowl9H/yudWvVq1q1dv4Z9lXTs18j/RM3h8UCzQM5VBIn6FRopu7/buq3zR9tjyXnt0I0T965pMVeIzPBwW5BAZoEJWoSB9CtvyNNjlUs9fV79evbt3b+nmh4+SLRTrcUSVAQD95zefa8qZip60KnIHfhK0qqZWBoxQ4cJdmNAhzhGwUuo8qCajz7zMuSwQw8/BLGp2TiUT6lmRIkjBszemkCHNCzx5Zug5nnnsaQQDFEpfvDJpxt+kguqGFH2KMIDzQowIYtKgPqIrAsxJHHDHKekskorUxsRvidRC6qZT8ZQoYC3EuhMEyaReicxcOwxZ7wroyrnnpW4EczGLkvZ44cJ+CvoAiQaOVPDEqOU8k1DD0U0/9EBsmxvS7JAOtGMMN/yYIlGbpExKX/4SUlOibZRlKl2wvkLIoosWqoYTcxoIYG3MFgCkgA9crLQDhkNNVddd6Vt0PUcfbSjb2TZIwYDcjKgBTM+QWap5tIZ56+/xOGHV5FKoseddMhZbCV78jmHn3iWasYVP3J7S4QwRGmGPChB9NVaeeelF6t4YwM2pGIaKSICZGNoY5V2l+pHH3PWlNaecMzRp596k2oOHW4StuceOgdbqp5bBPGBgf5i8OOWvIIVjUv2cH04ZZVTfsbWXh0FqZ5Y6FAhpwJaSKOUgZWKh59z8qHY4jpXZuokc0hNGBxy1DFwqW9s8cOHFQXYTv+gC6r4ZOeSj/r1KWncJDpssREdqmWuuy5vUZOb0WSJB3G6+pJml6KnnXQmplgcdNiRZ2ypsr2727/yQcdOpaxxZQ0V+OyOB0QCFSnt84z62mS/L8fcQ6LMJnnyeJFBRGqcEuBBEF/ATgodhKVduGHUMzcsL3nYOUechKudCplKkHi7IBX2uMXCC5UrqvLOYUc+edeM4ty9p0QSRpAYxOwTa62b6kdafLhJxx3Dla+q4HJIxadGq76JJY6aCdrOAzNiGa/WJ182/njw78efq6da1tLyj4Txw/rY14I82OJ1TaHHxMRxDr7lDyv1sFG2pLOVYiDiB67qUxhc0STU5Ov/NfWznwNFOMKkoKww9YkKAFuAkwLoQBCz0go9xkXC1rSjG937nkiasYkjeGwg27mAGODnLpixph4mpGES84dEsNxLX4JYYUES8ANIzC0pszsH93KoRNrYLiKtc9jhSpGFmxQEA2awRZNotaXWuIyLb0QeE70yvKQ0AxI6YNwULXG9kACOG/jwlD3CCEfllCNve+tbUr7hiizsqSAi2APk1ii51ciRkJeslyW1wsagWOMTRcCgTn5QCT6CpGBHo9g4tojJ1czDZ0BLGD7IgUNFMrJ3AiFADBBhRUE9b3m+ZGUwH+bGrnhQJLYIg78I0kJIVCgos0OHF6VlsXS0Y5XC/1RNSdJUjtX9ZWH78EZSrLGKJfhQlJ8QTuTe1UZiYtOdb3JiVoBlP2QIwgQ4acELkZItdXArkJ9iGDxw9M7z+JFi3wpXIkVijUtcsCATMEPwMqRJglZ0Pu20Fyc7KYofHIsgGKCDL5DijX2YQyVJq8gELQoff6zjHCfV3tL6sUrQxQAnKkCEM6eCwmJidKU/RRtPt1JEpAiDDmXUyRJcccB3PCdo46gmYYDqoW12MyLgUGhQfhGH7CR1iFGJp1V8OlWyslOo+qNkJzfxA+oNpAU5VYo0P3UO5Ay0rB6K2Dg8dY9B3igWVZiaQDzgB16WcH5DHetdFWuaxFYlscJow/8tBXCBOEgyKOKQ06neccDFfugk6FjHVJqBiCjq5AgbXMo85dnYzrbWscAsy9kMIwoftFUABfgBOqXSD3VgzLVvsitS4MEOIHnkFlnQDUFKANezcImoYoXtb6Urm+gKr3nrvAoy/GCkj+4BhofRBzumC7t5wDIwvh1AMyphU4NkQaJMyddQjAdfio7XvhTdXH2DctxQ3lYHmxDOSVIiEe/Z12/xENxEUuqRX7QhuW6FRDpT66j6iai6BsbwJGW7tX9w7qxNsYYm2DuQCbQBKHn9Z0QKnOGw8YNbFNtGuOCRXkTc86N+0Cl9TwNCC1+YxdLVb1E8jF2maLerAolBJaz/UVUYd4MdnP0xvebBjmimuGIXo0csjtDfBFThdDsdS4XR4+MoL5a1Gh5yVYQhhsAmoAitoB0stce9FZcZc/DgFNIiYqqltWMPSEWyKKCsIbURhcdj/rCdy3pmseR3w0txBVs/ugh1/JFi4OJHVhWNPH6++C/YwMY2zGEKHByAICZohIR1/A8xg5nMmyaofgst5EcjxRqWKK0AQBAJXYADG9dgnTnACWsHIgiacv0LL6Bg2wvsobCGle8RQ7hqIhPbnYyeNa2nDSlB7GcgBeiEM1Isy+4N2trJQ9Ap9WwPfAygGGMwJwESEIZimFssrX5tos+NSVmfxmxFzoMyuxMG/1+QY1qI3Dcr/RgOdHikGd0miAGQ8F7RSGNRiMV2wpXXb0YXIwz9nQBhO9IOcjCsH/bWuAiD+xGGlpYABfABan+p75SLkOM0F8ktoNBfDyBC1TXvrCt0IIAD0GIYoZBDK6Qan20Lr9ZAX+Krnb7OZ8wiGn1sBy92YQ9s7EAgLdBEpqA+3VvIAZASGQYv1qHpAWQDF8aYuv8mLPWx+w3bWToGEFwwBBkQIRn1EB84zh6RO+hgqXU38DzGAeyKSYTc3vsGHlAwhCG4YBZuujvdEU+0zMOWGi5QReNVIQMv/hMbu2jF5lmcpl2IO2HhcIMb+oIPYMigF72sNrSfrnrOa/+eiNgFhRukZYXQo50RcrjF0nlvXwQhYxGDoMWnUVAqVUwBdTff/fLnlfFGy70jeFAF4yPyiD84IxRfAMESfvENsWufxQ/3wBMYMQxgSEH89riGC+LufQ7n3v27krWoqIczeARpeYQGqAADyAIY+r8yo4eHuwkKkAFpcQYZUD4O8j0N878GTJQAbApvKAdgEALxuwYUCIAF5EBre7gJgABgCCQ9+IN8aIfmwjl1qsEUpBLuY4p60AeE0QMhCL/Rs4F6w8Fza4ZAUABVAAZg+MFrADZ0YLvu20AbzL4izBEdJBhDiohrGAQKyIAvfAV6uCYrZDFqyAZisIEvbIAdcAb/iegGGrxBDZxCMiSUKsSKfVidXPA6AlgCYRBDOty3esiGZPCDCTiACgiFiCAHa+AsRvNAQHyZOFyjpoAHT8GGQTiAAigCYUA5SIyyZvADf9mBO6iAFpA5KpxD3EtFT8SXDNSwpUAGMnAGbMiFFziAIvgyVoS6ZoiDBSAIH6A4VVzFbGs6XWxFSZRC/uuIZtgDBiCACtiBA/CBNDJGxEMGMwilAjgCy0rGYsRAO6xG1nBEH7MGROidXDrFcKy7YqiCtlLAZ+tGZdw/dYxEcPzGs6oHTeAugSiBT6BH7fOFIOAPBsiDUiJGeUTFYfzHTXLFg/Q+V2gB/vAASOjEhdw3/1kYuoG4AJ9LSKZrSIvMN3uUQ+/7hSLgjwjwA0YEyf9zhfUBgWEYBlPIIZEUxpU0izPDFec7AO5IgDbIMZtcvnqABAy4A2yIiF1wBXqoSGrzRqDsMWR0GWsIhFy4hmHIxCVgQKf8P6kchnv4NWeQA3hcrY/UynscRluph0oYBKNkNygwoLIsQmXQBZd4iFAIhJ8cS2SEy25EtEdzhSSIvojABl5Yyr1MOTGkB3YYhrNzhidItTkiS63EyUIpBiS4gzY8SpUyTBy0hm+YB14QzHsIBRz4hMLUPYV0SlfMEl58gVyQCGxQh43YTDosiXaoBrZ0hi/4gV+AQ7CKzIWcTP+eEkqixEx74IbNmk1WnAd06JZQ2IA0KCWaxMJwDE7ZioUWaE2JAAd1GMPkLEJ3kKbcnABEwDzNC6vUZK3ZKIYlOIBBED9yQE7v1EXmYE6JoIUNUIGvOsi+RM1q/EhfsgY/YIDsvCp1uED5NEbwlAhnuAMBOAIYqs7+9MSMOxtR8ID2FL9ymCkEpUfmSIduuc8FSMl49E29nNDf/B8fEIAXGAa2BAd9ME0OxUF3wBt7YFAB8IBNGMkSNVEynM70yoMEOABGcImIKIdwklGbnId0CCRaqAAB0AHe3E8ebUpI/NFN2I8dWMwv2ockLUt3iBb8+4LtSAA7UMn0RFH3S9P/AfiFjPwCiLCHcpgxLy1LevhQfFgEgvAAf5xSpqxSDpzOZghSXHJNhQktOjVMeICHb7iFEYNS3sSvNa276fwEbxMAAzADfTCOOUXU5KyHRuidMmXExDpPQPU92RIGFR2IGIiRGO3UhWyGLPAoHC2FPp07CZ3UU+Uaa9iDUJqASli5V0XQRiWIIiiGSKXJzYuGZWXWq1uKZm3WVfAA7tDGYniGZxDWToUGQwjVOFgGaGVWpgBXZ8XBxhoLZDgCgmgBAyKJbBVWZKiCJwABgchPOSrVXL3BsagHRHiwB0CE9nPXV62HbuC6O9jJAsgCvIjDH1U0Un0KYhWAChiETjiG/+4MWBmNk4ioRauxhGRl2B9z2KKwhkEVgCcYhopZB1e92LL0BoMTTEwUCB0QqZD8U2szz6coBe6qAEz4ixlc2YDlwTz0OgFIgBH1yGRtWLp7CnQdiCdwhsWQQYv9WQQtiX5wWa/ExMwwgVigWVw1MEsyik9NLkQcvHOQB5Wd2r2sh3XQs2EY2gIIA4M8zZplMXs1il+YHoFwWqhtB7RN282EhzhhiXtghJ0kAAzgU/6k269VWpH1gwQQE7L1i3sw27+13I7gBz2rhqEVgB+AUIRMRo0bK6OIhRJo2mpgPBm83NUdAHgwB/y7BsKVAIFgAPKkuUd0LZ8yimYYA+qpgP9d+LWIOId58FvW9c7MlYjNXVVhqMGPBarGJYqcxaUv8LWIUF3jxV7XhV17wITZJdqUtEPcnaqQbYYqGIgNAN49G17sZV/MJRU52VxTEwAVMKAqdN53Mtd/0ARHIgDq9RRx8Nn2bV9/eF2JCAUJyAwDWINRbbr7FSbWQoYfON9d8JTGIF4BxuAB4AeVYIlq8F4chR/77dGVaiyh9CECuIPVGYc6y2AB9geCxT9c0AHqgdtmuN0RjjVJLIaMpJpOQBgLbuEg7gh2IIfCoYdGeDAPWIUbxuEHjsN9NScPcAV1AIymEeIr/ghkKIJiVdhtc+Ak8j1hiAFqTQNGnAd10If/A8ViLL6E3rkAQds98X2jxKoHQZgaE3jLjgjWNcZiph0IJOjiuQXdayOzosDbgTAAOvg5PmbkkPgEpJqAT4hjSR2hdiIKKB4IPG7kTTYR8x2IIkAG/6PkqNM3ojjk7siDRebkVe6ISnuCAgCiTZhkpAXjUh6Kb7BjtwpGVublAZAHULuHXagA7jiCUJ62UU6eQh6KU17RanAG3OnlaKaHaHkIcHgCVyGAC5Bkefxiu7PlOsagA4gEYC6HaDbnAVjOPQvmDeAOQIaybg4bHyMKYeDhF7jNzBKvc+7l2iw9cPgCDIrk/lvcZJbnf9jXcI4EJ1REzdTnXl7OycWHXZhX/4FYArm1VS7CFaLY4YGwZ8bbTjVuaF5W0Ku6A4/CgFUQaDjK6KFoBB8SZ4W2B/gM6ZCmz8kNZhDIDAJIWEFWIjcaigjmaNS9Khid6aLuCDB1vJIWrHSsSRJyGaKwhOR6acbTUKO26gGgB3WwaYnOjAIwg1HtyEqurqFohnQVCC09uxct3qvOYG0KU3a7A+oRgfoNa1ImsqEQhTJqT8EzUiRla6vGFq2umJtO4FQ+Hng+lLH+h/IdiB24zS8i6r/+a7dO6p0UgBY4Hcu5V5Xx6VjQWUZoiYgwB06V7MmGoA+1TxAQk6I9ot/z2lxxI2vo3bMWaoXhh7Uu7UZ+B72qGP9xgGUkO1b/QewrdJlbEAFcYoR7YDxzKK7cdu6OyOqWIAdfWJztYACK7BxkrhKX+YbHHYgkOLttgObnJu+q1YdxCdBQ8gFkaG2zHJsLE+OBuG55AJpuaG7yLm+wsYXjFogJEIXsbuIrcRlIMKcYkNJ52FD8VnBbW4O2KgIbVsWVqS5k4AGe9AOx2+MF1/ABWIWukmKSGe5GOatN6B0T2OUNR3EdMuuXawNr0Gzt7h8UWuwlIGNVTvEb/whNkIBhnt/MHslB3m4p+QfPHggMYGocR/KPeAdfy1rWNhk5jvGz+YeRjdwngIJmkNok33B+kAg9jNlj3dFQmY1/oG69FTf/UNHyNAeJedDCisnaB9CEF6fli/Ilg85lRJSIcMhyNV/wesBDtBtaQHbvxK7zYuABqnFaiRAHFuZzNQfBimmJwj3cU4Rxs+Kaf/gEf8FziajcRvd0j0DeinFbqhGDdKp01ajzWEX04rzeT3f11i3gh6CEJzVxOQxytBhyI9mARFRfkH51Pg91e3DbA0gA8uTLEAFQO4DlRI8IAP71Z/cIAv4LTHhSHpibEEero/gHYYjIDaAFtsSHwsFtaHdudnCIiBh2/ybRiXqefyDwknUGxlvhcSf355aHc5j2J61oh6TzpyhrAfB2xgt3paz3gvcIdpCzYXgCEN5scRwLV7gA/wJgdntYYYO3eD2Oh3OQE6+kdgPwA444degyCmswAwIAgcBkN8e4+JUf4nMX9hcQgBgI7gDvKaOg7gO4TIkYB/NheZa/d4kYhO2Ac2y/VbKABMzgWcZwDHrv+Q1nB3EAB0/gjwcPeaZEBlUVgFk0ToZu+qYvCSIXrFio+rldBaQqAX3gBnUA2K5n+8XOgm9rcZo/2ikPg2+Dzs5kerZP8014sBhgXrl/StSwsclCrbzXezXfaNoFVsDnsE+dmiAQy8OXfD0G50/u4oEOfArXiUaY/M5XClvwgAq4gyfAALGf86Ive7eSUs9n/YXSBWcYAOeM+9emQmsIgxcIhcJd4P/W5/2RQAc5GYDc9PvTp0JfMIFB6Ah7MIXeZ/41r097GID7vATix8B9Resv8uvm137wVG58yM0HlzaG/IerX0tPqWrtR3/oVgfgj/4XqF/MJ4pVSIJcSH61Tv/7p+yKYdAFHuihAAhrZAZdG2DPXjlvAxYybOjwIcSIEidSrGjxIsaMGjdy7OjxI8iQIkeSLGnyJMqUKley/FivHj112A7ao5WkWL1/G//985VkGDaD4PS1LGr0KNKkSpcyber0KdSoUim+fDfuID5ndzTx1HmRpyRG+O4ZTDj1LNq0ateybev2LVylL2POvHcvF5R4OS3+QyZnGD6h+urFLWz4MOK4xIoXM05cddw1moNk8aT4r1WkAWQRevvW+DPo0KJHky6tuF62dM7s3bOXa9HeiNYWDdvsjJ81wqZ38+7t+zfw4BD7cYuMD1skYbod1sA006C5ZfSEU69u/Tr27EfrWUu9+uAAIC4a1rM3QMbC2820s2/v/j187d++vdt1r+CfgwUf6pJnLT6AAQo4IIFwvcTLQuZJhEWBDTr4IIQRloSFFjUM4AyGGDakiCISevghiCFKeMiGA3QYEAAh+QQFZAADACxOAAIAswJpAQAI/wAHCBxIsKDBgwgTKlzIsKHDhwP+SZQ44BkuWMGiMaQ4MFOUWhANThyZSQOMYPVIAArJsqXLlzBjykQ4kSAgJ8tmbvxHcBIWlDqDwhwpVGTNl9Jw1XpWtKnTp1CjSp05UmKvAQCyZmVBSOHRAWwAZBpaNRsEL0Qg4EHwSmjVf6cEIphLl+3Lr8QSwZpakKjAHgAcTONLk6PAGQCI8TU8gAqAtoQhfqWWCJTXtxzhZHUUs+ykMjMUAKBi9C01OKIBKOAyDXPk17Bjy476tpeDASfgEFLTQ8GMyzwFhh17l+dEYx2CZYNDgk3Rt6QC05hOnQau4sEHgAJQBnbVAccQZP+dNDsiY9DJFmdv/Lg88IHKALAA/nYArrkAOGOfyDSraNJ9YUZaB4AAkgIARHxTn3sMNuggg34NQAQAV9RD0DKpvCecWA865Fd0v7l11HbdvfZdHwAYAcANHXq3nmOQtWhedvHNl9B6M2bDAgeA6eeSX9TgAYoxh4zW0F4D5DTANCRoJ+OTUEapU4QQAHBVgCN9A8shgIDyDEf/DDcQLrgYtkwtxpT1CpeZpJnlll0y9ZaWXIICzVvGgEIIIZkQY6FAHwIQ4ozBTVMLLgoORE0ttWRD0TGgcEnKlxMFAwgASjBaizIUBZPJnqxQU1hNz+hJCCzfHFRfCAAYcwIAhP7/owyaA/RyyKmJSiRNLcGANwkgvVCESyKAZJJMdmR+Ceg/vdSS0z/B1EKNRNnUctUykxACiqMDfMMKIYq4OdIzqShSrDGxDpANK4Ao0iuMIy1DSp1KlkZRNq/sCcq0M5K55KeZtCbQLIQcAtSyIx3zCgAhaOrnTiiyoqKPLX01Y5EALuTEACt1NEAPUoYs8sgaCmQBANcR9FYwLGgFaybBhcmhQApYYFgmALAx0isduAwAIJW2rBUEMI+ECwkuQ0BKPRP1IZ7LXSEcHIgDffdNDj//+U93RkwEmFYDQAAK0/9MCPYAivxDDasuazALliMl4oDLLBjzZ9UUSQQLADlw/wwAHlU58ncULvcQzUSzpEgIAgIdUs8yX/vX8QAo9qB1dB/IiRgxEjGVAilzC8SCMsQIrdopI8HxdFYIAD6SMab/TdorEzWxumoUx6r3By5bQPtEFigwy8kCaRAMM5EjkAjeI13qMxMNMatAFANMvJ/KEmG8kQa1XjiAAtmQLP74Un73MQAwXKk7Mxxgyisgor1ioczEfW9zdmPprPdcbPDKShl9kAj73GcpBQxAfhIJhgMQwIZZ2GqBtdAbADoAimAE4xVoII/UBEI15gUnGRZAAJIwR6l/zAAPrIhWHxSggGD9Axd4QBArZpimaZwAEK8IBizKgAAIMMODE1meBv8U0YtZdAEAJBCVB81DOPKERwOOmojgLGCBPsGCBhJCHAC4h8JXNAoGfMPIJKp0CJ5c7WcCIQYEFJAyEyamcwCAgAPYAItXIMYJLMgBKWqhGQu0RiJY8AIpetELR2gAAJOYiI6qh4u81OwxEyGCGlLRC1wQokpIkppEcMFCPFgLfgpAiURCaIEovAIWKroBEVIAilosDgGK0R0xtvOBGbJCfYX5BgwskJOJjUSJBLGlLWGhNcZczEgL0QgAgBmRKgUjQuSLpjRj85ZazG2LRjgE57JTOY4oAgApAJSYaHY/QOHMOQOox6s4E6FuGueb4fxLfmLGCgCAjHKIvFFVouP/ABj48583MM4/XoEADZBujSkj1EDIA4aBkAhuA9HMIZg3kGUowAGcGwgXAKAI7MVMGg5QgEbOxwqOCG4AxBTINA75tgEkDpH4Yxgw2wKBP4JQhNmAwQCWB6jN8eQZsAKaQJIhGhikSp6soKhAeoEAGw0AZ0ZdaFZi9JV6GqGYhgEjKGI2FiMMxAID2EJwsnFIDUhjIGAAgOMQBh/57GQilyKOL49jEJ9tcYnM095CemVAlX3ApeabpmAHS5uqGMMJVcrKAHIQywG07HcCocbJekW/gdQMTOcUCC4A8FeFig6SxpEsAHoVHw0wbVkdQICoigSGo9pLItFBwEVD6gAH/9xvIjHsAWIm6tGBMEWnAnkolgaSuI2xVSDfBINheoGgu/mFM8Z9aoqyIzgW1OQfKEJn4iyQKIGoKG0E0SnqJEJQDWxhulXbnECAqtrstAxmA7kUT2e0rBEgIHzVE0t2snEyqhrmGwrgAF6DAYATgOkfEIDAn8D6zIGoqA93Ey59BVKjt0JLAffMryNGctaC7OnDhJgEVo2i1xsxF6wqe2y6CMviFgflLdkgWA/EowGmDEA8h6saYCxTWXJiNmcCmUSKNigXAOTYPDse6ATZwOQmH/KZxphbB8AAipHitYMepcgZU0S2iSyDDSlILKw64FDurEwLJLhmVjL8Fi/Ys//JTC4DOPE6gN/EiBohrZfgrnDdU9hzYHxbz6simJ20AuK0A4jhBJmRHTfGEqgfWA9gyjQQwblObYTYpXiwAgAlvepg8vzdP56BBxacTCsOwOpEcDYCODP5ZD8cQAi5JRA3w1cge1OCUgdQYYd8YwYYDY71fmTMiZSYJgS+TUFYhaTAuvjZ0GbJd/5hTQB0hRqqMcw/mpDPHtvvx+gsUhnmZxhsK+DA3E7kdhjnADm62wGiDIYRUqOALdjYs1gGokBQ9Jgu/2MZZGZBGfAAiD4MgAPBIVFVegGBOquhD31Aw5919w8VGbDdGIeAU1cGAARAvOCACMEAeDsAwcHhurX/WBGgu0aQntmNm39D9EtP3mj1VgSckrZSzMjjunqATANcwEMfAHHIYwikZ8totBJAO41wjgAMBO9DSIH4j29e/N1yTI+sI0KQtC4tOLkeMYXd6hAhs8GCFgTMSpL+D/wSBO1ob6zFjpkxVf07K8yUtZV2He2++30hRJHIEaH3PQAoC1CA+fo4v71zIA9AyFf1bOEPL5HE16Oelnut2mABh5N5lcj51uQAaoGABQ6A0QOJ4bgHkh7uBdfM2VFRGQeyNzYbRgsAmK/dqwKHgfjMsZUeDZj8TAQLJY7lAzkQodHKsYkMEII1T8x6cU4QwAQLUELGg0DqOQMlSqRnRseN/86rhjXIJAK9AsmGbHeNs88f12RcRysAvo5rTImd12RviKI5fTb9oasgduV6kkd3wFElD6NScwFMc/d3DNiAmCFnxvVY2SFalLV4qUVrMoNOzNUB5GYYEggoFDgAyRBHeddbQ8VC+BUog6JJo8Y7rOAcREAQEzIL2ZEhAhgdykUQSIN6AkEIEzdhOwUATUAf1HJImSBMM9QzV1JdYIIivedS0xV7uddoYJQKE6EicJAKi5Ze0ndzKZBz1xcR2ScQl0IIMbMM4hF+KpIJdyNakHFEWzUmqrFrBMYBzsUYYLUeXodoYfd+zDBnDkEKWDCIhNgzNIAFW/UPsUYQXtCIjv+IB3e4HsaGTKMyIRSjhTMQiQ24ic9mMZMwLXmzDO3DW5WDaEViI97WN6gzVFWCTo6Ve5JXOblyisEBGAEEKAIxUoezXwvkfUeRb4FXcQDwhGBEcud1azk1ABoQHJtFBIbxG73wJ89wMrbHEcuwQJRGECP1FX5mXUfxD6onECcVI9JwMilzfIZBS95HU6BYJN0HFtWjNTYHVF9YfeMnhn8jjmbGfAAQftvBAq4lOO2RaNYWHPUwIX0lecUYMxJhZXnYdfPHh/b3fvbjWgECURpGFgeWPcLHGIpACMcwEduRAkpUD1gzX9DEiSopTZiRYFgwCa9ACkQ3AB2wi9HAO0b/8Aq94DR2IRxPNRHfZAGOAAuKoAF/pT/UJhpgAAu9QApdEED/cJMpopM8KWrBUCVKAAq48AqO0AOW8w9XMAOJkEOvMCGRpzvRAVaO6IiQMVHANQDGAAEIUCb/gDNVFAyskAMChnC6skBgcAjLA45IRArBAAop0DPVOBJClmi3JJMhMFERoiIr8Y0EZgHTIjgaAAGTgJc65X7omCU3ICi3lAhVoh+9cFEZlVOwGBHzSH0DYX2N5zrBMBeEUERb8Egh+Q+6JCFMCT+HZB4L4wCO0AuwkBZTR3W2QSGg0AtrkgPu95DyR38oNZEURwMIQghjCTeukZH7AVeDCEYhMIgN/zUQVTILZFMP1pkDrFCWBQaKKbmS8Ck+D3hIPkME2yQRxIAYWmEBpEAQwzER30A9WtEE5zQSsMA2rGOG+KmfWcGf/hYMoQk2DuA6TlOfiwgdvqdYWbESpxlsxtGfmfMP9eAF/PcBTLWME0EKPYNcagMyWjEDC5NhFAcK9KkVH4BAZiIe6BKMLbNVlnZEWkEEg7Fyb/EMZgMrDsBb0cAqiRgRasRGrNmF9AiGO5doQLk6DnAKYJSb/5AMDOpxs4Nb/Oc2waOdzAJGYAMBkwOdArGHYEedutMLaAoAhEd1kZkfnVEVDCqhd1OeiAY5LgMD4vKe8VmoIoMZwUAKipAIpP+wo9+BC46QCKGyHsuQEdeFC4ownAMgDcHAdoo0C4qgAH3gqcISqaGiOwPgKYeQCbDgnv8wDbAwCYx6gCw4pKlqQbf6Q5XKKY1GDMEgMDyRCYrwCuETDPc5ENPgq8ryQpPgCG9DDcEQfllGLbAQqYO0a9NgrBQlEcrQqf9gaak6CYpAl4oSDOlRH8EwCYfQnwPBqccqEcnQqRFhDMohEN8QDGlCEMegHNnxDMeTN5DCqGdFrwqiZbCQCJOALvEKik4qrKfqq5pXK7KaCbPgdgPgq4bRrQITWeZqL5FFr1pnpgURr1bWnfQKd71SEBbELwSBC81KgwtiqDI7s9J2Hm//SbPl8RXgirM827M++7NQ8h3LMAvylpBAGxk6m49Hu7RM27ROSxVEwVwdp31PKxVJS7VV6x6mQRCH0LVeGxdZG7Zii7SGka22OrbPYRi4AAgphbYuEi8EYVcy6rZ0W7d2e7dPu50DQA3TwLd+W4J4G7iCO7iEW7iGe7iIm7iKu7iM27iO+7iQG7mSO7mUW7mWe7mYm7mau7mc27me+7mgG7qiO7qkW7qme7qom7qqu7qs27qu+7qwG7uyO7u0W7u2e7u4m7u6u7u827u++7vAG7zCO7zEW7zGe7zIm7zKu7zM27zO+7zQG73SO73UW73We73Ym73au73c273e+73g/zu6nVOv4Vu+5ktNIoo1oHa+7Nu+TcETiYB76+u+9Fu/L2EMIxAf82u//Nu/C0EE2zJad+O/BFzAldY12SDABrzABawBTcAGakAhIMHAFGy/hDB0KIIGCVXBHHy+iqTAHRzC5QugoyrCJnzCKJzCKrzCLNzCLvzCOCtAtVCyMFzDxhtJANC2NrzDwxusRgABMcLDQgy8yxACxwDEQ5zEv2sEIobESvzEuUsKN8A0TgzFVky7LGAETKYAOXnFXhy7wpoIiaAAarDBX3zGqTsSVYzGbHy6I0EIjdXGcjzHdFzHdnzHeJzHerzHfNzHfvzHgBzIgjzIhFzIhnzIiJzIiv+8yIzcyI78yJAcyZI8yZRcyZZ8yZicyZq8yZzcyZ78yaAcyqI8yqRcyqZ8yqicyqq8yqzcyq78yrAcy7I8y7Rcy7Z8y7icy7q8y7zcy778y8AczMI8zMRczMZ8zMiczMq8zMzczM78zNAczdI8zdRczdZ8zdiczdq8zdzczd78zeAczuI8zuRczuZ8zuiczuq8zuzczu78zvAcz/I8z/Rcz/Z8z/icz/q8z/zcz/78zwAd0AI90ARd0AZ90Aid0Aq90Azd0A790BAd0RI90RRd0RZ90Rid0Rq90Rzd0R790SAd0iI90iRd0iZ90iid0iq90izd0i790jAd0zI90zT/XdM2fdM4ndM6vdM83dM+/dNAHdRCPdREXdRGfdRIndRKvdRM3dRO/dRQHdVSPdVUXdVWXbrfQA3S8A0WedXGGw3RwAzJANY07NXCq0h/ZExmDbxo7Wxr7bsjkQ1pTahvLbt+Eddzrbd13bqYgRly3dcxu9ecC9iE3dd/XdiIvYCCLbiJ3diAfdiOHdl0vdg/K9mW/dh5fdmajSOUvZKbbdnmkRBnOyqf3did3XelvdkvltqgfdrRxNoMWdjoC9hmqtmu/SSlTYSTTbaBrduSfduyodqSsduzodY1a9vA/RTIXRqAx9mC1dvTatrJLROtrU9u7YC0bd2OPd3DHdnN/93X8ZnYFibe3K15sv3d562S1a3d5J3c3j3ehM2z7+3b8b3Y803f4L202w3f9e3V+43eiC22/w3g/R3VA07g+T22G5ngDyHdTO3gDV7gg8vg3R3gRg3hIaHXhruRU2LhQN3eeRq6123eGm7TIE7axu3GJU7iI/7SJ87izq3iEg7jip3SL17b0I26903jKT7SN86CM766v83eFA7SHs7jOR67Ox7dSY7RR47jK767Sw7kTR7RT26nRd7D6Y3iUd7QVw7lxK3lXc7kLZ7QW07f1xvmYB7jBP3l2s29PW6CWF7j/5zeau6/CX7m/nze2d3Bdh7k9izbP77Apu3m8AzbKf8M22y+zqwNw43+zrk9ttbQDMUgDLdgC7HgCqvwCZqwCZ5+CYiACIaACJXQ6Z6+CavgCq5w6cIgDM3QDGib2owu3D5rDcVwC64A6n6wBllQBDzQAiKAAQ9gAAJQ7MZ+7MgeABTQAAGA7M5e7ARAAALwABfgAS2gA0FQBWOQB4JQCaVgC67es3lD6+RM7vGJDLcwCo2wB2EQBDHgAQkQ7dL+7PRe78XeACjgBn8gAxlwAPb+7/SeABfQAj5QBXSACJ8QC8VgDYU67q6h59x82fBpDcKwCohAB0ugA/AO8BwvAAVA7R6gAi1w7dheBEdQBDYwBM5gDyz/CBmwBEVg8jr/oAMxMPIe4AEMkAAdD/AFcAExUARmIAiicAuw7tmBBejXXN9V3mLNcAub4AcZjwEFsPPGbgAXUAI6UARZEAd+0AiasAqy8AvF0AzWMMAHMQ81AAwsz/L4IAPe0NUCUQ9/Ug+ULgy24Aqb0AiCYAdigAS/jgHxTvXFPgEtcARt0AixgAx/1+NIL82ND231UAylIAhVoAMXQPUPYAI+sARxIAibEAu/UPRynxCjf/btoA7nIA5tv/ZrLwTAsA3mkA7sQA8xYeuyIAqIkAdZ8AMtcPk7zwCFnwea4AsMb/RZTsyjxtmG7mLFMApQ3wIMwPEFgAExUAV20Air4AtFrxPz/+AOqD8O93APrO/6rG8PMnAN17D25gAVFB8LleAHYcADIqDzAG8AIlAEc3AJxL+Jev4PACGt3gCCBQ0eRJhQ4UKGDR0+hBhR4kSKFS1exJhR40aJ/zw+8xhS5MiQHE1utGarURgdDAS8hBnzZQIRP9IgWiXM2kmE/bjdsxdUqFBsfNwMVTUE3FBxPB3WKxYLkp0jLVzKxJqgxRJBrpA5BTuR5FiRAkuGRZtW7Vq2bd2+dSgSJNmRcNU2i4VoiQkDWGVOiBFGUM5vb+uhGxr03rhu+tp9q3dmyKNHblgso/duHTpz7RzKcxcvLbJYjdb48EDAb0wMQfaU+mo3LF2SZv89ysadW/du3r0jyqV91rfFlHpFFFj98kFgRF55t8N3T1w3de7kDRhYsF4vQHBY0aM4L1/Q6erazbt7q1KbHxiSv7zww8+qZsMr3g7+z/Zt+/39/wcwQIWAC07AhoqxZIwYEkiuABGO8EOUYtbKbDNuyvGHoXrqkec67LLjyZvEFGOsOg/TasYVRKpogcHVCBBhCURuKcxAhmjbz0Ydd+SxR45GmoskHwv6xhe9PGgwxgibATGsCtEhZynF7FHHN3W4wWdEofAZ55zq0FOrSEjEWFA1vxKIoQ1RmBySrv3+GTJOOefskaQgheMxRTt0cNEvD44QJJb6CNoQrHre4Qf/Sim1BMedJnebxx19zhknSy3t4fIcfdwBMy0xs2ihL78KUCEMTWKrc6Q34aSzVVdfxY2sO1nVsZlV4lhwNQZ4sGMUVNPqJ9FywAHq0nzKSacd0fordIBI1aH00qDw4eYcdtqyJhZBjnBvNRGysGRCHsuqZyxYz0U33R9lFclGa1yhIwbk/ERiRra84SedcsKR1p5tkGUHHkIf9S+7DedpR51uxLF0KKDcsauYS8JoYV6sPMhik18BJNdcdT8GOeQB6ZpLwHps8YNPvwgowVRx2zqn33/TYccbdeVJeOGhHM1Nz1yxItWMUgblWL9yyRI5aaXPLTDAYiA5IoJRVRDj/5ON26qn4aDCQZaffpYuCGd1rm1IHn3WeYfgk97dQ+WsdPDjFgPpArtuu3ekDUBrVjHDhNU8CEPjtOZR+yB18iEnHa83LPzuhWIOChxy0OHnnbTetSMGUWW6AIlKrh6ObsdHJz030f0rBpEfEjAzpguWgORlp+JpJx1zxjOnoUKbLV2ibopNLJzEFw+rmVHMUKF1mApoYQ9bGtft9N6np94k6X37JpY2VDhTB0HkBktsc8TRkvDqT5LH9m365Vpxm8FCBuoJ/Lqgik2IDh3p8/fn/6HreWvGJ5YwAeW9xANCswb0KiK2hQFvROBAR/9MUihvsENf65PWzALmlJP5Qf9zWfEBIpChQLj8T4InrJ4JcYOMRqwuKzwQhDB4gjCFjaNf1EKHPt5BDxKi0CLB0he/MmgOyzmlGZdAwvxkQoAWxM0+KvRhFJeWN94UQxDywsoFsvAJ/GnkHdAaxz3EqCVqacodPGScFMNSDx4OIFjoGJaWzAGeNcaCDsm7WBpikT+PqdGPIaOibnzhBzzKxARzeJ5T3OHAoWRqU536I1wYhyhFBSUddFRL6nSwOZhcIAyuqFH0AhlJUs4Jim7xBR1EADTvyXCN63AYYxyDxh6Wki2ZOSP06pEO6rTjRBc54hGuEpMJVGEVoYyV/my5TLydci2+yMMqZZIAHzQCdBH/oYc7INaQefDSRNhhZsFI2I7ElOc8tUyINUpRBSUSMwugFKUywzlPPgoJN8LYg9+meYRLdBGb79gHOrghpSppaCC8o6eP+qE1h5XHOhb5hivC0C13xgKZbclPQjVqOnm+xYotKGACjsBFijwpSlpCByY3iq4N9WNSWErMGO2xmMachyL1iIUZKAoTDKQBfG/J6EqFmpamuaUZjdBBVo6wiQRG5FCJOqm08tGN9w01ZJGaVKWk5UhOSQSnY7gAVkSQh1+UcJRWRStGisoWa3wiCH2aSRA04c+FvHFYjBxKPsyRrAylNWnNehal8Lqlc6j0ITgNQzth0gIRmrWjfoVs/1yceRKcZkFqMSmADhrBJofAI4gy2ys7/EHLyIKtSTQ8B8NG1A/DQmRvSxjmSwzwA000FaOTLW1a15oWYeQBSTJhrOweQo7BatBm6Mwt2BgojnuQo40XscYm3ioTBlQhFsi1SH5oldzI7rZ4lcBiTDxAh18gFCLlEEr7+FFV7qoRkgvRhzgmh7bCNQMRMSigB/wgXLSctb1D9a5TbJEFBhCgdQ9YgisI5g92mMch/lCH1z7036GOZyiSo1wRD1IMP0hzeTFABF2tF1QKbzTAJ+Hwb2EyW6YahHa2s/BMv1ZiGqeDfcPrR5NikYUHxIQAD8jCT/uLWxpH8cQcsYYofv9gsZeUQBAjHID4YpwYfMy4yO3dEDwsWI5tDHZrXZuxNS7BA04KQAUhhsaQiXxl/vnXJNJQhA0ocACLPSAMtlhuv8DBDXR4hs1sruAFZQYwf3DYwy+hgA3wIIyLjtjNf27zozXyjUVYwA2VcQAFBIADTyhMtZfCoQ7fC2lIA3FfWyXbgBkQgAzI4A98QIENOMuTI5O6d7XGiDDiIAEIOOMaMwUGCqrhDC+XcR+5TKOtlY2dNtp1UUGJYEGawQJVRCcoQqDAERQMFlwvG2zdpkhbeVCAAjSAD78Wih4e4UCujtrb707IU6FUDg0PYBky0BowMiAAGAli1rReM7xhJWn/jBRjD2GFSQMekZhH/GExZjSfwCUOEYL1Yghau4YDWpeAKiSS232cOCADHhFbLIGTmYUDHxLzB0Jch43YDXnMB8AMFyQGGEKoxhMM0DrGilgjj5W5q6IxdKIXnSfIEERqiNkGYTCDGChwhlCAIQNjBN3qFAGCKoYiBFVgwx7VkMMBzESACIzBF8xwStHVfvVWgTsivwjDAg4Qkxgw9Rs1YoUL1P0HF7yC7X9/yjFqYAXKuOAMz65GJ1gHkwP8YBUwl6w9AT8uoGOkHq7wgfIWsIhxVINs2nlGJvCQCWpAfvIS5+Er+pCIYNBDHuoQoj2usQ1eiEB5+v13Rtx+eo6C/1wjzUi6IT0hDq/boxzx5n3yKV6PeagDg0GhPRSoGwZXboTgyk/myBciDDHEtgBBMAVzhQIOfmDf/BZp/pTDkQ4yLKB1BfiBK6y/+/OrufITccUPlBeBNqyD+ONHB/aqvwF8innwv6C4hmuAIEk4NAEwgUawrewiMQK8LfpDCGtoBH2CiQeMr2soPggSQAoUQYaghwMEwFbQP2Kag2vyH+0aQbXQru2aCGTYAwJaHsfbB/L5QHT4pRf0wYWgB34Qv8hBh14gg9hKgCXwBdMbABf8wZNwwor4hSyAKwYIg1/Qh+ezh/XrwSf0QoSoB3YII8XAh3PwBj9QMX7TgVJQK/8L/EKEiEKKyD8mwwA/YAbnG4ptUIcufMM+1A5+sKGZsgdsOAd52IQYkIkSgISdkMDr80M4dEOC+IZNAKmYaIFKSB8t1MOIe8RONIgw5IYpOQeCiIUjYLIL8AOfa4g49ERInEDXgoRDyyxRiId0CAfgyQd1eK5W5MWCaIdQtIdoI4hiWIMegwkr5C+IeMVeXMaHQIY8UKwEyIJf6KZnywd9cLde9MRCaQd+GLVm8IOdMgAkELLfaEY/ZMWHKIYwWLyXiAA6iI1uYIp9aC1ttEfzMghrgAQNJIAC8AH5o4h0fMNzZAhfQAJO8gB/MwhzCIpxWId6tMeIfIhY8AGYMLD/FoCERltFgfTBGJQIilSeFriEi6oHz+IHiJTIlHQIWygCJhOBRRQLgiRAj4yIWEgquhMFJlTJnTSId+AGcvAMYRgDuMIAQYjAyHNE7OPIeNuEQhKAAigCj+PJqbwIxAgKbrgWZGiD2JqAVOyISLS6pbzAWIwJjisrqkRLiwjDZ8PKegBHG3wJBogDFtxI31NKmcxHRMCAjRuDCXGHbuiGZUnLwYSIfjiHZxuHk7QGvSxLM0jGFpQ85Tsd/mgI4EM45VjBAXCHcrCUdCDMz4QIb0AHxHxIfTw0aXzMuozMybu/hXjL1unK+miHcgAefGgHnQRNlYSH0ZxHepjEFogJ/wOogrOMybo4vdZUiGbIA2OED6Osh3YgLqG4ByLCzdzcSX9IB2vExgEoBURcniPwhYC0S5lDToRohjiILQ9AhJ2YTYchIuuEz8PiENjLK3VAD1e4yZcoAPBErvJcNv80CGRAT/GCyV+szW6ot/hU0LJxPuDRw+ugSB8rgnJcCLCksDVDhjSILRGwhMJgB2CcFgRd0BGNiObrsvRKh+uwhRR8CQL4AQp1Re37L3B7xthSRMgAxEZCBysj0R51iPQbivVDD4NkMh2wBdVMygvFNWRYg3Y0s09gI/8DHggSGB+10sOaB32YsnIolFs4gtZxURglCJq0NbHUythqASilh//4ujB0EMwrhVMNoYd5yEHyOAhf+FKLDAIxHVO85K6lFNDYUoGczFL1S4c3jdNEbYgSRAeeudM8bdE9vRELXSmCbAY6EFQoJQhyCNIUVdRPXb6CbMkW3c8ljFFKnSeOVE7mfFIQqQcpeVBQlVWO8IVR1U8kIM5THc/uOjFwvKyXMIFNSAh+KAf7RMlZRVaJ8AUWFQADWILqOwgyhSyBXMzLFICX1Eh8TNZtlQh6SAd0SJtabR1nhdY+FUuNasZqFa9KYERudVeT4AfFICJ6sAUeKEsx2JgYlMFKXUZ9TEMPgMB3FViTcAetMQeIscmybIN8lVZ09a56uASlg4/19Ab/xRnYi82IzXSgcnAUV/BOfmOAPMAffTWxZRQF7oGJCTDKfkAHS9kmjIVZinAHc9hYzygF4ISJCPCDdi0IP1WjZYyF8BIABmiDZjDMhrmHtInZpZ2IdzAHrQHKy0NZA+tKnm1Cnz2hZZQFHTCwuJyDZniHbtAabvAzpjXbiAjbsW2HbKiEf83Inm0XGb213apVi+E4ZEjbocDKs+XbiWBZrUlMf40JEdiE7KBMc22XSPIYPCmGJbAY4SyGsHUgsu3byvXblgUeh6QGQfhVAWgBgEwIAJ1byaNMZGDH7xSGmd3YM7Lc1pUIf+BNoRCHdVDO2DLSwtnV89nVZpgDJ/WB/1vYTK3h2F103eJ9sOzMK31ABjPoEwIogvAM3dwtHaBbTLgUgBhwBeh0T6U13u6NCOxkS3oohizYHKgsBrURXaUZz29ohJ1SgVIwUOlE0Or0Xr7dkFqMvSr9hSMoyzTIPblFl+uph084NA+4hA9tpHNI0PplYIhIn3G4JIO4BXs9Rq+E2/RVl8fyWNdBBGrgVMLi0QYWYadSG1fAWX67AESoEVSVk6Lyhcw7xj2oD3fYkgAc4RueoE04NMIdCKwduAJpXLs1A1Shh2FBhyrF4SRGifa1RIBk4Waim2ZIgz4xX/pV4itWCEmRhAdQDQPTAfB54gApEGvwg9j6AVPF4v805gl/iA58QIdAsJgCWIIJCWP/CI5vgISdwl5wUuM+5gh4yJJ7uIYyhII+SQD/PRoA/o8CGQUNdEBTQGI/lmSNaIdA9Dp86Abpy1nnTFIbCQ5bEFoM4IWlyIdjneRTPiwEHsRrmE4cmLuXwIBK+IZOFmO6CGIzkYBOWBR84ERU9mWK+EUE/DVdSIICMBPCrWPHGgtkGEqYqIBOsLagyAd2sOJfVmNu/OB7wAd80IUX6JMvpmXfoAsyHqZnjo5iyUXiteZ1ngiNlU5d2AEzkeNiCOfeI4l6yGNnjoRotgdx0Ad1ZueAlk/NpFnFuIddeAEzSYA1YBIMlg26WAWUFYD/DYiE4mvIhxTojMYIyR2KXdiBTbYGhwaqsZhgM9mAQQBcjNbolb6pgeBooaCFHTBmAfAATUhk43yisSiGKpgXEKCEsf08lhZqi8hbQaQFsXuJFogFkba/kDjPxQMBTHAgoDTlobbqhjjamboHT5CA1gmCX2BqKCSJ6n0JEAiFmtXWq1Zr3RkIwwSHbYCHZmjSFQsDZJDetRgLAn6JAwiFxBjetQZsjJgHTAriCk6g1WSLsQDleSGAL2iYg03rwJZsinhhDr5pPIHBkRAGUzSTBxAEd1iKeZ3s0TaJUiiBmFABBcPpzHZq5oWJBBiD2IAHb4hs0rZtiWDfCzgAEBA7/x9YwtV2ipGwBkFoJ+ct19tGbo5ohl3Ah2H4ggO4W+B2NI8QhTRU6mpO7uwmiBO1B2d47gVg6MSd7n8AZQKgM5ouXO1Wb5NghxMFCme4gwPAAEi47PnziGI4ggN4glywh0EwyvUGcI4o1KGA7wpIbekuTrlOgCcYBktpigCH8IxgIzolH6FwhkGoAN8W7+Ks3i9o8GIJh/KL8BHPiBIcwmu48Aqo6w2HTFcwAQ+XqfVDVBKn8ZsSQ+DBBkbYgD047K+0BRyAcRTlwxon8olQ5ZkaAEp4AZvGbEgsBij4AmfAhmLZBk8t8ivPiGBWDGyghCS4rn01iH9ohje4A2fAh6fi20TsxvIah85iwQZswAQoEAZ62Nd/qAdJGAQzL5Zq2M419/ON0F6hGABMIIMRohUgMIVIILYBCIpqUOk/h3RKLgd0G4A7eAA/OAODQAGCaPSTjPRP14gN2cxfewIByIABuIaD+Dp2OEpQd/WKuLt3aAUMoAAhQAgZKIQBcIJX5/WMaIImcIJTHwaDSIRE6PVjxwhFUARHcARlVwQwMPaBQfZp34iAAAA7\" />"
      ],
      "text/plain": [
       "Plots.AnimatedGif(\"/home/daniel/Workspace/metodos-numericos/imagens/solucao_exata_vs_aproximada.gif\")"
      ]
     },
     "metadata": {},
     "output_type": "display_data"
    }
   ],
   "source": [
    "example = 2\n",
    "case = 1\n",
    "\n",
    "show_solution(example, case)"
   ]
  },
  {
   "cell_type": "markdown",
   "metadata": {},
   "source": [
    "### Estudo de convergência do erro."
   ]
  },
  {
   "cell_type": "code",
   "execution_count": 95,
   "metadata": {},
   "outputs": [
    {
     "data": {
      "text/plain": [
       "show_error (generic function with 1 method)"
      ]
     },
     "metadata": {},
     "output_type": "display_data"
    }
   ],
   "source": [
    "function calcule_error(example::Int, case::Int)\n",
    "    T, alfa, beta, f, u0, u = dados_de_entrada(example)\n",
    "\n",
    "    vec_ne = [2^i for i = 2:11]\n",
    "    vec_h = 1.0 ./ vec_ne\n",
    "    vec_tau = vec_h\n",
    "    vec_erros = zeros(length(vec_ne))\n",
    "\n",
    "    npg = 5\n",
    "    for i = 1:length(vec_ne)\n",
    "        ne = vec_ne[i]\n",
    "        h = vec_h[i]\n",
    "        tau = vec_tau[i]\n",
    "        t = 0:tau:T\n",
    "        N = length(t) - 1\n",
    "\n",
    "        LG = make_LG(ne)\n",
    "        m, EQ = make_EQ(ne)\n",
    "        EQoLG = EQ[LG]\n",
    "\n",
    "        M = make_K(0.0, 1.0, ne, m, EQoLG)\n",
    "        K = make_K(alfa, beta, ne, m, EQoLG)\n",
    "        P, W = legendre(npg)\n",
    "\n",
    "        A = M + (tau / 2) * K\n",
    "        B = M - (tau / 2) * K\n",
    "\n",
    "        LU_A = lu(A)\n",
    "\n",
    "        C_previus = zeros(m);  \n",
    "        C = zeros(m)\n",
    "\n",
    "        erros = zeros(N + 1)\n",
    "\n",
    "        calcule_C0(C_previus, u0, ne, m, EQoLG; C0_case=case)\n",
    "        erros[1] = erro_norma_L2(u0, [C_previus; 0], ne, EQoLG)\n",
    "\n",
    "        for n = 1:N\n",
    "            calcule_Cn(C, C_previus, LU_A, B, ne, m, EQoLG, tau, n, f)\n",
    "\n",
    "            C_previus .= C\n",
    "            erros[n+1] = erro_norma_L2(x -> u(x, t[n+1]), [C_previus; 0], ne, EQoLG)\n",
    "        end\n",
    "\n",
    "        vec_erros[i] = maximum(erros)\n",
    "    end\n",
    "\n",
    "    return vec_h, vec_erros\n",
    "end\n",
    "\n",
    "function show_error(vec_h, vec_erros, exemplo, case)\n",
    "    # Cria o gráfico do erro em função de h em escala logarítmica\n",
    "    plt = plot(\n",
    "        vec_h, vec_erros, lw=3, linestyle=:solid, markershape=:circle,\n",
    "        label=\"Erro\", title=\"Estudo do erro - exemplo $exemplo - case = $case\",\n",
    "        xscale=:log10, yscale=:log10, legend=:topleft\n",
    "    )\n",
    "\n",
    "    # Adiciona a curva teórica de h² ao gráfico\n",
    "    plot!(plt, vec_h, vec_h .^ 2, lw=3, linestyle=:solid, label=\"h²\")\n",
    "\n",
    "    # Adiciona rótulos aos eixos\n",
    "    xlabel!(\"h\")\n",
    "    ylabel!(\"Erro\")\n",
    "\n",
    "    # Exibe o gráfico\n",
    "    display(plt)\n",
    "\n",
    "    # Exibe a tabela com os valores de h e erro\n",
    "    display(\"Tabela com os valores de h e erro - exemplo \" * string(exemplo) * \" - caso_C⁰ = \" * string(case))\n",
    "    display(DataFrame(h=vec_h, erro=vec_erros))\n",
    "end"
   ]
  },
  {
   "cell_type": "code",
   "execution_count": 96,
   "metadata": {},
   "outputs": [
    {
     "data": {
      "image/png": "[encoded data removed]",
      "image/svg+xml": [
       "<?xml version=\"1.0\" encoding=\"utf-8\"?>\n",
       "<svg xmlns=\"http://www.w3.org/2000/svg\" xmlns:xlink=\"http://www.w3.org/1999/xlink\" width=\"600\" height=\"400\" viewBox=\"0 0 2400 1600\">\n",
       "<defs>\n",
       "  <clipPath id=\"clip690\">\n",
       "    <rect x=\"0\" y=\"0\" width=\"2400\" height=\"1600\"/>\n",
       "  </clipPath>\n",
       "</defs>\n",
       "<path clip-path=\"url(#clip690)\" d=\"M0 1600 L2400 1600 L2400 0 L0 0  Z\" fill=\"#ffffff\" fill-rule=\"evenodd\" fill-opacity=\"1\"/>\n",
       "<defs>\n",
       "  <clipPath id=\"clip691\">\n",
       "    <rect x=\"480\" y=\"0\" width=\"1681\" height=\"1600\"/>\n",
       "  </clipPath>\n",
       "</defs>\n",
       "<path clip-path=\"url(#clip690)\" d=\"M252.764 1410.9 L2352.76 1410.9 L2352.76 123.472 L252.764 123.472  Z\" fill=\"#ffffff\" fill-rule=\"evenodd\" fill-opacity=\"1\"/>\n",
       "<defs>\n",
       "  <clipPath id=\"clip692\">\n",
       "    <rect x=\"252\" y=\"123\" width=\"2101\" height=\"1288\"/>\n",
       "  </clipPath>\n",
       "</defs>\n",
       "<polyline clip-path=\"url(#clip692)\" style=\"stroke:#000000; stroke-linecap:round; stroke-linejoin:round; stroke-width:2; stroke-opacity:0.1; fill:none\" points=\"539.854,1410.9 539.854,123.472 \"/>\n",
       "<polyline clip-path=\"url(#clip692)\" style=\"stroke:#000000; stroke-linecap:round; stroke-linejoin:round; stroke-width:2; stroke-opacity:0.1; fill:none\" points=\"1271.09,1410.9 1271.09,123.472 \"/>\n",
       "<polyline clip-path=\"url(#clip692)\" style=\"stroke:#000000; stroke-linecap:round; stroke-linejoin:round; stroke-width:2; stroke-opacity:0.1; fill:none\" points=\"2002.33,1410.9 2002.33,123.472 \"/>\n",
       "<polyline clip-path=\"url(#clip690)\" style=\"stroke:#000000; stroke-linecap:round; stroke-linejoin:round; stroke-width:4; stroke-opacity:1; fill:none\" points=\"252.764,1410.9 2352.76,1410.9 \"/>\n",
       "<polyline clip-path=\"url(#clip690)\" style=\"stroke:#000000; stroke-linecap:round; stroke-linejoin:round; stroke-width:4; stroke-opacity:1; fill:none\" points=\"539.854,1410.9 539.854,1392 \"/>\n",
       "<polyline clip-path=\"url(#clip690)\" style=\"stroke:#000000; stroke-linecap:round; stroke-linejoin:round; stroke-width:4; stroke-opacity:1; fill:none\" points=\"1271.09,1410.9 1271.09,1392 \"/>\n",
       "<polyline clip-path=\"url(#clip690)\" style=\"stroke:#000000; stroke-linecap:round; stroke-linejoin:round; stroke-width:4; stroke-opacity:1; fill:none\" points=\"2002.33,1410.9 2002.33,1392 \"/>\n",
       "<path clip-path=\"url(#clip690)\" d=\"M489.735 1485.02 L497.373 1485.02 L497.373 1458.66 L489.063 1460.32 L489.063 1456.06 L497.327 1454.4 L502.003 1454.4 L502.003 1485.02 L509.642 1485.02 L509.642 1488.96 L489.735 1488.96 L489.735 1485.02 Z\" fill=\"#000000\" fill-rule=\"nonzero\" fill-opacity=\"1\" /><path clip-path=\"url(#clip690)\" d=\"M529.086 1457.48 Q525.475 1457.48 523.646 1461.04 Q521.841 1464.58 521.841 1471.71 Q521.841 1478.82 523.646 1482.38 Q525.475 1485.92 529.086 1485.92 Q532.72 1485.92 534.526 1482.38 Q536.355 1478.82 536.355 1471.71 Q536.355 1464.58 534.526 1461.04 Q532.72 1457.48 529.086 1457.48 M529.086 1453.77 Q534.896 1453.77 537.952 1458.38 Q541.031 1462.96 541.031 1471.71 Q541.031 1480.44 537.952 1485.04 Q534.896 1489.63 529.086 1489.63 Q523.276 1489.63 520.197 1485.04 Q517.142 1480.44 517.142 1471.71 Q517.142 1462.96 520.197 1458.38 Q523.276 1453.77 529.086 1453.77 Z\" fill=\"#000000\" fill-rule=\"nonzero\" fill-opacity=\"1\" /><path clip-path=\"url(#clip690)\" d=\"M541.031 1447.87 L565.142 1447.87 L565.142 1451.07 L541.031 1451.07 L541.031 1447.87 Z\" fill=\"#000000\" fill-rule=\"nonzero\" fill-opacity=\"1\" /><path clip-path=\"url(#clip690)\" d=\"M584.853 1446.41 Q587.58 1446.99 589.103 1448.83 Q590.645 1450.68 590.645 1453.38 Q590.645 1457.54 587.787 1459.82 Q584.928 1462.09 579.662 1462.09 Q577.894 1462.09 576.013 1461.73 Q574.151 1461.4 572.157 1460.7 L572.157 1457.03 Q573.737 1457.95 575.618 1458.42 Q577.499 1458.89 579.549 1458.89 Q583.122 1458.89 584.984 1457.48 Q586.865 1456.07 586.865 1453.38 Q586.865 1450.9 585.116 1449.51 Q583.386 1448.1 580.282 1448.1 L577.01 1448.1 L577.01 1444.98 L580.433 1444.98 Q583.235 1444.98 584.721 1443.87 Q586.207 1442.74 586.207 1440.63 Q586.207 1438.47 584.665 1437.32 Q583.141 1436.16 580.282 1436.16 Q578.721 1436.16 576.935 1436.49 Q575.148 1436.83 573.004 1437.55 L573.004 1434.16 Q575.167 1433.56 577.047 1433.26 Q578.947 1432.96 580.621 1432.96 Q584.947 1432.96 587.467 1434.93 Q589.987 1436.89 589.987 1440.24 Q589.987 1442.57 588.652 1444.19 Q587.316 1445.79 584.853 1446.41 Z\" fill=\"#000000\" fill-rule=\"nonzero\" fill-opacity=\"1\" /><path clip-path=\"url(#clip690)\" d=\"M1221.36 1485.02 L1229 1485.02 L1229 1458.66 L1220.69 1460.32 L1220.69 1456.06 L1228.95 1454.4 L1233.63 1454.4 L1233.63 1485.02 L1241.27 1485.02 L1241.27 1488.96 L1221.36 1488.96 L1221.36 1485.02 Z\" fill=\"#000000\" fill-rule=\"nonzero\" fill-opacity=\"1\" /><path clip-path=\"url(#clip690)\" d=\"M1260.71 1457.48 Q1257.1 1457.48 1255.27 1461.04 Q1253.47 1464.58 1253.47 1471.71 Q1253.47 1478.82 1255.27 1482.38 Q1257.1 1485.92 1260.71 1485.92 Q1264.35 1485.92 1266.15 1482.38 Q1267.98 1478.82 1267.98 1471.71 Q1267.98 1464.58 1266.15 1461.04 Q1264.35 1457.48 1260.71 1457.48 M1260.71 1453.77 Q1266.52 1453.77 1269.58 1458.38 Q1272.66 1462.96 1272.66 1471.71 Q1272.66 1480.44 1269.58 1485.04 Q1266.52 1489.63 1260.71 1489.63 Q1254.9 1489.63 1251.82 1485.04 Q1248.77 1480.44 1248.77 1471.71 Q1248.77 1462.96 1251.82 1458.38 Q1254.9 1453.77 1260.71 1453.77 Z\" fill=\"#000000\" fill-rule=\"nonzero\" fill-opacity=\"1\" /><path clip-path=\"url(#clip690)\" d=\"M1272.66 1447.87 L1296.77 1447.87 L1296.77 1451.07 L1272.66 1451.07 L1272.66 1447.87 Z\" fill=\"#000000\" fill-rule=\"nonzero\" fill-opacity=\"1\" /><path clip-path=\"url(#clip690)\" d=\"M1308.24 1458.35 L1321.5 1458.35 L1321.5 1461.55 L1303.67 1461.55 L1303.67 1458.35 Q1305.83 1456.11 1309.56 1452.35 Q1313.3 1448.57 1314.26 1447.48 Q1316.08 1445.43 1316.8 1444.02 Q1317.53 1442.59 1317.53 1441.22 Q1317.53 1438.98 1315.95 1437.57 Q1314.39 1436.16 1311.87 1436.16 Q1310.08 1436.16 1308.09 1436.78 Q1306.11 1437.4 1303.86 1438.66 L1303.86 1434.82 Q1306.15 1433.9 1308.15 1433.43 Q1310.14 1432.96 1311.79 1432.96 Q1316.16 1432.96 1318.75 1435.14 Q1321.35 1437.32 1321.35 1440.97 Q1321.35 1442.7 1320.69 1444.26 Q1320.05 1445.8 1318.34 1447.91 Q1317.87 1448.46 1315.35 1451.07 Q1312.83 1453.67 1308.24 1458.35 Z\" fill=\"#000000\" fill-rule=\"nonzero\" fill-opacity=\"1\" /><path clip-path=\"url(#clip690)\" d=\"M1952.45 1485.02 L1960.09 1485.02 L1960.09 1458.66 L1951.78 1460.32 L1951.78 1456.06 L1960.04 1454.4 L1964.72 1454.4 L1964.72 1485.02 L1972.36 1485.02 L1972.36 1488.96 L1952.45 1488.96 L1952.45 1485.02 Z\" fill=\"#000000\" fill-rule=\"nonzero\" fill-opacity=\"1\" /><path clip-path=\"url(#clip690)\" d=\"M1991.8 1457.48 Q1988.19 1457.48 1986.36 1461.04 Q1984.55 1464.58 1984.55 1471.71 Q1984.55 1478.82 1986.36 1482.38 Q1988.19 1485.92 1991.8 1485.92 Q1995.43 1485.92 1997.24 1482.38 Q1999.07 1478.82 1999.07 1471.71 Q1999.07 1464.58 1997.24 1461.04 Q1995.43 1457.48 1991.8 1457.48 M1991.8 1453.77 Q1997.61 1453.77 2000.67 1458.38 Q2003.74 1462.96 2003.74 1471.71 Q2003.74 1480.44 2000.67 1485.04 Q1997.61 1489.63 1991.8 1489.63 Q1985.99 1489.63 1982.91 1485.04 Q1979.86 1480.44 1979.86 1471.71 Q1979.86 1462.96 1982.91 1458.38 Q1985.99 1453.77 1991.8 1453.77 Z\" fill=\"#000000\" fill-rule=\"nonzero\" fill-opacity=\"1\" /><path clip-path=\"url(#clip690)\" d=\"M2003.74 1447.87 L2027.86 1447.87 L2027.86 1451.07 L2003.74 1451.07 L2003.74 1447.87 Z\" fill=\"#000000\" fill-rule=\"nonzero\" fill-opacity=\"1\" /><path clip-path=\"url(#clip690)\" d=\"M2036.71 1458.35 L2042.92 1458.35 L2042.92 1436.93 L2036.17 1438.28 L2036.17 1434.82 L2042.88 1433.47 L2046.68 1433.47 L2046.68 1458.35 L2052.89 1458.35 L2052.89 1461.55 L2036.71 1461.55 L2036.71 1458.35 Z\" fill=\"#000000\" fill-rule=\"nonzero\" fill-opacity=\"1\" /><path clip-path=\"url(#clip690)\" d=\"M1317.69 1552.67 L1317.69 1574.19 L1311.83 1574.19 L1311.83 1552.86 Q1311.83 1547.8 1309.86 1545.29 Q1307.88 1542.77 1303.94 1542.77 Q1299.2 1542.77 1296.46 1545.79 Q1293.72 1548.82 1293.72 1554.04 L1293.72 1574.19 L1287.83 1574.19 L1287.83 1524.66 L1293.72 1524.66 L1293.72 1544.08 Q1295.82 1540.86 1298.65 1539.27 Q1301.52 1537.68 1305.24 1537.68 Q1311.39 1537.68 1314.54 1541.5 Q1317.69 1545.29 1317.69 1552.67 Z\" fill=\"#000000\" fill-rule=\"nonzero\" fill-opacity=\"1\" /><polyline clip-path=\"url(#clip692)\" style=\"stroke:#000000; stroke-linecap:round; stroke-linejoin:round; stroke-width:2; stroke-opacity:0.1; fill:none\" points=\"252.764,1234.89 2352.76,1234.89 \"/>\n",
       "<polyline clip-path=\"url(#clip692)\" style=\"stroke:#000000; stroke-linecap:round; stroke-linejoin:round; stroke-width:2; stroke-opacity:0.1; fill:none\" points=\"252.764,1010.75 2352.76,1010.75 \"/>\n",
       "<polyline clip-path=\"url(#clip692)\" style=\"stroke:#000000; stroke-linecap:round; stroke-linejoin:round; stroke-width:2; stroke-opacity:0.1; fill:none\" points=\"252.764,786.598 2352.76,786.598 \"/>\n",
       "<polyline clip-path=\"url(#clip692)\" style=\"stroke:#000000; stroke-linecap:round; stroke-linejoin:round; stroke-width:2; stroke-opacity:0.1; fill:none\" points=\"252.764,562.45 2352.76,562.45 \"/>\n",
       "<polyline clip-path=\"url(#clip692)\" style=\"stroke:#000000; stroke-linecap:round; stroke-linejoin:round; stroke-width:2; stroke-opacity:0.1; fill:none\" points=\"252.764,338.303 2352.76,338.303 \"/>\n",
       "<polyline clip-path=\"url(#clip690)\" style=\"stroke:#000000; stroke-linecap:round; stroke-linejoin:round; stroke-width:4; stroke-opacity:1; fill:none\" points=\"252.764,1410.9 252.764,123.472 \"/>\n",
       "<polyline clip-path=\"url(#clip690)\" style=\"stroke:#000000; stroke-linecap:round; stroke-linejoin:round; stroke-width:4; stroke-opacity:1; fill:none\" points=\"252.764,1234.89 271.662,1234.89 \"/>\n",
       "<polyline clip-path=\"url(#clip690)\" style=\"stroke:#000000; stroke-linecap:round; stroke-linejoin:round; stroke-width:4; stroke-opacity:1; fill:none\" points=\"252.764,1010.75 271.662,1010.75 \"/>\n",
       "<polyline clip-path=\"url(#clip690)\" style=\"stroke:#000000; stroke-linecap:round; stroke-linejoin:round; stroke-width:4; stroke-opacity:1; fill:none\" points=\"252.764,786.598 271.662,786.598 \"/>\n",
       "<polyline clip-path=\"url(#clip690)\" style=\"stroke:#000000; stroke-linecap:round; stroke-linejoin:round; stroke-width:4; stroke-opacity:1; fill:none\" points=\"252.764,562.45 271.662,562.45 \"/>\n",
       "<polyline clip-path=\"url(#clip690)\" style=\"stroke:#000000; stroke-linecap:round; stroke-linejoin:round; stroke-width:4; stroke-opacity:1; fill:none\" points=\"252.764,338.303 271.662,338.303 \"/>\n",
       "<path clip-path=\"url(#clip690)\" d=\"M115.195 1254.68 L122.834 1254.68 L122.834 1228.32 L114.523 1229.99 L114.523 1225.73 L122.787 1224.06 L127.463 1224.06 L127.463 1254.68 L135.102 1254.68 L135.102 1258.62 L115.195 1258.62 L115.195 1254.68 Z\" fill=\"#000000\" fill-rule=\"nonzero\" fill-opacity=\"1\" /><path clip-path=\"url(#clip690)\" d=\"M154.546 1227.14 Q150.935 1227.14 149.107 1230.7 Q147.301 1234.25 147.301 1241.37 Q147.301 1248.48 149.107 1252.05 Q150.935 1255.59 154.546 1255.59 Q158.181 1255.59 159.986 1252.05 Q161.815 1248.48 161.815 1241.37 Q161.815 1234.25 159.986 1230.7 Q158.181 1227.14 154.546 1227.14 M154.546 1223.44 Q160.357 1223.44 163.412 1228.04 Q166.491 1232.62 166.491 1241.37 Q166.491 1250.1 163.412 1254.71 Q160.357 1259.29 154.546 1259.29 Q148.736 1259.29 145.658 1254.71 Q142.602 1250.1 142.602 1241.37 Q142.602 1232.62 145.658 1228.04 Q148.736 1223.44 154.546 1223.44 Z\" fill=\"#000000\" fill-rule=\"nonzero\" fill-opacity=\"1\" /><path clip-path=\"url(#clip690)\" d=\"M166.491 1217.54 L190.602 1217.54 L190.602 1220.73 L166.491 1220.73 L166.491 1217.54 Z\" fill=\"#000000\" fill-rule=\"nonzero\" fill-opacity=\"1\" /><path clip-path=\"url(#clip690)\" d=\"M207.398 1215.66 Q204.84 1215.66 203.335 1217.4 Q201.849 1219.15 201.849 1222.2 Q201.849 1225.23 203.335 1227 Q204.84 1228.75 207.398 1228.75 Q209.956 1228.75 211.441 1227 Q212.946 1225.23 212.946 1222.2 Q212.946 1219.15 211.441 1217.4 Q209.956 1215.66 207.398 1215.66 M214.94 1203.75 L214.94 1207.21 Q213.51 1206.53 212.043 1206.18 Q210.595 1205.82 209.166 1205.82 Q205.404 1205.82 203.41 1208.36 Q201.436 1210.9 201.153 1216.03 Q202.263 1214.4 203.937 1213.53 Q205.611 1212.65 207.623 1212.65 Q211.855 1212.65 214.3 1215.22 Q216.764 1217.78 216.764 1222.2 Q216.764 1226.53 214.206 1229.14 Q211.648 1231.76 207.398 1231.76 Q202.526 1231.76 199.95 1228.03 Q197.373 1224.29 197.373 1217.2 Q197.373 1210.54 200.533 1206.59 Q203.693 1202.62 209.015 1202.62 Q210.445 1202.62 211.893 1202.9 Q213.36 1203.19 214.94 1203.75 Z\" fill=\"#000000\" fill-rule=\"nonzero\" fill-opacity=\"1\" /><path clip-path=\"url(#clip690)\" d=\"M116.135 1030.54 L123.774 1030.54 L123.774 1004.17 L115.464 1005.84 L115.464 1001.58 L123.728 999.913 L128.404 999.913 L128.404 1030.54 L136.042 1030.54 L136.042 1034.47 L116.135 1034.47 L116.135 1030.54 Z\" fill=\"#000000\" fill-rule=\"nonzero\" fill-opacity=\"1\" /><path clip-path=\"url(#clip690)\" d=\"M155.487 1002.99 Q151.876 1002.99 150.047 1006.56 Q148.241 1010.1 148.241 1017.23 Q148.241 1024.33 150.047 1027.9 Q151.876 1031.44 155.487 1031.44 Q159.121 1031.44 160.927 1027.9 Q162.755 1024.33 162.755 1017.23 Q162.755 1010.1 160.927 1006.56 Q159.121 1002.99 155.487 1002.99 M155.487 999.288 Q161.297 999.288 164.352 1003.89 Q167.431 1008.48 167.431 1017.23 Q167.431 1025.95 164.352 1030.56 Q161.297 1035.14 155.487 1035.14 Q149.677 1035.14 146.598 1030.56 Q143.542 1025.95 143.542 1017.23 Q143.542 1008.48 146.598 1003.89 Q149.677 999.288 155.487 999.288 Z\" fill=\"#000000\" fill-rule=\"nonzero\" fill-opacity=\"1\" /><path clip-path=\"url(#clip690)\" d=\"M167.431 993.389 L191.543 993.389 L191.543 996.586 L167.431 996.586 L167.431 993.389 Z\" fill=\"#000000\" fill-rule=\"nonzero\" fill-opacity=\"1\" /><path clip-path=\"url(#clip690)\" d=\"M199.781 978.982 L214.695 978.982 L214.695 982.18 L203.26 982.18 L203.26 989.063 Q204.088 988.781 204.915 988.65 Q205.743 988.499 206.57 988.499 Q211.272 988.499 214.018 991.076 Q216.764 993.652 216.764 998.053 Q216.764 1002.59 213.943 1005.11 Q211.122 1007.61 205.987 1007.61 Q204.219 1007.61 202.376 1007.31 Q200.552 1007.01 198.596 1006.4 L198.596 1002.59 Q200.288 1003.51 202.094 1003.96 Q203.899 1004.41 205.912 1004.41 Q209.166 1004.41 211.065 1002.7 Q212.965 1000.99 212.965 998.053 Q212.965 995.119 211.065 993.408 Q209.166 991.696 205.912 991.696 Q204.388 991.696 202.865 992.035 Q201.36 992.373 199.781 993.088 L199.781 978.982 Z\" fill=\"#000000\" fill-rule=\"nonzero\" fill-opacity=\"1\" /><path clip-path=\"url(#clip690)\" d=\"M114.931 806.39 L122.57 806.39 L122.57 780.025 L114.26 781.691 L114.26 777.432 L122.524 775.765 L127.2 775.765 L127.2 806.39 L134.839 806.39 L134.839 810.325 L114.931 810.325 L114.931 806.39 Z\" fill=\"#000000\" fill-rule=\"nonzero\" fill-opacity=\"1\" /><path clip-path=\"url(#clip690)\" d=\"M154.283 778.844 Q150.672 778.844 148.843 782.409 Q147.038 785.951 147.038 793.08 Q147.038 800.187 148.843 803.751 Q150.672 807.293 154.283 807.293 Q157.917 807.293 159.723 803.751 Q161.552 800.187 161.552 793.08 Q161.552 785.951 159.723 782.409 Q157.917 778.844 154.283 778.844 M154.283 775.14 Q160.093 775.14 163.149 779.747 Q166.227 784.33 166.227 793.08 Q166.227 801.807 163.149 806.413 Q160.093 810.997 154.283 810.997 Q148.473 810.997 145.394 806.413 Q142.339 801.807 142.339 793.08 Q142.339 784.33 145.394 779.747 Q148.473 775.14 154.283 775.14 Z\" fill=\"#000000\" fill-rule=\"nonzero\" fill-opacity=\"1\" /><path clip-path=\"url(#clip690)\" d=\"M166.227 769.242 L190.339 769.242 L190.339 772.439 L166.227 772.439 L166.227 769.242 Z\" fill=\"#000000\" fill-rule=\"nonzero\" fill-opacity=\"1\" /><path clip-path=\"url(#clip690)\" d=\"M208.978 758.145 L199.386 773.135 L208.978 773.135 L208.978 758.145 M207.981 754.835 L212.758 754.835 L212.758 773.135 L216.764 773.135 L216.764 776.295 L212.758 776.295 L212.758 782.915 L208.978 782.915 L208.978 776.295 L196.301 776.295 L196.301 772.627 L207.981 754.835 Z\" fill=\"#000000\" fill-rule=\"nonzero\" fill-opacity=\"1\" /><path clip-path=\"url(#clip690)\" d=\"M115.853 582.243 L123.492 582.243 L123.492 555.877 L115.182 557.544 L115.182 553.285 L123.446 551.618 L128.121 551.618 L128.121 582.243 L135.76 582.243 L135.76 586.178 L115.853 586.178 L115.853 582.243 Z\" fill=\"#000000\" fill-rule=\"nonzero\" fill-opacity=\"1\" /><path clip-path=\"url(#clip690)\" d=\"M155.205 554.697 Q151.594 554.697 149.765 558.262 Q147.959 561.803 147.959 568.933 Q147.959 576.039 149.765 579.604 Q151.594 583.146 155.205 583.146 Q158.839 583.146 160.644 579.604 Q162.473 576.039 162.473 568.933 Q162.473 561.803 160.644 558.262 Q158.839 554.697 155.205 554.697 M155.205 550.993 Q161.015 550.993 164.07 555.599 Q167.149 560.183 167.149 568.933 Q167.149 577.66 164.07 582.266 Q161.015 586.849 155.205 586.849 Q149.395 586.849 146.316 582.266 Q143.26 577.66 143.26 568.933 Q143.26 560.183 146.316 555.599 Q149.395 550.993 155.205 550.993 Z\" fill=\"#000000\" fill-rule=\"nonzero\" fill-opacity=\"1\" /><path clip-path=\"url(#clip690)\" d=\"M167.149 545.094 L191.261 545.094 L191.261 548.292 L167.149 548.292 L167.149 545.094 Z\" fill=\"#000000\" fill-rule=\"nonzero\" fill-opacity=\"1\" /><path clip-path=\"url(#clip690)\" d=\"M210.971 543.627 Q213.698 544.21 215.222 546.054 Q216.764 547.897 216.764 550.605 Q216.764 554.762 213.905 557.037 Q211.046 559.313 205.78 559.313 Q204.012 559.313 202.132 558.956 Q200.27 558.617 198.276 557.921 L198.276 554.254 Q199.856 555.175 201.737 555.646 Q203.617 556.116 205.667 556.116 Q209.241 556.116 211.103 554.705 Q212.984 553.295 212.984 550.605 Q212.984 548.122 211.234 546.731 Q209.504 545.32 206.401 545.32 L203.128 545.32 L203.128 542.198 L206.551 542.198 Q209.354 542.198 210.84 541.088 Q212.325 539.96 212.325 537.853 Q212.325 535.691 210.783 534.543 Q209.26 533.377 206.401 533.377 Q204.84 533.377 203.053 533.716 Q201.266 534.054 199.122 534.769 L199.122 531.384 Q201.285 530.782 203.166 530.481 Q205.066 530.18 206.739 530.18 Q211.065 530.18 213.585 532.155 Q216.106 534.111 216.106 537.458 Q216.106 539.791 214.77 541.408 Q213.435 543.007 210.971 543.627 Z\" fill=\"#000000\" fill-rule=\"nonzero\" fill-opacity=\"1\" /><path clip-path=\"url(#clip690)\" d=\"M116.624 358.096 L124.263 358.096 L124.263 331.73 L115.953 333.397 L115.953 329.137 L124.217 327.471 L128.893 327.471 L128.893 358.096 L136.531 358.096 L136.531 362.031 L116.624 362.031 L116.624 358.096 Z\" fill=\"#000000\" fill-rule=\"nonzero\" fill-opacity=\"1\" /><path clip-path=\"url(#clip690)\" d=\"M155.976 330.549 Q152.365 330.549 150.536 334.114 Q148.73 337.656 148.73 344.785 Q148.73 351.892 150.536 355.457 Q152.365 358.998 155.976 358.998 Q159.61 358.998 161.416 355.457 Q163.244 351.892 163.244 344.785 Q163.244 337.656 161.416 334.114 Q159.61 330.549 155.976 330.549 M155.976 326.846 Q161.786 326.846 164.841 331.452 Q167.92 336.035 167.92 344.785 Q167.92 353.512 164.841 358.119 Q161.786 362.702 155.976 362.702 Q150.166 362.702 147.087 358.119 Q144.031 353.512 144.031 344.785 Q144.031 336.035 147.087 331.452 Q150.166 326.846 155.976 326.846 Z\" fill=\"#000000\" fill-rule=\"nonzero\" fill-opacity=\"1\" /><path clip-path=\"url(#clip690)\" d=\"M167.92 320.947 L192.032 320.947 L192.032 324.144 L167.92 324.144 L167.92 320.947 Z\" fill=\"#000000\" fill-rule=\"nonzero\" fill-opacity=\"1\" /><path clip-path=\"url(#clip690)\" d=\"M203.504 331.423 L216.764 331.423 L216.764 334.62 L198.934 334.62 L198.934 331.423 Q201.097 329.185 204.821 325.423 Q208.564 321.643 209.523 320.552 Q211.347 318.502 212.062 317.091 Q212.796 315.662 212.796 314.289 Q212.796 312.051 211.216 310.64 Q209.655 309.23 207.134 309.23 Q205.348 309.23 203.354 309.85 Q201.379 310.471 199.122 311.731 L199.122 307.894 Q201.417 306.973 203.41 306.503 Q205.404 306.032 207.059 306.032 Q211.423 306.032 214.018 308.214 Q216.613 310.396 216.613 314.045 Q216.613 315.775 215.955 317.336 Q215.316 318.878 213.604 320.985 Q213.134 321.53 210.614 324.144 Q208.094 326.74 203.504 331.423 Z\" fill=\"#000000\" fill-rule=\"nonzero\" fill-opacity=\"1\" /><path clip-path=\"url(#clip690)\" d=\"M16.4842 828.247 L16.4842 798.201 L21.895 798.201 L21.895 821.818 L35.9632 821.818 L35.9632 799.188 L41.3741 799.188 L41.3741 821.818 L58.5933 821.818 L58.5933 797.628 L64.0042 797.628 L64.0042 828.247 L16.4842 828.247 Z\" fill=\"#000000\" fill-rule=\"nonzero\" fill-opacity=\"1\" /><path clip-path=\"url(#clip690)\" d=\"M33.8307 766.659 Q33.2578 767.646 33.0032 768.824 Q32.7167 769.969 32.7167 771.37 Q32.7167 776.335 35.9632 779.009 Q39.1779 781.65 45.2253 781.65 L64.0042 781.65 L64.0042 787.539 L28.3562 787.539 L28.3562 781.65 L33.8944 781.65 Q30.6479 779.804 29.0883 776.844 Q27.4968 773.884 27.4968 769.651 Q27.4968 769.046 27.5923 768.314 Q27.656 767.582 27.8151 766.691 L33.8307 766.659 Z\" fill=\"#000000\" fill-rule=\"nonzero\" fill-opacity=\"1\" /><path clip-path=\"url(#clip690)\" d=\"M33.8307 741.005 Q33.2578 741.992 33.0032 743.17 Q32.7167 744.316 32.7167 745.716 Q32.7167 750.681 35.9632 753.355 Q39.1779 755.997 45.2253 755.997 L64.0042 755.997 L64.0042 761.885 L28.3562 761.885 L28.3562 755.997 L33.8944 755.997 Q30.6479 754.151 29.0883 751.191 Q27.4968 748.23 27.4968 743.997 Q27.4968 743.393 27.5923 742.66 Q27.656 741.928 27.8151 741.037 L33.8307 741.005 Z\" fill=\"#000000\" fill-rule=\"nonzero\" fill-opacity=\"1\" /><path clip-path=\"url(#clip690)\" d=\"M32.4621 722.481 Q32.4621 727.192 36.1542 729.929 Q39.8145 732.666 46.212 732.666 Q52.6095 732.666 56.3017 729.961 Q59.9619 727.224 59.9619 722.481 Q59.9619 717.802 56.2698 715.065 Q52.5777 712.328 46.212 712.328 Q39.8781 712.328 36.186 715.065 Q32.4621 717.802 32.4621 722.481 M27.4968 722.481 Q27.4968 714.842 32.4621 710.482 Q37.4273 706.121 46.212 706.121 Q54.9649 706.121 59.9619 710.482 Q64.9272 714.842 64.9272 722.481 Q64.9272 730.152 59.9619 734.512 Q54.9649 738.841 46.212 738.841 Q37.4273 738.841 32.4621 734.512 Q27.4968 730.152 27.4968 722.481 Z\" fill=\"#000000\" fill-rule=\"nonzero\" fill-opacity=\"1\" /><path clip-path=\"url(#clip690)\" d=\"M524.764 12.096 L563.004 12.096 L563.004 18.9825 L532.946 18.9825 L532.946 36.8875 L561.748 36.8875 L561.748 43.7741 L532.946 43.7741 L532.946 65.6895 L563.733 65.6895 L563.733 72.576 L524.764 72.576 L524.764 12.096 Z\" fill=\"#000000\" fill-rule=\"nonzero\" fill-opacity=\"1\" /><path clip-path=\"url(#clip690)\" d=\"M605.782 28.5427 L605.782 35.5912 Q602.622 33.9709 599.219 33.1607 Q595.816 32.3505 592.171 32.3505 Q586.621 32.3505 583.826 34.0519 Q581.071 35.7533 581.071 39.156 Q581.071 41.7486 583.056 43.2475 Q585.041 44.7058 591.036 46.0426 L593.588 46.6097 Q601.528 48.3111 604.85 51.4303 Q608.212 54.509 608.212 60.0587 Q608.212 66.3781 603.189 70.0644 Q598.206 73.7508 589.456 73.7508 Q585.811 73.7508 581.841 73.0216 Q577.911 72.3329 573.536 70.9151 L573.536 63.2184 Q577.668 65.3654 581.679 66.4591 Q585.689 67.5124 589.618 67.5124 Q594.885 67.5124 597.72 65.73 Q600.556 63.9071 600.556 60.6258 Q600.556 57.5877 598.49 55.9673 Q596.465 54.3469 589.537 52.8481 L586.945 52.2405 Q580.018 50.7821 576.939 47.7845 Q573.86 44.7463 573.86 39.4801 Q573.86 33.0797 578.397 29.5959 Q582.935 26.1121 591.279 26.1121 Q595.411 26.1121 599.057 26.7198 Q602.703 27.3274 605.782 28.5427 Z\" fill=\"#000000\" fill-rule=\"nonzero\" fill-opacity=\"1\" /><path clip-path=\"url(#clip690)\" d=\"M627.454 14.324 L627.454 27.2059 L642.807 27.2059 L642.807 32.9987 L627.454 32.9987 L627.454 57.6282 Q627.454 63.1779 628.953 64.7578 Q630.492 66.3376 635.151 66.3376 L642.807 66.3376 L642.807 72.576 L635.151 72.576 Q626.522 72.576 623.241 69.3758 Q619.96 66.1351 619.96 57.6282 L619.96 32.9987 L614.491 32.9987 L614.491 27.2059 L619.96 27.2059 L619.96 14.324 L627.454 14.324 Z\" fill=\"#000000\" fill-rule=\"nonzero\" fill-opacity=\"1\" /><path clip-path=\"url(#clip690)\" d=\"M651.84 54.671 L651.84 27.2059 L659.294 27.2059 L659.294 54.3874 Q659.294 60.8284 661.806 64.0691 Q664.317 67.2693 669.34 67.2693 Q675.376 67.2693 678.86 63.421 Q682.384 59.5726 682.384 52.9291 L682.384 27.2059 L689.838 27.2059 L689.838 72.576 L682.384 72.576 L682.384 65.6084 Q679.67 69.7404 676.065 71.7658 Q672.5 73.7508 667.76 73.7508 Q659.942 73.7508 655.891 68.8897 Q651.84 64.0286 651.84 54.671 M670.596 26.1121 L670.596 26.1121 Z\" fill=\"#000000\" fill-rule=\"nonzero\" fill-opacity=\"1\" /><path clip-path=\"url(#clip690)\" d=\"M735.046 34.0924 L735.046 9.54393 L742.5 9.54393 L742.5 72.576 L735.046 72.576 L735.046 65.7705 Q732.696 69.8214 729.091 71.8063 Q725.526 73.7508 720.503 73.7508 Q712.28 73.7508 707.095 67.1883 Q701.95 60.6258 701.95 49.9314 Q701.95 39.2371 707.095 32.6746 Q712.28 26.1121 720.503 26.1121 Q725.526 26.1121 729.091 28.0971 Q732.696 30.0415 735.046 34.0924 M709.647 49.9314 Q709.647 58.1548 713.009 62.8538 Q716.412 67.5124 722.326 67.5124 Q728.24 67.5124 731.643 62.8538 Q735.046 58.1548 735.046 49.9314 Q735.046 41.7081 731.643 37.0496 Q728.24 32.3505 722.326 32.3505 Q716.412 32.3505 713.009 37.0496 Q709.647 41.7081 709.647 49.9314 Z\" fill=\"#000000\" fill-rule=\"nonzero\" fill-opacity=\"1\" /><path clip-path=\"url(#clip690)\" d=\"M775.433 32.4315 Q769.438 32.4315 765.954 37.1306 Q762.471 41.7891 762.471 49.9314 Q762.471 58.0738 765.914 62.7728 Q769.398 67.4314 775.433 67.4314 Q781.388 67.4314 784.872 62.7323 Q788.356 58.0333 788.356 49.9314 Q788.356 41.8701 784.872 37.1711 Q781.388 32.4315 775.433 32.4315 M775.433 26.1121 Q785.156 26.1121 790.705 32.4315 Q796.255 38.7509 796.255 49.9314 Q796.255 61.0714 790.705 67.4314 Q785.156 73.7508 775.433 73.7508 Q765.671 73.7508 760.121 67.4314 Q754.612 61.0714 754.612 49.9314 Q754.612 38.7509 760.121 32.4315 Q765.671 26.1121 775.433 26.1121 Z\" fill=\"#000000\" fill-rule=\"nonzero\" fill-opacity=\"1\" /><path clip-path=\"url(#clip690)\" d=\"M864.837 34.0924 L864.837 9.54393 L872.291 9.54393 L872.291 72.576 L864.837 72.576 L864.837 65.7705 Q862.487 69.8214 858.882 71.8063 Q855.317 73.7508 850.294 73.7508 Q842.071 73.7508 836.886 67.1883 Q831.741 60.6258 831.741 49.9314 Q831.741 39.2371 836.886 32.6746 Q842.071 26.1121 850.294 26.1121 Q855.317 26.1121 858.882 28.0971 Q862.487 30.0415 864.837 34.0924 M839.438 49.9314 Q839.438 58.1548 842.8 62.8538 Q846.203 67.5124 852.117 67.5124 Q858.031 67.5124 861.434 62.8538 Q864.837 58.1548 864.837 49.9314 Q864.837 41.7081 861.434 37.0496 Q858.031 32.3505 852.117 32.3505 Q846.203 32.3505 842.8 37.0496 Q839.438 41.7081 839.438 49.9314 Z\" fill=\"#000000\" fill-rule=\"nonzero\" fill-opacity=\"1\" /><path clip-path=\"url(#clip690)\" d=\"M905.224 32.4315 Q899.229 32.4315 895.745 37.1306 Q892.262 41.7891 892.262 49.9314 Q892.262 58.0738 895.705 62.7728 Q899.189 67.4314 905.224 67.4314 Q911.179 67.4314 914.663 62.7323 Q918.147 58.0333 918.147 49.9314 Q918.147 41.8701 914.663 37.1711 Q911.179 32.4315 905.224 32.4315 M905.224 26.1121 Q914.947 26.1121 920.496 32.4315 Q926.046 38.7509 926.046 49.9314 Q926.046 61.0714 920.496 67.4314 Q914.947 73.7508 905.224 73.7508 Q895.462 73.7508 889.912 67.4314 Q884.403 61.0714 884.403 49.9314 Q884.403 38.7509 889.912 32.4315 Q895.462 26.1121 905.224 26.1121 Z\" fill=\"#000000\" fill-rule=\"nonzero\" fill-opacity=\"1\" /><path clip-path=\"url(#clip690)\" d=\"M1003.58 48.0275 L1003.58 51.6733 L969.31 51.6733 Q969.796 59.3701 973.928 63.421 Q978.1 67.4314 985.513 67.4314 Q989.807 67.4314 993.818 66.3781 Q997.869 65.3249 1001.84 63.2184 L1001.84 70.267 Q997.828 71.9684 993.615 72.8596 Q989.402 73.7508 985.068 73.7508 Q974.211 73.7508 967.851 67.4314 Q961.532 61.1119 961.532 50.3365 Q961.532 39.1965 967.527 32.6746 Q973.563 26.1121 983.771 26.1121 Q992.927 26.1121 998.233 32.0264 Q1003.58 37.9003 1003.58 48.0275 M996.127 45.84 Q996.046 39.7232 992.683 36.0774 Q989.362 32.4315 983.852 32.4315 Q977.614 32.4315 973.847 35.9558 Q970.12 39.4801 969.553 45.8805 L996.127 45.84 Z\" fill=\"#000000\" fill-rule=\"nonzero\" fill-opacity=\"1\" /><path clip-path=\"url(#clip690)\" d=\"M1042.1 34.1734 Q1040.85 33.4443 1039.35 33.1202 Q1037.89 32.7556 1036.11 32.7556 Q1029.79 32.7556 1026.39 36.8875 Q1023.02 40.9789 1023.02 48.6757 L1023.02 72.576 L1015.53 72.576 L1015.53 27.2059 L1023.02 27.2059 L1023.02 34.2544 Q1025.37 30.1225 1029.14 28.1376 Q1032.91 26.1121 1038.3 26.1121 Q1039.07 26.1121 1040 26.2337 Q1040.93 26.3147 1042.06 26.5172 L1042.1 34.1734 Z\" fill=\"#000000\" fill-rule=\"nonzero\" fill-opacity=\"1\" /><path clip-path=\"url(#clip690)\" d=\"M1074.75 34.1734 Q1073.5 33.4443 1072 33.1202 Q1070.54 32.7556 1068.76 32.7556 Q1062.44 32.7556 1059.04 36.8875 Q1055.68 40.9789 1055.68 48.6757 L1055.68 72.576 L1048.18 72.576 L1048.18 27.2059 L1055.68 27.2059 L1055.68 34.2544 Q1058.02 30.1225 1061.79 28.1376 Q1065.56 26.1121 1070.95 26.1121 Q1071.72 26.1121 1072.65 26.2337 Q1073.58 26.3147 1074.71 26.5172 L1074.75 34.1734 Z\" fill=\"#000000\" fill-rule=\"nonzero\" fill-opacity=\"1\" /><path clip-path=\"url(#clip690)\" d=\"M1098.33 32.4315 Q1092.34 32.4315 1088.85 37.1306 Q1085.37 41.7891 1085.37 49.9314 Q1085.37 58.0738 1088.81 62.7728 Q1092.3 67.4314 1098.33 67.4314 Q1104.29 67.4314 1107.77 62.7323 Q1111.25 58.0333 1111.25 49.9314 Q1111.25 41.8701 1107.77 37.1711 Q1104.29 32.4315 1098.33 32.4315 M1098.33 26.1121 Q1108.05 26.1121 1113.6 32.4315 Q1119.15 38.7509 1119.15 49.9314 Q1119.15 61.0714 1113.6 67.4314 Q1108.05 73.7508 1098.33 73.7508 Q1088.57 73.7508 1083.02 67.4314 Q1077.51 61.0714 1077.51 49.9314 Q1077.51 38.7509 1083.02 32.4315 Q1088.57 26.1121 1098.33 26.1121 Z\" fill=\"#000000\" fill-rule=\"nonzero\" fill-opacity=\"1\" /><path clip-path=\"url(#clip690)\" d=\"M1154.11 46.5287 L1175.95 46.5287 L1175.95 53.1722 L1154.11 53.1722 L1154.11 46.5287 Z\" fill=\"#000000\" fill-rule=\"nonzero\" fill-opacity=\"1\" /><path clip-path=\"url(#clip690)\" d=\"M1252.99 48.0275 L1252.99 51.6733 L1218.72 51.6733 Q1219.21 59.3701 1223.34 63.421 Q1227.51 67.4314 1234.93 67.4314 Q1239.22 67.4314 1243.23 66.3781 Q1247.28 65.3249 1251.25 63.2184 L1251.25 70.267 Q1247.24 71.9684 1243.03 72.8596 Q1238.82 73.7508 1234.48 73.7508 Q1223.63 73.7508 1217.27 67.4314 Q1210.95 61.1119 1210.95 50.3365 Q1210.95 39.1965 1216.94 32.6746 Q1222.98 26.1121 1233.19 26.1121 Q1242.34 26.1121 1247.65 32.0264 Q1252.99 37.9003 1252.99 48.0275 M1245.54 45.84 Q1245.46 39.7232 1242.1 36.0774 Q1238.78 32.4315 1233.27 32.4315 Q1227.03 32.4315 1223.26 35.9558 Q1219.53 39.4801 1218.97 45.8805 L1245.54 45.84 Z\" fill=\"#000000\" fill-rule=\"nonzero\" fill-opacity=\"1\" /><path clip-path=\"url(#clip690)\" d=\"M1301.48 27.2059 L1285.08 49.2833 L1302.33 72.576 L1293.54 72.576 L1280.34 54.752 L1267.13 72.576 L1258.34 72.576 L1275.96 48.8377 L1259.84 27.2059 L1268.63 27.2059 L1280.66 43.369 L1292.69 27.2059 L1301.48 27.2059 Z\" fill=\"#000000\" fill-rule=\"nonzero\" fill-opacity=\"1\" /><path clip-path=\"url(#clip690)\" d=\"M1349.12 48.0275 L1349.12 51.6733 L1314.85 51.6733 Q1315.34 59.3701 1319.47 63.421 Q1323.64 67.4314 1331.06 67.4314 Q1335.35 67.4314 1339.36 66.3781 Q1343.41 65.3249 1347.38 63.2184 L1347.38 70.267 Q1343.37 71.9684 1339.16 72.8596 Q1334.94 73.7508 1330.61 73.7508 Q1319.75 73.7508 1313.39 67.4314 Q1307.07 61.1119 1307.07 50.3365 Q1307.07 39.1965 1313.07 32.6746 Q1319.11 26.1121 1329.31 26.1121 Q1338.47 26.1121 1343.78 32.0264 Q1349.12 37.9003 1349.12 48.0275 M1341.67 45.84 Q1341.59 39.7232 1338.23 36.0774 Q1334.9 32.4315 1329.39 32.4315 Q1323.16 32.4315 1319.39 35.9558 Q1315.66 39.4801 1315.09 45.8805 L1341.67 45.84 Z\" fill=\"#000000\" fill-rule=\"nonzero\" fill-opacity=\"1\" /><path clip-path=\"url(#clip690)\" d=\"M1396.68 35.9153 Q1399.48 30.8922 1403.36 28.5022 Q1407.25 26.1121 1412.52 26.1121 Q1419.61 26.1121 1423.46 31.0947 Q1427.3 36.0368 1427.3 45.1919 L1427.3 72.576 L1419.81 72.576 L1419.81 45.4349 Q1419.81 38.913 1417.5 35.7533 Q1415.19 32.5936 1410.45 32.5936 Q1404.66 32.5936 1401.3 36.4419 Q1397.94 40.2903 1397.94 46.9338 L1397.94 72.576 L1390.44 72.576 L1390.44 45.4349 Q1390.44 38.8725 1388.13 35.7533 Q1385.82 32.5936 1381 32.5936 Q1375.29 32.5936 1371.93 36.4824 Q1368.57 40.3308 1368.57 46.9338 L1368.57 72.576 L1361.07 72.576 L1361.07 27.2059 L1368.57 27.2059 L1368.57 34.2544 Q1371.12 30.082 1374.68 28.0971 Q1378.25 26.1121 1383.15 26.1121 Q1388.09 26.1121 1391.54 28.6237 Q1395.02 31.1352 1396.68 35.9153 Z\" fill=\"#000000\" fill-rule=\"nonzero\" fill-opacity=\"1\" /><path clip-path=\"url(#clip690)\" d=\"M1449.38 65.7705 L1449.38 89.8329 L1441.89 89.8329 L1441.89 27.2059 L1449.38 27.2059 L1449.38 34.0924 Q1451.73 30.0415 1455.3 28.0971 Q1458.9 26.1121 1463.88 26.1121 Q1472.15 26.1121 1477.29 32.6746 Q1482.48 39.2371 1482.48 49.9314 Q1482.48 60.6258 1477.29 67.1883 Q1472.15 73.7508 1463.88 73.7508 Q1458.9 73.7508 1455.3 71.8063 Q1451.73 69.8214 1449.38 65.7705 M1474.74 49.9314 Q1474.74 41.7081 1471.34 37.0496 Q1467.98 32.3505 1462.06 32.3505 Q1456.15 32.3505 1452.74 37.0496 Q1449.38 41.7081 1449.38 49.9314 Q1449.38 58.1548 1452.74 62.8538 Q1456.15 67.5124 1462.06 67.5124 Q1467.98 67.5124 1471.34 62.8538 Q1474.74 58.1548 1474.74 49.9314 Z\" fill=\"#000000\" fill-rule=\"nonzero\" fill-opacity=\"1\" /><path clip-path=\"url(#clip690)\" d=\"M1494.83 9.54393 L1502.29 9.54393 L1502.29 72.576 L1494.83 72.576 L1494.83 9.54393 Z\" fill=\"#000000\" fill-rule=\"nonzero\" fill-opacity=\"1\" /><path clip-path=\"url(#clip690)\" d=\"M1535.46 32.4315 Q1529.47 32.4315 1525.99 37.1306 Q1522.5 41.7891 1522.5 49.9314 Q1522.5 58.0738 1525.94 62.7728 Q1529.43 67.4314 1535.46 67.4314 Q1541.42 67.4314 1544.9 62.7323 Q1548.39 58.0333 1548.39 49.9314 Q1548.39 41.8701 1544.9 37.1711 Q1541.42 32.4315 1535.46 32.4315 M1535.46 26.1121 Q1545.19 26.1121 1550.74 32.4315 Q1556.29 38.7509 1556.29 49.9314 Q1556.29 61.0714 1550.74 67.4314 Q1545.19 73.7508 1535.46 73.7508 Q1525.7 73.7508 1520.15 67.4314 Q1514.64 61.0714 1514.64 49.9314 Q1514.64 38.7509 1520.15 32.4315 Q1525.7 26.1121 1535.46 26.1121 Z\" fill=\"#000000\" fill-rule=\"nonzero\" fill-opacity=\"1\" /><path clip-path=\"url(#clip690)\" d=\"M1603.11 65.6895 L1631.67 65.6895 L1631.67 72.576 L1593.27 72.576 L1593.27 65.6895 Q1597.93 60.8689 1605.95 52.7671 Q1614.01 44.6248 1616.08 42.2752 Q1620.01 37.8598 1621.55 34.8216 Q1623.13 31.7429 1623.13 28.7857 Q1623.13 23.9651 1619.72 20.927 Q1616.36 17.8888 1610.93 17.8888 Q1607.08 17.8888 1602.79 19.2256 Q1598.54 20.5624 1593.68 23.2765 L1593.68 15.0127 Q1598.62 13.0277 1602.91 12.015 Q1607.21 11.0023 1610.77 11.0023 Q1620.17 11.0023 1625.76 15.7013 Q1631.35 20.4004 1631.35 28.2591 Q1631.35 31.9859 1629.93 35.3482 Q1628.55 38.6699 1624.87 43.2069 Q1623.85 44.3817 1618.43 50.0125 Q1613 55.6027 1603.11 65.6895 Z\" fill=\"#000000\" fill-rule=\"nonzero\" fill-opacity=\"1\" /><path clip-path=\"url(#clip690)\" d=\"M1670.4 46.5287 L1692.23 46.5287 L1692.23 53.1722 L1670.4 53.1722 L1670.4 46.5287 Z\" fill=\"#000000\" fill-rule=\"nonzero\" fill-opacity=\"1\" /><path clip-path=\"url(#clip690)\" d=\"M1763.12 28.9478 L1763.12 35.9153 Q1759.97 34.1734 1756.77 33.3227 Q1753.61 32.4315 1750.36 32.4315 Q1743.11 32.4315 1739.1 37.0496 Q1735.09 41.6271 1735.09 49.9314 Q1735.09 58.2358 1739.1 62.8538 Q1743.11 67.4314 1750.36 67.4314 Q1753.61 67.4314 1756.77 66.5807 Q1759.97 65.6895 1763.12 63.9476 L1763.12 70.8341 Q1760.01 72.2924 1756.64 73.0216 Q1753.32 73.7508 1749.55 73.7508 Q1739.31 73.7508 1733.27 67.3098 Q1727.23 60.8689 1727.23 49.9314 Q1727.23 38.832 1733.31 32.472 Q1739.43 26.1121 1750.04 26.1121 Q1753.48 26.1121 1756.77 26.8413 Q1760.05 27.5299 1763.12 28.9478 Z\" fill=\"#000000\" fill-rule=\"nonzero\" fill-opacity=\"1\" /><path clip-path=\"url(#clip690)\" d=\"M1796.71 49.7694 Q1787.67 49.7694 1784.19 51.8354 Q1780.71 53.9013 1780.71 58.8839 Q1780.71 62.8538 1783.3 65.2034 Q1785.93 67.5124 1790.43 67.5124 Q1796.63 67.5124 1800.35 63.1374 Q1804.12 58.7219 1804.12 51.4303 L1804.12 49.7694 L1796.71 49.7694 M1811.57 46.6907 L1811.57 72.576 L1804.12 72.576 L1804.12 65.6895 Q1801.57 69.8214 1797.76 71.8063 Q1793.95 73.7508 1788.44 73.7508 Q1781.48 73.7508 1777.34 69.8619 Q1773.25 65.9325 1773.25 59.3701 Q1773.25 51.7138 1778.36 47.825 Q1783.5 43.9361 1793.67 43.9361 L1804.12 43.9361 L1804.12 43.2069 Q1804.12 38.0623 1800.72 35.2672 Q1797.36 32.4315 1791.24 32.4315 Q1787.35 32.4315 1783.66 33.3632 Q1779.98 34.295 1776.57 36.1584 L1776.57 29.2718 Q1780.67 27.692 1784.51 26.9223 Q1788.36 26.1121 1792.01 26.1121 Q1801.85 26.1121 1806.71 31.2163 Q1811.57 36.3204 1811.57 46.6907 Z\" fill=\"#000000\" fill-rule=\"nonzero\" fill-opacity=\"1\" /><path clip-path=\"url(#clip690)\" d=\"M1855.85 28.5427 L1855.85 35.5912 Q1852.69 33.9709 1849.29 33.1607 Q1845.88 32.3505 1842.24 32.3505 Q1836.69 32.3505 1833.89 34.0519 Q1831.14 35.7533 1831.14 39.156 Q1831.14 41.7486 1833.12 43.2475 Q1835.11 44.7058 1841.1 46.0426 L1843.66 46.6097 Q1851.6 48.3111 1854.92 51.4303 Q1858.28 54.509 1858.28 60.0587 Q1858.28 66.3781 1853.26 70.0644 Q1848.27 73.7508 1839.52 73.7508 Q1835.88 73.7508 1831.91 73.0216 Q1827.98 72.3329 1823.6 70.9151 L1823.6 63.2184 Q1827.74 65.3654 1831.75 66.4591 Q1835.76 67.5124 1839.69 67.5124 Q1844.95 67.5124 1847.79 65.73 Q1850.62 63.9071 1850.62 60.6258 Q1850.62 57.5877 1848.56 55.9673 Q1846.53 54.3469 1839.61 52.8481 L1837.01 52.2405 Q1830.09 50.7821 1827.01 47.7845 Q1823.93 44.7463 1823.93 39.4801 Q1823.93 33.0797 1828.47 29.5959 Q1833 26.1121 1841.35 26.1121 Q1845.48 26.1121 1849.13 26.7198 Q1852.77 27.3274 1855.85 28.5427 Z\" fill=\"#000000\" fill-rule=\"nonzero\" fill-opacity=\"1\" /><path clip-path=\"url(#clip690)\" d=\"M1908.96 48.0275 L1908.96 51.6733 L1874.69 51.6733 Q1875.17 59.3701 1879.3 63.421 Q1883.48 67.4314 1890.89 67.4314 Q1895.18 67.4314 1899.19 66.3781 Q1903.25 65.3249 1907.22 63.2184 L1907.22 70.267 Q1903.21 71.9684 1898.99 72.8596 Q1894.78 73.7508 1890.44 73.7508 Q1879.59 73.7508 1873.23 67.4314 Q1866.91 61.1119 1866.91 50.3365 Q1866.91 39.1965 1872.9 32.6746 Q1878.94 26.1121 1889.15 26.1121 Q1898.3 26.1121 1903.61 32.0264 Q1908.96 37.9003 1908.96 48.0275 M1901.5 45.84 Q1901.42 39.7232 1898.06 36.0774 Q1894.74 32.4315 1889.23 32.4315 Q1882.99 32.4315 1879.22 35.9558 Q1875.5 39.4801 1874.93 45.8805 L1901.5 45.84 Z\" fill=\"#000000\" fill-rule=\"nonzero\" fill-opacity=\"1\" /><path clip-path=\"url(#clip690)\" d=\"M1948.53 34.9026 L2000.47 34.9026 L2000.47 41.7081 L1948.53 41.7081 L1948.53 34.9026 M1948.53 51.4303 L2000.47 51.4303 L2000.47 58.3168 L1948.53 58.3168 L1948.53 51.4303 Z\" fill=\"#000000\" fill-rule=\"nonzero\" fill-opacity=\"1\" /><path clip-path=\"url(#clip690)\" d=\"M2045.92 65.6895 L2059.29 65.6895 L2059.29 19.5497 L2044.74 22.4663 L2044.74 15.0127 L2059.21 12.096 L2067.39 12.096 L2067.39 65.6895 L2080.76 65.6895 L2080.76 72.576 L2045.92 72.576 L2045.92 65.6895 Z\" fill=\"#000000\" fill-rule=\"nonzero\" fill-opacity=\"1\" /><polyline clip-path=\"url(#clip692)\" style=\"stroke:#009af9; stroke-linecap:round; stroke-linejoin:round; stroke-width:12; stroke-opacity:1; fill:none\" points=\"2293.32,426.188 2073.2,543.083 1853.07,660.602 1632.95,763.248 1412.82,853.629 1192.7,934.462 972.573,1009.19 752.448,1080.45 532.323,1149.86 312.198,1218.32 \"/>\n",
       "<circle clip-path=\"url(#clip692)\" cx=\"2293.32\" cy=\"426.188\" r=\"14.4\" fill=\"#009af9\" fill-rule=\"evenodd\" fill-opacity=\"1\" stroke=\"#000000\" stroke-opacity=\"1\" stroke-width=\"3.2\"/>\n",
       "<circle clip-path=\"url(#clip692)\" cx=\"2073.2\" cy=\"543.083\" r=\"14.4\" fill=\"#009af9\" fill-rule=\"evenodd\" fill-opacity=\"1\" stroke=\"#000000\" stroke-opacity=\"1\" stroke-width=\"3.2\"/>\n",
       "<circle clip-path=\"url(#clip692)\" cx=\"1853.07\" cy=\"660.602\" r=\"14.4\" fill=\"#009af9\" fill-rule=\"evenodd\" fill-opacity=\"1\" stroke=\"#000000\" stroke-opacity=\"1\" stroke-width=\"3.2\"/>\n",
       "<circle clip-path=\"url(#clip692)\" cx=\"1632.95\" cy=\"763.248\" r=\"14.4\" fill=\"#009af9\" fill-rule=\"evenodd\" fill-opacity=\"1\" stroke=\"#000000\" stroke-opacity=\"1\" stroke-width=\"3.2\"/>\n",
       "<circle clip-path=\"url(#clip692)\" cx=\"1412.82\" cy=\"853.629\" r=\"14.4\" fill=\"#009af9\" fill-rule=\"evenodd\" fill-opacity=\"1\" stroke=\"#000000\" stroke-opacity=\"1\" stroke-width=\"3.2\"/>\n",
       "<circle clip-path=\"url(#clip692)\" cx=\"1192.7\" cy=\"934.462\" r=\"14.4\" fill=\"#009af9\" fill-rule=\"evenodd\" fill-opacity=\"1\" stroke=\"#000000\" stroke-opacity=\"1\" stroke-width=\"3.2\"/>\n",
       "<circle clip-path=\"url(#clip692)\" cx=\"972.573\" cy=\"1009.19\" r=\"14.4\" fill=\"#009af9\" fill-rule=\"evenodd\" fill-opacity=\"1\" stroke=\"#000000\" stroke-opacity=\"1\" stroke-width=\"3.2\"/>\n",
       "<circle clip-path=\"url(#clip692)\" cx=\"752.448\" cy=\"1080.45\" r=\"14.4\" fill=\"#009af9\" fill-rule=\"evenodd\" fill-opacity=\"1\" stroke=\"#000000\" stroke-opacity=\"1\" stroke-width=\"3.2\"/>\n",
       "<circle clip-path=\"url(#clip692)\" cx=\"532.323\" cy=\"1149.86\" r=\"14.4\" fill=\"#009af9\" fill-rule=\"evenodd\" fill-opacity=\"1\" stroke=\"#000000\" stroke-opacity=\"1\" stroke-width=\"3.2\"/>\n",
       "<circle clip-path=\"url(#clip692)\" cx=\"312.198\" cy=\"1218.32\" r=\"14.4\" fill=\"#009af9\" fill-rule=\"evenodd\" fill-opacity=\"1\" stroke=\"#000000\" stroke-opacity=\"1\" stroke-width=\"3.2\"/>\n",
       "<polyline clip-path=\"url(#clip692)\" style=\"stroke:#e26f46; stroke-linecap:round; stroke-linejoin:round; stroke-width:12; stroke-opacity:1; fill:none\" points=\"2293.32,159.909 2073.2,294.859 1853.07,429.809 1632.95,564.759 1412.82,699.709 1192.7,834.659 972.573,969.61 752.448,1104.56 532.323,1239.51 312.198,1374.46 \"/>\n",
       "<path clip-path=\"url(#clip690)\" d=\"M322.764 321.906 L621.582 321.906 L621.582 166.386 L322.764 166.386  Z\" fill=\"#ffffff\" fill-rule=\"evenodd\" fill-opacity=\"1\"/>\n",
       "<polyline clip-path=\"url(#clip690)\" style=\"stroke:#000000; stroke-linecap:round; stroke-linejoin:round; stroke-width:4; stroke-opacity:1; fill:none\" points=\"322.764,321.906 621.582,321.906 621.582,166.386 322.764,166.386 322.764,321.906 \"/>\n",
       "<polyline clip-path=\"url(#clip690)\" style=\"stroke:#009af9; stroke-linecap:round; stroke-linejoin:round; stroke-width:12; stroke-opacity:1; fill:none\" points=\"346.097,218.226 486.096,218.226 \"/>\n",
       "<circle clip-path=\"url(#clip690)\" cx=\"416.097\" cy=\"218.226\" r=\"19.4444\" fill=\"#009af9\" fill-rule=\"evenodd\" fill-opacity=\"1\" stroke=\"#000000\" stroke-opacity=\"1\" stroke-width=\"4.55111\"/>\n",
       "<path clip-path=\"url(#clip690)\" d=\"M509.43 200.946 L531.281 200.946 L531.281 204.881 L514.106 204.881 L514.106 215.113 L530.564 215.113 L530.564 219.048 L514.106 219.048 L514.106 231.571 L531.698 231.571 L531.698 235.506 L509.43 235.506 L509.43 200.946 Z\" fill=\"#000000\" fill-rule=\"nonzero\" fill-opacity=\"1\" /><path clip-path=\"url(#clip690)\" d=\"M554.221 213.562 Q553.503 213.145 552.647 212.96 Q551.814 212.752 550.795 212.752 Q547.184 212.752 545.24 215.113 Q543.318 217.451 543.318 221.849 L543.318 235.506 L539.036 235.506 L539.036 209.58 L543.318 209.58 L543.318 213.608 Q544.661 211.247 546.814 210.113 Q548.966 208.955 552.045 208.955 Q552.485 208.955 553.017 209.025 Q553.55 209.071 554.198 209.187 L554.221 213.562 Z\" fill=\"#000000\" fill-rule=\"nonzero\" fill-opacity=\"1\" /><path clip-path=\"url(#clip690)\" d=\"M572.878 213.562 Q572.161 213.145 571.304 212.96 Q570.471 212.752 569.452 212.752 Q565.841 212.752 563.897 215.113 Q561.976 217.451 561.976 221.849 L561.976 235.506 L557.693 235.506 L557.693 209.58 L561.976 209.58 L561.976 213.608 Q563.318 211.247 565.471 210.113 Q567.624 208.955 570.702 208.955 Q571.142 208.955 571.675 209.025 Q572.207 209.071 572.855 209.187 L572.878 213.562 Z\" fill=\"#000000\" fill-rule=\"nonzero\" fill-opacity=\"1\" /><path clip-path=\"url(#clip690)\" d=\"M586.351 212.567 Q582.925 212.567 580.934 215.252 Q578.943 217.914 578.943 222.567 Q578.943 227.219 580.911 229.904 Q582.901 232.566 586.351 232.566 Q589.753 232.566 591.744 229.881 Q593.735 227.196 593.735 222.567 Q593.735 217.96 591.744 215.275 Q589.753 212.567 586.351 212.567 M586.351 208.955 Q591.906 208.955 595.077 212.567 Q598.249 216.178 598.249 222.567 Q598.249 228.932 595.077 232.566 Q591.906 236.178 586.351 236.178 Q580.772 236.178 577.601 232.566 Q574.452 228.932 574.452 222.567 Q574.452 216.178 577.601 212.567 Q580.772 208.955 586.351 208.955 Z\" fill=\"#000000\" fill-rule=\"nonzero\" fill-opacity=\"1\" /><polyline clip-path=\"url(#clip690)\" style=\"stroke:#e26f46; stroke-linecap:round; stroke-linejoin:round; stroke-width:12; stroke-opacity:1; fill:none\" points=\"346.097,270.066 486.096,270.066 \"/>\n",
       "<path clip-path=\"url(#clip690)\" d=\"M531.142 271.698 L531.142 287.346 L526.883 287.346 L526.883 271.837 Q526.883 268.157 525.448 266.328 Q524.013 264.499 521.143 264.499 Q517.693 264.499 515.703 266.698 Q513.712 268.897 513.712 272.694 L513.712 287.346 L509.43 287.346 L509.43 251.328 L513.712 251.328 L513.712 265.448 Q515.24 263.11 517.3 261.953 Q519.383 260.795 522.092 260.795 Q526.559 260.795 528.851 263.573 Q531.142 266.328 531.142 271.698 Z\" fill=\"#000000\" fill-rule=\"nonzero\" fill-opacity=\"1\" /><path clip-path=\"url(#clip690)\" d=\"M541.374 269.245 L551.189 269.245 L551.189 271.883 L537.346 271.883 L537.346 269.337 Q538.133 268.62 539.592 267.323 Q547.554 260.263 547.554 258.087 Q547.554 256.559 546.351 255.633 Q545.147 254.684 543.179 254.684 Q541.976 254.684 540.564 255.101 Q539.152 255.495 537.485 256.305 L537.485 253.458 Q539.267 252.809 540.795 252.485 Q542.346 252.161 543.666 252.161 Q547.022 252.161 549.036 253.689 Q551.05 255.217 551.05 257.717 Q551.05 260.934 543.388 267.508 Q542.091 268.62 541.374 269.245 Z\" fill=\"#000000\" fill-rule=\"nonzero\" fill-opacity=\"1\" /></svg>\n"
      ],
      "text/html": [
       "<?xml version=\"1.0\" encoding=\"utf-8\"?>\n",
       "<svg xmlns=\"http://www.w3.org/2000/svg\" xmlns:xlink=\"http://www.w3.org/1999/xlink\" width=\"600\" height=\"400\" viewBox=\"0 0 2400 1600\">\n",
       "<defs>\n",
       "  <clipPath id=\"clip740\">\n",
       "    <rect x=\"0\" y=\"0\" width=\"2400\" height=\"1600\"/>\n",
       "  </clipPath>\n",
       "</defs>\n",
       "<path clip-path=\"url(#clip740)\" d=\"M0 1600 L2400 1600 L2400 0 L0 0  Z\" fill=\"#ffffff\" fill-rule=\"evenodd\" fill-opacity=\"1\"/>\n",
       "<defs>\n",
       "  <clipPath id=\"clip741\">\n",
       "    <rect x=\"480\" y=\"0\" width=\"1681\" height=\"1600\"/>\n",
       "  </clipPath>\n",
       "</defs>\n",
       "<path clip-path=\"url(#clip740)\" d=\"M252.764 1410.9 L2352.76 1410.9 L2352.76 123.472 L252.764 123.472  Z\" fill=\"#ffffff\" fill-rule=\"evenodd\" fill-opacity=\"1\"/>\n",
       "<defs>\n",
       "  <clipPath id=\"clip742\">\n",
       "    <rect x=\"252\" y=\"123\" width=\"2101\" height=\"1288\"/>\n",
       "  </clipPath>\n",
       "</defs>\n",
       "<polyline clip-path=\"url(#clip742)\" style=\"stroke:#000000; stroke-linecap:round; stroke-linejoin:round; stroke-width:2; stroke-opacity:0.1; fill:none\" points=\"539.854,1410.9 539.854,123.472 \"/>\n",
       "<polyline clip-path=\"url(#clip742)\" style=\"stroke:#000000; stroke-linecap:round; stroke-linejoin:round; stroke-width:2; stroke-opacity:0.1; fill:none\" points=\"1271.09,1410.9 1271.09,123.472 \"/>\n",
       "<polyline clip-path=\"url(#clip742)\" style=\"stroke:#000000; stroke-linecap:round; stroke-linejoin:round; stroke-width:2; stroke-opacity:0.1; fill:none\" points=\"2002.33,1410.9 2002.33,123.472 \"/>\n",
       "<polyline clip-path=\"url(#clip740)\" style=\"stroke:#000000; stroke-linecap:round; stroke-linejoin:round; stroke-width:4; stroke-opacity:1; fill:none\" points=\"252.764,1410.9 2352.76,1410.9 \"/>\n",
       "<polyline clip-path=\"url(#clip740)\" style=\"stroke:#000000; stroke-linecap:round; stroke-linejoin:round; stroke-width:4; stroke-opacity:1; fill:none\" points=\"539.854,1410.9 539.854,1392 \"/>\n",
       "<polyline clip-path=\"url(#clip740)\" style=\"stroke:#000000; stroke-linecap:round; stroke-linejoin:round; stroke-width:4; stroke-opacity:1; fill:none\" points=\"1271.09,1410.9 1271.09,1392 \"/>\n",
       "<polyline clip-path=\"url(#clip740)\" style=\"stroke:#000000; stroke-linecap:round; stroke-linejoin:round; stroke-width:4; stroke-opacity:1; fill:none\" points=\"2002.33,1410.9 2002.33,1392 \"/>\n",
       "<path clip-path=\"url(#clip740)\" d=\"M489.735 1485.02 L497.373 1485.02 L497.373 1458.66 L489.063 1460.32 L489.063 1456.06 L497.327 1454.4 L502.003 1454.4 L502.003 1485.02 L509.642 1485.02 L509.642 1488.96 L489.735 1488.96 L489.735 1485.02 Z\" fill=\"#000000\" fill-rule=\"nonzero\" fill-opacity=\"1\" /><path clip-path=\"url(#clip740)\" d=\"M529.086 1457.48 Q525.475 1457.48 523.646 1461.04 Q521.841 1464.58 521.841 1471.71 Q521.841 1478.82 523.646 1482.38 Q525.475 1485.92 529.086 1485.92 Q532.72 1485.92 534.526 1482.38 Q536.355 1478.82 536.355 1471.71 Q536.355 1464.58 534.526 1461.04 Q532.72 1457.48 529.086 1457.48 M529.086 1453.77 Q534.896 1453.77 537.952 1458.38 Q541.031 1462.96 541.031 1471.71 Q541.031 1480.44 537.952 1485.04 Q534.896 1489.63 529.086 1489.63 Q523.276 1489.63 520.197 1485.04 Q517.142 1480.44 517.142 1471.71 Q517.142 1462.96 520.197 1458.38 Q523.276 1453.77 529.086 1453.77 Z\" fill=\"#000000\" fill-rule=\"nonzero\" fill-opacity=\"1\" /><path clip-path=\"url(#clip740)\" d=\"M541.031 1447.87 L565.142 1447.87 L565.142 1451.07 L541.031 1451.07 L541.031 1447.87 Z\" fill=\"#000000\" fill-rule=\"nonzero\" fill-opacity=\"1\" /><path clip-path=\"url(#clip740)\" d=\"M584.853 1446.41 Q587.58 1446.99 589.103 1448.83 Q590.645 1450.68 590.645 1453.38 Q590.645 1457.54 587.787 1459.82 Q584.928 1462.09 579.662 1462.09 Q577.894 1462.09 576.013 1461.73 Q574.151 1461.4 572.157 1460.7 L572.157 1457.03 Q573.737 1457.95 575.618 1458.42 Q577.499 1458.89 579.549 1458.89 Q583.122 1458.89 584.984 1457.48 Q586.865 1456.07 586.865 1453.38 Q586.865 1450.9 585.116 1449.51 Q583.386 1448.1 580.282 1448.1 L577.01 1448.1 L577.01 1444.98 L580.433 1444.98 Q583.235 1444.98 584.721 1443.87 Q586.207 1442.74 586.207 1440.63 Q586.207 1438.47 584.665 1437.32 Q583.141 1436.16 580.282 1436.16 Q578.721 1436.16 576.935 1436.49 Q575.148 1436.83 573.004 1437.55 L573.004 1434.16 Q575.167 1433.56 577.047 1433.26 Q578.947 1432.96 580.621 1432.96 Q584.947 1432.96 587.467 1434.93 Q589.987 1436.89 589.987 1440.24 Q589.987 1442.57 588.652 1444.19 Q587.316 1445.79 584.853 1446.41 Z\" fill=\"#000000\" fill-rule=\"nonzero\" fill-opacity=\"1\" /><path clip-path=\"url(#clip740)\" d=\"M1221.36 1485.02 L1229 1485.02 L1229 1458.66 L1220.69 1460.32 L1220.69 1456.06 L1228.95 1454.4 L1233.63 1454.4 L1233.63 1485.02 L1241.27 1485.02 L1241.27 1488.96 L1221.36 1488.96 L1221.36 1485.02 Z\" fill=\"#000000\" fill-rule=\"nonzero\" fill-opacity=\"1\" /><path clip-path=\"url(#clip740)\" d=\"M1260.71 1457.48 Q1257.1 1457.48 1255.27 1461.04 Q1253.47 1464.58 1253.47 1471.71 Q1253.47 1478.82 1255.27 1482.38 Q1257.1 1485.92 1260.71 1485.92 Q1264.35 1485.92 1266.15 1482.38 Q1267.98 1478.82 1267.98 1471.71 Q1267.98 1464.58 1266.15 1461.04 Q1264.35 1457.48 1260.71 1457.48 M1260.71 1453.77 Q1266.52 1453.77 1269.58 1458.38 Q1272.66 1462.96 1272.66 1471.71 Q1272.66 1480.44 1269.58 1485.04 Q1266.52 1489.63 1260.71 1489.63 Q1254.9 1489.63 1251.82 1485.04 Q1248.77 1480.44 1248.77 1471.71 Q1248.77 1462.96 1251.82 1458.38 Q1254.9 1453.77 1260.71 1453.77 Z\" fill=\"#000000\" fill-rule=\"nonzero\" fill-opacity=\"1\" /><path clip-path=\"url(#clip740)\" d=\"M1272.66 1447.87 L1296.77 1447.87 L1296.77 1451.07 L1272.66 1451.07 L1272.66 1447.87 Z\" fill=\"#000000\" fill-rule=\"nonzero\" fill-opacity=\"1\" /><path clip-path=\"url(#clip740)\" d=\"M1308.24 1458.35 L1321.5 1458.35 L1321.5 1461.55 L1303.67 1461.55 L1303.67 1458.35 Q1305.83 1456.11 1309.56 1452.35 Q1313.3 1448.57 1314.26 1447.48 Q1316.08 1445.43 1316.8 1444.02 Q1317.53 1442.59 1317.53 1441.22 Q1317.53 1438.98 1315.95 1437.57 Q1314.39 1436.16 1311.87 1436.16 Q1310.08 1436.16 1308.09 1436.78 Q1306.11 1437.4 1303.86 1438.66 L1303.86 1434.82 Q1306.15 1433.9 1308.15 1433.43 Q1310.14 1432.96 1311.79 1432.96 Q1316.16 1432.96 1318.75 1435.14 Q1321.35 1437.32 1321.35 1440.97 Q1321.35 1442.7 1320.69 1444.26 Q1320.05 1445.8 1318.34 1447.91 Q1317.87 1448.46 1315.35 1451.07 Q1312.83 1453.67 1308.24 1458.35 Z\" fill=\"#000000\" fill-rule=\"nonzero\" fill-opacity=\"1\" /><path clip-path=\"url(#clip740)\" d=\"M1952.45 1485.02 L1960.09 1485.02 L1960.09 1458.66 L1951.78 1460.32 L1951.78 1456.06 L1960.04 1454.4 L1964.72 1454.4 L1964.72 1485.02 L1972.36 1485.02 L1972.36 1488.96 L1952.45 1488.96 L1952.45 1485.02 Z\" fill=\"#000000\" fill-rule=\"nonzero\" fill-opacity=\"1\" /><path clip-path=\"url(#clip740)\" d=\"M1991.8 1457.48 Q1988.19 1457.48 1986.36 1461.04 Q1984.55 1464.58 1984.55 1471.71 Q1984.55 1478.82 1986.36 1482.38 Q1988.19 1485.92 1991.8 1485.92 Q1995.43 1485.92 1997.24 1482.38 Q1999.07 1478.82 1999.07 1471.71 Q1999.07 1464.58 1997.24 1461.04 Q1995.43 1457.48 1991.8 1457.48 M1991.8 1453.77 Q1997.61 1453.77 2000.67 1458.38 Q2003.74 1462.96 2003.74 1471.71 Q2003.74 1480.44 2000.67 1485.04 Q1997.61 1489.63 1991.8 1489.63 Q1985.99 1489.63 1982.91 1485.04 Q1979.86 1480.44 1979.86 1471.71 Q1979.86 1462.96 1982.91 1458.38 Q1985.99 1453.77 1991.8 1453.77 Z\" fill=\"#000000\" fill-rule=\"nonzero\" fill-opacity=\"1\" /><path clip-path=\"url(#clip740)\" d=\"M2003.74 1447.87 L2027.86 1447.87 L2027.86 1451.07 L2003.74 1451.07 L2003.74 1447.87 Z\" fill=\"#000000\" fill-rule=\"nonzero\" fill-opacity=\"1\" /><path clip-path=\"url(#clip740)\" d=\"M2036.71 1458.35 L2042.92 1458.35 L2042.92 1436.93 L2036.17 1438.28 L2036.17 1434.82 L2042.88 1433.47 L2046.68 1433.47 L2046.68 1458.35 L2052.89 1458.35 L2052.89 1461.55 L2036.71 1461.55 L2036.71 1458.35 Z\" fill=\"#000000\" fill-rule=\"nonzero\" fill-opacity=\"1\" /><path clip-path=\"url(#clip740)\" d=\"M1317.69 1552.67 L1317.69 1574.19 L1311.83 1574.19 L1311.83 1552.86 Q1311.83 1547.8 1309.86 1545.29 Q1307.88 1542.77 1303.94 1542.77 Q1299.2 1542.77 1296.46 1545.79 Q1293.72 1548.82 1293.72 1554.04 L1293.72 1574.19 L1287.83 1574.19 L1287.83 1524.66 L1293.72 1524.66 L1293.72 1544.08 Q1295.82 1540.86 1298.65 1539.27 Q1301.52 1537.68 1305.24 1537.68 Q1311.39 1537.68 1314.54 1541.5 Q1317.69 1545.29 1317.69 1552.67 Z\" fill=\"#000000\" fill-rule=\"nonzero\" fill-opacity=\"1\" /><polyline clip-path=\"url(#clip742)\" style=\"stroke:#000000; stroke-linecap:round; stroke-linejoin:round; stroke-width:2; stroke-opacity:0.1; fill:none\" points=\"252.764,1234.89 2352.76,1234.89 \"/>\n",
       "<polyline clip-path=\"url(#clip742)\" style=\"stroke:#000000; stroke-linecap:round; stroke-linejoin:round; stroke-width:2; stroke-opacity:0.1; fill:none\" points=\"252.764,1010.75 2352.76,1010.75 \"/>\n",
       "<polyline clip-path=\"url(#clip742)\" style=\"stroke:#000000; stroke-linecap:round; stroke-linejoin:round; stroke-width:2; stroke-opacity:0.1; fill:none\" points=\"252.764,786.598 2352.76,786.598 \"/>\n",
       "<polyline clip-path=\"url(#clip742)\" style=\"stroke:#000000; stroke-linecap:round; stroke-linejoin:round; stroke-width:2; stroke-opacity:0.1; fill:none\" points=\"252.764,562.45 2352.76,562.45 \"/>\n",
       "<polyline clip-path=\"url(#clip742)\" style=\"stroke:#000000; stroke-linecap:round; stroke-linejoin:round; stroke-width:2; stroke-opacity:0.1; fill:none\" points=\"252.764,338.303 2352.76,338.303 \"/>\n",
       "<polyline clip-path=\"url(#clip740)\" style=\"stroke:#000000; stroke-linecap:round; stroke-linejoin:round; stroke-width:4; stroke-opacity:1; fill:none\" points=\"252.764,1410.9 252.764,123.472 \"/>\n",
       "<polyline clip-path=\"url(#clip740)\" style=\"stroke:#000000; stroke-linecap:round; stroke-linejoin:round; stroke-width:4; stroke-opacity:1; fill:none\" points=\"252.764,1234.89 271.662,1234.89 \"/>\n",
       "<polyline clip-path=\"url(#clip740)\" style=\"stroke:#000000; stroke-linecap:round; stroke-linejoin:round; stroke-width:4; stroke-opacity:1; fill:none\" points=\"252.764,1010.75 271.662,1010.75 \"/>\n",
       "<polyline clip-path=\"url(#clip740)\" style=\"stroke:#000000; stroke-linecap:round; stroke-linejoin:round; stroke-width:4; stroke-opacity:1; fill:none\" points=\"252.764,786.598 271.662,786.598 \"/>\n",
       "<polyline clip-path=\"url(#clip740)\" style=\"stroke:#000000; stroke-linecap:round; stroke-linejoin:round; stroke-width:4; stroke-opacity:1; fill:none\" points=\"252.764,562.45 271.662,562.45 \"/>\n",
       "<polyline clip-path=\"url(#clip740)\" style=\"stroke:#000000; stroke-linecap:round; stroke-linejoin:round; stroke-width:4; stroke-opacity:1; fill:none\" points=\"252.764,338.303 271.662,338.303 \"/>\n",
       "<path clip-path=\"url(#clip740)\" d=\"M115.195 1254.68 L122.834 1254.68 L122.834 1228.32 L114.523 1229.99 L114.523 1225.73 L122.787 1224.06 L127.463 1224.06 L127.463 1254.68 L135.102 1254.68 L135.102 1258.62 L115.195 1258.62 L115.195 1254.68 Z\" fill=\"#000000\" fill-rule=\"nonzero\" fill-opacity=\"1\" /><path clip-path=\"url(#clip740)\" d=\"M154.546 1227.14 Q150.935 1227.14 149.107 1230.7 Q147.301 1234.25 147.301 1241.37 Q147.301 1248.48 149.107 1252.05 Q150.935 1255.59 154.546 1255.59 Q158.181 1255.59 159.986 1252.05 Q161.815 1248.48 161.815 1241.37 Q161.815 1234.25 159.986 1230.7 Q158.181 1227.14 154.546 1227.14 M154.546 1223.44 Q160.357 1223.44 163.412 1228.04 Q166.491 1232.62 166.491 1241.37 Q166.491 1250.1 163.412 1254.71 Q160.357 1259.29 154.546 1259.29 Q148.736 1259.29 145.658 1254.71 Q142.602 1250.1 142.602 1241.37 Q142.602 1232.62 145.658 1228.04 Q148.736 1223.44 154.546 1223.44 Z\" fill=\"#000000\" fill-rule=\"nonzero\" fill-opacity=\"1\" /><path clip-path=\"url(#clip740)\" d=\"M166.491 1217.54 L190.602 1217.54 L190.602 1220.73 L166.491 1220.73 L166.491 1217.54 Z\" fill=\"#000000\" fill-rule=\"nonzero\" fill-opacity=\"1\" /><path clip-path=\"url(#clip740)\" d=\"M207.398 1215.66 Q204.84 1215.66 203.335 1217.4 Q201.849 1219.15 201.849 1222.2 Q201.849 1225.23 203.335 1227 Q204.84 1228.75 207.398 1228.75 Q209.956 1228.75 211.441 1227 Q212.946 1225.23 212.946 1222.2 Q212.946 1219.15 211.441 1217.4 Q209.956 1215.66 207.398 1215.66 M214.94 1203.75 L214.94 1207.21 Q213.51 1206.53 212.043 1206.18 Q210.595 1205.82 209.166 1205.82 Q205.404 1205.82 203.41 1208.36 Q201.436 1210.9 201.153 1216.03 Q202.263 1214.4 203.937 1213.53 Q205.611 1212.65 207.623 1212.65 Q211.855 1212.65 214.3 1215.22 Q216.764 1217.78 216.764 1222.2 Q216.764 1226.53 214.206 1229.14 Q211.648 1231.76 207.398 1231.76 Q202.526 1231.76 199.95 1228.03 Q197.373 1224.29 197.373 1217.2 Q197.373 1210.54 200.533 1206.59 Q203.693 1202.62 209.015 1202.62 Q210.445 1202.62 211.893 1202.9 Q213.36 1203.19 214.94 1203.75 Z\" fill=\"#000000\" fill-rule=\"nonzero\" fill-opacity=\"1\" /><path clip-path=\"url(#clip740)\" d=\"M116.135 1030.54 L123.774 1030.54 L123.774 1004.17 L115.464 1005.84 L115.464 1001.58 L123.728 999.913 L128.404 999.913 L128.404 1030.54 L136.042 1030.54 L136.042 1034.47 L116.135 1034.47 L116.135 1030.54 Z\" fill=\"#000000\" fill-rule=\"nonzero\" fill-opacity=\"1\" /><path clip-path=\"url(#clip740)\" d=\"M155.487 1002.99 Q151.876 1002.99 150.047 1006.56 Q148.241 1010.1 148.241 1017.23 Q148.241 1024.33 150.047 1027.9 Q151.876 1031.44 155.487 1031.44 Q159.121 1031.44 160.927 1027.9 Q162.755 1024.33 162.755 1017.23 Q162.755 1010.1 160.927 1006.56 Q159.121 1002.99 155.487 1002.99 M155.487 999.288 Q161.297 999.288 164.352 1003.89 Q167.431 1008.48 167.431 1017.23 Q167.431 1025.95 164.352 1030.56 Q161.297 1035.14 155.487 1035.14 Q149.677 1035.14 146.598 1030.56 Q143.542 1025.95 143.542 1017.23 Q143.542 1008.48 146.598 1003.89 Q149.677 999.288 155.487 999.288 Z\" fill=\"#000000\" fill-rule=\"nonzero\" fill-opacity=\"1\" /><path clip-path=\"url(#clip740)\" d=\"M167.431 993.389 L191.543 993.389 L191.543 996.586 L167.431 996.586 L167.431 993.389 Z\" fill=\"#000000\" fill-rule=\"nonzero\" fill-opacity=\"1\" /><path clip-path=\"url(#clip740)\" d=\"M199.781 978.982 L214.695 978.982 L214.695 982.18 L203.26 982.18 L203.26 989.063 Q204.088 988.781 204.915 988.65 Q205.743 988.499 206.57 988.499 Q211.272 988.499 214.018 991.076 Q216.764 993.652 216.764 998.053 Q216.764 1002.59 213.943 1005.11 Q211.122 1007.61 205.987 1007.61 Q204.219 1007.61 202.376 1007.31 Q200.552 1007.01 198.596 1006.4 L198.596 1002.59 Q200.288 1003.51 202.094 1003.96 Q203.899 1004.41 205.912 1004.41 Q209.166 1004.41 211.065 1002.7 Q212.965 1000.99 212.965 998.053 Q212.965 995.119 211.065 993.408 Q209.166 991.696 205.912 991.696 Q204.388 991.696 202.865 992.035 Q201.36 992.373 199.781 993.088 L199.781 978.982 Z\" fill=\"#000000\" fill-rule=\"nonzero\" fill-opacity=\"1\" /><path clip-path=\"url(#clip740)\" d=\"M114.931 806.39 L122.57 806.39 L122.57 780.025 L114.26 781.691 L114.26 777.432 L122.524 775.765 L127.2 775.765 L127.2 806.39 L134.839 806.39 L134.839 810.325 L114.931 810.325 L114.931 806.39 Z\" fill=\"#000000\" fill-rule=\"nonzero\" fill-opacity=\"1\" /><path clip-path=\"url(#clip740)\" d=\"M154.283 778.844 Q150.672 778.844 148.843 782.409 Q147.038 785.951 147.038 793.08 Q147.038 800.187 148.843 803.751 Q150.672 807.293 154.283 807.293 Q157.917 807.293 159.723 803.751 Q161.552 800.187 161.552 793.08 Q161.552 785.951 159.723 782.409 Q157.917 778.844 154.283 778.844 M154.283 775.14 Q160.093 775.14 163.149 779.747 Q166.227 784.33 166.227 793.08 Q166.227 801.807 163.149 806.413 Q160.093 810.997 154.283 810.997 Q148.473 810.997 145.394 806.413 Q142.339 801.807 142.339 793.08 Q142.339 784.33 145.394 779.747 Q148.473 775.14 154.283 775.14 Z\" fill=\"#000000\" fill-rule=\"nonzero\" fill-opacity=\"1\" /><path clip-path=\"url(#clip740)\" d=\"M166.227 769.242 L190.339 769.242 L190.339 772.439 L166.227 772.439 L166.227 769.242 Z\" fill=\"#000000\" fill-rule=\"nonzero\" fill-opacity=\"1\" /><path clip-path=\"url(#clip740)\" d=\"M208.978 758.145 L199.386 773.135 L208.978 773.135 L208.978 758.145 M207.981 754.835 L212.758 754.835 L212.758 773.135 L216.764 773.135 L216.764 776.295 L212.758 776.295 L212.758 782.915 L208.978 782.915 L208.978 776.295 L196.301 776.295 L196.301 772.627 L207.981 754.835 Z\" fill=\"#000000\" fill-rule=\"nonzero\" fill-opacity=\"1\" /><path clip-path=\"url(#clip740)\" d=\"M115.853 582.243 L123.492 582.243 L123.492 555.877 L115.182 557.544 L115.182 553.285 L123.446 551.618 L128.121 551.618 L128.121 582.243 L135.76 582.243 L135.76 586.178 L115.853 586.178 L115.853 582.243 Z\" fill=\"#000000\" fill-rule=\"nonzero\" fill-opacity=\"1\" /><path clip-path=\"url(#clip740)\" d=\"M155.205 554.697 Q151.594 554.697 149.765 558.262 Q147.959 561.803 147.959 568.933 Q147.959 576.039 149.765 579.604 Q151.594 583.146 155.205 583.146 Q158.839 583.146 160.644 579.604 Q162.473 576.039 162.473 568.933 Q162.473 561.803 160.644 558.262 Q158.839 554.697 155.205 554.697 M155.205 550.993 Q161.015 550.993 164.07 555.599 Q167.149 560.183 167.149 568.933 Q167.149 577.66 164.07 582.266 Q161.015 586.849 155.205 586.849 Q149.395 586.849 146.316 582.266 Q143.26 577.66 143.26 568.933 Q143.26 560.183 146.316 555.599 Q149.395 550.993 155.205 550.993 Z\" fill=\"#000000\" fill-rule=\"nonzero\" fill-opacity=\"1\" /><path clip-path=\"url(#clip740)\" d=\"M167.149 545.094 L191.261 545.094 L191.261 548.292 L167.149 548.292 L167.149 545.094 Z\" fill=\"#000000\" fill-rule=\"nonzero\" fill-opacity=\"1\" /><path clip-path=\"url(#clip740)\" d=\"M210.971 543.627 Q213.698 544.21 215.222 546.054 Q216.764 547.897 216.764 550.605 Q216.764 554.762 213.905 557.037 Q211.046 559.313 205.78 559.313 Q204.012 559.313 202.132 558.956 Q200.27 558.617 198.276 557.921 L198.276 554.254 Q199.856 555.175 201.737 555.646 Q203.617 556.116 205.667 556.116 Q209.241 556.116 211.103 554.705 Q212.984 553.295 212.984 550.605 Q212.984 548.122 211.234 546.731 Q209.504 545.32 206.401 545.32 L203.128 545.32 L203.128 542.198 L206.551 542.198 Q209.354 542.198 210.84 541.088 Q212.325 539.96 212.325 537.853 Q212.325 535.691 210.783 534.543 Q209.26 533.377 206.401 533.377 Q204.84 533.377 203.053 533.716 Q201.266 534.054 199.122 534.769 L199.122 531.384 Q201.285 530.782 203.166 530.481 Q205.066 530.18 206.739 530.18 Q211.065 530.18 213.585 532.155 Q216.106 534.111 216.106 537.458 Q216.106 539.791 214.77 541.408 Q213.435 543.007 210.971 543.627 Z\" fill=\"#000000\" fill-rule=\"nonzero\" fill-opacity=\"1\" /><path clip-path=\"url(#clip740)\" d=\"M116.624 358.096 L124.263 358.096 L124.263 331.73 L115.953 333.397 L115.953 329.137 L124.217 327.471 L128.893 327.471 L128.893 358.096 L136.531 358.096 L136.531 362.031 L116.624 362.031 L116.624 358.096 Z\" fill=\"#000000\" fill-rule=\"nonzero\" fill-opacity=\"1\" /><path clip-path=\"url(#clip740)\" d=\"M155.976 330.549 Q152.365 330.549 150.536 334.114 Q148.73 337.656 148.73 344.785 Q148.73 351.892 150.536 355.457 Q152.365 358.998 155.976 358.998 Q159.61 358.998 161.416 355.457 Q163.244 351.892 163.244 344.785 Q163.244 337.656 161.416 334.114 Q159.61 330.549 155.976 330.549 M155.976 326.846 Q161.786 326.846 164.841 331.452 Q167.92 336.035 167.92 344.785 Q167.92 353.512 164.841 358.119 Q161.786 362.702 155.976 362.702 Q150.166 362.702 147.087 358.119 Q144.031 353.512 144.031 344.785 Q144.031 336.035 147.087 331.452 Q150.166 326.846 155.976 326.846 Z\" fill=\"#000000\" fill-rule=\"nonzero\" fill-opacity=\"1\" /><path clip-path=\"url(#clip740)\" d=\"M167.92 320.947 L192.032 320.947 L192.032 324.144 L167.92 324.144 L167.92 320.947 Z\" fill=\"#000000\" fill-rule=\"nonzero\" fill-opacity=\"1\" /><path clip-path=\"url(#clip740)\" d=\"M203.504 331.423 L216.764 331.423 L216.764 334.62 L198.934 334.62 L198.934 331.423 Q201.097 329.185 204.821 325.423 Q208.564 321.643 209.523 320.552 Q211.347 318.502 212.062 317.091 Q212.796 315.662 212.796 314.289 Q212.796 312.051 211.216 310.64 Q209.655 309.23 207.134 309.23 Q205.348 309.23 203.354 309.85 Q201.379 310.471 199.122 311.731 L199.122 307.894 Q201.417 306.973 203.41 306.503 Q205.404 306.032 207.059 306.032 Q211.423 306.032 214.018 308.214 Q216.613 310.396 216.613 314.045 Q216.613 315.775 215.955 317.336 Q215.316 318.878 213.604 320.985 Q213.134 321.53 210.614 324.144 Q208.094 326.74 203.504 331.423 Z\" fill=\"#000000\" fill-rule=\"nonzero\" fill-opacity=\"1\" /><path clip-path=\"url(#clip740)\" d=\"M16.4842 828.247 L16.4842 798.201 L21.895 798.201 L21.895 821.818 L35.9632 821.818 L35.9632 799.188 L41.3741 799.188 L41.3741 821.818 L58.5933 821.818 L58.5933 797.628 L64.0042 797.628 L64.0042 828.247 L16.4842 828.247 Z\" fill=\"#000000\" fill-rule=\"nonzero\" fill-opacity=\"1\" /><path clip-path=\"url(#clip740)\" d=\"M33.8307 766.659 Q33.2578 767.646 33.0032 768.824 Q32.7167 769.969 32.7167 771.37 Q32.7167 776.335 35.9632 779.009 Q39.1779 781.65 45.2253 781.65 L64.0042 781.65 L64.0042 787.539 L28.3562 787.539 L28.3562 781.65 L33.8944 781.65 Q30.6479 779.804 29.0883 776.844 Q27.4968 773.884 27.4968 769.651 Q27.4968 769.046 27.5923 768.314 Q27.656 767.582 27.8151 766.691 L33.8307 766.659 Z\" fill=\"#000000\" fill-rule=\"nonzero\" fill-opacity=\"1\" /><path clip-path=\"url(#clip740)\" d=\"M33.8307 741.005 Q33.2578 741.992 33.0032 743.17 Q32.7167 744.316 32.7167 745.716 Q32.7167 750.681 35.9632 753.355 Q39.1779 755.997 45.2253 755.997 L64.0042 755.997 L64.0042 761.885 L28.3562 761.885 L28.3562 755.997 L33.8944 755.997 Q30.6479 754.151 29.0883 751.191 Q27.4968 748.23 27.4968 743.997 Q27.4968 743.393 27.5923 742.66 Q27.656 741.928 27.8151 741.037 L33.8307 741.005 Z\" fill=\"#000000\" fill-rule=\"nonzero\" fill-opacity=\"1\" /><path clip-path=\"url(#clip740)\" d=\"M32.4621 722.481 Q32.4621 727.192 36.1542 729.929 Q39.8145 732.666 46.212 732.666 Q52.6095 732.666 56.3017 729.961 Q59.9619 727.224 59.9619 722.481 Q59.9619 717.802 56.2698 715.065 Q52.5777 712.328 46.212 712.328 Q39.8781 712.328 36.186 715.065 Q32.4621 717.802 32.4621 722.481 M27.4968 722.481 Q27.4968 714.842 32.4621 710.482 Q37.4273 706.121 46.212 706.121 Q54.9649 706.121 59.9619 710.482 Q64.9272 714.842 64.9272 722.481 Q64.9272 730.152 59.9619 734.512 Q54.9649 738.841 46.212 738.841 Q37.4273 738.841 32.4621 734.512 Q27.4968 730.152 27.4968 722.481 Z\" fill=\"#000000\" fill-rule=\"nonzero\" fill-opacity=\"1\" /><path clip-path=\"url(#clip740)\" d=\"M524.764 12.096 L563.004 12.096 L563.004 18.9825 L532.946 18.9825 L532.946 36.8875 L561.748 36.8875 L561.748 43.7741 L532.946 43.7741 L532.946 65.6895 L563.733 65.6895 L563.733 72.576 L524.764 72.576 L524.764 12.096 Z\" fill=\"#000000\" fill-rule=\"nonzero\" fill-opacity=\"1\" /><path clip-path=\"url(#clip740)\" d=\"M605.782 28.5427 L605.782 35.5912 Q602.622 33.9709 599.219 33.1607 Q595.816 32.3505 592.171 32.3505 Q586.621 32.3505 583.826 34.0519 Q581.071 35.7533 581.071 39.156 Q581.071 41.7486 583.056 43.2475 Q585.041 44.7058 591.036 46.0426 L593.588 46.6097 Q601.528 48.3111 604.85 51.4303 Q608.212 54.509 608.212 60.0587 Q608.212 66.3781 603.189 70.0644 Q598.206 73.7508 589.456 73.7508 Q585.811 73.7508 581.841 73.0216 Q577.911 72.3329 573.536 70.9151 L573.536 63.2184 Q577.668 65.3654 581.679 66.4591 Q585.689 67.5124 589.618 67.5124 Q594.885 67.5124 597.72 65.73 Q600.556 63.9071 600.556 60.6258 Q600.556 57.5877 598.49 55.9673 Q596.465 54.3469 589.537 52.8481 L586.945 52.2405 Q580.018 50.7821 576.939 47.7845 Q573.86 44.7463 573.86 39.4801 Q573.86 33.0797 578.397 29.5959 Q582.935 26.1121 591.279 26.1121 Q595.411 26.1121 599.057 26.7198 Q602.703 27.3274 605.782 28.5427 Z\" fill=\"#000000\" fill-rule=\"nonzero\" fill-opacity=\"1\" /><path clip-path=\"url(#clip740)\" d=\"M627.454 14.324 L627.454 27.2059 L642.807 27.2059 L642.807 32.9987 L627.454 32.9987 L627.454 57.6282 Q627.454 63.1779 628.953 64.7578 Q630.492 66.3376 635.151 66.3376 L642.807 66.3376 L642.807 72.576 L635.151 72.576 Q626.522 72.576 623.241 69.3758 Q619.96 66.1351 619.96 57.6282 L619.96 32.9987 L614.491 32.9987 L614.491 27.2059 L619.96 27.2059 L619.96 14.324 L627.454 14.324 Z\" fill=\"#000000\" fill-rule=\"nonzero\" fill-opacity=\"1\" /><path clip-path=\"url(#clip740)\" d=\"M651.84 54.671 L651.84 27.2059 L659.294 27.2059 L659.294 54.3874 Q659.294 60.8284 661.806 64.0691 Q664.317 67.2693 669.34 67.2693 Q675.376 67.2693 678.86 63.421 Q682.384 59.5726 682.384 52.9291 L682.384 27.2059 L689.838 27.2059 L689.838 72.576 L682.384 72.576 L682.384 65.6084 Q679.67 69.7404 676.065 71.7658 Q672.5 73.7508 667.76 73.7508 Q659.942 73.7508 655.891 68.8897 Q651.84 64.0286 651.84 54.671 M670.596 26.1121 L670.596 26.1121 Z\" fill=\"#000000\" fill-rule=\"nonzero\" fill-opacity=\"1\" /><path clip-path=\"url(#clip740)\" d=\"M735.046 34.0924 L735.046 9.54393 L742.5 9.54393 L742.5 72.576 L735.046 72.576 L735.046 65.7705 Q732.696 69.8214 729.091 71.8063 Q725.526 73.7508 720.503 73.7508 Q712.28 73.7508 707.095 67.1883 Q701.95 60.6258 701.95 49.9314 Q701.95 39.2371 707.095 32.6746 Q712.28 26.1121 720.503 26.1121 Q725.526 26.1121 729.091 28.0971 Q732.696 30.0415 735.046 34.0924 M709.647 49.9314 Q709.647 58.1548 713.009 62.8538 Q716.412 67.5124 722.326 67.5124 Q728.24 67.5124 731.643 62.8538 Q735.046 58.1548 735.046 49.9314 Q735.046 41.7081 731.643 37.0496 Q728.24 32.3505 722.326 32.3505 Q716.412 32.3505 713.009 37.0496 Q709.647 41.7081 709.647 49.9314 Z\" fill=\"#000000\" fill-rule=\"nonzero\" fill-opacity=\"1\" /><path clip-path=\"url(#clip740)\" d=\"M775.433 32.4315 Q769.438 32.4315 765.954 37.1306 Q762.471 41.7891 762.471 49.9314 Q762.471 58.0738 765.914 62.7728 Q769.398 67.4314 775.433 67.4314 Q781.388 67.4314 784.872 62.7323 Q788.356 58.0333 788.356 49.9314 Q788.356 41.8701 784.872 37.1711 Q781.388 32.4315 775.433 32.4315 M775.433 26.1121 Q785.156 26.1121 790.705 32.4315 Q796.255 38.7509 796.255 49.9314 Q796.255 61.0714 790.705 67.4314 Q785.156 73.7508 775.433 73.7508 Q765.671 73.7508 760.121 67.4314 Q754.612 61.0714 754.612 49.9314 Q754.612 38.7509 760.121 32.4315 Q765.671 26.1121 775.433 26.1121 Z\" fill=\"#000000\" fill-rule=\"nonzero\" fill-opacity=\"1\" /><path clip-path=\"url(#clip740)\" d=\"M864.837 34.0924 L864.837 9.54393 L872.291 9.54393 L872.291 72.576 L864.837 72.576 L864.837 65.7705 Q862.487 69.8214 858.882 71.8063 Q855.317 73.7508 850.294 73.7508 Q842.071 73.7508 836.886 67.1883 Q831.741 60.6258 831.741 49.9314 Q831.741 39.2371 836.886 32.6746 Q842.071 26.1121 850.294 26.1121 Q855.317 26.1121 858.882 28.0971 Q862.487 30.0415 864.837 34.0924 M839.438 49.9314 Q839.438 58.1548 842.8 62.8538 Q846.203 67.5124 852.117 67.5124 Q858.031 67.5124 861.434 62.8538 Q864.837 58.1548 864.837 49.9314 Q864.837 41.7081 861.434 37.0496 Q858.031 32.3505 852.117 32.3505 Q846.203 32.3505 842.8 37.0496 Q839.438 41.7081 839.438 49.9314 Z\" fill=\"#000000\" fill-rule=\"nonzero\" fill-opacity=\"1\" /><path clip-path=\"url(#clip740)\" d=\"M905.224 32.4315 Q899.229 32.4315 895.745 37.1306 Q892.262 41.7891 892.262 49.9314 Q892.262 58.0738 895.705 62.7728 Q899.189 67.4314 905.224 67.4314 Q911.179 67.4314 914.663 62.7323 Q918.147 58.0333 918.147 49.9314 Q918.147 41.8701 914.663 37.1711 Q911.179 32.4315 905.224 32.4315 M905.224 26.1121 Q914.947 26.1121 920.496 32.4315 Q926.046 38.7509 926.046 49.9314 Q926.046 61.0714 920.496 67.4314 Q914.947 73.7508 905.224 73.7508 Q895.462 73.7508 889.912 67.4314 Q884.403 61.0714 884.403 49.9314 Q884.403 38.7509 889.912 32.4315 Q895.462 26.1121 905.224 26.1121 Z\" fill=\"#000000\" fill-rule=\"nonzero\" fill-opacity=\"1\" /><path clip-path=\"url(#clip740)\" d=\"M1003.58 48.0275 L1003.58 51.6733 L969.31 51.6733 Q969.796 59.3701 973.928 63.421 Q978.1 67.4314 985.513 67.4314 Q989.807 67.4314 993.818 66.3781 Q997.869 65.3249 1001.84 63.2184 L1001.84 70.267 Q997.828 71.9684 993.615 72.8596 Q989.402 73.7508 985.068 73.7508 Q974.211 73.7508 967.851 67.4314 Q961.532 61.1119 961.532 50.3365 Q961.532 39.1965 967.527 32.6746 Q973.563 26.1121 983.771 26.1121 Q992.927 26.1121 998.233 32.0264 Q1003.58 37.9003 1003.58 48.0275 M996.127 45.84 Q996.046 39.7232 992.683 36.0774 Q989.362 32.4315 983.852 32.4315 Q977.614 32.4315 973.847 35.9558 Q970.12 39.4801 969.553 45.8805 L996.127 45.84 Z\" fill=\"#000000\" fill-rule=\"nonzero\" fill-opacity=\"1\" /><path clip-path=\"url(#clip740)\" d=\"M1042.1 34.1734 Q1040.85 33.4443 1039.35 33.1202 Q1037.89 32.7556 1036.11 32.7556 Q1029.79 32.7556 1026.39 36.8875 Q1023.02 40.9789 1023.02 48.6757 L1023.02 72.576 L1015.53 72.576 L1015.53 27.2059 L1023.02 27.2059 L1023.02 34.2544 Q1025.37 30.1225 1029.14 28.1376 Q1032.91 26.1121 1038.3 26.1121 Q1039.07 26.1121 1040 26.2337 Q1040.93 26.3147 1042.06 26.5172 L1042.1 34.1734 Z\" fill=\"#000000\" fill-rule=\"nonzero\" fill-opacity=\"1\" /><path clip-path=\"url(#clip740)\" d=\"M1074.75 34.1734 Q1073.5 33.4443 1072 33.1202 Q1070.54 32.7556 1068.76 32.7556 Q1062.44 32.7556 1059.04 36.8875 Q1055.68 40.9789 1055.68 48.6757 L1055.68 72.576 L1048.18 72.576 L1048.18 27.2059 L1055.68 27.2059 L1055.68 34.2544 Q1058.02 30.1225 1061.79 28.1376 Q1065.56 26.1121 1070.95 26.1121 Q1071.72 26.1121 1072.65 26.2337 Q1073.58 26.3147 1074.71 26.5172 L1074.75 34.1734 Z\" fill=\"#000000\" fill-rule=\"nonzero\" fill-opacity=\"1\" /><path clip-path=\"url(#clip740)\" d=\"M1098.33 32.4315 Q1092.34 32.4315 1088.85 37.1306 Q1085.37 41.7891 1085.37 49.9314 Q1085.37 58.0738 1088.81 62.7728 Q1092.3 67.4314 1098.33 67.4314 Q1104.29 67.4314 1107.77 62.7323 Q1111.25 58.0333 1111.25 49.9314 Q1111.25 41.8701 1107.77 37.1711 Q1104.29 32.4315 1098.33 32.4315 M1098.33 26.1121 Q1108.05 26.1121 1113.6 32.4315 Q1119.15 38.7509 1119.15 49.9314 Q1119.15 61.0714 1113.6 67.4314 Q1108.05 73.7508 1098.33 73.7508 Q1088.57 73.7508 1083.02 67.4314 Q1077.51 61.0714 1077.51 49.9314 Q1077.51 38.7509 1083.02 32.4315 Q1088.57 26.1121 1098.33 26.1121 Z\" fill=\"#000000\" fill-rule=\"nonzero\" fill-opacity=\"1\" /><path clip-path=\"url(#clip740)\" d=\"M1154.11 46.5287 L1175.95 46.5287 L1175.95 53.1722 L1154.11 53.1722 L1154.11 46.5287 Z\" fill=\"#000000\" fill-rule=\"nonzero\" fill-opacity=\"1\" /><path clip-path=\"url(#clip740)\" d=\"M1252.99 48.0275 L1252.99 51.6733 L1218.72 51.6733 Q1219.21 59.3701 1223.34 63.421 Q1227.51 67.4314 1234.93 67.4314 Q1239.22 67.4314 1243.23 66.3781 Q1247.28 65.3249 1251.25 63.2184 L1251.25 70.267 Q1247.24 71.9684 1243.03 72.8596 Q1238.82 73.7508 1234.48 73.7508 Q1223.63 73.7508 1217.27 67.4314 Q1210.95 61.1119 1210.95 50.3365 Q1210.95 39.1965 1216.94 32.6746 Q1222.98 26.1121 1233.19 26.1121 Q1242.34 26.1121 1247.65 32.0264 Q1252.99 37.9003 1252.99 48.0275 M1245.54 45.84 Q1245.46 39.7232 1242.1 36.0774 Q1238.78 32.4315 1233.27 32.4315 Q1227.03 32.4315 1223.26 35.9558 Q1219.53 39.4801 1218.97 45.8805 L1245.54 45.84 Z\" fill=\"#000000\" fill-rule=\"nonzero\" fill-opacity=\"1\" /><path clip-path=\"url(#clip740)\" d=\"M1301.48 27.2059 L1285.08 49.2833 L1302.33 72.576 L1293.54 72.576 L1280.34 54.752 L1267.13 72.576 L1258.34 72.576 L1275.96 48.8377 L1259.84 27.2059 L1268.63 27.2059 L1280.66 43.369 L1292.69 27.2059 L1301.48 27.2059 Z\" fill=\"#000000\" fill-rule=\"nonzero\" fill-opacity=\"1\" /><path clip-path=\"url(#clip740)\" d=\"M1349.12 48.0275 L1349.12 51.6733 L1314.85 51.6733 Q1315.34 59.3701 1319.47 63.421 Q1323.64 67.4314 1331.06 67.4314 Q1335.35 67.4314 1339.36 66.3781 Q1343.41 65.3249 1347.38 63.2184 L1347.38 70.267 Q1343.37 71.9684 1339.16 72.8596 Q1334.94 73.7508 1330.61 73.7508 Q1319.75 73.7508 1313.39 67.4314 Q1307.07 61.1119 1307.07 50.3365 Q1307.07 39.1965 1313.07 32.6746 Q1319.11 26.1121 1329.31 26.1121 Q1338.47 26.1121 1343.78 32.0264 Q1349.12 37.9003 1349.12 48.0275 M1341.67 45.84 Q1341.59 39.7232 1338.23 36.0774 Q1334.9 32.4315 1329.39 32.4315 Q1323.16 32.4315 1319.39 35.9558 Q1315.66 39.4801 1315.09 45.8805 L1341.67 45.84 Z\" fill=\"#000000\" fill-rule=\"nonzero\" fill-opacity=\"1\" /><path clip-path=\"url(#clip740)\" d=\"M1396.68 35.9153 Q1399.48 30.8922 1403.36 28.5022 Q1407.25 26.1121 1412.52 26.1121 Q1419.61 26.1121 1423.46 31.0947 Q1427.3 36.0368 1427.3 45.1919 L1427.3 72.576 L1419.81 72.576 L1419.81 45.4349 Q1419.81 38.913 1417.5 35.7533 Q1415.19 32.5936 1410.45 32.5936 Q1404.66 32.5936 1401.3 36.4419 Q1397.94 40.2903 1397.94 46.9338 L1397.94 72.576 L1390.44 72.576 L1390.44 45.4349 Q1390.44 38.8725 1388.13 35.7533 Q1385.82 32.5936 1381 32.5936 Q1375.29 32.5936 1371.93 36.4824 Q1368.57 40.3308 1368.57 46.9338 L1368.57 72.576 L1361.07 72.576 L1361.07 27.2059 L1368.57 27.2059 L1368.57 34.2544 Q1371.12 30.082 1374.68 28.0971 Q1378.25 26.1121 1383.15 26.1121 Q1388.09 26.1121 1391.54 28.6237 Q1395.02 31.1352 1396.68 35.9153 Z\" fill=\"#000000\" fill-rule=\"nonzero\" fill-opacity=\"1\" /><path clip-path=\"url(#clip740)\" d=\"M1449.38 65.7705 L1449.38 89.8329 L1441.89 89.8329 L1441.89 27.2059 L1449.38 27.2059 L1449.38 34.0924 Q1451.73 30.0415 1455.3 28.0971 Q1458.9 26.1121 1463.88 26.1121 Q1472.15 26.1121 1477.29 32.6746 Q1482.48 39.2371 1482.48 49.9314 Q1482.48 60.6258 1477.29 67.1883 Q1472.15 73.7508 1463.88 73.7508 Q1458.9 73.7508 1455.3 71.8063 Q1451.73 69.8214 1449.38 65.7705 M1474.74 49.9314 Q1474.74 41.7081 1471.34 37.0496 Q1467.98 32.3505 1462.06 32.3505 Q1456.15 32.3505 1452.74 37.0496 Q1449.38 41.7081 1449.38 49.9314 Q1449.38 58.1548 1452.74 62.8538 Q1456.15 67.5124 1462.06 67.5124 Q1467.98 67.5124 1471.34 62.8538 Q1474.74 58.1548 1474.74 49.9314 Z\" fill=\"#000000\" fill-rule=\"nonzero\" fill-opacity=\"1\" /><path clip-path=\"url(#clip740)\" d=\"M1494.83 9.54393 L1502.29 9.54393 L1502.29 72.576 L1494.83 72.576 L1494.83 9.54393 Z\" fill=\"#000000\" fill-rule=\"nonzero\" fill-opacity=\"1\" /><path clip-path=\"url(#clip740)\" d=\"M1535.46 32.4315 Q1529.47 32.4315 1525.99 37.1306 Q1522.5 41.7891 1522.5 49.9314 Q1522.5 58.0738 1525.94 62.7728 Q1529.43 67.4314 1535.46 67.4314 Q1541.42 67.4314 1544.9 62.7323 Q1548.39 58.0333 1548.39 49.9314 Q1548.39 41.8701 1544.9 37.1711 Q1541.42 32.4315 1535.46 32.4315 M1535.46 26.1121 Q1545.19 26.1121 1550.74 32.4315 Q1556.29 38.7509 1556.29 49.9314 Q1556.29 61.0714 1550.74 67.4314 Q1545.19 73.7508 1535.46 73.7508 Q1525.7 73.7508 1520.15 67.4314 Q1514.64 61.0714 1514.64 49.9314 Q1514.64 38.7509 1520.15 32.4315 Q1525.7 26.1121 1535.46 26.1121 Z\" fill=\"#000000\" fill-rule=\"nonzero\" fill-opacity=\"1\" /><path clip-path=\"url(#clip740)\" d=\"M1603.11 65.6895 L1631.67 65.6895 L1631.67 72.576 L1593.27 72.576 L1593.27 65.6895 Q1597.93 60.8689 1605.95 52.7671 Q1614.01 44.6248 1616.08 42.2752 Q1620.01 37.8598 1621.55 34.8216 Q1623.13 31.7429 1623.13 28.7857 Q1623.13 23.9651 1619.72 20.927 Q1616.36 17.8888 1610.93 17.8888 Q1607.08 17.8888 1602.79 19.2256 Q1598.54 20.5624 1593.68 23.2765 L1593.68 15.0127 Q1598.62 13.0277 1602.91 12.015 Q1607.21 11.0023 1610.77 11.0023 Q1620.17 11.0023 1625.76 15.7013 Q1631.35 20.4004 1631.35 28.2591 Q1631.35 31.9859 1629.93 35.3482 Q1628.55 38.6699 1624.87 43.2069 Q1623.85 44.3817 1618.43 50.0125 Q1613 55.6027 1603.11 65.6895 Z\" fill=\"#000000\" fill-rule=\"nonzero\" fill-opacity=\"1\" /><path clip-path=\"url(#clip740)\" d=\"M1670.4 46.5287 L1692.23 46.5287 L1692.23 53.1722 L1670.4 53.1722 L1670.4 46.5287 Z\" fill=\"#000000\" fill-rule=\"nonzero\" fill-opacity=\"1\" /><path clip-path=\"url(#clip740)\" d=\"M1763.12 28.9478 L1763.12 35.9153 Q1759.97 34.1734 1756.77 33.3227 Q1753.61 32.4315 1750.36 32.4315 Q1743.11 32.4315 1739.1 37.0496 Q1735.09 41.6271 1735.09 49.9314 Q1735.09 58.2358 1739.1 62.8538 Q1743.11 67.4314 1750.36 67.4314 Q1753.61 67.4314 1756.77 66.5807 Q1759.97 65.6895 1763.12 63.9476 L1763.12 70.8341 Q1760.01 72.2924 1756.64 73.0216 Q1753.32 73.7508 1749.55 73.7508 Q1739.31 73.7508 1733.27 67.3098 Q1727.23 60.8689 1727.23 49.9314 Q1727.23 38.832 1733.31 32.472 Q1739.43 26.1121 1750.04 26.1121 Q1753.48 26.1121 1756.77 26.8413 Q1760.05 27.5299 1763.12 28.9478 Z\" fill=\"#000000\" fill-rule=\"nonzero\" fill-opacity=\"1\" /><path clip-path=\"url(#clip740)\" d=\"M1796.71 49.7694 Q1787.67 49.7694 1784.19 51.8354 Q1780.71 53.9013 1780.71 58.8839 Q1780.71 62.8538 1783.3 65.2034 Q1785.93 67.5124 1790.43 67.5124 Q1796.63 67.5124 1800.35 63.1374 Q1804.12 58.7219 1804.12 51.4303 L1804.12 49.7694 L1796.71 49.7694 M1811.57 46.6907 L1811.57 72.576 L1804.12 72.576 L1804.12 65.6895 Q1801.57 69.8214 1797.76 71.8063 Q1793.95 73.7508 1788.44 73.7508 Q1781.48 73.7508 1777.34 69.8619 Q1773.25 65.9325 1773.25 59.3701 Q1773.25 51.7138 1778.36 47.825 Q1783.5 43.9361 1793.67 43.9361 L1804.12 43.9361 L1804.12 43.2069 Q1804.12 38.0623 1800.72 35.2672 Q1797.36 32.4315 1791.24 32.4315 Q1787.35 32.4315 1783.66 33.3632 Q1779.98 34.295 1776.57 36.1584 L1776.57 29.2718 Q1780.67 27.692 1784.51 26.9223 Q1788.36 26.1121 1792.01 26.1121 Q1801.85 26.1121 1806.71 31.2163 Q1811.57 36.3204 1811.57 46.6907 Z\" fill=\"#000000\" fill-rule=\"nonzero\" fill-opacity=\"1\" /><path clip-path=\"url(#clip740)\" d=\"M1855.85 28.5427 L1855.85 35.5912 Q1852.69 33.9709 1849.29 33.1607 Q1845.88 32.3505 1842.24 32.3505 Q1836.69 32.3505 1833.89 34.0519 Q1831.14 35.7533 1831.14 39.156 Q1831.14 41.7486 1833.12 43.2475 Q1835.11 44.7058 1841.1 46.0426 L1843.66 46.6097 Q1851.6 48.3111 1854.92 51.4303 Q1858.28 54.509 1858.28 60.0587 Q1858.28 66.3781 1853.26 70.0644 Q1848.27 73.7508 1839.52 73.7508 Q1835.88 73.7508 1831.91 73.0216 Q1827.98 72.3329 1823.6 70.9151 L1823.6 63.2184 Q1827.74 65.3654 1831.75 66.4591 Q1835.76 67.5124 1839.69 67.5124 Q1844.95 67.5124 1847.79 65.73 Q1850.62 63.9071 1850.62 60.6258 Q1850.62 57.5877 1848.56 55.9673 Q1846.53 54.3469 1839.61 52.8481 L1837.01 52.2405 Q1830.09 50.7821 1827.01 47.7845 Q1823.93 44.7463 1823.93 39.4801 Q1823.93 33.0797 1828.47 29.5959 Q1833 26.1121 1841.35 26.1121 Q1845.48 26.1121 1849.13 26.7198 Q1852.77 27.3274 1855.85 28.5427 Z\" fill=\"#000000\" fill-rule=\"nonzero\" fill-opacity=\"1\" /><path clip-path=\"url(#clip740)\" d=\"M1908.96 48.0275 L1908.96 51.6733 L1874.69 51.6733 Q1875.17 59.3701 1879.3 63.421 Q1883.48 67.4314 1890.89 67.4314 Q1895.18 67.4314 1899.19 66.3781 Q1903.25 65.3249 1907.22 63.2184 L1907.22 70.267 Q1903.21 71.9684 1898.99 72.8596 Q1894.78 73.7508 1890.44 73.7508 Q1879.59 73.7508 1873.23 67.4314 Q1866.91 61.1119 1866.91 50.3365 Q1866.91 39.1965 1872.9 32.6746 Q1878.94 26.1121 1889.15 26.1121 Q1898.3 26.1121 1903.61 32.0264 Q1908.96 37.9003 1908.96 48.0275 M1901.5 45.84 Q1901.42 39.7232 1898.06 36.0774 Q1894.74 32.4315 1889.23 32.4315 Q1882.99 32.4315 1879.22 35.9558 Q1875.5 39.4801 1874.93 45.8805 L1901.5 45.84 Z\" fill=\"#000000\" fill-rule=\"nonzero\" fill-opacity=\"1\" /><path clip-path=\"url(#clip740)\" d=\"M1948.53 34.9026 L2000.47 34.9026 L2000.47 41.7081 L1948.53 41.7081 L1948.53 34.9026 M1948.53 51.4303 L2000.47 51.4303 L2000.47 58.3168 L1948.53 58.3168 L1948.53 51.4303 Z\" fill=\"#000000\" fill-rule=\"nonzero\" fill-opacity=\"1\" /><path clip-path=\"url(#clip740)\" d=\"M2045.92 65.6895 L2059.29 65.6895 L2059.29 19.5497 L2044.74 22.4663 L2044.74 15.0127 L2059.21 12.096 L2067.39 12.096 L2067.39 65.6895 L2080.76 65.6895 L2080.76 72.576 L2045.92 72.576 L2045.92 65.6895 Z\" fill=\"#000000\" fill-rule=\"nonzero\" fill-opacity=\"1\" /><polyline clip-path=\"url(#clip742)\" style=\"stroke:#009af9; stroke-linecap:round; stroke-linejoin:round; stroke-width:12; stroke-opacity:1; fill:none\" points=\"2293.32,426.188 2073.2,543.083 1853.07,660.602 1632.95,763.248 1412.82,853.629 1192.7,934.462 972.573,1009.19 752.448,1080.45 532.323,1149.86 312.198,1218.32 \"/>\n",
       "<circle clip-path=\"url(#clip742)\" cx=\"2293.32\" cy=\"426.188\" r=\"14.4\" fill=\"#009af9\" fill-rule=\"evenodd\" fill-opacity=\"1\" stroke=\"#000000\" stroke-opacity=\"1\" stroke-width=\"3.2\"/>\n",
       "<circle clip-path=\"url(#clip742)\" cx=\"2073.2\" cy=\"543.083\" r=\"14.4\" fill=\"#009af9\" fill-rule=\"evenodd\" fill-opacity=\"1\" stroke=\"#000000\" stroke-opacity=\"1\" stroke-width=\"3.2\"/>\n",
       "<circle clip-path=\"url(#clip742)\" cx=\"1853.07\" cy=\"660.602\" r=\"14.4\" fill=\"#009af9\" fill-rule=\"evenodd\" fill-opacity=\"1\" stroke=\"#000000\" stroke-opacity=\"1\" stroke-width=\"3.2\"/>\n",
       "<circle clip-path=\"url(#clip742)\" cx=\"1632.95\" cy=\"763.248\" r=\"14.4\" fill=\"#009af9\" fill-rule=\"evenodd\" fill-opacity=\"1\" stroke=\"#000000\" stroke-opacity=\"1\" stroke-width=\"3.2\"/>\n",
       "<circle clip-path=\"url(#clip742)\" cx=\"1412.82\" cy=\"853.629\" r=\"14.4\" fill=\"#009af9\" fill-rule=\"evenodd\" fill-opacity=\"1\" stroke=\"#000000\" stroke-opacity=\"1\" stroke-width=\"3.2\"/>\n",
       "<circle clip-path=\"url(#clip742)\" cx=\"1192.7\" cy=\"934.462\" r=\"14.4\" fill=\"#009af9\" fill-rule=\"evenodd\" fill-opacity=\"1\" stroke=\"#000000\" stroke-opacity=\"1\" stroke-width=\"3.2\"/>\n",
       "<circle clip-path=\"url(#clip742)\" cx=\"972.573\" cy=\"1009.19\" r=\"14.4\" fill=\"#009af9\" fill-rule=\"evenodd\" fill-opacity=\"1\" stroke=\"#000000\" stroke-opacity=\"1\" stroke-width=\"3.2\"/>\n",
       "<circle clip-path=\"url(#clip742)\" cx=\"752.448\" cy=\"1080.45\" r=\"14.4\" fill=\"#009af9\" fill-rule=\"evenodd\" fill-opacity=\"1\" stroke=\"#000000\" stroke-opacity=\"1\" stroke-width=\"3.2\"/>\n",
       "<circle clip-path=\"url(#clip742)\" cx=\"532.323\" cy=\"1149.86\" r=\"14.4\" fill=\"#009af9\" fill-rule=\"evenodd\" fill-opacity=\"1\" stroke=\"#000000\" stroke-opacity=\"1\" stroke-width=\"3.2\"/>\n",
       "<circle clip-path=\"url(#clip742)\" cx=\"312.198\" cy=\"1218.32\" r=\"14.4\" fill=\"#009af9\" fill-rule=\"evenodd\" fill-opacity=\"1\" stroke=\"#000000\" stroke-opacity=\"1\" stroke-width=\"3.2\"/>\n",
       "<polyline clip-path=\"url(#clip742)\" style=\"stroke:#e26f46; stroke-linecap:round; stroke-linejoin:round; stroke-width:12; stroke-opacity:1; fill:none\" points=\"2293.32,159.909 2073.2,294.859 1853.07,429.809 1632.95,564.759 1412.82,699.709 1192.7,834.659 972.573,969.61 752.448,1104.56 532.323,1239.51 312.198,1374.46 \"/>\n",
       "<path clip-path=\"url(#clip740)\" d=\"M322.764 321.906 L621.582 321.906 L621.582 166.386 L322.764 166.386  Z\" fill=\"#ffffff\" fill-rule=\"evenodd\" fill-opacity=\"1\"/>\n",
       "<polyline clip-path=\"url(#clip740)\" style=\"stroke:#000000; stroke-linecap:round; stroke-linejoin:round; stroke-width:4; stroke-opacity:1; fill:none\" points=\"322.764,321.906 621.582,321.906 621.582,166.386 322.764,166.386 322.764,321.906 \"/>\n",
       "<polyline clip-path=\"url(#clip740)\" style=\"stroke:#009af9; stroke-linecap:round; stroke-linejoin:round; stroke-width:12; stroke-opacity:1; fill:none\" points=\"346.097,218.226 486.096,218.226 \"/>\n",
       "<circle clip-path=\"url(#clip740)\" cx=\"416.097\" cy=\"218.226\" r=\"19.4444\" fill=\"#009af9\" fill-rule=\"evenodd\" fill-opacity=\"1\" stroke=\"#000000\" stroke-opacity=\"1\" stroke-width=\"4.55111\"/>\n",
       "<path clip-path=\"url(#clip740)\" d=\"M509.43 200.946 L531.281 200.946 L531.281 204.881 L514.106 204.881 L514.106 215.113 L530.564 215.113 L530.564 219.048 L514.106 219.048 L514.106 231.571 L531.698 231.571 L531.698 235.506 L509.43 235.506 L509.43 200.946 Z\" fill=\"#000000\" fill-rule=\"nonzero\" fill-opacity=\"1\" /><path clip-path=\"url(#clip740)\" d=\"M554.221 213.562 Q553.503 213.145 552.647 212.96 Q551.814 212.752 550.795 212.752 Q547.184 212.752 545.24 215.113 Q543.318 217.451 543.318 221.849 L543.318 235.506 L539.036 235.506 L539.036 209.58 L543.318 209.58 L543.318 213.608 Q544.661 211.247 546.814 210.113 Q548.966 208.955 552.045 208.955 Q552.485 208.955 553.017 209.025 Q553.55 209.071 554.198 209.187 L554.221 213.562 Z\" fill=\"#000000\" fill-rule=\"nonzero\" fill-opacity=\"1\" /><path clip-path=\"url(#clip740)\" d=\"M572.878 213.562 Q572.161 213.145 571.304 212.96 Q570.471 212.752 569.452 212.752 Q565.841 212.752 563.897 215.113 Q561.976 217.451 561.976 221.849 L561.976 235.506 L557.693 235.506 L557.693 209.58 L561.976 209.58 L561.976 213.608 Q563.318 211.247 565.471 210.113 Q567.624 208.955 570.702 208.955 Q571.142 208.955 571.675 209.025 Q572.207 209.071 572.855 209.187 L572.878 213.562 Z\" fill=\"#000000\" fill-rule=\"nonzero\" fill-opacity=\"1\" /><path clip-path=\"url(#clip740)\" d=\"M586.351 212.567 Q582.925 212.567 580.934 215.252 Q578.943 217.914 578.943 222.567 Q578.943 227.219 580.911 229.904 Q582.901 232.566 586.351 232.566 Q589.753 232.566 591.744 229.881 Q593.735 227.196 593.735 222.567 Q593.735 217.96 591.744 215.275 Q589.753 212.567 586.351 212.567 M586.351 208.955 Q591.906 208.955 595.077 212.567 Q598.249 216.178 598.249 222.567 Q598.249 228.932 595.077 232.566 Q591.906 236.178 586.351 236.178 Q580.772 236.178 577.601 232.566 Q574.452 228.932 574.452 222.567 Q574.452 216.178 577.601 212.567 Q580.772 208.955 586.351 208.955 Z\" fill=\"#000000\" fill-rule=\"nonzero\" fill-opacity=\"1\" /><polyline clip-path=\"url(#clip740)\" style=\"stroke:#e26f46; stroke-linecap:round; stroke-linejoin:round; stroke-width:12; stroke-opacity:1; fill:none\" points=\"346.097,270.066 486.096,270.066 \"/>\n",
       "<path clip-path=\"url(#clip740)\" d=\"M531.142 271.698 L531.142 287.346 L526.883 287.346 L526.883 271.837 Q526.883 268.157 525.448 266.328 Q524.013 264.499 521.143 264.499 Q517.693 264.499 515.703 266.698 Q513.712 268.897 513.712 272.694 L513.712 287.346 L509.43 287.346 L509.43 251.328 L513.712 251.328 L513.712 265.448 Q515.24 263.11 517.3 261.953 Q519.383 260.795 522.092 260.795 Q526.559 260.795 528.851 263.573 Q531.142 266.328 531.142 271.698 Z\" fill=\"#000000\" fill-rule=\"nonzero\" fill-opacity=\"1\" /><path clip-path=\"url(#clip740)\" d=\"M541.374 269.245 L551.189 269.245 L551.189 271.883 L537.346 271.883 L537.346 269.337 Q538.133 268.62 539.592 267.323 Q547.554 260.263 547.554 258.087 Q547.554 256.559 546.351 255.633 Q545.147 254.684 543.179 254.684 Q541.976 254.684 540.564 255.101 Q539.152 255.495 537.485 256.305 L537.485 253.458 Q539.267 252.809 540.795 252.485 Q542.346 252.161 543.666 252.161 Q547.022 252.161 549.036 253.689 Q551.05 255.217 551.05 257.717 Q551.05 260.934 543.388 267.508 Q542.091 268.62 541.374 269.245 Z\" fill=\"#000000\" fill-rule=\"nonzero\" fill-opacity=\"1\" /></svg>\n"
      ]
     },
     "metadata": {},
     "output_type": "display_data"
    },
    {
     "data": {
      "text/plain": [
       "\"Tabela com os valores de h e erro - exemplo 2 - caso_C⁰ = 1\""
      ]
     },
     "metadata": {},
     "output_type": "display_data"
    },
    {
     "data": {
      "text/html": [
       "<div><div style = \"float: left;\"><span>10×2 DataFrame</span></div><div style = \"clear: both;\"></div></div><div class = \"data-frame\" style = \"overflow-x: scroll;\"><table class = \"data-frame\" style = \"margin-bottom: 6px;\"><thead><tr class = \"header\"><th class = \"rowNumber\" style = \"font-weight: bold; text-align: right;\">Row</th><th style = \"text-align: left;\">h</th><th style = \"text-align: left;\">erro</th></tr><tr class = \"subheader headerLastRow\"><th class = \"rowNumber\" style = \"font-weight: bold; text-align: right;\"></th><th title = \"Float64\" style = \"text-align: left;\">Float64</th><th title = \"Float64\" style = \"text-align: left;\">Float64</th></tr></thead><tbody><tr><td class = \"rowNumber\" style = \"font-weight: bold; text-align: right;\">1</td><td style = \"text-align: right;\">0.25</td><td style = \"text-align: right;\">0.00405428</td></tr><tr><td class = \"rowNumber\" style = \"font-weight: bold; text-align: right;\">2</td><td style = \"text-align: right;\">0.125</td><td style = \"text-align: right;\">0.00122013</td></tr><tr><td class = \"rowNumber\" style = \"font-weight: bold; text-align: right;\">3</td><td style = \"text-align: right;\">0.0625</td><td style = \"text-align: right;\">0.000364846</td></tr><tr><td class = \"rowNumber\" style = \"font-weight: bold; text-align: right;\">4</td><td style = \"text-align: right;\">0.03125</td><td style = \"text-align: right;\">0.000127108</td></tr><tr><td class = \"rowNumber\" style = \"font-weight: bold; text-align: right;\">5</td><td style = \"text-align: right;\">0.015625</td><td style = \"text-align: right;\">5.02287e-5</td></tr><tr><td class = \"rowNumber\" style = \"font-weight: bold; text-align: right;\">6</td><td style = \"text-align: right;\">0.0078125</td><td style = \"text-align: right;\">2.18941e-5</td></tr><tr><td class = \"rowNumber\" style = \"font-weight: bold; text-align: right;\">7</td><td style = \"text-align: right;\">0.00390625</td><td style = \"text-align: right;\">1.01613e-5</td></tr><tr><td class = \"rowNumber\" style = \"font-weight: bold; text-align: right;\">8</td><td style = \"text-align: right;\">0.00195312</td><td style = \"text-align: right;\">4.88673e-6</td></tr><tr><td class = \"rowNumber\" style = \"font-weight: bold; text-align: right;\">9</td><td style = \"text-align: right;\">0.000976562</td><td style = \"text-align: right;\">2.39522e-6</td></tr><tr><td class = \"rowNumber\" style = \"font-weight: bold; text-align: right;\">10</td><td style = \"text-align: right;\">0.000488281</td><td style = \"text-align: right;\">1.18562e-6</td></tr></tbody></table></div>"
      ],
      "text/latex": [
       "\\begin{tabular}{r|cc}\n",
       "\t& h & erro\\\\\n",
       "\t\\hline\n",
       "\t& Float64 & Float64\\\\\n",
       "\t\\hline\n",
       "\t1 & 0.25 & 0.00405428 \\\\\n",
       "\t2 & 0.125 & 0.00122013 \\\\\n",
       "\t3 & 0.0625 & 0.000364846 \\\\\n",
       "\t4 & 0.03125 & 0.000127108 \\\\\n",
       "\t5 & 0.015625 & 5.02287e-5 \\\\\n",
       "\t6 & 0.0078125 & 2.18941e-5 \\\\\n",
       "\t7 & 0.00390625 & 1.01613e-5 \\\\\n",
       "\t8 & 0.00195312 & 4.88673e-6 \\\\\n",
       "\t9 & 0.000976562 & 2.39522e-6 \\\\\n",
       "\t10 & 0.000488281 & 1.18562e-6 \\\\\n",
       "\\end{tabular}\n"
      ],
      "text/plain": [
       "\u001b[1m10×2 DataFrame\u001b[0m\n",
       "\u001b[1m Row \u001b[0m│\u001b[1m h           \u001b[0m\u001b[1m erro        \u001b[0m\n",
       "     │\u001b[90m Float64     \u001b[0m\u001b[90m Float64     \u001b[0m\n",
       "─────┼──────────────────────────\n",
       "   1 │ 0.25         0.00405428\n",
       "   2 │ 0.125        0.00122013\n",
       "   3 │ 0.0625       0.000364846\n",
       "   4 │ 0.03125      0.000127108\n",
       "   5 │ 0.015625     5.02287e-5\n",
       "   6 │ 0.0078125    2.18941e-5\n",
       "   7 │ 0.00390625   1.01613e-5\n",
       "   8 │ 0.00195312   4.88673e-6\n",
       "   9 │ 0.000976562  2.39522e-6\n",
       "  10 │ 0.000488281  1.18562e-6"
      ]
     },
     "metadata": {},
     "output_type": "display_data"
    },
    {
     "name": "stdout",
     "output_type": "stream",
     "text": [
      "  6.992568 seconds (67.63 M allocations: 5.913 GiB, 12.24% gc time, 1.59% compilation time)\n"
     ]
    }
   ],
   "source": [
    "exemple = 2\n",
    "case = 1\n",
    "\n",
    "@time begin\n",
    "     vec_h, vec_errors = calcule_error(exemple, case)\n",
    "end\n",
    "\n",
    "show_error(vec_h, vec_errors, exemple, case)"
   ]
  }
 ],
 "metadata": {
  "kernelspec": {
   "display_name": "Julia 1.8.1",
   "language": "julia",
   "name": "julia-1.8"
  },
  "language_info": {
   "file_extension": ".jl",
   "mimetype": "application/julia",
   "name": "julia",
   "version": "1.8.1"
  }
 },
 "nbformat": 4,
 "nbformat_minor": 2
}
