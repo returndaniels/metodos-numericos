{
 "cells": [
  {
   "cell_type": "code",
   "execution_count": 1,
   "metadata": {},
   "outputs": [],
   "source": [
    "using LinearAlgebra"
   ]
  },
  {
   "cell_type": "code",
   "execution_count": null,
   "metadata": {},
   "outputs": [],
   "source": [
    "function make_K(n: Int, alfa, beta, h)\n",
    "    K = zeros(n, n)\n",
    "    for i in 1:n-1\n",
    "        K[i, i] = 2*(alfa/h + beta*h/3)\n",
    "        K[i, i+1] = -alfa/h + beta*h/6\n",
    "        K[i+1, i] = -alfa/h + beta*h/6\n",
    "    end\n",
    "    K[n, n] = 2*(alfa/h + beta*h/3)\n",
    "end"
   ]
  },
  {
   "cell_type": "code",
   "execution_count": null,
   "metadata": {},
   "outputs": [],
   "source": []
  }
 ],
 "metadata": {
  "kernelspec": {
   "display_name": "Julia 1.8.1",
   "language": "julia",
   "name": "julia-1.8"
  },
  "language_info": {
   "file_extension": ".jl",
   "mimetype": "application/julia",
   "name": "julia",
   "version": "1.8.1"
  }
 },
 "nbformat": 4,
 "nbformat_minor": 2
}
