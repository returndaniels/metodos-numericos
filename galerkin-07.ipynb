{
 "cells": [
  {
   "cell_type": "markdown",
   "metadata": {},
   "source": [
    "## Definição da formulação forte"
   ]
  },
  {
   "cell_type": "markdown",
   "metadata": {},
   "source": [
    "Dada uma função $f:[0,1]\\rightarrow\\mathbb{R}$ e constantes reais $\\alpha>0$, $\\beta \\geq 0$, $T \\geq 0$ determine $u:[0,1] \\times [0,T]\\rightarrow\\mathbb{R}$ e $u_0:[0,1]\\rightarrow\\mathbb{R}$, tal que\n",
    "\n",
    "\\begin{align*}\n",
    "\\left\\{\n",
    "\\begin{aligned}\n",
    "&u_t(x,t)-\\alpha u_{xx}(x,t) + \\beta u(x,t) + g(u(x,t)) = f(x,t),&& \\forall (x,t)\\in]0,1[\\times[0,T],\n",
    "\\\\\n",
    "&u(0,t)=u(1,t)=0,                                    && \\forall t\\in[0,T],\n",
    "\\\\\n",
    "&u(x,0) = u_0(x),                                    && \\forall x\\in[0,1].                \n",
    "\\end{aligned}\\right.\n",
    "\\end{align*}"
   ]
  },
  {
   "cell_type": "markdown",
   "metadata": {},
   "source": [
    "## Definição da formulação fraca"
   ]
  },
  {
   "cell_type": "markdown",
   "metadata": {},
   "source": [
    "Dadas as constantes reais $\\alpha > 0$, $\\beta \\geq 0$ e $T > 0$, e as funções $f:[0,1]\\times[0,T]\\rightarrow\\mathbb{R}$ e $u_0:[0,1]\\rightarrow\\mathbb{R}$, determine $u(t)\\in V$, $t\\in[0,T]$, tal que\n",
    "\n",
    "\n",
    "\\begin{align*}\n",
    "\\left\\{\n",
    "\\begin{aligned}\n",
    "& \\int_0^1 u'(x,t)v(x) dx\n",
    "+ \\alpha \\int_0^1\\frac{\\partial u}{\\partial x}(x,t)\\frac{\\partial v}{\\partial x}(x)dx\n",
    "+ \\beta  \\int_0^1 u(x,t)v(x)dx\n",
    "+ \\int_0^1 g(u(x, t))v(x)dx\n",
    "= \\int_0^1f(x,t)v(x)dx,\n",
    "\\quad \\forall v\\in V,\n",
    "\\\\[8pt]\n",
    "& u(x,0) = u_0(x), \n",
    "\\quad x\\in]0,1[.\n",
    "\\end{aligned}\n",
    "\\right.\n",
    "\\end{align*}"
   ]
  },
  {
   "cell_type": "markdown",
   "metadata": {},
   "source": [
    "### Definição dos operadores da formulação fraca"
   ]
  },
  {
   "cell_type": "markdown",
   "metadata": {},
   "source": [
    "Para simplificar a escrita, vamos reescrever a equação acima utilizando dois operadores. O primeiro, é dado por\n",
    "\n",
    "\\begin{align*}\n",
    "\\kappa:V\\times V\\rightarrow\\mathbb{R},\\;(w,v)\\mapsto \\kappa(w,v)=\n",
    "  \\alpha \\int_0^1\\frac{d w}{d x}(x)\\frac{d v}{d x}(x)dx\n",
    "+ \\beta  \\int_0^1 w(x)v(x)dx.\n",
    "\\end{align*}\n",
    "\n",
    "Quanto ao segundo operador, considere\n",
    "\n",
    "\\begin{align*}\n",
    "\\big(w,v\\big) = \\int_0^1 w(x) v(x)dx.\n",
    "\\end{align*}\n",
    "\n",
    "Utilizando esses operadores, a formulação fraca pode ser reescrita como: Dadas as constantes reais $\\alpha>0$, $\\beta \\geq 0$, $T \\geq 0$ e as funções $f:[0,1]\\times[0,T]\\rightarrow\\mathbb{R}$ e $u_0:[0,1]\\rightarrow\\mathbb{R}$, determine $u(t)\\in V$, $t\\in[0,T]$, tal que\n",
    "\n",
    "\\begin{align*}\n",
    "\\left\\{\n",
    "\\begin{aligned}\n",
    "& \\big(u'(t),v\\big) + \\kappa(u(t),v) + (g(u(t)), v) = \\big(f(t),v\\big),\n",
    "\\quad \\forall v\\in V,\n",
    "\\\\[8pt]\n",
    "& u(0) = u_0.\n",
    "\\end{aligned}\n",
    "\\right.\n",
    "\\end{align*}"
   ]
  },
  {
   "cell_type": "markdown",
   "metadata": {},
   "source": [
    "# Problema totalmente discreto - via o método de Galerkin no espaço e Crank-Nicolson no tempo"
   ]
  },
  {
   "cell_type": "markdown",
   "metadata": {},
   "source": [
    "No espaço, já está definido $V_m$, o subespaço de dimensão finita de $V$, gerado pelas funções base $\\varphi_1,\\varphi_2,\\dots,\\varphi_m$.\n",
    "No tempo, precisamos estabelecer a discretização temporal para aplicar o método de diferenças finitas escolhido. \n",
    "Nesse sentido, seja $\\tau>0$ uma constante real positiva, e considere $0=t_0<t_1<\\dots<t_N\\leq T$ uma discretização unifome no intervalo $[0,T]$.\n",
    "Além disso, defina $t_{n-\\frac{1}{2}}=\\frac{t_n+t_{n-1}}{2}$ como o ponto médio do intervalo $[t_{n-1},t_n]$. \n",
    "A seguir, apresentamos a ilustração de uma partição do intervalo de tempo $[0,T]$."
   ]
  },
  {
   "cell_type": "markdown",
   "metadata": {},
   "source": [
    "Ssegue a definição do problema aproximado: Dadas as constantes reais $\\alpha > 0$, $\\beta \\geq 0$ e $T > 0$, e as funções $f:[0,1]\\times[0,T]\\rightarrow\\mathbb{R}$, $u_0^{}:[0,1]\\rightarrow\\mathbb{R}$ e $u_{0h}^{}\\in V_m$ uma aproximação para $u_0^{}$, determine $U^n\\in V_m=[\\varphi_1,\\varphi_2,\\dots,\\varphi_{m}]$, tal que\n",
    "\n",
    "\\begin{align*}\n",
    "\\left\\{\n",
    "\\begin{aligned}\n",
    "& \\Big(\\frac{U^n-U^{n-1}}{\\tau},v_h\\Big) + \\kappa\\Big(\\frac{U^n+U^{n-1}}{2},v_h\\Big) + \\Big(g\\Big(\\frac{U^n-U^{n-1}}{2}\\Big),v\\Big) = \\big(f(t_{n-\\frac{1}{2}}),v_h\\big),\n",
    "\\quad \\forall v_h\\in V_m,\\quad n=1,2,\\dots,N,\n",
    "\\\\[8pt]\n",
    "& U^0 = u_{0h}.\n",
    "\\end{aligned}\n",
    "\\right.\n",
    "\\end{align*}"
   ]
  },
  {
   "cell_type": "markdown",
   "metadata": {},
   "source": [
    "## Passo a passo para a definição do problema totalmente discreto"
   ]
  },
  {
   "cell_type": "markdown",
   "metadata": {},
   "source": [
    "* Passo 1. Considerar a formulação fraca no instante de tempo $t_{n-\\frac{1}{2}}$, ou seja,\n",
    "\\begin{align*}\n",
    "& \\big(u'(t_{n-\\frac{1}{2}}),v\\big) + \\kappa(u(t_{n-\\frac{1}{2}}),v) + g(u(t_{n-\\frac{1}{2}}),v) = \\big(f(t_{n-\\frac{1}{2}}),v\\big),\n",
    "\\quad \\forall v\\in V.\n",
    "\\end{align*}\n",
    "\n",
    "* Passo 2. Definir as diferenças finitas que serão utilizadas. \n",
    "Fazendo uso de expansões de Taylor apropriadas, obtemos: \n",
    "\\begin{align*}\n",
    "\\frac{u(t_n)-u(t_{n-1})}{\\tau}=u'(t_{n-\\frac{1}{2}}) +\\mathcal{O}(\\tau^2),\n",
    "\\quad\n",
    "\\frac{u(t_n)+u(t_{n-1})}{2}=u(t_{n-\\frac{1}{2}}) + \\mathcal{O}(\\tau^2)\n",
    "\\quad\\hbox{e}\\quad\n",
    "\\frac{3u(t_{n-1})-u(t_{n-2})}{2}=u(t_{n-\\frac{1}{2}}) + \\mathcal{O}(\\tau^2)\n",
    "\\end{align*}\n",
    "\n",
    "* Passo 3. Utilizar as diferenças finitas na formulação fraca.\n",
    "Subtituindo $u'(t_{n-\\frac{1}{2}})$ e $u(t_{n-\\frac{1}{2}})$ na formulação fraca pelas diferenças finitas acima, temos que\n",
    "\\begin{align*}\n",
    "& \\big(\\frac{u(t_n)-u(t_{n-1})}{\\tau},v\\big) + \\kappa(\\frac{u(t_n)+u(t_{n-1})}{2},v) + g(\\frac{3u(t_{n-1})-u(t_{n-2})}{2},v) \\approx \\big(f(t_{n-\\frac{1}{2}}),v\\big),\n",
    "\\quad \\forall v\\in V.\n",
    "\\end{align*}\n",
    "\n",
    "* Passo 4. Definir o problema aproximado.\n",
    "O problema aproximado consiste em buscar uma função em $V_m$ que satisfaça a igualdade, em vez da aproximação definida no passo 3, ou seja, buscar por uma função $U^n\\in V_m$ tal que\n",
    "\\begin{align*}\n",
    "& \\big(\\frac{U^n-U^{n-1}}{\\tau},v\\big) + \\kappa(\\frac{U^n+U^{n-1}}{2},v)  + \\big(g(\\frac{3U^{n-1}-U^{n-2}}{2},v)\\big) = \\big(f(t_{n-\\frac{1}{2}}),v\\big),\n",
    "\\quad \\forall v\\in V_m.\n",
    "\\end{align*}\n"
   ]
  },
  {
   "cell_type": "markdown",
   "metadata": {},
   "source": [
    "## Formulação matricial"
   ]
  },
  {
   "cell_type": "markdown",
   "metadata": {},
   "source": [
    "### Definição da matriz $C$"
   ]
  },
  {
   "cell_type": "markdown",
   "metadata": {},
   "source": [
    "\\begin{align*}\n",
    "C = \n",
    "\\left\\{\n",
    "\\begin{aligned}\n",
    "& C^0, n=1, \\text{parte 1}\n",
    "\\\\[10pt]\n",
    "& \\frac{\\~{}C^1 + C^0}{2}, n=1, \\text{parte 2}\n",
    "\\\\\n",
    "& \\frac{3C^{n-1} - C^{n-2}}{2}, n \\geq 2\n",
    "\\end{aligned}\\right.\n",
    "\\end{align*}"
   ]
  },
  {
   "cell_type": "markdown",
   "metadata": {},
   "source": [
    "### Definição da $G_i(c)$"
   ]
  },
  {
   "cell_type": "markdown",
   "metadata": {},
   "source": [
    "\\begin{align*}\n",
    "G_i(C) = \\int_0^1 g(\\Sigma_{j=1}^m C_{j}\\varphi_{j})\\varphi_{i}dx\n",
    "\\end{align*}"
   ]
  },
  {
   "cell_type": "markdown",
   "metadata": {},
   "source": [
    "\n",
    "\\begin{align*}\n",
    "G_a^e(C) = \\int_{x_1^e}^{x_2^e} g(C\\varphi_{1}^e(x) + C\\varphi_{2}^e(x))\\varphi_{a}^e(x)dx\n",
    "\\end{align*}"
   ]
  },
  {
   "cell_type": "markdown",
   "metadata": {},
   "source": [
    "Tomando $\\displaystyle U^n(x) = \\sum_{j=1}^{m} C_j^{n}\\varphi_j(x)$ e $v_h=\\varphi_i$, para $i=1,2,\\dots,m$, temos o seguinte sistema:\n",
    "\n",
    "\\begin{align*}\n",
    "\\left\\{\n",
    "\\begin{aligned}\n",
    "& \\Big(\\frac{\\sum_{j=1}^{m}(C_j^n-C_j^{n-1})\\varphi_j}{\\tau},\\varphi_1\\Big) + \\kappa\\Big(\\frac{\\sum_{j=1}^{m}(C_j^n+C_j^{n-1})\\varphi_j}{2},\\varphi_1\\Big) + g\\Big(\\frac{\\sum_{j=1}^{m}(C_j^{n-1}+C_j^{n-2})\\varphi_j}{2},\\varphi_1\\Big) = \\big(f(t_{n-\\frac{1}{2}}),\\varphi_1\\big), \n",
    "\\\\[10pt]\n",
    "& \\Big(\\frac{\\sum_{j=1}^{m}(C_j^n-C_j^{n-1})\\varphi_j}{\\tau},\\varphi_2\\Big) + \\kappa\\Big(\\frac{\\sum_{j=1}^{m}(C_j^n+C_j^{n-1})\\varphi_j}{2},\\varphi_2\\Big) + g\\Big(\\frac{\\sum_{j=1}^{m}(C_j^{n-1}+C_j^{n-2})\\varphi_j}{2},\\varphi_2\\Big) = \\big(f(t_{n-\\frac{1}{2}}),\\varphi_2\\big), \n",
    "\\\\\n",
    "& \\vdots\n",
    "\\\\\n",
    "& \\Big(\\frac{\\sum_{j=1}^{m}(C_j^n-C_j^{n-1})\\varphi_j}{\\tau},\\varphi_m\\Big) + \\kappa\\Big(\\frac{\\sum_{j=1}^{m}(C_j^n+C_j^{n-1})\\varphi_j}{2},\\varphi_m\\Big) + g\\Big(\\frac{\\sum_{j=1}^{m}(C_j^{n-1}+C_j^{n-n})\\varphi_j}{2},\\varphi_m\\Big) = \\big(f(t_{n-\\frac{1}{2}}),\\varphi_m\\big).\n",
    "\\end{aligned}\\right.\n",
    "\\end{align*}\n",
    "\n",
    "Com isso, dado que os operadores $\\kappa$ e $\\big(\\cdot,\\cdot\\big)$ são lineares em cada componente, temos:\n",
    "\n",
    "\\begin{align*}\n",
    "\\left\\{\n",
    "\\begin{aligned}\n",
    "& \n",
    "      \\big(\\varphi_1,\\varphi_1\\big)\\frac{C_1^n-C_1^{n-1}}{\\tau}+      \\big(\\varphi_2,\\varphi_1\\big)\\frac{C_2^n-C_2^{n-1}}{\\tau} + \\dots +       \\big(\\varphi_m,\\varphi_1\\big)\\frac{C_m^n-C_m^{n-1}}{\\tau}\n",
    "\\quad+\\quad\n",
    "\\kappa\\big(\\varphi_1,\\varphi_1\\big)\\frac{C_1^n+C_1^{n-1}}{2   }+\\kappa\\big(\\varphi_2,\\varphi_1\\big)\\frac{C_2^n+C_2^{n-1}}{2   } + \\dots + \\kappa\\big(\\varphi_m,\\varphi_1\\big)\\frac{C_m^n+C_m^{n-1}}{2   } + g\\big(\\varphi_2,\\varphi_1\\big)\\frac{3C_2^{n-1}+C_2^{n-2}}{2   } + \\dots + g\\big(\\varphi_m,\\varphi_1\\big)\\frac{3C_m^{n-1}+C_m^{n-2}}{2   } \n",
    "= \\big(f(t_{n-\\frac{1}{2}}),\\varphi_1\\big), \n",
    "\\\\[10pt]\n",
    "&\n",
    "      \\big(\\varphi_1,\\varphi_2\\big)\\frac{C_1^n-C_1^{n-1}}{\\tau}+      \\big(\\varphi_2,\\varphi_2\\big)\\frac{C_2^n-C_2^{n-1}}{\\tau} + \\dots +       \\big(\\varphi_m,\\varphi_2\\big)\\frac{C_m^n-C_m^{n-1}}{\\tau}\n",
    "\\quad+\\quad\n",
    "\\kappa\\big(\\varphi_1,\\varphi_2\\big)\\frac{C_1^n+C_1^{n-1}}{2   }+\\kappa\\big(\\varphi_2,\\varphi_2\\big)\\frac{C_2^n+C_2^{n-1}}{2   } + \\dots + \\kappa\\big(\\varphi_m,\\varphi_2\\big)\\frac{C_m^n+C_m^{n-1}}{2   } + g\\big(\\varphi_2,\\varphi_2\\big)\\frac{3C_2^{n-1}+C_2^{n-2}}{2   } + \\dots + g\\big(\\varphi_m,\\varphi_2\\big)\\frac{3C_m^{n-1}+C_m^{n-2}}{2   } \n",
    "= \\big(f(t_{n-\\frac{1}{2}}),\\varphi_2\\big), \n",
    "\\\\\n",
    "& \\vdots\n",
    "\\\\\n",
    "& \n",
    "      \\big(\\varphi_1,\\varphi_m\\big)\\frac{C_1^n-C_1^{n-1}}{\\tau}+      \\big(\\varphi_2,\\varphi_m\\big)\\frac{C_2^n-C_2^{n-1}}{\\tau} + \\dots +       \\big(\\varphi_m,\\varphi_m\\big)\\frac{C_m^n-C_m^{n-1}}{\\tau}\n",
    "\\quad+\\quad\n",
    "\\kappa\\big(\\varphi_1,\\varphi_m\\big)\\frac{C_1^n+C_1^{n-1}}{2   }+\\kappa\\big(\\varphi_2,\\varphi_m\\big)\\frac{C_2^n+C_2^{n-1}}{2   } + \\dots + \\kappa\\big(\\varphi_m,\\varphi_m\\big)\\frac{C_m^n+C_m^{n-1}}{2   } +g\\big(\\varphi_2,\\varphi_m\\big)\\frac{3C_2^{n-1}+C_2^{n-2}}{2   } + \\dots + g\\big(\\varphi_m,\\varphi_m\\big)\\frac{3C_m^{n-1}+C_m^{n-2}}{2   } \n",
    "= \\big(f(t_{n-\\frac{1}{2}}),\\varphi_m\\big), .\n",
    "\\end{aligned}\\right.\n",
    "\\end{align*}\n",
    "\n",
    "\n",
    "Note que esse sistema pode ser reescrito na seguinte forma matricial:\n",
    "\n",
    "\\begin{align*}\n",
    "\\begin{bmatrix}\n",
    "\\big(\\varphi_1,\\varphi_1\\big)&\\big(\\varphi_2,\\varphi_1\\big)&\\dots&\\big(\\varphi_m,\\varphi_1\\big)\n",
    "\\\\[10pt]\n",
    "\\big(\\varphi_1,\\varphi_2\\big)&\\big(\\varphi_2,\\varphi_2\\big)&\\dots&\\big(\\varphi_m,\\varphi_2\\big)\n",
    "\\\\\n",
    "\\vdots&\\vdots&\\ddots& \\vdots  \n",
    "\\\\\n",
    "\\big(\\varphi_1,\\varphi_m\\big)&\\big(\\varphi_2,\\varphi_m\\big)&\\dots&\\big(\\varphi_m,\\varphi_m\\big)\n",
    "\\end{bmatrix}\n",
    "\\frac{C^n-C^{n-1}}{\\tau}\n",
    "\\quad+\\quad\n",
    "\\begin{bmatrix}\n",
    "\\kappa\\big(\\varphi_1,\\varphi_1\\big)&\\kappa\\big(\\varphi_2,\\varphi_1\\big)&\\dots&\\kappa\\big(\\varphi_m,\\varphi_1\\big)\n",
    "\\\\[10pt]\n",
    "\\kappa\\big(\\varphi_1,\\varphi_2\\big)&\\kappa\\big(\\varphi_2,\\varphi_2\\big)&\\dots&\\kappa\\big(\\varphi_m,\\varphi_2\\big)\n",
    "\\\\\n",
    "\\vdots&\\vdots&\\ddots& \\vdots  \n",
    "\\\\\n",
    "\\kappa\\big(\\varphi_1,\\varphi_m\\big)&\\kappa\\big(\\varphi_2,\\varphi_m\\big)&\\dots&\\kappa\\big(\\varphi_m,\\varphi_m\\big)\n",
    "\\end{bmatrix}\n",
    "\\frac{C^n+C^{n-1}}{2   }\n",
    "\\quad+\\quad\n",
    "\\begin{align*}\n",
    "\\begin{bmatrix}\n",
    "g\\big(\\varphi_1,\\varphi_1\\big)& g\\big(\\varphi_2,\\varphi_1\\big)&\\dots& g\\big(\\varphi_m,\\varphi_1\\big)\n",
    "\\\\[10pt]\n",
    "g\\big(\\varphi_1,\\varphi_2\\big)& g\\big(\\varphi_2,\\varphi_2\\big)&\\dots& g\\big(\\varphi_m,\\varphi_2\\big)\n",
    "\\\\\n",
    "\\vdots&\\vdots&\\ddots& \\vdots  \n",
    "\\\\\n",
    "g\\big(\\varphi_1,\\varphi_m\\big)& g\\big(\\varphi_2,\\varphi_m\\big)&\\dots& g\\big(\\varphi_m,\\varphi_m\\big)\n",
    "\\end{bmatrix}\n",
    "\\frac{3C^{n-1}+C^{n-2}}{2}\n",
    "\\end{align*}\n",
    "=\n",
    "\\begin{bmatrix}\n",
    "\\big(f(t_{n-\\frac{1}{2}}),\\varphi_1\\big)\\\\[10pt]\n",
    "\\big(f(t_{n-\\frac{1}{2}}),\\varphi_2\\big)\\\\\n",
    "\\vdots\\\\\n",
    "\\big(f(t_{n-\\frac{1}{2}}),\\varphi_m\\big)\\\\\n",
    "\\end{bmatrix}.\n",
    "\\end{align*}"
   ]
  },
  {
   "cell_type": "markdown",
   "metadata": {},
   "source": [
    "Por fim, definindo \n",
    "\n",
    "\\begin{align*}\n",
    "M_{i,j} = (\\varphi_j,\\varphi_i),\n",
    "\\quad\n",
    "K_{i,j} = \\kappa(\\varphi_j,\\varphi_i)\n",
    "\\quad\\text{e}\\quad\n",
    "F_i^{n-\\frac{1}{2}} = \\big(f(t_{n-\\frac{1}{2}}),\\varphi_i\\big), \n",
    "\\quad\\text{com}\\quad\n",
    "i,j\\in\\{1,2,3,\\dots,m\\},\n",
    "\\end{align*}\n",
    "\n",
    "obtemos a formulação matriz-vetor do problema aproximado, que consiste em determinar $C^n\\in\\mathbb{R}^m$ tal que\n",
    "\\begin{align*}\n",
    "\\left\\{\n",
    "\\begin{aligned}\n",
    "& M\\frac{C^n-C^{n-1}}{\\tau}\n",
    "+K\\frac{C^n+C^{n-1}}{2}\n",
    "+G(\\frac{3C^{n-1}-C^{n-2}}{2})=F^{n-\\frac{1}{2}},\n",
    "\\quad n=1,2,\\dots,N,\n",
    "\\\\\n",
    "& C^0=???.\n",
    "\\end{aligned}\n",
    "\\right.\n",
    "\\end{align*}"
   ]
  },
  {
   "cell_type": "markdown",
   "metadata": {},
   "source": [
    "## Aproximação de $u_0$: exemplos de escolhas de $U^0 \\in V_m$"
   ]
  },
  {
   "cell_type": "markdown",
   "metadata": {},
   "source": [
    "Qualquer função $U^0 \\in V_m$ que esteja suficientemente próxima de $u_0$ é uma escolha viável. \n",
    "O quão próxima ela deve estar, e em qual norma essa distância é medida, só fica claro quando realizamos a demonstração da estimativa de erro entre a solução aproximada e a solução exata.\n",
    "Não vamos entrar nesses detalhes aqui. \n",
    "Contudo, a escolha que apresentaremos a seguir usualmente satisfaz tais condições."
   ]
  },
  {
   "cell_type": "markdown",
   "metadata": {},
   "source": [
    "### Tomando $U^0$ como a interpolante de $u_0$ - se a base satisfaz a propriedade $\\varphi_j(x_i) = \\delta_{i,j}$"
   ]
  },
  {
   "cell_type": "markdown",
   "metadata": {},
   "source": [
    "Quando a base satisfaz a propriedade $\\varphi_j(x_i) = \\delta_{i,j}$, onde $x_i$ é um nó da malha espacial, temos que \n",
    "$$\n",
    "U^0(x_i) = \\sum_{j=1}^m C_j^0 \\varphi_j(x_i) = C_i^0.\n",
    "$$\n",
    "\n",
    "Consequentemente, para esse tipo de base, se tomarmos $C_i^0$ como $u_0(x_i)$, então $U^0$ interpola $u_0$.\n",
    "Assim sendo, nesse caso, vamos definir\n",
    "$$\n",
    "C^0 =\n",
    "\\begin{bmatrix}\n",
    "u_0(x_1)\\\\\n",
    "u_0(x_2)\\\\\n",
    "\\vdots\\\\\n",
    "u_0(x_m)\n",
    "\\end{bmatrix}.\n",
    "$$"
   ]
  },
  {
   "cell_type": "code",
   "execution_count": 37,
   "metadata": {},
   "outputs": [],
   "source": [
    "using LinearAlgebra\n",
    "using Plots\n",
    "using GaussQuadrature\n",
    "using DataFrames\n",
    "using SparseArrays"
   ]
  },
  {
   "cell_type": "markdown",
   "metadata": {},
   "source": [
    "### Exemplos de solução exata para o problema acima:\n"
   ]
  },
  {
   "cell_type": "code",
   "execution_count": 38,
   "metadata": {},
   "outputs": [
    {
     "data": {
      "text/plain": [
       "dados_de_entrada"
      ]
     },
     "metadata": {},
     "output_type": "display_data"
    }
   ],
   "source": [
    "function exemplo1()\n",
    "    T = 1.0\n",
    "    α = 1.0\n",
    "    β = 1.0\n",
    "    λ = α * π^2 + β\n",
    "    f(x, t) = 0.0\n",
    "    u₀(x) = sin(π * x) / π^2\n",
    "    u(x, t) = sin(π * x) * (exp(-λ * t) / π^2)\n",
    "    return T, α, β, f, u₀, u\n",
    "end\n",
    "function exemplo2()\n",
    "    T = 1.0\n",
    "    α = 1.0\n",
    "    β = 1.0\n",
    "    λ = 1.0\n",
    "    f(x, t) = sin(π * x) * ((-λ + α * π^2 + β) * exp(-λ * t) / π^2)\n",
    "    u₀(x) = sin(π * x) / π^2\n",
    "    u(x, t) = sin(π * x) * (exp(-λ * t) / π^2)\n",
    "    return T, α, β, f, u₀, u\n",
    "end\n",
    "\n",
    "\"Retorna os valores de `T`, `α`, `β`, `f`, `u₀` e `u` de acordo com o exemplo escolhido.\"\n",
    "function dados_de_entrada(exemplo::Int)\n",
    "    if exemplo == 1\n",
    "        return exemplo1()\n",
    "    elseif exemplo == 2\n",
    "        return exemplo2()\n",
    "    else\n",
    "        error(\"Exemplo inválido. Escolha 1 ou 2.\")\n",
    "    end\n",
    "end"
   ]
  },
  {
   "cell_type": "code",
   "execution_count": 39,
   "metadata": {},
   "outputs": [
    {
     "data": {
      "text/plain": [
       "d_phi (generic function with 1 method)"
      ]
     },
     "metadata": {},
     "output_type": "display_data"
    }
   ],
   "source": [
    "\"\"\"\n",
    "Mapeia um ponto `psi` do intervalo padrão `[-1, 1]` para o intervalo físico\n",
    "\"\"\"\n",
    "function X(psi::Float64, h::Float64, x1e::Float64)\n",
    "    return (psi + 1.0) * h / 2.0 + x1e\n",
    "end\n",
    "\n",
    "function phi(psi::Float64, a::Int)\n",
    "    if a == 1\n",
    "        return (1.0 - psi) / 2.0\n",
    "    elseif a == 2\n",
    "        return (1.0 + psi) / 2.0\n",
    "    else\n",
    "        error(\"a deve ser 1 ou 2.\")\n",
    "    end\n",
    "end\n",
    "\n",
    "function d_phi(psi::Float64, a::Int)\n",
    "    if a == 1\n",
    "        return -1.0 / 2.0\n",
    "    elseif a == 2\n",
    "        return 1.0 / 2.0\n",
    "    else\n",
    "        error(\"a deve ser 1 ou 2.\")\n",
    "    end\n",
    "end\n",
    "\n"
   ]
  },
  {
   "cell_type": "markdown",
   "metadata": {},
   "source": [
    "## Calculo das matrizes LG e EQ a partir do número de elementos\n",
    "\n",
    "A matriz $LG$ armazena a correspondência entre a nomenclatura local e global de cada elemento finito. Assim, ela possui $n_e$ colunas, cada uma relativa a um elemento finito.\n",
    "\n",
    "\\begin{align*}\n",
    "LG(a,e) = \n",
    "\\begin{cases}\n",
    "e,&\\quad\\text{se } a=1,\n",
    "\\\\ \n",
    "e+1,&\\quad\\text{se } a=2.\n",
    "\\end{cases}\n",
    "\\end{align*}\n",
    "\n",
    "Dessa forma, a matriz $LG$ é dada por\n",
    "\\begin{align*}\n",
    "LG = \n",
    "\\begin{bmatrix}\n",
    "1 & 2 & \\dots & e-1 & e   & \\dots & n_e  \\\\\n",
    "2 & 3 & \\dots & e   & e+1 & \\dots & n_e+1\\\\\n",
    "\\end{bmatrix}_{2\\times n_e}.\n",
    "\\end{align*}\n",
    "\n",
    " Cada entrada do vetor $EQ$ possui a nova numeração de uma função global. Portanto, o tamanho do vetor $EQ$\n",
    " é dado pelo número de funções globais, ou seja, $n_e + 1$.\n",
    "\n",
    "\\begin{align*}\n",
    "EQ = \n",
    "\\begin{bmatrix}\n",
    "m+1 & 1 & 2 &\\dots & m & m+1 \n",
    "\\end{bmatrix}_{(n_e+1)}\n",
    "\\end{align*}"
   ]
  },
  {
   "cell_type": "code",
   "execution_count": 40,
   "metadata": {},
   "outputs": [
    {
     "data": {
      "text/plain": [
       "make_EQ (generic function with 1 method)"
      ]
     },
     "metadata": {},
     "output_type": "display_data"
    }
   ],
   "source": [
    "function make_LG(ne::Int) :: Matrix{Int}\n",
    "    return transpose(hcat(1:ne, 2:ne+1))\n",
    "end\n",
    "\n",
    "function make_EQ(ne::Int) :: Tuple{Int,Vector{Int}}\n",
    "    m = ne - 1         \n",
    "    EQ = vcat(m+1,1:m,m+1)\n",
    "    return m, EQ\n",
    "end"
   ]
  },
  {
   "cell_type": "markdown",
   "metadata": {},
   "source": [
    "### Cálculo da matriz local $K^e$ - via quadratura gaussia"
   ]
  },
  {
   "cell_type": "markdown",
   "metadata": {},
   "source": [
    "\\begin{align*}\n",
    "K^e_{a,b} \n",
    " = \n",
    "  \\alpha \\int_{x_{1}^e}^{x_2^e}\\frac{d\\varphi_b^e}{dx}(x)\\frac{d\\varphi_a^e}{dx}(x)dx\n",
    "+ \\beta  \\int_{x_{1}^e}^{x_2^e}\\varphi_b^e(x)\\varphi_a^e(x)dx\n",
    " =\n",
    "\\frac{2\\alpha}{h} \\int_{-1}^{1}\n",
    "\\frac{d\\phi_b}{d\\xi}(\\xi)\\frac{d\\phi_a}{d\\xi}(\\xi)d\\xi\n",
    "+ \\frac{\\beta h}{2}  \\int_{-1}^{1}\n",
    "\\phi_b(\\xi)\\phi_a(\\xi) d\\xi\n",
    "=\n",
    "\\frac{2\\alpha}{h} \\sum_{j=1}^{n_{pg}} W_j \\frac{d\\phi_b}{d\\xi}(P_j)\\frac{d\\phi_a}{d\\xi}(P_j)\n",
    "+ \\frac{\\beta h}{2} \\sum_{j=1}^{n_{pg}} W_j \\phi_b(P_j)\\phi_a(P_j)\n",
    "\\end{align*}"
   ]
  },
  {
   "cell_type": "code",
   "execution_count": 41,
   "metadata": {},
   "outputs": [
    {
     "data": {
      "text/plain": [
       "make_Ke (generic function with 2 methods)"
      ]
     },
     "metadata": {},
     "output_type": "display_data"
    }
   ],
   "source": [
    "\n",
    "function make_Ke(alfa::Float64, beta::Float64, h::Float64, npg::Int=2)\n",
    "    P, W = legendre(npg)\n",
    "    K = zeros(2, 2)\n",
    "    c1 = 2*alfa/h\n",
    "    c2 = beta*h/2\n",
    "\n",
    "    for a in 1:2\n",
    "        for b in 1:2\n",
    "            for j in 1:npg\n",
    "                K[a, b] += W[j] * (d_phi(P[j], a) * d_phi(P[j], b) * c1 + phi(P[j], a) * phi(P[j], b) * c2)\n",
    "            end\n",
    "        end\n",
    "    end\n",
    "\n",
    "    return K\n",
    "end"
   ]
  },
  {
   "cell_type": "markdown",
   "metadata": {},
   "source": [
    "### Montagem da matriz global K a partir da matriz local $K^e$"
   ]
  },
  {
   "cell_type": "code",
   "execution_count": 42,
   "metadata": {},
   "outputs": [
    {
     "data": {
      "text/plain": [
       "make_K (generic function with 1 method)"
      ]
     },
     "metadata": {},
     "output_type": "display_data"
    }
   ],
   "source": [
    "function make_K(alfa::Float64, beta::Float64, ne::Int, m::Int, EQoLG::Matrix{Int})\n",
    "    h = 1.0 / ne\n",
    "    K = spzeros(m+1, m+1)\n",
    "    Ke = make_Ke(alfa, beta, h)\n",
    "\n",
    "    for e in 1:ne\n",
    "        for a in 1:2\n",
    "            i = EQoLG[a, e]\n",
    "            for b in 1:2\n",
    "                K[i, EQoLG[b, e]] += Ke[a, b]\n",
    "            end\n",
    "        end\n",
    "    end\n",
    "\n",
    "    return K[1:m, 1:m]\n",
    "end"
   ]
  },
  {
   "cell_type": "markdown",
   "metadata": {},
   "source": [
    "### Cálculo do vetor local $F^e$ - via quadratura gaussiana"
   ]
  },
  {
   "cell_type": "markdown",
   "metadata": {},
   "source": [
    "\\begin{align*}\n",
    "F_a^e \n",
    " = \n",
    "\\int_{x_1^e}^{x_2^e}f(x)\\varphi_a^e(x)dx\n",
    " =\n",
    "\\frac{h}{2} \\int_{-1}^{1}f\\big(x(\\xi,e)\\big)\\phi_a(\\xi)d\\xi\n",
    " \\approx\n",
    "\\frac{h}{2} \\sum_{j=1}^{n_{pg}} W_j f\\big(x(P_j,e)\\big)\\phi_a(P_j).\n",
    "\\end{align*}"
   ]
  },
  {
   "cell_type": "code",
   "execution_count": 43,
   "metadata": {},
   "outputs": [
    {
     "data": {
      "text/plain": [
       "make_Fe (generic function with 2 methods)"
      ]
     },
     "metadata": {},
     "output_type": "display_data"
    }
   ],
   "source": [
    "function make_Fe(f::Function, h::Float64, xle::Float64, P::Vector{Float64}, W::Vector{Float64}, npg::Int=5)\n",
    "    Fe = zeros(2)     \n",
    "    for a in 1:2\n",
    "        for j = 1:npg\n",
    "            x = X(P[j], h, xle)\n",
    "            Fe[a] += W[j] * f(x) * phi(P[j], a) * h/2\n",
    "        end\n",
    "    end\n",
    "    \n",
    "    return Fe\n",
    "end"
   ]
  },
  {
   "cell_type": "markdown",
   "metadata": {},
   "source": [
    "### Montagem do vetor global F a partir do vetor local $F^e$\n"
   ]
  },
  {
   "cell_type": "code",
   "execution_count": 44,
   "metadata": {},
   "outputs": [
    {
     "data": {
      "text/plain": [
       "make_F (generic function with 2 methods)"
      ]
     },
     "metadata": {},
     "output_type": "display_data"
    }
   ],
   "source": [
    "function make_F(f::Function, ne::Int, m::Int, EQoLG::Matrix{Int}, npg::Int=5)\n",
    "    h = 1.0 / ne\n",
    "    F = zeros(m + 1)\n",
    "    P, W = legendre(npg)\n",
    "    \n",
    "    for e in 1:ne\n",
    "        Fe = make_Fe(f, h, (e-1)*h, P, W, npg)\n",
    "        for a = 1:2\n",
    "            F[EQoLG[a, e]] += Fe[a]\n",
    "        end\n",
    "    end\n",
    "    \n",
    "    return F[1:m]\n",
    "end"
   ]
  },
  {
   "cell_type": "markdown",
   "metadata": {},
   "source": [
    "### Montagem do vetor local $Ge$"
   ]
  },
  {
   "cell_type": "code",
   "execution_count": 45,
   "metadata": {},
   "outputs": [
    {
     "data": {
      "text/plain": [
       "make_Ge (generic function with 1 method)"
      ]
     },
     "metadata": {},
     "output_type": "display_data"
    }
   ],
   "source": [
    "function make_Ge(C_ext::Vector{Float64}, EQoLG::Matrix{Int}, e::Int, h::Float64, X::Vector{Float64}, W::Vector{Float64})\n",
    "    Ge = zeros(2)\n",
    "\n",
    "    Ce_phi = C_ext[EQoLG[1, e]] * phi.(X, 1) .+ C_ext[EQoLG[2, e]] * phi.(X, 2)\n",
    "    \n",
    "    # Cálculo de Ge para o elemento e\n",
    "    Ge[1] = dot(W, Ce_phi .* phi.(X, 1)) * h / 2\n",
    "    Ge[2] = dot(W, Ce_phi .* phi.(X, 2)) * h / 2\n",
    "\n",
    "    return Ge\n",
    "end\n"
   ]
  },
  {
   "cell_type": "markdown",
   "metadata": {},
   "source": [
    "### Montagem do vetor global $G$"
   ]
  },
  {
   "cell_type": "code",
   "execution_count": 46,
   "metadata": {},
   "outputs": [
    {
     "data": {
      "text/plain": [
       "make_G (generic function with 2 methods)"
      ]
     },
     "metadata": {},
     "output_type": "display_data"
    }
   ],
   "source": [
    "function make_G(C::Vector{Float64}, ne::Int, m::Int, EQoLG::Matrix{Int}, npg::Int=5)\n",
    "    h = 1.0 / ne\n",
    "    X, W = legendre(npg)\n",
    "    G = zeros(ne)\n",
    "    \n",
    "    C_ext = [C; 0]\n",
    "\n",
    "    for e in 1:ne\n",
    "        # Chamada à função make_Ge para obter o vetor local Ge\n",
    "        Ge = make_Ge(C_ext, EQoLG, e, h, X, W)\n",
    "        \n",
    "        # Soma ao vetor global G\n",
    "        for a in 1:2\n",
    "            i = EQoLG[a, e]\n",
    "            G[i] += Ge[a]\n",
    "        end\n",
    "    end\n",
    "    \n",
    "    return G[1:(ne-1)]\n",
    "end\n"
   ]
  },
  {
   "cell_type": "markdown",
   "metadata": {},
   "source": [
    "## Cálculo do erro no tempo $t_n$"
   ]
  },
  {
   "cell_type": "markdown",
   "metadata": {},
   "source": [
    "O erro na norma do espaço $L^2(]0,1[)$ entre a solução exata $u(x,t_n)$ e a solução aproximada $U^n(x)$, definida por $\\displaystyle U^n(x) = \\sum_{j=1}^m C_j^n\\varphi_j(x)$, é dado por \n",
    "$\\displaystyle\\|u(t_n)-U^n\\|=\\sqrt{\\int_0^1|u(x,t_n)-U^n(x)|^2dx}$.\n",
    "\n",
    "Dessa forma, denotando $\\mathcal{E}_h^n=\\|u(t_n)-U^n\\|$ e $\\bar{C}^n=[C^n;0]$, temos que:\n",
    "\n",
    "\\begin{align*}\n",
    "(\\mathcal{E}_h^n)^2 \n",
    "\\approx\n",
    "\\frac{h}{2} \\sum_{e=1}^{n_e} \\sum_{j=1}^{n_{pg}} \n",
    "W_j|u\\big(x(P_j,e),t_n\\big) - \\bar{C}_{EQoLG(1,e)}^n\\phi_1(P_j) - \\bar{C}_{EQoLG(2,e)}^n\\phi_2(P_j) |^2.\n",
    "\\end{align*}"
   ]
  },
  {
   "cell_type": "code",
   "execution_count": 47,
   "metadata": {},
   "outputs": [
    {
     "data": {
      "text/plain": [
       "erro_norma_L2"
      ]
     },
     "metadata": {},
     "output_type": "display_data"
    }
   ],
   "source": [
    "@doc raw\"\"\"\n",
    "Calcula a norma L² da diferença entre duas funções, `z(x)` e `Z(x)`, \n",
    "onde `Z(x)` pertence ao espaço aproximado `Vₘ`, sendo expressa como `Z(x) = Σ_{j=1}^{m} C_j φ_j(x)`. \n",
    "A integral da diferença é aproximada em cada elemento finito por meio da quadratura de Gauss-Legendre.\n",
    "\n",
    "# Parâmetros:\n",
    "- `z::Function`: Função `z(x)` que representa a solução exata no domínio.\n",
    "- `coeff::Vector{Float64}`: Vetor de coeficientes estendido, `C̄ = [C; 0]`, onde `C` é o vetor de coeficientes que define a função aproximada `Z(x)`.\n",
    "- `ne::Int`: Número total de elementos (ou intervalos) em que o domínio `[0,1]` é dividido.\n",
    "- `EQoLG::Matrix{Int}`: ≡ EQ[LG].\n",
    "\n",
    "# Retorno:\n",
    "- `Float64`: O valor do erro calculado na norma L² entre `z(x)` e a aproximação `Z(x)`.\n",
    "\"\"\"\n",
    "function erro_norma_L2(z::Function, coeff::Vector{Float64}, ne::Int, EQoLG::Matrix{Int})::Float64\n",
    "    h = 1.0 / ne       # Comprimento de cada elemento finito\n",
    "    erro = 0.0         # Inicializa o erro\n",
    "    P, W = legendre(5) # Pontos e pesos da quadratura de Gauss-Legendre (5 pontos)\n",
    "\n",
    "    # Calcula as funções de base ϕ₁ e ϕ₂ nos pontos de quadratura P\n",
    "    phi_1P = phi.(P, 1)\n",
    "    phi_2P = phi.(P, 2)\n",
    "\n",
    "    # Loop sobre todos os elementos finitos\n",
    "    for e = 1:ne\n",
    "        # Coeficientes da solução aproximada para o elemento `e`\n",
    "        c1e = coeff[EQoLG[1, e]]\n",
    "        c2e = coeff[EQoLG[2, e]]\n",
    "\n",
    "        # Loop sobre os pontos de quadratura\n",
    "        for j = 1:length(P)\n",
    "            x = X(P[j], h, (e - 1) * h) # Mapeia o ponto de quadratura `P[j]` de [-1,1] para [x1e,x2e]\n",
    "            erro += W[j] * (z(x) - c1e * phi_1P[j] - c2e * phi_2P[j])^2\n",
    "        end\n",
    "    end\n",
    "\n",
    "    return sqrt(erro * h / 2)\n",
    "end"
   ]
  },
  {
   "cell_type": "markdown",
   "metadata": {},
   "source": [
    "# Cálculo de $C^0$"
   ]
  },
  {
   "cell_type": "code",
   "execution_count": 48,
   "metadata": {},
   "outputs": [
    {
     "data": {
      "text/plain": [
       "calcule_C0 (generic function with 1 method)"
      ]
     },
     "metadata": {},
     "output_type": "display_data"
    }
   ],
   "source": [
    "function calcule_C0(C::Vector{Float64}, f::Function, ne::Int, m::Int, EQoLG::Matrix{Int}; C0_case::Int=2)\n",
    "    if C0_case == 1\n",
    "        h = 1.0 / ne\n",
    "        @. C = f(h:h:1.0-h)\n",
    "    elseif C0_case == 2\n",
    "        C .= make_K(0.0, 1.0, ne, m, EQoLG) \\ make_F(f, ne, m, EQoLG)\n",
    "    else\n",
    "        error(\"C0_case deve ser 1 ou 2.\")\n",
    "    end\n",
    "end"
   ]
  },
  {
   "cell_type": "markdown",
   "metadata": {},
   "source": [
    "# Cálculo de $C^n$"
   ]
  },
  {
   "cell_type": "code",
   "execution_count": 49,
   "metadata": {},
   "outputs": [
    {
     "data": {
      "text/plain": [
       "calcule_Cn (generic function with 1 method)"
      ]
     },
     "metadata": {},
     "output_type": "display_data"
    }
   ],
   "source": [
    "function calcule_Cn(C::Vector{Float64}, C_previus::Vector{Float64}, A, B::SparseMatrixCSC{Float64,Int64}, ne::Int, m::Int, EQoLG::Matrix{Int}, tau::Float64, n::Int, f::Function)\n",
    "    t_medium = n * tau - tau / 2\n",
    "    F = make_F(x -> f(x, t_medium), ne, m, EQoLG)\n",
    "    G = make_G(C_previus, ne, m, EQoLG)\n",
    "    C .= A \\ (B * C_previus + tau * F - G)\n",
    "end"
   ]
  },
  {
   "cell_type": "markdown",
   "metadata": {},
   "source": [
    "### Comparando a solução aproximada com a solução exata\n"
   ]
  },
  {
   "cell_type": "code",
   "execution_count": 50,
   "metadata": {},
   "outputs": [
    {
     "data": {
      "text/plain": [
       "show_solution (generic function with 1 method)"
      ]
     },
     "metadata": {},
     "output_type": "display_data"
    }
   ],
   "source": [
    "function show_solution(example::Int, case::Int)\n",
    "    T, alfa, beta, f, u0, u = dados_de_entrada(example)\n",
    "\n",
    "    npg = 5\n",
    "    ne = 4\n",
    "    h = 1.0 / ne\n",
    "    tau = h\n",
    "    t = 0:tau:T\n",
    "    N = length(t) - 1\n",
    "\n",
    "    LG = make_LG(ne)\n",
    "    m, EQ = make_EQ(ne)\n",
    "    EQoLG = EQ[LG]\n",
    "\n",
    "    M = make_K(0.0, 1.0, ne, m, EQoLG)\n",
    "    K = make_K(alfa, beta, ne, m, EQoLG)\n",
    "    \n",
    "    A = M + (tau / 2) * K\n",
    "    B = M - (tau / 2) * K\n",
    "    \n",
    "    # Exibe os valores ne, LG, m, EQ e EQoLG\n",
    "    display(\"ne = \"); display(ne)\n",
    "    display(\"LG = \"); display(LG)\n",
    "    display(\"m = \"); display(m)\n",
    "    display(\"EQ = \"); display(EQ)\n",
    "    display(\"Matriz K:\")\n",
    "    display(M)\n",
    "    display(\"Matriz K:\")\n",
    "    display(K)\n",
    "    display(\"A = \"); display(A)\n",
    "    display(\"B = \"); display(B)\n",
    "\n",
    "    C_previus = zeros(m)\n",
    "    C   = zeros(m)\n",
    "\n",
    "    values = [u(x,t) for x in 0:0.01:1, t in t]\n",
    "    y_upper_limit= minimum(values) \n",
    "    y_lower_limit = maximum(values) \n",
    "    \n",
    "    errors = zeros(N + 1)\n",
    "    \n",
    "    \n",
    "    # Cria uma animação\n",
    "    anim = @animate for n = 0:N\n",
    "        if n == 0\n",
    "            calcule_C0(C_previus, u0, ne, m, EQoLG; C0_case=case)\n",
    "        else\n",
    "            calcule_Cn(C, C_previus, A, B, ne, m, EQoLG, tau, n, f)\n",
    "            C_previus .= C\n",
    "        end\n",
    "\n",
    "        errors[n+1] = erro_norma_L2(x -> u(x, t[n+1]), [C_previus; 0], ne, EQoLG)\n",
    "\n",
    "        # Cria a figura com layout único\n",
    "        plt = plot(size=(800, 400),\n",
    "            title=\"Soluções Exata e Aproximada em t_$(n)= $(t[n+1])\",\n",
    "            xlabel=\"x\",\n",
    "            legend=:topright,\n",
    "            ylim=(y_lower_limit, y_upper_limit))\n",
    "\n",
    "        # Gráfico da solução exata u(x, t[n+1])\n",
    "        plot!(plt, 0:0.01:1, u.(0:0.01:1, t[n+1]),\n",
    "            lw=3, color=:blue, label=\"u(x,t_$(n))\")\n",
    "\n",
    "        # Gráfico da solução aproximada Uⁿ(x)\n",
    "        plot!(plt, 0:h:1, [0; C_previus; 0],\n",
    "            lw=3, color=:red, linestyle=:dash, markershape=:circle, label=\"U^$(n)(x)\")\n",
    "    end\n",
    "\n",
    "    display(\"Erros na norma L2:\")\n",
    "    display(errors)\n",
    "\n",
    "    display(\"Erro máximo na norma L2:\")\n",
    "    display(maximum(errors))\n",
    "\n",
    "    gif(anim, \"imagens/solucao_exata_vs_aproximada.gif\", fps=1)\n",
    "end"
   ]
  },
  {
   "cell_type": "code",
   "execution_count": 51,
   "metadata": {},
   "outputs": [
    {
     "data": {
      "text/plain": [
       "\"ne = \""
      ]
     },
     "metadata": {},
     "output_type": "display_data"
    },
    {
     "data": {
      "text/plain": [
       "4"
      ]
     },
     "metadata": {},
     "output_type": "display_data"
    },
    {
     "data": {
      "text/plain": [
       "\"LG = \""
      ]
     },
     "metadata": {},
     "output_type": "display_data"
    },
    {
     "data": {
      "text/plain": [
       "2×4 Matrix{Int64}:\n",
       " 1  2  3  4\n",
       " 2  3  4  5"
      ]
     },
     "metadata": {},
     "output_type": "display_data"
    },
    {
     "data": {
      "text/plain": [
       "\"m = \""
      ]
     },
     "metadata": {},
     "output_type": "display_data"
    },
    {
     "data": {
      "text/plain": [
       "3"
      ]
     },
     "metadata": {},
     "output_type": "display_data"
    },
    {
     "data": {
      "text/plain": [
       "\"EQ = \""
      ]
     },
     "metadata": {},
     "output_type": "display_data"
    },
    {
     "data": {
      "text/plain": [
       "5-element Vector{Int64}:\n",
       " 4\n",
       " 1\n",
       " 2\n",
       " 3\n",
       " 4"
      ]
     },
     "metadata": {},
     "output_type": "display_data"
    },
    {
     "data": {
      "text/plain": [
       "\"Matriz K:\""
      ]
     },
     "metadata": {},
     "output_type": "display_data"
    },
    {
     "data": {
      "text/plain": [
       "3×3 SparseMatrixCSC{Float64, Int64} with 7 stored entries:\n",
       " 0.166667   0.0416667   ⋅ \n",
       " 0.0416667  0.166667   0.0416667\n",
       "  ⋅         0.0416667  0.166667"
      ]
     },
     "metadata": {},
     "output_type": "display_data"
    },
    {
     "data": {
      "text/plain": [
       "\"Matriz K:\""
      ]
     },
     "metadata": {},
     "output_type": "display_data"
    },
    {
     "data": {
      "text/plain": [
       "3×3 SparseMatrixCSC{Float64, Int64} with 7 stored entries:\n",
       "  8.16667  -3.95833    ⋅ \n",
       " -3.95833   8.16667  -3.95833\n",
       "   ⋅       -3.95833   8.16667"
      ]
     },
     "metadata": {},
     "output_type": "display_data"
    },
    {
     "data": {
      "text/plain": [
       "\"A = \""
      ]
     },
     "metadata": {},
     "output_type": "display_data"
    },
    {
     "data": {
      "text/plain": [
       "3×3 SparseMatrixCSC{Float64, Int64} with 7 stored entries:\n",
       "  1.1875    -0.453125    ⋅ \n",
       " -0.453125   1.1875    -0.453125\n",
       "   ⋅        -0.453125   1.1875"
      ]
     },
     "metadata": {},
     "output_type": "display_data"
    },
    {
     "data": {
      "text/plain": [
       "\"B = \""
      ]
     },
     "metadata": {},
     "output_type": "display_data"
    },
    {
     "data": {
      "text/plain": [
       "3×3 SparseMatrixCSC{Float64, Int64} with 7 stored entries:\n",
       " -0.854167   0.536458    ⋅ \n",
       "  0.536458  -0.854167   0.536458\n",
       "   ⋅         0.536458  -0.854167"
      ]
     },
     "metadata": {},
     "output_type": "display_data"
    },
    {
     "data": {
      "text/plain": [
       "\"Erros na norma L2:\""
      ]
     },
     "metadata": {},
     "output_type": "display_data"
    },
    {
     "data": {
      "text/plain": [
       "5-element Vector{Float64}:\n",
       " 0.003980336614548407\n",
       " 0.03142704945283689\n",
       " 0.007716985962962374\n",
       " 0.0158468392947506\n",
       " 0.006557771579610933"
      ]
     },
     "metadata": {},
     "output_type": "display_data"
    },
    {
     "data": {
      "text/plain": [
       "\"Erro máximo na norma L2:\""
      ]
     },
     "metadata": {},
     "output_type": "display_data"
    },
    {
     "data": {
      "text/plain": [
       "0.03142704945283689"
      ]
     },
     "metadata": {},
     "output_type": "display_data"
    },
    {
     "name": "stderr",
     "output_type": "stream",
     "text": [
      "/home/daniel/Workspace/metodos-numericos/imagens/solucao_exata_vs_aproximada.gif: No such file or directory\n"
     ]
    },
    {
     "ename": "ProcessFailedException",
     "evalue": "failed process: Process(`/home/daniel/.julia/artifacts/5b83972689fb7dea5e89326f1c0ba60d68e962fb/bin/ffmpeg -v 16 -framerate 1 -i /tmp/jl_TLwOZZ/%06d.png -i /tmp/jl_TLwOZZ/palette.bmp -lavfi paletteuse=dither=sierra2_4a -loop 0 -y /home/daniel/Workspace/metodos-numericos/imagens/solucao_exata_vs_aproximada.gif`, ProcessExited(1)) [1]\n",
     "output_type": "error",
     "traceback": [
      "failed process: Process(`/home/daniel/.julia/artifacts/5b83972689fb7dea5e89326f1c0ba60d68e962fb/bin/ffmpeg -v 16 -framerate 1 -i /tmp/jl_TLwOZZ/%06d.png -i /tmp/jl_TLwOZZ/palette.bmp -lavfi paletteuse=dither=sierra2_4a -loop 0 -y /home/daniel/Workspace/metodos-numericos/imagens/solucao_exata_vs_aproximada.gif`, ProcessExited(1)) [1]\n",
      "\n",
      "\n",
      "Stacktrace:\n",
      "  [1] pipeline_error\n",
      "    @ ./process.jl:565 [inlined]\n",
      "  [2] run(::Cmd; wait::Bool)\n",
      "    @ Base ./process.jl:480\n",
      "  [3] run\n",
      "    @ ./process.jl:477 [inlined]\n",
      "  [4] (::FFMPEG.var\"#4#6\"{Cmd})(command_path::String)\n",
      "    @ FFMPEG ~/.julia/packages/FFMPEG/OUpap/src/FFMPEG.jl:112\n",
      "  [5] (::JLLWrappers.var\"#2#3\"{FFMPEG.var\"#4#6\"{Cmd}, String})()\n",
      "    @ JLLWrappers ~/.julia/packages/JLLWrappers/pG9bm/src/runtime.jl:49\n",
      "  [6] withenv(::JLLWrappers.var\"#2#3\"{FFMPEG.var\"#4#6\"{Cmd}, String}, ::Pair{String, String}, ::Vararg{Pair{String, String}})\n",
      "    @ Base ./env.jl:172\n",
      "  [7] withenv_executable_wrapper(f::Function, executable_path::String, PATH::String, LIBPATH::String, adjust_PATH::Bool, adjust_LIBPATH::Bool)\n",
      "    @ JLLWrappers ~/.julia/packages/JLLWrappers/pG9bm/src/runtime.jl:48\n",
      "  [8] #invokelatest#2\n",
      "    @ ./essentials.jl:729 [inlined]\n",
      "  [9] invokelatest\n",
      "    @ ./essentials.jl:726 [inlined]\n",
      " [10] #ffmpeg#3\n",
      "    @ ~/.julia/packages/JLLWrappers/pG9bm/src/products/executable_generators.jl:22 [inlined]\n",
      " [11] ffmpeg\n",
      "    @ ~/.julia/packages/JLLWrappers/pG9bm/src/products/executable_generators.jl:19 [inlined]\n",
      " [12] #exe#2\n",
      "    @ ~/.julia/packages/FFMPEG/OUpap/src/FFMPEG.jl:111 [inlined]\n",
      " [13] ffmpeg_exe\n",
      "    @ ~/.julia/packages/FFMPEG/OUpap/src/FFMPEG.jl:123 [inlined]\n",
      " [14] |>\n",
      "    @ ./operators.jl:911 [inlined]\n",
      " [15] buildanimation(anim::Animation, fn::String, is_animated_gif::Bool; fps::Int64, loop::Int64, variable_palette::Bool, verbose::Bool, show_msg::Bool)\n",
      "    @ Plots ~/.julia/packages/Plots/du2dt/src/animation.jl:144\n",
      " [16] #gif#302\n",
      "    @ ~/.julia/packages/Plots/du2dt/src/animation.jl:91 [inlined]\n",
      " [17] show_solution(example::Int64, case::Int64)\n",
      "    @ Main ~/Workspace/metodos-numericos/jl_notebook_cell_df34fa98e69747e1a8f8a730347b8e2f_X65sZmlsZQ==.jl:76\n",
      " [18] top-level scope\n",
      "    @ ~/Workspace/metodos-numericos/jl_notebook_cell_df34fa98e69747e1a8f8a730347b8e2f_X66sZmlsZQ==.jl:4"
     ]
    }
   ],
   "source": [
    "example = 2\n",
    "case = 1\n",
    "\n",
    "show_solution(example, case)"
   ]
  },
  {
   "cell_type": "markdown",
   "metadata": {},
   "source": [
    "### Estudo de convergência do erro."
   ]
  },
  {
   "cell_type": "code",
   "execution_count": 52,
   "metadata": {},
   "outputs": [
    {
     "data": {
      "text/plain": [
       "show_error (generic function with 1 method)"
      ]
     },
     "metadata": {},
     "output_type": "display_data"
    }
   ],
   "source": [
    "function calcule_error(example::Int, case::Int)\n",
    "    T, alfa, beta, f, u0, u = dados_de_entrada(example)\n",
    "\n",
    "    vec_ne = [2^i for i = 2:14]\n",
    "    vec_h = 1.0 ./ vec_ne\n",
    "    vec_tau = vec_h\n",
    "    vec_erros = zeros(length(vec_ne))\n",
    "\n",
    "    npg = 5\n",
    "    for i = 1:length(vec_ne)\n",
    "        ne = vec_ne[i]\n",
    "        h = vec_h[i]\n",
    "        tau = vec_tau[i]\n",
    "        t = 0:tau:T\n",
    "        N = length(t) - 1\n",
    "\n",
    "        LG = make_LG(ne)\n",
    "        m, EQ = make_EQ(ne)\n",
    "        EQoLG = EQ[LG]\n",
    "\n",
    "        M = make_K(0.0, 1.0, ne, m, EQoLG)\n",
    "        K = make_K(alfa, beta, ne, m, EQoLG)\n",
    "        P, W = legendre(npg)\n",
    "\n",
    "        A = M + (tau / 2) * K\n",
    "        B = M - (tau / 2) * K\n",
    "\n",
    "        LU_A = lu(A)\n",
    "\n",
    "        C_previus = zeros(m);  \n",
    "        C = zeros(m)\n",
    "\n",
    "        erros = zeros(N + 1)\n",
    "\n",
    "        calcule_C0(C_previus, u0, ne, m, EQoLG; C0_case=case)\n",
    "        erros[1] = erro_norma_L2(u0, [C_previus; 0], ne, EQoLG)\n",
    "\n",
    "        for n = 1:N\n",
    "            calcule_Cn(C, C_previus, LU_A, B, ne, m, EQoLG, tau, n, f)\n",
    "\n",
    "            C_previus .= C\n",
    "            erros[n+1] = erro_norma_L2(x -> u(x, t[n+1]), [C_previus; 0], ne, EQoLG)\n",
    "        end\n",
    "\n",
    "        vec_erros[i] = maximum(erros)\n",
    "    end\n",
    "\n",
    "    return vec_h, vec_erros\n",
    "end\n",
    "\n",
    "function show_error(vec_h, vec_erros, exemplo, case)\n",
    "    # Cria o gráfico do erro em função de h em escala logarítmica\n",
    "    plt = plot(\n",
    "        vec_h, vec_erros, lw=3, linestyle=:solid, markershape=:circle,\n",
    "        label=\"Erro\", title=\"Estudo do erro - exemplo $exemplo - case = $case\",\n",
    "        xscale=:log10, yscale=:log10, legend=:topleft\n",
    "    )\n",
    "\n",
    "    # Adiciona a curva teórica de h² ao gráfico\n",
    "    plot!(plt, vec_h, vec_h .^ 2, lw=3, linestyle=:solid, label=\"h²\")\n",
    "\n",
    "    # Adiciona rótulos aos eixos\n",
    "    xlabel!(\"h\")\n",
    "    ylabel!(\"Erro\")\n",
    "\n",
    "    # Exibe o gráfico\n",
    "    display(plt)\n",
    "\n",
    "    # Exibe a tabela com os valores de h e erro\n",
    "    display(\"Tabela com os valores de h e erro - exemplo \" * string(exemplo) * \" - caso_C⁰ = \" * string(caso_C⁰))\n",
    "    display(DataFrame(h=vec_h, erro=vec_erros))\n",
    "end"
   ]
  },
  {
   "cell_type": "code",
   "execution_count": 53,
   "metadata": {},
   "outputs": [
    {
     "ename": "InterruptException",
     "evalue": "InterruptException:",
     "output_type": "error",
     "traceback": [
      "InterruptException:\n",
      "\n",
      "Stacktrace:\n",
      "  [1] Array\n",
      "    @ ./boot.jl:459 [inlined]\n",
      "  [2] Array\n",
      "    @ ./boot.jl:468 [inlined]\n",
      "  [3] Array\n",
      "    @ ./boot.jl:476 [inlined]\n",
      "  [4] similar\n",
      "    @ ./abstractarray.jl:841 [inlined]\n",
      "  [5] similar\n",
      "    @ ./abstractarray.jl:840 [inlined]\n",
      "  [6] similar\n",
      "    @ ./broadcast.jl:212 [inlined]\n",
      "  [7] similar\n",
      "    @ ./broadcast.jl:211 [inlined]\n",
      "  [8] copy\n",
      "    @ ./broadcast.jl:885 [inlined]\n",
      "  [9] materialize\n",
      "    @ ./broadcast.jl:860 [inlined]\n",
      " [10] broadcast_preserving_zero_d\n",
      "    @ ./broadcast.jl:849 [inlined]\n",
      " [11] *(A::Float64, B::Vector{Float64})\n",
      "    @ Base ./arraymath.jl:21\n",
      " [12] make_Ge(C_ext::Vector{Float64}, EQoLG::Matrix{Int64}, e::Int64, h::Float64, X::Vector{Float64}, W::Vector{Float64})\n",
      "    @ Main ~/Workspace/metodos-numericos/jl_notebook_cell_df34fa98e69747e1a8f8a730347b8e2f_Y106sZmlsZQ==.jl:4\n",
      " [13] make_G(C::Vector{Float64}, ne::Int64, m::Int64, EQoLG::Matrix{Int64}, npg::Int64)\n",
      "    @ Main ~/Workspace/metodos-numericos/jl_notebook_cell_df34fa98e69747e1a8f8a730347b8e2f_Y110sZmlsZQ==.jl:10\n",
      " [14] make_G\n",
      "    @ ~/Workspace/metodos-numericos/jl_notebook_cell_df34fa98e69747e1a8f8a730347b8e2f_Y110sZmlsZQ==.jl:2 [inlined]\n",
      " [15] calcule_Cn(C::Vector{Float64}, C_previus::Vector{Float64}, A::SuiteSparse.UMFPACK.UmfpackLU{Float64, Int64}, B::SparseMatrixCSC{Float64, Int64}, ne::Int64, m::Int64, EQoLG::Matrix{Int64}, tau::Float64, n::Int64, f::var\"#f#48\"{Float64, Float64, Float64})\n",
      "    @ Main ~/Workspace/metodos-numericos/jl_notebook_cell_df34fa98e69747e1a8f8a730347b8e2f_X63sZmlsZQ==.jl:4\n",
      " [16] calcule_error(example::Int64, case::Int64)\n",
      "    @ Main ~/Workspace/metodos-numericos/jl_notebook_cell_df34fa98e69747e1a8f8a730347b8e2f_Y101sZmlsZQ==.jl:39\n",
      " [17] macro expansion\n",
      "    @ ~/Workspace/metodos-numericos/jl_notebook_cell_df34fa98e69747e1a8f8a730347b8e2f_Y102sZmlsZQ==.jl:5 [inlined]\n",
      " [18] top-level scope\n",
      "    @ ./timing.jl:262 [inlined]\n",
      " [19] top-level scope\n",
      "    @ ~/Workspace/metodos-numericos/jl_notebook_cell_df34fa98e69747e1a8f8a730347b8e2f_Y102sZmlsZQ==.jl:0"
     ]
    }
   ],
   "source": [
    "exemple = 2\n",
    "case = 1\n",
    "\n",
    "@time begin\n",
    "     vec_h, vec_errors = calcule_error(exemple, case)\n",
    "end\n",
    "\n",
    "display_erros(vec_h, vec_errors, exemple, case)"
   ]
  }
 ],
 "metadata": {
  "kernelspec": {
   "display_name": "Julia 1.8.1",
   "language": "julia",
   "name": "julia-1.8"
  },
  "language_info": {
   "file_extension": ".jl",
   "mimetype": "application/julia",
   "name": "julia",
   "version": "1.8.1"
  }
 },
 "nbformat": 4,
 "nbformat_minor": 2
}
