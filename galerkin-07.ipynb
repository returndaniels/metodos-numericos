{
 "cells": [
  {
   "cell_type": "markdown",
   "metadata": {},
   "source": [
    "## Definição da formulação forte"
   ]
  },
  {
   "cell_type": "markdown",
   "metadata": {},
   "source": [
    "Dada uma função $f:[0,1]\\rightarrow\\mathbb{R}$ e constantes reais $\\alpha>0$, $\\beta \\geq 0$, $T \\geq 0$ determine $u:[0,1] \\times [0,T]\\rightarrow\\mathbb{R}$ e $u_0:[0,1]\\rightarrow\\mathbb{R}$, tal que\n",
    "\n",
    "\\begin{align*}\n",
    "\\left\\{\n",
    "\\begin{aligned}\n",
    "&u_t(x,t)-\\alpha u_{xx}(x,t) + \\beta u(x,t) + g(u(x,t)) = f(x,t),&& \\forall (x,t)\\in]0,1[\\times[0,T],\n",
    "\\\\\n",
    "&u(0,t)=u(1,t)=0,                                    && \\forall t\\in[0,T],\n",
    "\\\\\n",
    "&u(x,0) = u_0(x),                                    && \\forall x\\in[0,1].                \n",
    "\\end{aligned}\\right.\n",
    "\\end{align*}"
   ]
  },
  {
   "cell_type": "markdown",
   "metadata": {},
   "source": [
    "## Definição da formulação fraca"
   ]
  },
  {
   "cell_type": "markdown",
   "metadata": {},
   "source": [
    "Dadas as constantes reais $\\alpha > 0$, $\\beta \\geq 0$ e $T > 0$, e as funções $f:[0,1]\\times[0,T]\\rightarrow\\mathbb{R}$ e $u_0:[0,1]\\rightarrow\\mathbb{R}$, determine $u(t)\\in V$, $t\\in[0,T]$, tal que\n",
    "\n",
    "\n",
    "\\begin{align*}\n",
    "\\left\\{\n",
    "\\begin{aligned}\n",
    "& \\int_0^1 u'(x,t)v(x) dx\n",
    "+ \\alpha \\int_0^1\\frac{\\partial u}{\\partial x}(x,t)\\frac{\\partial v}{\\partial x}(x)dx\n",
    "+ \\beta  \\int_0^1 u(x,t)v(x)dx\n",
    "+ \\int_0^1 g(u(x, t))v(x)dx\n",
    "= \\int_0^1f(x,t)v(x)dx,\n",
    "\\quad \\forall v\\in V,\n",
    "\\\\[8pt]\n",
    "& u(x,0) = u_0(x), \n",
    "\\quad x\\in]0,1[.\n",
    "\\end{aligned}\n",
    "\\right.\n",
    "\\end{align*}"
   ]
  },
  {
   "cell_type": "markdown",
   "metadata": {},
   "source": [
    "### Definição dos operadores da formulação fraca"
   ]
  },
  {
   "cell_type": "markdown",
   "metadata": {},
   "source": [
    "Para simplificar a escrita, vamos reescrever a equação acima utilizando dois operadores. O primeiro, é dado por\n",
    "\n",
    "\\begin{align*}\n",
    "\\kappa:V\\times V\\rightarrow\\mathbb{R},\\;(w,v)\\mapsto \\kappa(w,v)=\n",
    "  \\alpha \\int_0^1\\frac{d w}{d x}(x)\\frac{d v}{d x}(x)dx\n",
    "+ \\beta  \\int_0^1 w(x)v(x)dx.\n",
    "\\end{align*}\n",
    "\n",
    "Quanto ao segundo operador, considere\n",
    "\n",
    "\\begin{align*}\n",
    "\\big(w,v\\big) = \\int_0^1 w(x) v(x)dx.\n",
    "\\end{align*}\n",
    "\n",
    "Utilizando esses operadores, a formulação fraca pode ser reescrita como: Dadas as constantes reais $\\alpha>0$, $\\beta \\geq 0$, $T \\geq 0$ e as funções $f:[0,1]\\times[0,T]\\rightarrow\\mathbb{R}$ e $u_0:[0,1]\\rightarrow\\mathbb{R}$, determine $u(t)\\in V$, $t\\in[0,T]$, tal que\n",
    "\n",
    "\\begin{align*}\n",
    "\\left\\{\n",
    "\\begin{aligned}\n",
    "& \\big(u'(t),v\\big) + \\kappa(u(t),v) + (g(u(t)), v) = \\big(f(t),v\\big),\n",
    "\\quad \\forall v\\in V,\n",
    "\\\\[8pt]\n",
    "& u(0) = u_0.\n",
    "\\end{aligned}\n",
    "\\right.\n",
    "\\end{align*}"
   ]
  },
  {
   "cell_type": "markdown",
   "metadata": {},
   "source": [
    "# Problema totalmente discreto - via o método de Galerkin no espaço e Crank-Nicolson no tempo"
   ]
  },
  {
   "cell_type": "markdown",
   "metadata": {},
   "source": [
    "No espaço, já está definido $V_m$, o subespaço de dimensão finita de $V$, gerado pelas funções base $\\varphi_1,\\varphi_2,\\dots,\\varphi_m$.\n",
    "No tempo, precisamos estabelecer a discretização temporal para aplicar o método de diferenças finitas escolhido. \n",
    "Nesse sentido, seja $\\tau>0$ uma constante real positiva, e considere $0=t_0<t_1<\\dots<t_N\\leq T$ uma discretização unifome no intervalo $[0,T]$.\n",
    "Além disso, defina $t_{n-\\frac{1}{2}}=\\frac{t_n+t_{n-1}}{2}$ como o ponto médio do intervalo $[t_{n-1},t_n]$. \n",
    "A seguir, apresentamos a ilustração de uma partição do intervalo de tempo $[0,T]$."
   ]
  },
  {
   "cell_type": "markdown",
   "metadata": {},
   "source": [
    "Ssegue a definição do problema aproximado: Dadas as constantes reais $\\alpha > 0$, $\\beta \\geq 0$ e $T > 0$, e as funções $f:[0,1]\\times[0,T]\\rightarrow\\mathbb{R}$, $u_0^{}:[0,1]\\rightarrow\\mathbb{R}$ e $u_{0h}^{}\\in V_m$ uma aproximação para $u_0^{}$, determine $U^n\\in V_m=[\\varphi_1,\\varphi_2,\\dots,\\varphi_{m}]$, tal que\n",
    "\n",
    "\\begin{align*}\n",
    "\\left\\{\n",
    "\\begin{aligned}\n",
    "& \\Big(\\frac{U^n-U^{n-1}}{\\tau},v_h\\Big) + \\kappa\\Big(\\frac{U^n+U^{n-1}}{2},v_h\\Big) + \\Big(g\\Big(\\frac{U^n-U^{n-1}}{2}\\Big),v\\Big) = \\big(f(t_{n-\\frac{1}{2}}),v_h\\big),\n",
    "\\quad \\forall v_h\\in V_m,\\quad n=1,2,\\dots,N,\n",
    "\\\\[8pt]\n",
    "& U^0 = u_{0h}.\n",
    "\\end{aligned}\n",
    "\\right.\n",
    "\\end{align*}"
   ]
  },
  {
   "cell_type": "markdown",
   "metadata": {},
   "source": [
    "## Passo a passo para a definição do problema totalmente discreto"
   ]
  },
  {
   "cell_type": "markdown",
   "metadata": {},
   "source": [
    "* Passo 1. Considerar a formulação fraca no instante de tempo $t_{n-\\frac{1}{2}}$, ou seja,\n",
    "\\begin{align*}\n",
    "& \\big(u'(t_{n-\\frac{1}{2}}),v\\big) + \\kappa(u(t_{n-\\frac{1}{2}}),v) + g(u(t_{n-\\frac{1}{2}}),v) = \\big(f(t_{n-\\frac{1}{2}}),v\\big),\n",
    "\\quad \\forall v\\in V.\n",
    "\\end{align*}\n",
    "\n",
    "* Passo 2. Definir as diferenças finitas que serão utilizadas. \n",
    "Fazendo uso de expansões de Taylor apropriadas, obtemos: \n",
    "\\begin{align*}\n",
    "\\frac{u(t_n)-u(t_{n-1})}{\\tau}=u'(t_{n-\\frac{1}{2}}) +\\mathcal{O}(\\tau^2),\n",
    "\\quad\n",
    "\\frac{u(t_n)+u(t_{n-1})}{2}=u(t_{n-\\frac{1}{2}}) + \\mathcal{O}(\\tau^2)\n",
    "\\quad\\hbox{e}\\quad\n",
    "\\frac{3u(t_{n-1})-u(t_{n-2})}{2}=u(t_{n-\\frac{1}{2}}) + \\mathcal{O}(\\tau^2)\n",
    "\\end{align*}\n",
    "\n",
    "* Passo 3. Utilizar as diferenças finitas na formulação fraca.\n",
    "Subtituindo $u'(t_{n-\\frac{1}{2}})$ e $u(t_{n-\\frac{1}{2}})$ na formulação fraca pelas diferenças finitas acima, temos que\n",
    "\\begin{align*}\n",
    "& \\big(\\frac{u(t_n)-u(t_{n-1})}{\\tau},v\\big) + \\kappa(\\frac{u(t_n)+u(t_{n-1})}{2},v) + g(\\frac{3u(t_{n-1})-u(t_{n-2})}{2},v) \\approx \\big(f(t_{n-\\frac{1}{2}}),v\\big),\n",
    "\\quad \\forall v\\in V.\n",
    "\\end{align*}\n",
    "\n",
    "* Passo 4. Definir o problema aproximado.\n",
    "O problema aproximado consiste em buscar uma função em $V_m$ que satisfaça a igualdade, em vez da aproximação definida no passo 3, ou seja, buscar por uma função $U^n\\in V_m$ tal que\n",
    "\\begin{align*}\n",
    "& \\big(\\frac{U^n-U^{n-1}}{\\tau},v\\big) + \\kappa(\\frac{U^n+U^{n-1}}{2},v)  + \\big(g(\\frac{3U^{n-1}-U^{n-2}}{2},v)\\big) = \\big(f(t_{n-\\frac{1}{2}}),v\\big),\n",
    "\\quad \\forall v\\in V_m.\n",
    "\\end{align*}\n"
   ]
  },
  {
   "cell_type": "markdown",
   "metadata": {},
   "source": [
    "## Formulação matricial"
   ]
  },
  {
   "cell_type": "markdown",
   "metadata": {},
   "source": [
    "### Definição da matriz $C$"
   ]
  },
  {
   "cell_type": "markdown",
   "metadata": {},
   "source": [
    "\\begin{align*}\n",
    "C = \n",
    "\\left\\{\n",
    "\\begin{aligned}\n",
    "& C^0, n=1, \\text{parte 1}\n",
    "\\\\[10pt]\n",
    "& \\frac{\\~{}C^1 + C^0}{2}, n=1, \\text{parte 2}\n",
    "\\\\\n",
    "& \\frac{3C^{n-1} - C^{n-2}}{2}, n \\geq 2\n",
    "\\end{aligned}\\right.\n",
    "\\end{align*}"
   ]
  },
  {
   "cell_type": "markdown",
   "metadata": {},
   "source": [
    "### Definição da $G_i(c)$"
   ]
  },
  {
   "cell_type": "markdown",
   "metadata": {},
   "source": [
    "\\begin{align*}\n",
    "G_i(C) = \\int_0^1 g(\\Sigma_{j=1}^m C_{j}\\varphi_{j})\\varphi_{i}dx\n",
    "\\end{align*}"
   ]
  },
  {
   "cell_type": "markdown",
   "metadata": {},
   "source": [
    "\n",
    "\\begin{align*}\n",
    "G_a^e(C) = \\int_{x_1^e}^{x_2^e} g(C\\varphi_{1}^e(x) + C\\varphi_{2}^e(x))\\varphi_{a}^e(x)dx\n",
    "\\end{align*}"
   ]
  },
  {
   "cell_type": "markdown",
   "metadata": {},
   "source": [
    "Tomando $\\displaystyle U^n(x) = \\sum_{j=1}^{m} C_j^{n}\\varphi_j(x)$ e $v_h=\\varphi_i$, para $i=1,2,\\dots,m$, temos o seguinte sistema:\n",
    "\n",
    "\\begin{align*}\n",
    "\\left\\{\n",
    "\\begin{aligned}\n",
    "& \\Big(\\frac{\\sum_{j=1}^{m}(C_j^n-C_j^{n-1})\\varphi_j}{\\tau},\\varphi_1\\Big) + \\kappa\\Big(\\frac{\\sum_{j=1}^{m}(C_j^n+C_j^{n-1})\\varphi_j}{2},\\varphi_1\\Big) + g\\Big(\\frac{\\sum_{j=1}^{m}(C_j^{n-1}+C_j^{n-2})\\varphi_j}{2},\\varphi_1\\Big) = \\big(f(t_{n-\\frac{1}{2}}),\\varphi_1\\big), \n",
    "\\\\[10pt]\n",
    "& \\Big(\\frac{\\sum_{j=1}^{m}(C_j^n-C_j^{n-1})\\varphi_j}{\\tau},\\varphi_2\\Big) + \\kappa\\Big(\\frac{\\sum_{j=1}^{m}(C_j^n+C_j^{n-1})\\varphi_j}{2},\\varphi_2\\Big) + g\\Big(\\frac{\\sum_{j=1}^{m}(C_j^{n-1}+C_j^{n-2})\\varphi_j}{2},\\varphi_2\\Big) = \\big(f(t_{n-\\frac{1}{2}}),\\varphi_2\\big), \n",
    "\\\\\n",
    "& \\vdots\n",
    "\\\\\n",
    "& \\Big(\\frac{\\sum_{j=1}^{m}(C_j^n-C_j^{n-1})\\varphi_j}{\\tau},\\varphi_m\\Big) + \\kappa\\Big(\\frac{\\sum_{j=1}^{m}(C_j^n+C_j^{n-1})\\varphi_j}{2},\\varphi_m\\Big) + g\\Big(\\frac{\\sum_{j=1}^{m}(C_j^{n-1}+C_j^{n-n})\\varphi_j}{2},\\varphi_m\\Big) = \\big(f(t_{n-\\frac{1}{2}}),\\varphi_m\\big).\n",
    "\\end{aligned}\\right.\n",
    "\\end{align*}\n",
    "\n",
    "Com isso, dado que os operadores $\\kappa$ e $\\big(\\cdot,\\cdot\\big)$ são lineares em cada componente, temos:\n",
    "\n",
    "\\begin{align*}\n",
    "\\left\\{\n",
    "\\begin{aligned}\n",
    "& \n",
    "      \\big(\\varphi_1,\\varphi_1\\big)\\frac{C_1^n-C_1^{n-1}}{\\tau}+      \\big(\\varphi_2,\\varphi_1\\big)\\frac{C_2^n-C_2^{n-1}}{\\tau} + \\dots +       \\big(\\varphi_m,\\varphi_1\\big)\\frac{C_m^n-C_m^{n-1}}{\\tau}\n",
    "\\quad+\\quad\n",
    "\\kappa\\big(\\varphi_1,\\varphi_1\\big)\\frac{C_1^n+C_1^{n-1}}{2   }+\\kappa\\big(\\varphi_2,\\varphi_1\\big)\\frac{C_2^n+C_2^{n-1}}{2   } + \\dots + \\kappa\\big(\\varphi_m,\\varphi_1\\big)\\frac{C_m^n+C_m^{n-1}}{2   } + g\\big(\\varphi_2,\\varphi_1\\big)\\frac{3C_2^{n-1}+C_2^{n-2}}{2   } + \\dots + g\\big(\\varphi_m,\\varphi_1\\big)\\frac{3C_m^{n-1}+C_m^{n-2}}{2   } \n",
    "= \\big(f(t_{n-\\frac{1}{2}}),\\varphi_1\\big), \n",
    "\\\\[10pt]\n",
    "&\n",
    "      \\big(\\varphi_1,\\varphi_2\\big)\\frac{C_1^n-C_1^{n-1}}{\\tau}+      \\big(\\varphi_2,\\varphi_2\\big)\\frac{C_2^n-C_2^{n-1}}{\\tau} + \\dots +       \\big(\\varphi_m,\\varphi_2\\big)\\frac{C_m^n-C_m^{n-1}}{\\tau}\n",
    "\\quad+\\quad\n",
    "\\kappa\\big(\\varphi_1,\\varphi_2\\big)\\frac{C_1^n+C_1^{n-1}}{2   }+\\kappa\\big(\\varphi_2,\\varphi_2\\big)\\frac{C_2^n+C_2^{n-1}}{2   } + \\dots + \\kappa\\big(\\varphi_m,\\varphi_2\\big)\\frac{C_m^n+C_m^{n-1}}{2   } + g\\big(\\varphi_2,\\varphi_2\\big)\\frac{3C_2^{n-1}+C_2^{n-2}}{2   } + \\dots + g\\big(\\varphi_m,\\varphi_2\\big)\\frac{3C_m^{n-1}+C_m^{n-2}}{2   } \n",
    "= \\big(f(t_{n-\\frac{1}{2}}),\\varphi_2\\big), \n",
    "\\\\\n",
    "& \\vdots\n",
    "\\\\\n",
    "& \n",
    "      \\big(\\varphi_1,\\varphi_m\\big)\\frac{C_1^n-C_1^{n-1}}{\\tau}+      \\big(\\varphi_2,\\varphi_m\\big)\\frac{C_2^n-C_2^{n-1}}{\\tau} + \\dots +       \\big(\\varphi_m,\\varphi_m\\big)\\frac{C_m^n-C_m^{n-1}}{\\tau}\n",
    "\\quad+\\quad\n",
    "\\kappa\\big(\\varphi_1,\\varphi_m\\big)\\frac{C_1^n+C_1^{n-1}}{2   }+\\kappa\\big(\\varphi_2,\\varphi_m\\big)\\frac{C_2^n+C_2^{n-1}}{2   } + \\dots + \\kappa\\big(\\varphi_m,\\varphi_m\\big)\\frac{C_m^n+C_m^{n-1}}{2   } +g\\big(\\varphi_2,\\varphi_m\\big)\\frac{3C_2^{n-1}+C_2^{n-2}}{2   } + \\dots + g\\big(\\varphi_m,\\varphi_m\\big)\\frac{3C_m^{n-1}+C_m^{n-2}}{2   } \n",
    "= \\big(f(t_{n-\\frac{1}{2}}),\\varphi_m\\big), .\n",
    "\\end{aligned}\\right.\n",
    "\\end{align*}\n",
    "\n",
    "\n",
    "Note que esse sistema pode ser reescrito na seguinte forma matricial:\n",
    "\n",
    "\\begin{align*}\n",
    "\\begin{bmatrix}\n",
    "\\big(\\varphi_1,\\varphi_1\\big)&\\big(\\varphi_2,\\varphi_1\\big)&\\dots&\\big(\\varphi_m,\\varphi_1\\big)\n",
    "\\\\[10pt]\n",
    "\\big(\\varphi_1,\\varphi_2\\big)&\\big(\\varphi_2,\\varphi_2\\big)&\\dots&\\big(\\varphi_m,\\varphi_2\\big)\n",
    "\\\\\n",
    "\\vdots&\\vdots&\\ddots& \\vdots  \n",
    "\\\\\n",
    "\\big(\\varphi_1,\\varphi_m\\big)&\\big(\\varphi_2,\\varphi_m\\big)&\\dots&\\big(\\varphi_m,\\varphi_m\\big)\n",
    "\\end{bmatrix}\n",
    "\\frac{C^n-C^{n-1}}{\\tau}\n",
    "\\quad+\\quad\n",
    "\\begin{bmatrix}\n",
    "\\kappa\\big(\\varphi_1,\\varphi_1\\big)&\\kappa\\big(\\varphi_2,\\varphi_1\\big)&\\dots&\\kappa\\big(\\varphi_m,\\varphi_1\\big)\n",
    "\\\\[10pt]\n",
    "\\kappa\\big(\\varphi_1,\\varphi_2\\big)&\\kappa\\big(\\varphi_2,\\varphi_2\\big)&\\dots&\\kappa\\big(\\varphi_m,\\varphi_2\\big)\n",
    "\\\\\n",
    "\\vdots&\\vdots&\\ddots& \\vdots  \n",
    "\\\\\n",
    "\\kappa\\big(\\varphi_1,\\varphi_m\\big)&\\kappa\\big(\\varphi_2,\\varphi_m\\big)&\\dots&\\kappa\\big(\\varphi_m,\\varphi_m\\big)\n",
    "\\end{bmatrix}\n",
    "\\frac{C^n+C^{n-1}}{2   }\n",
    "\\quad+\\quad\n",
    "\\begin{align*}\n",
    "\\begin{bmatrix}\n",
    "g\\big(\\varphi_1,\\varphi_1\\big)& g\\big(\\varphi_2,\\varphi_1\\big)&\\dots& g\\big(\\varphi_m,\\varphi_1\\big)\n",
    "\\\\[10pt]\n",
    "g\\big(\\varphi_1,\\varphi_2\\big)& g\\big(\\varphi_2,\\varphi_2\\big)&\\dots& g\\big(\\varphi_m,\\varphi_2\\big)\n",
    "\\\\\n",
    "\\vdots&\\vdots&\\ddots& \\vdots  \n",
    "\\\\\n",
    "g\\big(\\varphi_1,\\varphi_m\\big)& g\\big(\\varphi_2,\\varphi_m\\big)&\\dots& g\\big(\\varphi_m,\\varphi_m\\big)\n",
    "\\end{bmatrix}\n",
    "\\frac{3C^{n-1}+C^{n-2}}{2}\n",
    "\\end{align*}\n",
    "=\n",
    "\\begin{bmatrix}\n",
    "\\big(f(t_{n-\\frac{1}{2}}),\\varphi_1\\big)\\\\[10pt]\n",
    "\\big(f(t_{n-\\frac{1}{2}}),\\varphi_2\\big)\\\\\n",
    "\\vdots\\\\\n",
    "\\big(f(t_{n-\\frac{1}{2}}),\\varphi_m\\big)\\\\\n",
    "\\end{bmatrix}.\n",
    "\\end{align*}"
   ]
  },
  {
   "cell_type": "markdown",
   "metadata": {},
   "source": [
    "Por fim, definindo \n",
    "\n",
    "\\begin{align*}\n",
    "M_{i,j} = (\\varphi_j,\\varphi_i),\n",
    "\\quad\n",
    "K_{i,j} = \\kappa(\\varphi_j,\\varphi_i)\n",
    "\\quad\\text{e}\\quad\n",
    "F_i^{n-\\frac{1}{2}} = \\big(f(t_{n-\\frac{1}{2}}),\\varphi_i\\big), \n",
    "\\quad\\text{com}\\quad\n",
    "i,j\\in\\{1,2,3,\\dots,m\\},\n",
    "\\end{align*}\n",
    "\n",
    "obtemos a formulação matriz-vetor do problema aproximado, que consiste em determinar $C^n\\in\\mathbb{R}^m$ tal que\n",
    "\\begin{align*}\n",
    "\\left\\{\n",
    "\\begin{aligned}\n",
    "& M\\frac{C^n-C^{n-1}}{\\tau}\n",
    "+K\\frac{C^n+C^{n-1}}{2}\n",
    "+G(\\frac{3C^{n-1}-C^{n-2}}{2})=F^{n-\\frac{1}{2}},\n",
    "\\quad n=1,2,\\dots,N,\n",
    "\\\\\n",
    "& C^0=???.\n",
    "\\end{aligned}\n",
    "\\right.\n",
    "\\end{align*}"
   ]
  },
  {
   "cell_type": "markdown",
   "metadata": {},
   "source": [
    "## Aproximação de $u_0$: exemplos de escolhas de $U^0 \\in V_m$"
   ]
  },
  {
   "cell_type": "markdown",
   "metadata": {},
   "source": [
    "Qualquer função $U^0 \\in V_m$ que esteja suficientemente próxima de $u_0$ é uma escolha viável. \n",
    "O quão próxima ela deve estar, e em qual norma essa distância é medida, só fica claro quando realizamos a demonstração da estimativa de erro entre a solução aproximada e a solução exata.\n",
    "Não vamos entrar nesses detalhes aqui. \n",
    "Contudo, a escolha que apresentaremos a seguir usualmente satisfaz tais condições."
   ]
  },
  {
   "cell_type": "markdown",
   "metadata": {},
   "source": [
    "### Tomando $U^0$ como a interpolante de $u_0$ - se a base satisfaz a propriedade $\\varphi_j(x_i) = \\delta_{i,j}$"
   ]
  },
  {
   "cell_type": "markdown",
   "metadata": {},
   "source": [
    "Quando a base satisfaz a propriedade $\\varphi_j(x_i) = \\delta_{i,j}$, onde $x_i$ é um nó da malha espacial, temos que \n",
    "$$\n",
    "U^0(x_i) = \\sum_{j=1}^m C_j^0 \\varphi_j(x_i) = C_i^0.\n",
    "$$\n",
    "\n",
    "Consequentemente, para esse tipo de base, se tomarmos $C_i^0$ como $u_0(x_i)$, então $U^0$ interpola $u_0$.\n",
    "Assim sendo, nesse caso, vamos definir\n",
    "$$\n",
    "C^0 =\n",
    "\\begin{bmatrix}\n",
    "u_0(x_1)\\\\\n",
    "u_0(x_2)\\\\\n",
    "\\vdots\\\\\n",
    "u_0(x_m)\n",
    "\\end{bmatrix}.\n",
    "$$"
   ]
  },
  {
   "cell_type": "code",
   "execution_count": 123,
   "metadata": {},
   "outputs": [],
   "source": [
    "using LinearAlgebra\n",
    "using Plots\n",
    "using GaussQuadrature\n",
    "using DataFrames\n",
    "using SparseArrays"
   ]
  },
  {
   "cell_type": "markdown",
   "metadata": {},
   "source": [
    "### Exemplos de solução exata para o problema acima:\n"
   ]
  },
  {
   "cell_type": "code",
   "execution_count": 124,
   "metadata": {},
   "outputs": [
    {
     "data": {
      "text/plain": [
       "dados_de_entrada"
      ]
     },
     "metadata": {},
     "output_type": "display_data"
    }
   ],
   "source": [
    "function exemplo1()\n",
    "    T = 1.0\n",
    "    α = 1.0\n",
    "    β = 1.0\n",
    "    λ = α * π^2 + β\n",
    "    f(x, t) = 0.0\n",
    "    u₀(x) = sin(π * x) / π^2\n",
    "    u(x, t) = sin(π * x) * (exp(-λ * t) / π^2)\n",
    "    return T, α, β, f, u₀, u\n",
    "end\n",
    "function exemplo2()\n",
    "    T = 1.0\n",
    "    α = 1.0\n",
    "    β = 1.0\n",
    "    λ = 1.0\n",
    "    f(x, t) = sin(π * x) * ((-λ + α * π^2 + β) * exp(-λ * t) / π^2)\n",
    "    u₀(x) = sin(π * x) / π^2\n",
    "    u(x, t) = sin(π * x) * (exp(-λ * t) / π^2)\n",
    "    return T, α, β, f, u₀, u\n",
    "end\n",
    "\n",
    "\"Retorna os valores de `T`, `α`, `β`, `f`, `u₀` e `u` de acordo com o exemplo escolhido.\"\n",
    "function dados_de_entrada(exemplo::Int)\n",
    "    if exemplo == 1\n",
    "        return exemplo1()\n",
    "    elseif exemplo == 2\n",
    "        return exemplo2()\n",
    "    else\n",
    "        error(\"Exemplo inválido. Escolha 1 ou 2.\")\n",
    "    end\n",
    "end"
   ]
  },
  {
   "cell_type": "code",
   "execution_count": 125,
   "metadata": {},
   "outputs": [
    {
     "data": {
      "text/plain": [
       "d_phi (generic function with 1 method)"
      ]
     },
     "metadata": {},
     "output_type": "display_data"
    }
   ],
   "source": [
    "\"\"\"\n",
    "Mapeia um ponto `psi` do intervalo padrão `[-1, 1]` para o intervalo físico\n",
    "\"\"\"\n",
    "function X(psi::Float64, h::Float64, x1e::Float64)\n",
    "    return (psi + 1.0) * h / 2.0 + x1e\n",
    "end\n",
    "\n",
    "function g(psi::Float64)\n",
    "    return psi\n",
    "end\n",
    "\n",
    "function phi(psi::Float64, a::Int)\n",
    "    if a == 1\n",
    "        return (1.0 - psi) / 2.0\n",
    "    elseif a == 2\n",
    "        return (1.0 + psi) / 2.0\n",
    "    else\n",
    "        error(\"a deve ser 1 ou 2.\")\n",
    "    end\n",
    "end\n",
    "\n",
    "function d_phi(psi::Float64, a::Int)\n",
    "    if a == 1\n",
    "        return -1.0 / 2.0\n",
    "    elseif a == 2\n",
    "        return 1.0 / 2.0\n",
    "    else\n",
    "        error(\"a deve ser 1 ou 2.\")\n",
    "    end\n",
    "end\n",
    "\n"
   ]
  },
  {
   "cell_type": "markdown",
   "metadata": {},
   "source": [
    "## Calculo das matrizes LG e EQ a partir do número de elementos\n",
    "\n",
    "A matriz $LG$ armazena a correspondência entre a nomenclatura local e global de cada elemento finito. Assim, ela possui $n_e$ colunas, cada uma relativa a um elemento finito.\n",
    "\n",
    "\\begin{align*}\n",
    "LG(a,e) = \n",
    "\\begin{cases}\n",
    "e,&\\quad\\text{se } a=1,\n",
    "\\\\ \n",
    "e+1,&\\quad\\text{se } a=2.\n",
    "\\end{cases}\n",
    "\\end{align*}\n",
    "\n",
    "Dessa forma, a matriz $LG$ é dada por\n",
    "\\begin{align*}\n",
    "LG = \n",
    "\\begin{bmatrix}\n",
    "1 & 2 & \\dots & e-1 & e   & \\dots & n_e  \\\\\n",
    "2 & 3 & \\dots & e   & e+1 & \\dots & n_e+1\\\\\n",
    "\\end{bmatrix}_{2\\times n_e}.\n",
    "\\end{align*}\n",
    "\n",
    " Cada entrada do vetor $EQ$ possui a nova numeração de uma função global. Portanto, o tamanho do vetor $EQ$\n",
    " é dado pelo número de funções globais, ou seja, $n_e + 1$.\n",
    "\n",
    "\\begin{align*}\n",
    "EQ = \n",
    "\\begin{bmatrix}\n",
    "m+1 & 1 & 2 &\\dots & m & m+1 \n",
    "\\end{bmatrix}_{(n_e+1)}\n",
    "\\end{align*}"
   ]
  },
  {
   "cell_type": "code",
   "execution_count": 126,
   "metadata": {},
   "outputs": [
    {
     "data": {
      "text/plain": [
       "make_EQ (generic function with 1 method)"
      ]
     },
     "metadata": {},
     "output_type": "display_data"
    }
   ],
   "source": [
    "function make_LG(ne::Int) :: Matrix{Int}\n",
    "    return transpose(hcat(1:ne, 2:ne+1))\n",
    "end\n",
    "\n",
    "function make_EQ(ne::Int) :: Tuple{Int,Vector{Int}}\n",
    "    m = ne - 1         \n",
    "    EQ = vcat(m+1,1:m,m+1)\n",
    "    return m, EQ\n",
    "end"
   ]
  },
  {
   "cell_type": "markdown",
   "metadata": {},
   "source": [
    "### Cálculo da matriz local $K^e$ - via quadratura gaussia"
   ]
  },
  {
   "cell_type": "markdown",
   "metadata": {},
   "source": [
    "\\begin{align*}\n",
    "K^e_{a,b} \n",
    " = \n",
    "  \\alpha \\int_{x_{1}^e}^{x_2^e}\\frac{d\\varphi_b^e}{dx}(x)\\frac{d\\varphi_a^e}{dx}(x)dx\n",
    "+ \\beta  \\int_{x_{1}^e}^{x_2^e}\\varphi_b^e(x)\\varphi_a^e(x)dx\n",
    " =\n",
    "\\frac{2\\alpha}{h} \\int_{-1}^{1}\n",
    "\\frac{d\\phi_b}{d\\xi}(\\xi)\\frac{d\\phi_a}{d\\xi}(\\xi)d\\xi\n",
    "+ \\frac{\\beta h}{2}  \\int_{-1}^{1}\n",
    "\\phi_b(\\xi)\\phi_a(\\xi) d\\xi\n",
    "=\n",
    "\\frac{2\\alpha}{h} \\sum_{j=1}^{n_{pg}} W_j \\frac{d\\phi_b}{d\\xi}(P_j)\\frac{d\\phi_a}{d\\xi}(P_j)\n",
    "+ \\frac{\\beta h}{2} \\sum_{j=1}^{n_{pg}} W_j \\phi_b(P_j)\\phi_a(P_j)\n",
    "\\end{align*}"
   ]
  },
  {
   "cell_type": "code",
   "execution_count": 127,
   "metadata": {},
   "outputs": [
    {
     "data": {
      "text/plain": [
       "make_Ke (generic function with 2 methods)"
      ]
     },
     "metadata": {},
     "output_type": "display_data"
    }
   ],
   "source": [
    "\n",
    "function make_Ke(alfa::Float64, beta::Float64, h::Float64, npg::Int=2)\n",
    "    P, W = legendre(npg)\n",
    "    K = zeros(2, 2)\n",
    "    c1 = 2*alfa/h\n",
    "    c2 = beta*h/2\n",
    "\n",
    "    for a in 1:2\n",
    "        for b in 1:2\n",
    "            for j in 1:npg\n",
    "                K[a, b] += W[j] * (d_phi(P[j], a) * d_phi(P[j], b) * c1 + phi(P[j], a) * phi(P[j], b) * c2)\n",
    "            end\n",
    "        end\n",
    "    end\n",
    "\n",
    "    return K\n",
    "end"
   ]
  },
  {
   "cell_type": "markdown",
   "metadata": {},
   "source": [
    "### Montagem da matriz global K a partir da matriz local $K^e$"
   ]
  },
  {
   "cell_type": "code",
   "execution_count": 128,
   "metadata": {},
   "outputs": [
    {
     "data": {
      "text/plain": [
       "make_K (generic function with 1 method)"
      ]
     },
     "metadata": {},
     "output_type": "display_data"
    }
   ],
   "source": [
    "function make_K(alfa::Float64, beta::Float64, ne::Int, m::Int, EQoLG::Matrix{Int})\n",
    "    h = 1.0 / ne\n",
    "    K = spzeros(m+1, m+1)\n",
    "    Ke = make_Ke(alfa, beta, h)\n",
    "\n",
    "    for e in 1:ne\n",
    "        for a in 1:2\n",
    "            i = EQoLG[a, e]\n",
    "            for b in 1:2\n",
    "                K[i, EQoLG[b, e]] += Ke[a, b]\n",
    "            end\n",
    "        end\n",
    "    end\n",
    "\n",
    "    return K[1:m, 1:m]\n",
    "end"
   ]
  },
  {
   "cell_type": "markdown",
   "metadata": {},
   "source": [
    "### Cálculo do vetor local $F^e$ - via quadratura gaussiana"
   ]
  },
  {
   "cell_type": "markdown",
   "metadata": {},
   "source": [
    "\\begin{align*}\n",
    "F_a^e \n",
    " = \n",
    "\\int_{x_1^e}^{x_2^e}f(x)\\varphi_a^e(x)dx\n",
    " =\n",
    "\\frac{h}{2} \\int_{-1}^{1}f\\big(x(\\xi,e)\\big)\\phi_a(\\xi)d\\xi\n",
    " \\approx\n",
    "\\frac{h}{2} \\sum_{j=1}^{n_{pg}} W_j f\\big(x(P_j,e)\\big)\\phi_a(P_j).\n",
    "\\end{align*}"
   ]
  },
  {
   "cell_type": "code",
   "execution_count": 129,
   "metadata": {},
   "outputs": [
    {
     "data": {
      "text/plain": [
       "make_Fe (generic function with 2 methods)"
      ]
     },
     "metadata": {},
     "output_type": "display_data"
    }
   ],
   "source": [
    "function make_Fe(f::Function, h::Float64, xle::Float64, P::Vector{Float64}, W::Vector{Float64}, npg::Int=5)\n",
    "    Fe = zeros(2)     \n",
    "    for a in 1:2\n",
    "        for j = 1:npg\n",
    "            x = X(P[j], h, xle)\n",
    "            Fe[a] += W[j] * f(x) * phi(P[j], a) * h/2\n",
    "        end\n",
    "    end\n",
    "    \n",
    "    return Fe\n",
    "end"
   ]
  },
  {
   "cell_type": "markdown",
   "metadata": {},
   "source": [
    "### Montagem do vetor global F a partir do vetor local $F^e$\n"
   ]
  },
  {
   "cell_type": "code",
   "execution_count": 130,
   "metadata": {},
   "outputs": [
    {
     "data": {
      "text/plain": [
       "make_F (generic function with 2 methods)"
      ]
     },
     "metadata": {},
     "output_type": "display_data"
    }
   ],
   "source": [
    "function make_F(f::Function, ne::Int, m::Int, EQoLG::Matrix{Int}, npg::Int=5)\n",
    "    h = 1.0 / ne\n",
    "    F = zeros(m + 1)\n",
    "    P, W = legendre(npg)\n",
    "    \n",
    "    for e in 1:ne\n",
    "        Fe = make_Fe(f, h, (e-1)*h, P, W, npg)\n",
    "        for a = 1:2\n",
    "            F[EQoLG[a, e]] += Fe[a]\n",
    "        end\n",
    "    end\n",
    "    \n",
    "    return F[1:m]\n",
    "end"
   ]
  },
  {
   "cell_type": "markdown",
   "metadata": {},
   "source": [
    "### Montagem do vetor local $Ge$"
   ]
  },
  {
   "cell_type": "markdown",
   "metadata": {},
   "source": [
    "\n",
    "\\begin{align*}\n",
    "G_a^e(C) = \\int_{x_1^e}^{x_2^e} g(C\\varphi_{1}^e(x) + C\\varphi_{2}^e(x))\\varphi_{a}^e(x)dx\n",
    "\\end{align*}"
   ]
  },
  {
   "cell_type": "code",
   "execution_count": 131,
   "metadata": {},
   "outputs": [
    {
     "data": {
      "text/plain": [
       "make_Ge (generic function with 1 method)"
      ]
     },
     "metadata": {},
     "output_type": "display_data"
    }
   ],
   "source": [
    "function make_Ge(C_ext::Vector{Float64}, EQoLG::Matrix{Int}, e::Int, h::Float64, X::Vector{Float64}, W::Vector{Float64})\n",
    "    Ge = zeros(2)\n",
    "\n",
    "    Ce_phi = C_ext[EQoLG[1, e]] * phi.(X, 1) .+ C_ext[EQoLG[2, e]] * phi.(X, 2)\n",
    "    g_Ce_phi = g.(Ce_phi)\n",
    "\n",
    "    # Cálculo de Ge para o elemento e\n",
    "    Ge[1] = dot(W, g_Ce_phi .* phi.(X, 1)) * h / 2\n",
    "    Ge[2] = dot(W, g_Ce_phi .* phi.(X, 2)) * h / 2\n",
    "\n",
    "    return Ge\n",
    "end\n"
   ]
  },
  {
   "cell_type": "markdown",
   "metadata": {},
   "source": [
    "### Montagem do vetor global $G$"
   ]
  },
  {
   "cell_type": "code",
   "execution_count": 132,
   "metadata": {},
   "outputs": [
    {
     "data": {
      "text/plain": [
       "make_G (generic function with 2 methods)"
      ]
     },
     "metadata": {},
     "output_type": "display_data"
    }
   ],
   "source": [
    "function make_G(C::Vector{Float64}, ne::Int, m::Int, EQoLG::Matrix{Int}, npg::Int=5)\n",
    "    h = 1.0 / ne\n",
    "    X, W = legendre(npg)\n",
    "    G = zeros(ne)\n",
    "    \n",
    "    C_ext = [C; 0]\n",
    "\n",
    "    for e in 1:ne\n",
    "        # Chamada à função make_Ge para obter o vetor local Ge\n",
    "        Ge = make_Ge(C_ext, EQoLG, e, h, X, W)\n",
    "        \n",
    "        # Soma ao vetor global G\n",
    "        for a in 1:2\n",
    "            i = EQoLG[a, e]\n",
    "            G[i] += Ge[a]\n",
    "        end\n",
    "    end\n",
    "    \n",
    "    return G[1:(ne-1)]\n",
    "end\n"
   ]
  },
  {
   "cell_type": "markdown",
   "metadata": {},
   "source": [
    "## Cálculo do erro no tempo $t_n$"
   ]
  },
  {
   "cell_type": "markdown",
   "metadata": {},
   "source": [
    "O erro na norma do espaço $L^2(]0,1[)$ entre a solução exata $u(x,t_n)$ e a solução aproximada $U^n(x)$, definida por $\\displaystyle U^n(x) = \\sum_{j=1}^m C_j^n\\varphi_j(x)$, é dado por \n",
    "$\\displaystyle\\|u(t_n)-U^n\\|=\\sqrt{\\int_0^1|u(x,t_n)-U^n(x)|^2dx}$.\n",
    "\n",
    "Dessa forma, denotando $\\mathcal{E}_h^n=\\|u(t_n)-U^n\\|$ e $\\bar{C}^n=[C^n;0]$, temos que:\n",
    "\n",
    "\\begin{align*}\n",
    "(\\mathcal{E}_h^n)^2 \n",
    "\\approx\n",
    "\\frac{h}{2} \\sum_{e=1}^{n_e} \\sum_{j=1}^{n_{pg}} \n",
    "W_j|u\\big(x(P_j,e),t_n\\big) - \\bar{C}_{EQoLG(1,e)}^n\\phi_1(P_j) - \\bar{C}_{EQoLG(2,e)}^n\\phi_2(P_j) |^2.\n",
    "\\end{align*}"
   ]
  },
  {
   "cell_type": "code",
   "execution_count": 133,
   "metadata": {},
   "outputs": [
    {
     "data": {
      "text/plain": [
       "erro_norma_L2"
      ]
     },
     "metadata": {},
     "output_type": "display_data"
    }
   ],
   "source": [
    "@doc raw\"\"\"\n",
    "Calcula a norma L² da diferença entre duas funções, `z(x)` e `Z(x)`, \n",
    "onde `Z(x)` pertence ao espaço aproximado `Vₘ`, sendo expressa como `Z(x) = Σ_{j=1}^{m} C_j φ_j(x)`. \n",
    "A integral da diferença é aproximada em cada elemento finito por meio da quadratura de Gauss-Legendre.\n",
    "\n",
    "# Parâmetros:\n",
    "- `z::Function`: Função `z(x)` que representa a solução exata no domínio.\n",
    "- `coeff::Vector{Float64}`: Vetor de coeficientes estendido, `C̄ = [C; 0]`, onde `C` é o vetor de coeficientes que define a função aproximada `Z(x)`.\n",
    "- `ne::Int`: Número total de elementos (ou intervalos) em que o domínio `[0,1]` é dividido.\n",
    "- `EQoLG::Matrix{Int}`: ≡ EQ[LG].\n",
    "\n",
    "# Retorno:\n",
    "- `Float64`: O valor do erro calculado na norma L² entre `z(x)` e a aproximação `Z(x)`.\n",
    "\"\"\"\n",
    "function erro_norma_L2(z::Function, coeff::Vector{Float64}, ne::Int, EQoLG::Matrix{Int})::Float64\n",
    "    h = 1.0 / ne       # Comprimento de cada elemento finito\n",
    "    erro = 0.0         # Inicializa o erro\n",
    "    P, W = legendre(5) # Pontos e pesos da quadratura de Gauss-Legendre (5 pontos)\n",
    "\n",
    "    # Calcula as funções de base ϕ₁ e ϕ₂ nos pontos de quadratura P\n",
    "    phi_1P = phi.(P, 1)\n",
    "    phi_2P = phi.(P, 2)\n",
    "\n",
    "    # Loop sobre todos os elementos finitos\n",
    "    for e = 1:ne\n",
    "        # Coeficientes da solução aproximada para o elemento `e`\n",
    "        c1e = coeff[EQoLG[1, e]]\n",
    "        c2e = coeff[EQoLG[2, e]]\n",
    "\n",
    "        # Loop sobre os pontos de quadratura\n",
    "        for j = 1:length(P)\n",
    "            x = X(P[j], h, (e - 1) * h) # Mapeia o ponto de quadratura `P[j]` de [-1,1] para [x1e,x2e]\n",
    "            erro += W[j] * (z(x) - c1e * phi_1P[j] - c2e * phi_2P[j])^2\n",
    "        end\n",
    "    end\n",
    "\n",
    "    return sqrt(erro * h / 2)\n",
    "end"
   ]
  },
  {
   "cell_type": "markdown",
   "metadata": {},
   "source": [
    "# Cálculo de $C^0$"
   ]
  },
  {
   "cell_type": "code",
   "execution_count": 134,
   "metadata": {},
   "outputs": [
    {
     "data": {
      "text/plain": [
       "calcule_C0 (generic function with 1 method)"
      ]
     },
     "metadata": {},
     "output_type": "display_data"
    }
   ],
   "source": [
    "function calcule_C0(C::Vector{Float64}, f::Function, ne::Int, m::Int, EQoLG::Matrix{Int}; C0_case::Int=2)\n",
    "    if C0_case == 1\n",
    "        h = 1.0 / ne\n",
    "        @. C = f(h:h:1.0-h)\n",
    "    elseif C0_case == 2\n",
    "        C .= make_K(0.0, 1.0, ne, m, EQoLG) \\ make_F(f, ne, m, EQoLG)\n",
    "    else\n",
    "        error(\"C0_case deve ser 1 ou 2.\")\n",
    "    end\n",
    "end"
   ]
  },
  {
   "cell_type": "markdown",
   "metadata": {},
   "source": [
    "# Cálculo de $C^n$"
   ]
  },
  {
   "cell_type": "code",
   "execution_count": 135,
   "metadata": {},
   "outputs": [
    {
     "data": {
      "text/plain": [
       "calcule_Cn (generic function with 1 method)"
      ]
     },
     "metadata": {},
     "output_type": "display_data"
    }
   ],
   "source": [
    "function calcule_Cn(C::Vector{Float64}, C_previus::Vector{Float64}, A, B::SparseMatrixCSC{Float64,Int64}, ne::Int, m::Int, EQoLG::Matrix{Int}, tau::Float64, n::Int, f::Function)\n",
    "    t_medium = n * tau - tau / 2\n",
    "    F = make_F(x -> f(x, t_medium), ne, m, EQoLG)\n",
    "    G = make_G(C_previus, ne, m, EQoLG)\n",
    "    C .= A \\ (B * C_previus + tau * (F - G))\n",
    "end"
   ]
  },
  {
   "cell_type": "markdown",
   "metadata": {},
   "source": [
    "### Comparando a solução aproximada com a solução exata\n"
   ]
  },
  {
   "cell_type": "code",
   "execution_count": 136,
   "metadata": {},
   "outputs": [
    {
     "data": {
      "text/plain": [
       "show_solution (generic function with 1 method)"
      ]
     },
     "metadata": {},
     "output_type": "display_data"
    }
   ],
   "source": [
    "function show_solution(example::Int, case::Int)\n",
    "    T, alfa, beta, f, u0, u = dados_de_entrada(example)\n",
    "\n",
    "    npg = 5\n",
    "    ne = 4\n",
    "    h = 1.0 / ne\n",
    "    tau = h\n",
    "    t = 0:tau:T\n",
    "    N = length(t) - 1\n",
    "\n",
    "    LG = make_LG(ne)\n",
    "    m, EQ = make_EQ(ne)\n",
    "    EQoLG = EQ[LG]\n",
    "\n",
    "    M = make_K(0.0, 1.0, ne, m, EQoLG)\n",
    "    K = make_K(alfa, beta, ne, m, EQoLG)\n",
    "    \n",
    "    A = M + (tau / 2) * K\n",
    "    B = M - (tau / 2) * K\n",
    "    \n",
    "    # Exibe os valores ne, LG, m, EQ e EQoLG\n",
    "    display(\"ne = \"); display(ne)\n",
    "    display(\"LG = \"); display(LG)\n",
    "    display(\"m = \"); display(m)\n",
    "    display(\"EQ = \"); display(EQ)\n",
    "    display(\"Matriz K:\")\n",
    "    display(M)\n",
    "    display(\"Matriz K:\")\n",
    "    display(K)\n",
    "    display(\"A = \"); display(A)\n",
    "    display(\"B = \"); display(B)\n",
    "\n",
    "    C_previus = zeros(m)\n",
    "    C   = zeros(m)\n",
    "\n",
    "    malha_solucao_exata = 0:0.01:1\n",
    "    malha_solucao_aproximada = 0:h:1\n",
    "\n",
    "    values = [u(x,t) for x in malha_solucao_exata, t in t]\n",
    "    y_lower_limit = minimum(values) \n",
    "    y_upper_limit = maximum(values) \n",
    "\n",
    "    errors = zeros(N + 1)    \n",
    "    \n",
    "    # Cria uma animação\n",
    "    anim = @animate for n = 0:N\n",
    "        if n == 0\n",
    "            calcule_C0(C_previus, u0, ne, m, EQoLG; C0_case=case)\n",
    "        else\n",
    "            calcule_Cn(C, C_previus, A, B, ne, m, EQoLG, tau, n, f)\n",
    "            C_previus .= C\n",
    "        end\n",
    "\n",
    "        errors[n+1] = erro_norma_L2(x -> u(x, t[n+1]), [C_previus; 0], ne, EQoLG)\n",
    "\n",
    "        # Cria a figura com layout único\n",
    "        plt = plot(size=(800, 400),\n",
    "            title=\"Soluções Exata e Aproximada em t_$(n)= $(t[n+1])\",\n",
    "            xlabel=\"x\",\n",
    "            legend=:topright,\n",
    "            ylim=(y_lower_limit, y_upper_limit))\n",
    "\n",
    "        # Gráfico da solução exata u(x, t[n+1])\n",
    "        plot!(plt, malha_solucao_exata, u.(malha_solucao_exata, t[n+1]),\n",
    "            lw=3, color=:blue, label=\"u(x,t_$(n))\")\n",
    "\n",
    "        # Gráfico da solução aproximada Uⁿ(x)\n",
    "        plot!(plt, malha_solucao_aproximada, [0; C_previus; 0],\n",
    "            lw=3, color=:red, linestyle=:dash, markershape=:circle, label=\"U^$(n)(x)\")\n",
    "    end\n",
    "\n",
    "\n",
    "    display(\"Erros na norma L2:\")\n",
    "    display(errors)\n",
    "\n",
    "    display(\"Erro máximo na norma L2:\")\n",
    "    display(maximum(errors))\n",
    "\n",
    "    gif(anim, \"imagens/solucao_exata_vs_aproximada.gif\", fps=1)\n",
    "end"
   ]
  },
  {
   "cell_type": "code",
   "execution_count": 137,
   "metadata": {},
   "outputs": [
    {
     "data": {
      "text/plain": [
       "\"ne = \""
      ]
     },
     "metadata": {},
     "output_type": "display_data"
    },
    {
     "data": {
      "text/plain": [
       "4"
      ]
     },
     "metadata": {},
     "output_type": "display_data"
    },
    {
     "data": {
      "text/plain": [
       "\"LG = \""
      ]
     },
     "metadata": {},
     "output_type": "display_data"
    },
    {
     "data": {
      "text/plain": [
       "2×4 Matrix{Int64}:\n",
       " 1  2  3  4\n",
       " 2  3  4  5"
      ]
     },
     "metadata": {},
     "output_type": "display_data"
    },
    {
     "data": {
      "text/plain": [
       "\"m = \""
      ]
     },
     "metadata": {},
     "output_type": "display_data"
    },
    {
     "data": {
      "text/plain": [
       "3"
      ]
     },
     "metadata": {},
     "output_type": "display_data"
    },
    {
     "data": {
      "text/plain": [
       "\"EQ = \""
      ]
     },
     "metadata": {},
     "output_type": "display_data"
    },
    {
     "data": {
      "text/plain": [
       "5-element Vector{Int64}:\n",
       " 4\n",
       " 1\n",
       " 2\n",
       " 3\n",
       " 4"
      ]
     },
     "metadata": {},
     "output_type": "display_data"
    },
    {
     "data": {
      "text/plain": [
       "\"Matriz K:\""
      ]
     },
     "metadata": {},
     "output_type": "display_data"
    },
    {
     "data": {
      "text/plain": [
       "3×3 SparseMatrixCSC{Float64, Int64} with 7 stored entries:\n",
       " 0.166667   0.0416667   ⋅ \n",
       " 0.0416667  0.166667   0.0416667\n",
       "  ⋅         0.0416667  0.166667"
      ]
     },
     "metadata": {},
     "output_type": "display_data"
    },
    {
     "data": {
      "text/plain": [
       "\"Matriz K:\""
      ]
     },
     "metadata": {},
     "output_type": "display_data"
    },
    {
     "data": {
      "text/plain": [
       "3×3 SparseMatrixCSC{Float64, Int64} with 7 stored entries:\n",
       "  8.16667  -3.95833    ⋅ \n",
       " -3.95833   8.16667  -3.95833\n",
       "   ⋅       -3.95833   8.16667"
      ]
     },
     "metadata": {},
     "output_type": "display_data"
    },
    {
     "data": {
      "text/plain": [
       "\"A = \""
      ]
     },
     "metadata": {},
     "output_type": "display_data"
    },
    {
     "data": {
      "text/plain": [
       "3×3 SparseMatrixCSC{Float64, Int64} with 7 stored entries:\n",
       "  1.1875    -0.453125    ⋅ \n",
       " -0.453125   1.1875    -0.453125\n",
       "   ⋅        -0.453125   1.1875"
      ]
     },
     "metadata": {},
     "output_type": "display_data"
    },
    {
     "data": {
      "text/plain": [
       "\"B = \""
      ]
     },
     "metadata": {},
     "output_type": "display_data"
    },
    {
     "data": {
      "text/plain": [
       "3×3 SparseMatrixCSC{Float64, Int64} with 7 stored entries:\n",
       " -0.854167   0.536458    ⋅ \n",
       "  0.536458  -0.854167   0.536458\n",
       "   ⋅         0.536458  -0.854167"
      ]
     },
     "metadata": {},
     "output_type": "display_data"
    },
    {
     "data": {
      "text/plain": [
       "\"Erros na norma L2:\""
      ]
     },
     "metadata": {},
     "output_type": "display_data"
    },
    {
     "data": {
      "text/plain": [
       "5-element Vector{Float64}:\n",
       " 0.003980336614548407\n",
       " 0.010425034637742853\n",
       " 0.006044133580867775\n",
       " 0.005282327243071132\n",
       " 0.003953904560571827"
      ]
     },
     "metadata": {},
     "output_type": "display_data"
    },
    {
     "data": {
      "text/plain": [
       "\"Erro máximo na norma L2:\""
      ]
     },
     "metadata": {},
     "output_type": "display_data"
    },
    {
     "data": {
      "text/plain": [
       "0.010425034637742853"
      ]
     },
     "metadata": {},
     "output_type": "display_data"
    },
    {
     "name": "stderr",
     "output_type": "stream",
     "text": [
      "┌ Info: Saved animation to /home/daniel/Workspace/metodos-numericos/imagens/solucao_exata_vs_aproximada.gif\n",
      "└ @ Plots /home/daniel/.julia/packages/Plots/du2dt/src/animation.jl:156\n"
     ]
    },
    {
     "data": {
      "text/html": [
       "<img src=\"data:image/gif;base64,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\" />"
      ],
      "text/plain": [
       "Plots.AnimatedGif(\"/home/daniel/Workspace/metodos-numericos/imagens/solucao_exata_vs_aproximada.gif\")"
      ]
     },
     "metadata": {},
     "output_type": "display_data"
    }
   ],
   "source": [
    "example = 2\n",
    "case = 1\n",
    "\n",
    "show_solution(example, case)"
   ]
  },
  {
   "cell_type": "markdown",
   "metadata": {},
   "source": [
    "### Estudo de convergência do erro."
   ]
  },
  {
   "cell_type": "code",
   "execution_count": 138,
   "metadata": {},
   "outputs": [
    {
     "data": {
      "text/plain": [
       "show_error (generic function with 1 method)"
      ]
     },
     "metadata": {},
     "output_type": "display_data"
    }
   ],
   "source": [
    "function calcule_error(example::Int, case::Int)\n",
    "    T, alfa, beta, f, u0, u = dados_de_entrada(example)\n",
    "\n",
    "    vec_ne = [2^i for i = 2:11]\n",
    "    vec_h = 1.0 ./ vec_ne\n",
    "    vec_tau = vec_h\n",
    "    vec_erros = zeros(length(vec_ne))\n",
    "\n",
    "    npg = 5\n",
    "    for i = 1:length(vec_ne)\n",
    "        ne = vec_ne[i]\n",
    "        h = vec_h[i]\n",
    "        tau = vec_tau[i]\n",
    "        t = 0:tau:T\n",
    "        N = length(t) - 1\n",
    "\n",
    "        LG = make_LG(ne)\n",
    "        m, EQ = make_EQ(ne)\n",
    "        EQoLG = EQ[LG]\n",
    "\n",
    "        M = make_K(0.0, 1.0, ne, m, EQoLG)\n",
    "        K = make_K(alfa, beta, ne, m, EQoLG)\n",
    "        P, W = legendre(npg)\n",
    "\n",
    "        A = M + (tau / 2) * K\n",
    "        B = M - (tau / 2) * K\n",
    "\n",
    "        LU_A = lu(A)\n",
    "\n",
    "        C_previus = zeros(m);  \n",
    "        C = zeros(m)\n",
    "\n",
    "        erros = zeros(N + 1)\n",
    "\n",
    "        calcule_C0(C_previus, u0, ne, m, EQoLG; C0_case=case)\n",
    "        erros[1] = erro_norma_L2(u0, [C_previus; 0], ne, EQoLG)\n",
    "\n",
    "        for n = 1:N\n",
    "            calcule_Cn(C, C_previus, LU_A, B, ne, m, EQoLG, tau, n, f)\n",
    "\n",
    "            C_previus .= C\n",
    "            erros[n+1] = erro_norma_L2(x -> u(x, t[n+1]), [C_previus; 0], ne, EQoLG)\n",
    "        end\n",
    "\n",
    "        vec_erros[i] = maximum(erros)\n",
    "    end\n",
    "\n",
    "    return vec_h, vec_erros\n",
    "end\n",
    "\n",
    "function show_error(vec_h, vec_erros, exemplo, case)\n",
    "    # Cria o gráfico do erro em função de h em escala logarítmica\n",
    "    plt = plot(\n",
    "        vec_h, vec_erros, lw=3, linestyle=:solid, markershape=:circle,\n",
    "        label=\"Erro\", title=\"Estudo do erro - exemplo $exemplo - case = $case\",\n",
    "        xscale=:log10, yscale=:log10, legend=:topleft\n",
    "    )\n",
    "\n",
    "    # Adiciona a curva teórica de h² ao gráfico\n",
    "    plot!(plt, vec_h, vec_h .^ 2, lw=3, linestyle=:solid, label=\"h²\")\n",
    "\n",
    "    # Adiciona rótulos aos eixos\n",
    "    xlabel!(\"h\")\n",
    "    ylabel!(\"Erro\")\n",
    "\n",
    "    # Exibe o gráfico\n",
    "    display(plt)\n",
    "\n",
    "    # Exibe a tabela com os valores de h e erro\n",
    "    display(\"Tabela com os valores de h e erro - exemplo \" * string(exemplo) * \" - caso_C⁰ = \" * string(case))\n",
    "    display(DataFrame(h=vec_h, erro=vec_erros))\n",
    "end"
   ]
  },
  {
   "cell_type": "code",
   "execution_count": 139,
   "metadata": {},
   "outputs": [
    {
     "data": {
      "image/png": "[encoded data removed]",
      "image/svg+xml": [
       "<?xml version=\"1.0\" encoding=\"utf-8\"?>\n",
       "<svg xmlns=\"http://www.w3.org/2000/svg\" xmlns:xlink=\"http://www.w3.org/1999/xlink\" width=\"600\" height=\"400\" viewBox=\"0 0 2400 1600\">\n",
       "<defs>\n",
       "  <clipPath id=\"clip910\">\n",
       "    <rect x=\"0\" y=\"0\" width=\"2400\" height=\"1600\"/>\n",
       "  </clipPath>\n",
       "</defs>\n",
       "<path clip-path=\"url(#clip910)\" d=\"M0 1600 L2400 1600 L2400 0 L0 0  Z\" fill=\"#ffffff\" fill-rule=\"evenodd\" fill-opacity=\"1\"/>\n",
       "<defs>\n",
       "  <clipPath id=\"clip911\">\n",
       "    <rect x=\"480\" y=\"0\" width=\"1681\" height=\"1600\"/>\n",
       "  </clipPath>\n",
       "</defs>\n",
       "<path clip-path=\"url(#clip910)\" d=\"M252.764 1410.9 L2352.76 1410.9 L2352.76 123.472 L252.764 123.472  Z\" fill=\"#ffffff\" fill-rule=\"evenodd\" fill-opacity=\"1\"/>\n",
       "<defs>\n",
       "  <clipPath id=\"clip912\">\n",
       "    <rect x=\"252\" y=\"123\" width=\"2101\" height=\"1288\"/>\n",
       "  </clipPath>\n",
       "</defs>\n",
       "<polyline clip-path=\"url(#clip912)\" style=\"stroke:#000000; stroke-linecap:round; stroke-linejoin:round; stroke-width:2; stroke-opacity:0.1; fill:none\" points=\"539.854,1410.9 539.854,123.472 \"/>\n",
       "<polyline clip-path=\"url(#clip912)\" style=\"stroke:#000000; stroke-linecap:round; stroke-linejoin:round; stroke-width:2; stroke-opacity:0.1; fill:none\" points=\"1271.09,1410.9 1271.09,123.472 \"/>\n",
       "<polyline clip-path=\"url(#clip912)\" style=\"stroke:#000000; stroke-linecap:round; stroke-linejoin:round; stroke-width:2; stroke-opacity:0.1; fill:none\" points=\"2002.33,1410.9 2002.33,123.472 \"/>\n",
       "<polyline clip-path=\"url(#clip910)\" style=\"stroke:#000000; stroke-linecap:round; stroke-linejoin:round; stroke-width:4; stroke-opacity:1; fill:none\" points=\"252.764,1410.9 2352.76,1410.9 \"/>\n",
       "<polyline clip-path=\"url(#clip910)\" style=\"stroke:#000000; stroke-linecap:round; stroke-linejoin:round; stroke-width:4; stroke-opacity:1; fill:none\" points=\"539.854,1410.9 539.854,1392 \"/>\n",
       "<polyline clip-path=\"url(#clip910)\" style=\"stroke:#000000; stroke-linecap:round; stroke-linejoin:round; stroke-width:4; stroke-opacity:1; fill:none\" points=\"1271.09,1410.9 1271.09,1392 \"/>\n",
       "<polyline clip-path=\"url(#clip910)\" style=\"stroke:#000000; stroke-linecap:round; stroke-linejoin:round; stroke-width:4; stroke-opacity:1; fill:none\" points=\"2002.33,1410.9 2002.33,1392 \"/>\n",
       "<path clip-path=\"url(#clip910)\" d=\"M489.735 1485.02 L497.373 1485.02 L497.373 1458.66 L489.063 1460.32 L489.063 1456.06 L497.327 1454.4 L502.003 1454.4 L502.003 1485.02 L509.642 1485.02 L509.642 1488.96 L489.735 1488.96 L489.735 1485.02 Z\" fill=\"#000000\" fill-rule=\"nonzero\" fill-opacity=\"1\" /><path clip-path=\"url(#clip910)\" d=\"M529.086 1457.48 Q525.475 1457.48 523.646 1461.04 Q521.841 1464.58 521.841 1471.71 Q521.841 1478.82 523.646 1482.38 Q525.475 1485.92 529.086 1485.92 Q532.72 1485.92 534.526 1482.38 Q536.355 1478.82 536.355 1471.71 Q536.355 1464.58 534.526 1461.04 Q532.72 1457.48 529.086 1457.48 M529.086 1453.77 Q534.896 1453.77 537.952 1458.38 Q541.031 1462.96 541.031 1471.71 Q541.031 1480.44 537.952 1485.04 Q534.896 1489.63 529.086 1489.63 Q523.276 1489.63 520.197 1485.04 Q517.142 1480.44 517.142 1471.71 Q517.142 1462.96 520.197 1458.38 Q523.276 1453.77 529.086 1453.77 Z\" fill=\"#000000\" fill-rule=\"nonzero\" fill-opacity=\"1\" /><path clip-path=\"url(#clip910)\" d=\"M541.031 1447.87 L565.142 1447.87 L565.142 1451.07 L541.031 1451.07 L541.031 1447.87 Z\" fill=\"#000000\" fill-rule=\"nonzero\" fill-opacity=\"1\" /><path clip-path=\"url(#clip910)\" d=\"M584.853 1446.41 Q587.58 1446.99 589.103 1448.83 Q590.645 1450.68 590.645 1453.38 Q590.645 1457.54 587.787 1459.82 Q584.928 1462.09 579.662 1462.09 Q577.894 1462.09 576.013 1461.73 Q574.151 1461.4 572.157 1460.7 L572.157 1457.03 Q573.737 1457.95 575.618 1458.42 Q577.499 1458.89 579.549 1458.89 Q583.122 1458.89 584.984 1457.48 Q586.865 1456.07 586.865 1453.38 Q586.865 1450.9 585.116 1449.51 Q583.386 1448.1 580.282 1448.1 L577.01 1448.1 L577.01 1444.98 L580.433 1444.98 Q583.235 1444.98 584.721 1443.87 Q586.207 1442.74 586.207 1440.63 Q586.207 1438.47 584.665 1437.32 Q583.141 1436.16 580.282 1436.16 Q578.721 1436.16 576.935 1436.49 Q575.148 1436.83 573.004 1437.55 L573.004 1434.16 Q575.167 1433.56 577.047 1433.26 Q578.947 1432.96 580.621 1432.96 Q584.947 1432.96 587.467 1434.93 Q589.987 1436.89 589.987 1440.24 Q589.987 1442.57 588.652 1444.19 Q587.316 1445.79 584.853 1446.41 Z\" fill=\"#000000\" fill-rule=\"nonzero\" fill-opacity=\"1\" /><path clip-path=\"url(#clip910)\" d=\"M1221.36 1485.02 L1229 1485.02 L1229 1458.66 L1220.69 1460.32 L1220.69 1456.06 L1228.95 1454.4 L1233.63 1454.4 L1233.63 1485.02 L1241.27 1485.02 L1241.27 1488.96 L1221.36 1488.96 L1221.36 1485.02 Z\" fill=\"#000000\" fill-rule=\"nonzero\" fill-opacity=\"1\" /><path clip-path=\"url(#clip910)\" d=\"M1260.71 1457.48 Q1257.1 1457.48 1255.27 1461.04 Q1253.47 1464.58 1253.47 1471.71 Q1253.47 1478.82 1255.27 1482.38 Q1257.1 1485.92 1260.71 1485.92 Q1264.35 1485.92 1266.15 1482.38 Q1267.98 1478.82 1267.98 1471.71 Q1267.98 1464.58 1266.15 1461.04 Q1264.35 1457.48 1260.71 1457.48 M1260.71 1453.77 Q1266.52 1453.77 1269.58 1458.38 Q1272.66 1462.96 1272.66 1471.71 Q1272.66 1480.44 1269.58 1485.04 Q1266.52 1489.63 1260.71 1489.63 Q1254.9 1489.63 1251.82 1485.04 Q1248.77 1480.44 1248.77 1471.71 Q1248.77 1462.96 1251.82 1458.38 Q1254.9 1453.77 1260.71 1453.77 Z\" fill=\"#000000\" fill-rule=\"nonzero\" fill-opacity=\"1\" /><path clip-path=\"url(#clip910)\" d=\"M1272.66 1447.87 L1296.77 1447.87 L1296.77 1451.07 L1272.66 1451.07 L1272.66 1447.87 Z\" fill=\"#000000\" fill-rule=\"nonzero\" fill-opacity=\"1\" /><path clip-path=\"url(#clip910)\" d=\"M1308.24 1458.35 L1321.5 1458.35 L1321.5 1461.55 L1303.67 1461.55 L1303.67 1458.35 Q1305.83 1456.11 1309.56 1452.35 Q1313.3 1448.57 1314.26 1447.48 Q1316.08 1445.43 1316.8 1444.02 Q1317.53 1442.59 1317.53 1441.22 Q1317.53 1438.98 1315.95 1437.57 Q1314.39 1436.16 1311.87 1436.16 Q1310.08 1436.16 1308.09 1436.78 Q1306.11 1437.4 1303.86 1438.66 L1303.86 1434.82 Q1306.15 1433.9 1308.15 1433.43 Q1310.14 1432.96 1311.79 1432.96 Q1316.16 1432.96 1318.75 1435.14 Q1321.35 1437.32 1321.35 1440.97 Q1321.35 1442.7 1320.69 1444.26 Q1320.05 1445.8 1318.34 1447.91 Q1317.87 1448.46 1315.35 1451.07 Q1312.83 1453.67 1308.24 1458.35 Z\" fill=\"#000000\" fill-rule=\"nonzero\" fill-opacity=\"1\" /><path clip-path=\"url(#clip910)\" d=\"M1952.45 1485.02 L1960.09 1485.02 L1960.09 1458.66 L1951.78 1460.32 L1951.78 1456.06 L1960.04 1454.4 L1964.72 1454.4 L1964.72 1485.02 L1972.36 1485.02 L1972.36 1488.96 L1952.45 1488.96 L1952.45 1485.02 Z\" fill=\"#000000\" fill-rule=\"nonzero\" fill-opacity=\"1\" /><path clip-path=\"url(#clip910)\" d=\"M1991.8 1457.48 Q1988.19 1457.48 1986.36 1461.04 Q1984.55 1464.58 1984.55 1471.71 Q1984.55 1478.82 1986.36 1482.38 Q1988.19 1485.92 1991.8 1485.92 Q1995.43 1485.92 1997.24 1482.38 Q1999.07 1478.82 1999.07 1471.71 Q1999.07 1464.58 1997.24 1461.04 Q1995.43 1457.48 1991.8 1457.48 M1991.8 1453.77 Q1997.61 1453.77 2000.67 1458.38 Q2003.74 1462.96 2003.74 1471.71 Q2003.74 1480.44 2000.67 1485.04 Q1997.61 1489.63 1991.8 1489.63 Q1985.99 1489.63 1982.91 1485.04 Q1979.86 1480.44 1979.86 1471.71 Q1979.86 1462.96 1982.91 1458.38 Q1985.99 1453.77 1991.8 1453.77 Z\" fill=\"#000000\" fill-rule=\"nonzero\" fill-opacity=\"1\" /><path clip-path=\"url(#clip910)\" d=\"M2003.74 1447.87 L2027.86 1447.87 L2027.86 1451.07 L2003.74 1451.07 L2003.74 1447.87 Z\" fill=\"#000000\" fill-rule=\"nonzero\" fill-opacity=\"1\" /><path clip-path=\"url(#clip910)\" d=\"M2036.71 1458.35 L2042.92 1458.35 L2042.92 1436.93 L2036.17 1438.28 L2036.17 1434.82 L2042.88 1433.47 L2046.68 1433.47 L2046.68 1458.35 L2052.89 1458.35 L2052.89 1461.55 L2036.71 1461.55 L2036.71 1458.35 Z\" fill=\"#000000\" fill-rule=\"nonzero\" fill-opacity=\"1\" /><path clip-path=\"url(#clip910)\" d=\"M1317.69 1552.67 L1317.69 1574.19 L1311.83 1574.19 L1311.83 1552.86 Q1311.83 1547.8 1309.86 1545.29 Q1307.88 1542.77 1303.94 1542.77 Q1299.2 1542.77 1296.46 1545.79 Q1293.72 1548.82 1293.72 1554.04 L1293.72 1574.19 L1287.83 1574.19 L1287.83 1524.66 L1293.72 1524.66 L1293.72 1544.08 Q1295.82 1540.86 1298.65 1539.27 Q1301.52 1537.68 1305.24 1537.68 Q1311.39 1537.68 1314.54 1541.5 Q1317.69 1545.29 1317.69 1552.67 Z\" fill=\"#000000\" fill-rule=\"nonzero\" fill-opacity=\"1\" /><polyline clip-path=\"url(#clip912)\" style=\"stroke:#000000; stroke-linecap:round; stroke-linejoin:round; stroke-width:2; stroke-opacity:0.1; fill:none\" points=\"252.764,1234.89 2352.76,1234.89 \"/>\n",
       "<polyline clip-path=\"url(#clip912)\" style=\"stroke:#000000; stroke-linecap:round; stroke-linejoin:round; stroke-width:2; stroke-opacity:0.1; fill:none\" points=\"252.764,1010.75 2352.76,1010.75 \"/>\n",
       "<polyline clip-path=\"url(#clip912)\" style=\"stroke:#000000; stroke-linecap:round; stroke-linejoin:round; stroke-width:2; stroke-opacity:0.1; fill:none\" points=\"252.764,786.598 2352.76,786.598 \"/>\n",
       "<polyline clip-path=\"url(#clip912)\" style=\"stroke:#000000; stroke-linecap:round; stroke-linejoin:round; stroke-width:2; stroke-opacity:0.1; fill:none\" points=\"252.764,562.45 2352.76,562.45 \"/>\n",
       "<polyline clip-path=\"url(#clip912)\" style=\"stroke:#000000; stroke-linecap:round; stroke-linejoin:round; stroke-width:2; stroke-opacity:0.1; fill:none\" points=\"252.764,338.303 2352.76,338.303 \"/>\n",
       "<polyline clip-path=\"url(#clip910)\" style=\"stroke:#000000; stroke-linecap:round; stroke-linejoin:round; stroke-width:4; stroke-opacity:1; fill:none\" points=\"252.764,1410.9 252.764,123.472 \"/>\n",
       "<polyline clip-path=\"url(#clip910)\" style=\"stroke:#000000; stroke-linecap:round; stroke-linejoin:round; stroke-width:4; stroke-opacity:1; fill:none\" points=\"252.764,1234.89 271.662,1234.89 \"/>\n",
       "<polyline clip-path=\"url(#clip910)\" style=\"stroke:#000000; stroke-linecap:round; stroke-linejoin:round; stroke-width:4; stroke-opacity:1; fill:none\" points=\"252.764,1010.75 271.662,1010.75 \"/>\n",
       "<polyline clip-path=\"url(#clip910)\" style=\"stroke:#000000; stroke-linecap:round; stroke-linejoin:round; stroke-width:4; stroke-opacity:1; fill:none\" points=\"252.764,786.598 271.662,786.598 \"/>\n",
       "<polyline clip-path=\"url(#clip910)\" style=\"stroke:#000000; stroke-linecap:round; stroke-linejoin:round; stroke-width:4; stroke-opacity:1; fill:none\" points=\"252.764,562.45 271.662,562.45 \"/>\n",
       "<polyline clip-path=\"url(#clip910)\" style=\"stroke:#000000; stroke-linecap:round; stroke-linejoin:round; stroke-width:4; stroke-opacity:1; fill:none\" points=\"252.764,338.303 271.662,338.303 \"/>\n",
       "<path clip-path=\"url(#clip910)\" d=\"M115.195 1254.68 L122.834 1254.68 L122.834 1228.32 L114.523 1229.99 L114.523 1225.73 L122.787 1224.06 L127.463 1224.06 L127.463 1254.68 L135.102 1254.68 L135.102 1258.62 L115.195 1258.62 L115.195 1254.68 Z\" fill=\"#000000\" fill-rule=\"nonzero\" fill-opacity=\"1\" /><path clip-path=\"url(#clip910)\" d=\"M154.546 1227.14 Q150.935 1227.14 149.107 1230.7 Q147.301 1234.25 147.301 1241.37 Q147.301 1248.48 149.107 1252.05 Q150.935 1255.59 154.546 1255.59 Q158.181 1255.59 159.986 1252.05 Q161.815 1248.48 161.815 1241.37 Q161.815 1234.25 159.986 1230.7 Q158.181 1227.14 154.546 1227.14 M154.546 1223.44 Q160.357 1223.44 163.412 1228.04 Q166.491 1232.62 166.491 1241.37 Q166.491 1250.1 163.412 1254.71 Q160.357 1259.29 154.546 1259.29 Q148.736 1259.29 145.658 1254.71 Q142.602 1250.1 142.602 1241.37 Q142.602 1232.62 145.658 1228.04 Q148.736 1223.44 154.546 1223.44 Z\" fill=\"#000000\" fill-rule=\"nonzero\" fill-opacity=\"1\" /><path clip-path=\"url(#clip910)\" d=\"M166.491 1217.54 L190.602 1217.54 L190.602 1220.73 L166.491 1220.73 L166.491 1217.54 Z\" fill=\"#000000\" fill-rule=\"nonzero\" fill-opacity=\"1\" /><path clip-path=\"url(#clip910)\" d=\"M207.398 1215.66 Q204.84 1215.66 203.335 1217.4 Q201.849 1219.15 201.849 1222.2 Q201.849 1225.23 203.335 1227 Q204.84 1228.75 207.398 1228.75 Q209.956 1228.75 211.441 1227 Q212.946 1225.23 212.946 1222.2 Q212.946 1219.15 211.441 1217.4 Q209.956 1215.66 207.398 1215.66 M214.94 1203.75 L214.94 1207.21 Q213.51 1206.53 212.043 1206.18 Q210.595 1205.82 209.166 1205.82 Q205.404 1205.82 203.41 1208.36 Q201.436 1210.9 201.153 1216.03 Q202.263 1214.4 203.937 1213.53 Q205.611 1212.65 207.623 1212.65 Q211.855 1212.65 214.3 1215.22 Q216.764 1217.78 216.764 1222.2 Q216.764 1226.53 214.206 1229.14 Q211.648 1231.76 207.398 1231.76 Q202.526 1231.76 199.95 1228.03 Q197.373 1224.29 197.373 1217.2 Q197.373 1210.54 200.533 1206.59 Q203.693 1202.62 209.015 1202.62 Q210.445 1202.62 211.893 1202.9 Q213.36 1203.19 214.94 1203.75 Z\" fill=\"#000000\" fill-rule=\"nonzero\" fill-opacity=\"1\" /><path clip-path=\"url(#clip910)\" d=\"M116.135 1030.54 L123.774 1030.54 L123.774 1004.17 L115.464 1005.84 L115.464 1001.58 L123.728 999.913 L128.404 999.913 L128.404 1030.54 L136.042 1030.54 L136.042 1034.47 L116.135 1034.47 L116.135 1030.54 Z\" fill=\"#000000\" fill-rule=\"nonzero\" fill-opacity=\"1\" /><path clip-path=\"url(#clip910)\" d=\"M155.487 1002.99 Q151.876 1002.99 150.047 1006.56 Q148.241 1010.1 148.241 1017.23 Q148.241 1024.33 150.047 1027.9 Q151.876 1031.44 155.487 1031.44 Q159.121 1031.44 160.927 1027.9 Q162.755 1024.33 162.755 1017.23 Q162.755 1010.1 160.927 1006.56 Q159.121 1002.99 155.487 1002.99 M155.487 999.288 Q161.297 999.288 164.352 1003.89 Q167.431 1008.48 167.431 1017.23 Q167.431 1025.95 164.352 1030.56 Q161.297 1035.14 155.487 1035.14 Q149.677 1035.14 146.598 1030.56 Q143.542 1025.95 143.542 1017.23 Q143.542 1008.48 146.598 1003.89 Q149.677 999.288 155.487 999.288 Z\" fill=\"#000000\" fill-rule=\"nonzero\" fill-opacity=\"1\" /><path clip-path=\"url(#clip910)\" d=\"M167.431 993.389 L191.543 993.389 L191.543 996.586 L167.431 996.586 L167.431 993.389 Z\" fill=\"#000000\" fill-rule=\"nonzero\" fill-opacity=\"1\" /><path clip-path=\"url(#clip910)\" d=\"M199.781 978.982 L214.695 978.982 L214.695 982.18 L203.26 982.18 L203.26 989.063 Q204.088 988.781 204.915 988.65 Q205.743 988.499 206.57 988.499 Q211.272 988.499 214.018 991.076 Q216.764 993.652 216.764 998.053 Q216.764 1002.59 213.943 1005.11 Q211.122 1007.61 205.987 1007.61 Q204.219 1007.61 202.376 1007.31 Q200.552 1007.01 198.596 1006.4 L198.596 1002.59 Q200.288 1003.51 202.094 1003.96 Q203.899 1004.41 205.912 1004.41 Q209.166 1004.41 211.065 1002.7 Q212.965 1000.99 212.965 998.053 Q212.965 995.119 211.065 993.408 Q209.166 991.696 205.912 991.696 Q204.388 991.696 202.865 992.035 Q201.36 992.373 199.781 993.088 L199.781 978.982 Z\" fill=\"#000000\" fill-rule=\"nonzero\" fill-opacity=\"1\" /><path clip-path=\"url(#clip910)\" d=\"M114.931 806.39 L122.57 806.39 L122.57 780.025 L114.26 781.691 L114.26 777.432 L122.524 775.765 L127.2 775.765 L127.2 806.39 L134.839 806.39 L134.839 810.325 L114.931 810.325 L114.931 806.39 Z\" fill=\"#000000\" fill-rule=\"nonzero\" fill-opacity=\"1\" /><path clip-path=\"url(#clip910)\" d=\"M154.283 778.844 Q150.672 778.844 148.843 782.409 Q147.038 785.951 147.038 793.08 Q147.038 800.187 148.843 803.751 Q150.672 807.293 154.283 807.293 Q157.917 807.293 159.723 803.751 Q161.552 800.187 161.552 793.08 Q161.552 785.951 159.723 782.409 Q157.917 778.844 154.283 778.844 M154.283 775.14 Q160.093 775.14 163.149 779.747 Q166.227 784.33 166.227 793.08 Q166.227 801.807 163.149 806.413 Q160.093 810.997 154.283 810.997 Q148.473 810.997 145.394 806.413 Q142.339 801.807 142.339 793.08 Q142.339 784.33 145.394 779.747 Q148.473 775.14 154.283 775.14 Z\" fill=\"#000000\" fill-rule=\"nonzero\" fill-opacity=\"1\" /><path clip-path=\"url(#clip910)\" d=\"M166.227 769.242 L190.339 769.242 L190.339 772.439 L166.227 772.439 L166.227 769.242 Z\" fill=\"#000000\" fill-rule=\"nonzero\" fill-opacity=\"1\" /><path clip-path=\"url(#clip910)\" d=\"M208.978 758.145 L199.386 773.135 L208.978 773.135 L208.978 758.145 M207.981 754.835 L212.758 754.835 L212.758 773.135 L216.764 773.135 L216.764 776.295 L212.758 776.295 L212.758 782.915 L208.978 782.915 L208.978 776.295 L196.301 776.295 L196.301 772.627 L207.981 754.835 Z\" fill=\"#000000\" fill-rule=\"nonzero\" fill-opacity=\"1\" /><path clip-path=\"url(#clip910)\" d=\"M115.853 582.243 L123.492 582.243 L123.492 555.877 L115.182 557.544 L115.182 553.285 L123.446 551.618 L128.121 551.618 L128.121 582.243 L135.76 582.243 L135.76 586.178 L115.853 586.178 L115.853 582.243 Z\" fill=\"#000000\" fill-rule=\"nonzero\" fill-opacity=\"1\" /><path clip-path=\"url(#clip910)\" d=\"M155.205 554.697 Q151.594 554.697 149.765 558.262 Q147.959 561.803 147.959 568.933 Q147.959 576.039 149.765 579.604 Q151.594 583.146 155.205 583.146 Q158.839 583.146 160.644 579.604 Q162.473 576.039 162.473 568.933 Q162.473 561.803 160.644 558.262 Q158.839 554.697 155.205 554.697 M155.205 550.993 Q161.015 550.993 164.07 555.599 Q167.149 560.183 167.149 568.933 Q167.149 577.66 164.07 582.266 Q161.015 586.849 155.205 586.849 Q149.395 586.849 146.316 582.266 Q143.26 577.66 143.26 568.933 Q143.26 560.183 146.316 555.599 Q149.395 550.993 155.205 550.993 Z\" fill=\"#000000\" fill-rule=\"nonzero\" fill-opacity=\"1\" /><path clip-path=\"url(#clip910)\" d=\"M167.149 545.094 L191.261 545.094 L191.261 548.292 L167.149 548.292 L167.149 545.094 Z\" fill=\"#000000\" fill-rule=\"nonzero\" fill-opacity=\"1\" /><path clip-path=\"url(#clip910)\" d=\"M210.971 543.627 Q213.698 544.21 215.222 546.054 Q216.764 547.897 216.764 550.605 Q216.764 554.762 213.905 557.037 Q211.046 559.313 205.78 559.313 Q204.012 559.313 202.132 558.956 Q200.27 558.617 198.276 557.921 L198.276 554.254 Q199.856 555.175 201.737 555.646 Q203.617 556.116 205.667 556.116 Q209.241 556.116 211.103 554.705 Q212.984 553.295 212.984 550.605 Q212.984 548.122 211.234 546.731 Q209.504 545.32 206.401 545.32 L203.128 545.32 L203.128 542.198 L206.551 542.198 Q209.354 542.198 210.84 541.088 Q212.325 539.96 212.325 537.853 Q212.325 535.691 210.783 534.543 Q209.26 533.377 206.401 533.377 Q204.84 533.377 203.053 533.716 Q201.266 534.054 199.122 534.769 L199.122 531.384 Q201.285 530.782 203.166 530.481 Q205.066 530.18 206.739 530.18 Q211.065 530.18 213.585 532.155 Q216.106 534.111 216.106 537.458 Q216.106 539.791 214.77 541.408 Q213.435 543.007 210.971 543.627 Z\" fill=\"#000000\" fill-rule=\"nonzero\" fill-opacity=\"1\" /><path clip-path=\"url(#clip910)\" d=\"M116.624 358.096 L124.263 358.096 L124.263 331.73 L115.953 333.397 L115.953 329.137 L124.217 327.471 L128.893 327.471 L128.893 358.096 L136.531 358.096 L136.531 362.031 L116.624 362.031 L116.624 358.096 Z\" fill=\"#000000\" fill-rule=\"nonzero\" fill-opacity=\"1\" /><path clip-path=\"url(#clip910)\" d=\"M155.976 330.549 Q152.365 330.549 150.536 334.114 Q148.73 337.656 148.73 344.785 Q148.73 351.892 150.536 355.457 Q152.365 358.998 155.976 358.998 Q159.61 358.998 161.416 355.457 Q163.244 351.892 163.244 344.785 Q163.244 337.656 161.416 334.114 Q159.61 330.549 155.976 330.549 M155.976 326.846 Q161.786 326.846 164.841 331.452 Q167.92 336.035 167.92 344.785 Q167.92 353.512 164.841 358.119 Q161.786 362.702 155.976 362.702 Q150.166 362.702 147.087 358.119 Q144.031 353.512 144.031 344.785 Q144.031 336.035 147.087 331.452 Q150.166 326.846 155.976 326.846 Z\" fill=\"#000000\" fill-rule=\"nonzero\" fill-opacity=\"1\" /><path clip-path=\"url(#clip910)\" d=\"M167.92 320.947 L192.032 320.947 L192.032 324.144 L167.92 324.144 L167.92 320.947 Z\" fill=\"#000000\" fill-rule=\"nonzero\" fill-opacity=\"1\" /><path clip-path=\"url(#clip910)\" d=\"M203.504 331.423 L216.764 331.423 L216.764 334.62 L198.934 334.62 L198.934 331.423 Q201.097 329.185 204.821 325.423 Q208.564 321.643 209.523 320.552 Q211.347 318.502 212.062 317.091 Q212.796 315.662 212.796 314.289 Q212.796 312.051 211.216 310.64 Q209.655 309.23 207.134 309.23 Q205.348 309.23 203.354 309.85 Q201.379 310.471 199.122 311.731 L199.122 307.894 Q201.417 306.973 203.41 306.503 Q205.404 306.032 207.059 306.032 Q211.423 306.032 214.018 308.214 Q216.613 310.396 216.613 314.045 Q216.613 315.775 215.955 317.336 Q215.316 318.878 213.604 320.985 Q213.134 321.53 210.614 324.144 Q208.094 326.74 203.504 331.423 Z\" fill=\"#000000\" fill-rule=\"nonzero\" fill-opacity=\"1\" /><path clip-path=\"url(#clip910)\" d=\"M16.4842 828.247 L16.4842 798.201 L21.895 798.201 L21.895 821.818 L35.9632 821.818 L35.9632 799.188 L41.3741 799.188 L41.3741 821.818 L58.5933 821.818 L58.5933 797.628 L64.0042 797.628 L64.0042 828.247 L16.4842 828.247 Z\" fill=\"#000000\" fill-rule=\"nonzero\" fill-opacity=\"1\" /><path clip-path=\"url(#clip910)\" d=\"M33.8307 766.659 Q33.2578 767.646 33.0032 768.824 Q32.7167 769.969 32.7167 771.37 Q32.7167 776.335 35.9632 779.009 Q39.1779 781.65 45.2253 781.65 L64.0042 781.65 L64.0042 787.539 L28.3562 787.539 L28.3562 781.65 L33.8944 781.65 Q30.6479 779.804 29.0883 776.844 Q27.4968 773.884 27.4968 769.651 Q27.4968 769.046 27.5923 768.314 Q27.656 767.582 27.8151 766.691 L33.8307 766.659 Z\" fill=\"#000000\" fill-rule=\"nonzero\" fill-opacity=\"1\" /><path clip-path=\"url(#clip910)\" d=\"M33.8307 741.005 Q33.2578 741.992 33.0032 743.17 Q32.7167 744.316 32.7167 745.716 Q32.7167 750.681 35.9632 753.355 Q39.1779 755.997 45.2253 755.997 L64.0042 755.997 L64.0042 761.885 L28.3562 761.885 L28.3562 755.997 L33.8944 755.997 Q30.6479 754.151 29.0883 751.191 Q27.4968 748.23 27.4968 743.997 Q27.4968 743.393 27.5923 742.66 Q27.656 741.928 27.8151 741.037 L33.8307 741.005 Z\" fill=\"#000000\" fill-rule=\"nonzero\" fill-opacity=\"1\" /><path clip-path=\"url(#clip910)\" d=\"M32.4621 722.481 Q32.4621 727.192 36.1542 729.929 Q39.8145 732.666 46.212 732.666 Q52.6095 732.666 56.3017 729.961 Q59.9619 727.224 59.9619 722.481 Q59.9619 717.802 56.2698 715.065 Q52.5777 712.328 46.212 712.328 Q39.8781 712.328 36.186 715.065 Q32.4621 717.802 32.4621 722.481 M27.4968 722.481 Q27.4968 714.842 32.4621 710.482 Q37.4273 706.121 46.212 706.121 Q54.9649 706.121 59.9619 710.482 Q64.9272 714.842 64.9272 722.481 Q64.9272 730.152 59.9619 734.512 Q54.9649 738.841 46.212 738.841 Q37.4273 738.841 32.4621 734.512 Q27.4968 730.152 27.4968 722.481 Z\" fill=\"#000000\" fill-rule=\"nonzero\" fill-opacity=\"1\" /><path clip-path=\"url(#clip910)\" d=\"M524.764 12.096 L563.004 12.096 L563.004 18.9825 L532.946 18.9825 L532.946 36.8875 L561.748 36.8875 L561.748 43.7741 L532.946 43.7741 L532.946 65.6895 L563.733 65.6895 L563.733 72.576 L524.764 72.576 L524.764 12.096 Z\" fill=\"#000000\" fill-rule=\"nonzero\" fill-opacity=\"1\" /><path clip-path=\"url(#clip910)\" d=\"M605.782 28.5427 L605.782 35.5912 Q602.622 33.9709 599.219 33.1607 Q595.816 32.3505 592.171 32.3505 Q586.621 32.3505 583.826 34.0519 Q581.071 35.7533 581.071 39.156 Q581.071 41.7486 583.056 43.2475 Q585.041 44.7058 591.036 46.0426 L593.588 46.6097 Q601.528 48.3111 604.85 51.4303 Q608.212 54.509 608.212 60.0587 Q608.212 66.3781 603.189 70.0644 Q598.206 73.7508 589.456 73.7508 Q585.811 73.7508 581.841 73.0216 Q577.911 72.3329 573.536 70.9151 L573.536 63.2184 Q577.668 65.3654 581.679 66.4591 Q585.689 67.5124 589.618 67.5124 Q594.885 67.5124 597.72 65.73 Q600.556 63.9071 600.556 60.6258 Q600.556 57.5877 598.49 55.9673 Q596.465 54.3469 589.537 52.8481 L586.945 52.2405 Q580.018 50.7821 576.939 47.7845 Q573.86 44.7463 573.86 39.4801 Q573.86 33.0797 578.397 29.5959 Q582.935 26.1121 591.279 26.1121 Q595.411 26.1121 599.057 26.7198 Q602.703 27.3274 605.782 28.5427 Z\" fill=\"#000000\" fill-rule=\"nonzero\" fill-opacity=\"1\" /><path clip-path=\"url(#clip910)\" d=\"M627.454 14.324 L627.454 27.2059 L642.807 27.2059 L642.807 32.9987 L627.454 32.9987 L627.454 57.6282 Q627.454 63.1779 628.953 64.7578 Q630.492 66.3376 635.151 66.3376 L642.807 66.3376 L642.807 72.576 L635.151 72.576 Q626.522 72.576 623.241 69.3758 Q619.96 66.1351 619.96 57.6282 L619.96 32.9987 L614.491 32.9987 L614.491 27.2059 L619.96 27.2059 L619.96 14.324 L627.454 14.324 Z\" fill=\"#000000\" fill-rule=\"nonzero\" fill-opacity=\"1\" /><path clip-path=\"url(#clip910)\" d=\"M651.84 54.671 L651.84 27.2059 L659.294 27.2059 L659.294 54.3874 Q659.294 60.8284 661.806 64.0691 Q664.317 67.2693 669.34 67.2693 Q675.376 67.2693 678.86 63.421 Q682.384 59.5726 682.384 52.9291 L682.384 27.2059 L689.838 27.2059 L689.838 72.576 L682.384 72.576 L682.384 65.6084 Q679.67 69.7404 676.065 71.7658 Q672.5 73.7508 667.76 73.7508 Q659.942 73.7508 655.891 68.8897 Q651.84 64.0286 651.84 54.671 M670.596 26.1121 L670.596 26.1121 Z\" fill=\"#000000\" fill-rule=\"nonzero\" fill-opacity=\"1\" /><path clip-path=\"url(#clip910)\" d=\"M735.046 34.0924 L735.046 9.54393 L742.5 9.54393 L742.5 72.576 L735.046 72.576 L735.046 65.7705 Q732.696 69.8214 729.091 71.8063 Q725.526 73.7508 720.503 73.7508 Q712.28 73.7508 707.095 67.1883 Q701.95 60.6258 701.95 49.9314 Q701.95 39.2371 707.095 32.6746 Q712.28 26.1121 720.503 26.1121 Q725.526 26.1121 729.091 28.0971 Q732.696 30.0415 735.046 34.0924 M709.647 49.9314 Q709.647 58.1548 713.009 62.8538 Q716.412 67.5124 722.326 67.5124 Q728.24 67.5124 731.643 62.8538 Q735.046 58.1548 735.046 49.9314 Q735.046 41.7081 731.643 37.0496 Q728.24 32.3505 722.326 32.3505 Q716.412 32.3505 713.009 37.0496 Q709.647 41.7081 709.647 49.9314 Z\" fill=\"#000000\" fill-rule=\"nonzero\" fill-opacity=\"1\" /><path clip-path=\"url(#clip910)\" d=\"M775.433 32.4315 Q769.438 32.4315 765.954 37.1306 Q762.471 41.7891 762.471 49.9314 Q762.471 58.0738 765.914 62.7728 Q769.398 67.4314 775.433 67.4314 Q781.388 67.4314 784.872 62.7323 Q788.356 58.0333 788.356 49.9314 Q788.356 41.8701 784.872 37.1711 Q781.388 32.4315 775.433 32.4315 M775.433 26.1121 Q785.156 26.1121 790.705 32.4315 Q796.255 38.7509 796.255 49.9314 Q796.255 61.0714 790.705 67.4314 Q785.156 73.7508 775.433 73.7508 Q765.671 73.7508 760.121 67.4314 Q754.612 61.0714 754.612 49.9314 Q754.612 38.7509 760.121 32.4315 Q765.671 26.1121 775.433 26.1121 Z\" fill=\"#000000\" fill-rule=\"nonzero\" fill-opacity=\"1\" /><path clip-path=\"url(#clip910)\" d=\"M864.837 34.0924 L864.837 9.54393 L872.291 9.54393 L872.291 72.576 L864.837 72.576 L864.837 65.7705 Q862.487 69.8214 858.882 71.8063 Q855.317 73.7508 850.294 73.7508 Q842.071 73.7508 836.886 67.1883 Q831.741 60.6258 831.741 49.9314 Q831.741 39.2371 836.886 32.6746 Q842.071 26.1121 850.294 26.1121 Q855.317 26.1121 858.882 28.0971 Q862.487 30.0415 864.837 34.0924 M839.438 49.9314 Q839.438 58.1548 842.8 62.8538 Q846.203 67.5124 852.117 67.5124 Q858.031 67.5124 861.434 62.8538 Q864.837 58.1548 864.837 49.9314 Q864.837 41.7081 861.434 37.0496 Q858.031 32.3505 852.117 32.3505 Q846.203 32.3505 842.8 37.0496 Q839.438 41.7081 839.438 49.9314 Z\" fill=\"#000000\" fill-rule=\"nonzero\" fill-opacity=\"1\" /><path clip-path=\"url(#clip910)\" d=\"M905.224 32.4315 Q899.229 32.4315 895.745 37.1306 Q892.262 41.7891 892.262 49.9314 Q892.262 58.0738 895.705 62.7728 Q899.189 67.4314 905.224 67.4314 Q911.179 67.4314 914.663 62.7323 Q918.147 58.0333 918.147 49.9314 Q918.147 41.8701 914.663 37.1711 Q911.179 32.4315 905.224 32.4315 M905.224 26.1121 Q914.947 26.1121 920.496 32.4315 Q926.046 38.7509 926.046 49.9314 Q926.046 61.0714 920.496 67.4314 Q914.947 73.7508 905.224 73.7508 Q895.462 73.7508 889.912 67.4314 Q884.403 61.0714 884.403 49.9314 Q884.403 38.7509 889.912 32.4315 Q895.462 26.1121 905.224 26.1121 Z\" fill=\"#000000\" fill-rule=\"nonzero\" fill-opacity=\"1\" /><path clip-path=\"url(#clip910)\" d=\"M1003.58 48.0275 L1003.58 51.6733 L969.31 51.6733 Q969.796 59.3701 973.928 63.421 Q978.1 67.4314 985.513 67.4314 Q989.807 67.4314 993.818 66.3781 Q997.869 65.3249 1001.84 63.2184 L1001.84 70.267 Q997.828 71.9684 993.615 72.8596 Q989.402 73.7508 985.068 73.7508 Q974.211 73.7508 967.851 67.4314 Q961.532 61.1119 961.532 50.3365 Q961.532 39.1965 967.527 32.6746 Q973.563 26.1121 983.771 26.1121 Q992.927 26.1121 998.233 32.0264 Q1003.58 37.9003 1003.58 48.0275 M996.127 45.84 Q996.046 39.7232 992.683 36.0774 Q989.362 32.4315 983.852 32.4315 Q977.614 32.4315 973.847 35.9558 Q970.12 39.4801 969.553 45.8805 L996.127 45.84 Z\" fill=\"#000000\" fill-rule=\"nonzero\" fill-opacity=\"1\" /><path clip-path=\"url(#clip910)\" d=\"M1042.1 34.1734 Q1040.85 33.4443 1039.35 33.1202 Q1037.89 32.7556 1036.11 32.7556 Q1029.79 32.7556 1026.39 36.8875 Q1023.02 40.9789 1023.02 48.6757 L1023.02 72.576 L1015.53 72.576 L1015.53 27.2059 L1023.02 27.2059 L1023.02 34.2544 Q1025.37 30.1225 1029.14 28.1376 Q1032.91 26.1121 1038.3 26.1121 Q1039.07 26.1121 1040 26.2337 Q1040.93 26.3147 1042.06 26.5172 L1042.1 34.1734 Z\" fill=\"#000000\" fill-rule=\"nonzero\" fill-opacity=\"1\" /><path clip-path=\"url(#clip910)\" d=\"M1074.75 34.1734 Q1073.5 33.4443 1072 33.1202 Q1070.54 32.7556 1068.76 32.7556 Q1062.44 32.7556 1059.04 36.8875 Q1055.68 40.9789 1055.68 48.6757 L1055.68 72.576 L1048.18 72.576 L1048.18 27.2059 L1055.68 27.2059 L1055.68 34.2544 Q1058.02 30.1225 1061.79 28.1376 Q1065.56 26.1121 1070.95 26.1121 Q1071.72 26.1121 1072.65 26.2337 Q1073.58 26.3147 1074.71 26.5172 L1074.75 34.1734 Z\" fill=\"#000000\" fill-rule=\"nonzero\" fill-opacity=\"1\" /><path clip-path=\"url(#clip910)\" d=\"M1098.33 32.4315 Q1092.34 32.4315 1088.85 37.1306 Q1085.37 41.7891 1085.37 49.9314 Q1085.37 58.0738 1088.81 62.7728 Q1092.3 67.4314 1098.33 67.4314 Q1104.29 67.4314 1107.77 62.7323 Q1111.25 58.0333 1111.25 49.9314 Q1111.25 41.8701 1107.77 37.1711 Q1104.29 32.4315 1098.33 32.4315 M1098.33 26.1121 Q1108.05 26.1121 1113.6 32.4315 Q1119.15 38.7509 1119.15 49.9314 Q1119.15 61.0714 1113.6 67.4314 Q1108.05 73.7508 1098.33 73.7508 Q1088.57 73.7508 1083.02 67.4314 Q1077.51 61.0714 1077.51 49.9314 Q1077.51 38.7509 1083.02 32.4315 Q1088.57 26.1121 1098.33 26.1121 Z\" fill=\"#000000\" fill-rule=\"nonzero\" fill-opacity=\"1\" /><path clip-path=\"url(#clip910)\" d=\"M1154.11 46.5287 L1175.95 46.5287 L1175.95 53.1722 L1154.11 53.1722 L1154.11 46.5287 Z\" fill=\"#000000\" fill-rule=\"nonzero\" fill-opacity=\"1\" /><path clip-path=\"url(#clip910)\" d=\"M1252.99 48.0275 L1252.99 51.6733 L1218.72 51.6733 Q1219.21 59.3701 1223.34 63.421 Q1227.51 67.4314 1234.93 67.4314 Q1239.22 67.4314 1243.23 66.3781 Q1247.28 65.3249 1251.25 63.2184 L1251.25 70.267 Q1247.24 71.9684 1243.03 72.8596 Q1238.82 73.7508 1234.48 73.7508 Q1223.63 73.7508 1217.27 67.4314 Q1210.95 61.1119 1210.95 50.3365 Q1210.95 39.1965 1216.94 32.6746 Q1222.98 26.1121 1233.19 26.1121 Q1242.34 26.1121 1247.65 32.0264 Q1252.99 37.9003 1252.99 48.0275 M1245.54 45.84 Q1245.46 39.7232 1242.1 36.0774 Q1238.78 32.4315 1233.27 32.4315 Q1227.03 32.4315 1223.26 35.9558 Q1219.53 39.4801 1218.97 45.8805 L1245.54 45.84 Z\" fill=\"#000000\" fill-rule=\"nonzero\" fill-opacity=\"1\" /><path clip-path=\"url(#clip910)\" d=\"M1301.48 27.2059 L1285.08 49.2833 L1302.33 72.576 L1293.54 72.576 L1280.34 54.752 L1267.13 72.576 L1258.34 72.576 L1275.96 48.8377 L1259.84 27.2059 L1268.63 27.2059 L1280.66 43.369 L1292.69 27.2059 L1301.48 27.2059 Z\" fill=\"#000000\" fill-rule=\"nonzero\" fill-opacity=\"1\" /><path clip-path=\"url(#clip910)\" d=\"M1349.12 48.0275 L1349.12 51.6733 L1314.85 51.6733 Q1315.34 59.3701 1319.47 63.421 Q1323.64 67.4314 1331.06 67.4314 Q1335.35 67.4314 1339.36 66.3781 Q1343.41 65.3249 1347.38 63.2184 L1347.38 70.267 Q1343.37 71.9684 1339.16 72.8596 Q1334.94 73.7508 1330.61 73.7508 Q1319.75 73.7508 1313.39 67.4314 Q1307.07 61.1119 1307.07 50.3365 Q1307.07 39.1965 1313.07 32.6746 Q1319.11 26.1121 1329.31 26.1121 Q1338.47 26.1121 1343.78 32.0264 Q1349.12 37.9003 1349.12 48.0275 M1341.67 45.84 Q1341.59 39.7232 1338.23 36.0774 Q1334.9 32.4315 1329.39 32.4315 Q1323.16 32.4315 1319.39 35.9558 Q1315.66 39.4801 1315.09 45.8805 L1341.67 45.84 Z\" fill=\"#000000\" fill-rule=\"nonzero\" fill-opacity=\"1\" /><path clip-path=\"url(#clip910)\" d=\"M1396.68 35.9153 Q1399.48 30.8922 1403.36 28.5022 Q1407.25 26.1121 1412.52 26.1121 Q1419.61 26.1121 1423.46 31.0947 Q1427.3 36.0368 1427.3 45.1919 L1427.3 72.576 L1419.81 72.576 L1419.81 45.4349 Q1419.81 38.913 1417.5 35.7533 Q1415.19 32.5936 1410.45 32.5936 Q1404.66 32.5936 1401.3 36.4419 Q1397.94 40.2903 1397.94 46.9338 L1397.94 72.576 L1390.44 72.576 L1390.44 45.4349 Q1390.44 38.8725 1388.13 35.7533 Q1385.82 32.5936 1381 32.5936 Q1375.29 32.5936 1371.93 36.4824 Q1368.57 40.3308 1368.57 46.9338 L1368.57 72.576 L1361.07 72.576 L1361.07 27.2059 L1368.57 27.2059 L1368.57 34.2544 Q1371.12 30.082 1374.68 28.0971 Q1378.25 26.1121 1383.15 26.1121 Q1388.09 26.1121 1391.54 28.6237 Q1395.02 31.1352 1396.68 35.9153 Z\" fill=\"#000000\" fill-rule=\"nonzero\" fill-opacity=\"1\" /><path clip-path=\"url(#clip910)\" d=\"M1449.38 65.7705 L1449.38 89.8329 L1441.89 89.8329 L1441.89 27.2059 L1449.38 27.2059 L1449.38 34.0924 Q1451.73 30.0415 1455.3 28.0971 Q1458.9 26.1121 1463.88 26.1121 Q1472.15 26.1121 1477.29 32.6746 Q1482.48 39.2371 1482.48 49.9314 Q1482.48 60.6258 1477.29 67.1883 Q1472.15 73.7508 1463.88 73.7508 Q1458.9 73.7508 1455.3 71.8063 Q1451.73 69.8214 1449.38 65.7705 M1474.74 49.9314 Q1474.74 41.7081 1471.34 37.0496 Q1467.98 32.3505 1462.06 32.3505 Q1456.15 32.3505 1452.74 37.0496 Q1449.38 41.7081 1449.38 49.9314 Q1449.38 58.1548 1452.74 62.8538 Q1456.15 67.5124 1462.06 67.5124 Q1467.98 67.5124 1471.34 62.8538 Q1474.74 58.1548 1474.74 49.9314 Z\" fill=\"#000000\" fill-rule=\"nonzero\" fill-opacity=\"1\" /><path clip-path=\"url(#clip910)\" d=\"M1494.83 9.54393 L1502.29 9.54393 L1502.29 72.576 L1494.83 72.576 L1494.83 9.54393 Z\" fill=\"#000000\" fill-rule=\"nonzero\" fill-opacity=\"1\" /><path clip-path=\"url(#clip910)\" d=\"M1535.46 32.4315 Q1529.47 32.4315 1525.99 37.1306 Q1522.5 41.7891 1522.5 49.9314 Q1522.5 58.0738 1525.94 62.7728 Q1529.43 67.4314 1535.46 67.4314 Q1541.42 67.4314 1544.9 62.7323 Q1548.39 58.0333 1548.39 49.9314 Q1548.39 41.8701 1544.9 37.1711 Q1541.42 32.4315 1535.46 32.4315 M1535.46 26.1121 Q1545.19 26.1121 1550.74 32.4315 Q1556.29 38.7509 1556.29 49.9314 Q1556.29 61.0714 1550.74 67.4314 Q1545.19 73.7508 1535.46 73.7508 Q1525.7 73.7508 1520.15 67.4314 Q1514.64 61.0714 1514.64 49.9314 Q1514.64 38.7509 1520.15 32.4315 Q1525.7 26.1121 1535.46 26.1121 Z\" fill=\"#000000\" fill-rule=\"nonzero\" fill-opacity=\"1\" /><path clip-path=\"url(#clip910)\" d=\"M1603.11 65.6895 L1631.67 65.6895 L1631.67 72.576 L1593.27 72.576 L1593.27 65.6895 Q1597.93 60.8689 1605.95 52.7671 Q1614.01 44.6248 1616.08 42.2752 Q1620.01 37.8598 1621.55 34.8216 Q1623.13 31.7429 1623.13 28.7857 Q1623.13 23.9651 1619.72 20.927 Q1616.36 17.8888 1610.93 17.8888 Q1607.08 17.8888 1602.79 19.2256 Q1598.54 20.5624 1593.68 23.2765 L1593.68 15.0127 Q1598.62 13.0277 1602.91 12.015 Q1607.21 11.0023 1610.77 11.0023 Q1620.17 11.0023 1625.76 15.7013 Q1631.35 20.4004 1631.35 28.2591 Q1631.35 31.9859 1629.93 35.3482 Q1628.55 38.6699 1624.87 43.2069 Q1623.85 44.3817 1618.43 50.0125 Q1613 55.6027 1603.11 65.6895 Z\" fill=\"#000000\" fill-rule=\"nonzero\" fill-opacity=\"1\" /><path clip-path=\"url(#clip910)\" d=\"M1670.4 46.5287 L1692.23 46.5287 L1692.23 53.1722 L1670.4 53.1722 L1670.4 46.5287 Z\" fill=\"#000000\" fill-rule=\"nonzero\" fill-opacity=\"1\" /><path clip-path=\"url(#clip910)\" d=\"M1763.12 28.9478 L1763.12 35.9153 Q1759.97 34.1734 1756.77 33.3227 Q1753.61 32.4315 1750.36 32.4315 Q1743.11 32.4315 1739.1 37.0496 Q1735.09 41.6271 1735.09 49.9314 Q1735.09 58.2358 1739.1 62.8538 Q1743.11 67.4314 1750.36 67.4314 Q1753.61 67.4314 1756.77 66.5807 Q1759.97 65.6895 1763.12 63.9476 L1763.12 70.8341 Q1760.01 72.2924 1756.64 73.0216 Q1753.32 73.7508 1749.55 73.7508 Q1739.31 73.7508 1733.27 67.3098 Q1727.23 60.8689 1727.23 49.9314 Q1727.23 38.832 1733.31 32.472 Q1739.43 26.1121 1750.04 26.1121 Q1753.48 26.1121 1756.77 26.8413 Q1760.05 27.5299 1763.12 28.9478 Z\" fill=\"#000000\" fill-rule=\"nonzero\" fill-opacity=\"1\" /><path clip-path=\"url(#clip910)\" d=\"M1796.71 49.7694 Q1787.67 49.7694 1784.19 51.8354 Q1780.71 53.9013 1780.71 58.8839 Q1780.71 62.8538 1783.3 65.2034 Q1785.93 67.5124 1790.43 67.5124 Q1796.63 67.5124 1800.35 63.1374 Q1804.12 58.7219 1804.12 51.4303 L1804.12 49.7694 L1796.71 49.7694 M1811.57 46.6907 L1811.57 72.576 L1804.12 72.576 L1804.12 65.6895 Q1801.57 69.8214 1797.76 71.8063 Q1793.95 73.7508 1788.44 73.7508 Q1781.48 73.7508 1777.34 69.8619 Q1773.25 65.9325 1773.25 59.3701 Q1773.25 51.7138 1778.36 47.825 Q1783.5 43.9361 1793.67 43.9361 L1804.12 43.9361 L1804.12 43.2069 Q1804.12 38.0623 1800.72 35.2672 Q1797.36 32.4315 1791.24 32.4315 Q1787.35 32.4315 1783.66 33.3632 Q1779.98 34.295 1776.57 36.1584 L1776.57 29.2718 Q1780.67 27.692 1784.51 26.9223 Q1788.36 26.1121 1792.01 26.1121 Q1801.85 26.1121 1806.71 31.2163 Q1811.57 36.3204 1811.57 46.6907 Z\" fill=\"#000000\" fill-rule=\"nonzero\" fill-opacity=\"1\" /><path clip-path=\"url(#clip910)\" d=\"M1855.85 28.5427 L1855.85 35.5912 Q1852.69 33.9709 1849.29 33.1607 Q1845.88 32.3505 1842.24 32.3505 Q1836.69 32.3505 1833.89 34.0519 Q1831.14 35.7533 1831.14 39.156 Q1831.14 41.7486 1833.12 43.2475 Q1835.11 44.7058 1841.1 46.0426 L1843.66 46.6097 Q1851.6 48.3111 1854.92 51.4303 Q1858.28 54.509 1858.28 60.0587 Q1858.28 66.3781 1853.26 70.0644 Q1848.27 73.7508 1839.52 73.7508 Q1835.88 73.7508 1831.91 73.0216 Q1827.98 72.3329 1823.6 70.9151 L1823.6 63.2184 Q1827.74 65.3654 1831.75 66.4591 Q1835.76 67.5124 1839.69 67.5124 Q1844.95 67.5124 1847.79 65.73 Q1850.62 63.9071 1850.62 60.6258 Q1850.62 57.5877 1848.56 55.9673 Q1846.53 54.3469 1839.61 52.8481 L1837.01 52.2405 Q1830.09 50.7821 1827.01 47.7845 Q1823.93 44.7463 1823.93 39.4801 Q1823.93 33.0797 1828.47 29.5959 Q1833 26.1121 1841.35 26.1121 Q1845.48 26.1121 1849.13 26.7198 Q1852.77 27.3274 1855.85 28.5427 Z\" fill=\"#000000\" fill-rule=\"nonzero\" fill-opacity=\"1\" /><path clip-path=\"url(#clip910)\" d=\"M1908.96 48.0275 L1908.96 51.6733 L1874.69 51.6733 Q1875.17 59.3701 1879.3 63.421 Q1883.48 67.4314 1890.89 67.4314 Q1895.18 67.4314 1899.19 66.3781 Q1903.25 65.3249 1907.22 63.2184 L1907.22 70.267 Q1903.21 71.9684 1898.99 72.8596 Q1894.78 73.7508 1890.44 73.7508 Q1879.59 73.7508 1873.23 67.4314 Q1866.91 61.1119 1866.91 50.3365 Q1866.91 39.1965 1872.9 32.6746 Q1878.94 26.1121 1889.15 26.1121 Q1898.3 26.1121 1903.61 32.0264 Q1908.96 37.9003 1908.96 48.0275 M1901.5 45.84 Q1901.42 39.7232 1898.06 36.0774 Q1894.74 32.4315 1889.23 32.4315 Q1882.99 32.4315 1879.22 35.9558 Q1875.5 39.4801 1874.93 45.8805 L1901.5 45.84 Z\" fill=\"#000000\" fill-rule=\"nonzero\" fill-opacity=\"1\" /><path clip-path=\"url(#clip910)\" d=\"M1948.53 34.9026 L2000.47 34.9026 L2000.47 41.7081 L1948.53 41.7081 L1948.53 34.9026 M1948.53 51.4303 L2000.47 51.4303 L2000.47 58.3168 L1948.53 58.3168 L1948.53 51.4303 Z\" fill=\"#000000\" fill-rule=\"nonzero\" fill-opacity=\"1\" /><path clip-path=\"url(#clip910)\" d=\"M2045.92 65.6895 L2059.29 65.6895 L2059.29 19.5497 L2044.74 22.4663 L2044.74 15.0127 L2059.21 12.096 L2067.39 12.096 L2067.39 65.6895 L2080.76 65.6895 L2080.76 72.576 L2045.92 72.576 L2045.92 65.6895 Z\" fill=\"#000000\" fill-rule=\"nonzero\" fill-opacity=\"1\" /><polyline clip-path=\"url(#clip912)\" style=\"stroke:#009af9; stroke-linecap:round; stroke-linejoin:round; stroke-width:12; stroke-opacity:1; fill:none\" points=\"2293.32,334.251 2073.2,385.472 1853.07,401.842 1632.95,406.679 1412.82,408.459 1192.7,409.09 972.573,409.366 752.448,409.49 532.323,409.548 312.198,409.576 \"/>\n",
       "<circle clip-path=\"url(#clip912)\" cx=\"2293.32\" cy=\"334.251\" r=\"14.4\" fill=\"#009af9\" fill-rule=\"evenodd\" fill-opacity=\"1\" stroke=\"#000000\" stroke-opacity=\"1\" stroke-width=\"3.2\"/>\n",
       "<circle clip-path=\"url(#clip912)\" cx=\"2073.2\" cy=\"385.472\" r=\"14.4\" fill=\"#009af9\" fill-rule=\"evenodd\" fill-opacity=\"1\" stroke=\"#000000\" stroke-opacity=\"1\" stroke-width=\"3.2\"/>\n",
       "<circle clip-path=\"url(#clip912)\" cx=\"1853.07\" cy=\"401.842\" r=\"14.4\" fill=\"#009af9\" fill-rule=\"evenodd\" fill-opacity=\"1\" stroke=\"#000000\" stroke-opacity=\"1\" stroke-width=\"3.2\"/>\n",
       "<circle clip-path=\"url(#clip912)\" cx=\"1632.95\" cy=\"406.679\" r=\"14.4\" fill=\"#009af9\" fill-rule=\"evenodd\" fill-opacity=\"1\" stroke=\"#000000\" stroke-opacity=\"1\" stroke-width=\"3.2\"/>\n",
       "<circle clip-path=\"url(#clip912)\" cx=\"1412.82\" cy=\"408.459\" r=\"14.4\" fill=\"#009af9\" fill-rule=\"evenodd\" fill-opacity=\"1\" stroke=\"#000000\" stroke-opacity=\"1\" stroke-width=\"3.2\"/>\n",
       "<circle clip-path=\"url(#clip912)\" cx=\"1192.7\" cy=\"409.09\" r=\"14.4\" fill=\"#009af9\" fill-rule=\"evenodd\" fill-opacity=\"1\" stroke=\"#000000\" stroke-opacity=\"1\" stroke-width=\"3.2\"/>\n",
       "<circle clip-path=\"url(#clip912)\" cx=\"972.573\" cy=\"409.366\" r=\"14.4\" fill=\"#009af9\" fill-rule=\"evenodd\" fill-opacity=\"1\" stroke=\"#000000\" stroke-opacity=\"1\" stroke-width=\"3.2\"/>\n",
       "<circle clip-path=\"url(#clip912)\" cx=\"752.448\" cy=\"409.49\" r=\"14.4\" fill=\"#009af9\" fill-rule=\"evenodd\" fill-opacity=\"1\" stroke=\"#000000\" stroke-opacity=\"1\" stroke-width=\"3.2\"/>\n",
       "<circle clip-path=\"url(#clip912)\" cx=\"532.323\" cy=\"409.548\" r=\"14.4\" fill=\"#009af9\" fill-rule=\"evenodd\" fill-opacity=\"1\" stroke=\"#000000\" stroke-opacity=\"1\" stroke-width=\"3.2\"/>\n",
       "<circle clip-path=\"url(#clip912)\" cx=\"312.198\" cy=\"409.576\" r=\"14.4\" fill=\"#009af9\" fill-rule=\"evenodd\" fill-opacity=\"1\" stroke=\"#000000\" stroke-opacity=\"1\" stroke-width=\"3.2\"/>\n",
       "<polyline clip-path=\"url(#clip912)\" style=\"stroke:#e26f46; stroke-linecap:round; stroke-linejoin:round; stroke-width:12; stroke-opacity:1; fill:none\" points=\"2293.32,159.909 2073.2,294.859 1853.07,429.809 1632.95,564.759 1412.82,699.709 1192.7,834.659 972.573,969.61 752.448,1104.56 532.323,1239.51 312.198,1374.46 \"/>\n",
       "<path clip-path=\"url(#clip910)\" d=\"M322.764 321.906 L621.582 321.906 L621.582 166.386 L322.764 166.386  Z\" fill=\"#ffffff\" fill-rule=\"evenodd\" fill-opacity=\"1\"/>\n",
       "<polyline clip-path=\"url(#clip910)\" style=\"stroke:#000000; stroke-linecap:round; stroke-linejoin:round; stroke-width:4; stroke-opacity:1; fill:none\" points=\"322.764,321.906 621.582,321.906 621.582,166.386 322.764,166.386 322.764,321.906 \"/>\n",
       "<polyline clip-path=\"url(#clip910)\" style=\"stroke:#009af9; stroke-linecap:round; stroke-linejoin:round; stroke-width:12; stroke-opacity:1; fill:none\" points=\"346.097,218.226 486.096,218.226 \"/>\n",
       "<circle clip-path=\"url(#clip910)\" cx=\"416.097\" cy=\"218.226\" r=\"19.4444\" fill=\"#009af9\" fill-rule=\"evenodd\" fill-opacity=\"1\" stroke=\"#000000\" stroke-opacity=\"1\" stroke-width=\"4.55111\"/>\n",
       "<path clip-path=\"url(#clip910)\" d=\"M509.43 200.946 L531.281 200.946 L531.281 204.881 L514.106 204.881 L514.106 215.113 L530.564 215.113 L530.564 219.048 L514.106 219.048 L514.106 231.571 L531.698 231.571 L531.698 235.506 L509.43 235.506 L509.43 200.946 Z\" fill=\"#000000\" fill-rule=\"nonzero\" fill-opacity=\"1\" /><path clip-path=\"url(#clip910)\" d=\"M554.221 213.562 Q553.503 213.145 552.647 212.96 Q551.814 212.752 550.795 212.752 Q547.184 212.752 545.24 215.113 Q543.318 217.451 543.318 221.849 L543.318 235.506 L539.036 235.506 L539.036 209.58 L543.318 209.58 L543.318 213.608 Q544.661 211.247 546.814 210.113 Q548.966 208.955 552.045 208.955 Q552.485 208.955 553.017 209.025 Q553.55 209.071 554.198 209.187 L554.221 213.562 Z\" fill=\"#000000\" fill-rule=\"nonzero\" fill-opacity=\"1\" /><path clip-path=\"url(#clip910)\" d=\"M572.878 213.562 Q572.161 213.145 571.304 212.96 Q570.471 212.752 569.452 212.752 Q565.841 212.752 563.897 215.113 Q561.976 217.451 561.976 221.849 L561.976 235.506 L557.693 235.506 L557.693 209.58 L561.976 209.58 L561.976 213.608 Q563.318 211.247 565.471 210.113 Q567.624 208.955 570.702 208.955 Q571.142 208.955 571.675 209.025 Q572.207 209.071 572.855 209.187 L572.878 213.562 Z\" fill=\"#000000\" fill-rule=\"nonzero\" fill-opacity=\"1\" /><path clip-path=\"url(#clip910)\" d=\"M586.351 212.567 Q582.925 212.567 580.934 215.252 Q578.943 217.914 578.943 222.567 Q578.943 227.219 580.911 229.904 Q582.901 232.566 586.351 232.566 Q589.753 232.566 591.744 229.881 Q593.735 227.196 593.735 222.567 Q593.735 217.96 591.744 215.275 Q589.753 212.567 586.351 212.567 M586.351 208.955 Q591.906 208.955 595.077 212.567 Q598.249 216.178 598.249 222.567 Q598.249 228.932 595.077 232.566 Q591.906 236.178 586.351 236.178 Q580.772 236.178 577.601 232.566 Q574.452 228.932 574.452 222.567 Q574.452 216.178 577.601 212.567 Q580.772 208.955 586.351 208.955 Z\" fill=\"#000000\" fill-rule=\"nonzero\" fill-opacity=\"1\" /><polyline clip-path=\"url(#clip910)\" style=\"stroke:#e26f46; stroke-linecap:round; stroke-linejoin:round; stroke-width:12; stroke-opacity:1; fill:none\" points=\"346.097,270.066 486.096,270.066 \"/>\n",
       "<path clip-path=\"url(#clip910)\" d=\"M531.142 271.698 L531.142 287.346 L526.883 287.346 L526.883 271.837 Q526.883 268.157 525.448 266.328 Q524.013 264.499 521.143 264.499 Q517.693 264.499 515.703 266.698 Q513.712 268.897 513.712 272.694 L513.712 287.346 L509.43 287.346 L509.43 251.328 L513.712 251.328 L513.712 265.448 Q515.24 263.11 517.3 261.953 Q519.383 260.795 522.092 260.795 Q526.559 260.795 528.851 263.573 Q531.142 266.328 531.142 271.698 Z\" fill=\"#000000\" fill-rule=\"nonzero\" fill-opacity=\"1\" /><path clip-path=\"url(#clip910)\" d=\"M541.374 269.245 L551.189 269.245 L551.189 271.883 L537.346 271.883 L537.346 269.337 Q538.133 268.62 539.592 267.323 Q547.554 260.263 547.554 258.087 Q547.554 256.559 546.351 255.633 Q545.147 254.684 543.179 254.684 Q541.976 254.684 540.564 255.101 Q539.152 255.495 537.485 256.305 L537.485 253.458 Q539.267 252.809 540.795 252.485 Q542.346 252.161 543.666 252.161 Q547.022 252.161 549.036 253.689 Q551.05 255.217 551.05 257.717 Q551.05 260.934 543.388 267.508 Q542.091 268.62 541.374 269.245 Z\" fill=\"#000000\" fill-rule=\"nonzero\" fill-opacity=\"1\" /></svg>\n"
      ],
      "text/html": [
       "<?xml version=\"1.0\" encoding=\"utf-8\"?>\n",
       "<svg xmlns=\"http://www.w3.org/2000/svg\" xmlns:xlink=\"http://www.w3.org/1999/xlink\" width=\"600\" height=\"400\" viewBox=\"0 0 2400 1600\">\n",
       "<defs>\n",
       "  <clipPath id=\"clip960\">\n",
       "    <rect x=\"0\" y=\"0\" width=\"2400\" height=\"1600\"/>\n",
       "  </clipPath>\n",
       "</defs>\n",
       "<path clip-path=\"url(#clip960)\" d=\"M0 1600 L2400 1600 L2400 0 L0 0  Z\" fill=\"#ffffff\" fill-rule=\"evenodd\" fill-opacity=\"1\"/>\n",
       "<defs>\n",
       "  <clipPath id=\"clip961\">\n",
       "    <rect x=\"480\" y=\"0\" width=\"1681\" height=\"1600\"/>\n",
       "  </clipPath>\n",
       "</defs>\n",
       "<path clip-path=\"url(#clip960)\" d=\"M252.764 1410.9 L2352.76 1410.9 L2352.76 123.472 L252.764 123.472  Z\" fill=\"#ffffff\" fill-rule=\"evenodd\" fill-opacity=\"1\"/>\n",
       "<defs>\n",
       "  <clipPath id=\"clip962\">\n",
       "    <rect x=\"252\" y=\"123\" width=\"2101\" height=\"1288\"/>\n",
       "  </clipPath>\n",
       "</defs>\n",
       "<polyline clip-path=\"url(#clip962)\" style=\"stroke:#000000; stroke-linecap:round; stroke-linejoin:round; stroke-width:2; stroke-opacity:0.1; fill:none\" points=\"539.854,1410.9 539.854,123.472 \"/>\n",
       "<polyline clip-path=\"url(#clip962)\" style=\"stroke:#000000; stroke-linecap:round; stroke-linejoin:round; stroke-width:2; stroke-opacity:0.1; fill:none\" points=\"1271.09,1410.9 1271.09,123.472 \"/>\n",
       "<polyline clip-path=\"url(#clip962)\" style=\"stroke:#000000; stroke-linecap:round; stroke-linejoin:round; stroke-width:2; stroke-opacity:0.1; fill:none\" points=\"2002.33,1410.9 2002.33,123.472 \"/>\n",
       "<polyline clip-path=\"url(#clip960)\" style=\"stroke:#000000; stroke-linecap:round; stroke-linejoin:round; stroke-width:4; stroke-opacity:1; fill:none\" points=\"252.764,1410.9 2352.76,1410.9 \"/>\n",
       "<polyline clip-path=\"url(#clip960)\" style=\"stroke:#000000; stroke-linecap:round; stroke-linejoin:round; stroke-width:4; stroke-opacity:1; fill:none\" points=\"539.854,1410.9 539.854,1392 \"/>\n",
       "<polyline clip-path=\"url(#clip960)\" style=\"stroke:#000000; stroke-linecap:round; stroke-linejoin:round; stroke-width:4; stroke-opacity:1; fill:none\" points=\"1271.09,1410.9 1271.09,1392 \"/>\n",
       "<polyline clip-path=\"url(#clip960)\" style=\"stroke:#000000; stroke-linecap:round; stroke-linejoin:round; stroke-width:4; stroke-opacity:1; fill:none\" points=\"2002.33,1410.9 2002.33,1392 \"/>\n",
       "<path clip-path=\"url(#clip960)\" d=\"M489.735 1485.02 L497.373 1485.02 L497.373 1458.66 L489.063 1460.32 L489.063 1456.06 L497.327 1454.4 L502.003 1454.4 L502.003 1485.02 L509.642 1485.02 L509.642 1488.96 L489.735 1488.96 L489.735 1485.02 Z\" fill=\"#000000\" fill-rule=\"nonzero\" fill-opacity=\"1\" /><path clip-path=\"url(#clip960)\" d=\"M529.086 1457.48 Q525.475 1457.48 523.646 1461.04 Q521.841 1464.58 521.841 1471.71 Q521.841 1478.82 523.646 1482.38 Q525.475 1485.92 529.086 1485.92 Q532.72 1485.92 534.526 1482.38 Q536.355 1478.82 536.355 1471.71 Q536.355 1464.58 534.526 1461.04 Q532.72 1457.48 529.086 1457.48 M529.086 1453.77 Q534.896 1453.77 537.952 1458.38 Q541.031 1462.96 541.031 1471.71 Q541.031 1480.44 537.952 1485.04 Q534.896 1489.63 529.086 1489.63 Q523.276 1489.63 520.197 1485.04 Q517.142 1480.44 517.142 1471.71 Q517.142 1462.96 520.197 1458.38 Q523.276 1453.77 529.086 1453.77 Z\" fill=\"#000000\" fill-rule=\"nonzero\" fill-opacity=\"1\" /><path clip-path=\"url(#clip960)\" d=\"M541.031 1447.87 L565.142 1447.87 L565.142 1451.07 L541.031 1451.07 L541.031 1447.87 Z\" fill=\"#000000\" fill-rule=\"nonzero\" fill-opacity=\"1\" /><path clip-path=\"url(#clip960)\" d=\"M584.853 1446.41 Q587.58 1446.99 589.103 1448.83 Q590.645 1450.68 590.645 1453.38 Q590.645 1457.54 587.787 1459.82 Q584.928 1462.09 579.662 1462.09 Q577.894 1462.09 576.013 1461.73 Q574.151 1461.4 572.157 1460.7 L572.157 1457.03 Q573.737 1457.95 575.618 1458.42 Q577.499 1458.89 579.549 1458.89 Q583.122 1458.89 584.984 1457.48 Q586.865 1456.07 586.865 1453.38 Q586.865 1450.9 585.116 1449.51 Q583.386 1448.1 580.282 1448.1 L577.01 1448.1 L577.01 1444.98 L580.433 1444.98 Q583.235 1444.98 584.721 1443.87 Q586.207 1442.74 586.207 1440.63 Q586.207 1438.47 584.665 1437.32 Q583.141 1436.16 580.282 1436.16 Q578.721 1436.16 576.935 1436.49 Q575.148 1436.83 573.004 1437.55 L573.004 1434.16 Q575.167 1433.56 577.047 1433.26 Q578.947 1432.96 580.621 1432.96 Q584.947 1432.96 587.467 1434.93 Q589.987 1436.89 589.987 1440.24 Q589.987 1442.57 588.652 1444.19 Q587.316 1445.79 584.853 1446.41 Z\" fill=\"#000000\" fill-rule=\"nonzero\" fill-opacity=\"1\" /><path clip-path=\"url(#clip960)\" d=\"M1221.36 1485.02 L1229 1485.02 L1229 1458.66 L1220.69 1460.32 L1220.69 1456.06 L1228.95 1454.4 L1233.63 1454.4 L1233.63 1485.02 L1241.27 1485.02 L1241.27 1488.96 L1221.36 1488.96 L1221.36 1485.02 Z\" fill=\"#000000\" fill-rule=\"nonzero\" fill-opacity=\"1\" /><path clip-path=\"url(#clip960)\" d=\"M1260.71 1457.48 Q1257.1 1457.48 1255.27 1461.04 Q1253.47 1464.58 1253.47 1471.71 Q1253.47 1478.82 1255.27 1482.38 Q1257.1 1485.92 1260.71 1485.92 Q1264.35 1485.92 1266.15 1482.38 Q1267.98 1478.82 1267.98 1471.71 Q1267.98 1464.58 1266.15 1461.04 Q1264.35 1457.48 1260.71 1457.48 M1260.71 1453.77 Q1266.52 1453.77 1269.58 1458.38 Q1272.66 1462.96 1272.66 1471.71 Q1272.66 1480.44 1269.58 1485.04 Q1266.52 1489.63 1260.71 1489.63 Q1254.9 1489.63 1251.82 1485.04 Q1248.77 1480.44 1248.77 1471.71 Q1248.77 1462.96 1251.82 1458.38 Q1254.9 1453.77 1260.71 1453.77 Z\" fill=\"#000000\" fill-rule=\"nonzero\" fill-opacity=\"1\" /><path clip-path=\"url(#clip960)\" d=\"M1272.66 1447.87 L1296.77 1447.87 L1296.77 1451.07 L1272.66 1451.07 L1272.66 1447.87 Z\" fill=\"#000000\" fill-rule=\"nonzero\" fill-opacity=\"1\" /><path clip-path=\"url(#clip960)\" d=\"M1308.24 1458.35 L1321.5 1458.35 L1321.5 1461.55 L1303.67 1461.55 L1303.67 1458.35 Q1305.83 1456.11 1309.56 1452.35 Q1313.3 1448.57 1314.26 1447.48 Q1316.08 1445.43 1316.8 1444.02 Q1317.53 1442.59 1317.53 1441.22 Q1317.53 1438.98 1315.95 1437.57 Q1314.39 1436.16 1311.87 1436.16 Q1310.08 1436.16 1308.09 1436.78 Q1306.11 1437.4 1303.86 1438.66 L1303.86 1434.82 Q1306.15 1433.9 1308.15 1433.43 Q1310.14 1432.96 1311.79 1432.96 Q1316.16 1432.96 1318.75 1435.14 Q1321.35 1437.32 1321.35 1440.97 Q1321.35 1442.7 1320.69 1444.26 Q1320.05 1445.8 1318.34 1447.91 Q1317.87 1448.46 1315.35 1451.07 Q1312.83 1453.67 1308.24 1458.35 Z\" fill=\"#000000\" fill-rule=\"nonzero\" fill-opacity=\"1\" /><path clip-path=\"url(#clip960)\" d=\"M1952.45 1485.02 L1960.09 1485.02 L1960.09 1458.66 L1951.78 1460.32 L1951.78 1456.06 L1960.04 1454.4 L1964.72 1454.4 L1964.72 1485.02 L1972.36 1485.02 L1972.36 1488.96 L1952.45 1488.96 L1952.45 1485.02 Z\" fill=\"#000000\" fill-rule=\"nonzero\" fill-opacity=\"1\" /><path clip-path=\"url(#clip960)\" d=\"M1991.8 1457.48 Q1988.19 1457.48 1986.36 1461.04 Q1984.55 1464.58 1984.55 1471.71 Q1984.55 1478.82 1986.36 1482.38 Q1988.19 1485.92 1991.8 1485.92 Q1995.43 1485.92 1997.24 1482.38 Q1999.07 1478.82 1999.07 1471.71 Q1999.07 1464.58 1997.24 1461.04 Q1995.43 1457.48 1991.8 1457.48 M1991.8 1453.77 Q1997.61 1453.77 2000.67 1458.38 Q2003.74 1462.96 2003.74 1471.71 Q2003.74 1480.44 2000.67 1485.04 Q1997.61 1489.63 1991.8 1489.63 Q1985.99 1489.63 1982.91 1485.04 Q1979.86 1480.44 1979.86 1471.71 Q1979.86 1462.96 1982.91 1458.38 Q1985.99 1453.77 1991.8 1453.77 Z\" fill=\"#000000\" fill-rule=\"nonzero\" fill-opacity=\"1\" /><path clip-path=\"url(#clip960)\" d=\"M2003.74 1447.87 L2027.86 1447.87 L2027.86 1451.07 L2003.74 1451.07 L2003.74 1447.87 Z\" fill=\"#000000\" fill-rule=\"nonzero\" fill-opacity=\"1\" /><path clip-path=\"url(#clip960)\" d=\"M2036.71 1458.35 L2042.92 1458.35 L2042.92 1436.93 L2036.17 1438.28 L2036.17 1434.82 L2042.88 1433.47 L2046.68 1433.47 L2046.68 1458.35 L2052.89 1458.35 L2052.89 1461.55 L2036.71 1461.55 L2036.71 1458.35 Z\" fill=\"#000000\" fill-rule=\"nonzero\" fill-opacity=\"1\" /><path clip-path=\"url(#clip960)\" d=\"M1317.69 1552.67 L1317.69 1574.19 L1311.83 1574.19 L1311.83 1552.86 Q1311.83 1547.8 1309.86 1545.29 Q1307.88 1542.77 1303.94 1542.77 Q1299.2 1542.77 1296.46 1545.79 Q1293.72 1548.82 1293.72 1554.04 L1293.72 1574.19 L1287.83 1574.19 L1287.83 1524.66 L1293.72 1524.66 L1293.72 1544.08 Q1295.82 1540.86 1298.65 1539.27 Q1301.52 1537.68 1305.24 1537.68 Q1311.39 1537.68 1314.54 1541.5 Q1317.69 1545.29 1317.69 1552.67 Z\" fill=\"#000000\" fill-rule=\"nonzero\" fill-opacity=\"1\" /><polyline clip-path=\"url(#clip962)\" style=\"stroke:#000000; stroke-linecap:round; stroke-linejoin:round; stroke-width:2; stroke-opacity:0.1; fill:none\" points=\"252.764,1234.89 2352.76,1234.89 \"/>\n",
       "<polyline clip-path=\"url(#clip962)\" style=\"stroke:#000000; stroke-linecap:round; stroke-linejoin:round; stroke-width:2; stroke-opacity:0.1; fill:none\" points=\"252.764,1010.75 2352.76,1010.75 \"/>\n",
       "<polyline clip-path=\"url(#clip962)\" style=\"stroke:#000000; stroke-linecap:round; stroke-linejoin:round; stroke-width:2; stroke-opacity:0.1; fill:none\" points=\"252.764,786.598 2352.76,786.598 \"/>\n",
       "<polyline clip-path=\"url(#clip962)\" style=\"stroke:#000000; stroke-linecap:round; stroke-linejoin:round; stroke-width:2; stroke-opacity:0.1; fill:none\" points=\"252.764,562.45 2352.76,562.45 \"/>\n",
       "<polyline clip-path=\"url(#clip962)\" style=\"stroke:#000000; stroke-linecap:round; stroke-linejoin:round; stroke-width:2; stroke-opacity:0.1; fill:none\" points=\"252.764,338.303 2352.76,338.303 \"/>\n",
       "<polyline clip-path=\"url(#clip960)\" style=\"stroke:#000000; stroke-linecap:round; stroke-linejoin:round; stroke-width:4; stroke-opacity:1; fill:none\" points=\"252.764,1410.9 252.764,123.472 \"/>\n",
       "<polyline clip-path=\"url(#clip960)\" style=\"stroke:#000000; stroke-linecap:round; stroke-linejoin:round; stroke-width:4; stroke-opacity:1; fill:none\" points=\"252.764,1234.89 271.662,1234.89 \"/>\n",
       "<polyline clip-path=\"url(#clip960)\" style=\"stroke:#000000; stroke-linecap:round; stroke-linejoin:round; stroke-width:4; stroke-opacity:1; fill:none\" points=\"252.764,1010.75 271.662,1010.75 \"/>\n",
       "<polyline clip-path=\"url(#clip960)\" style=\"stroke:#000000; stroke-linecap:round; stroke-linejoin:round; stroke-width:4; stroke-opacity:1; fill:none\" points=\"252.764,786.598 271.662,786.598 \"/>\n",
       "<polyline clip-path=\"url(#clip960)\" style=\"stroke:#000000; stroke-linecap:round; stroke-linejoin:round; stroke-width:4; stroke-opacity:1; fill:none\" points=\"252.764,562.45 271.662,562.45 \"/>\n",
       "<polyline clip-path=\"url(#clip960)\" style=\"stroke:#000000; stroke-linecap:round; stroke-linejoin:round; stroke-width:4; stroke-opacity:1; fill:none\" points=\"252.764,338.303 271.662,338.303 \"/>\n",
       "<path clip-path=\"url(#clip960)\" d=\"M115.195 1254.68 L122.834 1254.68 L122.834 1228.32 L114.523 1229.99 L114.523 1225.73 L122.787 1224.06 L127.463 1224.06 L127.463 1254.68 L135.102 1254.68 L135.102 1258.62 L115.195 1258.62 L115.195 1254.68 Z\" fill=\"#000000\" fill-rule=\"nonzero\" fill-opacity=\"1\" /><path clip-path=\"url(#clip960)\" d=\"M154.546 1227.14 Q150.935 1227.14 149.107 1230.7 Q147.301 1234.25 147.301 1241.37 Q147.301 1248.48 149.107 1252.05 Q150.935 1255.59 154.546 1255.59 Q158.181 1255.59 159.986 1252.05 Q161.815 1248.48 161.815 1241.37 Q161.815 1234.25 159.986 1230.7 Q158.181 1227.14 154.546 1227.14 M154.546 1223.44 Q160.357 1223.44 163.412 1228.04 Q166.491 1232.62 166.491 1241.37 Q166.491 1250.1 163.412 1254.71 Q160.357 1259.29 154.546 1259.29 Q148.736 1259.29 145.658 1254.71 Q142.602 1250.1 142.602 1241.37 Q142.602 1232.62 145.658 1228.04 Q148.736 1223.44 154.546 1223.44 Z\" fill=\"#000000\" fill-rule=\"nonzero\" fill-opacity=\"1\" /><path clip-path=\"url(#clip960)\" d=\"M166.491 1217.54 L190.602 1217.54 L190.602 1220.73 L166.491 1220.73 L166.491 1217.54 Z\" fill=\"#000000\" fill-rule=\"nonzero\" fill-opacity=\"1\" /><path clip-path=\"url(#clip960)\" d=\"M207.398 1215.66 Q204.84 1215.66 203.335 1217.4 Q201.849 1219.15 201.849 1222.2 Q201.849 1225.23 203.335 1227 Q204.84 1228.75 207.398 1228.75 Q209.956 1228.75 211.441 1227 Q212.946 1225.23 212.946 1222.2 Q212.946 1219.15 211.441 1217.4 Q209.956 1215.66 207.398 1215.66 M214.94 1203.75 L214.94 1207.21 Q213.51 1206.53 212.043 1206.18 Q210.595 1205.82 209.166 1205.82 Q205.404 1205.82 203.41 1208.36 Q201.436 1210.9 201.153 1216.03 Q202.263 1214.4 203.937 1213.53 Q205.611 1212.65 207.623 1212.65 Q211.855 1212.65 214.3 1215.22 Q216.764 1217.78 216.764 1222.2 Q216.764 1226.53 214.206 1229.14 Q211.648 1231.76 207.398 1231.76 Q202.526 1231.76 199.95 1228.03 Q197.373 1224.29 197.373 1217.2 Q197.373 1210.54 200.533 1206.59 Q203.693 1202.62 209.015 1202.62 Q210.445 1202.62 211.893 1202.9 Q213.36 1203.19 214.94 1203.75 Z\" fill=\"#000000\" fill-rule=\"nonzero\" fill-opacity=\"1\" /><path clip-path=\"url(#clip960)\" d=\"M116.135 1030.54 L123.774 1030.54 L123.774 1004.17 L115.464 1005.84 L115.464 1001.58 L123.728 999.913 L128.404 999.913 L128.404 1030.54 L136.042 1030.54 L136.042 1034.47 L116.135 1034.47 L116.135 1030.54 Z\" fill=\"#000000\" fill-rule=\"nonzero\" fill-opacity=\"1\" /><path clip-path=\"url(#clip960)\" d=\"M155.487 1002.99 Q151.876 1002.99 150.047 1006.56 Q148.241 1010.1 148.241 1017.23 Q148.241 1024.33 150.047 1027.9 Q151.876 1031.44 155.487 1031.44 Q159.121 1031.44 160.927 1027.9 Q162.755 1024.33 162.755 1017.23 Q162.755 1010.1 160.927 1006.56 Q159.121 1002.99 155.487 1002.99 M155.487 999.288 Q161.297 999.288 164.352 1003.89 Q167.431 1008.48 167.431 1017.23 Q167.431 1025.95 164.352 1030.56 Q161.297 1035.14 155.487 1035.14 Q149.677 1035.14 146.598 1030.56 Q143.542 1025.95 143.542 1017.23 Q143.542 1008.48 146.598 1003.89 Q149.677 999.288 155.487 999.288 Z\" fill=\"#000000\" fill-rule=\"nonzero\" fill-opacity=\"1\" /><path clip-path=\"url(#clip960)\" d=\"M167.431 993.389 L191.543 993.389 L191.543 996.586 L167.431 996.586 L167.431 993.389 Z\" fill=\"#000000\" fill-rule=\"nonzero\" fill-opacity=\"1\" /><path clip-path=\"url(#clip960)\" d=\"M199.781 978.982 L214.695 978.982 L214.695 982.18 L203.26 982.18 L203.26 989.063 Q204.088 988.781 204.915 988.65 Q205.743 988.499 206.57 988.499 Q211.272 988.499 214.018 991.076 Q216.764 993.652 216.764 998.053 Q216.764 1002.59 213.943 1005.11 Q211.122 1007.61 205.987 1007.61 Q204.219 1007.61 202.376 1007.31 Q200.552 1007.01 198.596 1006.4 L198.596 1002.59 Q200.288 1003.51 202.094 1003.96 Q203.899 1004.41 205.912 1004.41 Q209.166 1004.41 211.065 1002.7 Q212.965 1000.99 212.965 998.053 Q212.965 995.119 211.065 993.408 Q209.166 991.696 205.912 991.696 Q204.388 991.696 202.865 992.035 Q201.36 992.373 199.781 993.088 L199.781 978.982 Z\" fill=\"#000000\" fill-rule=\"nonzero\" fill-opacity=\"1\" /><path clip-path=\"url(#clip960)\" d=\"M114.931 806.39 L122.57 806.39 L122.57 780.025 L114.26 781.691 L114.26 777.432 L122.524 775.765 L127.2 775.765 L127.2 806.39 L134.839 806.39 L134.839 810.325 L114.931 810.325 L114.931 806.39 Z\" fill=\"#000000\" fill-rule=\"nonzero\" fill-opacity=\"1\" /><path clip-path=\"url(#clip960)\" d=\"M154.283 778.844 Q150.672 778.844 148.843 782.409 Q147.038 785.951 147.038 793.08 Q147.038 800.187 148.843 803.751 Q150.672 807.293 154.283 807.293 Q157.917 807.293 159.723 803.751 Q161.552 800.187 161.552 793.08 Q161.552 785.951 159.723 782.409 Q157.917 778.844 154.283 778.844 M154.283 775.14 Q160.093 775.14 163.149 779.747 Q166.227 784.33 166.227 793.08 Q166.227 801.807 163.149 806.413 Q160.093 810.997 154.283 810.997 Q148.473 810.997 145.394 806.413 Q142.339 801.807 142.339 793.08 Q142.339 784.33 145.394 779.747 Q148.473 775.14 154.283 775.14 Z\" fill=\"#000000\" fill-rule=\"nonzero\" fill-opacity=\"1\" /><path clip-path=\"url(#clip960)\" d=\"M166.227 769.242 L190.339 769.242 L190.339 772.439 L166.227 772.439 L166.227 769.242 Z\" fill=\"#000000\" fill-rule=\"nonzero\" fill-opacity=\"1\" /><path clip-path=\"url(#clip960)\" d=\"M208.978 758.145 L199.386 773.135 L208.978 773.135 L208.978 758.145 M207.981 754.835 L212.758 754.835 L212.758 773.135 L216.764 773.135 L216.764 776.295 L212.758 776.295 L212.758 782.915 L208.978 782.915 L208.978 776.295 L196.301 776.295 L196.301 772.627 L207.981 754.835 Z\" fill=\"#000000\" fill-rule=\"nonzero\" fill-opacity=\"1\" /><path clip-path=\"url(#clip960)\" d=\"M115.853 582.243 L123.492 582.243 L123.492 555.877 L115.182 557.544 L115.182 553.285 L123.446 551.618 L128.121 551.618 L128.121 582.243 L135.76 582.243 L135.76 586.178 L115.853 586.178 L115.853 582.243 Z\" fill=\"#000000\" fill-rule=\"nonzero\" fill-opacity=\"1\" /><path clip-path=\"url(#clip960)\" d=\"M155.205 554.697 Q151.594 554.697 149.765 558.262 Q147.959 561.803 147.959 568.933 Q147.959 576.039 149.765 579.604 Q151.594 583.146 155.205 583.146 Q158.839 583.146 160.644 579.604 Q162.473 576.039 162.473 568.933 Q162.473 561.803 160.644 558.262 Q158.839 554.697 155.205 554.697 M155.205 550.993 Q161.015 550.993 164.07 555.599 Q167.149 560.183 167.149 568.933 Q167.149 577.66 164.07 582.266 Q161.015 586.849 155.205 586.849 Q149.395 586.849 146.316 582.266 Q143.26 577.66 143.26 568.933 Q143.26 560.183 146.316 555.599 Q149.395 550.993 155.205 550.993 Z\" fill=\"#000000\" fill-rule=\"nonzero\" fill-opacity=\"1\" /><path clip-path=\"url(#clip960)\" d=\"M167.149 545.094 L191.261 545.094 L191.261 548.292 L167.149 548.292 L167.149 545.094 Z\" fill=\"#000000\" fill-rule=\"nonzero\" fill-opacity=\"1\" /><path clip-path=\"url(#clip960)\" d=\"M210.971 543.627 Q213.698 544.21 215.222 546.054 Q216.764 547.897 216.764 550.605 Q216.764 554.762 213.905 557.037 Q211.046 559.313 205.78 559.313 Q204.012 559.313 202.132 558.956 Q200.27 558.617 198.276 557.921 L198.276 554.254 Q199.856 555.175 201.737 555.646 Q203.617 556.116 205.667 556.116 Q209.241 556.116 211.103 554.705 Q212.984 553.295 212.984 550.605 Q212.984 548.122 211.234 546.731 Q209.504 545.32 206.401 545.32 L203.128 545.32 L203.128 542.198 L206.551 542.198 Q209.354 542.198 210.84 541.088 Q212.325 539.96 212.325 537.853 Q212.325 535.691 210.783 534.543 Q209.26 533.377 206.401 533.377 Q204.84 533.377 203.053 533.716 Q201.266 534.054 199.122 534.769 L199.122 531.384 Q201.285 530.782 203.166 530.481 Q205.066 530.18 206.739 530.18 Q211.065 530.18 213.585 532.155 Q216.106 534.111 216.106 537.458 Q216.106 539.791 214.77 541.408 Q213.435 543.007 210.971 543.627 Z\" fill=\"#000000\" fill-rule=\"nonzero\" fill-opacity=\"1\" /><path clip-path=\"url(#clip960)\" d=\"M116.624 358.096 L124.263 358.096 L124.263 331.73 L115.953 333.397 L115.953 329.137 L124.217 327.471 L128.893 327.471 L128.893 358.096 L136.531 358.096 L136.531 362.031 L116.624 362.031 L116.624 358.096 Z\" fill=\"#000000\" fill-rule=\"nonzero\" fill-opacity=\"1\" /><path clip-path=\"url(#clip960)\" d=\"M155.976 330.549 Q152.365 330.549 150.536 334.114 Q148.73 337.656 148.73 344.785 Q148.73 351.892 150.536 355.457 Q152.365 358.998 155.976 358.998 Q159.61 358.998 161.416 355.457 Q163.244 351.892 163.244 344.785 Q163.244 337.656 161.416 334.114 Q159.61 330.549 155.976 330.549 M155.976 326.846 Q161.786 326.846 164.841 331.452 Q167.92 336.035 167.92 344.785 Q167.92 353.512 164.841 358.119 Q161.786 362.702 155.976 362.702 Q150.166 362.702 147.087 358.119 Q144.031 353.512 144.031 344.785 Q144.031 336.035 147.087 331.452 Q150.166 326.846 155.976 326.846 Z\" fill=\"#000000\" fill-rule=\"nonzero\" fill-opacity=\"1\" /><path clip-path=\"url(#clip960)\" d=\"M167.92 320.947 L192.032 320.947 L192.032 324.144 L167.92 324.144 L167.92 320.947 Z\" fill=\"#000000\" fill-rule=\"nonzero\" fill-opacity=\"1\" /><path clip-path=\"url(#clip960)\" d=\"M203.504 331.423 L216.764 331.423 L216.764 334.62 L198.934 334.62 L198.934 331.423 Q201.097 329.185 204.821 325.423 Q208.564 321.643 209.523 320.552 Q211.347 318.502 212.062 317.091 Q212.796 315.662 212.796 314.289 Q212.796 312.051 211.216 310.64 Q209.655 309.23 207.134 309.23 Q205.348 309.23 203.354 309.85 Q201.379 310.471 199.122 311.731 L199.122 307.894 Q201.417 306.973 203.41 306.503 Q205.404 306.032 207.059 306.032 Q211.423 306.032 214.018 308.214 Q216.613 310.396 216.613 314.045 Q216.613 315.775 215.955 317.336 Q215.316 318.878 213.604 320.985 Q213.134 321.53 210.614 324.144 Q208.094 326.74 203.504 331.423 Z\" fill=\"#000000\" fill-rule=\"nonzero\" fill-opacity=\"1\" /><path clip-path=\"url(#clip960)\" d=\"M16.4842 828.247 L16.4842 798.201 L21.895 798.201 L21.895 821.818 L35.9632 821.818 L35.9632 799.188 L41.3741 799.188 L41.3741 821.818 L58.5933 821.818 L58.5933 797.628 L64.0042 797.628 L64.0042 828.247 L16.4842 828.247 Z\" fill=\"#000000\" fill-rule=\"nonzero\" fill-opacity=\"1\" /><path clip-path=\"url(#clip960)\" d=\"M33.8307 766.659 Q33.2578 767.646 33.0032 768.824 Q32.7167 769.969 32.7167 771.37 Q32.7167 776.335 35.9632 779.009 Q39.1779 781.65 45.2253 781.65 L64.0042 781.65 L64.0042 787.539 L28.3562 787.539 L28.3562 781.65 L33.8944 781.65 Q30.6479 779.804 29.0883 776.844 Q27.4968 773.884 27.4968 769.651 Q27.4968 769.046 27.5923 768.314 Q27.656 767.582 27.8151 766.691 L33.8307 766.659 Z\" fill=\"#000000\" fill-rule=\"nonzero\" fill-opacity=\"1\" /><path clip-path=\"url(#clip960)\" d=\"M33.8307 741.005 Q33.2578 741.992 33.0032 743.17 Q32.7167 744.316 32.7167 745.716 Q32.7167 750.681 35.9632 753.355 Q39.1779 755.997 45.2253 755.997 L64.0042 755.997 L64.0042 761.885 L28.3562 761.885 L28.3562 755.997 L33.8944 755.997 Q30.6479 754.151 29.0883 751.191 Q27.4968 748.23 27.4968 743.997 Q27.4968 743.393 27.5923 742.66 Q27.656 741.928 27.8151 741.037 L33.8307 741.005 Z\" fill=\"#000000\" fill-rule=\"nonzero\" fill-opacity=\"1\" /><path clip-path=\"url(#clip960)\" d=\"M32.4621 722.481 Q32.4621 727.192 36.1542 729.929 Q39.8145 732.666 46.212 732.666 Q52.6095 732.666 56.3017 729.961 Q59.9619 727.224 59.9619 722.481 Q59.9619 717.802 56.2698 715.065 Q52.5777 712.328 46.212 712.328 Q39.8781 712.328 36.186 715.065 Q32.4621 717.802 32.4621 722.481 M27.4968 722.481 Q27.4968 714.842 32.4621 710.482 Q37.4273 706.121 46.212 706.121 Q54.9649 706.121 59.9619 710.482 Q64.9272 714.842 64.9272 722.481 Q64.9272 730.152 59.9619 734.512 Q54.9649 738.841 46.212 738.841 Q37.4273 738.841 32.4621 734.512 Q27.4968 730.152 27.4968 722.481 Z\" fill=\"#000000\" fill-rule=\"nonzero\" fill-opacity=\"1\" /><path clip-path=\"url(#clip960)\" d=\"M524.764 12.096 L563.004 12.096 L563.004 18.9825 L532.946 18.9825 L532.946 36.8875 L561.748 36.8875 L561.748 43.7741 L532.946 43.7741 L532.946 65.6895 L563.733 65.6895 L563.733 72.576 L524.764 72.576 L524.764 12.096 Z\" fill=\"#000000\" fill-rule=\"nonzero\" fill-opacity=\"1\" /><path clip-path=\"url(#clip960)\" d=\"M605.782 28.5427 L605.782 35.5912 Q602.622 33.9709 599.219 33.1607 Q595.816 32.3505 592.171 32.3505 Q586.621 32.3505 583.826 34.0519 Q581.071 35.7533 581.071 39.156 Q581.071 41.7486 583.056 43.2475 Q585.041 44.7058 591.036 46.0426 L593.588 46.6097 Q601.528 48.3111 604.85 51.4303 Q608.212 54.509 608.212 60.0587 Q608.212 66.3781 603.189 70.0644 Q598.206 73.7508 589.456 73.7508 Q585.811 73.7508 581.841 73.0216 Q577.911 72.3329 573.536 70.9151 L573.536 63.2184 Q577.668 65.3654 581.679 66.4591 Q585.689 67.5124 589.618 67.5124 Q594.885 67.5124 597.72 65.73 Q600.556 63.9071 600.556 60.6258 Q600.556 57.5877 598.49 55.9673 Q596.465 54.3469 589.537 52.8481 L586.945 52.2405 Q580.018 50.7821 576.939 47.7845 Q573.86 44.7463 573.86 39.4801 Q573.86 33.0797 578.397 29.5959 Q582.935 26.1121 591.279 26.1121 Q595.411 26.1121 599.057 26.7198 Q602.703 27.3274 605.782 28.5427 Z\" fill=\"#000000\" fill-rule=\"nonzero\" fill-opacity=\"1\" /><path clip-path=\"url(#clip960)\" d=\"M627.454 14.324 L627.454 27.2059 L642.807 27.2059 L642.807 32.9987 L627.454 32.9987 L627.454 57.6282 Q627.454 63.1779 628.953 64.7578 Q630.492 66.3376 635.151 66.3376 L642.807 66.3376 L642.807 72.576 L635.151 72.576 Q626.522 72.576 623.241 69.3758 Q619.96 66.1351 619.96 57.6282 L619.96 32.9987 L614.491 32.9987 L614.491 27.2059 L619.96 27.2059 L619.96 14.324 L627.454 14.324 Z\" fill=\"#000000\" fill-rule=\"nonzero\" fill-opacity=\"1\" /><path clip-path=\"url(#clip960)\" d=\"M651.84 54.671 L651.84 27.2059 L659.294 27.2059 L659.294 54.3874 Q659.294 60.8284 661.806 64.0691 Q664.317 67.2693 669.34 67.2693 Q675.376 67.2693 678.86 63.421 Q682.384 59.5726 682.384 52.9291 L682.384 27.2059 L689.838 27.2059 L689.838 72.576 L682.384 72.576 L682.384 65.6084 Q679.67 69.7404 676.065 71.7658 Q672.5 73.7508 667.76 73.7508 Q659.942 73.7508 655.891 68.8897 Q651.84 64.0286 651.84 54.671 M670.596 26.1121 L670.596 26.1121 Z\" fill=\"#000000\" fill-rule=\"nonzero\" fill-opacity=\"1\" /><path clip-path=\"url(#clip960)\" d=\"M735.046 34.0924 L735.046 9.54393 L742.5 9.54393 L742.5 72.576 L735.046 72.576 L735.046 65.7705 Q732.696 69.8214 729.091 71.8063 Q725.526 73.7508 720.503 73.7508 Q712.28 73.7508 707.095 67.1883 Q701.95 60.6258 701.95 49.9314 Q701.95 39.2371 707.095 32.6746 Q712.28 26.1121 720.503 26.1121 Q725.526 26.1121 729.091 28.0971 Q732.696 30.0415 735.046 34.0924 M709.647 49.9314 Q709.647 58.1548 713.009 62.8538 Q716.412 67.5124 722.326 67.5124 Q728.24 67.5124 731.643 62.8538 Q735.046 58.1548 735.046 49.9314 Q735.046 41.7081 731.643 37.0496 Q728.24 32.3505 722.326 32.3505 Q716.412 32.3505 713.009 37.0496 Q709.647 41.7081 709.647 49.9314 Z\" fill=\"#000000\" fill-rule=\"nonzero\" fill-opacity=\"1\" /><path clip-path=\"url(#clip960)\" d=\"M775.433 32.4315 Q769.438 32.4315 765.954 37.1306 Q762.471 41.7891 762.471 49.9314 Q762.471 58.0738 765.914 62.7728 Q769.398 67.4314 775.433 67.4314 Q781.388 67.4314 784.872 62.7323 Q788.356 58.0333 788.356 49.9314 Q788.356 41.8701 784.872 37.1711 Q781.388 32.4315 775.433 32.4315 M775.433 26.1121 Q785.156 26.1121 790.705 32.4315 Q796.255 38.7509 796.255 49.9314 Q796.255 61.0714 790.705 67.4314 Q785.156 73.7508 775.433 73.7508 Q765.671 73.7508 760.121 67.4314 Q754.612 61.0714 754.612 49.9314 Q754.612 38.7509 760.121 32.4315 Q765.671 26.1121 775.433 26.1121 Z\" fill=\"#000000\" fill-rule=\"nonzero\" fill-opacity=\"1\" /><path clip-path=\"url(#clip960)\" d=\"M864.837 34.0924 L864.837 9.54393 L872.291 9.54393 L872.291 72.576 L864.837 72.576 L864.837 65.7705 Q862.487 69.8214 858.882 71.8063 Q855.317 73.7508 850.294 73.7508 Q842.071 73.7508 836.886 67.1883 Q831.741 60.6258 831.741 49.9314 Q831.741 39.2371 836.886 32.6746 Q842.071 26.1121 850.294 26.1121 Q855.317 26.1121 858.882 28.0971 Q862.487 30.0415 864.837 34.0924 M839.438 49.9314 Q839.438 58.1548 842.8 62.8538 Q846.203 67.5124 852.117 67.5124 Q858.031 67.5124 861.434 62.8538 Q864.837 58.1548 864.837 49.9314 Q864.837 41.7081 861.434 37.0496 Q858.031 32.3505 852.117 32.3505 Q846.203 32.3505 842.8 37.0496 Q839.438 41.7081 839.438 49.9314 Z\" fill=\"#000000\" fill-rule=\"nonzero\" fill-opacity=\"1\" /><path clip-path=\"url(#clip960)\" d=\"M905.224 32.4315 Q899.229 32.4315 895.745 37.1306 Q892.262 41.7891 892.262 49.9314 Q892.262 58.0738 895.705 62.7728 Q899.189 67.4314 905.224 67.4314 Q911.179 67.4314 914.663 62.7323 Q918.147 58.0333 918.147 49.9314 Q918.147 41.8701 914.663 37.1711 Q911.179 32.4315 905.224 32.4315 M905.224 26.1121 Q914.947 26.1121 920.496 32.4315 Q926.046 38.7509 926.046 49.9314 Q926.046 61.0714 920.496 67.4314 Q914.947 73.7508 905.224 73.7508 Q895.462 73.7508 889.912 67.4314 Q884.403 61.0714 884.403 49.9314 Q884.403 38.7509 889.912 32.4315 Q895.462 26.1121 905.224 26.1121 Z\" fill=\"#000000\" fill-rule=\"nonzero\" fill-opacity=\"1\" /><path clip-path=\"url(#clip960)\" d=\"M1003.58 48.0275 L1003.58 51.6733 L969.31 51.6733 Q969.796 59.3701 973.928 63.421 Q978.1 67.4314 985.513 67.4314 Q989.807 67.4314 993.818 66.3781 Q997.869 65.3249 1001.84 63.2184 L1001.84 70.267 Q997.828 71.9684 993.615 72.8596 Q989.402 73.7508 985.068 73.7508 Q974.211 73.7508 967.851 67.4314 Q961.532 61.1119 961.532 50.3365 Q961.532 39.1965 967.527 32.6746 Q973.563 26.1121 983.771 26.1121 Q992.927 26.1121 998.233 32.0264 Q1003.58 37.9003 1003.58 48.0275 M996.127 45.84 Q996.046 39.7232 992.683 36.0774 Q989.362 32.4315 983.852 32.4315 Q977.614 32.4315 973.847 35.9558 Q970.12 39.4801 969.553 45.8805 L996.127 45.84 Z\" fill=\"#000000\" fill-rule=\"nonzero\" fill-opacity=\"1\" /><path clip-path=\"url(#clip960)\" d=\"M1042.1 34.1734 Q1040.85 33.4443 1039.35 33.1202 Q1037.89 32.7556 1036.11 32.7556 Q1029.79 32.7556 1026.39 36.8875 Q1023.02 40.9789 1023.02 48.6757 L1023.02 72.576 L1015.53 72.576 L1015.53 27.2059 L1023.02 27.2059 L1023.02 34.2544 Q1025.37 30.1225 1029.14 28.1376 Q1032.91 26.1121 1038.3 26.1121 Q1039.07 26.1121 1040 26.2337 Q1040.93 26.3147 1042.06 26.5172 L1042.1 34.1734 Z\" fill=\"#000000\" fill-rule=\"nonzero\" fill-opacity=\"1\" /><path clip-path=\"url(#clip960)\" d=\"M1074.75 34.1734 Q1073.5 33.4443 1072 33.1202 Q1070.54 32.7556 1068.76 32.7556 Q1062.44 32.7556 1059.04 36.8875 Q1055.68 40.9789 1055.68 48.6757 L1055.68 72.576 L1048.18 72.576 L1048.18 27.2059 L1055.68 27.2059 L1055.68 34.2544 Q1058.02 30.1225 1061.79 28.1376 Q1065.56 26.1121 1070.95 26.1121 Q1071.72 26.1121 1072.65 26.2337 Q1073.58 26.3147 1074.71 26.5172 L1074.75 34.1734 Z\" fill=\"#000000\" fill-rule=\"nonzero\" fill-opacity=\"1\" /><path clip-path=\"url(#clip960)\" d=\"M1098.33 32.4315 Q1092.34 32.4315 1088.85 37.1306 Q1085.37 41.7891 1085.37 49.9314 Q1085.37 58.0738 1088.81 62.7728 Q1092.3 67.4314 1098.33 67.4314 Q1104.29 67.4314 1107.77 62.7323 Q1111.25 58.0333 1111.25 49.9314 Q1111.25 41.8701 1107.77 37.1711 Q1104.29 32.4315 1098.33 32.4315 M1098.33 26.1121 Q1108.05 26.1121 1113.6 32.4315 Q1119.15 38.7509 1119.15 49.9314 Q1119.15 61.0714 1113.6 67.4314 Q1108.05 73.7508 1098.33 73.7508 Q1088.57 73.7508 1083.02 67.4314 Q1077.51 61.0714 1077.51 49.9314 Q1077.51 38.7509 1083.02 32.4315 Q1088.57 26.1121 1098.33 26.1121 Z\" fill=\"#000000\" fill-rule=\"nonzero\" fill-opacity=\"1\" /><path clip-path=\"url(#clip960)\" d=\"M1154.11 46.5287 L1175.95 46.5287 L1175.95 53.1722 L1154.11 53.1722 L1154.11 46.5287 Z\" fill=\"#000000\" fill-rule=\"nonzero\" fill-opacity=\"1\" /><path clip-path=\"url(#clip960)\" d=\"M1252.99 48.0275 L1252.99 51.6733 L1218.72 51.6733 Q1219.21 59.3701 1223.34 63.421 Q1227.51 67.4314 1234.93 67.4314 Q1239.22 67.4314 1243.23 66.3781 Q1247.28 65.3249 1251.25 63.2184 L1251.25 70.267 Q1247.24 71.9684 1243.03 72.8596 Q1238.82 73.7508 1234.48 73.7508 Q1223.63 73.7508 1217.27 67.4314 Q1210.95 61.1119 1210.95 50.3365 Q1210.95 39.1965 1216.94 32.6746 Q1222.98 26.1121 1233.19 26.1121 Q1242.34 26.1121 1247.65 32.0264 Q1252.99 37.9003 1252.99 48.0275 M1245.54 45.84 Q1245.46 39.7232 1242.1 36.0774 Q1238.78 32.4315 1233.27 32.4315 Q1227.03 32.4315 1223.26 35.9558 Q1219.53 39.4801 1218.97 45.8805 L1245.54 45.84 Z\" fill=\"#000000\" fill-rule=\"nonzero\" fill-opacity=\"1\" /><path clip-path=\"url(#clip960)\" d=\"M1301.48 27.2059 L1285.08 49.2833 L1302.33 72.576 L1293.54 72.576 L1280.34 54.752 L1267.13 72.576 L1258.34 72.576 L1275.96 48.8377 L1259.84 27.2059 L1268.63 27.2059 L1280.66 43.369 L1292.69 27.2059 L1301.48 27.2059 Z\" fill=\"#000000\" fill-rule=\"nonzero\" fill-opacity=\"1\" /><path clip-path=\"url(#clip960)\" d=\"M1349.12 48.0275 L1349.12 51.6733 L1314.85 51.6733 Q1315.34 59.3701 1319.47 63.421 Q1323.64 67.4314 1331.06 67.4314 Q1335.35 67.4314 1339.36 66.3781 Q1343.41 65.3249 1347.38 63.2184 L1347.38 70.267 Q1343.37 71.9684 1339.16 72.8596 Q1334.94 73.7508 1330.61 73.7508 Q1319.75 73.7508 1313.39 67.4314 Q1307.07 61.1119 1307.07 50.3365 Q1307.07 39.1965 1313.07 32.6746 Q1319.11 26.1121 1329.31 26.1121 Q1338.47 26.1121 1343.78 32.0264 Q1349.12 37.9003 1349.12 48.0275 M1341.67 45.84 Q1341.59 39.7232 1338.23 36.0774 Q1334.9 32.4315 1329.39 32.4315 Q1323.16 32.4315 1319.39 35.9558 Q1315.66 39.4801 1315.09 45.8805 L1341.67 45.84 Z\" fill=\"#000000\" fill-rule=\"nonzero\" fill-opacity=\"1\" /><path clip-path=\"url(#clip960)\" d=\"M1396.68 35.9153 Q1399.48 30.8922 1403.36 28.5022 Q1407.25 26.1121 1412.52 26.1121 Q1419.61 26.1121 1423.46 31.0947 Q1427.3 36.0368 1427.3 45.1919 L1427.3 72.576 L1419.81 72.576 L1419.81 45.4349 Q1419.81 38.913 1417.5 35.7533 Q1415.19 32.5936 1410.45 32.5936 Q1404.66 32.5936 1401.3 36.4419 Q1397.94 40.2903 1397.94 46.9338 L1397.94 72.576 L1390.44 72.576 L1390.44 45.4349 Q1390.44 38.8725 1388.13 35.7533 Q1385.82 32.5936 1381 32.5936 Q1375.29 32.5936 1371.93 36.4824 Q1368.57 40.3308 1368.57 46.9338 L1368.57 72.576 L1361.07 72.576 L1361.07 27.2059 L1368.57 27.2059 L1368.57 34.2544 Q1371.12 30.082 1374.68 28.0971 Q1378.25 26.1121 1383.15 26.1121 Q1388.09 26.1121 1391.54 28.6237 Q1395.02 31.1352 1396.68 35.9153 Z\" fill=\"#000000\" fill-rule=\"nonzero\" fill-opacity=\"1\" /><path clip-path=\"url(#clip960)\" d=\"M1449.38 65.7705 L1449.38 89.8329 L1441.89 89.8329 L1441.89 27.2059 L1449.38 27.2059 L1449.38 34.0924 Q1451.73 30.0415 1455.3 28.0971 Q1458.9 26.1121 1463.88 26.1121 Q1472.15 26.1121 1477.29 32.6746 Q1482.48 39.2371 1482.48 49.9314 Q1482.48 60.6258 1477.29 67.1883 Q1472.15 73.7508 1463.88 73.7508 Q1458.9 73.7508 1455.3 71.8063 Q1451.73 69.8214 1449.38 65.7705 M1474.74 49.9314 Q1474.74 41.7081 1471.34 37.0496 Q1467.98 32.3505 1462.06 32.3505 Q1456.15 32.3505 1452.74 37.0496 Q1449.38 41.7081 1449.38 49.9314 Q1449.38 58.1548 1452.74 62.8538 Q1456.15 67.5124 1462.06 67.5124 Q1467.98 67.5124 1471.34 62.8538 Q1474.74 58.1548 1474.74 49.9314 Z\" fill=\"#000000\" fill-rule=\"nonzero\" fill-opacity=\"1\" /><path clip-path=\"url(#clip960)\" d=\"M1494.83 9.54393 L1502.29 9.54393 L1502.29 72.576 L1494.83 72.576 L1494.83 9.54393 Z\" fill=\"#000000\" fill-rule=\"nonzero\" fill-opacity=\"1\" /><path clip-path=\"url(#clip960)\" d=\"M1535.46 32.4315 Q1529.47 32.4315 1525.99 37.1306 Q1522.5 41.7891 1522.5 49.9314 Q1522.5 58.0738 1525.94 62.7728 Q1529.43 67.4314 1535.46 67.4314 Q1541.42 67.4314 1544.9 62.7323 Q1548.39 58.0333 1548.39 49.9314 Q1548.39 41.8701 1544.9 37.1711 Q1541.42 32.4315 1535.46 32.4315 M1535.46 26.1121 Q1545.19 26.1121 1550.74 32.4315 Q1556.29 38.7509 1556.29 49.9314 Q1556.29 61.0714 1550.74 67.4314 Q1545.19 73.7508 1535.46 73.7508 Q1525.7 73.7508 1520.15 67.4314 Q1514.64 61.0714 1514.64 49.9314 Q1514.64 38.7509 1520.15 32.4315 Q1525.7 26.1121 1535.46 26.1121 Z\" fill=\"#000000\" fill-rule=\"nonzero\" fill-opacity=\"1\" /><path clip-path=\"url(#clip960)\" d=\"M1603.11 65.6895 L1631.67 65.6895 L1631.67 72.576 L1593.27 72.576 L1593.27 65.6895 Q1597.93 60.8689 1605.95 52.7671 Q1614.01 44.6248 1616.08 42.2752 Q1620.01 37.8598 1621.55 34.8216 Q1623.13 31.7429 1623.13 28.7857 Q1623.13 23.9651 1619.72 20.927 Q1616.36 17.8888 1610.93 17.8888 Q1607.08 17.8888 1602.79 19.2256 Q1598.54 20.5624 1593.68 23.2765 L1593.68 15.0127 Q1598.62 13.0277 1602.91 12.015 Q1607.21 11.0023 1610.77 11.0023 Q1620.17 11.0023 1625.76 15.7013 Q1631.35 20.4004 1631.35 28.2591 Q1631.35 31.9859 1629.93 35.3482 Q1628.55 38.6699 1624.87 43.2069 Q1623.85 44.3817 1618.43 50.0125 Q1613 55.6027 1603.11 65.6895 Z\" fill=\"#000000\" fill-rule=\"nonzero\" fill-opacity=\"1\" /><path clip-path=\"url(#clip960)\" d=\"M1670.4 46.5287 L1692.23 46.5287 L1692.23 53.1722 L1670.4 53.1722 L1670.4 46.5287 Z\" fill=\"#000000\" fill-rule=\"nonzero\" fill-opacity=\"1\" /><path clip-path=\"url(#clip960)\" d=\"M1763.12 28.9478 L1763.12 35.9153 Q1759.97 34.1734 1756.77 33.3227 Q1753.61 32.4315 1750.36 32.4315 Q1743.11 32.4315 1739.1 37.0496 Q1735.09 41.6271 1735.09 49.9314 Q1735.09 58.2358 1739.1 62.8538 Q1743.11 67.4314 1750.36 67.4314 Q1753.61 67.4314 1756.77 66.5807 Q1759.97 65.6895 1763.12 63.9476 L1763.12 70.8341 Q1760.01 72.2924 1756.64 73.0216 Q1753.32 73.7508 1749.55 73.7508 Q1739.31 73.7508 1733.27 67.3098 Q1727.23 60.8689 1727.23 49.9314 Q1727.23 38.832 1733.31 32.472 Q1739.43 26.1121 1750.04 26.1121 Q1753.48 26.1121 1756.77 26.8413 Q1760.05 27.5299 1763.12 28.9478 Z\" fill=\"#000000\" fill-rule=\"nonzero\" fill-opacity=\"1\" /><path clip-path=\"url(#clip960)\" d=\"M1796.71 49.7694 Q1787.67 49.7694 1784.19 51.8354 Q1780.71 53.9013 1780.71 58.8839 Q1780.71 62.8538 1783.3 65.2034 Q1785.93 67.5124 1790.43 67.5124 Q1796.63 67.5124 1800.35 63.1374 Q1804.12 58.7219 1804.12 51.4303 L1804.12 49.7694 L1796.71 49.7694 M1811.57 46.6907 L1811.57 72.576 L1804.12 72.576 L1804.12 65.6895 Q1801.57 69.8214 1797.76 71.8063 Q1793.95 73.7508 1788.44 73.7508 Q1781.48 73.7508 1777.34 69.8619 Q1773.25 65.9325 1773.25 59.3701 Q1773.25 51.7138 1778.36 47.825 Q1783.5 43.9361 1793.67 43.9361 L1804.12 43.9361 L1804.12 43.2069 Q1804.12 38.0623 1800.72 35.2672 Q1797.36 32.4315 1791.24 32.4315 Q1787.35 32.4315 1783.66 33.3632 Q1779.98 34.295 1776.57 36.1584 L1776.57 29.2718 Q1780.67 27.692 1784.51 26.9223 Q1788.36 26.1121 1792.01 26.1121 Q1801.85 26.1121 1806.71 31.2163 Q1811.57 36.3204 1811.57 46.6907 Z\" fill=\"#000000\" fill-rule=\"nonzero\" fill-opacity=\"1\" /><path clip-path=\"url(#clip960)\" d=\"M1855.85 28.5427 L1855.85 35.5912 Q1852.69 33.9709 1849.29 33.1607 Q1845.88 32.3505 1842.24 32.3505 Q1836.69 32.3505 1833.89 34.0519 Q1831.14 35.7533 1831.14 39.156 Q1831.14 41.7486 1833.12 43.2475 Q1835.11 44.7058 1841.1 46.0426 L1843.66 46.6097 Q1851.6 48.3111 1854.92 51.4303 Q1858.28 54.509 1858.28 60.0587 Q1858.28 66.3781 1853.26 70.0644 Q1848.27 73.7508 1839.52 73.7508 Q1835.88 73.7508 1831.91 73.0216 Q1827.98 72.3329 1823.6 70.9151 L1823.6 63.2184 Q1827.74 65.3654 1831.75 66.4591 Q1835.76 67.5124 1839.69 67.5124 Q1844.95 67.5124 1847.79 65.73 Q1850.62 63.9071 1850.62 60.6258 Q1850.62 57.5877 1848.56 55.9673 Q1846.53 54.3469 1839.61 52.8481 L1837.01 52.2405 Q1830.09 50.7821 1827.01 47.7845 Q1823.93 44.7463 1823.93 39.4801 Q1823.93 33.0797 1828.47 29.5959 Q1833 26.1121 1841.35 26.1121 Q1845.48 26.1121 1849.13 26.7198 Q1852.77 27.3274 1855.85 28.5427 Z\" fill=\"#000000\" fill-rule=\"nonzero\" fill-opacity=\"1\" /><path clip-path=\"url(#clip960)\" d=\"M1908.96 48.0275 L1908.96 51.6733 L1874.69 51.6733 Q1875.17 59.3701 1879.3 63.421 Q1883.48 67.4314 1890.89 67.4314 Q1895.18 67.4314 1899.19 66.3781 Q1903.25 65.3249 1907.22 63.2184 L1907.22 70.267 Q1903.21 71.9684 1898.99 72.8596 Q1894.78 73.7508 1890.44 73.7508 Q1879.59 73.7508 1873.23 67.4314 Q1866.91 61.1119 1866.91 50.3365 Q1866.91 39.1965 1872.9 32.6746 Q1878.94 26.1121 1889.15 26.1121 Q1898.3 26.1121 1903.61 32.0264 Q1908.96 37.9003 1908.96 48.0275 M1901.5 45.84 Q1901.42 39.7232 1898.06 36.0774 Q1894.74 32.4315 1889.23 32.4315 Q1882.99 32.4315 1879.22 35.9558 Q1875.5 39.4801 1874.93 45.8805 L1901.5 45.84 Z\" fill=\"#000000\" fill-rule=\"nonzero\" fill-opacity=\"1\" /><path clip-path=\"url(#clip960)\" d=\"M1948.53 34.9026 L2000.47 34.9026 L2000.47 41.7081 L1948.53 41.7081 L1948.53 34.9026 M1948.53 51.4303 L2000.47 51.4303 L2000.47 58.3168 L1948.53 58.3168 L1948.53 51.4303 Z\" fill=\"#000000\" fill-rule=\"nonzero\" fill-opacity=\"1\" /><path clip-path=\"url(#clip960)\" d=\"M2045.92 65.6895 L2059.29 65.6895 L2059.29 19.5497 L2044.74 22.4663 L2044.74 15.0127 L2059.21 12.096 L2067.39 12.096 L2067.39 65.6895 L2080.76 65.6895 L2080.76 72.576 L2045.92 72.576 L2045.92 65.6895 Z\" fill=\"#000000\" fill-rule=\"nonzero\" fill-opacity=\"1\" /><polyline clip-path=\"url(#clip962)\" style=\"stroke:#009af9; stroke-linecap:round; stroke-linejoin:round; stroke-width:12; stroke-opacity:1; fill:none\" points=\"2293.32,334.251 2073.2,385.472 1853.07,401.842 1632.95,406.679 1412.82,408.459 1192.7,409.09 972.573,409.366 752.448,409.49 532.323,409.548 312.198,409.576 \"/>\n",
       "<circle clip-path=\"url(#clip962)\" cx=\"2293.32\" cy=\"334.251\" r=\"14.4\" fill=\"#009af9\" fill-rule=\"evenodd\" fill-opacity=\"1\" stroke=\"#000000\" stroke-opacity=\"1\" stroke-width=\"3.2\"/>\n",
       "<circle clip-path=\"url(#clip962)\" cx=\"2073.2\" cy=\"385.472\" r=\"14.4\" fill=\"#009af9\" fill-rule=\"evenodd\" fill-opacity=\"1\" stroke=\"#000000\" stroke-opacity=\"1\" stroke-width=\"3.2\"/>\n",
       "<circle clip-path=\"url(#clip962)\" cx=\"1853.07\" cy=\"401.842\" r=\"14.4\" fill=\"#009af9\" fill-rule=\"evenodd\" fill-opacity=\"1\" stroke=\"#000000\" stroke-opacity=\"1\" stroke-width=\"3.2\"/>\n",
       "<circle clip-path=\"url(#clip962)\" cx=\"1632.95\" cy=\"406.679\" r=\"14.4\" fill=\"#009af9\" fill-rule=\"evenodd\" fill-opacity=\"1\" stroke=\"#000000\" stroke-opacity=\"1\" stroke-width=\"3.2\"/>\n",
       "<circle clip-path=\"url(#clip962)\" cx=\"1412.82\" cy=\"408.459\" r=\"14.4\" fill=\"#009af9\" fill-rule=\"evenodd\" fill-opacity=\"1\" stroke=\"#000000\" stroke-opacity=\"1\" stroke-width=\"3.2\"/>\n",
       "<circle clip-path=\"url(#clip962)\" cx=\"1192.7\" cy=\"409.09\" r=\"14.4\" fill=\"#009af9\" fill-rule=\"evenodd\" fill-opacity=\"1\" stroke=\"#000000\" stroke-opacity=\"1\" stroke-width=\"3.2\"/>\n",
       "<circle clip-path=\"url(#clip962)\" cx=\"972.573\" cy=\"409.366\" r=\"14.4\" fill=\"#009af9\" fill-rule=\"evenodd\" fill-opacity=\"1\" stroke=\"#000000\" stroke-opacity=\"1\" stroke-width=\"3.2\"/>\n",
       "<circle clip-path=\"url(#clip962)\" cx=\"752.448\" cy=\"409.49\" r=\"14.4\" fill=\"#009af9\" fill-rule=\"evenodd\" fill-opacity=\"1\" stroke=\"#000000\" stroke-opacity=\"1\" stroke-width=\"3.2\"/>\n",
       "<circle clip-path=\"url(#clip962)\" cx=\"532.323\" cy=\"409.548\" r=\"14.4\" fill=\"#009af9\" fill-rule=\"evenodd\" fill-opacity=\"1\" stroke=\"#000000\" stroke-opacity=\"1\" stroke-width=\"3.2\"/>\n",
       "<circle clip-path=\"url(#clip962)\" cx=\"312.198\" cy=\"409.576\" r=\"14.4\" fill=\"#009af9\" fill-rule=\"evenodd\" fill-opacity=\"1\" stroke=\"#000000\" stroke-opacity=\"1\" stroke-width=\"3.2\"/>\n",
       "<polyline clip-path=\"url(#clip962)\" style=\"stroke:#e26f46; stroke-linecap:round; stroke-linejoin:round; stroke-width:12; stroke-opacity:1; fill:none\" points=\"2293.32,159.909 2073.2,294.859 1853.07,429.809 1632.95,564.759 1412.82,699.709 1192.7,834.659 972.573,969.61 752.448,1104.56 532.323,1239.51 312.198,1374.46 \"/>\n",
       "<path clip-path=\"url(#clip960)\" d=\"M322.764 321.906 L621.582 321.906 L621.582 166.386 L322.764 166.386  Z\" fill=\"#ffffff\" fill-rule=\"evenodd\" fill-opacity=\"1\"/>\n",
       "<polyline clip-path=\"url(#clip960)\" style=\"stroke:#000000; stroke-linecap:round; stroke-linejoin:round; stroke-width:4; stroke-opacity:1; fill:none\" points=\"322.764,321.906 621.582,321.906 621.582,166.386 322.764,166.386 322.764,321.906 \"/>\n",
       "<polyline clip-path=\"url(#clip960)\" style=\"stroke:#009af9; stroke-linecap:round; stroke-linejoin:round; stroke-width:12; stroke-opacity:1; fill:none\" points=\"346.097,218.226 486.096,218.226 \"/>\n",
       "<circle clip-path=\"url(#clip960)\" cx=\"416.097\" cy=\"218.226\" r=\"19.4444\" fill=\"#009af9\" fill-rule=\"evenodd\" fill-opacity=\"1\" stroke=\"#000000\" stroke-opacity=\"1\" stroke-width=\"4.55111\"/>\n",
       "<path clip-path=\"url(#clip960)\" d=\"M509.43 200.946 L531.281 200.946 L531.281 204.881 L514.106 204.881 L514.106 215.113 L530.564 215.113 L530.564 219.048 L514.106 219.048 L514.106 231.571 L531.698 231.571 L531.698 235.506 L509.43 235.506 L509.43 200.946 Z\" fill=\"#000000\" fill-rule=\"nonzero\" fill-opacity=\"1\" /><path clip-path=\"url(#clip960)\" d=\"M554.221 213.562 Q553.503 213.145 552.647 212.96 Q551.814 212.752 550.795 212.752 Q547.184 212.752 545.24 215.113 Q543.318 217.451 543.318 221.849 L543.318 235.506 L539.036 235.506 L539.036 209.58 L543.318 209.58 L543.318 213.608 Q544.661 211.247 546.814 210.113 Q548.966 208.955 552.045 208.955 Q552.485 208.955 553.017 209.025 Q553.55 209.071 554.198 209.187 L554.221 213.562 Z\" fill=\"#000000\" fill-rule=\"nonzero\" fill-opacity=\"1\" /><path clip-path=\"url(#clip960)\" d=\"M572.878 213.562 Q572.161 213.145 571.304 212.96 Q570.471 212.752 569.452 212.752 Q565.841 212.752 563.897 215.113 Q561.976 217.451 561.976 221.849 L561.976 235.506 L557.693 235.506 L557.693 209.58 L561.976 209.58 L561.976 213.608 Q563.318 211.247 565.471 210.113 Q567.624 208.955 570.702 208.955 Q571.142 208.955 571.675 209.025 Q572.207 209.071 572.855 209.187 L572.878 213.562 Z\" fill=\"#000000\" fill-rule=\"nonzero\" fill-opacity=\"1\" /><path clip-path=\"url(#clip960)\" d=\"M586.351 212.567 Q582.925 212.567 580.934 215.252 Q578.943 217.914 578.943 222.567 Q578.943 227.219 580.911 229.904 Q582.901 232.566 586.351 232.566 Q589.753 232.566 591.744 229.881 Q593.735 227.196 593.735 222.567 Q593.735 217.96 591.744 215.275 Q589.753 212.567 586.351 212.567 M586.351 208.955 Q591.906 208.955 595.077 212.567 Q598.249 216.178 598.249 222.567 Q598.249 228.932 595.077 232.566 Q591.906 236.178 586.351 236.178 Q580.772 236.178 577.601 232.566 Q574.452 228.932 574.452 222.567 Q574.452 216.178 577.601 212.567 Q580.772 208.955 586.351 208.955 Z\" fill=\"#000000\" fill-rule=\"nonzero\" fill-opacity=\"1\" /><polyline clip-path=\"url(#clip960)\" style=\"stroke:#e26f46; stroke-linecap:round; stroke-linejoin:round; stroke-width:12; stroke-opacity:1; fill:none\" points=\"346.097,270.066 486.096,270.066 \"/>\n",
       "<path clip-path=\"url(#clip960)\" d=\"M531.142 271.698 L531.142 287.346 L526.883 287.346 L526.883 271.837 Q526.883 268.157 525.448 266.328 Q524.013 264.499 521.143 264.499 Q517.693 264.499 515.703 266.698 Q513.712 268.897 513.712 272.694 L513.712 287.346 L509.43 287.346 L509.43 251.328 L513.712 251.328 L513.712 265.448 Q515.24 263.11 517.3 261.953 Q519.383 260.795 522.092 260.795 Q526.559 260.795 528.851 263.573 Q531.142 266.328 531.142 271.698 Z\" fill=\"#000000\" fill-rule=\"nonzero\" fill-opacity=\"1\" /><path clip-path=\"url(#clip960)\" d=\"M541.374 269.245 L551.189 269.245 L551.189 271.883 L537.346 271.883 L537.346 269.337 Q538.133 268.62 539.592 267.323 Q547.554 260.263 547.554 258.087 Q547.554 256.559 546.351 255.633 Q545.147 254.684 543.179 254.684 Q541.976 254.684 540.564 255.101 Q539.152 255.495 537.485 256.305 L537.485 253.458 Q539.267 252.809 540.795 252.485 Q542.346 252.161 543.666 252.161 Q547.022 252.161 549.036 253.689 Q551.05 255.217 551.05 257.717 Q551.05 260.934 543.388 267.508 Q542.091 268.62 541.374 269.245 Z\" fill=\"#000000\" fill-rule=\"nonzero\" fill-opacity=\"1\" /></svg>\n"
      ]
     },
     "metadata": {},
     "output_type": "display_data"
    },
    {
     "data": {
      "text/plain": [
       "\"Tabela com os valores de h e erro - exemplo 2 - caso_C⁰ = 1\""
      ]
     },
     "metadata": {},
     "output_type": "display_data"
    },
    {
     "data": {
      "text/html": [
       "<div><div style = \"float: left;\"><span>10×2 DataFrame</span></div><div style = \"clear: both;\"></div></div><div class = \"data-frame\" style = \"overflow-x: scroll;\"><table class = \"data-frame\" style = \"margin-bottom: 6px;\"><thead><tr class = \"header\"><th class = \"rowNumber\" style = \"font-weight: bold; text-align: right;\">Row</th><th style = \"text-align: left;\">h</th><th style = \"text-align: left;\">erro</th></tr><tr class = \"subheader headerLastRow\"><th class = \"rowNumber\" style = \"font-weight: bold; text-align: right;\"></th><th title = \"Float64\" style = \"text-align: left;\">Float64</th><th title = \"Float64\" style = \"text-align: left;\">Float64</th></tr></thead><tbody><tr><td class = \"rowNumber\" style = \"font-weight: bold; text-align: right;\">1</td><td style = \"text-align: right;\">0.25</td><td style = \"text-align: right;\">0.010425</td></tr><tr><td class = \"rowNumber\" style = \"font-weight: bold; text-align: right;\">2</td><td style = \"text-align: right;\">0.125</td><td style = \"text-align: right;\">0.00615972</td></tr><tr><td class = \"rowNumber\" style = \"font-weight: bold; text-align: right;\">3</td><td style = \"text-align: right;\">0.0625</td><td style = \"text-align: right;\">0.00520631</td></tr><tr><td class = \"rowNumber\" style = \"font-weight: bold; text-align: right;\">4</td><td style = \"text-align: right;\">0.03125</td><td style = \"text-align: right;\">0.00495394</td></tr><tr><td class = \"rowNumber\" style = \"font-weight: bold; text-align: right;\">5</td><td style = \"text-align: right;\">0.015625</td><td style = \"text-align: right;\">0.0048642</td></tr><tr><td class = \"rowNumber\" style = \"font-weight: bold; text-align: right;\">6</td><td style = \"text-align: right;\">0.0078125</td><td style = \"text-align: right;\">0.00483273</td></tr><tr><td class = \"rowNumber\" style = \"font-weight: bold; text-align: right;\">7</td><td style = \"text-align: right;\">0.00390625</td><td style = \"text-align: right;\">0.00481907</td></tr><tr><td class = \"rowNumber\" style = \"font-weight: bold; text-align: right;\">8</td><td style = \"text-align: right;\">0.00195312</td><td style = \"text-align: right;\">0.00481294</td></tr><tr><td class = \"rowNumber\" style = \"font-weight: bold; text-align: right;\">9</td><td style = \"text-align: right;\">0.000976562</td><td style = \"text-align: right;\">0.00481007</td></tr><tr><td class = \"rowNumber\" style = \"font-weight: bold; text-align: right;\">10</td><td style = \"text-align: right;\">0.000488281</td><td style = \"text-align: right;\">0.00480867</td></tr></tbody></table></div>"
      ],
      "text/latex": [
       "\\begin{tabular}{r|cc}\n",
       "\t& h & erro\\\\\n",
       "\t\\hline\n",
       "\t& Float64 & Float64\\\\\n",
       "\t\\hline\n",
       "\t1 & 0.25 & 0.010425 \\\\\n",
       "\t2 & 0.125 & 0.00615972 \\\\\n",
       "\t3 & 0.0625 & 0.00520631 \\\\\n",
       "\t4 & 0.03125 & 0.00495394 \\\\\n",
       "\t5 & 0.015625 & 0.0048642 \\\\\n",
       "\t6 & 0.0078125 & 0.00483273 \\\\\n",
       "\t7 & 0.00390625 & 0.00481907 \\\\\n",
       "\t8 & 0.00195312 & 0.00481294 \\\\\n",
       "\t9 & 0.000976562 & 0.00481007 \\\\\n",
       "\t10 & 0.000488281 & 0.00480867 \\\\\n",
       "\\end{tabular}\n"
      ],
      "text/plain": [
       "\u001b[1m10×2 DataFrame\u001b[0m\n",
       "\u001b[1m Row \u001b[0m│\u001b[1m h           \u001b[0m\u001b[1m erro       \u001b[0m\n",
       "     │\u001b[90m Float64     \u001b[0m\u001b[90m Float64    \u001b[0m\n",
       "─────┼─────────────────────────\n",
       "   1 │ 0.25         0.010425\n",
       "   2 │ 0.125        0.00615972\n",
       "   3 │ 0.0625       0.00520631\n",
       "   4 │ 0.03125      0.00495394\n",
       "   5 │ 0.015625     0.0048642\n",
       "   6 │ 0.0078125    0.00483273\n",
       "   7 │ 0.00390625   0.00481907\n",
       "   8 │ 0.00195312   0.00481294\n",
       "   9 │ 0.000976562  0.00481007\n",
       "  10 │ 0.000488281  0.00480867"
      ]
     },
     "metadata": {},
     "output_type": "display_data"
    },
    {
     "name": "stdout",
     "output_type": "stream",
     "text": [
      "  8.626451 seconds (67.62 M allocations: 5.786 GiB, 12.68% gc time, 1.76% compilation time)\n"
     ]
    }
   ],
   "source": [
    "exemple = 2\n",
    "case = 1\n",
    "\n",
    "@time begin\n",
    "     vec_h, vec_errors = calcule_error(exemple, case)\n",
    "end\n",
    "\n",
    "show_error(vec_h, vec_errors, exemple, case)"
   ]
  }
 ],
 "metadata": {
  "kernelspec": {
   "display_name": "Julia 1.8.1",
   "language": "julia",
   "name": "julia-1.8"
  },
  "language_info": {
   "file_extension": ".jl",
   "mimetype": "application/julia",
   "name": "julia",
   "version": "1.8.1"
  }
 },
 "nbformat": 4,
 "nbformat_minor": 2
}
